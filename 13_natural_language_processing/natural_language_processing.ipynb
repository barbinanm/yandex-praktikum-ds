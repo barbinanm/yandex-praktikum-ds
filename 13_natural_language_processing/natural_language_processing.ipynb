{
 "cells": [
  {
   "cell_type": "markdown",
   "metadata": {},
   "source": [
    "Интернет-магазин «Викишоп» запускает новый сервис. Теперь пользователи могут редактировать и дополнять описания товаров, как в вики-сообществах. То есть клиенты предлагают свои правки и комментируют изменения других. Магазину нужен инструмент, который будет искать токсичные комментарии и отправлять их на модерацию. \n",
    "\n",
    "Обучите модель классифицировать комментарии на позитивные и негативные. В вашем распоряжении набор данных с разметкой о токсичности правок.\n",
    "\n",
    "Постройте модель со значением метрики качества *F1* не меньше 0.75. \n",
    "\n",
    "### Инструкция по выполнению проекта\n",
    "\n",
    "1. Загрузите и подготовьте данные.\n",
    "2. Обучите разные модели. \n",
    "3. Сделайте выводы.\n",
    "\n",
    "Для выполнения проекта применять *BERT* необязательно, но вы можете попробовать.\n",
    "\n",
    "### Описание данных\n",
    "\n",
    "Данные находятся в файле `toxic_comments.csv`. Столбец *text* в нём содержит текст комментария, а *toxic* — целевой признак."
   ]
  },
  {
   "cell_type": "markdown",
   "metadata": {},
   "source": [
    "# 1. Подготовка"
   ]
  },
  {
   "cell_type": "code",
   "execution_count": 1,
   "metadata": {},
   "outputs": [
    {
     "name": "stdout",
     "output_type": "stream",
     "text": [
      "Defaulting to user installation because normal site-packages is not writeable\n",
      "Requirement already satisfied: en_core_web_sm==2.3.1 from https://github.com/explosion/spacy-models/releases/download/en_core_web_sm-2.3.1/en_core_web_sm-2.3.1.tar.gz#egg=en_core_web_sm==2.3.1 in /home/jovyan/.local/lib/python3.7/site-packages (2.3.1)\n",
      "Requirement already satisfied: spacy<2.4.0,>=2.3.0 in /opt/conda/lib/python3.7/site-packages (from en_core_web_sm==2.3.1) (2.3.1)\n",
      "Requirement already satisfied: cymem<2.1.0,>=2.0.2 in /opt/conda/lib/python3.7/site-packages (from spacy<2.4.0,>=2.3.0->en_core_web_sm==2.3.1) (2.0.3)\n",
      "Requirement already satisfied: blis<0.5.0,>=0.4.0 in /opt/conda/lib/python3.7/site-packages (from spacy<2.4.0,>=2.3.0->en_core_web_sm==2.3.1) (0.4.1)\n",
      "Requirement already satisfied: murmurhash<1.1.0,>=0.28.0 in /opt/conda/lib/python3.7/site-packages (from spacy<2.4.0,>=2.3.0->en_core_web_sm==2.3.1) (1.0.2)\n",
      "Requirement already satisfied: thinc==7.4.1 in /opt/conda/lib/python3.7/site-packages (from spacy<2.4.0,>=2.3.0->en_core_web_sm==2.3.1) (7.4.1)\n",
      "Requirement already satisfied: requests<3.0.0,>=2.13.0 in /opt/conda/lib/python3.7/site-packages (from spacy<2.4.0,>=2.3.0->en_core_web_sm==2.3.1) (2.22.0)\n",
      "Requirement already satisfied: setuptools in /opt/conda/lib/python3.7/site-packages (from spacy<2.4.0,>=2.3.0->en_core_web_sm==2.3.1) (49.2.0.post20200712)\n",
      "Requirement already satisfied: tqdm<5.0.0,>=4.38.0 in /opt/conda/lib/python3.7/site-packages (from spacy<2.4.0,>=2.3.0->en_core_web_sm==2.3.1) (4.47.0)\n",
      "Requirement already satisfied: numpy>=1.15.0 in /opt/conda/lib/python3.7/site-packages (from spacy<2.4.0,>=2.3.0->en_core_web_sm==2.3.1) (1.19.0)\n",
      "Requirement already satisfied: preshed<3.1.0,>=3.0.2 in /opt/conda/lib/python3.7/site-packages (from spacy<2.4.0,>=2.3.0->en_core_web_sm==2.3.1) (3.0.2)\n",
      "Requirement already satisfied: srsly<1.1.0,>=1.0.2 in /opt/conda/lib/python3.7/site-packages (from spacy<2.4.0,>=2.3.0->en_core_web_sm==2.3.1) (1.0.2)\n",
      "Requirement already satisfied: catalogue<1.1.0,>=0.0.7 in /opt/conda/lib/python3.7/site-packages (from spacy<2.4.0,>=2.3.0->en_core_web_sm==2.3.1) (1.0.0)\n",
      "Requirement already satisfied: wasabi<1.1.0,>=0.4.0 in /opt/conda/lib/python3.7/site-packages (from spacy<2.4.0,>=2.3.0->en_core_web_sm==2.3.1) (0.7.0)\n",
      "Requirement already satisfied: plac<1.2.0,>=0.9.6 in /opt/conda/lib/python3.7/site-packages (from spacy<2.4.0,>=2.3.0->en_core_web_sm==2.3.1) (1.1.3)\n",
      "Requirement already satisfied: certifi>=2017.4.17 in /opt/conda/lib/python3.7/site-packages (from requests<3.0.0,>=2.13.0->spacy<2.4.0,>=2.3.0->en_core_web_sm==2.3.1) (2020.6.20)\n",
      "Requirement already satisfied: urllib3!=1.25.0,!=1.25.1,<1.26,>=1.21.1 in /opt/conda/lib/python3.7/site-packages (from requests<3.0.0,>=2.13.0->spacy<2.4.0,>=2.3.0->en_core_web_sm==2.3.1) (1.25.9)\n",
      "Requirement already satisfied: chardet<3.1.0,>=3.0.2 in /opt/conda/lib/python3.7/site-packages (from requests<3.0.0,>=2.13.0->spacy<2.4.0,>=2.3.0->en_core_web_sm==2.3.1) (3.0.4)\n",
      "Requirement already satisfied: idna<2.9,>=2.5 in /opt/conda/lib/python3.7/site-packages (from requests<3.0.0,>=2.13.0->spacy<2.4.0,>=2.3.0->en_core_web_sm==2.3.1) (2.8)\n",
      "Requirement already satisfied: importlib-metadata>=0.20; python_version < \"3.8\" in /opt/conda/lib/python3.7/site-packages (from catalogue<1.1.0,>=0.0.7->spacy<2.4.0,>=2.3.0->en_core_web_sm==2.3.1) (1.7.0)\n",
      "Requirement already satisfied: zipp>=0.5 in /opt/conda/lib/python3.7/site-packages (from importlib-metadata>=0.20; python_version < \"3.8\"->catalogue<1.1.0,>=0.0.7->spacy<2.4.0,>=2.3.0->en_core_web_sm==2.3.1) (3.1.0)\n",
      "\u001B[38;5;2m✔ Download and installation successful\u001B[0m\n",
      "You can now load the model via spacy.load('en_core_web_sm')\n"
     ]
    }
   ],
   "source": [
    "!python3 -m spacy download en_core_web_sm "
   ]
  },
  {
   "cell_type": "code",
   "execution_count": 1,
   "metadata": {},
   "outputs": [],
   "source": [
    "# Блок импорта\n",
    "import pandas as pd\n",
    "import re\n",
    "import math\n",
    "import numpy as np\n",
    "import matplotlib.pyplot as plt\n",
    "from pymystem3 import Mystem\n",
    "\n",
    "from spacy.lemmatizer import Lemmatizer\n",
    "from spacy.lookups import Lookups\n",
    "import spacy\n",
    "import en_core_web_sm\n",
    "\n",
    "from sklearn.feature_extraction.text import TfidfVectorizer\n",
    "from sklearn.model_selection import train_test_split\n",
    "from sklearn.model_selection import GridSearchCV\n",
    "from sklearn.metrics import f1_score\n",
    "from sklearn.metrics import make_scorer\n",
    "from sklearn.linear_model import LogisticRegression\n",
    "\n",
    "from sklearn.utils import shuffle\n",
    "\n",
    "from tqdm import tqdm\n",
    "import torch\n",
    "from transformers import BertTokenizer\n",
    "from transformers import BertModel\n",
    "from transformers import BertForMaskedLM\n",
    "import transformers\n",
    "from tqdm import notebook\n",
    "\n",
    "from sklearn.svm import SVC\n",
    "from sklearn.dummy import DummyClassifier"
   ]
  },
  {
   "cell_type": "code",
   "execution_count": 2,
   "metadata": {},
   "outputs": [],
   "source": [
    "# Поскольку лемматизация выполняется по часу и остальные операции также совсем не быстрые, для удоства после всей обработки \n",
    "# сохраним наш DF в отдельном файле\n",
    "\n",
    "PREPARED_CSV = 'prepared-text.csv'\n",
    "\n",
    "# Константа будет определять, использовать подготовленный DF или пересобирать все заново\n",
    "USE_PREPARED_CSV = True"
   ]
  },
  {
   "cell_type": "code",
   "execution_count": 4,
   "metadata": {},
   "outputs": [
    {
     "name": "stderr",
     "output_type": "stream",
     "text": [
      "[nltk_data] Downloading package stopwords to /home/jovyan/nltk_data...\n",
      "[nltk_data]   Package stopwords is already up-to-date!\n"
     ]
    }
   ],
   "source": [
    "# Получим список стоп-слов\n",
    "import nltk\n",
    "nltk.download('stopwords')\n",
    "from nltk.corpus import stopwords\n",
    "STOP_WORDS = set(stopwords.words('english'))"
   ]
  },
  {
   "cell_type": "code",
   "execution_count": 5,
   "metadata": {},
   "outputs": [],
   "source": [
    "# Определим константы\n",
    "RANDOM_STATE = 12345\n",
    "TARGET_NAME = 'toxic'"
   ]
  },
  {
   "cell_type": "code",
   "execution_count": 6,
   "metadata": {},
   "outputs": [
    {
     "data": {
      "text/html": [
       "<div>\n",
       "<style scoped>\n",
       "    .dataframe tbody tr th:only-of-type {\n",
       "        vertical-align: middle;\n",
       "    }\n",
       "\n",
       "    .dataframe tbody tr th {\n",
       "        vertical-align: top;\n",
       "    }\n",
       "\n",
       "    .dataframe thead th {\n",
       "        text-align: right;\n",
       "    }\n",
       "</style>\n",
       "<table border=\"1\" class=\"dataframe\">\n",
       "  <thead>\n",
       "    <tr style=\"text-align: right;\">\n",
       "      <th></th>\n",
       "      <th>text</th>\n",
       "      <th>toxic</th>\n",
       "    </tr>\n",
       "  </thead>\n",
       "  <tbody>\n",
       "    <tr>\n",
       "      <td>0</td>\n",
       "      <td>Explanation\\nWhy the edits made under my usern...</td>\n",
       "      <td>0</td>\n",
       "    </tr>\n",
       "    <tr>\n",
       "      <td>1</td>\n",
       "      <td>D'aww! He matches this background colour I'm s...</td>\n",
       "      <td>0</td>\n",
       "    </tr>\n",
       "    <tr>\n",
       "      <td>2</td>\n",
       "      <td>Hey man, I'm really not trying to edit war. It...</td>\n",
       "      <td>0</td>\n",
       "    </tr>\n",
       "    <tr>\n",
       "      <td>3</td>\n",
       "      <td>\"\\nMore\\nI can't make any real suggestions on ...</td>\n",
       "      <td>0</td>\n",
       "    </tr>\n",
       "    <tr>\n",
       "      <td>4</td>\n",
       "      <td>You, sir, are my hero. Any chance you remember...</td>\n",
       "      <td>0</td>\n",
       "    </tr>\n",
       "  </tbody>\n",
       "</table>\n",
       "</div>"
      ],
      "text/plain": [
       "                                                text  toxic\n",
       "0  Explanation\\nWhy the edits made under my usern...      0\n",
       "1  D'aww! He matches this background colour I'm s...      0\n",
       "2  Hey man, I'm really not trying to edit war. It...      0\n",
       "3  \"\\nMore\\nI can't make any real suggestions on ...      0\n",
       "4  You, sir, are my hero. Any chance you remember...      0"
      ]
     },
     "execution_count": 6,
     "metadata": {},
     "output_type": "execute_result"
    }
   ],
   "source": [
    "# Загрузим данные\n",
    "df = pd.read_csv('/datasets/toxic_comments.csv')\n",
    "df.head()"
   ]
  },
  {
   "cell_type": "code",
   "execution_count": 7,
   "metadata": {},
   "outputs": [],
   "source": [
    "if USE_PREPARED_CSV:\n",
    "    df = pd.read_csv(PREPARED_CSV)"
   ]
  },
  {
   "cell_type": "markdown",
   "metadata": {},
   "source": [
    "### Примерный алгоритм работы\n",
    "\n",
    "    1. Проверим баланс классов\n",
    "    2. Изучим дополнительные параметры текста\n",
    "    3. Соберем леммы из нашего текста\n",
    "    4. Очистим текст от лишних символов и приведем все к нижнему регистру для унификации\n",
    "    5. Подумаем над метапризнаками для лучшего обучения модели"
   ]
  },
  {
   "cell_type": "code",
   "execution_count": 8,
   "metadata": {
    "scrolled": true
   },
   "outputs": [
    {
     "data": {
      "text/plain": [
       "<matplotlib.axes._subplots.AxesSubplot at 0x7fa4ee023310>"
      ]
     },
     "execution_count": 8,
     "metadata": {},
     "output_type": "execute_result"
    },
    {
     "data": {
      "image/png": "[encoded data removed]",
      "text/plain": [
       "<Figure size 720x360 with 1 Axes>"
      ]
     },
     "metadata": {
      "needs_background": "light"
     },
     "output_type": "display_data"
    }
   ],
   "source": [
    "# Проверим дисбаланс\n",
    "df[TARGET_NAME].value_counts().plot(kind='bar', figsize=(10, 5))"
   ]
  },
  {
   "cell_type": "markdown",
   "metadata": {},
   "source": [
    "Внезапно имеем солидный дисбаланс классов, нужно будет учесть это при обучении."
   ]
  },
  {
   "cell_type": "code",
   "execution_count": 9,
   "metadata": {},
   "outputs": [
    {
     "data": {
      "text/plain": [
       "6"
      ]
     },
     "execution_count": 9,
     "metadata": {},
     "output_type": "execute_result"
    }
   ],
   "source": [
    "# Посмотрим на параметры текста\n",
    "min_size_all = df['text'].str.len().min()\n",
    "min_size_all"
   ]
  },
  {
   "cell_type": "code",
   "execution_count": 10,
   "metadata": {},
   "outputs": [
    {
     "data": {
      "text/plain": [
       "5000"
      ]
     },
     "execution_count": 10,
     "metadata": {},
     "output_type": "execute_result"
    }
   ],
   "source": [
    "max_size_all = df['text'].str.len().max()\n",
    "max_size_all"
   ]
  },
  {
   "cell_type": "code",
   "execution_count": 11,
   "metadata": {},
   "outputs": [
    {
     "data": {
      "text/plain": [
       "0    159312\n",
       "1       259\n",
       "Name: is_russian, dtype: int64"
      ]
     },
     "execution_count": 11,
     "metadata": {},
     "output_type": "execute_result"
    }
   ],
   "source": [
    "# Проверим, что у нас действительно только английский текст\n",
    "russian_regexp = r'[а-яА-ЯёЁ]'\n",
    "english_regexp = r'[A-Za-z]'\n",
    "\n",
    "def check_russian(value):\n",
    "    return int(re.search(russian_regexp, value) is not None)\n",
    "\n",
    "df['is_russian'] = df['text'].apply(check_russian)\n",
    "df['is_russian'].value_counts()"
   ]
  },
  {
   "cell_type": "code",
   "execution_count": 12,
   "metadata": {},
   "outputs": [
    {
     "name": "stdout",
     "output_type": "stream",
     "text": [
      "126    Ahh, Hello Witzeman \\n\\n203.92.84.161  \\nSymbols: ~ | ¡ ¿ † ‡ ↔ ↑ ↓ • ¶   # ½ ⅓ ⅔ ¼ ¾ ⅛ ⅜ ⅝ ⅞ ∞   ‘ “ ’ ” «»   ¤ ₳ ฿ ₵ ¢ ₡ ₢ $ ₫ ₯ € ₠ ₣ ƒ ₴ ₭ ₤ ℳ ₥ ₦ № ₧ ₰ £ ៛ ₨ ₪ ৳ ₮ ₩ ¥   ♠ ♣ ♥ ♦   m² m³ \\nCharacters: Á á Ć ć É é Í í Ĺ ĺ Ń ń Ó ó Ŕ ŕ Ś ś Ú ú Ý ý Ź ź   À à È è Ì ì Ò ò Ù ù   Â â Ĉ ĉ Ê ê Ĝ ĝ Ĥ ĥ Î î Ĵ ĵ Ô ô Ŝ ŝ Û û Ŵ ŵ Ŷ ŷ   Ä ä Ë ë Ï ï Ö ö Ü ü Ÿ ÿ   ß   Ã ã Ẽ ẽ Ĩ ĩ Ñ ñ Õ õ Ũ ũ Ỹ ỹ   Ç ç Ģ ģ Ķ ķ Ļ ļ Ņ ņ Ŗ ŗ Ş ş Ţ ţ   Đ đ   Ů ů   Ǎ ǎ Č č Ď ď Ě ě Ǐ ǐ Ľ ľ Ň ň Ǒ ǒ Ř ř Š š Ť ť Ǔ ǔ Ž ž   Ā ā Ē ē Ī ī Ō ō Ū ū Ȳ ȳ Ǣ ǣ   ǖ ǘ ǚ ǜ Ă ă Ĕ ĕ Ğ ğ Ĭ ĭ Ŏ ŏ Ŭ ŭ   Ċ ċ Ė ė Ġ ġ İ ı Ż ż   Ą ą Ę ę Į į Ǫ ǫ Ų ų   Ḍ ḍ Ḥ ḥ Ḷ ḷ Ḹ ḹ Ṃ ṃ Ṇ ṇ Ṛ ṛ Ṝ ṝ Ṣ ṣ Ṭ ṭ   Ł ł   Ő ő Ű ű   Ŀ ŀ   Ħ ħ   Ð ð Þ þ   Œ œ   Æ æ Ø ø Å å   Ə ə    \\nGreek: Ά ά Έ έ Ή ή Ί ί Ό ό Ύ ύ Ώ ώ   Α α Β β Γ γ Δ δ   Ε ε Ζ ζ Η η Θ θ   Ι ι Κ κ Λ λ Μ μ   Ν ν Ξ ξ Ο ο Π π   Ρ ρ Σ σ ς Τ τ Υ υ   Φ φ Χ χ Ψ ψ Ω ω    \\nCyrillic: А а Б б В в Г г   Ґ ґ Ѓ ѓ Д д Ђ ђ   Е е Ё ё Є є Ж ж   З з Ѕ ѕ И и І і   Ї ї Й й Ј ј К к   Ќ ќ Л л Љ љ М м   Н н Њ њ О о П п   Р р С с Т т Ћ ћ   У у Ў ў Ф ф Х х   Ц ц Ч ч Џ џ Ш ш   Щ щ Ъ ъ Ы ы Ь ь   Э э Ю ю Я я \\nIPA: t̪ d̪ ʈ ɖ ɟ ɡ ɢ ʡ ʔ   ɸ ʃ ʒ ɕ ʑ ʂ ʐ ʝ ɣ ʁ ʕ ʜ ʢ ɦ   ɱ ɳ ɲ ŋ ɴ   ʋ ɹ ɻ ɰ   ʙ ʀ ɾ ɽ   ɫ ɬ ɮ ɺ ɭ ʎ ʟ   ɥ ʍ ɧ   ɓ ɗ ʄ ɠ ʛ   ʘ ǀ ǃ ǂ ǁ   ɨ ʉ ɯ   ɪ ʏ ʊ   ɘ ɵ ɤ   ə ɚ   ɛ ɜ ɝ ɞ ʌ ɔ   ɐ ɶ ɑ ɒ   ʰ ʷ ʲ ˠ ˤ ⁿ ˡ   ˈ ˌ ː ˑ ̪   \\n= My Famous Article ==witze  happiness − wikipedia The Witzeman is a great honour that has been passed down through the generations of many families, regardless of race, age, character or knowledge. The outside world knows little about these elusive characters, and the honour of the Witzeman. For those who have ever been a Witzeman, it has been said to have been a great honour, although the qualities needed for the job have never been disclosed. A person may not now they were a Witzeman for many years, until they are called by former Witzemans via dreams. Associates of the Witzeman are known to be a certain Babe Cool or the much lesser known Witzewoman.\\n\\nThe Present Witzeman is an 11-year-old boy namely Benjamin Woods, who is said to have become a Witzeman after he felt this 'awesome radiance in his top-right bumcheek'. He has not told a great number of people his testimony, but has promised to do so in years to come.\\n\\n                           History\\nThe present world has only come enlightned with the knowledge of the Witzeman in present years, because former Witzemen have not been so public about the honour, to abide with the formality and conservativism in their time. The term 'Witzeman' is a compound word of the adjective Witze and 'man', witze being an 11th century term for 'a person of extreme humour and radiant intelligence'. Unfortuneatly, Witze is also sometimes associated with bad wind, for unspeakable reasons.\\n\\n                       Proper History\\nAs early as the 14th century, Witzemen were considered outcasts, and young children were encouraged to poke them with sticks. This led to the 1st Witzeman Rebellion of 1555 when the current Witzeman and his followers attempted a coup to take over the local Council chess team. This rebellion further disgraced the Witzeman, as he and his followers were embarassingly pronounced 'gaga' at a Government meeting that year. The period from here to the early 1900s was a dark time in the Witzemans history. However good times were to come for the Witzeman. Many normal people took part in mass demonstrations and protests for the Witzeman in the 1980s, building up to a great moment in the history...the Great Rebellion of 1988. This was when several Witzeman sprinted round the Visitors Gallery of the House of Commons, wearing clown masks, but otherwise completely naked. This was thought to be an act of circambulation. However many people who witnessed this shocking behaviour, were 'mentally, spiritually, and emotionallly scarred for life'. This group of people included many young children who were forced to go to asylums in a state of mental instability, suffering from trauma. It was at this time that the Government finally took positive action for the Witzeman. In 1990, a bill of rights for the Witzeman was signed, stating all Witzemen were allowed to do as they pleased. Although this was a formal agreement, many journalists viewed it as a letter of submission from the Government to the Witzeman, as the behaviour of the Witzeman and his followers became more and more twisted.\n",
      "228    http://www.users.bigpond.com/MONTDALE/page8.html  Heritage from village Κρανιώνας in macedonian Дреновени. Sources claim that the village was pure Slavic.                                                                                                                                                                                                                                                                                                                                                                                                                                                                                                                                                                                                                                                                                                                                                                                                                                                                                                                                                                                                                                                                                                                                                                                                                                                                                                                                                                                                                                                                                                                                                                                                                                                                                                                                                                                                                                                                                                                                                                                                                                                                                                                                                                                                                                                                                                                                                                                                                                                                                                                                                                                                                                                                                                                                                                                                                                                                                                                                                                                                                                                                                                                                                                                                                                                                                                                                                                                                                                                                                                                                                                                                                                                                                                                                                                                                                                                                                                                                                                                                                                                                                                                                                                                                                                                                                                                                                                                                  \n",
      "Name: text, dtype: object\n"
     ]
    }
   ],
   "source": [
    "# Посмотрим, что за русские ребята\n",
    "pd.set_option('display.max_colwidth', -1)\n",
    "print(df[df['is_russian'] == 1]['text'].head(2))"
   ]
  },
  {
   "cell_type": "code",
   "execution_count": 13,
   "metadata": {},
   "outputs": [],
   "source": [
    "# Вернем, как было\n",
    "pd.set_option('display.max_colwidth', 50)\n",
    "del df['is_russian']"
   ]
  },
  {
   "cell_type": "markdown",
   "metadata": {},
   "source": [
    "### Небольшая ремарка\n",
    "\n",
    "    1. Думаю, в итоге, можно считать, что мы работаем только с комментариями на английском\n",
    "    2. Очистим текст. Проблема в том, что оставить просто буквы будет не совсем верно, т.к. в английском языке I'm, например, превратится в Im, если заменять на пустую строку небуквенные символы. При этом, если заменять на пробел, получим I m. Т.е. букву m, которую еще нужно правильно интерпретировать. \n",
    "    \n",
    "    Тут я не знаю, как правильно поступить, но пойду вторым путем (замена на пробел + дополнительная обработка согласно правилам языка)"
   ]
  },
  {
   "cell_type": "code",
   "execution_count": 14,
   "metadata": {},
   "outputs": [
    {
     "data": {
      "text/html": [
       "<div>\n",
       "<style scoped>\n",
       "    .dataframe tbody tr th:only-of-type {\n",
       "        vertical-align: middle;\n",
       "    }\n",
       "\n",
       "    .dataframe tbody tr th {\n",
       "        vertical-align: top;\n",
       "    }\n",
       "\n",
       "    .dataframe thead th {\n",
       "        text-align: right;\n",
       "    }\n",
       "</style>\n",
       "<table border=\"1\" class=\"dataframe\">\n",
       "  <thead>\n",
       "    <tr style=\"text-align: right;\">\n",
       "      <th></th>\n",
       "      <th>text</th>\n",
       "      <th>text_prepared</th>\n",
       "    </tr>\n",
       "  </thead>\n",
       "  <tbody>\n",
       "    <tr>\n",
       "      <td>0</td>\n",
       "      <td>Explanation\\nWhy the edits made under my usern...</td>\n",
       "      <td>explanation\\nwhy the edits made under my usern...</td>\n",
       "    </tr>\n",
       "    <tr>\n",
       "      <td>1</td>\n",
       "      <td>D'aww! He matches this background colour I'm s...</td>\n",
       "      <td>d'aww! he matches this background colour i am ...</td>\n",
       "    </tr>\n",
       "    <tr>\n",
       "      <td>2</td>\n",
       "      <td>Hey man, I'm really not trying to edit war. It...</td>\n",
       "      <td>hey man, i am really not trying to edit war. i...</td>\n",
       "    </tr>\n",
       "    <tr>\n",
       "      <td>3</td>\n",
       "      <td>\"\\nMore\\nI can't make any real suggestions on ...</td>\n",
       "      <td>\"\\nmore\\ni cannot make any real suggestions on...</td>\n",
       "    </tr>\n",
       "    <tr>\n",
       "      <td>4</td>\n",
       "      <td>You, sir, are my hero. Any chance you remember...</td>\n",
       "      <td>you, sir, are my hero. any chance you remember...</td>\n",
       "    </tr>\n",
       "  </tbody>\n",
       "</table>\n",
       "</div>"
      ],
      "text/plain": [
       "                                                text  \\\n",
       "0  Explanation\\nWhy the edits made under my usern...   \n",
       "1  D'aww! He matches this background colour I'm s...   \n",
       "2  Hey man, I'm really not trying to edit war. It...   \n",
       "3  \"\\nMore\\nI can't make any real suggestions on ...   \n",
       "4  You, sir, are my hero. Any chance you remember...   \n",
       "\n",
       "                                       text_prepared  \n",
       "0  explanation\\nwhy the edits made under my usern...  \n",
       "1  d'aww! he matches this background colour i am ...  \n",
       "2  hey man, i am really not trying to edit war. i...  \n",
       "3  \"\\nmore\\ni cannot make any real suggestions on...  \n",
       "4  you, sir, are my hero. any chance you remember...  "
      ]
     },
     "execution_count": 14,
     "metadata": {},
     "output_type": "execute_result"
    }
   ],
   "source": [
    "# Создадим столбец для обработанного текста, сразу приведем к нижнему регистру\n",
    "if not USE_PREPARED_CSV:\n",
    "    df['text_prepared'] = df['text'].str.lower()\n",
    "    \n",
    "    reduction_dict = dict()\n",
    "    reduction_dict[\"i'm\"] = 'i am'\n",
    "    reduction_dict[\"i'd\"] = 'i had'\n",
    "    reduction_dict[\"i'll\"] = 'i will'\n",
    "    reduction_dict[\"i've\"] = 'i have'\n",
    "    reduction_dict[\"you're\"] = 'you are'\n",
    "    reduction_dict[\"you'd\"] = 'you had'\n",
    "    reduction_dict[\"you'll\"] = 'you will'\n",
    "    reduction_dict[\"you've\"] = 'you have'\n",
    "    reduction_dict[\"he's\"] = 'he is'\n",
    "    reduction_dict[\"he'd\"] = 'he had'\n",
    "    reduction_dict[\"he'll\"] = 'he will'\n",
    "    reduction_dict[\"she's\"] = 'she is'\n",
    "    reduction_dict[\"she'd\"] = 'she had'\n",
    "    reduction_dict[\"she'll\"] = 'she will'\n",
    "    reduction_dict[\"it's\"] = 'it is'\n",
    "    reduction_dict[\"it'll\"] = 'it will'\n",
    "    reduction_dict[\"we're\"] = 'we are'\n",
    "    reduction_dict[\"we'd\"] = 'we would'\n",
    "    reduction_dict[\"we'll\"] = 'we will'\n",
    "    reduction_dict[\"we've\"] = 'we have'\n",
    "    reduction_dict[\"they're\"] = 'they are'\n",
    "    reduction_dict[\"they'd\"] = 'they had'\n",
    "    reduction_dict[\"they'll\"] = 'they will'\n",
    "    reduction_dict[\"they've\"] = 'they have'\n",
    "    reduction_dict[\"there's\"] = 'there is'\n",
    "    reduction_dict[\"there'll\"] = 'there will'\n",
    "    reduction_dict[\"there'd\"] = 'there would'\n",
    "    reduction_dict[\"isn't\"] = 'is not'\n",
    "    reduction_dict[\"aren't\"] = 'are not'\n",
    "    reduction_dict[\"don't\"] = 'do not'\n",
    "    reduction_dict[\"doesn't\"] = 'does not'\n",
    "    reduction_dict[\"wasn't\"] = 'was not'\n",
    "    reduction_dict[\"weren't\"] = 'were not'\n",
    "    reduction_dict[\"didn't\"] = 'did not'\n",
    "    reduction_dict[\"haven't\"] = 'have not'\n",
    "    reduction_dict[\"hasn't\"] = 'has not'\n",
    "    reduction_dict[\"won't\"] = 'will not'\n",
    "    reduction_dict[\"hadn't\"] = 'had not'\n",
    "    reduction_dict[\"can't\"] = 'cannot'\n",
    "    reduction_dict[\"couldn't\"] = 'could not'\n",
    "    reduction_dict[\"mustn't\"] = 'must not'\n",
    "    reduction_dict[\"mightn't\"] = 'might not'\n",
    "    reduction_dict[\"needn't\"] = 'need not'\n",
    "    reduction_dict[\"shouldn't\"] = 'should not'\n",
    "    reduction_dict[\"oughtn't\"] = 'ought not'\n",
    "    reduction_dict[\"wouldn't\"] = 'would not'\n",
    "    reduction_dict[\"what's\"] = 'what is'\n",
    "    reduction_dict[\"how's\"] = 'how is'\n",
    "    reduction_dict[\"where's\"] = 'where is'\n",
    "\n",
    "    def uncover_reduction(string):\n",
    "        # Чтобы ускориться, заменим все символы ’ на '\n",
    "        string_tmp = string.replace('’', \"'\")\n",
    "    \n",
    "        # Чтобы не перебирать все ключи для каждой строки, для начала отсеим строки, которые вообще не содержат символы сокращений\n",
    "        if (string_tmp.find(\"'\") == -1):\n",
    "            return string_tmp\n",
    "    \n",
    "        # Даже если нашли, это могли быть просто слова в кавычках, проверим, что они попадают под сокращения\n",
    "        parts = (\"'s \", \"'t \", \"'ll \", \"'ve \", \"'m \", \"'d \", \"'re \")\n",
    "        founded = False\n",
    "        for part in parts:\n",
    "            if (string_tmp.find(part) != -1):\n",
    "                founded = True\n",
    "                break;\n",
    "    \n",
    "        # если не нашли сокращения, возвращаем строку как есть (после замены)\n",
    "        if not founded:\n",
    "            return string_tmp\n",
    "    \n",
    "        # если нашли сокращения, используем наш словарь и производим замены\n",
    "        for key, value in reduction_dict.items():\n",
    "            string_tmp = string_tmp.replace(key, value)\n",
    "        \n",
    "        return string_tmp\n",
    "\n",
    "    df['text_prepared'] = df['text_prepared'].apply(uncover_reduction)\n",
    "\n",
    "df[['text', 'text_prepared']].head()"
   ]
  },
  {
   "cell_type": "code",
   "execution_count": 15,
   "metadata": {},
   "outputs": [
    {
     "data": {
      "text/html": [
       "<div>\n",
       "<style scoped>\n",
       "    .dataframe tbody tr th:only-of-type {\n",
       "        vertical-align: middle;\n",
       "    }\n",
       "\n",
       "    .dataframe tbody tr th {\n",
       "        vertical-align: top;\n",
       "    }\n",
       "\n",
       "    .dataframe thead th {\n",
       "        text-align: right;\n",
       "    }\n",
       "</style>\n",
       "<table border=\"1\" class=\"dataframe\">\n",
       "  <thead>\n",
       "    <tr style=\"text-align: right;\">\n",
       "      <th></th>\n",
       "      <th>text</th>\n",
       "      <th>text_cleared</th>\n",
       "    </tr>\n",
       "  </thead>\n",
       "  <tbody>\n",
       "    <tr>\n",
       "      <td>0</td>\n",
       "      <td>Explanation\\nWhy the edits made under my usern...</td>\n",
       "      <td>explanation why the edits made under my userna...</td>\n",
       "    </tr>\n",
       "    <tr>\n",
       "      <td>1</td>\n",
       "      <td>D'aww! He matches this background colour I'm s...</td>\n",
       "      <td>daww he matches this background colour i am se...</td>\n",
       "    </tr>\n",
       "    <tr>\n",
       "      <td>2</td>\n",
       "      <td>Hey man, I'm really not trying to edit war. It...</td>\n",
       "      <td>hey man i am really not trying to edit war it ...</td>\n",
       "    </tr>\n",
       "    <tr>\n",
       "      <td>3</td>\n",
       "      <td>\"\\nMore\\nI can't make any real suggestions on ...</td>\n",
       "      <td>more i cannot make any real suggestions on imp...</td>\n",
       "    </tr>\n",
       "    <tr>\n",
       "      <td>4</td>\n",
       "      <td>You, sir, are my hero. Any chance you remember...</td>\n",
       "      <td>you sir are my hero any chance you remember wh...</td>\n",
       "    </tr>\n",
       "  </tbody>\n",
       "</table>\n",
       "</div>"
      ],
      "text/plain": [
       "                                                text  \\\n",
       "0  Explanation\\nWhy the edits made under my usern...   \n",
       "1  D'aww! He matches this background colour I'm s...   \n",
       "2  Hey man, I'm really not trying to edit war. It...   \n",
       "3  \"\\nMore\\nI can't make any real suggestions on ...   \n",
       "4  You, sir, are my hero. Any chance you remember...   \n",
       "\n",
       "                                        text_cleared  \n",
       "0  explanation why the edits made under my userna...  \n",
       "1  daww he matches this background colour i am se...  \n",
       "2  hey man i am really not trying to edit war it ...  \n",
       "3  more i cannot make any real suggestions on imp...  \n",
       "4  you sir are my hero any chance you remember wh...  "
      ]
     },
     "execution_count": 15,
     "metadata": {},
     "output_type": "execute_result"
    }
   ],
   "source": [
    "# Очистим текст. Только сделаем это в отдельном поле, т.к. подготовленный текст может понадобится для других моделей\n",
    "\n",
    "if not USE_PREPARED_CSV:\n",
    "    def clean_text(string):\n",
    "        string = re.sub(r\"[\\n\\r]\", \" \", string)\n",
    "        string = re.sub(r\"[^a-zA-Z ]+\", \"\", string)\n",
    "        return string.strip()\n",
    "\n",
    "    df['text_cleared'] = df['text_prepared'].apply(clean_text)\n",
    "\n",
    "df[['text', 'text_cleared']].head()"
   ]
  },
  {
   "cell_type": "code",
   "execution_count": 16,
   "metadata": {},
   "outputs": [
    {
     "name": "stdout",
     "output_type": "stream",
     "text": [
      "CPU times: user 7.47 ms, sys: 3.93 ms, total: 11.4 ms\n",
      "Wall time: 10.9 ms\n"
     ]
    },
    {
     "data": {
      "text/html": [
       "<div>\n",
       "<style scoped>\n",
       "    .dataframe tbody tr th:only-of-type {\n",
       "        vertical-align: middle;\n",
       "    }\n",
       "\n",
       "    .dataframe tbody tr th {\n",
       "        vertical-align: top;\n",
       "    }\n",
       "\n",
       "    .dataframe thead th {\n",
       "        text-align: right;\n",
       "    }\n",
       "</style>\n",
       "<table border=\"1\" class=\"dataframe\">\n",
       "  <thead>\n",
       "    <tr style=\"text-align: right;\">\n",
       "      <th></th>\n",
       "      <th>text</th>\n",
       "      <th>text_lemmas</th>\n",
       "    </tr>\n",
       "  </thead>\n",
       "  <tbody>\n",
       "    <tr>\n",
       "      <td>0</td>\n",
       "      <td>Explanation\\nWhy the edits made under my usern...</td>\n",
       "      <td>explanation edit username hardcore metallica f...</td>\n",
       "    </tr>\n",
       "    <tr>\n",
       "      <td>1</td>\n",
       "      <td>D'aww! He matches this background colour I'm s...</td>\n",
       "      <td>daww match background colour seemingly stuck t...</td>\n",
       "    </tr>\n",
       "    <tr>\n",
       "      <td>2</td>\n",
       "      <td>Hey man, I'm really not trying to edit war. It...</td>\n",
       "      <td>hey man try edit war guy constantly remove rel...</td>\n",
       "    </tr>\n",
       "    <tr>\n",
       "      <td>3</td>\n",
       "      <td>\"\\nMore\\nI can't make any real suggestions on ...</td>\n",
       "      <td>real suggestion improvement   wonder section s...</td>\n",
       "    </tr>\n",
       "    <tr>\n",
       "      <td>4</td>\n",
       "      <td>You, sir, are my hero. Any chance you remember...</td>\n",
       "      <td>sir hero chance remember page s</td>\n",
       "    </tr>\n",
       "  </tbody>\n",
       "</table>\n",
       "</div>"
      ],
      "text/plain": [
       "                                                text  \\\n",
       "0  Explanation\\nWhy the edits made under my usern...   \n",
       "1  D'aww! He matches this background colour I'm s...   \n",
       "2  Hey man, I'm really not trying to edit war. It...   \n",
       "3  \"\\nMore\\nI can't make any real suggestions on ...   \n",
       "4  You, sir, are my hero. Any chance you remember...   \n",
       "\n",
       "                                         text_lemmas  \n",
       "0  explanation edit username hardcore metallica f...  \n",
       "1  daww match background colour seemingly stuck t...  \n",
       "2  hey man try edit war guy constantly remove rel...  \n",
       "3  real suggestion improvement   wonder section s...  \n",
       "4                    sir hero chance remember page s  "
      ]
     },
     "execution_count": 16,
     "metadata": {},
     "output_type": "execute_result"
    }
   ],
   "source": [
    "%%time\n",
    "\n",
    "# Проведем лемматизацию\n",
    "if not USE_PREPARED_CSV:\n",
    "    lookups = Lookups()\n",
    "    lookups.add_table(\"lemma_rules\", {\"noun\": [[\"s\", \"\"]]})\n",
    "    lemmatizer = Lemmatizer(lookups)\n",
    "    nlp = en_core_web_sm.load()\n",
    "\n",
    "    def lemmatize(string):\n",
    "        result = []\n",
    "        for token in nlp(string):\n",
    "            # тут же очистим стоп-слова\n",
    "            if token.is_stop == False:\n",
    "                result.append(token.lemma_)\n",
    "        return ' '.join(result)\n",
    "\n",
    "    df['text_lemmas'] = df['text_cleared'].apply(lemmatize)\n",
    "\n",
    "df[['text', 'text_lemmas']].head()"
   ]
  },
  {
   "cell_type": "code",
   "execution_count": 17,
   "metadata": {},
   "outputs": [],
   "source": [
    "# Сохраним подготовленный CSV\n",
    "df.to_csv(PREPARED_CSV)"
   ]
  },
  {
   "cell_type": "code",
   "execution_count": 18,
   "metadata": {},
   "outputs": [
    {
     "data": {
      "text/html": [
       "<div>\n",
       "<style scoped>\n",
       "    .dataframe tbody tr th:only-of-type {\n",
       "        vertical-align: middle;\n",
       "    }\n",
       "\n",
       "    .dataframe tbody tr th {\n",
       "        vertical-align: top;\n",
       "    }\n",
       "\n",
       "    .dataframe thead th {\n",
       "        text-align: right;\n",
       "    }\n",
       "</style>\n",
       "<table border=\"1\" class=\"dataframe\">\n",
       "  <thead>\n",
       "    <tr style=\"text-align: right;\">\n",
       "      <th></th>\n",
       "      <th>text</th>\n",
       "      <th>char_count</th>\n",
       "      <th>words_count</th>\n",
       "      <th>words_unique_count</th>\n",
       "      <th>bad_words_count</th>\n",
       "      <th>words_len_mean</th>\n",
       "    </tr>\n",
       "  </thead>\n",
       "  <tbody>\n",
       "    <tr>\n",
       "      <td>0</td>\n",
       "      <td>Explanation\\nWhy the edits made under my usern...</td>\n",
       "      <td>264</td>\n",
       "      <td>46.0</td>\n",
       "      <td>41</td>\n",
       "      <td>14</td>\n",
       "      <td>5.162791</td>\n",
       "    </tr>\n",
       "    <tr>\n",
       "      <td>1</td>\n",
       "      <td>D'aww! He matches this background colour I'm s...</td>\n",
       "      <td>112</td>\n",
       "      <td>19.0</td>\n",
       "      <td>15</td>\n",
       "      <td>1</td>\n",
       "      <td>5.588235</td>\n",
       "    </tr>\n",
       "    <tr>\n",
       "      <td>2</td>\n",
       "      <td>Hey man, I'm really not trying to edit war. It...</td>\n",
       "      <td>233</td>\n",
       "      <td>44.0</td>\n",
       "      <td>40</td>\n",
       "      <td>18</td>\n",
       "      <td>4.571429</td>\n",
       "    </tr>\n",
       "    <tr>\n",
       "      <td>3</td>\n",
       "      <td>\"\\nMore\\nI can't make any real suggestions on ...</td>\n",
       "      <td>622</td>\n",
       "      <td>114.0</td>\n",
       "      <td>77</td>\n",
       "      <td>49</td>\n",
       "      <td>4.486726</td>\n",
       "    </tr>\n",
       "    <tr>\n",
       "      <td>4</td>\n",
       "      <td>You, sir, are my hero. Any chance you remember...</td>\n",
       "      <td>67</td>\n",
       "      <td>13.0</td>\n",
       "      <td>12</td>\n",
       "      <td>4</td>\n",
       "      <td>4.230769</td>\n",
       "    </tr>\n",
       "  </tbody>\n",
       "</table>\n",
       "</div>"
      ],
      "text/plain": [
       "                                                text  char_count  words_count  \\\n",
       "0  Explanation\\nWhy the edits made under my usern...         264         46.0   \n",
       "1  D'aww! He matches this background colour I'm s...         112         19.0   \n",
       "2  Hey man, I'm really not trying to edit war. It...         233         44.0   \n",
       "3  \"\\nMore\\nI can't make any real suggestions on ...         622        114.0   \n",
       "4  You, sir, are my hero. Any chance you remember...          67         13.0   \n",
       "\n",
       "   words_unique_count  bad_words_count  words_len_mean  \n",
       "0                  41               14        5.162791  \n",
       "1                  15                1        5.588235  \n",
       "2                  40               18        4.571429  \n",
       "3                  77               49        4.486726  \n",
       "4                  12                4        4.230769  "
      ]
     },
     "execution_count": 18,
     "metadata": {},
     "output_type": "execute_result"
    }
   ],
   "source": [
    "# Подчеркнул идею в другой работе - добавим метапризнаки по нашему тексту\n",
    "\n",
    "# Количество символов\n",
    "df['char_count'] = df['text'].str.len()\n",
    "\n",
    "# Количество слов и уникальных слов\n",
    "df['words_count'] = df['text_cleared'].str.count(' ') + 1\n",
    "\n",
    "# знаю, что можно решить проще, но пытался по разному - либо юпитер падает, либо выдает не то, что надо\n",
    "def unique_words_counter(string):\n",
    "    string = str(string)\n",
    "    return len(set(string.split()))\n",
    "\n",
    "df['words_unique_count'] = df['text_cleared'].apply(unique_words_counter)\n",
    "\n",
    "# Наличие стоп-слов\n",
    "def bad_words_counter(string):\n",
    "    string = str(string)\n",
    "    words = string.split()\n",
    "    result_counter = 0\n",
    "    for word in words:\n",
    "        if word in STOP_WORDS:\n",
    "            result_counter += 1\n",
    "    \n",
    "    return result_counter\n",
    "            \n",
    "\n",
    "df['bad_words_count'] = df['text'].apply(bad_words_counter)\n",
    "\n",
    "# Средняя длина слова\n",
    "def word_len_mean_counter(string):\n",
    "    string = str(string)\n",
    "    words = string.split()\n",
    "    return sum(len(word) for word in words) / len(words)\n",
    "\n",
    "df['words_len_mean'] = df['text'].apply(word_len_mean_counter)\n",
    "\n",
    "df[['text', 'char_count', 'words_count', 'words_unique_count', 'bad_words_count', 'words_len_mean']].head()"
   ]
  },
  {
   "cell_type": "code",
   "execution_count": null,
   "metadata": {},
   "outputs": [],
   "source": []
  },
  {
   "cell_type": "code",
   "execution_count": 19,
   "metadata": {},
   "outputs": [
    {
     "data": {
      "text/plain": [
       "<matplotlib.legend.Legend at 0x7fa4edae5f50>"
      ]
     },
     "execution_count": 19,
     "metadata": {},
     "output_type": "execute_result"
    },
    {
     "data": {
      "image/png": "[encoded data removed]",
      "text/plain": [
       "<Figure size 1152x360 with 1 Axes>"
      ]
     },
     "metadata": {
      "needs_background": "light"
     },
     "output_type": "display_data"
    }
   ],
   "source": [
    "# Выведем графики\n",
    "\n",
    "fig, ax = plt.subplots(1)\n",
    "ax.set_title('Распределение символов по комментариям')\n",
    "ax.set_xlabel('Количество символов')\n",
    "ax.set_ylabel('Количество комментариев')\n",
    "\n",
    "df['char_count'].hist(bins=range(0, 5000, 100), figsize=(16,5), alpha=0.3, ax=ax, label='All')\n",
    "df[df['toxic'] == 1]['char_count'].hist(bins=range(0, 5000, 100), figsize=(16,5), alpha=0.3, ax=ax, label='Toxic')\n",
    "df[df['toxic'] == 0]['char_count'].hist(bins=range(0, 5000, 100), figsize=(16,5), alpha=0.3, ax=ax, label='Good')\n",
    "ax.legend()"
   ]
  },
  {
   "cell_type": "code",
   "execution_count": 20,
   "metadata": {},
   "outputs": [
    {
     "data": {
      "text/plain": [
       "<matplotlib.legend.Legend at 0x7fa4e6bf9cd0>"
      ]
     },
     "execution_count": 20,
     "metadata": {},
     "output_type": "execute_result"
    },
    {
     "data": {
      "image/png": "[encoded data removed]",
      "text/plain": [
       "<Figure size 1152x360 with 1 Axes>"
      ]
     },
     "metadata": {
      "needs_background": "light"
     },
     "output_type": "display_data"
    }
   ],
   "source": [
    "fig, ax = plt.subplots(1)\n",
    "ax.set_title('Распределение слов по комментариям')\n",
    "ax.set_xlabel('Количество слов')\n",
    "ax.set_ylabel('Количество комментариев')\n",
    "\n",
    "df['words_count'].hist(bins=range(0, 1000, 100), figsize=(16,5), alpha=0.3, ax=ax, label='All')\n",
    "df[df['toxic'] == 1]['words_count'].hist(bins=range(0, 1000, 100), figsize=(16,5), alpha=0.3, ax=ax, label='Toxic')\n",
    "df[df['toxic'] == 0]['words_count'].hist(bins=range(0, 1000, 100), figsize=(16,5), alpha=0.3, ax=ax, label='Good')\n",
    "ax.legend()"
   ]
  },
  {
   "cell_type": "code",
   "execution_count": 21,
   "metadata": {},
   "outputs": [
    {
     "data": {
      "text/plain": [
       "<matplotlib.legend.Legend at 0x7fa4e6b94510>"
      ]
     },
     "execution_count": 21,
     "metadata": {},
     "output_type": "execute_result"
    },
    {
     "data": {
      "image/png": "[encoded data removed]",
      "text/plain": [
       "<Figure size 1152x360 with 1 Axes>"
      ]
     },
     "metadata": {
      "needs_background": "light"
     },
     "output_type": "display_data"
    }
   ],
   "source": [
    "fig, ax = plt.subplots(1)\n",
    "ax.set_title('Распределение слов по комментариям')\n",
    "ax.set_xlabel('Количество уникальных слов')\n",
    "ax.set_ylabel('Количество комментариев')\n",
    "\n",
    "df['words_unique_count'].hist(bins=range(1, 500, 50), figsize=(16,5), alpha=0.3, ax=ax, label='All')\n",
    "df[df['toxic'] == 1]['words_unique_count'].hist(bins=range(1, 500, 50), figsize=(16,5), alpha=0.3, ax=ax, label='Toxic')\n",
    "df[df['toxic'] == 0]['words_unique_count'].hist(bins=range(1, 500, 50), figsize=(16,5), alpha=0.3, ax=ax, label='Good')\n",
    "ax.legend()"
   ]
  },
  {
   "cell_type": "code",
   "execution_count": 22,
   "metadata": {},
   "outputs": [
    {
     "data": {
      "text/plain": [
       "<matplotlib.legend.Legend at 0x7fa4e6b0a310>"
      ]
     },
     "execution_count": 22,
     "metadata": {},
     "output_type": "execute_result"
    },
    {
     "data": {
      "image/png": "[encoded data removed]",
      "text/plain": [
       "<Figure size 1152x360 with 1 Axes>"
      ]
     },
     "metadata": {
      "needs_background": "light"
     },
     "output_type": "display_data"
    }
   ],
   "source": [
    "fig, ax = plt.subplots(1)\n",
    "ax.set_title('Распределение слов по комментариям')\n",
    "ax.set_xlabel('Количество плохих слов')\n",
    "ax.set_ylabel('Количество комментариев')\n",
    "\n",
    "df['bad_words_count'].hist(bins=range(1, 1000, 100), figsize=(16,5), alpha=0.3, ax=ax, label='All')\n",
    "df[df['toxic'] == 1]['bad_words_count'].hist(bins=range(1, 1000, 100), figsize=(16,5), alpha=0.3, ax=ax, label='Toxic')\n",
    "df[df['toxic'] == 0]['bad_words_count'].hist(bins=range(1, 1000, 100), figsize=(16,5), alpha=0.3, ax=ax, label='Good')\n",
    "ax.legend()"
   ]
  },
  {
   "cell_type": "code",
   "execution_count": 23,
   "metadata": {},
   "outputs": [
    {
     "data": {
      "text/html": [
       "<div>\n",
       "<style scoped>\n",
       "    .dataframe tbody tr th:only-of-type {\n",
       "        vertical-align: middle;\n",
       "    }\n",
       "\n",
       "    .dataframe tbody tr th {\n",
       "        vertical-align: top;\n",
       "    }\n",
       "\n",
       "    .dataframe thead th {\n",
       "        text-align: right;\n",
       "    }\n",
       "</style>\n",
       "<table border=\"1\" class=\"dataframe\">\n",
       "  <thead>\n",
       "    <tr style=\"text-align: right;\">\n",
       "      <th></th>\n",
       "      <th>Unnamed: 0</th>\n",
       "      <th>Unnamed: 0.1</th>\n",
       "      <th>Unnamed: 0.1.1</th>\n",
       "      <th>Unnamed: 0.1.1.1</th>\n",
       "      <th>Unnamed: 0.1.1.1.1</th>\n",
       "      <th>text</th>\n",
       "      <th>toxic</th>\n",
       "      <th>text_prepared</th>\n",
       "      <th>text_cleared</th>\n",
       "      <th>char_count</th>\n",
       "      <th>words_count</th>\n",
       "      <th>words_unique_count</th>\n",
       "      <th>bad_words_count</th>\n",
       "      <th>words_len_mean</th>\n",
       "      <th>text_lemmas</th>\n",
       "    </tr>\n",
       "  </thead>\n",
       "  <tbody>\n",
       "    <tr>\n",
       "      <td>154504</td>\n",
       "      <td>154504</td>\n",
       "      <td>154504</td>\n",
       "      <td>154504</td>\n",
       "      <td>154504</td>\n",
       "      <td>154504</td>\n",
       "      <td>\"\\n\\n Issue on images still unresolved \\n\\nSli...</td>\n",
       "      <td>0</td>\n",
       "      <td>\"\\n\\n issue on images still unresolved \\n\\nsli...</td>\n",
       "      <td>issue on images still unresolved   slim i am c...</td>\n",
       "      <td>4653</td>\n",
       "      <td>891.0</td>\n",
       "      <td>348</td>\n",
       "      <td>411</td>\n",
       "      <td>4.458726</td>\n",
       "      <td>issue image unresolved    slim copy message re...</td>\n",
       "    </tr>\n",
       "  </tbody>\n",
       "</table>\n",
       "</div>"
      ],
      "text/plain": [
       "        Unnamed: 0  Unnamed: 0.1  Unnamed: 0.1.1  Unnamed: 0.1.1.1  \\\n",
       "154504      154504        154504          154504            154504   \n",
       "\n",
       "        Unnamed: 0.1.1.1.1                                               text  \\\n",
       "154504              154504  \"\\n\\n Issue on images still unresolved \\n\\nSli...   \n",
       "\n",
       "        toxic                                      text_prepared  \\\n",
       "154504      0  \"\\n\\n issue on images still unresolved \\n\\nsli...   \n",
       "\n",
       "                                             text_cleared  char_count  \\\n",
       "154504  issue on images still unresolved   slim i am c...        4653   \n",
       "\n",
       "        words_count  words_unique_count  bad_words_count  words_len_mean  \\\n",
       "154504        891.0                 348              411        4.458726   \n",
       "\n",
       "                                              text_lemmas  \n",
       "154504  issue image unresolved    slim copy message re...  "
      ]
     },
     "execution_count": 23,
     "metadata": {},
     "output_type": "execute_result"
    }
   ],
   "source": [
    "# Посмотрим, что за фрукт\n",
    "df[(df['toxic'] == 0) & (df['bad_words_count'] == 411)]"
   ]
  },
  {
   "cell_type": "markdown",
   "metadata": {},
   "source": [
    "### Промежуточный вывод\n",
    "\n",
    "    Мы обработали наши данные. В целом особенных отличий плохих комментариев от хороших не особо много, но выглядит так, что токсичные комментарии обычно меньше по размеру и содержат меньше уникальных слов. По гистограммам хорошо виден дисбаланс наших классов, который мы учтем в дальнейшем."
   ]
  },
  {
   "cell_type": "markdown",
   "metadata": {},
   "source": [
    "# 2. Обучение"
   ]
  },
  {
   "cell_type": "code",
   "execution_count": 24,
   "metadata": {},
   "outputs": [
    {
     "data": {
      "text/plain": [
       "1    16225\n",
       "0    16225\n",
       "Name: toxic, dtype: int64"
      ]
     },
     "execution_count": 24,
     "metadata": {},
     "output_type": "execute_result"
    }
   ],
   "source": [
    "# Поскольку бесконечно ждать логистическую регрессию нет никакого желания, а за BERT так вообще переживается в тренажере\n",
    "# проведем сразу downsampling, вместо использования class_balanced\n",
    "# (забегая вперед, downsampling сильно улучшил метрику)\n",
    "\n",
    "df_toxic = df[df['toxic'] == 1]\n",
    "df_not_toxic = df[df['toxic'] == 0]\n",
    "\n",
    "df_downsampled = pd.concat([df_toxic] + [df_not_toxic.sample(n=16225, random_state=RANDOM_STATE)])\n",
    "df_downsampled['toxic'].value_counts()"
   ]
  },
  {
   "cell_type": "code",
   "execution_count": 25,
   "metadata": {},
   "outputs": [
    {
     "data": {
      "text/plain": [
       "((25949,), (6488,))"
      ]
     },
     "execution_count": 25,
     "metadata": {},
     "output_type": "execute_result"
    }
   ],
   "source": [
    "# Подготовим признаки\n",
    "df_downsampled = df_downsampled.dropna()\n",
    "features = df_downsampled['text_lemmas']\n",
    "target = df_downsampled['toxic']\n",
    "\n",
    "features_train, features_test, target_train, target_test = train_test_split(features, target, test_size=0.2, shuffle=True, random_state=RANDOM_STATE)\n",
    "\n",
    "features_train.shape, features_test.shape"
   ]
  },
  {
   "cell_type": "code",
   "execution_count": 26,
   "metadata": {},
   "outputs": [],
   "source": [
    "# Посмотрим на Tf-idf и логистическую регрессию\n",
    "\n",
    "count_tf_idf = TfidfVectorizer(stop_words=STOP_WORDS) \n",
    "count_tf_idf.fit(features_train) \n",
    "tf_idf = count_tf_idf.transform(features_train)\n",
    "\n",
    "# Определим scorer\n",
    "\n",
    "f1 = make_scorer(f1_score, average='macro')"
   ]
  },
  {
   "cell_type": "code",
   "execution_count": 27,
   "metadata": {},
   "outputs": [
    {
     "name": "stdout",
     "output_type": "stream",
     "text": [
      "CPU times: user 22 µs, sys: 2 µs, total: 24 µs\n",
      "Wall time: 28.8 µs\n"
     ]
    }
   ],
   "source": [
    "%%time\n",
    "\n",
    "# Посмотрим на параметры\n",
    "\n",
    "parameters = {'C': (0.1, 0.5, 1.0), 'fit_intercept': (True, False), 'solver': ('newton-cg', 'lbfgs', 'liblinear', 'sag', 'saga')}\n",
    "model = LogisticRegression(random_state=RANDOM_STATE, class_weight='balanced')\n",
    "#grid = GridSearchCV(model, parameters, cv=3, scoring=f1)\n",
    "#grid.fit(tf_idf, target_train)\n",
    "\n",
    "#grid.best_params_\n",
    "\n",
    "# Для отладки - {'C': 1.0, 'fit_intercept': True, 'solver': 'saga'}"
   ]
  },
  {
   "cell_type": "code",
   "execution_count": 28,
   "metadata": {},
   "outputs": [
    {
     "data": {
      "text/plain": [
       "0.8859188544152744"
      ]
     },
     "execution_count": 28,
     "metadata": {},
     "output_type": "execute_result"
    }
   ],
   "source": [
    "model = LogisticRegression(random_state=RANDOM_STATE, class_weight='balanced', fit_intercept=True, C=1.0, solver='saga')\n",
    "model.fit(tf_idf, target_train)\n",
    "\n",
    "tf_idf_test = count_tf_idf.transform(features_test)\n",
    "predicted = model.predict(tf_idf_test)\n",
    "\n",
    "f1_score(target_test, predicted)"
   ]
  },
  {
   "cell_type": "code",
   "execution_count": 29,
   "metadata": {},
   "outputs": [],
   "source": [
    "# Хотя мы уже получили нужный скор, задание требует того, чтобы мы использовали несколько моделей\n",
    "# Поэтому попробуем SVC\n",
    "\n",
    "parameters = {'C': (0.5, 1.0), 'kernel': ('linear', 'poly', 'rbf')}\n",
    "model = SVC(random_state=RANDOM_STATE, class_weight='balanced')\n",
    "#grid = GridSearchCV(model, parameters, cv=3, scoring=f1)\n",
    "#grid.fit(tf_idf, target_train)\n",
    "\n",
    "#grid.best_params_\n",
    "\n",
    "# Итог - {'C': 1.0, 'kernel': 'linear'}"
   ]
  },
  {
   "cell_type": "code",
   "execution_count": 30,
   "metadata": {},
   "outputs": [
    {
     "name": "stdout",
     "output_type": "stream",
     "text": [
      "CPU times: user 2min 51s, sys: 333 ms, total: 2min 51s\n",
      "Wall time: 2min 55s\n"
     ]
    },
    {
     "data": {
      "text/plain": [
       "SVC(C=1.0, cache_size=200, class_weight='balanced', coef0=0.0,\n",
       "    decision_function_shape='ovr', degree=3, gamma='auto', kernel='linear',\n",
       "    max_iter=-1, probability=False, random_state=12345, shrinking=True,\n",
       "    tol=0.001, verbose=False)"
      ]
     },
     "execution_count": 30,
     "metadata": {},
     "output_type": "execute_result"
    }
   ],
   "source": [
    "%%time\n",
    "# Обучим модель\n",
    "model = SVC(random_state=RANDOM_STATE, class_weight='balanced', C=1.0, kernel='linear', gamma='auto')\n",
    "model.fit(tf_idf, target_train)"
   ]
  },
  {
   "cell_type": "code",
   "execution_count": 31,
   "metadata": {},
   "outputs": [
    {
     "data": {
      "text/plain": [
       "0.8930599369085173"
      ]
     },
     "execution_count": 31,
     "metadata": {},
     "output_type": "execute_result"
    }
   ],
   "source": [
    "# Посмотрим, что получилось.\n",
    "predicted = model.predict(tf_idf_test)\n",
    "\n",
    "f1_score(target_test, predicted)"
   ]
  },
  {
   "cell_type": "code",
   "execution_count": 32,
   "metadata": {},
   "outputs": [
    {
     "data": {
      "text/plain": [
       "0.6699466994669947"
      ]
     },
     "execution_count": 32,
     "metadata": {},
     "output_type": "execute_result"
    }
   ],
   "source": [
    "# Проверим модель на адекватность\n",
    "dummy_clf = DummyClassifier(strategy=\"constant\", constant=1)\n",
    "dummy_clf.fit(tf_idf, target_train)\n",
    "predicted = dummy_clf.predict(tf_idf_test)\n",
    "f1_score(target_test, predicted)"
   ]
  },
  {
   "cell_type": "markdown",
   "metadata": {},
   "source": [
    "## Попробуем Bert"
   ]
  },
  {
   "cell_type": "markdown",
   "metadata": {},
   "source": [
    "## ВАЖНО\n",
    "\n",
    "<span style=\"color:blue\"> В общем, я честно пытался использовать BERT, но тренажер не вывозит даже на минимальных признаках и с разными размерами батчей. Лучший результат, что удалось достичь до того, как умирает ядро тут - https://clip2net.com/s/4a0AW2H</span>"
   ]
  },
  {
   "cell_type": "code",
   "execution_count": 33,
   "metadata": {},
   "outputs": [
    {
     "data": {
      "text/plain": [
       "1    1000\n",
       "0    1000\n",
       "Name: toxic, dtype: int64"
      ]
     },
     "execution_count": 33,
     "metadata": {},
     "output_type": "execute_result"
    }
   ],
   "source": [
    "# BERT в тренажере совсем плохо, поэтому поставим по 1000 записей и посмотрим, что будет\n",
    "\n",
    "df_toxic = df[df['toxic'] == 1]\n",
    "df_not_toxic = df[df['toxic'] == 0]\n",
    "\n",
    "df_downsampled_bert = pd.concat([df_toxic.sample(n=1000, random_state=RANDOM_STATE)] + [df_not_toxic.sample(n=1000, random_state=RANDOM_STATE)])\n",
    "df_downsampled_bert['toxic'].value_counts()"
   ]
  },
  {
   "cell_type": "code",
   "execution_count": 34,
   "metadata": {},
   "outputs": [],
   "source": [
    "# Загрузим модель\n",
    "model = BertModel.from_pretrained('bert-base-uncased')\n",
    "model.eval();\n",
    "\n",
    "tokenizer = BertTokenizer.from_pretrained('bert-base-uncased')"
   ]
  },
  {
   "cell_type": "code",
   "execution_count": 35,
   "metadata": {},
   "outputs": [
    {
     "name": "stdout",
     "output_type": "stream",
     "text": [
      "CPU times: user 4.14 s, sys: 24 µs, total: 4.14 s\n",
      "Wall time: 4.16 s\n"
     ]
    }
   ],
   "source": [
    "%%time\n",
    "tokenized = df_downsampled_bert['text_cleared'].apply(lambda x: tokenizer.encode(x, add_special_tokens=True, max_length=512))"
   ]
  },
  {
   "cell_type": "code",
   "execution_count": 36,
   "metadata": {},
   "outputs": [
    {
     "data": {
      "text/plain": [
       "(2000, 512)"
      ]
     },
     "execution_count": 36,
     "metadata": {},
     "output_type": "execute_result"
    }
   ],
   "source": [
    "max_len = 0\n",
    "for i in tokenized.values:\n",
    "    if len(i) > max_len:\n",
    "        max_len = len(i)\n",
    "        \n",
    "padded = np.array([i + [0]*(max_len - len(i)) for i in tokenized.values])\n",
    "padded.shape"
   ]
  },
  {
   "cell_type": "code",
   "execution_count": 37,
   "metadata": {},
   "outputs": [
    {
     "data": {
      "text/plain": [
       "(2000, 512)"
      ]
     },
     "execution_count": 37,
     "metadata": {},
     "output_type": "execute_result"
    }
   ],
   "source": [
    "attention_mask = np.where(padded != 0, 1, 0)\n",
    "attention_mask.shape"
   ]
  },
  {
   "cell_type": "code",
   "execution_count": 38,
   "metadata": {},
   "outputs": [],
   "source": [
    "#config = transformers.BertConfig.from_json_file(\n",
    "#    '/datasets/ds_bert/bert_config.json')\n",
    "#model = transformers.BertModel.from_pretrained(\n",
    "#    '/datasets/ds_bert/rubert_model.bin', config=config)\n",
    "\n",
    "batch_size = 50\n",
    "embeddings = []\n",
    "#for i in notebook.tqdm(range(padded.shape[0] // batch_size)):\n",
    "#        batch = torch.LongTensor(padded[batch_size*i:batch_size*(i+1)]) \n",
    "#        attention_mask_batch = torch.LongTensor(attention_mask[batch_size*i:batch_size*(i+1)])\n",
    "#        \n",
    "#        with torch.no_grad():\n",
    "#            batch_embeddings = model(batch, attention_mask=attention_mask_batch)\n",
    "#        \n",
    "#        embeddings.append(batch_embeddings[0][:,0,:].numpy())"
   ]
  },
  {
   "cell_type": "code",
   "execution_count": 39,
   "metadata": {},
   "outputs": [],
   "source": [
    "#bert_features = np.concatenate(embeddings)\n",
    "#bert_target = df_downsampled_bert['toxic']\n",
    "\n",
    "#bert_train_features, bert_test_features, bert_train_target, bert_test_target = train_test_split(bert_features, bert_target, test_size=200)\n",
    "#model.fit(bert_train_features, bert_train_target)\n",
    "#print(model.score(bert_test_features, bert_test_target))"
   ]
  },
  {
   "cell_type": "markdown",
   "metadata": {},
   "source": [
    "# 3. Выводы"
   ]
  },
  {
   "cell_type": "markdown",
   "metadata": {
    "pycharm": {
     "name": "#%% md\n"
    }
   },
   "source": [
    "Мы создали модель, которая поможет в модерации новой системы комментариев.\n",
    "Также мы исследовали отличие токсичных комментариев от нормальных. Токсичные комментарии, как правило, короче и используют меньше уникальных слов.\n",
    "\n",
    "В целом, нам удалось получить модель со значением F1 0.893 и лучше всего себя показала SVC. К сожалению, BERT так и не был побежден тренажером. В дальнейшем перенесу на локальные мощности и обновлю проект."
   ]
  }
 ],
 "metadata": {
  "kernelspec": {
   "display_name": "Python 3",
   "language": "python",
   "name": "python3"
  },
  "language_info": {
   "codemirror_mode": {
    "name": "ipython",
    "version": 3
   },
   "file_extension": ".py",
   "mimetype": "text/x-python",
   "name": "python",
   "nbconvert_exporter": "python",
   "pygments_lexer": "ipython3",
   "version": "3.7.8"
  },
  "toc": {
   "base_numbering": 1,
   "nav_menu": {},
   "number_sections": true,
   "sideBar": true,
   "skip_h1_title": true,
   "title_cell": "Table of Contents",
   "title_sidebar": "Contents",
   "toc_cell": false,
   "toc_position": {},
   "toc_section_display": true,
   "toc_window_display": false
  }
 },
 "nbformat": 4,
 "nbformat_minor": 2
}