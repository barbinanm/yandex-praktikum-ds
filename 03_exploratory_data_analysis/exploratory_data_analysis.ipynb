{
 "cells": [
  {
   "cell_type": "markdown",
   "metadata": {},
   "source": [
    "# Исследование объявлений о продаже квартир\n",
    "\n",
    "В вашем распоряжении данные сервиса Яндекс.Недвижимость — архив объявлений о продаже квартир в Санкт-Петербурге и соседних населённых пунктов за несколько лет. Нужно научиться определять рыночную стоимость объектов недвижимости. Ваша задача — установить параметры. Это позволит построить автоматизированную систему: она отследит аномалии и мошенническую деятельность. \n",
    "\n",
    "По каждой квартире на продажу доступны два вида данных. Первые вписаны пользователем, вторые — получены автоматически на основе картографических данных. Например, расстояние до центра, аэропорта, ближайшего парка и водоёма. "
   ]
  },
  {
   "cell_type": "markdown",
   "metadata": {},
   "source": [
    "### Шаг 1. Откройте файл с данными и изучите общую информацию. "
   ]
  },
  {
   "cell_type": "code",
   "execution_count": 718,
   "metadata": {},
   "outputs": [],
   "source": [
    "import pandas as pd\n",
    "df = pd.read_csv('/datasets/real_estate_data.csv', sep='\\t')"
   ]
  },
  {
   "cell_type": "code",
   "execution_count": 719,
   "metadata": {},
   "outputs": [
    {
     "name": "stdout",
     "output_type": "stream",
     "text": [
      "<class 'pandas.core.frame.DataFrame'>\n",
      "RangeIndex: 23699 entries, 0 to 23698\n",
      "Data columns (total 22 columns):\n",
      " #   Column                Non-Null Count  Dtype  \n",
      "---  ------                --------------  -----  \n",
      " 0   total_images          23699 non-null  int64  \n",
      " 1   last_price            23699 non-null  float64\n",
      " 2   total_area            23699 non-null  float64\n",
      " 3   first_day_exposition  23699 non-null  object \n",
      " 4   rooms                 23699 non-null  int64  \n",
      " 5   ceiling_height        14504 non-null  float64\n",
      " 6   floors_total          23613 non-null  float64\n",
      " 7   living_area           21796 non-null  float64\n",
      " 8   floor                 23699 non-null  int64  \n",
      " 9   is_apartment          2775 non-null   object \n",
      " 10  studio                23699 non-null  bool   \n",
      " 11  open_plan             23699 non-null  bool   \n",
      " 12  kitchen_area          21421 non-null  float64\n",
      " 13  balcony               12180 non-null  float64\n",
      " 14  locality_name         23650 non-null  object \n",
      " 15  airports_nearest      18157 non-null  float64\n",
      " 16  cityCenters_nearest   18180 non-null  float64\n",
      " 17  parks_around3000      18181 non-null  float64\n",
      " 18  parks_nearest         8079 non-null   float64\n",
      " 19  ponds_around3000      18181 non-null  float64\n",
      " 20  ponds_nearest         9110 non-null   float64\n",
      " 21  days_exposition       20518 non-null  float64\n",
      "dtypes: bool(2), float64(14), int64(3), object(3)\n",
      "memory usage: 3.7+ MB\n"
     ]
    }
   ],
   "source": [
    "# посмотрим общую информацию\n",
    "df.info()"
   ]
  },
  {
   "cell_type": "markdown",
   "metadata": {},
   "source": [
    "Соберем общую информацию:\n",
    "\n",
    "- total_images - 23699 - int64 - число фотографий квартиры в объявлении\n",
    "- last_price - 23699 - float64 - цена на момент снятия с публикации\n",
    "- total_area - 23699 - float64 - площадь квартиры в квадратных метрах (м²)\n",
    "- first_day_exposition - 23699 - object - дата публикации (д.б. datetime)\n",
    "- rooms - 23699 - int64 - число комнат\n",
    "- ceiling_height - 14504 - float64 - высота потолков в метрах\n",
    "- floors_total - 23613 - float64 - всего этажей в доме\n",
    "- living_area - 21796 - float64 - жилая площадь в квадратных метрах(м²)\n",
    "- floor - 23699 - int64 - этаж\n",
    "- is_apartment - 2775 - object - апартаменты (булев тип)\n",
    "- studio - 23699 - bool - квартира-студия (булев тип)\n",
    "- open_plan - 23699 - bool - свободная планировка (булев тип)\n",
    "- kitchen_area - 21421 - float64 - площадь кухни в квадратных метрах (м²)\n",
    "- balcony - 12180 - float64 - число балконов (д.б. int)\n",
    "- locality_name - 23650 - object - название населённого пункта\n",
    "- airports_nearest - 18157 - float64 - расстояние до ближайшего аэропорта в метрах (м)\n",
    "- cityCenters_nearest - 18180 - float64 - расстояние до центра города (м)\n",
    "- parks_around3000 - 18181 - float64 - число парков в радиусе 3 км\n",
    "- parks_nearest - 8079 - float64 - расстояние до ближайшего парка (м)\n",
    "- ponds_around3000 - 18181 - float64 - число водоёмов в радиусе 3 км\n",
    "- ponds_nearest - 9110 - float64 - расстояние до ближайшего водоёма (м)\n",
    "- days_exposition - 20518 - float64 - сколько дней было размещено объявление (от публикации до снятия)"
   ]
  },
  {
   "cell_type": "code",
   "execution_count": 720,
   "metadata": {},
   "outputs": [
    {
     "name": "stdout",
     "output_type": "stream",
     "text": [
      "Index(['total_images', 'last_price', 'total_area', 'first_day_exposition',\n",
      "       'rooms', 'ceiling_height', 'floors_total', 'living_area', 'floor',\n",
      "       'is_apartment', 'studio', 'open_plan', 'kitchen_area', 'balcony',\n",
      "       'locality_name', 'airports_nearest', 'cityCenters_nearest',\n",
      "       'parks_around3000', 'parks_nearest', 'ponds_around3000',\n",
      "       'ponds_nearest', 'days_exposition'],\n",
      "      dtype='object')\n"
     ]
    }
   ],
   "source": [
    "# Посмотрим список колонок (наличие лишних пробелов и тд)\n",
    "print(df.columns)"
   ]
  },
  {
   "cell_type": "code",
   "execution_count": 721,
   "metadata": {},
   "outputs": [
    {
     "data": {
      "text/html": [
       "<div>\n",
       "<style scoped>\n",
       "    .dataframe tbody tr th:only-of-type {\n",
       "        vertical-align: middle;\n",
       "    }\n",
       "\n",
       "    .dataframe tbody tr th {\n",
       "        vertical-align: top;\n",
       "    }\n",
       "\n",
       "    .dataframe thead th {\n",
       "        text-align: right;\n",
       "    }\n",
       "</style>\n",
       "<table border=\"1\" class=\"dataframe\">\n",
       "  <thead>\n",
       "    <tr style=\"text-align: right;\">\n",
       "      <th></th>\n",
       "      <th>total_images</th>\n",
       "      <th>last_price</th>\n",
       "      <th>total_area</th>\n",
       "      <th>first_day_exposition</th>\n",
       "      <th>rooms</th>\n",
       "      <th>ceiling_height</th>\n",
       "      <th>floors_total</th>\n",
       "      <th>living_area</th>\n",
       "      <th>floor</th>\n",
       "      <th>is_apartment</th>\n",
       "      <th>studio</th>\n",
       "      <th>open_plan</th>\n",
       "      <th>kitchen_area</th>\n",
       "      <th>balcony</th>\n",
       "      <th>locality_name</th>\n",
       "      <th>airports_nearest</th>\n",
       "      <th>cityCenters_nearest</th>\n",
       "      <th>parks_around3000</th>\n",
       "      <th>parks_nearest</th>\n",
       "      <th>ponds_around3000</th>\n",
       "      <th>ponds_nearest</th>\n",
       "      <th>days_exposition</th>\n",
       "    </tr>\n",
       "  </thead>\n",
       "  <tbody>\n",
       "    <tr>\n",
       "      <th>0</th>\n",
       "      <td>20</td>\n",
       "      <td>13000000.0</td>\n",
       "      <td>108.00</td>\n",
       "      <td>2019-03-07T00:00:00</td>\n",
       "      <td>3</td>\n",
       "      <td>2.70</td>\n",
       "      <td>16.0</td>\n",
       "      <td>51.00</td>\n",
       "      <td>8</td>\n",
       "      <td>NaN</td>\n",
       "      <td>False</td>\n",
       "      <td>False</td>\n",
       "      <td>25.00</td>\n",
       "      <td>NaN</td>\n",
       "      <td>Санкт-Петербург</td>\n",
       "      <td>18863.0</td>\n",
       "      <td>16028.0</td>\n",
       "      <td>1.0</td>\n",
       "      <td>482.0</td>\n",
       "      <td>2.0</td>\n",
       "      <td>755.0</td>\n",
       "      <td>NaN</td>\n",
       "    </tr>\n",
       "    <tr>\n",
       "      <th>1</th>\n",
       "      <td>7</td>\n",
       "      <td>3350000.0</td>\n",
       "      <td>40.40</td>\n",
       "      <td>2018-12-04T00:00:00</td>\n",
       "      <td>1</td>\n",
       "      <td>NaN</td>\n",
       "      <td>11.0</td>\n",
       "      <td>18.60</td>\n",
       "      <td>1</td>\n",
       "      <td>NaN</td>\n",
       "      <td>False</td>\n",
       "      <td>False</td>\n",
       "      <td>11.00</td>\n",
       "      <td>2.0</td>\n",
       "      <td>посёлок Шушары</td>\n",
       "      <td>12817.0</td>\n",
       "      <td>18603.0</td>\n",
       "      <td>0.0</td>\n",
       "      <td>NaN</td>\n",
       "      <td>0.0</td>\n",
       "      <td>NaN</td>\n",
       "      <td>81.0</td>\n",
       "    </tr>\n",
       "    <tr>\n",
       "      <th>2</th>\n",
       "      <td>10</td>\n",
       "      <td>5196000.0</td>\n",
       "      <td>56.00</td>\n",
       "      <td>2015-08-20T00:00:00</td>\n",
       "      <td>2</td>\n",
       "      <td>NaN</td>\n",
       "      <td>5.0</td>\n",
       "      <td>34.30</td>\n",
       "      <td>4</td>\n",
       "      <td>NaN</td>\n",
       "      <td>False</td>\n",
       "      <td>False</td>\n",
       "      <td>8.30</td>\n",
       "      <td>0.0</td>\n",
       "      <td>Санкт-Петербург</td>\n",
       "      <td>21741.0</td>\n",
       "      <td>13933.0</td>\n",
       "      <td>1.0</td>\n",
       "      <td>90.0</td>\n",
       "      <td>2.0</td>\n",
       "      <td>574.0</td>\n",
       "      <td>558.0</td>\n",
       "    </tr>\n",
       "    <tr>\n",
       "      <th>3</th>\n",
       "      <td>0</td>\n",
       "      <td>64900000.0</td>\n",
       "      <td>159.00</td>\n",
       "      <td>2015-07-24T00:00:00</td>\n",
       "      <td>3</td>\n",
       "      <td>NaN</td>\n",
       "      <td>14.0</td>\n",
       "      <td>NaN</td>\n",
       "      <td>9</td>\n",
       "      <td>NaN</td>\n",
       "      <td>False</td>\n",
       "      <td>False</td>\n",
       "      <td>NaN</td>\n",
       "      <td>0.0</td>\n",
       "      <td>Санкт-Петербург</td>\n",
       "      <td>28098.0</td>\n",
       "      <td>6800.0</td>\n",
       "      <td>2.0</td>\n",
       "      <td>84.0</td>\n",
       "      <td>3.0</td>\n",
       "      <td>234.0</td>\n",
       "      <td>424.0</td>\n",
       "    </tr>\n",
       "    <tr>\n",
       "      <th>4</th>\n",
       "      <td>2</td>\n",
       "      <td>10000000.0</td>\n",
       "      <td>100.00</td>\n",
       "      <td>2018-06-19T00:00:00</td>\n",
       "      <td>2</td>\n",
       "      <td>3.03</td>\n",
       "      <td>14.0</td>\n",
       "      <td>32.00</td>\n",
       "      <td>13</td>\n",
       "      <td>NaN</td>\n",
       "      <td>False</td>\n",
       "      <td>False</td>\n",
       "      <td>41.00</td>\n",
       "      <td>NaN</td>\n",
       "      <td>Санкт-Петербург</td>\n",
       "      <td>31856.0</td>\n",
       "      <td>8098.0</td>\n",
       "      <td>2.0</td>\n",
       "      <td>112.0</td>\n",
       "      <td>1.0</td>\n",
       "      <td>48.0</td>\n",
       "      <td>121.0</td>\n",
       "    </tr>\n",
       "    <tr>\n",
       "      <th>5</th>\n",
       "      <td>10</td>\n",
       "      <td>2890000.0</td>\n",
       "      <td>30.40</td>\n",
       "      <td>2018-09-10T00:00:00</td>\n",
       "      <td>1</td>\n",
       "      <td>NaN</td>\n",
       "      <td>12.0</td>\n",
       "      <td>14.40</td>\n",
       "      <td>5</td>\n",
       "      <td>NaN</td>\n",
       "      <td>False</td>\n",
       "      <td>False</td>\n",
       "      <td>9.10</td>\n",
       "      <td>NaN</td>\n",
       "      <td>городской посёлок Янино-1</td>\n",
       "      <td>NaN</td>\n",
       "      <td>NaN</td>\n",
       "      <td>NaN</td>\n",
       "      <td>NaN</td>\n",
       "      <td>NaN</td>\n",
       "      <td>NaN</td>\n",
       "      <td>55.0</td>\n",
       "    </tr>\n",
       "    <tr>\n",
       "      <th>6</th>\n",
       "      <td>6</td>\n",
       "      <td>3700000.0</td>\n",
       "      <td>37.30</td>\n",
       "      <td>2017-11-02T00:00:00</td>\n",
       "      <td>1</td>\n",
       "      <td>NaN</td>\n",
       "      <td>26.0</td>\n",
       "      <td>10.60</td>\n",
       "      <td>6</td>\n",
       "      <td>NaN</td>\n",
       "      <td>False</td>\n",
       "      <td>False</td>\n",
       "      <td>14.40</td>\n",
       "      <td>1.0</td>\n",
       "      <td>посёлок Парголово</td>\n",
       "      <td>52996.0</td>\n",
       "      <td>19143.0</td>\n",
       "      <td>0.0</td>\n",
       "      <td>NaN</td>\n",
       "      <td>0.0</td>\n",
       "      <td>NaN</td>\n",
       "      <td>155.0</td>\n",
       "    </tr>\n",
       "    <tr>\n",
       "      <th>7</th>\n",
       "      <td>5</td>\n",
       "      <td>7915000.0</td>\n",
       "      <td>71.60</td>\n",
       "      <td>2019-04-18T00:00:00</td>\n",
       "      <td>2</td>\n",
       "      <td>NaN</td>\n",
       "      <td>24.0</td>\n",
       "      <td>NaN</td>\n",
       "      <td>22</td>\n",
       "      <td>NaN</td>\n",
       "      <td>False</td>\n",
       "      <td>False</td>\n",
       "      <td>18.90</td>\n",
       "      <td>2.0</td>\n",
       "      <td>Санкт-Петербург</td>\n",
       "      <td>23982.0</td>\n",
       "      <td>11634.0</td>\n",
       "      <td>0.0</td>\n",
       "      <td>NaN</td>\n",
       "      <td>0.0</td>\n",
       "      <td>NaN</td>\n",
       "      <td>NaN</td>\n",
       "    </tr>\n",
       "    <tr>\n",
       "      <th>8</th>\n",
       "      <td>20</td>\n",
       "      <td>2900000.0</td>\n",
       "      <td>33.16</td>\n",
       "      <td>2018-05-23T00:00:00</td>\n",
       "      <td>1</td>\n",
       "      <td>NaN</td>\n",
       "      <td>27.0</td>\n",
       "      <td>15.43</td>\n",
       "      <td>26</td>\n",
       "      <td>NaN</td>\n",
       "      <td>False</td>\n",
       "      <td>False</td>\n",
       "      <td>8.81</td>\n",
       "      <td>NaN</td>\n",
       "      <td>посёлок Мурино</td>\n",
       "      <td>NaN</td>\n",
       "      <td>NaN</td>\n",
       "      <td>NaN</td>\n",
       "      <td>NaN</td>\n",
       "      <td>NaN</td>\n",
       "      <td>NaN</td>\n",
       "      <td>189.0</td>\n",
       "    </tr>\n",
       "    <tr>\n",
       "      <th>9</th>\n",
       "      <td>18</td>\n",
       "      <td>5400000.0</td>\n",
       "      <td>61.00</td>\n",
       "      <td>2017-02-26T00:00:00</td>\n",
       "      <td>3</td>\n",
       "      <td>2.50</td>\n",
       "      <td>9.0</td>\n",
       "      <td>43.60</td>\n",
       "      <td>7</td>\n",
       "      <td>NaN</td>\n",
       "      <td>False</td>\n",
       "      <td>False</td>\n",
       "      <td>6.50</td>\n",
       "      <td>2.0</td>\n",
       "      <td>Санкт-Петербург</td>\n",
       "      <td>50898.0</td>\n",
       "      <td>15008.0</td>\n",
       "      <td>0.0</td>\n",
       "      <td>NaN</td>\n",
       "      <td>0.0</td>\n",
       "      <td>NaN</td>\n",
       "      <td>289.0</td>\n",
       "    </tr>\n",
       "  </tbody>\n",
       "</table>\n",
       "</div>"
      ],
      "text/plain": [
       "   total_images  last_price  total_area first_day_exposition  rooms  \\\n",
       "0            20  13000000.0      108.00  2019-03-07T00:00:00      3   \n",
       "1             7   3350000.0       40.40  2018-12-04T00:00:00      1   \n",
       "2            10   5196000.0       56.00  2015-08-20T00:00:00      2   \n",
       "3             0  64900000.0      159.00  2015-07-24T00:00:00      3   \n",
       "4             2  10000000.0      100.00  2018-06-19T00:00:00      2   \n",
       "5            10   2890000.0       30.40  2018-09-10T00:00:00      1   \n",
       "6             6   3700000.0       37.30  2017-11-02T00:00:00      1   \n",
       "7             5   7915000.0       71.60  2019-04-18T00:00:00      2   \n",
       "8            20   2900000.0       33.16  2018-05-23T00:00:00      1   \n",
       "9            18   5400000.0       61.00  2017-02-26T00:00:00      3   \n",
       "\n",
       "   ceiling_height  floors_total  living_area  floor is_apartment  studio  \\\n",
       "0            2.70          16.0        51.00      8          NaN   False   \n",
       "1             NaN          11.0        18.60      1          NaN   False   \n",
       "2             NaN           5.0        34.30      4          NaN   False   \n",
       "3             NaN          14.0          NaN      9          NaN   False   \n",
       "4            3.03          14.0        32.00     13          NaN   False   \n",
       "5             NaN          12.0        14.40      5          NaN   False   \n",
       "6             NaN          26.0        10.60      6          NaN   False   \n",
       "7             NaN          24.0          NaN     22          NaN   False   \n",
       "8             NaN          27.0        15.43     26          NaN   False   \n",
       "9            2.50           9.0        43.60      7          NaN   False   \n",
       "\n",
       "   open_plan  kitchen_area  balcony              locality_name  \\\n",
       "0      False         25.00      NaN            Санкт-Петербург   \n",
       "1      False         11.00      2.0             посёлок Шушары   \n",
       "2      False          8.30      0.0            Санкт-Петербург   \n",
       "3      False           NaN      0.0            Санкт-Петербург   \n",
       "4      False         41.00      NaN            Санкт-Петербург   \n",
       "5      False          9.10      NaN  городской посёлок Янино-1   \n",
       "6      False         14.40      1.0          посёлок Парголово   \n",
       "7      False         18.90      2.0            Санкт-Петербург   \n",
       "8      False          8.81      NaN             посёлок Мурино   \n",
       "9      False          6.50      2.0            Санкт-Петербург   \n",
       "\n",
       "   airports_nearest  cityCenters_nearest  parks_around3000  parks_nearest  \\\n",
       "0           18863.0              16028.0               1.0          482.0   \n",
       "1           12817.0              18603.0               0.0            NaN   \n",
       "2           21741.0              13933.0               1.0           90.0   \n",
       "3           28098.0               6800.0               2.0           84.0   \n",
       "4           31856.0               8098.0               2.0          112.0   \n",
       "5               NaN                  NaN               NaN            NaN   \n",
       "6           52996.0              19143.0               0.0            NaN   \n",
       "7           23982.0              11634.0               0.0            NaN   \n",
       "8               NaN                  NaN               NaN            NaN   \n",
       "9           50898.0              15008.0               0.0            NaN   \n",
       "\n",
       "   ponds_around3000  ponds_nearest  days_exposition  \n",
       "0               2.0          755.0              NaN  \n",
       "1               0.0            NaN             81.0  \n",
       "2               2.0          574.0            558.0  \n",
       "3               3.0          234.0            424.0  \n",
       "4               1.0           48.0            121.0  \n",
       "5               NaN            NaN             55.0  \n",
       "6               0.0            NaN            155.0  \n",
       "7               0.0            NaN              NaN  \n",
       "8               NaN            NaN            189.0  \n",
       "9               0.0            NaN            289.0  "
      ]
     },
     "execution_count": 721,
     "metadata": {},
     "output_type": "execute_result"
    }
   ],
   "source": [
    "# выставим опцию, т.к. колонок слишком много, чтобы видеть сразу все данные\n",
    "# + запас, на случай, если понадобится добавлять новые колонки\n",
    "pd.set_option('display.max_columns', len(df.columns) + 5)\n",
    "#посмотрим набор данных\n",
    "df.head(10)"
   ]
  },
  {
   "cell_type": "code",
   "execution_count": 722,
   "metadata": {},
   "outputs": [
    {
     "data": {
      "text/html": [
       "<div>\n",
       "<style scoped>\n",
       "    .dataframe tbody tr th:only-of-type {\n",
       "        vertical-align: middle;\n",
       "    }\n",
       "\n",
       "    .dataframe tbody tr th {\n",
       "        vertical-align: top;\n",
       "    }\n",
       "\n",
       "    .dataframe thead th {\n",
       "        text-align: right;\n",
       "    }\n",
       "</style>\n",
       "<table border=\"1\" class=\"dataframe\">\n",
       "  <thead>\n",
       "    <tr style=\"text-align: right;\">\n",
       "      <th></th>\n",
       "      <th>total_images</th>\n",
       "      <th>last_price</th>\n",
       "      <th>total_area</th>\n",
       "      <th>rooms</th>\n",
       "      <th>ceiling_height</th>\n",
       "      <th>floors_total</th>\n",
       "      <th>living_area</th>\n",
       "      <th>floor</th>\n",
       "      <th>kitchen_area</th>\n",
       "      <th>balcony</th>\n",
       "      <th>airports_nearest</th>\n",
       "      <th>cityCenters_nearest</th>\n",
       "      <th>parks_around3000</th>\n",
       "      <th>parks_nearest</th>\n",
       "      <th>ponds_around3000</th>\n",
       "      <th>ponds_nearest</th>\n",
       "      <th>days_exposition</th>\n",
       "    </tr>\n",
       "  </thead>\n",
       "  <tbody>\n",
       "    <tr>\n",
       "      <th>count</th>\n",
       "      <td>23699.000000</td>\n",
       "      <td>2.369900e+04</td>\n",
       "      <td>23699.000000</td>\n",
       "      <td>23699.000000</td>\n",
       "      <td>14504.000000</td>\n",
       "      <td>23613.000000</td>\n",
       "      <td>21796.000000</td>\n",
       "      <td>23699.000000</td>\n",
       "      <td>21421.000000</td>\n",
       "      <td>12180.000000</td>\n",
       "      <td>18157.000000</td>\n",
       "      <td>18180.000000</td>\n",
       "      <td>18181.000000</td>\n",
       "      <td>8079.000000</td>\n",
       "      <td>18181.000000</td>\n",
       "      <td>9110.000000</td>\n",
       "      <td>20518.000000</td>\n",
       "    </tr>\n",
       "    <tr>\n",
       "      <th>mean</th>\n",
       "      <td>9.858475</td>\n",
       "      <td>6.541549e+06</td>\n",
       "      <td>60.348651</td>\n",
       "      <td>2.070636</td>\n",
       "      <td>2.771499</td>\n",
       "      <td>10.673824</td>\n",
       "      <td>34.457852</td>\n",
       "      <td>5.892358</td>\n",
       "      <td>10.569807</td>\n",
       "      <td>1.150082</td>\n",
       "      <td>28793.672193</td>\n",
       "      <td>14191.277833</td>\n",
       "      <td>0.611408</td>\n",
       "      <td>490.804555</td>\n",
       "      <td>0.770255</td>\n",
       "      <td>517.980900</td>\n",
       "      <td>180.888634</td>\n",
       "    </tr>\n",
       "    <tr>\n",
       "      <th>std</th>\n",
       "      <td>5.682529</td>\n",
       "      <td>1.088701e+07</td>\n",
       "      <td>35.654083</td>\n",
       "      <td>1.078405</td>\n",
       "      <td>1.261056</td>\n",
       "      <td>6.597173</td>\n",
       "      <td>22.030445</td>\n",
       "      <td>4.885249</td>\n",
       "      <td>5.905438</td>\n",
       "      <td>1.071300</td>\n",
       "      <td>12630.880622</td>\n",
       "      <td>8608.386210</td>\n",
       "      <td>0.802074</td>\n",
       "      <td>342.317995</td>\n",
       "      <td>0.938346</td>\n",
       "      <td>277.720643</td>\n",
       "      <td>219.727988</td>\n",
       "    </tr>\n",
       "    <tr>\n",
       "      <th>min</th>\n",
       "      <td>0.000000</td>\n",
       "      <td>1.219000e+04</td>\n",
       "      <td>12.000000</td>\n",
       "      <td>0.000000</td>\n",
       "      <td>1.000000</td>\n",
       "      <td>1.000000</td>\n",
       "      <td>2.000000</td>\n",
       "      <td>1.000000</td>\n",
       "      <td>1.300000</td>\n",
       "      <td>0.000000</td>\n",
       "      <td>0.000000</td>\n",
       "      <td>181.000000</td>\n",
       "      <td>0.000000</td>\n",
       "      <td>1.000000</td>\n",
       "      <td>0.000000</td>\n",
       "      <td>13.000000</td>\n",
       "      <td>1.000000</td>\n",
       "    </tr>\n",
       "    <tr>\n",
       "      <th>25%</th>\n",
       "      <td>6.000000</td>\n",
       "      <td>3.400000e+06</td>\n",
       "      <td>40.000000</td>\n",
       "      <td>1.000000</td>\n",
       "      <td>2.520000</td>\n",
       "      <td>5.000000</td>\n",
       "      <td>18.600000</td>\n",
       "      <td>2.000000</td>\n",
       "      <td>7.000000</td>\n",
       "      <td>0.000000</td>\n",
       "      <td>18585.000000</td>\n",
       "      <td>9238.000000</td>\n",
       "      <td>0.000000</td>\n",
       "      <td>288.000000</td>\n",
       "      <td>0.000000</td>\n",
       "      <td>294.000000</td>\n",
       "      <td>45.000000</td>\n",
       "    </tr>\n",
       "    <tr>\n",
       "      <th>50%</th>\n",
       "      <td>9.000000</td>\n",
       "      <td>4.650000e+06</td>\n",
       "      <td>52.000000</td>\n",
       "      <td>2.000000</td>\n",
       "      <td>2.650000</td>\n",
       "      <td>9.000000</td>\n",
       "      <td>30.000000</td>\n",
       "      <td>4.000000</td>\n",
       "      <td>9.100000</td>\n",
       "      <td>1.000000</td>\n",
       "      <td>26726.000000</td>\n",
       "      <td>13098.500000</td>\n",
       "      <td>0.000000</td>\n",
       "      <td>455.000000</td>\n",
       "      <td>1.000000</td>\n",
       "      <td>502.000000</td>\n",
       "      <td>95.000000</td>\n",
       "    </tr>\n",
       "    <tr>\n",
       "      <th>75%</th>\n",
       "      <td>14.000000</td>\n",
       "      <td>6.800000e+06</td>\n",
       "      <td>69.900000</td>\n",
       "      <td>3.000000</td>\n",
       "      <td>2.800000</td>\n",
       "      <td>16.000000</td>\n",
       "      <td>42.300000</td>\n",
       "      <td>8.000000</td>\n",
       "      <td>12.000000</td>\n",
       "      <td>2.000000</td>\n",
       "      <td>37273.000000</td>\n",
       "      <td>16293.000000</td>\n",
       "      <td>1.000000</td>\n",
       "      <td>612.000000</td>\n",
       "      <td>1.000000</td>\n",
       "      <td>729.000000</td>\n",
       "      <td>232.000000</td>\n",
       "    </tr>\n",
       "    <tr>\n",
       "      <th>max</th>\n",
       "      <td>50.000000</td>\n",
       "      <td>7.630000e+08</td>\n",
       "      <td>900.000000</td>\n",
       "      <td>19.000000</td>\n",
       "      <td>100.000000</td>\n",
       "      <td>60.000000</td>\n",
       "      <td>409.700000</td>\n",
       "      <td>33.000000</td>\n",
       "      <td>112.000000</td>\n",
       "      <td>5.000000</td>\n",
       "      <td>84869.000000</td>\n",
       "      <td>65968.000000</td>\n",
       "      <td>3.000000</td>\n",
       "      <td>3190.000000</td>\n",
       "      <td>3.000000</td>\n",
       "      <td>1344.000000</td>\n",
       "      <td>1580.000000</td>\n",
       "    </tr>\n",
       "  </tbody>\n",
       "</table>\n",
       "</div>"
      ],
      "text/plain": [
       "       total_images    last_price    total_area         rooms  ceiling_height  \\\n",
       "count  23699.000000  2.369900e+04  23699.000000  23699.000000    14504.000000   \n",
       "mean       9.858475  6.541549e+06     60.348651      2.070636        2.771499   \n",
       "std        5.682529  1.088701e+07     35.654083      1.078405        1.261056   \n",
       "min        0.000000  1.219000e+04     12.000000      0.000000        1.000000   \n",
       "25%        6.000000  3.400000e+06     40.000000      1.000000        2.520000   \n",
       "50%        9.000000  4.650000e+06     52.000000      2.000000        2.650000   \n",
       "75%       14.000000  6.800000e+06     69.900000      3.000000        2.800000   \n",
       "max       50.000000  7.630000e+08    900.000000     19.000000      100.000000   \n",
       "\n",
       "       floors_total   living_area         floor  kitchen_area       balcony  \\\n",
       "count  23613.000000  21796.000000  23699.000000  21421.000000  12180.000000   \n",
       "mean      10.673824     34.457852      5.892358     10.569807      1.150082   \n",
       "std        6.597173     22.030445      4.885249      5.905438      1.071300   \n",
       "min        1.000000      2.000000      1.000000      1.300000      0.000000   \n",
       "25%        5.000000     18.600000      2.000000      7.000000      0.000000   \n",
       "50%        9.000000     30.000000      4.000000      9.100000      1.000000   \n",
       "75%       16.000000     42.300000      8.000000     12.000000      2.000000   \n",
       "max       60.000000    409.700000     33.000000    112.000000      5.000000   \n",
       "\n",
       "       airports_nearest  cityCenters_nearest  parks_around3000  parks_nearest  \\\n",
       "count      18157.000000         18180.000000      18181.000000    8079.000000   \n",
       "mean       28793.672193         14191.277833          0.611408     490.804555   \n",
       "std        12630.880622          8608.386210          0.802074     342.317995   \n",
       "min            0.000000           181.000000          0.000000       1.000000   \n",
       "25%        18585.000000          9238.000000          0.000000     288.000000   \n",
       "50%        26726.000000         13098.500000          0.000000     455.000000   \n",
       "75%        37273.000000         16293.000000          1.000000     612.000000   \n",
       "max        84869.000000         65968.000000          3.000000    3190.000000   \n",
       "\n",
       "       ponds_around3000  ponds_nearest  days_exposition  \n",
       "count      18181.000000    9110.000000     20518.000000  \n",
       "mean           0.770255     517.980900       180.888634  \n",
       "std            0.938346     277.720643       219.727988  \n",
       "min            0.000000      13.000000         1.000000  \n",
       "25%            0.000000     294.000000        45.000000  \n",
       "50%            1.000000     502.000000        95.000000  \n",
       "75%            1.000000     729.000000       232.000000  \n",
       "max            3.000000    1344.000000      1580.000000  "
      ]
     },
     "execution_count": 722,
     "metadata": {},
     "output_type": "execute_result"
    }
   ],
   "source": [
    "# посмотрим описание данных\n",
    "df.describe()"
   ]
  },
  {
   "cell_type": "markdown",
   "metadata": {},
   "source": [
    "### Вывод"
   ]
  },
  {
   "cell_type": "markdown",
   "metadata": {},
   "source": [
    "- Среди названия колонок нет единообразия. \n",
    "  - Особо выделяются `cityCenters_nearest`, `ponds_around3000`, `parks_around3000`. Заменим эти названия\n",
    "  - Булевы типы приведем к одному виду: `studio` -> `is_studio`, `open_plan` -> `is_open_plan`\n",
    "  - Изменим названия столбцов на те, что больше отражают суть содержащихся данных\n",
    "- Неверные типы данных\n",
    "  - Число балконов `balcony` не м.б. float\n",
    "  - Сколько дней было размещено объявление (от публикации до снятия) `days_exposition` д.б. int\n",
    "  - Дата публикации `first_day_expostion` нужно перевести из строки в Datetime, возможно вообще переименовать поле\n",
    "  - Всего этажей в доме `floors_total` нужно перевести в int\n",
    "  - Признак апартаментов `is_apartment` нужно перевести из строки в bool\n",
    "  - Число парков в радиусе 3 км `parks_around3000` перевести в int\n",
    "  - Число водоёмов в радиусе 3 км `ponds_around3000` перевести в int\n",
    "- Неудобный порядок столбцов (данные криво сгруппированы). Имеет смысл поменять\n",
    "- Бросается в глаза сильно больше значение max для `ceiling_height` и `days_before_close`\n",
    "  \n",
    "Дополнительные заметки к данным (возможно, нужно будет проверить):\n",
    "- Пустые значения в парах `ponds_around3000` и `ponds_nearest` связаны с отсутствием водоемов\n",
    "- Пустые значения в парах `parks_around3000` и `parks_nearest` связаны с отсутствием парков\n",
    "- Пустое значение в `days_exposition` может означать, что объявление еще на публикации\n",
    "- Пустое значение в `balcony` скорее всего означает отсуствие балкона\n",
    "- Пустое значение в `is_apartment` скорее всего означает, что объект недвижимости - не апаратаменты"
   ]
  },
  {
   "cell_type": "markdown",
   "metadata": {},
   "source": [
    "### Шаг 2. Предобработка данных"
   ]
  },
  {
   "cell_type": "markdown",
   "metadata": {},
   "source": [
    "#### Колонки и таблица в целом"
   ]
  },
  {
   "cell_type": "code",
   "execution_count": 723,
   "metadata": {},
   "outputs": [
    {
     "data": {
      "text/html": [
       "<div>\n",
       "<style scoped>\n",
       "    .dataframe tbody tr th:only-of-type {\n",
       "        vertical-align: middle;\n",
       "    }\n",
       "\n",
       "    .dataframe tbody tr th {\n",
       "        vertical-align: top;\n",
       "    }\n",
       "\n",
       "    .dataframe thead th {\n",
       "        text-align: right;\n",
       "    }\n",
       "</style>\n",
       "<table border=\"1\" class=\"dataframe\">\n",
       "  <thead>\n",
       "    <tr style=\"text-align: right;\">\n",
       "      <th></th>\n",
       "      <th>balcony_count</th>\n",
       "      <th>rooms_count</th>\n",
       "      <th>living_area</th>\n",
       "      <th>kitchen_area</th>\n",
       "      <th>total_area</th>\n",
       "      <th>ceiling_height</th>\n",
       "      <th>floor</th>\n",
       "      <th>total_floors</th>\n",
       "      <th>locality_name</th>\n",
       "      <th>nearest_city_center_distance</th>\n",
       "      <th>nearest_airport_distance</th>\n",
       "      <th>parks_in_3km_count</th>\n",
       "      <th>nearest_park_distance</th>\n",
       "      <th>ponds_in_3km_count</th>\n",
       "      <th>nearest_pond_distance</th>\n",
       "      <th>total_images</th>\n",
       "      <th>last_price</th>\n",
       "      <th>created_datetime</th>\n",
       "      <th>days_before_close</th>\n",
       "      <th>is_apartment</th>\n",
       "      <th>is_studio</th>\n",
       "      <th>is_open_plan</th>\n",
       "    </tr>\n",
       "  </thead>\n",
       "  <tbody>\n",
       "    <tr>\n",
       "      <th>0</th>\n",
       "      <td>NaN</td>\n",
       "      <td>3</td>\n",
       "      <td>51.0</td>\n",
       "      <td>25.0</td>\n",
       "      <td>108.0</td>\n",
       "      <td>2.70</td>\n",
       "      <td>8</td>\n",
       "      <td>16.0</td>\n",
       "      <td>Санкт-Петербург</td>\n",
       "      <td>16028.0</td>\n",
       "      <td>18863.0</td>\n",
       "      <td>1.0</td>\n",
       "      <td>482.0</td>\n",
       "      <td>2.0</td>\n",
       "      <td>755.0</td>\n",
       "      <td>20</td>\n",
       "      <td>13000000.0</td>\n",
       "      <td>2019-03-07T00:00:00</td>\n",
       "      <td>NaN</td>\n",
       "      <td>NaN</td>\n",
       "      <td>False</td>\n",
       "      <td>False</td>\n",
       "    </tr>\n",
       "    <tr>\n",
       "      <th>1</th>\n",
       "      <td>2.0</td>\n",
       "      <td>1</td>\n",
       "      <td>18.6</td>\n",
       "      <td>11.0</td>\n",
       "      <td>40.4</td>\n",
       "      <td>NaN</td>\n",
       "      <td>1</td>\n",
       "      <td>11.0</td>\n",
       "      <td>посёлок Шушары</td>\n",
       "      <td>18603.0</td>\n",
       "      <td>12817.0</td>\n",
       "      <td>0.0</td>\n",
       "      <td>NaN</td>\n",
       "      <td>0.0</td>\n",
       "      <td>NaN</td>\n",
       "      <td>7</td>\n",
       "      <td>3350000.0</td>\n",
       "      <td>2018-12-04T00:00:00</td>\n",
       "      <td>81.0</td>\n",
       "      <td>NaN</td>\n",
       "      <td>False</td>\n",
       "      <td>False</td>\n",
       "    </tr>\n",
       "    <tr>\n",
       "      <th>2</th>\n",
       "      <td>0.0</td>\n",
       "      <td>2</td>\n",
       "      <td>34.3</td>\n",
       "      <td>8.3</td>\n",
       "      <td>56.0</td>\n",
       "      <td>NaN</td>\n",
       "      <td>4</td>\n",
       "      <td>5.0</td>\n",
       "      <td>Санкт-Петербург</td>\n",
       "      <td>13933.0</td>\n",
       "      <td>21741.0</td>\n",
       "      <td>1.0</td>\n",
       "      <td>90.0</td>\n",
       "      <td>2.0</td>\n",
       "      <td>574.0</td>\n",
       "      <td>10</td>\n",
       "      <td>5196000.0</td>\n",
       "      <td>2015-08-20T00:00:00</td>\n",
       "      <td>558.0</td>\n",
       "      <td>NaN</td>\n",
       "      <td>False</td>\n",
       "      <td>False</td>\n",
       "    </tr>\n",
       "    <tr>\n",
       "      <th>3</th>\n",
       "      <td>0.0</td>\n",
       "      <td>3</td>\n",
       "      <td>NaN</td>\n",
       "      <td>NaN</td>\n",
       "      <td>159.0</td>\n",
       "      <td>NaN</td>\n",
       "      <td>9</td>\n",
       "      <td>14.0</td>\n",
       "      <td>Санкт-Петербург</td>\n",
       "      <td>6800.0</td>\n",
       "      <td>28098.0</td>\n",
       "      <td>2.0</td>\n",
       "      <td>84.0</td>\n",
       "      <td>3.0</td>\n",
       "      <td>234.0</td>\n",
       "      <td>0</td>\n",
       "      <td>64900000.0</td>\n",
       "      <td>2015-07-24T00:00:00</td>\n",
       "      <td>424.0</td>\n",
       "      <td>NaN</td>\n",
       "      <td>False</td>\n",
       "      <td>False</td>\n",
       "    </tr>\n",
       "    <tr>\n",
       "      <th>4</th>\n",
       "      <td>NaN</td>\n",
       "      <td>2</td>\n",
       "      <td>32.0</td>\n",
       "      <td>41.0</td>\n",
       "      <td>100.0</td>\n",
       "      <td>3.03</td>\n",
       "      <td>13</td>\n",
       "      <td>14.0</td>\n",
       "      <td>Санкт-Петербург</td>\n",
       "      <td>8098.0</td>\n",
       "      <td>31856.0</td>\n",
       "      <td>2.0</td>\n",
       "      <td>112.0</td>\n",
       "      <td>1.0</td>\n",
       "      <td>48.0</td>\n",
       "      <td>2</td>\n",
       "      <td>10000000.0</td>\n",
       "      <td>2018-06-19T00:00:00</td>\n",
       "      <td>121.0</td>\n",
       "      <td>NaN</td>\n",
       "      <td>False</td>\n",
       "      <td>False</td>\n",
       "    </tr>\n",
       "  </tbody>\n",
       "</table>\n",
       "</div>"
      ],
      "text/plain": [
       "   balcony_count  rooms_count  living_area  kitchen_area  total_area  \\\n",
       "0            NaN            3         51.0          25.0       108.0   \n",
       "1            2.0            1         18.6          11.0        40.4   \n",
       "2            0.0            2         34.3           8.3        56.0   \n",
       "3            0.0            3          NaN           NaN       159.0   \n",
       "4            NaN            2         32.0          41.0       100.0   \n",
       "\n",
       "   ceiling_height  floor  total_floors    locality_name  \\\n",
       "0            2.70      8          16.0  Санкт-Петербург   \n",
       "1             NaN      1          11.0   посёлок Шушары   \n",
       "2             NaN      4           5.0  Санкт-Петербург   \n",
       "3             NaN      9          14.0  Санкт-Петербург   \n",
       "4            3.03     13          14.0  Санкт-Петербург   \n",
       "\n",
       "   nearest_city_center_distance  nearest_airport_distance  parks_in_3km_count  \\\n",
       "0                       16028.0                   18863.0                 1.0   \n",
       "1                       18603.0                   12817.0                 0.0   \n",
       "2                       13933.0                   21741.0                 1.0   \n",
       "3                        6800.0                   28098.0                 2.0   \n",
       "4                        8098.0                   31856.0                 2.0   \n",
       "\n",
       "   nearest_park_distance  ponds_in_3km_count  nearest_pond_distance  \\\n",
       "0                  482.0                 2.0                  755.0   \n",
       "1                    NaN                 0.0                    NaN   \n",
       "2                   90.0                 2.0                  574.0   \n",
       "3                   84.0                 3.0                  234.0   \n",
       "4                  112.0                 1.0                   48.0   \n",
       "\n",
       "   total_images  last_price     created_datetime  days_before_close  \\\n",
       "0            20  13000000.0  2019-03-07T00:00:00                NaN   \n",
       "1             7   3350000.0  2018-12-04T00:00:00               81.0   \n",
       "2            10   5196000.0  2015-08-20T00:00:00              558.0   \n",
       "3             0  64900000.0  2015-07-24T00:00:00              424.0   \n",
       "4             2  10000000.0  2018-06-19T00:00:00              121.0   \n",
       "\n",
       "  is_apartment  is_studio  is_open_plan  \n",
       "0          NaN      False         False  \n",
       "1          NaN      False         False  \n",
       "2          NaN      False         False  \n",
       "3          NaN      False         False  \n",
       "4          NaN      False         False  "
      ]
     },
     "execution_count": 723,
     "metadata": {},
     "output_type": "execute_result"
    }
   ],
   "source": [
    "# переименуем ряд заголовков для более удобной работы с ними\n",
    "\n",
    "# first_day_exposition -> created_datetime\n",
    "# rooms -> rooms_count\n",
    "# floors_total -> total_floors\n",
    "# studio -> is_studio\n",
    "# open_plan -> is_open_plan\n",
    "# balcony -> balcony_count\n",
    "# airports_nearest -> nearest_airport_distance\n",
    "# cityCenters_nearest -> nearest_city_center_distance\n",
    "# parks_around3000 -> parks_in_3km_count\n",
    "# parks_nearest -> nearest_park_distance\n",
    "# ponds_around3000 -> ponds_in_3km_count\n",
    "# ponds_nearest -> nearest_pond_distance\n",
    "# days_exposition -> days_before_close\n",
    "\n",
    "(df.set_axis(\n",
    "    ['total_images', 'last_price', 'total_area', 'created_datetime',\n",
    "     'rooms_count', 'ceiling_height', 'total_floors', 'living_area', 'floor',\n",
    "     'is_apartment', 'is_studio', 'is_open_plan', 'kitchen_area', 'balcony_count',\n",
    "     'locality_name', 'nearest_airport_distance', 'nearest_city_center_distance',\n",
    "     'parks_in_3km_count', 'nearest_park_distance', 'ponds_in_3km_count',\n",
    "     'nearest_pond_distance', 'days_before_close'], axis = 'columns', inplace = True)\n",
    ")\n",
    "\n",
    "# поменяем порядок столбцов, чтобы данные по площадям и количеству были рядом,\n",
    "# как и данные с датами, а булевы признаки уберем в конец\n",
    "\n",
    "new_columns_order = (['balcony_count', 'rooms_count', # количество комнат\n",
    "     'living_area', 'kitchen_area', 'total_area', 'ceiling_height', # площади и высота потолком\n",
    "     'floor', 'total_floors', # этажи\n",
    "    'locality_name', 'nearest_city_center_distance', 'nearest_airport_distance', # населенный пункт и расстояние\n",
    "     'parks_in_3km_count', 'nearest_park_distance', 'ponds_in_3km_count', 'nearest_pond_distance', # парки и водоемы\n",
    "     'total_images', 'last_price', # дополнительная информация\n",
    "     'created_datetime', 'days_before_close', # даты и время жизни объявления\n",
    "     'is_apartment', 'is_studio', 'is_open_plan'])\n",
    "\n",
    "df = df[new_columns_order]\n",
    "\n",
    "# проверим, что все ок\n",
    "df.head()"
   ]
  },
  {
   "cell_type": "markdown",
   "metadata": {},
   "source": [
    "#### Заполнение пропусков"
   ]
  },
  {
   "cell_type": "markdown",
   "metadata": {},
   "source": [
    "Поскольку мы не можем изменить типы, пока не удалим или не обработаем пропуски, сначала займемся этим.\n",
    "\n",
    "Мы бы хотели изменить типы для:\n",
    "- Числа балконов не м.б. float\n",
    "- Сколько дней было размещено объявление (от публикации до снятия) \n",
    "- Дата публикации first_day_expostion нужно перевести из строки в Datetime\n",
    "- Всего этажей в доме нужно перевести в int\n",
    "- Признак апартаментов нужно перевести из строки в bool\n",
    "- Число парков в радиусе 3 км перевести в int\n",
    "- Число водоёмов в радиусе 3 км перевести в int"
   ]
  },
  {
   "cell_type": "code",
   "execution_count": 724,
   "metadata": {},
   "outputs": [
    {
     "data": {
      "text/plain": [
       "balcony_count                   11519\n",
       "rooms_count                         0\n",
       "living_area                      1903\n",
       "kitchen_area                     2278\n",
       "total_area                          0\n",
       "ceiling_height                   9195\n",
       "floor                               0\n",
       "total_floors                       86\n",
       "locality_name                      49\n",
       "nearest_city_center_distance     5519\n",
       "nearest_airport_distance         5542\n",
       "parks_in_3km_count               5518\n",
       "nearest_park_distance           15620\n",
       "ponds_in_3km_count               5518\n",
       "nearest_pond_distance           14589\n",
       "total_images                        0\n",
       "last_price                          0\n",
       "created_datetime                    0\n",
       "days_before_close                3181\n",
       "is_apartment                    20924\n",
       "is_studio                           0\n",
       "is_open_plan                        0\n",
       "dtype: int64"
      ]
     },
     "execution_count": 724,
     "metadata": {},
     "output_type": "execute_result"
    }
   ],
   "source": [
    "# для начала поищем пустые значения\n",
    "df.isnull().sum()"
   ]
  },
  {
   "cell_type": "markdown",
   "metadata": {},
   "source": [
    "*Небольшая ремарка*\n",
    "\n",
    "- `nearest_city_center_distance` мы не будем трогать. Считать медианой будет неверно, т.к. расстояние до центра сильно зависит от размера населенного пункта, но по имеющимся данным восстановить эти данные нельзя. Павел Говоров подтвердил. Поэтому эти пропуски трогать пока не будем\n",
    "- Это также касается `nearest_airport_distance` по той же логике. Ситуаций, когда нет одного, но есть другое очень мало.\n",
    "- Также не будем трогать `days_before_close` предполагая, что если нет данных, объявление не закрыто. Для дальнейшего анализа эти данные нам не понадобятся"
   ]
  },
  {
   "cell_type": "code",
   "execution_count": 725,
   "metadata": {},
   "outputs": [
    {
     "data": {
      "text/html": [
       "<div>\n",
       "<style scoped>\n",
       "    .dataframe tbody tr th:only-of-type {\n",
       "        vertical-align: middle;\n",
       "    }\n",
       "\n",
       "    .dataframe tbody tr th {\n",
       "        vertical-align: top;\n",
       "    }\n",
       "\n",
       "    .dataframe thead th {\n",
       "        text-align: right;\n",
       "    }\n",
       "</style>\n",
       "<table border=\"1\" class=\"dataframe\">\n",
       "  <thead>\n",
       "    <tr style=\"text-align: right;\">\n",
       "      <th></th>\n",
       "      <th>balcony_count</th>\n",
       "      <th>rooms_count</th>\n",
       "      <th>living_area</th>\n",
       "      <th>kitchen_area</th>\n",
       "      <th>total_area</th>\n",
       "      <th>ceiling_height</th>\n",
       "      <th>floor</th>\n",
       "      <th>total_floors</th>\n",
       "      <th>locality_name</th>\n",
       "      <th>nearest_city_center_distance</th>\n",
       "      <th>nearest_airport_distance</th>\n",
       "      <th>parks_in_3km_count</th>\n",
       "      <th>nearest_park_distance</th>\n",
       "      <th>ponds_in_3km_count</th>\n",
       "      <th>nearest_pond_distance</th>\n",
       "      <th>total_images</th>\n",
       "      <th>last_price</th>\n",
       "      <th>created_datetime</th>\n",
       "      <th>days_before_close</th>\n",
       "      <th>is_apartment</th>\n",
       "      <th>is_studio</th>\n",
       "      <th>is_open_plan</th>\n",
       "    </tr>\n",
       "  </thead>\n",
       "  <tbody>\n",
       "  </tbody>\n",
       "</table>\n",
       "</div>"
      ],
      "text/plain": [
       "Empty DataFrame\n",
       "Columns: [balcony_count, rooms_count, living_area, kitchen_area, total_area, ceiling_height, floor, total_floors, locality_name, nearest_city_center_distance, nearest_airport_distance, parks_in_3km_count, nearest_park_distance, ponds_in_3km_count, nearest_pond_distance, total_images, last_price, created_datetime, days_before_close, is_apartment, is_studio, is_open_plan]\n",
       "Index: []"
      ]
     },
     "execution_count": 725,
     "metadata": {},
     "output_type": "execute_result"
    }
   ],
   "source": [
    "# будем считать, что если балконы не указаны, то это означает 0, т.к. в противном случае это было бы преимуществом\n",
    "df['balcony_count'] = df['balcony_count'].fillna(0)\n",
    "\n",
    "# слишком обльшое количество пропущенных значений в is_apartment буду считать за True,\n",
    "# т.к. выгрузка согласно заданию - это выгрузка квартир в разных населенных пунктах\n",
    "df['is_apartment'] = df['is_apartment'].fillna(True)\n",
    "\n",
    "# Т.к. записей с пустым locality_name немного, а сгенерировать мы их никак не можем (кроме замены модой)\n",
    "# считаю правильным вариантом удалить их (иначе в Санкт-Петербург может попасть то, что не должно было)\n",
    "df.dropna(subset=['locality_name'], inplace=True)\n",
    "\n",
    "# аналогичным образом поступим и с незаполненным количеством этажей\n",
    "# т.к. их немного и восстановление данных даже модой нам мало чем поможет\n",
    "df.dropna(subset=['total_floors'], inplace=True)\n",
    "\n",
    "# высоту потолков заполним медианой (особенно учитывая максимальное значение, что мы еще не исправляли)\n",
    "ceiling_height_median = df['ceiling_height'].median();\n",
    "df['ceiling_height'] = df['ceiling_height'].fillna(ceiling_height_median)\n",
    "\n",
    "# Попробуем разобраться с парками и водоемами. Чаще всего не указано расстояние для случая, когда парка в 3х километрах нет\n",
    "# А значит расстояние до ближайшего парка превышает это значение. Заполним в таком случае расстояние 5000 метров\n",
    "# При этом ситуации, когда не указано количество парков или водоемов, но есть расстояние - нет.\n",
    "# А значит пропущенные значения парков и водоемов можно заменить на 0\n",
    "\n",
    "df['parks_in_3km_count'] = df['parks_in_3km_count'].fillna(0)\n",
    "df['nearest_park_distance'] = df['nearest_park_distance'].fillna(5000)\n",
    "\n",
    "df['ponds_in_3km_count'] = df['ponds_in_3km_count'].fillna(0)\n",
    "df['nearest_pond_distance'] = df['nearest_pond_distance'].fillna(5000)\n",
    "\n",
    "# проверим на парках, что все ок\n",
    "df[(df['parks_in_3km_count'] != 0) & (df['nearest_park_distance'] == 5000)]"
   ]
  },
  {
   "cell_type": "markdown",
   "metadata": {},
   "source": [
    "*Небольшая ремарка*\n",
    "\n",
    "Для площадей `kitchen_area`, `living_area` сначала мы попробуем вычислить пустые значения\n",
    "- если есть kitchen_area, но нет living_area; living_area = total_area - kitchen_area\n",
    "- если есть living_area, но нет kitchen_area; kitchen_area = total_area - living_area\n",
    "- для случая, когда нет и kitchen_area, и living_area будем брать медиану значений по total_area\n",
    "\n",
    "Почему бы нам сразу не использовать медиану? Чем больше значений мы вычислим сразу по имеющимся данным, тем точнее она будет."
   ]
  },
  {
   "cell_type": "code",
   "execution_count": 726,
   "metadata": {},
   "outputs": [
    {
     "data": {
      "text/plain": [
       "balcony_count                      0\n",
       "rooms_count                        0\n",
       "living_area                        0\n",
       "kitchen_area                       1\n",
       "total_area                         0\n",
       "ceiling_height                     0\n",
       "floor                              0\n",
       "total_floors                       0\n",
       "locality_name                      0\n",
       "nearest_city_center_distance    5501\n",
       "nearest_airport_distance        5524\n",
       "parks_in_3km_count                 0\n",
       "nearest_park_distance              0\n",
       "ponds_in_3km_count                 0\n",
       "nearest_pond_distance              0\n",
       "total_images                       0\n",
       "last_price                         0\n",
       "created_datetime                   0\n",
       "days_before_close               3171\n",
       "is_apartment                       0\n",
       "is_studio                          0\n",
       "is_open_plan                       0\n",
       "dtype: int64"
      ]
     },
     "execution_count": 726,
     "metadata": {},
     "output_type": "execute_result"
    }
   ],
   "source": [
    "# сделаем рассчеты для площадей 'kitchen_area', 'living_area'\n",
    "\n",
    "# для проверки на NaN\n",
    "import math\n",
    "\n",
    "# рассчитаем медианы возможных жилых площадей по общей площади квартиры\n",
    "# для случая, когда нет ни площади кухни, ни жилой\n",
    "# будем использовать в функции в дальнейшем\n",
    "\n",
    "def calculate_area_median_dict(area_type):\n",
    "    total_areas_for_empty_data = df[df[area_type].isnull()]['total_area'].unique()\n",
    "    area_with_data = df[df[area_type].notnull()]\n",
    "    \n",
    "    result = dict()\n",
    "    \n",
    "    for total_area_temp in total_areas_for_empty_data:\n",
    "        # т.к. в выборке может не быть нашей площади или с нашей площадью будет мало квартир,\n",
    "        # берем +- 10%\n",
    "        total_area_min = total_area_temp - (total_area_temp * 0.1)\n",
    "        total_area_max = total_area_temp + (total_area_temp * 0.1)\n",
    "    \n",
    "        temp_area_median = (area_with_data\n",
    "                            .query('total_area >= @total_area_min and total_area <= @total_area_max')\n",
    "                            [area_type].median())\n",
    "    \n",
    "        result[total_area_temp] = temp_area_median\n",
    "        \n",
    "    return result\n",
    "    \n",
    "living_area_median_dict = calculate_area_median_dict('living_area')\n",
    "    \n",
    "# вычислим жилую площадь\n",
    "def calculate_living_area(row):\n",
    "    if math.isnan(row['living_area']):\n",
    "        return living_area_median_dict[row['total_area']]\n",
    "    \n",
    "    return row['living_area']\n",
    "\n",
    "df['living_area'] = df.apply(calculate_living_area, axis=1)\n",
    "\n",
    "# вычислим площадь кухни, при этом у нас должны все living_area быть заполнены\n",
    "kitchen_area_median_dict = calculate_area_median_dict('kitchen_area')\n",
    "\n",
    "def calculate_kitchen_area(row):\n",
    "    if math.isnan(row['kitchen_area']):\n",
    "        return kitchen_area_median_dict[row['total_area']]\n",
    "    \n",
    "    return row['kitchen_area']\n",
    "\n",
    "df['kitchen_area'] = df.apply(calculate_kitchen_area, axis=1)\n",
    "\n",
    "# проверим, что на данном этапе все ок\n",
    "df.isnull().sum()"
   ]
  },
  {
   "cell_type": "code",
   "execution_count": 727,
   "metadata": {},
   "outputs": [],
   "source": [
    "# Можно заметить, что осталась 1 запись, у которой kitchen_area не было заполнено\n",
    "# Это случай, когда мы не смогли вычислить медиану из-за недостатка данных\n",
    "# Т.к. осталась всего 1 запись, удалим её\n",
    "df.dropna(subset=['kitchen_area'], inplace=True)"
   ]
  },
  {
   "cell_type": "markdown",
   "metadata": {},
   "source": [
    "#### Работа над типами данных"
   ]
  },
  {
   "cell_type": "code",
   "execution_count": 728,
   "metadata": {
    "scrolled": true
   },
   "outputs": [
    {
     "name": "stdout",
     "output_type": "stream",
     "text": [
      "<class 'pandas.core.frame.DataFrame'>\n",
      "Int64Index: 23564 entries, 0 to 23698\n",
      "Data columns (total 22 columns):\n",
      " #   Column                        Non-Null Count  Dtype         \n",
      "---  ------                        --------------  -----         \n",
      " 0   balcony_count                 23564 non-null  int64         \n",
      " 1   rooms_count                   23564 non-null  int64         \n",
      " 2   living_area                   23564 non-null  float64       \n",
      " 3   kitchen_area                  23564 non-null  float64       \n",
      " 4   total_area                    23564 non-null  float64       \n",
      " 5   ceiling_height                23564 non-null  float64       \n",
      " 6   floor                         23564 non-null  int64         \n",
      " 7   total_floors                  23564 non-null  int64         \n",
      " 8   locality_name                 23564 non-null  object        \n",
      " 9   nearest_city_center_distance  18063 non-null  float64       \n",
      " 10  nearest_airport_distance      18040 non-null  float64       \n",
      " 11  parks_in_3km_count            23564 non-null  int64         \n",
      " 12  nearest_park_distance         23564 non-null  float64       \n",
      " 13  ponds_in_3km_count            23564 non-null  int64         \n",
      " 14  nearest_pond_distance         23564 non-null  float64       \n",
      " 15  total_images                  23564 non-null  int64         \n",
      " 16  last_price                    23564 non-null  int64         \n",
      " 17  created_datetime              23564 non-null  datetime64[ns]\n",
      " 18  days_before_close             20393 non-null  float64       \n",
      " 19  is_apartment                  23564 non-null  bool          \n",
      " 20  is_studio                     23564 non-null  bool          \n",
      " 21  is_open_plan                  23564 non-null  bool          \n",
      "dtypes: bool(3), datetime64[ns](1), float64(9), int64(8), object(1)\n",
      "memory usage: 3.7+ MB\n"
     ]
    }
   ],
   "source": [
    "# Изменим типы данных\n",
    "\n",
    "# Цена квартиры с точностью до копейки не используется\n",
    "df['last_price'] = df['last_price'].astype('int')\n",
    "\n",
    "# Число балконов balcony не м.б. float\n",
    "df['balcony_count'] = df['balcony_count'].astype('int')\n",
    "\n",
    "# Количество этажей не м.б. float\n",
    "df['total_floors'] = df['total_floors'].astype('int')\n",
    "\n",
    "# Количество парков и водоемов - также должно быть целым числом\n",
    "df['parks_in_3km_count'] = df['parks_in_3km_count'].astype('int')\n",
    "df['ponds_in_3km_count'] = df['ponds_in_3km_count'].astype('int')\n",
    "\n",
    "# Приведем даты к datetime\n",
    "df['created_datetime'] = pd.to_datetime(df['created_datetime'], format='%Y-%m-%dT%H:%M:%S')\n",
    "\n",
    "# привести к целому значение days_before_close мы не можем, т.к. решили не заполнять его значения\n",
    "# остальные значения должны иметь верный тип, проверим это\n",
    "df.info()"
   ]
  },
  {
   "cell_type": "markdown",
   "metadata": {},
   "source": [
    "#### Обработка дубликатов"
   ]
  },
  {
   "cell_type": "code",
   "execution_count": 729,
   "metadata": {},
   "outputs": [
    {
     "data": {
      "text/plain": [
       "0"
      ]
     },
     "execution_count": 729,
     "metadata": {},
     "output_type": "execute_result"
    }
   ],
   "source": [
    "# проверим, есть ли дубликаты в таблице с помощью метода duplicated\n",
    "df.duplicated().sum()"
   ]
  },
  {
   "cell_type": "markdown",
   "metadata": {},
   "source": [
    "### Вывод по шагу 2"
   ]
  },
  {
   "cell_type": "markdown",
   "metadata": {},
   "source": [
    "Мы привели таблицу к единообразию, привели к целым числам поля, которые по своей сути не могли содержать вещественное значением. Часть данных по имеющимся записям восстановить затруднительно (`nearest_city_center_distance`, `nearest_airport_distance`), поэтому мы оставили их как есть. Хотя в нашем случае важно сообщить об этой находке тому, кто выгружал данные, т.к. таких записей довольно много.\n",
    "\n",
    "Пустые записи в `days_before_close` мы считаем записями о до сих пор активных объявлениях.\n",
    "\n",
    "Записи о времени мы привели к соотвествующему типу, чтобы иметь возможность проводить дополнительные манипуляции.\n",
    "\n",
    "В целом, теперь данные пригодны для анализа."
   ]
  },
  {
   "cell_type": "markdown",
   "metadata": {},
   "source": [
    "### Шаг 3. Посчитайте и добавьте в таблицу"
   ]
  },
  {
   "cell_type": "code",
   "execution_count": 730,
   "metadata": {},
   "outputs": [
    {
     "data": {
      "text/html": [
       "<div>\n",
       "<style scoped>\n",
       "    .dataframe tbody tr th:only-of-type {\n",
       "        vertical-align: middle;\n",
       "    }\n",
       "\n",
       "    .dataframe tbody tr th {\n",
       "        vertical-align: top;\n",
       "    }\n",
       "\n",
       "    .dataframe thead th {\n",
       "        text-align: right;\n",
       "    }\n",
       "</style>\n",
       "<table border=\"1\" class=\"dataframe\">\n",
       "  <thead>\n",
       "    <tr style=\"text-align: right;\">\n",
       "      <th></th>\n",
       "      <th>balcony_count</th>\n",
       "      <th>rooms_count</th>\n",
       "      <th>living_area</th>\n",
       "      <th>kitchen_area</th>\n",
       "      <th>total_area</th>\n",
       "      <th>ceiling_height</th>\n",
       "      <th>floor</th>\n",
       "      <th>total_floors</th>\n",
       "      <th>locality_name</th>\n",
       "      <th>nearest_city_center_distance</th>\n",
       "      <th>nearest_airport_distance</th>\n",
       "      <th>parks_in_3km_count</th>\n",
       "      <th>nearest_park_distance</th>\n",
       "      <th>...</th>\n",
       "      <th>last_price</th>\n",
       "      <th>created_datetime</th>\n",
       "      <th>days_before_close</th>\n",
       "      <th>is_apartment</th>\n",
       "      <th>is_studio</th>\n",
       "      <th>is_open_plan</th>\n",
       "      <th>square_meter_price</th>\n",
       "      <th>created_year</th>\n",
       "      <th>created_month</th>\n",
       "      <th>created_weekday</th>\n",
       "      <th>floor_type</th>\n",
       "      <th>living_area_part</th>\n",
       "      <th>kitchen_area_part</th>\n",
       "    </tr>\n",
       "  </thead>\n",
       "  <tbody>\n",
       "    <tr>\n",
       "      <th>0</th>\n",
       "      <td>0</td>\n",
       "      <td>3</td>\n",
       "      <td>51.000</td>\n",
       "      <td>25.00</td>\n",
       "      <td>108.00</td>\n",
       "      <td>2.70</td>\n",
       "      <td>8</td>\n",
       "      <td>16</td>\n",
       "      <td>Санкт-Петербург</td>\n",
       "      <td>16028.0</td>\n",
       "      <td>18863.0</td>\n",
       "      <td>1</td>\n",
       "      <td>482.0</td>\n",
       "      <td>...</td>\n",
       "      <td>13000000</td>\n",
       "      <td>2019-03-07</td>\n",
       "      <td>NaN</td>\n",
       "      <td>True</td>\n",
       "      <td>False</td>\n",
       "      <td>False</td>\n",
       "      <td>120370.37</td>\n",
       "      <td>2019</td>\n",
       "      <td>7</td>\n",
       "      <td>3</td>\n",
       "      <td>другой</td>\n",
       "      <td>0.47</td>\n",
       "      <td>0.23</td>\n",
       "    </tr>\n",
       "    <tr>\n",
       "      <th>1</th>\n",
       "      <td>2</td>\n",
       "      <td>1</td>\n",
       "      <td>18.600</td>\n",
       "      <td>11.00</td>\n",
       "      <td>40.40</td>\n",
       "      <td>2.65</td>\n",
       "      <td>1</td>\n",
       "      <td>11</td>\n",
       "      <td>посёлок Шушары</td>\n",
       "      <td>18603.0</td>\n",
       "      <td>12817.0</td>\n",
       "      <td>0</td>\n",
       "      <td>5000.0</td>\n",
       "      <td>...</td>\n",
       "      <td>3350000</td>\n",
       "      <td>2018-12-04</td>\n",
       "      <td>81.0</td>\n",
       "      <td>True</td>\n",
       "      <td>False</td>\n",
       "      <td>False</td>\n",
       "      <td>82920.79</td>\n",
       "      <td>2018</td>\n",
       "      <td>4</td>\n",
       "      <td>1</td>\n",
       "      <td>первый</td>\n",
       "      <td>0.46</td>\n",
       "      <td>0.27</td>\n",
       "    </tr>\n",
       "    <tr>\n",
       "      <th>2</th>\n",
       "      <td>0</td>\n",
       "      <td>2</td>\n",
       "      <td>34.300</td>\n",
       "      <td>8.30</td>\n",
       "      <td>56.00</td>\n",
       "      <td>2.65</td>\n",
       "      <td>4</td>\n",
       "      <td>5</td>\n",
       "      <td>Санкт-Петербург</td>\n",
       "      <td>13933.0</td>\n",
       "      <td>21741.0</td>\n",
       "      <td>1</td>\n",
       "      <td>90.0</td>\n",
       "      <td>...</td>\n",
       "      <td>5196000</td>\n",
       "      <td>2015-08-20</td>\n",
       "      <td>558.0</td>\n",
       "      <td>True</td>\n",
       "      <td>False</td>\n",
       "      <td>False</td>\n",
       "      <td>92785.71</td>\n",
       "      <td>2015</td>\n",
       "      <td>20</td>\n",
       "      <td>3</td>\n",
       "      <td>другой</td>\n",
       "      <td>0.61</td>\n",
       "      <td>0.15</td>\n",
       "    </tr>\n",
       "    <tr>\n",
       "      <th>3</th>\n",
       "      <td>0</td>\n",
       "      <td>3</td>\n",
       "      <td>94.845</td>\n",
       "      <td>18.75</td>\n",
       "      <td>159.00</td>\n",
       "      <td>2.65</td>\n",
       "      <td>9</td>\n",
       "      <td>14</td>\n",
       "      <td>Санкт-Петербург</td>\n",
       "      <td>6800.0</td>\n",
       "      <td>28098.0</td>\n",
       "      <td>2</td>\n",
       "      <td>84.0</td>\n",
       "      <td>...</td>\n",
       "      <td>64900000</td>\n",
       "      <td>2015-07-24</td>\n",
       "      <td>424.0</td>\n",
       "      <td>True</td>\n",
       "      <td>False</td>\n",
       "      <td>False</td>\n",
       "      <td>408176.10</td>\n",
       "      <td>2015</td>\n",
       "      <td>24</td>\n",
       "      <td>4</td>\n",
       "      <td>другой</td>\n",
       "      <td>0.60</td>\n",
       "      <td>0.12</td>\n",
       "    </tr>\n",
       "    <tr>\n",
       "      <th>4</th>\n",
       "      <td>0</td>\n",
       "      <td>2</td>\n",
       "      <td>32.000</td>\n",
       "      <td>41.00</td>\n",
       "      <td>100.00</td>\n",
       "      <td>3.03</td>\n",
       "      <td>13</td>\n",
       "      <td>14</td>\n",
       "      <td>Санкт-Петербург</td>\n",
       "      <td>8098.0</td>\n",
       "      <td>31856.0</td>\n",
       "      <td>2</td>\n",
       "      <td>112.0</td>\n",
       "      <td>...</td>\n",
       "      <td>10000000</td>\n",
       "      <td>2018-06-19</td>\n",
       "      <td>121.0</td>\n",
       "      <td>True</td>\n",
       "      <td>False</td>\n",
       "      <td>False</td>\n",
       "      <td>100000.00</td>\n",
       "      <td>2018</td>\n",
       "      <td>19</td>\n",
       "      <td>1</td>\n",
       "      <td>другой</td>\n",
       "      <td>0.32</td>\n",
       "      <td>0.41</td>\n",
       "    </tr>\n",
       "    <tr>\n",
       "      <th>5</th>\n",
       "      <td>0</td>\n",
       "      <td>1</td>\n",
       "      <td>14.400</td>\n",
       "      <td>9.10</td>\n",
       "      <td>30.40</td>\n",
       "      <td>2.65</td>\n",
       "      <td>5</td>\n",
       "      <td>12</td>\n",
       "      <td>городской посёлок Янино-1</td>\n",
       "      <td>NaN</td>\n",
       "      <td>NaN</td>\n",
       "      <td>0</td>\n",
       "      <td>5000.0</td>\n",
       "      <td>...</td>\n",
       "      <td>2890000</td>\n",
       "      <td>2018-09-10</td>\n",
       "      <td>55.0</td>\n",
       "      <td>True</td>\n",
       "      <td>False</td>\n",
       "      <td>False</td>\n",
       "      <td>95065.79</td>\n",
       "      <td>2018</td>\n",
       "      <td>10</td>\n",
       "      <td>0</td>\n",
       "      <td>другой</td>\n",
       "      <td>0.47</td>\n",
       "      <td>0.30</td>\n",
       "    </tr>\n",
       "    <tr>\n",
       "      <th>6</th>\n",
       "      <td>1</td>\n",
       "      <td>1</td>\n",
       "      <td>10.600</td>\n",
       "      <td>14.40</td>\n",
       "      <td>37.30</td>\n",
       "      <td>2.65</td>\n",
       "      <td>6</td>\n",
       "      <td>26</td>\n",
       "      <td>посёлок Парголово</td>\n",
       "      <td>19143.0</td>\n",
       "      <td>52996.0</td>\n",
       "      <td>0</td>\n",
       "      <td>5000.0</td>\n",
       "      <td>...</td>\n",
       "      <td>3700000</td>\n",
       "      <td>2017-11-02</td>\n",
       "      <td>155.0</td>\n",
       "      <td>True</td>\n",
       "      <td>False</td>\n",
       "      <td>False</td>\n",
       "      <td>99195.71</td>\n",
       "      <td>2017</td>\n",
       "      <td>2</td>\n",
       "      <td>3</td>\n",
       "      <td>другой</td>\n",
       "      <td>0.28</td>\n",
       "      <td>0.39</td>\n",
       "    </tr>\n",
       "    <tr>\n",
       "      <th>7</th>\n",
       "      <td>2</td>\n",
       "      <td>2</td>\n",
       "      <td>42.700</td>\n",
       "      <td>18.90</td>\n",
       "      <td>71.60</td>\n",
       "      <td>2.65</td>\n",
       "      <td>22</td>\n",
       "      <td>24</td>\n",
       "      <td>Санкт-Петербург</td>\n",
       "      <td>11634.0</td>\n",
       "      <td>23982.0</td>\n",
       "      <td>0</td>\n",
       "      <td>5000.0</td>\n",
       "      <td>...</td>\n",
       "      <td>7915000</td>\n",
       "      <td>2019-04-18</td>\n",
       "      <td>NaN</td>\n",
       "      <td>True</td>\n",
       "      <td>False</td>\n",
       "      <td>False</td>\n",
       "      <td>110544.69</td>\n",
       "      <td>2019</td>\n",
       "      <td>18</td>\n",
       "      <td>3</td>\n",
       "      <td>другой</td>\n",
       "      <td>0.60</td>\n",
       "      <td>0.26</td>\n",
       "    </tr>\n",
       "    <tr>\n",
       "      <th>8</th>\n",
       "      <td>0</td>\n",
       "      <td>1</td>\n",
       "      <td>15.430</td>\n",
       "      <td>8.81</td>\n",
       "      <td>33.16</td>\n",
       "      <td>2.65</td>\n",
       "      <td>26</td>\n",
       "      <td>27</td>\n",
       "      <td>посёлок Мурино</td>\n",
       "      <td>NaN</td>\n",
       "      <td>NaN</td>\n",
       "      <td>0</td>\n",
       "      <td>5000.0</td>\n",
       "      <td>...</td>\n",
       "      <td>2900000</td>\n",
       "      <td>2018-05-23</td>\n",
       "      <td>189.0</td>\n",
       "      <td>True</td>\n",
       "      <td>False</td>\n",
       "      <td>False</td>\n",
       "      <td>87454.76</td>\n",
       "      <td>2018</td>\n",
       "      <td>23</td>\n",
       "      <td>2</td>\n",
       "      <td>другой</td>\n",
       "      <td>0.47</td>\n",
       "      <td>0.27</td>\n",
       "    </tr>\n",
       "    <tr>\n",
       "      <th>9</th>\n",
       "      <td>2</td>\n",
       "      <td>3</td>\n",
       "      <td>43.600</td>\n",
       "      <td>6.50</td>\n",
       "      <td>61.00</td>\n",
       "      <td>2.50</td>\n",
       "      <td>7</td>\n",
       "      <td>9</td>\n",
       "      <td>Санкт-Петербург</td>\n",
       "      <td>15008.0</td>\n",
       "      <td>50898.0</td>\n",
       "      <td>0</td>\n",
       "      <td>5000.0</td>\n",
       "      <td>...</td>\n",
       "      <td>5400000</td>\n",
       "      <td>2017-02-26</td>\n",
       "      <td>289.0</td>\n",
       "      <td>True</td>\n",
       "      <td>False</td>\n",
       "      <td>False</td>\n",
       "      <td>88524.59</td>\n",
       "      <td>2017</td>\n",
       "      <td>26</td>\n",
       "      <td>6</td>\n",
       "      <td>другой</td>\n",
       "      <td>0.71</td>\n",
       "      <td>0.11</td>\n",
       "    </tr>\n",
       "  </tbody>\n",
       "</table>\n",
       "<p>10 rows × 29 columns</p>\n",
       "</div>"
      ],
      "text/plain": [
       "   balcony_count  rooms_count  living_area  kitchen_area  total_area  \\\n",
       "0              0            3       51.000         25.00      108.00   \n",
       "1              2            1       18.600         11.00       40.40   \n",
       "2              0            2       34.300          8.30       56.00   \n",
       "3              0            3       94.845         18.75      159.00   \n",
       "4              0            2       32.000         41.00      100.00   \n",
       "5              0            1       14.400          9.10       30.40   \n",
       "6              1            1       10.600         14.40       37.30   \n",
       "7              2            2       42.700         18.90       71.60   \n",
       "8              0            1       15.430          8.81       33.16   \n",
       "9              2            3       43.600          6.50       61.00   \n",
       "\n",
       "   ceiling_height  floor  total_floors              locality_name  \\\n",
       "0            2.70      8            16            Санкт-Петербург   \n",
       "1            2.65      1            11             посёлок Шушары   \n",
       "2            2.65      4             5            Санкт-Петербург   \n",
       "3            2.65      9            14            Санкт-Петербург   \n",
       "4            3.03     13            14            Санкт-Петербург   \n",
       "5            2.65      5            12  городской посёлок Янино-1   \n",
       "6            2.65      6            26          посёлок Парголово   \n",
       "7            2.65     22            24            Санкт-Петербург   \n",
       "8            2.65     26            27             посёлок Мурино   \n",
       "9            2.50      7             9            Санкт-Петербург   \n",
       "\n",
       "   nearest_city_center_distance  nearest_airport_distance  parks_in_3km_count  \\\n",
       "0                       16028.0                   18863.0                   1   \n",
       "1                       18603.0                   12817.0                   0   \n",
       "2                       13933.0                   21741.0                   1   \n",
       "3                        6800.0                   28098.0                   2   \n",
       "4                        8098.0                   31856.0                   2   \n",
       "5                           NaN                       NaN                   0   \n",
       "6                       19143.0                   52996.0                   0   \n",
       "7                       11634.0                   23982.0                   0   \n",
       "8                           NaN                       NaN                   0   \n",
       "9                       15008.0                   50898.0                   0   \n",
       "\n",
       "   nearest_park_distance  ...  last_price  created_datetime  \\\n",
       "0                  482.0  ...    13000000        2019-03-07   \n",
       "1                 5000.0  ...     3350000        2018-12-04   \n",
       "2                   90.0  ...     5196000        2015-08-20   \n",
       "3                   84.0  ...    64900000        2015-07-24   \n",
       "4                  112.0  ...    10000000        2018-06-19   \n",
       "5                 5000.0  ...     2890000        2018-09-10   \n",
       "6                 5000.0  ...     3700000        2017-11-02   \n",
       "7                 5000.0  ...     7915000        2019-04-18   \n",
       "8                 5000.0  ...     2900000        2018-05-23   \n",
       "9                 5000.0  ...     5400000        2017-02-26   \n",
       "\n",
       "   days_before_close  is_apartment is_studio  is_open_plan  \\\n",
       "0                NaN          True     False         False   \n",
       "1               81.0          True     False         False   \n",
       "2              558.0          True     False         False   \n",
       "3              424.0          True     False         False   \n",
       "4              121.0          True     False         False   \n",
       "5               55.0          True     False         False   \n",
       "6              155.0          True     False         False   \n",
       "7                NaN          True     False         False   \n",
       "8              189.0          True     False         False   \n",
       "9              289.0          True     False         False   \n",
       "\n",
       "   square_meter_price  created_year  created_month  created_weekday  \\\n",
       "0           120370.37          2019              7                3   \n",
       "1            82920.79          2018              4                1   \n",
       "2            92785.71          2015             20                3   \n",
       "3           408176.10          2015             24                4   \n",
       "4           100000.00          2018             19                1   \n",
       "5            95065.79          2018             10                0   \n",
       "6            99195.71          2017              2                3   \n",
       "7           110544.69          2019             18                3   \n",
       "8            87454.76          2018             23                2   \n",
       "9            88524.59          2017             26                6   \n",
       "\n",
       "   floor_type  living_area_part  kitchen_area_part  \n",
       "0      другой              0.47               0.23  \n",
       "1      первый              0.46               0.27  \n",
       "2      другой              0.61               0.15  \n",
       "3      другой              0.60               0.12  \n",
       "4      другой              0.32               0.41  \n",
       "5      другой              0.47               0.30  \n",
       "6      другой              0.28               0.39  \n",
       "7      другой              0.60               0.26  \n",
       "8      другой              0.47               0.27  \n",
       "9      другой              0.71               0.11  \n",
       "\n",
       "[10 rows x 29 columns]"
      ]
     },
     "execution_count": 730,
     "metadata": {},
     "output_type": "execute_result"
    }
   ],
   "source": [
    "# Добавим в таблицу поля, которые понадобятся нам в дальнейшем\n",
    "\n",
    "# Добавим цену квадратного метра;\n",
    "df['square_meter_price'] = round(df['last_price'] / df['total_area'], 2)\n",
    "\n",
    "# Добавим день недели, месяц и год публикации объявления;\n",
    "df['created_year'] = df['created_datetime'].dt.year\n",
    "df['created_month'] = df['created_datetime'].dt.month\n",
    "df['created_month'] = df['created_datetime'].dt.day\n",
    "df['created_weekday'] = df['created_datetime'].dt.weekday\n",
    "\n",
    "# Добавим этаж квартиры; варианты — первый, последний, другой;\n",
    "def get_floor_type(row):\n",
    "    if row['floor'] == 1:\n",
    "        return 'первый'\n",
    "    elif row['floor'] == row['total_floors']:\n",
    "        return 'последний'\n",
    "    return 'другой'\n",
    "\n",
    "df['floor_type'] =  df.apply(get_floor_type, axis=1)\n",
    "\n",
    "# Добавим соотношение жилой и общей площади, а также отношение площади кухни к общей.\n",
    "df['living_area_part'] = round(df['living_area'] / df['total_area'], 2)\n",
    "df['kitchen_area_part'] = round(df['kitchen_area'] / df['total_area'], 2)\n",
    "\n",
    "# проверим новые поля\n",
    "df.head(10)"
   ]
  },
  {
   "cell_type": "markdown",
   "metadata": {},
   "source": [
    "### Вывод"
   ]
  },
  {
   "cell_type": "markdown",
   "metadata": {},
   "source": [
    "Новые поля, что понадобятся нам в дальнейшем анализе, мы сразу добавили в таблицу"
   ]
  },
  {
   "cell_type": "markdown",
   "metadata": {},
   "source": [
    "### Шаг 4. Проведите исследовательский анализ данных и выполните инструкции:"
   ]
  },
  {
   "cell_type": "markdown",
   "metadata": {},
   "source": [
    "### Этап 4А. Изучим параметры площади, цены, числа комнат и высоты потолков"
   ]
  },
  {
   "cell_type": "markdown",
   "metadata": {},
   "source": [
    "#### Площадь"
   ]
  },
  {
   "cell_type": "code",
   "execution_count": 731,
   "metadata": {},
   "outputs": [
    {
     "data": {
      "text/html": [
       "<div>\n",
       "<style scoped>\n",
       "    .dataframe tbody tr th:only-of-type {\n",
       "        vertical-align: middle;\n",
       "    }\n",
       "\n",
       "    .dataframe tbody tr th {\n",
       "        vertical-align: top;\n",
       "    }\n",
       "\n",
       "    .dataframe thead th {\n",
       "        text-align: right;\n",
       "    }\n",
       "</style>\n",
       "<table border=\"1\" class=\"dataframe\">\n",
       "  <thead>\n",
       "    <tr style=\"text-align: right;\">\n",
       "      <th></th>\n",
       "      <th>kitchen_area</th>\n",
       "      <th>living_area</th>\n",
       "      <th>total_area</th>\n",
       "    </tr>\n",
       "  </thead>\n",
       "  <tbody>\n",
       "    <tr>\n",
       "      <th>count</th>\n",
       "      <td>23564.000000</td>\n",
       "      <td>23564.000000</td>\n",
       "      <td>23564.000000</td>\n",
       "    </tr>\n",
       "    <tr>\n",
       "      <th>mean</th>\n",
       "      <td>10.426895</td>\n",
       "      <td>34.607257</td>\n",
       "      <td>60.324875</td>\n",
       "    </tr>\n",
       "    <tr>\n",
       "      <th>std</th>\n",
       "      <td>5.739074</td>\n",
       "      <td>22.441099</td>\n",
       "      <td>35.656427</td>\n",
       "    </tr>\n",
       "    <tr>\n",
       "      <th>min</th>\n",
       "      <td>1.300000</td>\n",
       "      <td>2.000000</td>\n",
       "      <td>13.000000</td>\n",
       "    </tr>\n",
       "    <tr>\n",
       "      <th>25%</th>\n",
       "      <td>7.000000</td>\n",
       "      <td>18.700000</td>\n",
       "      <td>40.000000</td>\n",
       "    </tr>\n",
       "    <tr>\n",
       "      <th>50%</th>\n",
       "      <td>9.000000</td>\n",
       "      <td>30.000000</td>\n",
       "      <td>52.000000</td>\n",
       "    </tr>\n",
       "    <tr>\n",
       "      <th>75%</th>\n",
       "      <td>11.780000</td>\n",
       "      <td>42.300000</td>\n",
       "      <td>69.700000</td>\n",
       "    </tr>\n",
       "    <tr>\n",
       "      <th>max</th>\n",
       "      <td>112.000000</td>\n",
       "      <td>409.700000</td>\n",
       "      <td>900.000000</td>\n",
       "    </tr>\n",
       "  </tbody>\n",
       "</table>\n",
       "</div>"
      ],
      "text/plain": [
       "       kitchen_area   living_area    total_area\n",
       "count  23564.000000  23564.000000  23564.000000\n",
       "mean      10.426895     34.607257     60.324875\n",
       "std        5.739074     22.441099     35.656427\n",
       "min        1.300000      2.000000     13.000000\n",
       "25%        7.000000     18.700000     40.000000\n",
       "50%        9.000000     30.000000     52.000000\n",
       "75%       11.780000     42.300000     69.700000\n",
       "max      112.000000    409.700000    900.000000"
      ]
     },
     "execution_count": 731,
     "metadata": {},
     "output_type": "execute_result"
    }
   ],
   "source": [
    "df[['kitchen_area', 'living_area', 'total_area']].describe()"
   ]
  },
  {
   "cell_type": "markdown",
   "metadata": {},
   "source": [
    "В данных видно какую-то вакханалию с максимальными значениями и очень большое стандартное отклонение. Скорее всего есть выбросы.\n",
    "Поищем их."
   ]
  },
  {
   "cell_type": "code",
   "execution_count": 732,
   "metadata": {},
   "outputs": [
    {
     "data": {
      "image/png": "[encoded data removed]",
      "text/plain": [
       "<Figure size 432x288 with 1 Axes>"
      ]
     },
     "metadata": {
      "needs_background": "light"
     },
     "output_type": "display_data"
    }
   ],
   "source": [
    "# Построим ящики с усами\n",
    "import matplotlib.pyplot as plt\n",
    "df.boxplot(column='kitchen_area')\n",
    "plt.show()"
   ]
  },
  {
   "cell_type": "code",
   "execution_count": 733,
   "metadata": {
    "scrolled": false
   },
   "outputs": [
    {
     "data": {
      "text/plain": [
       "<matplotlib.axes._subplots.AxesSubplot at 0x7f7ca5987410>"
      ]
     },
     "execution_count": 733,
     "metadata": {},
     "output_type": "execute_result"
    },
    {
     "data": {
      "image/png": "[encoded data removed]",
      "text/plain": [
       "<Figure size 1152x576 with 1 Axes>"
      ]
     },
     "metadata": {
      "needs_background": "light"
     },
     "output_type": "display_data"
    }
   ],
   "source": [
    "# Построим гистограмму Количество корзин берем побольше, чтобы увидеть закономерности в данных чуть более детально\n",
    "# Размер во всех случаях берем побольше\n",
    "df['kitchen_area'].hist(bins=100, range = (0, 100), figsize=(16,8))"
   ]
  },
  {
   "cell_type": "code",
   "execution_count": 734,
   "metadata": {},
   "outputs": [
    {
     "data": {
      "image/png": "[encoded data removed]",
      "text/plain": [
       "<Figure size 432x288 with 1 Axes>"
      ]
     },
     "metadata": {
      "needs_background": "light"
     },
     "output_type": "display_data"
    }
   ],
   "source": [
    "# продолжим с жилой площадью\n",
    "df.boxplot(column='living_area')\n",
    "plt.show()"
   ]
  },
  {
   "cell_type": "code",
   "execution_count": 735,
   "metadata": {},
   "outputs": [
    {
     "data": {
      "text/plain": [
       "<matplotlib.axes._subplots.AxesSubplot at 0x7f7ca627ed90>"
      ]
     },
     "execution_count": 735,
     "metadata": {},
     "output_type": "execute_result"
    },
    {
     "data": {
      "image/png": "[encoded data removed]",
      "text/plain": [
       "<Figure size 1152x576 with 1 Axes>"
      ]
     },
     "metadata": {
      "needs_background": "light"
     },
     "output_type": "display_data"
    }
   ],
   "source": [
    "df['living_area'].hist(bins=100, range = (0, 300), figsize=(16,8))"
   ]
  },
  {
   "cell_type": "code",
   "execution_count": 736,
   "metadata": {},
   "outputs": [
    {
     "data": {
      "image/png": "[encoded data removed]",
      "text/plain": [
       "<Figure size 432x288 with 1 Axes>"
      ]
     },
     "metadata": {
      "needs_background": "light"
     },
     "output_type": "display_data"
    }
   ],
   "source": [
    "# Закончим общей\n",
    "df.boxplot(column='total_area')\n",
    "plt.ylim(0, 600)\n",
    "plt.show()"
   ]
  },
  {
   "cell_type": "code",
   "execution_count": 737,
   "metadata": {},
   "outputs": [
    {
     "data": {
      "text/plain": [
       "<matplotlib.axes._subplots.AxesSubplot at 0x7f7ca607ce90>"
      ]
     },
     "execution_count": 737,
     "metadata": {},
     "output_type": "execute_result"
    },
    {
     "data": {
      "image/png": "[encoded data removed]",
      "text/plain": [
       "<Figure size 1152x576 with 1 Axes>"
      ]
     },
     "metadata": {
      "needs_background": "light"
     },
     "output_type": "display_data"
    }
   ],
   "source": [
    "df['total_area'].hist(bins=100, range = (0, 300), figsize=(16,8))"
   ]
  },
  {
   "cell_type": "markdown",
   "metadata": {},
   "source": [
    "#### Уберем выбросы по площадям"
   ]
  },
  {
   "cell_type": "code",
   "execution_count": 738,
   "metadata": {},
   "outputs": [
    {
     "name": "stdout",
     "output_type": "stream",
     "text": [
      "<class 'pandas.core.frame.DataFrame'>\n",
      "Int64Index: 21771 entries, 1 to 23698\n",
      "Data columns (total 29 columns):\n",
      " #   Column                        Non-Null Count  Dtype         \n",
      "---  ------                        --------------  -----         \n",
      " 0   balcony_count                 21771 non-null  int64         \n",
      " 1   rooms_count                   21771 non-null  int64         \n",
      " 2   living_area                   21771 non-null  float64       \n",
      " 3   kitchen_area                  21771 non-null  float64       \n",
      " 4   total_area                    21771 non-null  float64       \n",
      " 5   ceiling_height                21771 non-null  float64       \n",
      " 6   floor                         21771 non-null  int64         \n",
      " 7   total_floors                  21771 non-null  int64         \n",
      " 8   locality_name                 21771 non-null  object        \n",
      " 9   nearest_city_center_distance  16401 non-null  float64       \n",
      " 10  nearest_airport_distance      16383 non-null  float64       \n",
      " 11  parks_in_3km_count            21771 non-null  int64         \n",
      " 12  nearest_park_distance         21771 non-null  float64       \n",
      " 13  ponds_in_3km_count            21771 non-null  int64         \n",
      " 14  nearest_pond_distance         21771 non-null  float64       \n",
      " 15  total_images                  21771 non-null  int64         \n",
      " 16  last_price                    21771 non-null  int64         \n",
      " 17  created_datetime              21771 non-null  datetime64[ns]\n",
      " 18  days_before_close             19027 non-null  float64       \n",
      " 19  is_apartment                  21771 non-null  bool          \n",
      " 20  is_studio                     21771 non-null  bool          \n",
      " 21  is_open_plan                  21771 non-null  bool          \n",
      " 22  square_meter_price            21771 non-null  float64       \n",
      " 23  created_year                  21771 non-null  int64         \n",
      " 24  created_month                 21771 non-null  int64         \n",
      " 25  created_weekday               21771 non-null  int64         \n",
      " 26  floor_type                    21771 non-null  object        \n",
      " 27  living_area_part              21771 non-null  float64       \n",
      " 28  kitchen_area_part             21771 non-null  float64       \n",
      "dtypes: bool(3), datetime64[ns](1), float64(12), int64(11), object(2)\n",
      "memory usage: 4.5+ MB\n"
     ]
    }
   ],
   "source": [
    "# Не будем делать отдельный срез, изменим сразу наш набор данных\n",
    "df = df[df['total_area'] < 150]\n",
    "df = df[df['kitchen_area'] < 20]\n",
    "df = df[df['living_area'] < 75]\n",
    "\n",
    "# посмотрим насколько изменилась выборка\n",
    "df.info()"
   ]
  },
  {
   "cell_type": "markdown",
   "metadata": {},
   "source": [
    "**Выборка уменьшилась некритично, а от выбросом мы избавились.\n",
    "Можно идти дальше**"
   ]
  },
  {
   "cell_type": "markdown",
   "metadata": {},
   "source": [
    "##### Цена"
   ]
  },
  {
   "cell_type": "code",
   "execution_count": 739,
   "metadata": {},
   "outputs": [
    {
     "data": {
      "text/html": [
       "<div>\n",
       "<style scoped>\n",
       "    .dataframe tbody tr th:only-of-type {\n",
       "        vertical-align: middle;\n",
       "    }\n",
       "\n",
       "    .dataframe tbody tr th {\n",
       "        vertical-align: top;\n",
       "    }\n",
       "\n",
       "    .dataframe thead th {\n",
       "        text-align: right;\n",
       "    }\n",
       "</style>\n",
       "<table border=\"1\" class=\"dataframe\">\n",
       "  <thead>\n",
       "    <tr style=\"text-align: right;\">\n",
       "      <th></th>\n",
       "      <th>last_price</th>\n",
       "      <th>square_meter_price</th>\n",
       "    </tr>\n",
       "  </thead>\n",
       "  <tbody>\n",
       "    <tr>\n",
       "      <th>count</th>\n",
       "      <td>2.177100e+04</td>\n",
       "      <td>21771.000000</td>\n",
       "    </tr>\n",
       "    <tr>\n",
       "      <th>mean</th>\n",
       "      <td>5.190505e+06</td>\n",
       "      <td>95029.056115</td>\n",
       "    </tr>\n",
       "    <tr>\n",
       "      <th>std</th>\n",
       "      <td>3.278854e+06</td>\n",
       "      <td>36671.882927</td>\n",
       "    </tr>\n",
       "    <tr>\n",
       "      <th>min</th>\n",
       "      <td>4.300000e+05</td>\n",
       "      <td>7962.960000</td>\n",
       "    </tr>\n",
       "    <tr>\n",
       "      <th>25%</th>\n",
       "      <td>3.330000e+06</td>\n",
       "      <td>75373.470000</td>\n",
       "    </tr>\n",
       "    <tr>\n",
       "      <th>50%</th>\n",
       "      <td>4.450000e+06</td>\n",
       "      <td>93600.000000</td>\n",
       "    </tr>\n",
       "    <tr>\n",
       "      <th>75%</th>\n",
       "      <td>6.150000e+06</td>\n",
       "      <td>111585.105000</td>\n",
       "    </tr>\n",
       "    <tr>\n",
       "      <th>max</th>\n",
       "      <td>6.500000e+07</td>\n",
       "      <td>848484.850000</td>\n",
       "    </tr>\n",
       "  </tbody>\n",
       "</table>\n",
       "</div>"
      ],
      "text/plain": [
       "         last_price  square_meter_price\n",
       "count  2.177100e+04        21771.000000\n",
       "mean   5.190505e+06        95029.056115\n",
       "std    3.278854e+06        36671.882927\n",
       "min    4.300000e+05         7962.960000\n",
       "25%    3.330000e+06        75373.470000\n",
       "50%    4.450000e+06        93600.000000\n",
       "75%    6.150000e+06       111585.105000\n",
       "max    6.500000e+07       848484.850000"
      ]
     },
     "execution_count": 739,
     "metadata": {},
     "output_type": "execute_result"
    }
   ],
   "source": [
    "# Посмотрим основные параметры\n",
    "df[['last_price', 'square_meter_price']].describe()"
   ]
  },
  {
   "cell_type": "markdown",
   "metadata": {},
   "source": [
    "Здесь стандартное отклонение не такое большое, но максимум также вызывает вопросы. \n",
    "Посмотрим ящики для двух параметров."
   ]
  },
  {
   "cell_type": "code",
   "execution_count": 740,
   "metadata": {},
   "outputs": [
    {
     "data": {
      "image/png": "[encoded data removed]",
      "text/plain": [
       "<Figure size 432x288 with 1 Axes>"
      ]
     },
     "metadata": {
      "needs_background": "light"
     },
     "output_type": "display_data"
    }
   ],
   "source": [
    "# Посмотрим на общую цену\n",
    "df.boxplot(column='last_price')\n",
    "plt.ylim(0, 2 * (10 ** 7))\n",
    "plt.show()"
   ]
  },
  {
   "cell_type": "code",
   "execution_count": 741,
   "metadata": {},
   "outputs": [
    {
     "data": {
      "image/png": "[encoded data removed]",
      "text/plain": [
       "<Figure size 432x288 with 1 Axes>"
      ]
     },
     "metadata": {
      "needs_background": "light"
     },
     "output_type": "display_data"
    }
   ],
   "source": [
    "# И цену за квадратный метр\n",
    "df.boxplot(column='square_meter_price')\n",
    "plt.ylim(0, 200000)\n",
    "plt.show()"
   ]
  },
  {
   "cell_type": "code",
   "execution_count": 742,
   "metadata": {},
   "outputs": [
    {
     "data": {
      "text/plain": [
       "<matplotlib.axes._subplots.AxesSubplot at 0x7f7ca5e046d0>"
      ]
     },
     "execution_count": 742,
     "metadata": {},
     "output_type": "execute_result"
    },
    {
     "data": {
      "image/png": "[encoded data removed]",
      "text/plain": [
       "<Figure size 1152x576 with 1 Axes>"
      ]
     },
     "metadata": {
      "needs_background": "light"
     },
     "output_type": "display_data"
    }
   ],
   "source": [
    "# Построим гистограмму по общей цене\n",
    "df['last_price'].hist(bins=200, range=(0, 0.4 * (10 ** 8)), figsize=(16,8))"
   ]
  },
  {
   "cell_type": "code",
   "execution_count": 743,
   "metadata": {},
   "outputs": [
    {
     "data": {
      "text/plain": [
       "<matplotlib.axes._subplots.AxesSubplot at 0x7f7ca5b3f4d0>"
      ]
     },
     "execution_count": 743,
     "metadata": {},
     "output_type": "execute_result"
    },
    {
     "data": {
      "image/png": "[encoded data removed]",
      "text/plain": [
       "<Figure size 1152x576 with 1 Axes>"
      ]
     },
     "metadata": {
      "needs_background": "light"
     },
     "output_type": "display_data"
    }
   ],
   "source": [
    "# Построим гистограмму цене за квадратный метр\n",
    "df['square_meter_price'].hist(bins=200, range=(0, 1000000), figsize=(16,8))"
   ]
  },
  {
   "cell_type": "markdown",
   "metadata": {},
   "source": [
    "#### Продолжим очищать нашу выборку от выбросов"
   ]
  },
  {
   "cell_type": "code",
   "execution_count": 744,
   "metadata": {},
   "outputs": [
    {
     "name": "stdout",
     "output_type": "stream",
     "text": [
      "<class 'pandas.core.frame.DataFrame'>\n",
      "Int64Index: 20201 entries, 1 to 23698\n",
      "Data columns (total 29 columns):\n",
      " #   Column                        Non-Null Count  Dtype         \n",
      "---  ------                        --------------  -----         \n",
      " 0   balcony_count                 20201 non-null  int64         \n",
      " 1   rooms_count                   20201 non-null  int64         \n",
      " 2   living_area                   20201 non-null  float64       \n",
      " 3   kitchen_area                  20201 non-null  float64       \n",
      " 4   total_area                    20201 non-null  float64       \n",
      " 5   ceiling_height                20201 non-null  float64       \n",
      " 6   floor                         20201 non-null  int64         \n",
      " 7   total_floors                  20201 non-null  int64         \n",
      " 8   locality_name                 20201 non-null  object        \n",
      " 9   nearest_city_center_distance  15093 non-null  float64       \n",
      " 10  nearest_airport_distance      15084 non-null  float64       \n",
      " 11  parks_in_3km_count            20201 non-null  int64         \n",
      " 12  nearest_park_distance         20201 non-null  float64       \n",
      " 13  ponds_in_3km_count            20201 non-null  int64         \n",
      " 14  nearest_pond_distance         20201 non-null  float64       \n",
      " 15  total_images                  20201 non-null  int64         \n",
      " 16  last_price                    20201 non-null  int64         \n",
      " 17  created_datetime              20201 non-null  datetime64[ns]\n",
      " 18  days_before_close             17813 non-null  float64       \n",
      " 19  is_apartment                  20201 non-null  bool          \n",
      " 20  is_studio                     20201 non-null  bool          \n",
      " 21  is_open_plan                  20201 non-null  bool          \n",
      " 22  square_meter_price            20201 non-null  float64       \n",
      " 23  created_year                  20201 non-null  int64         \n",
      " 24  created_month                 20201 non-null  int64         \n",
      " 25  created_weekday               20201 non-null  int64         \n",
      " 26  floor_type                    20201 non-null  object        \n",
      " 27  living_area_part              20201 non-null  float64       \n",
      " 28  kitchen_area_part             20201 non-null  float64       \n",
      "dtypes: bool(3), datetime64[ns](1), float64(12), int64(11), object(2)\n",
      "memory usage: 4.2+ MB\n"
     ]
    }
   ],
   "source": [
    "# Очистим выборку от выбросов\n",
    "df = df[df['last_price'] < 1.1 * (10 ** 7)]\n",
    "df = df[(df['square_meter_price'] > 24000) & (df['square_meter_price'] < 160000)]\n",
    "\n",
    "# Посмотрим, что получилось\n",
    "df.info()"
   ]
  },
  {
   "cell_type": "markdown",
   "metadata": {},
   "source": [
    "##### Количество комнат"
   ]
  },
  {
   "cell_type": "code",
   "execution_count": 745,
   "metadata": {},
   "outputs": [
    {
     "data": {
      "text/plain": [
       "count    20201.000000\n",
       "mean         1.905401\n",
       "std          0.887822\n",
       "min          0.000000\n",
       "25%          1.000000\n",
       "50%          2.000000\n",
       "75%          3.000000\n",
       "max          6.000000\n",
       "Name: rooms_count, dtype: float64"
      ]
     },
     "execution_count": 745,
     "metadata": {},
     "output_type": "execute_result"
    }
   ],
   "source": [
    "# Посмотрим общую информацию по количеству этажей\n",
    "df['rooms_count'].describe()"
   ]
  },
  {
   "cell_type": "code",
   "execution_count": 746,
   "metadata": {},
   "outputs": [
    {
     "data": {
      "text/plain": [
       "<matplotlib.axes._subplots.AxesSubplot at 0x7f7ca58124d0>"
      ]
     },
     "execution_count": 746,
     "metadata": {},
     "output_type": "execute_result"
    },
    {
     "data": {
      "image/png": "[encoded data removed]",
      "text/plain": [
       "<Figure size 1152x576 with 1 Axes>"
      ]
     },
     "metadata": {
      "needs_background": "light"
     },
     "output_type": "display_data"
    }
   ],
   "source": [
    "# Построим гистограмму по количеству этажей\n",
    "df['rooms_count'].hist(bins=6, figsize=(16,8))"
   ]
  },
  {
   "cell_type": "code",
   "execution_count": 747,
   "metadata": {},
   "outputs": [
    {
     "data": {
      "image/png": "[encoded data removed]",
      "text/plain": [
       "<Figure size 432x288 with 1 Axes>"
      ]
     },
     "metadata": {
      "needs_background": "light"
     },
     "output_type": "display_data"
    }
   ],
   "source": [
    "# Хотя визуально никаких выбросов нет, посмотрим на \"ящик с усами\"\n",
    "df.boxplot(column='rooms_count')\n",
    "plt.show()"
   ]
  },
  {
   "cell_type": "markdown",
   "metadata": {},
   "source": [
    "Тут нам повезло и выбросов нет"
   ]
  },
  {
   "cell_type": "markdown",
   "metadata": {},
   "source": [
    "##### Высота потолков"
   ]
  },
  {
   "cell_type": "code",
   "execution_count": 748,
   "metadata": {},
   "outputs": [
    {
     "data": {
      "text/plain": [
       "count    20201.000000\n",
       "mean         2.691467\n",
       "std          0.788813\n",
       "min          1.000000\n",
       "25%          2.600000\n",
       "50%          2.650000\n",
       "75%          2.650000\n",
       "max         32.000000\n",
       "Name: ceiling_height, dtype: float64"
      ]
     },
     "execution_count": 748,
     "metadata": {},
     "output_type": "execute_result"
    }
   ],
   "source": [
    "# Посмотрим общую информацию по высоте потолков\n",
    "df['ceiling_height'].describe()"
   ]
  },
  {
   "cell_type": "code",
   "execution_count": 749,
   "metadata": {},
   "outputs": [
    {
     "data": {
      "image/png": "[encoded data removed]",
      "text/plain": [
       "<Figure size 432x288 with 1 Axes>"
      ]
     },
     "metadata": {
      "needs_background": "light"
     },
     "output_type": "display_data"
    }
   ],
   "source": [
    "# Очевидно, что тут нам опять не очень повезло, посмтроим boxplot и гистограмму\n",
    "df.boxplot(column='ceiling_height')\n",
    "plt.ylim(0,5)\n",
    "plt.show()"
   ]
  },
  {
   "cell_type": "code",
   "execution_count": 750,
   "metadata": {},
   "outputs": [
    {
     "data": {
      "text/plain": [
       "<matplotlib.axes._subplots.AxesSubplot at 0x7f7ca56a8710>"
      ]
     },
     "execution_count": 750,
     "metadata": {},
     "output_type": "execute_result"
    },
    {
     "data": {
      "image/png": "[encoded data removed]",
      "text/plain": [
       "<Figure size 1152x576 with 1 Axes>"
      ]
     },
     "metadata": {
      "needs_background": "light"
     },
     "output_type": "display_data"
    }
   ],
   "source": [
    "df['ceiling_height'].hist(bins=50, range=(2, 5), figsize=(16,8))"
   ]
  },
  {
   "cell_type": "markdown",
   "metadata": {},
   "source": [
    "#### Избавимся от выбросов"
   ]
  },
  {
   "cell_type": "code",
   "execution_count": 751,
   "metadata": {},
   "outputs": [
    {
     "name": "stdout",
     "output_type": "stream",
     "text": [
      "<class 'pandas.core.frame.DataFrame'>\n",
      "RangeIndex: 15977 entries, 0 to 15976\n",
      "Data columns (total 30 columns):\n",
      " #   Column                        Non-Null Count  Dtype         \n",
      "---  ------                        --------------  -----         \n",
      " 0   index                         15977 non-null  int64         \n",
      " 1   balcony_count                 15977 non-null  int64         \n",
      " 2   rooms_count                   15977 non-null  int64         \n",
      " 3   living_area                   15977 non-null  float64       \n",
      " 4   kitchen_area                  15977 non-null  float64       \n",
      " 5   total_area                    15977 non-null  float64       \n",
      " 6   ceiling_height                15977 non-null  float64       \n",
      " 7   floor                         15977 non-null  int64         \n",
      " 8   total_floors                  15977 non-null  int64         \n",
      " 9   locality_name                 15977 non-null  object        \n",
      " 10  nearest_city_center_distance  11870 non-null  float64       \n",
      " 11  nearest_airport_distance      11862 non-null  float64       \n",
      " 12  parks_in_3km_count            15977 non-null  int64         \n",
      " 13  nearest_park_distance         15977 non-null  float64       \n",
      " 14  ponds_in_3km_count            15977 non-null  int64         \n",
      " 15  nearest_pond_distance         15977 non-null  float64       \n",
      " 16  total_images                  15977 non-null  int64         \n",
      " 17  last_price                    15977 non-null  int64         \n",
      " 18  created_datetime              15977 non-null  datetime64[ns]\n",
      " 19  days_before_close             14345 non-null  float64       \n",
      " 20  is_apartment                  15977 non-null  bool          \n",
      " 21  is_studio                     15977 non-null  bool          \n",
      " 22  is_open_plan                  15977 non-null  bool          \n",
      " 23  square_meter_price            15977 non-null  float64       \n",
      " 24  created_year                  15977 non-null  int64         \n",
      " 25  created_month                 15977 non-null  int64         \n",
      " 26  created_weekday               15977 non-null  int64         \n",
      " 27  floor_type                    15977 non-null  object        \n",
      " 28  living_area_part              15977 non-null  float64       \n",
      " 29  kitchen_area_part             15977 non-null  float64       \n",
      "dtypes: bool(3), datetime64[ns](1), float64(12), int64(12), object(2)\n",
      "memory usage: 3.3+ MB\n"
     ]
    }
   ],
   "source": [
    "df = df[df['ceiling_height'] > 2.5]\n",
    "df = df[df['ceiling_height'] <= 3]\n",
    "\n",
    "df.reset_index(inplace=True)\n",
    "\n",
    "# посмотрим, что в итоге осталось:\n",
    "df.info()"
   ]
  },
  {
   "cell_type": "markdown",
   "metadata": {},
   "source": [
    "### Вывод по этапу 4А (исследование и поиск выбросов)"
   ]
  },
  {
   "cell_type": "markdown",
   "metadata": {},
   "source": [
    "- Благодаря исследованию данных мы избавились от выбросов, что могли повлиять на наше исследование и выводы по нему.\n",
    "- Наша выборка при этом сократилась с 23699 до 15977, т.е. примерно на 30 процентов. Что довольно прилично и хочется верить, что мы не отрезали ничего лишнего.\n",
    "- Почти все параметры имеют вид нормального распределения, но у `living_area` заметен определенный всплеск на 20 кв.м. Хотя в данном случае я исхожу из того, что это возможно. Если я ошибаюсь, дальнейший анализ это покажет.\n",
    "- Никаких выбросов не обнаружено в количестве комнат\n",
    "- Разброс по цене и выбросы по ней могут показывать, что цена квартиры выше или ниже определенного значения неактуальна. Однако, мы не проводили анализ по регионам, поэтому разброс возможен.\n",
    "- Неадекватное среднее отклонение было у площадей, мы не можем это чем-то объяснить. Пожалуй, нужно просить человека, что выгружал данные, их перепроверить."
   ]
  },
  {
   "cell_type": "markdown",
   "metadata": {},
   "source": [
    "### Этап 4Б. Изучим время продажи квартиры"
   ]
  },
  {
   "cell_type": "code",
   "execution_count": 752,
   "metadata": {},
   "outputs": [
    {
     "data": {
      "text/plain": [
       "count    14345.000000\n",
       "mean       169.641269\n",
       "std        207.118424\n",
       "min          2.000000\n",
       "25%         43.000000\n",
       "50%         90.000000\n",
       "75%        215.000000\n",
       "max       1553.000000\n",
       "Name: days_before_close, dtype: float64"
      ]
     },
     "execution_count": 752,
     "metadata": {},
     "output_type": "execute_result"
    }
   ],
   "source": [
    "# Поскольку мы приняли, что NaN значения в days_before_close означают, что объявление еще актуально,\n",
    "# то исключим их из данного анализа (т.к. количество дней этого объявления будет сильно зависеть от времени\n",
    "# проведения нами анализа, что будет давать разный результат в разный период времени)\n",
    "\n",
    "df_already_closed = df[df['days_before_close'].notnull()]\n",
    "\n",
    "# изучим время продажи квартиры, чтобы ответить на вопросы\n",
    "df_already_closed['days_before_close'].describe()"
   ]
  },
  {
   "cell_type": "code",
   "execution_count": 753,
   "metadata": {},
   "outputs": [
    {
     "data": {
      "text/plain": [
       "<matplotlib.axes._subplots.AxesSubplot at 0x7f7ca5598610>"
      ]
     },
     "execution_count": 753,
     "metadata": {},
     "output_type": "execute_result"
    },
    {
     "data": {
      "image/png": "[encoded data removed]",
      "text/plain": [
       "<Figure size 1152x576 with 1 Axes>"
      ]
     },
     "metadata": {
      "needs_background": "light"
     },
     "output_type": "display_data"
    }
   ],
   "source": [
    "# Построим гистограмму\n",
    "df_already_closed['days_before_close'].hist(bins=50, figsize=(16,8))"
   ]
  },
  {
   "cell_type": "code",
   "execution_count": 754,
   "metadata": {},
   "outputs": [
    {
     "data": {
      "image/png": "[encoded data removed]",
      "text/plain": [
       "<Figure size 432x288 with 1 Axes>"
      ]
     },
     "metadata": {
      "needs_background": "light"
     },
     "output_type": "display_data"
    }
   ],
   "source": [
    "# ... и уже ставший моим любимым, без сарказма, boxplot\n",
    "df_already_closed.boxplot(column='days_before_close')\n",
    "plt.ylim(0,600)\n",
    "plt.show()"
   ]
  },
  {
   "cell_type": "markdown",
   "metadata": {},
   "source": [
    "### Вывод по этапу 4Б (исследование времени продажи квартиры)"
   ]
  },
  {
   "cell_type": "markdown",
   "metadata": {},
   "source": [
    "- Время продажи описывается Пуассоновским распределением, что для него и было ожидаемо.\n",
    "- В рамках нашей выборки среднее больше медианы, а значит многие квартиры из выборки продавались весьма долго (что можно увидеть и на \"ящике с усами\"). На это же указывает и большое стандартное отклонение.\n",
    "- Можно считать, что продажи прошли очень быстро, если заняли меньше 40 дней, а необычно долго если больше 215 дней (хотя тут спорно, и если применять слово необычно, можно сказать о 450 днях), т.к. остальное укладывается в норму для нашей выборки"
   ]
  },
  {
   "cell_type": "markdown",
   "metadata": {},
   "source": [
    "### Этап 4В. Какие факторы больше всего влияют на цену квартиры?"
   ]
  },
  {
   "cell_type": "markdown",
   "metadata": {},
   "source": [
    "Проверим зависимость цены от:\n",
    "- квадратного метра (уточнение от преподавателя - общей площади)\n",
    "- числа комнат\n",
    "- этажа (первого или последнего)\n",
    "- удалённости от центра\n",
    "- от даты размещения: дня недели, месяца и года. "
   ]
  },
  {
   "cell_type": "markdown",
   "metadata": {},
   "source": [
    "#### Зависимость цены от параметров"
   ]
  },
  {
   "cell_type": "code",
   "execution_count": 755,
   "metadata": {
    "scrolled": true
   },
   "outputs": [
    {
     "data": {
      "text/plain": [
       "0.7134215091466997"
      ]
     },
     "execution_count": 755,
     "metadata": {},
     "output_type": "execute_result"
    }
   ],
   "source": [
    "# Посмотрим коэффиценты корреляции Пирсона для каждого параметра\n",
    "# Начнем с цены за квардратный метр\n",
    "df['last_price'].corr(df['total_area'])"
   ]
  },
  {
   "cell_type": "code",
   "execution_count": 756,
   "metadata": {},
   "outputs": [
    {
     "data": {
      "text/plain": [
       "0.48049241255937863"
      ]
     },
     "execution_count": 756,
     "metadata": {},
     "output_type": "execute_result"
    }
   ],
   "source": [
    "# Зависимость от числа комнат\n",
    "df['last_price'].corr(df['rooms_count'])"
   ]
  },
  {
   "cell_type": "code",
   "execution_count": 757,
   "metadata": {},
   "outputs": [
    {
     "data": {
      "text/plain": [
       "-0.29796128125816534"
      ]
     },
     "execution_count": 757,
     "metadata": {},
     "output_type": "execute_result"
    }
   ],
   "source": [
    "# Зависимость от удаленности от центра\n",
    "df_with_center_distance = df[df['nearest_city_center_distance'].notnull()]\n",
    "df_with_center_distance['last_price'].corr(df_with_center_distance['nearest_city_center_distance'])"
   ]
  },
  {
   "cell_type": "code",
   "execution_count": 758,
   "metadata": {},
   "outputs": [
    {
     "data": {
      "text/plain": [
       "<matplotlib.axes._subplots.AxesSubplot at 0x7f7ca5436850>"
      ]
     },
     "execution_count": 758,
     "metadata": {},
     "output_type": "execute_result"
    },
    {
     "data": {
      "image/png": "[encoded data removed]",
      "text/plain": [
       "<Figure size 432x288 with 1 Axes>"
      ]
     },
     "metadata": {
      "needs_background": "light"
     },
     "output_type": "display_data"
    }
   ],
   "source": [
    "# Посмтроим график, чтобы вообще понимать, есть ли зависимость\n",
    "df.plot(x='floor_type', y='last_price', kind='scatter', alpha=0.06)"
   ]
  },
  {
   "cell_type": "code",
   "execution_count": 759,
   "metadata": {},
   "outputs": [
    {
     "data": {
      "text/plain": [
       "0.027044055674814715"
      ]
     },
     "execution_count": 759,
     "metadata": {},
     "output_type": "execute_result"
    }
   ],
   "source": [
    "# Построим очень хитро коэффицент корреляции для подсчета зависимости между ценой за кв.м.\n",
    "# Это нужно, чтобы ответить на вопрос, насколько сильно влияет фактор этажа\n",
    "df['floor_type_category'] = df['floor_type'].astype('category')\n",
    "df['floor_type_category'].cat.categories = [1, 0, 2]\n",
    "df['floor_type_category'] = df['floor_type_category'].astype('float')\n",
    "df['floor_type_category'].corr(df['last_price'])"
   ]
  },
  {
   "cell_type": "code",
   "execution_count": 760,
   "metadata": {},
   "outputs": [
    {
     "data": {
      "text/plain": [
       "-0.011969217072734501"
      ]
     },
     "execution_count": 760,
     "metadata": {},
     "output_type": "execute_result"
    }
   ],
   "source": [
    "# Посмотрим на зависимость от даты размещения\n",
    "df['last_price'].corr(df['created_weekday'])"
   ]
  },
  {
   "cell_type": "code",
   "execution_count": 761,
   "metadata": {},
   "outputs": [
    {
     "data": {
      "text/plain": [
       "0.0022548454248702008"
      ]
     },
     "execution_count": 761,
     "metadata": {},
     "output_type": "execute_result"
    }
   ],
   "source": [
    "# Посмотрим на зависимость от месяца размещения\n",
    "df['last_price'].corr(df['created_month'])"
   ]
  },
  {
   "cell_type": "code",
   "execution_count": 762,
   "metadata": {},
   "outputs": [
    {
     "data": {
      "text/plain": [
       "0.02712058744537764"
      ]
     },
     "execution_count": 762,
     "metadata": {},
     "output_type": "execute_result"
    }
   ],
   "source": [
    "# Посмотрим на зависимость от года размещения\n",
    "df['last_price'].corr(df['created_year'])"
   ]
  },
  {
   "cell_type": "markdown",
   "metadata": {},
   "source": [
    "### Вывод по этапу 4В (зависимость цены от параметров)"
   ]
  },
  {
   "cell_type": "markdown",
   "metadata": {},
   "source": [
    "- Больше всего на цену квартиры влияет цена за квадратный метр и количество комнат\n",
    "- Чем дальше квартира от центра, тем меньше она стоит\n",
    "- Квартиры на первом этаже котируются меньше квартир на последнем. При этом и те, и другие проигрывают в цене квартирам на других этажах. Хотя корреляция с ценой на общей выборке минимальна\n",
    "- Корреляции с днем и месяцем размещения практически нет. Минимально влияет год (чем позже, тем дороже, т.е. недвижимость растет в цене). Из любопытно все же - квартиры размещенные в выходные стоят дешевле квартир размещенных в начале недели. Это можно в будущем поисследовать отдельно"
   ]
  },
  {
   "cell_type": "markdown",
   "metadata": {},
   "source": [
    "### Этап 4Г. Исследование ТОП городов по стоимости жилья"
   ]
  },
  {
   "cell_type": "markdown",
   "metadata": {},
   "source": [
    "- выберем 10 населённых пунктов с наибольшим числом объявлений\n",
    "- посчитаем среднюю цену квадратного метра в них\n",
    "- выделим населённые пункты с самой высокой и низкой стоимостью жилья"
   ]
  },
  {
   "cell_type": "code",
   "execution_count": 763,
   "metadata": {},
   "outputs": [
    {
     "data": {
      "text/html": [
       "<div>\n",
       "<style scoped>\n",
       "    .dataframe tbody tr th:only-of-type {\n",
       "        vertical-align: middle;\n",
       "    }\n",
       "\n",
       "    .dataframe tbody tr th {\n",
       "        vertical-align: top;\n",
       "    }\n",
       "\n",
       "    .dataframe thead th {\n",
       "        text-align: right;\n",
       "    }\n",
       "</style>\n",
       "<table border=\"1\" class=\"dataframe\">\n",
       "  <thead>\n",
       "    <tr style=\"text-align: right;\">\n",
       "      <th></th>\n",
       "      <th>count</th>\n",
       "    </tr>\n",
       "    <tr>\n",
       "      <th>locality_name</th>\n",
       "      <th></th>\n",
       "    </tr>\n",
       "  </thead>\n",
       "  <tbody>\n",
       "    <tr>\n",
       "      <th>Санкт-Петербург</th>\n",
       "      <td>10045</td>\n",
       "    </tr>\n",
       "    <tr>\n",
       "      <th>посёлок Мурино</th>\n",
       "      <td>506</td>\n",
       "    </tr>\n",
       "    <tr>\n",
       "      <th>посёлок Шушары</th>\n",
       "      <td>403</td>\n",
       "    </tr>\n",
       "    <tr>\n",
       "      <th>Всеволожск</th>\n",
       "      <td>351</td>\n",
       "    </tr>\n",
       "    <tr>\n",
       "      <th>посёлок Парголово</th>\n",
       "      <td>308</td>\n",
       "    </tr>\n",
       "    <tr>\n",
       "      <th>деревня Кудрово</th>\n",
       "      <td>283</td>\n",
       "    </tr>\n",
       "    <tr>\n",
       "      <th>Пушкин</th>\n",
       "      <td>237</td>\n",
       "    </tr>\n",
       "    <tr>\n",
       "      <th>Гатчина</th>\n",
       "      <td>222</td>\n",
       "    </tr>\n",
       "    <tr>\n",
       "      <th>Колпино</th>\n",
       "      <td>217</td>\n",
       "    </tr>\n",
       "    <tr>\n",
       "      <th>Выборг</th>\n",
       "      <td>172</td>\n",
       "    </tr>\n",
       "  </tbody>\n",
       "</table>\n",
       "</div>"
      ],
      "text/plain": [
       "                   count\n",
       "locality_name           \n",
       "Санкт-Петербург    10045\n",
       "посёлок Мурино       506\n",
       "посёлок Шушары       403\n",
       "Всеволожск           351\n",
       "посёлок Парголово    308\n",
       "деревня Кудрово      283\n",
       "Пушкин               237\n",
       "Гатчина              222\n",
       "Колпино              217\n",
       "Выборг               172"
      ]
     },
     "execution_count": 763,
     "metadata": {},
     "output_type": "execute_result"
    }
   ],
   "source": [
    "# выберем 10 населённых пунктов с наибольшим числом объявлений\n",
    "#df['locality_name'].value_counts().head(10)\n",
    "df_top_10 = df.pivot_table(index=['locality_name'], values=['floor'], aggfunc='count')\n",
    "df_top_10.columns = ['count']\n",
    "df_top_10 = df_top_10.sort_values(by='count', ascending=False)\n",
    "df_top_10 = df_top_10.head(10)\n",
    "# проверим, что получилось\n",
    "df_top_10"
   ]
  },
  {
   "cell_type": "code",
   "execution_count": 764,
   "metadata": {},
   "outputs": [
    {
     "data": {
      "text/html": [
       "<div>\n",
       "<style scoped>\n",
       "    .dataframe tbody tr th:only-of-type {\n",
       "        vertical-align: middle;\n",
       "    }\n",
       "\n",
       "    .dataframe tbody tr th {\n",
       "        vertical-align: top;\n",
       "    }\n",
       "\n",
       "    .dataframe thead th {\n",
       "        text-align: right;\n",
       "    }\n",
       "</style>\n",
       "<table border=\"1\" class=\"dataframe\">\n",
       "  <thead>\n",
       "    <tr style=\"text-align: right;\">\n",
       "      <th></th>\n",
       "      <th>square_meter_price</th>\n",
       "    </tr>\n",
       "    <tr>\n",
       "      <th>locality_name</th>\n",
       "      <th></th>\n",
       "    </tr>\n",
       "  </thead>\n",
       "  <tbody>\n",
       "    <tr>\n",
       "      <th>Санкт-Петербург</th>\n",
       "      <td>103880.755817</td>\n",
       "    </tr>\n",
       "    <tr>\n",
       "      <th>Пушкин</th>\n",
       "      <td>100774.761646</td>\n",
       "    </tr>\n",
       "    <tr>\n",
       "      <th>деревня Кудрово</th>\n",
       "      <td>92873.574700</td>\n",
       "    </tr>\n",
       "    <tr>\n",
       "      <th>посёлок Парголово</th>\n",
       "      <td>90231.928766</td>\n",
       "    </tr>\n",
       "    <tr>\n",
       "      <th>посёлок Мурино</th>\n",
       "      <td>85560.519091</td>\n",
       "    </tr>\n",
       "    <tr>\n",
       "      <th>посёлок Шушары</th>\n",
       "      <td>78465.273375</td>\n",
       "    </tr>\n",
       "    <tr>\n",
       "      <th>Колпино</th>\n",
       "      <td>75131.971014</td>\n",
       "    </tr>\n",
       "    <tr>\n",
       "      <th>Гатчина</th>\n",
       "      <td>69200.728423</td>\n",
       "    </tr>\n",
       "    <tr>\n",
       "      <th>Всеволожск</th>\n",
       "      <td>67295.974786</td>\n",
       "    </tr>\n",
       "    <tr>\n",
       "      <th>Выборг</th>\n",
       "      <td>58278.086802</td>\n",
       "    </tr>\n",
       "  </tbody>\n",
       "</table>\n",
       "</div>"
      ],
      "text/plain": [
       "                   square_meter_price\n",
       "locality_name                        \n",
       "Санкт-Петербург         103880.755817\n",
       "Пушкин                  100774.761646\n",
       "деревня Кудрово          92873.574700\n",
       "посёлок Парголово        90231.928766\n",
       "посёлок Мурино           85560.519091\n",
       "посёлок Шушары           78465.273375\n",
       "Колпино                  75131.971014\n",
       "Гатчина                  69200.728423\n",
       "Всеволожск               67295.974786\n",
       "Выборг                   58278.086802"
      ]
     },
     "execution_count": 764,
     "metadata": {},
     "output_type": "execute_result"
    }
   ],
   "source": [
    "# посчитаем среднюю цену квадратного метра в них\n",
    "df_slice = (df.query('locality_name in @df_top_10.index')\n",
    "              .pivot_table(index='locality_name', values=['square_meter_price'], aggfunc='mean')\n",
    "              .sort_values(by='square_meter_price', ascending=False))\n",
    "df_slice"
   ]
  },
  {
   "cell_type": "markdown",
   "metadata": {},
   "source": [
    "### Вывод по этапу 4Г (сследование ТОП городов по стоимости жилья)"
   ]
  },
  {
   "cell_type": "markdown",
   "metadata": {},
   "source": [
    "- Самое дорогое жилье в Санкт-Петербурге, но он вполне сопоставимо с городом Пушкин, что удивительно\n",
    "- Самое дешевое в Выборге и Всеволожске, при чем разница весьма ощутима (30-40 процентов)"
   ]
  },
  {
   "cell_type": "markdown",
   "metadata": {},
   "source": [
    "### Этап 4Д. Изучим предложения квартир по расстоянию от центра"
   ]
  },
  {
   "cell_type": "markdown",
   "metadata": {},
   "source": [
    "- выделим квартиры в Санкт-Петербурге\n",
    "- выясним, какая область входит в центр\n",
    "  - для этого создадим столбец с расстоянием до центра в километрах и округлим до целых значений\n",
    "  - после этого посчитаем среднюю цену для каждого километра\n",
    "  - построим график и покажем, как цена зависит от удалённости от центра, определим границу, где график сильно меняется"
   ]
  },
  {
   "cell_type": "code",
   "execution_count": 765,
   "metadata": {},
   "outputs": [],
   "source": [
    "# Сперва избавимся от нулевых значений, что мы не можем вычислить\n",
    "# Напомню, что не делали это сразу, чтобы иметь больше остальных данных для анализа\n",
    "df.dropna(subset=['nearest_city_center_distance'], inplace=True)\n",
    "df.reset_index(inplace=True)"
   ]
  },
  {
   "cell_type": "code",
   "execution_count": 766,
   "metadata": {},
   "outputs": [
    {
     "data": {
      "text/html": [
       "<div>\n",
       "<style scoped>\n",
       "    .dataframe tbody tr th:only-of-type {\n",
       "        vertical-align: middle;\n",
       "    }\n",
       "\n",
       "    .dataframe tbody tr th {\n",
       "        vertical-align: top;\n",
       "    }\n",
       "\n",
       "    .dataframe thead th {\n",
       "        text-align: right;\n",
       "    }\n",
       "</style>\n",
       "<table border=\"1\" class=\"dataframe\">\n",
       "  <thead>\n",
       "    <tr style=\"text-align: right;\">\n",
       "      <th></th>\n",
       "      <th>nearest_city_center_distance</th>\n",
       "      <th>nearest_city_center_distance_km</th>\n",
       "    </tr>\n",
       "  </thead>\n",
       "  <tbody>\n",
       "    <tr>\n",
       "      <th>1</th>\n",
       "      <td>13933.0</td>\n",
       "      <td>14</td>\n",
       "    </tr>\n",
       "    <tr>\n",
       "      <th>3</th>\n",
       "      <td>11634.0</td>\n",
       "      <td>12</td>\n",
       "    </tr>\n",
       "    <tr>\n",
       "      <th>4</th>\n",
       "      <td>13878.0</td>\n",
       "      <td>14</td>\n",
       "    </tr>\n",
       "    <tr>\n",
       "      <th>8</th>\n",
       "      <td>14259.0</td>\n",
       "      <td>14</td>\n",
       "    </tr>\n",
       "    <tr>\n",
       "      <th>9</th>\n",
       "      <td>14616.0</td>\n",
       "      <td>15</td>\n",
       "    </tr>\n",
       "    <tr>\n",
       "      <th>...</th>\n",
       "      <td>...</td>\n",
       "      <td>...</td>\n",
       "    </tr>\n",
       "    <tr>\n",
       "      <th>11864</th>\n",
       "      <td>11602.0</td>\n",
       "      <td>12</td>\n",
       "    </tr>\n",
       "    <tr>\n",
       "      <th>11865</th>\n",
       "      <td>16704.0</td>\n",
       "      <td>17</td>\n",
       "    </tr>\n",
       "    <tr>\n",
       "      <th>11866</th>\n",
       "      <td>16081.0</td>\n",
       "      <td>16</td>\n",
       "    </tr>\n",
       "    <tr>\n",
       "      <th>11867</th>\n",
       "      <td>6263.0</td>\n",
       "      <td>6</td>\n",
       "    </tr>\n",
       "    <tr>\n",
       "      <th>11868</th>\n",
       "      <td>4489.0</td>\n",
       "      <td>4</td>\n",
       "    </tr>\n",
       "  </tbody>\n",
       "</table>\n",
       "<p>10017 rows × 2 columns</p>\n",
       "</div>"
      ],
      "text/plain": [
       "       nearest_city_center_distance  nearest_city_center_distance_km\n",
       "1                           13933.0                               14\n",
       "3                           11634.0                               12\n",
       "4                           13878.0                               14\n",
       "8                           14259.0                               14\n",
       "9                           14616.0                               15\n",
       "...                             ...                              ...\n",
       "11864                       11602.0                               12\n",
       "11865                       16704.0                               17\n",
       "11866                       16081.0                               16\n",
       "11867                        6263.0                                6\n",
       "11868                        4489.0                                4\n",
       "\n",
       "[10017 rows x 2 columns]"
      ]
     },
     "execution_count": 766,
     "metadata": {},
     "output_type": "execute_result"
    }
   ],
   "source": [
    "# Добавим расстояние до центра в километрах\n",
    "df['nearest_city_center_distance_km'] = round(df['nearest_city_center_distance'] / 1000, 0)\n",
    "df['nearest_city_center_distance_km'] = df['nearest_city_center_distance_km'].astype('int')\n",
    "\n",
    "# Выберем только часть в Санкт-Петербурге\n",
    "df_spb = df[df['locality_name'] == 'Санкт-Петербург']\n",
    "\n",
    "# посмотрим, что все ок\n",
    "df_spb[['nearest_city_center_distance', 'nearest_city_center_distance_km']]"
   ]
  },
  {
   "cell_type": "code",
   "execution_count": 767,
   "metadata": {},
   "outputs": [
    {
     "data": {
      "text/html": [
       "<div>\n",
       "<style scoped>\n",
       "    .dataframe tbody tr th:only-of-type {\n",
       "        vertical-align: middle;\n",
       "    }\n",
       "\n",
       "    .dataframe tbody tr th {\n",
       "        vertical-align: top;\n",
       "    }\n",
       "\n",
       "    .dataframe thead th {\n",
       "        text-align: right;\n",
       "    }\n",
       "</style>\n",
       "<table border=\"1\" class=\"dataframe\">\n",
       "  <thead>\n",
       "    <tr style=\"text-align: right;\">\n",
       "      <th></th>\n",
       "      <th>mean_km_price</th>\n",
       "    </tr>\n",
       "    <tr>\n",
       "      <th>nearest_city_center_distance_km</th>\n",
       "      <th></th>\n",
       "    </tr>\n",
       "  </thead>\n",
       "  <tbody>\n",
       "    <tr>\n",
       "      <th>0</th>\n",
       "      <td>6.466667e+06</td>\n",
       "    </tr>\n",
       "    <tr>\n",
       "      <th>1</th>\n",
       "      <td>7.784395e+06</td>\n",
       "    </tr>\n",
       "    <tr>\n",
       "      <th>2</th>\n",
       "      <td>7.324461e+06</td>\n",
       "    </tr>\n",
       "    <tr>\n",
       "      <th>3</th>\n",
       "      <td>6.775547e+06</td>\n",
       "    </tr>\n",
       "    <tr>\n",
       "      <th>4</th>\n",
       "      <td>6.949153e+06</td>\n",
       "    </tr>\n",
       "    <tr>\n",
       "      <th>5</th>\n",
       "      <td>7.079330e+06</td>\n",
       "    </tr>\n",
       "    <tr>\n",
       "      <th>6</th>\n",
       "      <td>6.730481e+06</td>\n",
       "    </tr>\n",
       "    <tr>\n",
       "      <th>7</th>\n",
       "      <td>6.343046e+06</td>\n",
       "    </tr>\n",
       "    <tr>\n",
       "      <th>8</th>\n",
       "      <td>6.320957e+06</td>\n",
       "    </tr>\n",
       "    <tr>\n",
       "      <th>9</th>\n",
       "      <td>5.439941e+06</td>\n",
       "    </tr>\n",
       "    <tr>\n",
       "      <th>10</th>\n",
       "      <td>5.336655e+06</td>\n",
       "    </tr>\n",
       "    <tr>\n",
       "      <th>11</th>\n",
       "      <td>5.265093e+06</td>\n",
       "    </tr>\n",
       "    <tr>\n",
       "      <th>12</th>\n",
       "      <td>5.253913e+06</td>\n",
       "    </tr>\n",
       "    <tr>\n",
       "      <th>13</th>\n",
       "      <td>5.448238e+06</td>\n",
       "    </tr>\n",
       "    <tr>\n",
       "      <th>14</th>\n",
       "      <td>5.246316e+06</td>\n",
       "    </tr>\n",
       "    <tr>\n",
       "      <th>15</th>\n",
       "      <td>5.319072e+06</td>\n",
       "    </tr>\n",
       "    <tr>\n",
       "      <th>16</th>\n",
       "      <td>5.079481e+06</td>\n",
       "    </tr>\n",
       "    <tr>\n",
       "      <th>17</th>\n",
       "      <td>4.931552e+06</td>\n",
       "    </tr>\n",
       "    <tr>\n",
       "      <th>18</th>\n",
       "      <td>4.653390e+06</td>\n",
       "    </tr>\n",
       "    <tr>\n",
       "      <th>19</th>\n",
       "      <td>4.860096e+06</td>\n",
       "    </tr>\n",
       "    <tr>\n",
       "      <th>20</th>\n",
       "      <td>6.099889e+06</td>\n",
       "    </tr>\n",
       "    <tr>\n",
       "      <th>21</th>\n",
       "      <td>5.329332e+06</td>\n",
       "    </tr>\n",
       "    <tr>\n",
       "      <th>22</th>\n",
       "      <td>5.111816e+06</td>\n",
       "    </tr>\n",
       "    <tr>\n",
       "      <th>23</th>\n",
       "      <td>4.752493e+06</td>\n",
       "    </tr>\n",
       "    <tr>\n",
       "      <th>24</th>\n",
       "      <td>3.854430e+06</td>\n",
       "    </tr>\n",
       "    <tr>\n",
       "      <th>25</th>\n",
       "      <td>3.879265e+06</td>\n",
       "    </tr>\n",
       "    <tr>\n",
       "      <th>26</th>\n",
       "      <td>4.029734e+06</td>\n",
       "    </tr>\n",
       "    <tr>\n",
       "      <th>27</th>\n",
       "      <td>2.250000e+06</td>\n",
       "    </tr>\n",
       "    <tr>\n",
       "      <th>28</th>\n",
       "      <td>5.026429e+06</td>\n",
       "    </tr>\n",
       "    <tr>\n",
       "      <th>29</th>\n",
       "      <td>4.000000e+06</td>\n",
       "    </tr>\n",
       "  </tbody>\n",
       "</table>\n",
       "</div>"
      ],
      "text/plain": [
       "                                 mean_km_price\n",
       "nearest_city_center_distance_km               \n",
       "0                                 6.466667e+06\n",
       "1                                 7.784395e+06\n",
       "2                                 7.324461e+06\n",
       "3                                 6.775547e+06\n",
       "4                                 6.949153e+06\n",
       "5                                 7.079330e+06\n",
       "6                                 6.730481e+06\n",
       "7                                 6.343046e+06\n",
       "8                                 6.320957e+06\n",
       "9                                 5.439941e+06\n",
       "10                                5.336655e+06\n",
       "11                                5.265093e+06\n",
       "12                                5.253913e+06\n",
       "13                                5.448238e+06\n",
       "14                                5.246316e+06\n",
       "15                                5.319072e+06\n",
       "16                                5.079481e+06\n",
       "17                                4.931552e+06\n",
       "18                                4.653390e+06\n",
       "19                                4.860096e+06\n",
       "20                                6.099889e+06\n",
       "21                                5.329332e+06\n",
       "22                                5.111816e+06\n",
       "23                                4.752493e+06\n",
       "24                                3.854430e+06\n",
       "25                                3.879265e+06\n",
       "26                                4.029734e+06\n",
       "27                                2.250000e+06\n",
       "28                                5.026429e+06\n",
       "29                                4.000000e+06"
      ]
     },
     "execution_count": 767,
     "metadata": {},
     "output_type": "execute_result"
    }
   ],
   "source": [
    "# Посчитаем среднюю цену на каждый километр\n",
    "df_spb_pivot = df_spb.pivot_table(index='nearest_city_center_distance_km', values='last_price', aggfunc='mean')\n",
    "df_spb_pivot.columns = ['mean_km_price']\n",
    "# посмотрим, что получилось\n",
    "df_spb_pivot"
   ]
  },
  {
   "cell_type": "code",
   "execution_count": 768,
   "metadata": {},
   "outputs": [
    {
     "data": {
      "text/plain": [
       "<matplotlib.axes._subplots.AxesSubplot at 0x7f7ca53f8b10>"
      ]
     },
     "execution_count": 768,
     "metadata": {},
     "output_type": "execute_result"
    },
    {
     "data": {
      "image/png": "[encoded data removed]",
      "text/plain": [
       "<Figure size 1152x576 with 1 Axes>"
      ]
     },
     "metadata": {
      "needs_background": "light"
     },
     "output_type": "display_data"
    }
   ],
   "source": [
    "# Построим график\n",
    "df_spb_pivot.plot(kind='bar', figsize=(16,8))"
   ]
  },
  {
   "cell_type": "markdown",
   "metadata": {},
   "source": [
    "### Вывод по этапу 4Д. (предложения квартир по расстоянию от центра)"
   ]
  },
  {
   "cell_type": "markdown",
   "metadata": {},
   "source": [
    "- Центром можно считать зону до 8 километров, хотя в целом, видимо в определенных отдаленных районах цена может быть сопоставима. Либо мы имеем еще выбросы."
   ]
  },
  {
   "cell_type": "markdown",
   "metadata": {},
   "source": [
    "### Этап 4Е. Дополнительно изучим сегмент квартир в центре"
   ]
  },
  {
   "cell_type": "markdown",
   "metadata": {},
   "source": [
    "- Выделим сегмент квартир в центре\n",
    "- Изучим площадь, цену, число комнат, высота потолков\n",
    "- Выделим факторы, которые влияют на стоимость квартиры (число комнат, этаж, удалённость от центра, дата размещения объявления)\n",
    "- Сравним с данными по целому городу"
   ]
  },
  {
   "cell_type": "code",
   "execution_count": 769,
   "metadata": {},
   "outputs": [],
   "source": [
    "# выделим сегмент в центре\n",
    "df_spb_center = df_spb.query('nearest_city_center_distance_km <= 8')"
   ]
  },
  {
   "cell_type": "code",
   "execution_count": 774,
   "metadata": {},
   "outputs": [
    {
     "data": {
      "text/html": [
       "<div>\n",
       "<style scoped>\n",
       "    .dataframe tbody tr th:only-of-type {\n",
       "        vertical-align: middle;\n",
       "    }\n",
       "\n",
       "    .dataframe tbody tr th {\n",
       "        vertical-align: top;\n",
       "    }\n",
       "\n",
       "    .dataframe thead th {\n",
       "        text-align: right;\n",
       "    }\n",
       "</style>\n",
       "<table border=\"1\" class=\"dataframe\">\n",
       "  <thead>\n",
       "    <tr style=\"text-align: right;\">\n",
       "      <th></th>\n",
       "      <th>total_area</th>\n",
       "      <th>last_price</th>\n",
       "      <th>rooms_count</th>\n",
       "      <th>ceiling_height</th>\n",
       "      <th>total_area_center</th>\n",
       "      <th>last_price_center</th>\n",
       "      <th>rooms_count_center</th>\n",
       "      <th>ceiling_height_center</th>\n",
       "    </tr>\n",
       "  </thead>\n",
       "  <tbody>\n",
       "    <tr>\n",
       "      <th>count</th>\n",
       "      <td>10017.000000</td>\n",
       "      <td>1.001700e+04</td>\n",
       "      <td>10017.000000</td>\n",
       "      <td>10017.000000</td>\n",
       "      <td>1583.000000</td>\n",
       "      <td>1.583000e+03</td>\n",
       "      <td>1583.000000</td>\n",
       "      <td>1583.000000</td>\n",
       "    </tr>\n",
       "    <tr>\n",
       "      <th>mean</th>\n",
       "      <td>53.466183</td>\n",
       "      <td>5.467355e+06</td>\n",
       "      <td>1.899371</td>\n",
       "      <td>2.677848</td>\n",
       "      <td>61.876753</td>\n",
       "      <td>6.774394e+06</td>\n",
       "      <td>2.204043</td>\n",
       "      <td>2.735527</td>\n",
       "    </tr>\n",
       "    <tr>\n",
       "      <th>std</th>\n",
       "      <td>17.719376</td>\n",
       "      <td>1.874901e+06</td>\n",
       "      <td>0.889489</td>\n",
       "      <td>0.101044</td>\n",
       "      <td>19.678018</td>\n",
       "      <td>2.009906e+06</td>\n",
       "      <td>0.915209</td>\n",
       "      <td>0.136318</td>\n",
       "    </tr>\n",
       "    <tr>\n",
       "      <th>min</th>\n",
       "      <td>13.000000</td>\n",
       "      <td>1.190000e+06</td>\n",
       "      <td>0.000000</td>\n",
       "      <td>2.510000</td>\n",
       "      <td>13.200000</td>\n",
       "      <td>1.686000e+06</td>\n",
       "      <td>0.000000</td>\n",
       "      <td>2.510000</td>\n",
       "    </tr>\n",
       "    <tr>\n",
       "      <th>25%</th>\n",
       "      <td>40.000000</td>\n",
       "      <td>4.000000e+06</td>\n",
       "      <td>1.000000</td>\n",
       "      <td>2.650000</td>\n",
       "      <td>46.000000</td>\n",
       "      <td>5.250500e+06</td>\n",
       "      <td>2.000000</td>\n",
       "      <td>2.650000</td>\n",
       "    </tr>\n",
       "    <tr>\n",
       "      <th>50%</th>\n",
       "      <td>50.000000</td>\n",
       "      <td>5.000000e+06</td>\n",
       "      <td>2.000000</td>\n",
       "      <td>2.650000</td>\n",
       "      <td>60.000000</td>\n",
       "      <td>6.650000e+06</td>\n",
       "      <td>2.000000</td>\n",
       "      <td>2.650000</td>\n",
       "    </tr>\n",
       "    <tr>\n",
       "      <th>75%</th>\n",
       "      <td>64.500000</td>\n",
       "      <td>6.550000e+06</td>\n",
       "      <td>3.000000</td>\n",
       "      <td>2.700000</td>\n",
       "      <td>75.400000</td>\n",
       "      <td>8.338412e+06</td>\n",
       "      <td>3.000000</td>\n",
       "      <td>2.800000</td>\n",
       "    </tr>\n",
       "    <tr>\n",
       "      <th>max</th>\n",
       "      <td>133.600000</td>\n",
       "      <td>1.099900e+07</td>\n",
       "      <td>6.000000</td>\n",
       "      <td>3.000000</td>\n",
       "      <td>133.600000</td>\n",
       "      <td>1.099000e+07</td>\n",
       "      <td>5.000000</td>\n",
       "      <td>3.000000</td>\n",
       "    </tr>\n",
       "  </tbody>\n",
       "</table>\n",
       "</div>"
      ],
      "text/plain": [
       "         total_area    last_price   rooms_count  ceiling_height  \\\n",
       "count  10017.000000  1.001700e+04  10017.000000    10017.000000   \n",
       "mean      53.466183  5.467355e+06      1.899371        2.677848   \n",
       "std       17.719376  1.874901e+06      0.889489        0.101044   \n",
       "min       13.000000  1.190000e+06      0.000000        2.510000   \n",
       "25%       40.000000  4.000000e+06      1.000000        2.650000   \n",
       "50%       50.000000  5.000000e+06      2.000000        2.650000   \n",
       "75%       64.500000  6.550000e+06      3.000000        2.700000   \n",
       "max      133.600000  1.099900e+07      6.000000        3.000000   \n",
       "\n",
       "       total_area_center  last_price_center  rooms_count_center  \\\n",
       "count        1583.000000       1.583000e+03         1583.000000   \n",
       "mean           61.876753       6.774394e+06            2.204043   \n",
       "std            19.678018       2.009906e+06            0.915209   \n",
       "min            13.200000       1.686000e+06            0.000000   \n",
       "25%            46.000000       5.250500e+06            2.000000   \n",
       "50%            60.000000       6.650000e+06            2.000000   \n",
       "75%            75.400000       8.338412e+06            3.000000   \n",
       "max           133.600000       1.099000e+07            5.000000   \n",
       "\n",
       "       ceiling_height_center  \n",
       "count            1583.000000  \n",
       "mean                2.735527  \n",
       "std                 0.136318  \n",
       "min                 2.510000  \n",
       "25%                 2.650000  \n",
       "50%                 2.650000  \n",
       "75%                 2.800000  \n",
       "max                 3.000000  "
      ]
     },
     "execution_count": 774,
     "metadata": {},
     "output_type": "execute_result"
    }
   ],
   "source": [
    "# оставим только нужные столбцы для изучения данных\n",
    "need_to_describe_fields = ['total_area', 'last_price', 'rooms_count', 'ceiling_height']\n",
    "df_spb[need_to_describe_fields].join(df_spb_center[need_to_describe_fields], rsuffix='_center').describe()"
   ]
  },
  {
   "cell_type": "markdown",
   "metadata": {},
   "source": [
    "#### Промежуточный вывод по Этап 4Е"
   ]
  },
  {
   "cell_type": "markdown",
   "metadata": {},
   "source": [
    "- По таблице хорошо видно, что по параметрам комнат и высоты потолков, квартиры в центре почти не отличаются от выборки по всему городу. И даже максимум по числу комнат остается за общей выборкой. Однако цена и общая площадь квартир в центре выше.\n",
    "\n",
    "Посмотрим на графики, сравним факторы, которые влияют на стоимость квартиры  (число комнат, этаж, удалённость от центра, дата размещения объявления)"
   ]
  },
  {
   "cell_type": "code",
   "execution_count": 770,
   "metadata": {},
   "outputs": [
    {
     "data": {
      "text/plain": [
       "array([[<matplotlib.axes._subplots.AxesSubplot object at 0x7f7ca52f4c50>,\n",
       "        <matplotlib.axes._subplots.AxesSubplot object at 0x7f7ca523f4d0>,\n",
       "        <matplotlib.axes._subplots.AxesSubplot object at 0x7f7ca5273c90>,\n",
       "        <matplotlib.axes._subplots.AxesSubplot object at 0x7f7ca52354d0>,\n",
       "        <matplotlib.axes._subplots.AxesSubplot object at 0x7f7ca51eacd0>],\n",
       "       [<matplotlib.axes._subplots.AxesSubplot object at 0x7f7ca51ac510>,\n",
       "        <matplotlib.axes._subplots.AxesSubplot object at 0x7f7ca5160d10>,\n",
       "        <matplotlib.axes._subplots.AxesSubplot object at 0x7f7ca511f550>,\n",
       "        <matplotlib.axes._subplots.AxesSubplot object at 0x7f7ca512a0d0>,\n",
       "        <matplotlib.axes._subplots.AxesSubplot object at 0x7f7ca50dfa50>],\n",
       "       [<matplotlib.axes._subplots.AxesSubplot object at 0x7f7ca5049d90>,\n",
       "        <matplotlib.axes._subplots.AxesSubplot object at 0x7f7ca500a5d0>,\n",
       "        <matplotlib.axes._subplots.AxesSubplot object at 0x7f7ca4fbddd0>,\n",
       "        <matplotlib.axes._subplots.AxesSubplot object at 0x7f7ca4f7f610>,\n",
       "        <matplotlib.axes._subplots.AxesSubplot object at 0x7f7ca4fb3e10>],\n",
       "       [<matplotlib.axes._subplots.AxesSubplot object at 0x7f7ca4f74650>,\n",
       "        <matplotlib.axes._subplots.AxesSubplot object at 0x7f7ca4f29e50>,\n",
       "        <matplotlib.axes._subplots.AxesSubplot object at 0x7f7ca4ee9690>,\n",
       "        <matplotlib.axes._subplots.AxesSubplot object at 0x7f7ca4e9ee90>,\n",
       "        <matplotlib.axes._subplots.AxesSubplot object at 0x7f7ca4e626d0>],\n",
       "       [<matplotlib.axes._subplots.AxesSubplot object at 0x7f7ca4e14ed0>,\n",
       "        <matplotlib.axes._subplots.AxesSubplot object at 0x7f7ca4dd7710>,\n",
       "        <matplotlib.axes._subplots.AxesSubplot object at 0x7f7ca4d8af10>,\n",
       "        <matplotlib.axes._subplots.AxesSubplot object at 0x7f7ca4d4b750>,\n",
       "        <matplotlib.axes._subplots.AxesSubplot object at 0x7f7ca4d00f50>]],\n",
       "      dtype=object)"
      ]
     },
     "execution_count": 770,
     "metadata": {},
     "output_type": "execute_result"
    },
    {
     "data": {
      "image/png": "[encoded data removed]",
      "text/plain": [
       "<Figure size 1152x576 with 25 Axes>"
      ]
     },
     "metadata": {
      "needs_background": "light"
     },
     "output_type": "display_data"
    }
   ],
   "source": [
    "# оставим только нужные столбцы для построения графиков\n",
    "df_spb_center_only_needed = df_spb_center[['rooms_count', 'floor', 'nearest_city_center_distance_km', 'created_year', 'last_price']]\n",
    "df_spb_only_needed = df_spb[['rooms_count', 'floor', 'nearest_city_center_distance_km', 'created_year', 'last_price']]\n",
    "\n",
    "# построим графики\n",
    "pd.plotting.scatter_matrix(df_spb_center_only_needed, figsize=(16,8))"
   ]
  },
  {
   "cell_type": "code",
   "execution_count": 771,
   "metadata": {},
   "outputs": [
    {
     "data": {
      "text/plain": [
       "array([[<matplotlib.axes._subplots.AxesSubplot object at 0x7f7ca4aae410>,\n",
       "        <matplotlib.axes._subplots.AxesSubplot object at 0x7f7ca4a0ba50>,\n",
       "        <matplotlib.axes._subplots.AxesSubplot object at 0x7f7ca49d1790>,\n",
       "        <matplotlib.axes._subplots.AxesSubplot object at 0x7f7ca4984dd0>,\n",
       "        <matplotlib.axes._subplots.AxesSubplot object at 0x7f7ca4944610>],\n",
       "       [<matplotlib.axes._subplots.AxesSubplot object at 0x7f7ca4978e10>,\n",
       "        <matplotlib.axes._subplots.AxesSubplot object at 0x7f7ca4938650>,\n",
       "        <matplotlib.axes._subplots.AxesSubplot object at 0x7f7ca48ede50>,\n",
       "        <matplotlib.axes._subplots.AxesSubplot object at 0x7f7ca48f69d0>,\n",
       "        <matplotlib.axes._subplots.AxesSubplot object at 0x7f7ca48b8390>],\n",
       "       [<matplotlib.axes._subplots.AxesSubplot object at 0x7f7ca48246d0>,\n",
       "        <matplotlib.axes._subplots.AxesSubplot object at 0x7f7ca47d5ed0>,\n",
       "        <matplotlib.axes._subplots.AxesSubplot object at 0x7f7ca4798710>,\n",
       "        <matplotlib.axes._subplots.AxesSubplot object at 0x7f7ca474cf10>,\n",
       "        <matplotlib.axes._subplots.AxesSubplot object at 0x7f7ca470f750>],\n",
       "       [<matplotlib.axes._subplots.AxesSubplot object at 0x7f7ca46c2f50>,\n",
       "        <matplotlib.axes._subplots.AxesSubplot object at 0x7f7ca4684790>,\n",
       "        <matplotlib.axes._subplots.AxesSubplot object at 0x7f7ca46b7f90>,\n",
       "        <matplotlib.axes._subplots.AxesSubplot object at 0x7f7ca46787d0>,\n",
       "        <matplotlib.axes._subplots.AxesSubplot object at 0x7f7ca462cfd0>],\n",
       "       [<matplotlib.axes._subplots.AxesSubplot object at 0x7f7ca45f0810>,\n",
       "        <matplotlib.axes._subplots.AxesSubplot object at 0x7f7ca45a2f90>,\n",
       "        <matplotlib.axes._subplots.AxesSubplot object at 0x7f7ca4565850>,\n",
       "        <matplotlib.axes._subplots.AxesSubplot object at 0x7f7ca4523bd0>,\n",
       "        <matplotlib.axes._subplots.AxesSubplot object at 0x7f7ca44d9890>]],\n",
       "      dtype=object)"
      ]
     },
     "execution_count": 771,
     "metadata": {},
     "output_type": "execute_result"
    },
    {
     "data": {
      "image/png": "[encoded data removed]",
      "text/plain": [
       "<Figure size 1152x576 with 25 Axes>"
      ]
     },
     "metadata": {
      "needs_background": "light"
     },
     "output_type": "display_data"
    }
   ],
   "source": [
    "# Построим графики для всего города\n",
    "pd.plotting.scatter_matrix(df_spb_only_needed, figsize=(16,8))"
   ]
  },
  {
   "cell_type": "markdown",
   "metadata": {},
   "source": [
    "### Вывод по этапу 4Е (дополнительное изучение квартир в центре)"
   ]
  },
  {
   "cell_type": "markdown",
   "metadata": {},
   "source": [
    "Помимо вывода по таблице, что мы приводили выше, графики подтверждают момент с ценой.\n",
    "\n",
    "Кроме этого можно заметить:\n",
    "- Чем ближе квартира к центру, тем на меньшем этаже она предлагается\n",
    "- Квартиры в центре чаще имеют несколько комнат, чем предложения по всему городу. Однокомнатных квартир гораздо меньше\n",
    "- Остальные параметры в среднем сопоставимы с квартирами в центре"
   ]
  },
  {
   "cell_type": "markdown",
   "metadata": {},
   "source": [
    "### Шаг 5. Общий вывод"
   ]
  },
  {
   "cell_type": "markdown",
   "metadata": {
    "pycharm": {
     "name": "#%% md\n"
    }
   },
   "source": [
    "Мы провели отличный анализ (хочется в это верить :) )\n",
    "\n",
    "Вспомним как звучала наша задача: `Нужно научиться определять рыночную стоимость объектов недвижимости. Ваша задача — установить параметры. Это позволит построить автоматизированную систему: она отследит аномалии и мошенническую деятельность.`\n",
    "\n",
    "Поэтому подводя итог, правильным будет обратить внимание на те параметры, что имеют наибольшее значение для установления цены на недвижимость. \n",
    "\n",
    "Согласно нашему анализу, это:\n",
    "- Город, в котором находится квартира, тут разница может быть просто колоссальной\n",
    "- Площадь\n",
    "- Количество комнат\n",
    "- Расстояние до центра\n",
    "- Квартира на любом этаже кроме первого стоит дороже всего. Следом идет последний этаж. Следом первый.\n",
    "\n",
    "При этом, может быть важно:\n",
    "- Мы подтвердили, что недвижимость растет в цене\n",
    "- Обнаружили несущественную связь между ценой и днем недели (чем позже, тем квартира дешевле). Возможно, это связано с тем, что в выходные как-то хочется побыстрее продать квартиру.\n",
    "- Можно считать, что продажи прошли очень быстро, если заняли меньше 40 дней, а необычно долго если больше 215 дней. На будущее можно провести исследование, чем такие объявления отличаются более детально\n",
    "\n",
    "В целом, этого должно быть достаточно, чтобы внести параметры в систему."
   ]
  }
 ],
 "metadata": {
  "kernelspec": {
   "display_name": "Python 3",
   "language": "python",
   "name": "python3"
  },
  "language_info": {
   "codemirror_mode": {
    "name": "ipython",
    "version": 3
   },
   "file_extension": ".py",
   "mimetype": "text/x-python",
   "name": "python",
   "nbconvert_exporter": "python",
   "pygments_lexer": "ipython3",
   "version": "3.7.8"
  },
  "toc": {
   "base_numbering": 1,
   "nav_menu": {},
   "number_sections": true,
   "sideBar": true,
   "skip_h1_title": true,
   "title_cell": "Table of Contents",
   "title_sidebar": "Contents",
   "toc_cell": false,
   "toc_position": {},
   "toc_section_display": true,
   "toc_window_display": false
  }
 },
 "nbformat": 4,
 "nbformat_minor": 2
}