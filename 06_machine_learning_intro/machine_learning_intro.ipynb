{
 "cells": [
  {
   "cell_type": "markdown",
   "metadata": {},
   "source": [
    "# Рекомендация тарифов"
   ]
  },
  {
   "cell_type": "markdown",
   "metadata": {},
   "source": [
    "В вашем распоряжении данные о поведении клиентов, которые уже перешли на эти тарифы (из проекта курса «Статистический анализ данных»). Нужно построить модель для задачи классификации, которая выберет подходящий тариф. Предобработка данных не понадобится — вы её уже сделали.\n",
    "\n",
    "Постройте модель с максимально большим значением *accuracy*. Чтобы сдать проект успешно, нужно довести долю правильных ответов по крайней мере до 0.75. Проверьте *accuracy* на тестовой выборке самостоятельно."
   ]
  },
  {
   "cell_type": "markdown",
   "metadata": {},
   "source": [
    "## 1. Откройте и изучите файл"
   ]
  },
  {
   "cell_type": "code",
   "execution_count": 1,
   "metadata": {},
   "outputs": [
    {
     "data": {
      "text/html": [
       "<div>\n",
       "<style scoped>\n",
       "    .dataframe tbody tr th:only-of-type {\n",
       "        vertical-align: middle;\n",
       "    }\n",
       "\n",
       "    .dataframe tbody tr th {\n",
       "        vertical-align: top;\n",
       "    }\n",
       "\n",
       "    .dataframe thead th {\n",
       "        text-align: right;\n",
       "    }\n",
       "</style>\n",
       "<table border=\"1\" class=\"dataframe\">\n",
       "  <thead>\n",
       "    <tr style=\"text-align: right;\">\n",
       "      <th></th>\n",
       "      <th>calls</th>\n",
       "      <th>minutes</th>\n",
       "      <th>messages</th>\n",
       "      <th>mb_used</th>\n",
       "      <th>is_ultra</th>\n",
       "    </tr>\n",
       "  </thead>\n",
       "  <tbody>\n",
       "    <tr>\n",
       "      <td>count</td>\n",
       "      <td>3214.000000</td>\n",
       "      <td>3214.000000</td>\n",
       "      <td>3214.000000</td>\n",
       "      <td>3214.000000</td>\n",
       "      <td>3214.000000</td>\n",
       "    </tr>\n",
       "    <tr>\n",
       "      <td>mean</td>\n",
       "      <td>63.038892</td>\n",
       "      <td>438.208787</td>\n",
       "      <td>38.281269</td>\n",
       "      <td>17207.673836</td>\n",
       "      <td>0.306472</td>\n",
       "    </tr>\n",
       "    <tr>\n",
       "      <td>std</td>\n",
       "      <td>33.236368</td>\n",
       "      <td>234.569872</td>\n",
       "      <td>36.148326</td>\n",
       "      <td>7570.968246</td>\n",
       "      <td>0.461100</td>\n",
       "    </tr>\n",
       "    <tr>\n",
       "      <td>min</td>\n",
       "      <td>0.000000</td>\n",
       "      <td>0.000000</td>\n",
       "      <td>0.000000</td>\n",
       "      <td>0.000000</td>\n",
       "      <td>0.000000</td>\n",
       "    </tr>\n",
       "    <tr>\n",
       "      <td>25%</td>\n",
       "      <td>40.000000</td>\n",
       "      <td>274.575000</td>\n",
       "      <td>9.000000</td>\n",
       "      <td>12491.902500</td>\n",
       "      <td>0.000000</td>\n",
       "    </tr>\n",
       "    <tr>\n",
       "      <td>50%</td>\n",
       "      <td>62.000000</td>\n",
       "      <td>430.600000</td>\n",
       "      <td>30.000000</td>\n",
       "      <td>16943.235000</td>\n",
       "      <td>0.000000</td>\n",
       "    </tr>\n",
       "    <tr>\n",
       "      <td>75%</td>\n",
       "      <td>82.000000</td>\n",
       "      <td>571.927500</td>\n",
       "      <td>57.000000</td>\n",
       "      <td>21424.700000</td>\n",
       "      <td>1.000000</td>\n",
       "    </tr>\n",
       "    <tr>\n",
       "      <td>max</td>\n",
       "      <td>244.000000</td>\n",
       "      <td>1632.060000</td>\n",
       "      <td>224.000000</td>\n",
       "      <td>49745.730000</td>\n",
       "      <td>1.000000</td>\n",
       "    </tr>\n",
       "  </tbody>\n",
       "</table>\n",
       "</div>"
      ],
      "text/plain": [
       "             calls      minutes     messages       mb_used     is_ultra\n",
       "count  3214.000000  3214.000000  3214.000000   3214.000000  3214.000000\n",
       "mean     63.038892   438.208787    38.281269  17207.673836     0.306472\n",
       "std      33.236368   234.569872    36.148326   7570.968246     0.461100\n",
       "min       0.000000     0.000000     0.000000      0.000000     0.000000\n",
       "25%      40.000000   274.575000     9.000000  12491.902500     0.000000\n",
       "50%      62.000000   430.600000    30.000000  16943.235000     0.000000\n",
       "75%      82.000000   571.927500    57.000000  21424.700000     1.000000\n",
       "max     244.000000  1632.060000   224.000000  49745.730000     1.000000"
      ]
     },
     "execution_count": 1,
     "metadata": {},
     "output_type": "execute_result"
    }
   ],
   "source": [
    "# Подключим сразу все, что нам пригодится\n",
    "import pandas as pd\n",
    "from sklearn.tree import DecisionTreeClassifier\n",
    "from sklearn.linear_model import LogisticRegression\n",
    "from sklearn.ensemble import RandomForestClassifier\n",
    "from sklearn.model_selection import train_test_split\n",
    "from sklearn.metrics import accuracy_score\n",
    "\n",
    "# считаем файл\n",
    "df = pd.read_csv('/datasets/users_behavior.csv')\n",
    "\n",
    "# посмотрим описание данных\n",
    "df.describe()"
   ]
  },
  {
   "cell_type": "code",
   "execution_count": 2,
   "metadata": {},
   "outputs": [
    {
     "name": "stdout",
     "output_type": "stream",
     "text": [
      "<class 'pandas.core.frame.DataFrame'>\n",
      "RangeIndex: 3214 entries, 0 to 3213\n",
      "Data columns (total 5 columns):\n",
      "calls       3214 non-null float64\n",
      "minutes     3214 non-null float64\n",
      "messages    3214 non-null float64\n",
      "mb_used     3214 non-null float64\n",
      "is_ultra    3214 non-null int64\n",
      "dtypes: float64(4), int64(1)\n",
      "memory usage: 125.7 KB\n"
     ]
    }
   ],
   "source": [
    "# Посмотрим info\n",
    "df.info()"
   ]
  },
  {
   "cell_type": "code",
   "execution_count": 3,
   "metadata": {},
   "outputs": [
    {
     "data": {
      "text/html": [
       "<div>\n",
       "<style scoped>\n",
       "    .dataframe tbody tr th:only-of-type {\n",
       "        vertical-align: middle;\n",
       "    }\n",
       "\n",
       "    .dataframe tbody tr th {\n",
       "        vertical-align: top;\n",
       "    }\n",
       "\n",
       "    .dataframe thead th {\n",
       "        text-align: right;\n",
       "    }\n",
       "</style>\n",
       "<table border=\"1\" class=\"dataframe\">\n",
       "  <thead>\n",
       "    <tr style=\"text-align: right;\">\n",
       "      <th></th>\n",
       "      <th>calls</th>\n",
       "      <th>minutes</th>\n",
       "      <th>messages</th>\n",
       "      <th>mb_used</th>\n",
       "      <th>is_ultra</th>\n",
       "    </tr>\n",
       "  </thead>\n",
       "  <tbody>\n",
       "    <tr>\n",
       "      <td>0</td>\n",
       "      <td>40.0</td>\n",
       "      <td>311.90</td>\n",
       "      <td>83.0</td>\n",
       "      <td>19915.42</td>\n",
       "      <td>0</td>\n",
       "    </tr>\n",
       "    <tr>\n",
       "      <td>1</td>\n",
       "      <td>85.0</td>\n",
       "      <td>516.75</td>\n",
       "      <td>56.0</td>\n",
       "      <td>22696.96</td>\n",
       "      <td>0</td>\n",
       "    </tr>\n",
       "    <tr>\n",
       "      <td>2</td>\n",
       "      <td>77.0</td>\n",
       "      <td>467.66</td>\n",
       "      <td>86.0</td>\n",
       "      <td>21060.45</td>\n",
       "      <td>0</td>\n",
       "    </tr>\n",
       "    <tr>\n",
       "      <td>3</td>\n",
       "      <td>106.0</td>\n",
       "      <td>745.53</td>\n",
       "      <td>81.0</td>\n",
       "      <td>8437.39</td>\n",
       "      <td>1</td>\n",
       "    </tr>\n",
       "    <tr>\n",
       "      <td>4</td>\n",
       "      <td>66.0</td>\n",
       "      <td>418.74</td>\n",
       "      <td>1.0</td>\n",
       "      <td>14502.75</td>\n",
       "      <td>0</td>\n",
       "    </tr>\n",
       "    <tr>\n",
       "      <td>5</td>\n",
       "      <td>58.0</td>\n",
       "      <td>344.56</td>\n",
       "      <td>21.0</td>\n",
       "      <td>15823.37</td>\n",
       "      <td>0</td>\n",
       "    </tr>\n",
       "    <tr>\n",
       "      <td>6</td>\n",
       "      <td>57.0</td>\n",
       "      <td>431.64</td>\n",
       "      <td>20.0</td>\n",
       "      <td>3738.90</td>\n",
       "      <td>1</td>\n",
       "    </tr>\n",
       "    <tr>\n",
       "      <td>7</td>\n",
       "      <td>15.0</td>\n",
       "      <td>132.40</td>\n",
       "      <td>6.0</td>\n",
       "      <td>21911.60</td>\n",
       "      <td>0</td>\n",
       "    </tr>\n",
       "    <tr>\n",
       "      <td>8</td>\n",
       "      <td>7.0</td>\n",
       "      <td>43.39</td>\n",
       "      <td>3.0</td>\n",
       "      <td>2538.67</td>\n",
       "      <td>1</td>\n",
       "    </tr>\n",
       "    <tr>\n",
       "      <td>9</td>\n",
       "      <td>90.0</td>\n",
       "      <td>665.41</td>\n",
       "      <td>38.0</td>\n",
       "      <td>17358.61</td>\n",
       "      <td>0</td>\n",
       "    </tr>\n",
       "  </tbody>\n",
       "</table>\n",
       "</div>"
      ],
      "text/plain": [
       "   calls  minutes  messages   mb_used  is_ultra\n",
       "0   40.0   311.90      83.0  19915.42         0\n",
       "1   85.0   516.75      56.0  22696.96         0\n",
       "2   77.0   467.66      86.0  21060.45         0\n",
       "3  106.0   745.53      81.0   8437.39         1\n",
       "4   66.0   418.74       1.0  14502.75         0\n",
       "5   58.0   344.56      21.0  15823.37         0\n",
       "6   57.0   431.64      20.0   3738.90         1\n",
       "7   15.0   132.40       6.0  21911.60         0\n",
       "8    7.0    43.39       3.0   2538.67         1\n",
       "9   90.0   665.41      38.0  17358.61         0"
      ]
     },
     "execution_count": 3,
     "metadata": {},
     "output_type": "execute_result"
    }
   ],
   "source": [
    "# Посмотрим\n",
    "df.head(10)"
   ]
  },
  {
   "cell_type": "code",
   "execution_count": 4,
   "metadata": {},
   "outputs": [],
   "source": [
    "# Хоть в рамках задания обозначено, что предобработку мы уже выполнили, типы messages и calls\n",
    "# явно не соотетствуют действительности, приведем их к int\n",
    "\n",
    "df['calls'] = df['calls'].astype('int')\n",
    "df['messages'] = df['messages'].astype('int')"
   ]
  },
  {
   "cell_type": "markdown",
   "metadata": {},
   "source": [
    "#### Промежуточный вывод\n",
    "\n",
    "С данными никаких преобразований не понадобилось. Согласно условию, они изначально валидны, пропусков нет.\n",
    "В нашем случае достаточно было изменить тип соответствующих столбцов"
   ]
  },
  {
   "cell_type": "markdown",
   "metadata": {},
   "source": [
    "## 2. Разбейте данные на выборки"
   ]
  },
  {
   "cell_type": "code",
   "execution_count": 5,
   "metadata": {},
   "outputs": [],
   "source": [
    "# для начала определим наш random_state, который будем использовать для всех методов\n",
    "RANDOM_STATE = 125\n",
    "\n",
    "# т.к. нам нужны три выборки, будем разбивать на три группы в 60-20-20\n",
    "# сначала отделим набор на котором будем тренировать\n",
    "df_train, df_valid_ant_test = train_test_split(df, test_size=0.6, random_state=RANDOM_STATE)\n",
    "# теперь разделим тестовую выборку от валидационной\n",
    "df_valid, df_test = train_test_split(df_valid_ant_test, test_size=0.5, random_state=RANDOM_STATE)\n",
    "del df_valid_ant_test"
   ]
  },
  {
   "cell_type": "markdown",
   "metadata": {},
   "source": [
    "## 3. Исследуйте модели"
   ]
  },
  {
   "cell_type": "markdown",
   "metadata": {},
   "source": [
    "#### Ремарка\n",
    "\n",
    "Чтобы не искать глазами какая же модель и при каких параметрах дала лучший результат, определим для этого соответствующую переменную и если какая-то модель даст лучшую точность - будем ее перезаписывать в реальном времени."
   ]
  },
  {
   "cell_type": "code",
   "execution_count": 6,
   "metadata": {},
   "outputs": [],
   "source": [
    "# Определим переменную для сохранения лучших параметров модели\n",
    "best_accuracy_dict = dict()\n",
    "\n",
    "# функция, чтобы меньше дублировать код в циклах\n",
    "def fill_best_accuracy_dict(model, modelName, accuracy):\n",
    "    best_accuracy_dict['model'] = model\n",
    "    best_accuracy_dict['modelName'] = modelName\n",
    "    best_accuracy_dict['accuracy'] = accuracy\n",
    "    return best_accuracy_dict\n",
    "\n",
    "# значения по умолчанию\n",
    "best_accuracy_dict = fill_best_accuracy_dict('Undefined', 'Undefined', 0)"
   ]
  },
  {
   "cell_type": "code",
   "execution_count": 7,
   "metadata": {},
   "outputs": [],
   "source": [
    "# Для начала определим наши признаки\n",
    "\n",
    "# тренировочные\n",
    "train_features = df_train.drop(['is_ultra'], axis=1)\n",
    "train_target = df_train['is_ultra']\n",
    "# валидационные\n",
    "valid_features = df_valid.drop(['is_ultra'], axis=1)\n",
    "valid_target = df_valid['is_ultra']\n",
    "# тестовые\n",
    "test_features = df_test.drop(['is_ultra'], axis=1)\n",
    "test_target = df_test['is_ultra']"
   ]
  },
  {
   "cell_type": "code",
   "execution_count": 8,
   "metadata": {},
   "outputs": [
    {
     "name": "stdout",
     "output_type": "stream",
     "text": [
      "Descision Tree; max_depth= 2 ; accuracy = 0.7780082987551867\n",
      "Descision Tree; max_depth= 3 ; accuracy = 0.7894190871369294\n",
      "Descision Tree; max_depth= 4 ; accuracy = 0.7811203319502075\n",
      "Descision Tree; max_depth= 5 ; accuracy = 0.7842323651452282\n",
      "Descision Tree; max_depth= 6 ; accuracy = 0.7842323651452282\n",
      "Descision Tree; max_depth= 7 ; accuracy = 0.7759336099585062\n",
      "Descision Tree; max_depth= 8 ; accuracy = 0.7759336099585062\n",
      "Descision Tree; max_depth= 9 ; accuracy = 0.7572614107883817\n",
      "Descision Tree; max_depth= 10 ; accuracy = 0.7769709543568465\n"
     ]
    }
   ],
   "source": [
    "# исследуем дерево решений\n",
    "for max_depth in range (2, 11, 1):\n",
    "    modelDecisionTree = DecisionTreeClassifier(max_depth=max_depth, random_state=RANDOM_STATE)\n",
    "    modelDecisionTree.fit(train_features, train_target)\n",
    "    valid_predicted = modelDecisionTree.predict(valid_features)\n",
    "    \n",
    "    accuracy = accuracy_score(valid_target, valid_predicted)\n",
    "    \n",
    "    modelName = 'Descision Tree; max_depth= ' + str(max_depth)\n",
    "    if (accuracy > best_accuracy_dict['accuracy']):\n",
    "        best_accuracy_dict = fill_best_accuracy_dict(modelDecisionTree, modelName, accuracy)\n",
    "    print(modelName,'; accuracy =', accuracy)"
   ]
  },
  {
   "cell_type": "code",
   "execution_count": 9,
   "metadata": {},
   "outputs": [
    {
     "name": "stdout",
     "output_type": "stream",
     "text": [
      "Random Forest; n_estimators = 5 ; max_depth= 5 ; accuracy = 0.7914937759336099\n",
      "Random Forest; n_estimators = 5 ; max_depth= 10 ; accuracy = 0.779045643153527\n",
      "Random Forest; n_estimators = 5 ; max_depth= 15 ; accuracy = 0.774896265560166\n",
      "Random Forest; n_estimators = 5 ; max_depth= 20 ; accuracy = 0.7354771784232366\n",
      "Random Forest; n_estimators = 5 ; max_depth= 25 ; accuracy = 0.7531120331950207\n",
      "Random Forest; n_estimators = 5 ; max_depth= 30 ; accuracy = 0.7531120331950207\n",
      "\n",
      "Random Forest; n_estimators = 10 ; max_depth= 5 ; accuracy = 0.7956431535269709\n",
      "Random Forest; n_estimators = 10 ; max_depth= 10 ; accuracy = 0.7873443983402489\n",
      "Random Forest; n_estimators = 10 ; max_depth= 15 ; accuracy = 0.7780082987551867\n",
      "Random Forest; n_estimators = 10 ; max_depth= 20 ; accuracy = 0.770746887966805\n",
      "Random Forest; n_estimators = 10 ; max_depth= 25 ; accuracy = 0.779045643153527\n",
      "Random Forest; n_estimators = 10 ; max_depth= 30 ; accuracy = 0.779045643153527\n",
      "\n",
      "Random Forest; n_estimators = 15 ; max_depth= 5 ; accuracy = 0.7977178423236515\n",
      "Random Forest; n_estimators = 15 ; max_depth= 10 ; accuracy = 0.8018672199170125\n",
      "Random Forest; n_estimators = 15 ; max_depth= 15 ; accuracy = 0.7821576763485477\n",
      "Random Forest; n_estimators = 15 ; max_depth= 20 ; accuracy = 0.7697095435684648\n",
      "Random Forest; n_estimators = 15 ; max_depth= 25 ; accuracy = 0.7769709543568465\n",
      "Random Forest; n_estimators = 15 ; max_depth= 30 ; accuracy = 0.7821576763485477\n",
      "\n",
      "Random Forest; n_estimators = 20 ; max_depth= 5 ; accuracy = 0.7977178423236515\n",
      "Random Forest; n_estimators = 20 ; max_depth= 10 ; accuracy = 0.803941908713693\n",
      "Random Forest; n_estimators = 20 ; max_depth= 15 ; accuracy = 0.7842323651452282\n",
      "Random Forest; n_estimators = 20 ; max_depth= 20 ; accuracy = 0.7769709543568465\n",
      "Random Forest; n_estimators = 20 ; max_depth= 25 ; accuracy = 0.7842323651452282\n",
      "Random Forest; n_estimators = 20 ; max_depth= 30 ; accuracy = 0.7863070539419087\n",
      "\n",
      "Random Forest; n_estimators = 25 ; max_depth= 5 ; accuracy = 0.7977178423236515\n",
      "Random Forest; n_estimators = 25 ; max_depth= 10 ; accuracy = 0.8060165975103735\n",
      "Random Forest; n_estimators = 25 ; max_depth= 15 ; accuracy = 0.7904564315352697\n",
      "Random Forest; n_estimators = 25 ; max_depth= 20 ; accuracy = 0.7873443983402489\n",
      "Random Forest; n_estimators = 25 ; max_depth= 25 ; accuracy = 0.7852697095435685\n",
      "Random Forest; n_estimators = 25 ; max_depth= 30 ; accuracy = 0.7842323651452282\n",
      "\n",
      "Random Forest; n_estimators = 30 ; max_depth= 5 ; accuracy = 0.8008298755186722\n",
      "Random Forest; n_estimators = 30 ; max_depth= 10 ; accuracy = 0.799792531120332\n",
      "Random Forest; n_estimators = 30 ; max_depth= 15 ; accuracy = 0.7894190871369294\n",
      "Random Forest; n_estimators = 30 ; max_depth= 20 ; accuracy = 0.7863070539419087\n",
      "Random Forest; n_estimators = 30 ; max_depth= 25 ; accuracy = 0.7914937759336099\n",
      "Random Forest; n_estimators = 30 ; max_depth= 30 ; accuracy = 0.7925311203319502\n",
      "\n",
      "Random Forest; n_estimators = 35 ; max_depth= 5 ; accuracy = 0.799792531120332\n",
      "Random Forest; n_estimators = 35 ; max_depth= 10 ; accuracy = 0.8018672199170125\n",
      "Random Forest; n_estimators = 35 ; max_depth= 15 ; accuracy = 0.7977178423236515\n",
      "Random Forest; n_estimators = 35 ; max_depth= 20 ; accuracy = 0.7863070539419087\n",
      "Random Forest; n_estimators = 35 ; max_depth= 25 ; accuracy = 0.7935684647302904\n",
      "Random Forest; n_estimators = 35 ; max_depth= 30 ; accuracy = 0.7935684647302904\n",
      "\n",
      "Random Forest; n_estimators = 40 ; max_depth= 5 ; accuracy = 0.7987551867219918\n",
      "Random Forest; n_estimators = 40 ; max_depth= 10 ; accuracy = 0.8018672199170125\n",
      "Random Forest; n_estimators = 40 ; max_depth= 15 ; accuracy = 0.7987551867219918\n",
      "Random Forest; n_estimators = 40 ; max_depth= 20 ; accuracy = 0.7852697095435685\n",
      "Random Forest; n_estimators = 40 ; max_depth= 25 ; accuracy = 0.7925311203319502\n",
      "Random Forest; n_estimators = 40 ; max_depth= 30 ; accuracy = 0.7935684647302904\n",
      "\n",
      "Random Forest; n_estimators = 45 ; max_depth= 5 ; accuracy = 0.803941908713693\n",
      "Random Forest; n_estimators = 45 ; max_depth= 10 ; accuracy = 0.8018672199170125\n",
      "Random Forest; n_estimators = 45 ; max_depth= 15 ; accuracy = 0.799792531120332\n",
      "Random Forest; n_estimators = 45 ; max_depth= 20 ; accuracy = 0.7894190871369294\n",
      "Random Forest; n_estimators = 45 ; max_depth= 25 ; accuracy = 0.7935684647302904\n",
      "Random Forest; n_estimators = 45 ; max_depth= 30 ; accuracy = 0.7925311203319502\n",
      "\n",
      "Random Forest; n_estimators = 50 ; max_depth= 5 ; accuracy = 0.7966804979253111\n",
      "Random Forest; n_estimators = 50 ; max_depth= 10 ; accuracy = 0.8029045643153527\n",
      "Random Forest; n_estimators = 50 ; max_depth= 15 ; accuracy = 0.7987551867219918\n",
      "Random Forest; n_estimators = 50 ; max_depth= 20 ; accuracy = 0.7894190871369294\n",
      "Random Forest; n_estimators = 50 ; max_depth= 25 ; accuracy = 0.7925311203319502\n",
      "Random Forest; n_estimators = 50 ; max_depth= 30 ; accuracy = 0.7894190871369294\n",
      "\n"
     ]
    }
   ],
   "source": [
    "# исследуем случайный лес\n",
    "for estim in range(5, 51, 5):\n",
    "    for max_depth in range(5, 31, 5):\n",
    "        modelRandomForest = RandomForestClassifier(n_estimators=estim, max_depth=max_depth, random_state=RANDOM_STATE)\n",
    "        modelRandomForest.fit(train_features, train_target)\n",
    "        valid_predicted = modelRandomForest.predict(valid_features)\n",
    "        \n",
    "        accuracy = accuracy_score(valid_target, valid_predicted)\n",
    "        \n",
    "        modelName = \"Random Forest; n_estimators = \" + str(estim) + \" ; max_depth= \" + str(max_depth)\n",
    "        if (accuracy > best_accuracy_dict['accuracy']):\n",
    "            best_accuracy_dict = fill_best_accuracy_dict(modelRandomForest, modelName, accuracy)\n",
    "        print(modelName,'; accuracy =', accuracy)\n",
    "    print() # для разделения вывода"
   ]
  },
  {
   "cell_type": "code",
   "execution_count": 10,
   "metadata": {},
   "outputs": [
    {
     "name": "stdout",
     "output_type": "stream",
     "text": [
      "Logistic Regression ; accuracy = 0.7085062240663901\n"
     ]
    }
   ],
   "source": [
    "# уберем будущий ворнинг\n",
    "import warnings\n",
    "warnings.simplefilter(action='ignore', category=FutureWarning)\n",
    "\n",
    "# Ислледуем логистическую регрессию\n",
    "modelLogisticRegression = LogisticRegression(random_state=RANDOM_STATE)\n",
    "modelLogisticRegression.fit(train_features, train_target)\n",
    "valid_predicted = modelLogisticRegression.predict(valid_features)\n",
    "\n",
    "accuracy = accuracy_score(valid_target, valid_predicted)\n",
    "        \n",
    "modelName = 'Logistic Regression'\n",
    "if (accuracy > best_accuracy_dict['accuracy']):\n",
    "    best_accuracy_dict = fill_best_accuracy_dict(modelLogisticRegression, modelName, accuracy)\n",
    "print(modelName,'; accuracy =', accuracy)"
   ]
  },
  {
   "cell_type": "code",
   "execution_count": 11,
   "metadata": {},
   "outputs": [
    {
     "data": {
      "text/plain": [
       "{'model': RandomForestClassifier(bootstrap=True, class_weight=None, criterion='gini',\n",
       "                        max_depth=10, max_features='auto', max_leaf_nodes=None,\n",
       "                        min_impurity_decrease=0.0, min_impurity_split=None,\n",
       "                        min_samples_leaf=1, min_samples_split=2,\n",
       "                        min_weight_fraction_leaf=0.0, n_estimators=25,\n",
       "                        n_jobs=None, oob_score=False, random_state=125,\n",
       "                        verbose=0, warm_start=False),\n",
       " 'modelName': 'Random Forest; n_estimators = 25 ; max_depth= 10',\n",
       " 'accuracy': 0.8060165975103735}"
      ]
     },
     "execution_count": 11,
     "metadata": {},
     "output_type": "execute_result"
    }
   ],
   "source": [
    "# Посмотрим, какая модель оказалась лучше всего\n",
    "best_accuracy_dict"
   ]
  },
  {
   "cell_type": "markdown",
   "metadata": {},
   "source": [
    "#### Промежуточный вывод\n",
    "\n",
    "- Лучший результат в точности показал случайный лес с параметрами n_estimators = 25 ; max_depth= 10\n",
    "- Худший результат в точночти показала логистическая регрессия\n",
    "- Довольно неплохо показало себя решающее дерево, при чем глубины 3 было достаточно\n",
    "- Из любопытного - независимо от числа деревьев, лучшие результаты показывал лес с глубиной 10"
   ]
  },
  {
   "cell_type": "markdown",
   "metadata": {},
   "source": [
    "## 4. Проверьте модель на тестовой выборке"
   ]
  },
  {
   "cell_type": "code",
   "execution_count": 12,
   "metadata": {},
   "outputs": [
    {
     "name": "stdout",
     "output_type": "stream",
     "text": [
      "Test accuracy = 0.8031088082901554\n"
     ]
    }
   ],
   "source": [
    "# проверим модель на тестовых данных\n",
    "model = best_accuracy_dict['model']\n",
    "test_predicted = model.predict(test_features)\n",
    "print('Test accuracy =', accuracy_score(test_target, test_predicted))"
   ]
  },
  {
   "cell_type": "code",
   "execution_count": 13,
   "metadata": {},
   "outputs": [
    {
     "name": "stdout",
     "output_type": "stream",
     "text": [
      "Train accuracy = 0.8894941634241245\n"
     ]
    }
   ],
   "source": [
    "# из интереса проверим точность модели на исходных данных\n",
    "train_predicted = model.predict(train_features)\n",
    "print('Train accuracy =', accuracy_score(train_target, train_predicted))"
   ]
  },
  {
   "cell_type": "markdown",
   "metadata": {},
   "source": [
    "#### Предварительный вывод\n",
    "\n",
    "Мы получили хорошую точность модели. При этом, учитывая, что на исходных данных не ушли за 90%, можно оценить фактор переобучения как не сильно критичный для нашей модели."
   ]
  },
  {
   "cell_type": "markdown",
   "metadata": {},
   "source": [
    "## 5. (бонус) Проверьте модели на адекватность"
   ]
  },
  {
   "cell_type": "code",
   "execution_count": 14,
   "metadata": {},
   "outputs": [
    {
     "name": "stdout",
     "output_type": "stream",
     "text": [
      "Random predictions accuracy =  0.48704663212435234\n"
     ]
    }
   ],
   "source": [
    "# Проверим модель на адекватность\n",
    "# В задаче классификации для этих целей необходимо создать случайный набор предсказаний\n",
    "\n",
    "import random\n",
    "random_predictions = pd.Series(test_target.apply(lambda x: round(random.random())), index=test_target.index)\n",
    "\n",
    "# оценим точность на этих данных\n",
    "print('Random predictions accuracy = ', accuracy_score(test_target, random_predictions))"
   ]
  },
  {
   "cell_type": "markdown",
   "metadata": {},
   "source": [
    "## Итоговый вывод\n",
    "\n",
    "Мы провели хоть и небольшую, но отличную работу.\n",
    "- Мы изучили наши данные и привели типы к нужным значениям\n",
    "- Создали три выборки по которым обучили и проверили нашу модель в пропорции 60% - 20% - 20%\n",
    "- Мы исследовали три различные модели с разными значениями гиперпараметров (Дерево решений, Случайный лес, Логистическую регрессию)\n",
    "- Мы определили лучшую модель и параметры для нее, измерив и сравнив точность наших предсказаний на валидационной выборке (в нашем случае лучший результат показал случайный лес с 25 деревьями и глубиной 10)\n",
    "- Мы проверили нашу модель на тестовых данных и они оказались очень близко к данным на валидной выборке. При этом переобучение для нашей модели присутствует, но не критично.\n",
    "- Дополнительно мы проверили модель на адекватность и наша модель показала хорошие результаты в сравнении со случайными предсказаниями.\n",
    "\n",
    "Теперь \"Мегалайн\" может спать спокойно, т.к. у него есть модель, которая позволит предлагать изменение тарифа заинтересованным в этом клиентам (по крайней мере с вероятностью 80%+)"
   ]
  },
  {
   "cell_type": "code",
   "execution_count": null,
   "metadata": {},
   "outputs": [],
   "source": []
  }
 ],
 "metadata": {
  "kernelspec": {
   "display_name": "Python 3",
   "language": "python",
   "name": "python3"
  },
  "language_info": {
   "codemirror_mode": {
    "name": "ipython",
    "version": 3
   },
   "file_extension": ".py",
   "mimetype": "text/x-python",
   "name": "python",
   "nbconvert_exporter": "python",
   "pygments_lexer": "ipython3",
   "version": "3.7.8"
  },
  "toc": {
   "base_numbering": 1,
   "nav_menu": {},
   "number_sections": true,
   "sideBar": true,
   "skip_h1_title": true,
   "title_cell": "Table of Contents",
   "title_sidebar": "Contents",
   "toc_cell": false,
   "toc_position": {},
   "toc_section_display": true,
   "toc_window_display": false
  }
 },
 "nbformat": 4,
 "nbformat_minor": 2
}