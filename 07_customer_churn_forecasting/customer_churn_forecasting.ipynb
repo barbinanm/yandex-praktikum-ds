{
 "cells": [
  {
   "cell_type": "markdown",
   "metadata": {},
   "source": [
    "<div style=\"border:solid green 2px; padding: 20px\">\n",
    "<b>Дмитрий, привет!</b>\n",
    "\n",
    "Меня зовут Евгений, и я буду проверять твой проект. Предлагаю общаться на «ты» 😊 Но если это не удобно - дай знать, и мы перейдем на \"вы\". \n",
    "\n",
    "Моя основная цель — не указать на совершенные тобою ошибки, а поделиться своим опытом и помочь тебе стать аналитиком данных. Ты уже проделал большую работу над проектом, но давай сделаем его еще лучше. Ниже ты найдешь мои комментарии - пожалуйста, не перемещай, не изменяй и не удаляй их. Я буду использовать цветовую разметку:\n",
    "\n",
    "<div class=\"alert alert-danger\">\n",
    "<b>Комментарий ревьюера:</b> Так выделены самые важные замечания. Без их отработки проект не будет принят. </div>\n",
    "\n",
    "<div class=\"alert alert-warning\">\n",
    "<b>Комментарий ревьюера:</b> Так выделены небольшие замечания. Одна-два таких замечания в проекте допустимы, но если их будет больше - тебе будет необходимо внести исправления. Это как тестовое задание при приеме на работу: очень много мелких ошибок могут стать причиной отказа кандидату. \n",
    "\n",
    "</div>\n",
    "\n",
    "<div class=\"alert alert-success\">\n",
    "<b>Комментарий ревьюера:</b> Так я выделяю все остальные комментарии.</div>\n",
    "\n",
    "Давай работать над проектом в диалоге: если ты что-то меняешь в проекте или отвечаешь на мои комменатри — пиши об этом. Мне будет легче отследить изменения, если ты выделишь свои комментарии:\n",
    "<div class=\"alert alert-info\"> <b>Комментарий студента:</b> Например, вот так.</div>\n",
    "\n",
    "Всё это поможет выполнить повторную проверку твоего проекта оперативнее. "
   ]
  },
  {
   "cell_type": "markdown",
   "metadata": {},
   "source": [
    "# Отток клиентов"
   ]
  },
  {
   "cell_type": "markdown",
   "metadata": {},
   "source": [
    "Из «Бета-Банка» стали уходить клиенты. Каждый месяц. Немного, но заметно. Банковские маркетологи посчитали: сохранять текущих клиентов дешевле, чем привлекать новых.\n",
    "\n",
    "Нужно спрогнозировать, уйдёт клиент из банка в ближайшее время или нет. Вам предоставлены исторические данные о поведении клиентов и расторжении договоров с банком. \n",
    "\n",
    "Постройте модель с предельно большим значением *F1*-меры. Чтобы сдать проект успешно, нужно довести метрику до 0.59. Проверьте *F1*-меру на тестовой выборке самостоятельно.\n",
    "\n",
    "Дополнительно измеряйте *AUC-ROC*, сравнивайте её значение с *F1*-мерой.\n",
    "\n",
    "Источник данных: [https://www.kaggle.com/barelydedicated/bank-customer-churn-modeling](https://www.kaggle.com/barelydedicated/bank-customer-churn-modeling)"
   ]
  },
  {
   "cell_type": "markdown",
   "metadata": {},
   "source": [
    "<div class=\"alert alert-success\">\n",
    "<h2> Комментарий ревьюера</h2>\n",
    "\n",
    "Вступление в работу очень важно. Так ты поясняешь то, чему она посвящена. Можно также привести краткий план проведения самой работы и описание используемых столбцов. \n",
    "\n",
    "</div>"
   ]
  },
  {
   "cell_type": "markdown",
   "metadata": {},
   "source": [
    "# 1. Подготовка данных"
   ]
  },
  {
   "cell_type": "code",
   "execution_count": 1,
   "metadata": {},
   "outputs": [],
   "source": [
    "# блок импорта\n",
    "import pandas as pd\n",
    "import numpy as np\n",
    "import matplotlib.pyplot as plt\n",
    "\n",
    "# Подготовка моделей\n",
    "from sklearn.preprocessing import StandardScaler\n",
    "from sklearn.model_selection import train_test_split\n",
    "from sklearn.utils import shuffle\n",
    "\n",
    "# Модели\n",
    "from sklearn.tree import DecisionTreeClassifier\n",
    "from sklearn.linear_model import LogisticRegression\n",
    "from sklearn.ensemble import RandomForestClassifier\n",
    "\n",
    "# Метрики\n",
    "from sklearn.metrics import accuracy_score\n",
    "from sklearn.metrics import confusion_matrix\n",
    "from sklearn.metrics import recall_score\n",
    "from sklearn.metrics import precision_score\n",
    "from sklearn.metrics import f1_score\n",
    "from sklearn.metrics import roc_auc_score\n",
    "from sklearn.metrics import roc_curve"
   ]
  },
  {
   "cell_type": "code",
   "execution_count": 2,
   "metadata": {},
   "outputs": [
    {
     "name": "stdout",
     "output_type": "stream",
     "text": [
      "<class 'pandas.core.frame.DataFrame'>\n",
      "RangeIndex: 10000 entries, 0 to 9999\n",
      "Data columns (total 14 columns):\n",
      "RowNumber          10000 non-null int64\n",
      "CustomerId         10000 non-null int64\n",
      "Surname            10000 non-null object\n",
      "CreditScore        10000 non-null int64\n",
      "Geography          10000 non-null object\n",
      "Gender             10000 non-null object\n",
      "Age                10000 non-null int64\n",
      "Tenure             9091 non-null float64\n",
      "Balance            10000 non-null float64\n",
      "NumOfProducts      10000 non-null int64\n",
      "HasCrCard          10000 non-null int64\n",
      "IsActiveMember     10000 non-null int64\n",
      "EstimatedSalary    10000 non-null float64\n",
      "Exited             10000 non-null int64\n",
      "dtypes: float64(3), int64(8), object(3)\n",
      "memory usage: 1.1+ MB\n"
     ]
    }
   ],
   "source": [
    "# прочитаем данные файла\n",
    "df = pd.read_csv('/datasets/Churn.csv')\n",
    "\n",
    "# посмотрим общую информацию о данных\n",
    "df.info()"
   ]
  },
  {
   "cell_type": "code",
   "execution_count": 3,
   "metadata": {},
   "outputs": [
    {
     "data": {
      "text/html": [
       "<div>\n",
       "<style scoped>\n",
       "    .dataframe tbody tr th:only-of-type {\n",
       "        vertical-align: middle;\n",
       "    }\n",
       "\n",
       "    .dataframe tbody tr th {\n",
       "        vertical-align: top;\n",
       "    }\n",
       "\n",
       "    .dataframe thead th {\n",
       "        text-align: right;\n",
       "    }\n",
       "</style>\n",
       "<table border=\"1\" class=\"dataframe\">\n",
       "  <thead>\n",
       "    <tr style=\"text-align: right;\">\n",
       "      <th></th>\n",
       "      <th>RowNumber</th>\n",
       "      <th>CustomerId</th>\n",
       "      <th>Surname</th>\n",
       "      <th>CreditScore</th>\n",
       "      <th>Geography</th>\n",
       "      <th>Gender</th>\n",
       "      <th>Age</th>\n",
       "      <th>Tenure</th>\n",
       "      <th>Balance</th>\n",
       "      <th>NumOfProducts</th>\n",
       "      <th>HasCrCard</th>\n",
       "      <th>IsActiveMember</th>\n",
       "      <th>EstimatedSalary</th>\n",
       "      <th>Exited</th>\n",
       "    </tr>\n",
       "  </thead>\n",
       "  <tbody>\n",
       "    <tr>\n",
       "      <td>0</td>\n",
       "      <td>1</td>\n",
       "      <td>15634602</td>\n",
       "      <td>Hargrave</td>\n",
       "      <td>619</td>\n",
       "      <td>France</td>\n",
       "      <td>Female</td>\n",
       "      <td>42</td>\n",
       "      <td>2.0</td>\n",
       "      <td>0.00</td>\n",
       "      <td>1</td>\n",
       "      <td>1</td>\n",
       "      <td>1</td>\n",
       "      <td>101348.88</td>\n",
       "      <td>1</td>\n",
       "    </tr>\n",
       "    <tr>\n",
       "      <td>1</td>\n",
       "      <td>2</td>\n",
       "      <td>15647311</td>\n",
       "      <td>Hill</td>\n",
       "      <td>608</td>\n",
       "      <td>Spain</td>\n",
       "      <td>Female</td>\n",
       "      <td>41</td>\n",
       "      <td>1.0</td>\n",
       "      <td>83807.86</td>\n",
       "      <td>1</td>\n",
       "      <td>0</td>\n",
       "      <td>1</td>\n",
       "      <td>112542.58</td>\n",
       "      <td>0</td>\n",
       "    </tr>\n",
       "    <tr>\n",
       "      <td>2</td>\n",
       "      <td>3</td>\n",
       "      <td>15619304</td>\n",
       "      <td>Onio</td>\n",
       "      <td>502</td>\n",
       "      <td>France</td>\n",
       "      <td>Female</td>\n",
       "      <td>42</td>\n",
       "      <td>8.0</td>\n",
       "      <td>159660.80</td>\n",
       "      <td>3</td>\n",
       "      <td>1</td>\n",
       "      <td>0</td>\n",
       "      <td>113931.57</td>\n",
       "      <td>1</td>\n",
       "    </tr>\n",
       "    <tr>\n",
       "      <td>3</td>\n",
       "      <td>4</td>\n",
       "      <td>15701354</td>\n",
       "      <td>Boni</td>\n",
       "      <td>699</td>\n",
       "      <td>France</td>\n",
       "      <td>Female</td>\n",
       "      <td>39</td>\n",
       "      <td>1.0</td>\n",
       "      <td>0.00</td>\n",
       "      <td>2</td>\n",
       "      <td>0</td>\n",
       "      <td>0</td>\n",
       "      <td>93826.63</td>\n",
       "      <td>0</td>\n",
       "    </tr>\n",
       "    <tr>\n",
       "      <td>4</td>\n",
       "      <td>5</td>\n",
       "      <td>15737888</td>\n",
       "      <td>Mitchell</td>\n",
       "      <td>850</td>\n",
       "      <td>Spain</td>\n",
       "      <td>Female</td>\n",
       "      <td>43</td>\n",
       "      <td>2.0</td>\n",
       "      <td>125510.82</td>\n",
       "      <td>1</td>\n",
       "      <td>1</td>\n",
       "      <td>1</td>\n",
       "      <td>79084.10</td>\n",
       "      <td>0</td>\n",
       "    </tr>\n",
       "    <tr>\n",
       "      <td>...</td>\n",
       "      <td>...</td>\n",
       "      <td>...</td>\n",
       "      <td>...</td>\n",
       "      <td>...</td>\n",
       "      <td>...</td>\n",
       "      <td>...</td>\n",
       "      <td>...</td>\n",
       "      <td>...</td>\n",
       "      <td>...</td>\n",
       "      <td>...</td>\n",
       "      <td>...</td>\n",
       "      <td>...</td>\n",
       "      <td>...</td>\n",
       "      <td>...</td>\n",
       "    </tr>\n",
       "    <tr>\n",
       "      <td>9995</td>\n",
       "      <td>9996</td>\n",
       "      <td>15606229</td>\n",
       "      <td>Obijiaku</td>\n",
       "      <td>771</td>\n",
       "      <td>France</td>\n",
       "      <td>Male</td>\n",
       "      <td>39</td>\n",
       "      <td>5.0</td>\n",
       "      <td>0.00</td>\n",
       "      <td>2</td>\n",
       "      <td>1</td>\n",
       "      <td>0</td>\n",
       "      <td>96270.64</td>\n",
       "      <td>0</td>\n",
       "    </tr>\n",
       "    <tr>\n",
       "      <td>9996</td>\n",
       "      <td>9997</td>\n",
       "      <td>15569892</td>\n",
       "      <td>Johnstone</td>\n",
       "      <td>516</td>\n",
       "      <td>France</td>\n",
       "      <td>Male</td>\n",
       "      <td>35</td>\n",
       "      <td>10.0</td>\n",
       "      <td>57369.61</td>\n",
       "      <td>1</td>\n",
       "      <td>1</td>\n",
       "      <td>1</td>\n",
       "      <td>101699.77</td>\n",
       "      <td>0</td>\n",
       "    </tr>\n",
       "    <tr>\n",
       "      <td>9997</td>\n",
       "      <td>9998</td>\n",
       "      <td>15584532</td>\n",
       "      <td>Liu</td>\n",
       "      <td>709</td>\n",
       "      <td>France</td>\n",
       "      <td>Female</td>\n",
       "      <td>36</td>\n",
       "      <td>7.0</td>\n",
       "      <td>0.00</td>\n",
       "      <td>1</td>\n",
       "      <td>0</td>\n",
       "      <td>1</td>\n",
       "      <td>42085.58</td>\n",
       "      <td>1</td>\n",
       "    </tr>\n",
       "    <tr>\n",
       "      <td>9998</td>\n",
       "      <td>9999</td>\n",
       "      <td>15682355</td>\n",
       "      <td>Sabbatini</td>\n",
       "      <td>772</td>\n",
       "      <td>Germany</td>\n",
       "      <td>Male</td>\n",
       "      <td>42</td>\n",
       "      <td>3.0</td>\n",
       "      <td>75075.31</td>\n",
       "      <td>2</td>\n",
       "      <td>1</td>\n",
       "      <td>0</td>\n",
       "      <td>92888.52</td>\n",
       "      <td>1</td>\n",
       "    </tr>\n",
       "    <tr>\n",
       "      <td>9999</td>\n",
       "      <td>10000</td>\n",
       "      <td>15628319</td>\n",
       "      <td>Walker</td>\n",
       "      <td>792</td>\n",
       "      <td>France</td>\n",
       "      <td>Female</td>\n",
       "      <td>28</td>\n",
       "      <td>NaN</td>\n",
       "      <td>130142.79</td>\n",
       "      <td>1</td>\n",
       "      <td>1</td>\n",
       "      <td>0</td>\n",
       "      <td>38190.78</td>\n",
       "      <td>0</td>\n",
       "    </tr>\n",
       "  </tbody>\n",
       "</table>\n",
       "<p>10000 rows × 14 columns</p>\n",
       "</div>"
      ],
      "text/plain": [
       "      RowNumber  CustomerId    Surname  CreditScore Geography  Gender  Age  \\\n",
       "0             1    15634602   Hargrave          619    France  Female   42   \n",
       "1             2    15647311       Hill          608     Spain  Female   41   \n",
       "2             3    15619304       Onio          502    France  Female   42   \n",
       "3             4    15701354       Boni          699    France  Female   39   \n",
       "4             5    15737888   Mitchell          850     Spain  Female   43   \n",
       "...         ...         ...        ...          ...       ...     ...  ...   \n",
       "9995       9996    15606229   Obijiaku          771    France    Male   39   \n",
       "9996       9997    15569892  Johnstone          516    France    Male   35   \n",
       "9997       9998    15584532        Liu          709    France  Female   36   \n",
       "9998       9999    15682355  Sabbatini          772   Germany    Male   42   \n",
       "9999      10000    15628319     Walker          792    France  Female   28   \n",
       "\n",
       "      Tenure    Balance  NumOfProducts  HasCrCard  IsActiveMember  \\\n",
       "0        2.0       0.00              1          1               1   \n",
       "1        1.0   83807.86              1          0               1   \n",
       "2        8.0  159660.80              3          1               0   \n",
       "3        1.0       0.00              2          0               0   \n",
       "4        2.0  125510.82              1          1               1   \n",
       "...      ...        ...            ...        ...             ...   \n",
       "9995     5.0       0.00              2          1               0   \n",
       "9996    10.0   57369.61              1          1               1   \n",
       "9997     7.0       0.00              1          0               1   \n",
       "9998     3.0   75075.31              2          1               0   \n",
       "9999     NaN  130142.79              1          1               0   \n",
       "\n",
       "      EstimatedSalary  Exited  \n",
       "0           101348.88       1  \n",
       "1           112542.58       0  \n",
       "2           113931.57       1  \n",
       "3            93826.63       0  \n",
       "4            79084.10       0  \n",
       "...               ...     ...  \n",
       "9995         96270.64       0  \n",
       "9996        101699.77       0  \n",
       "9997         42085.58       1  \n",
       "9998         92888.52       1  \n",
       "9999         38190.78       0  \n",
       "\n",
       "[10000 rows x 14 columns]"
      ]
     },
     "execution_count": 3,
     "metadata": {},
     "output_type": "execute_result"
    }
   ],
   "source": [
    "# Посмотрим на данные\n",
    "df"
   ]
  },
  {
   "cell_type": "markdown",
   "metadata": {},
   "source": [
    "### Сразу бросаются в глаза нюансы\n",
    "\n",
    "    - Пустые значения в количестве недвижимости у клиента Tenure (скорее всего, означает ее отсутствие)\n",
    "    - Также Tenure стоит привести к целочисленному типу\n",
    "    - Столбцы RowNumber и CustomerId нам точно не понадобятся. Фамилия тоже, хотя на будущее можно было бы попробовать поискать любопытные взаимосвязи (в духе, если фамилия типично европейская, то...). Сейчас просто удалим.\n",
    "    - Количественные признаки Gender и Geography нужно будет преобразовать к числовым значениям"
   ]
  },
  {
   "cell_type": "code",
   "execution_count": 4,
   "metadata": {},
   "outputs": [],
   "source": [
    "# Удалим лишние признаки\n",
    "df.drop(['RowNumber', 'CustomerId', 'Surname'], axis='columns', inplace=True)"
   ]
  },
  {
   "cell_type": "markdown",
   "metadata": {},
   "source": [
    "    Дополнительно исследовал Tenure, чтобы понять, корректно ли их заполнять нулями. Для этого\n",
    "    - Посмотрел среднее значение признаков по выборке (только пустые значения) и по всем данным. Т.е. гипотеза, что эти люди меньше зарабатывают или отличаются по другим параметрам, не подтвердилась\n",
    "    - Построил матрицу корреляции. Опять же, самая высокая корреляция с HasCrCard. С остальными признаками корреляция минимальна.\n",
    "\n",
    "    Таким образом, мы не можем однозначно утверждать, что пропущенные значения в реальности нули, однако и каких-то дополнительных якорей, чтобы заполнить их приближено к реальности у нас нет.\n",
    "\n",
    "    В связи с этим, в дальнейшем попробую заполнить нулями. Если результаты не будут устраивать, попробую удалить значения из выборки."
   ]
  },
  {
   "cell_type": "code",
   "execution_count": 5,
   "metadata": {},
   "outputs": [
    {
     "data": {
      "text/html": [
       "<div>\n",
       "<style scoped>\n",
       "    .dataframe tbody tr th:only-of-type {\n",
       "        vertical-align: middle;\n",
       "    }\n",
       "\n",
       "    .dataframe tbody tr th {\n",
       "        vertical-align: top;\n",
       "    }\n",
       "\n",
       "    .dataframe thead th {\n",
       "        text-align: right;\n",
       "    }\n",
       "</style>\n",
       "<table border=\"1\" class=\"dataframe\">\n",
       "  <thead>\n",
       "    <tr style=\"text-align: right;\">\n",
       "      <th></th>\n",
       "      <th>CreditScore</th>\n",
       "      <th>Geography</th>\n",
       "      <th>Gender</th>\n",
       "      <th>Age</th>\n",
       "      <th>Tenure</th>\n",
       "      <th>Balance</th>\n",
       "      <th>NumOfProducts</th>\n",
       "      <th>HasCrCard</th>\n",
       "      <th>IsActiveMember</th>\n",
       "      <th>EstimatedSalary</th>\n",
       "      <th>Exited</th>\n",
       "    </tr>\n",
       "  </thead>\n",
       "  <tbody>\n",
       "    <tr>\n",
       "      <td>0</td>\n",
       "      <td>619</td>\n",
       "      <td>France</td>\n",
       "      <td>Female</td>\n",
       "      <td>42</td>\n",
       "      <td>2</td>\n",
       "      <td>0.00</td>\n",
       "      <td>1</td>\n",
       "      <td>1</td>\n",
       "      <td>1</td>\n",
       "      <td>101348.88</td>\n",
       "      <td>1</td>\n",
       "    </tr>\n",
       "    <tr>\n",
       "      <td>1</td>\n",
       "      <td>608</td>\n",
       "      <td>Spain</td>\n",
       "      <td>Female</td>\n",
       "      <td>41</td>\n",
       "      <td>1</td>\n",
       "      <td>83807.86</td>\n",
       "      <td>1</td>\n",
       "      <td>0</td>\n",
       "      <td>1</td>\n",
       "      <td>112542.58</td>\n",
       "      <td>0</td>\n",
       "    </tr>\n",
       "    <tr>\n",
       "      <td>2</td>\n",
       "      <td>502</td>\n",
       "      <td>France</td>\n",
       "      <td>Female</td>\n",
       "      <td>42</td>\n",
       "      <td>8</td>\n",
       "      <td>159660.80</td>\n",
       "      <td>3</td>\n",
       "      <td>1</td>\n",
       "      <td>0</td>\n",
       "      <td>113931.57</td>\n",
       "      <td>1</td>\n",
       "    </tr>\n",
       "    <tr>\n",
       "      <td>3</td>\n",
       "      <td>699</td>\n",
       "      <td>France</td>\n",
       "      <td>Female</td>\n",
       "      <td>39</td>\n",
       "      <td>1</td>\n",
       "      <td>0.00</td>\n",
       "      <td>2</td>\n",
       "      <td>0</td>\n",
       "      <td>0</td>\n",
       "      <td>93826.63</td>\n",
       "      <td>0</td>\n",
       "    </tr>\n",
       "    <tr>\n",
       "      <td>4</td>\n",
       "      <td>850</td>\n",
       "      <td>Spain</td>\n",
       "      <td>Female</td>\n",
       "      <td>43</td>\n",
       "      <td>2</td>\n",
       "      <td>125510.82</td>\n",
       "      <td>1</td>\n",
       "      <td>1</td>\n",
       "      <td>1</td>\n",
       "      <td>79084.10</td>\n",
       "      <td>0</td>\n",
       "    </tr>\n",
       "  </tbody>\n",
       "</table>\n",
       "</div>"
      ],
      "text/plain": [
       "   CreditScore Geography  Gender  Age  Tenure    Balance  NumOfProducts  \\\n",
       "0          619    France  Female   42       2       0.00              1   \n",
       "1          608     Spain  Female   41       1   83807.86              1   \n",
       "2          502    France  Female   42       8  159660.80              3   \n",
       "3          699    France  Female   39       1       0.00              2   \n",
       "4          850     Spain  Female   43       2  125510.82              1   \n",
       "\n",
       "   HasCrCard  IsActiveMember  EstimatedSalary  Exited  \n",
       "0          1               1        101348.88       1  \n",
       "1          0               1        112542.58       0  \n",
       "2          1               0        113931.57       1  \n",
       "3          0               0         93826.63       0  \n",
       "4          1               1         79084.10       0  "
      ]
     },
     "execution_count": 5,
     "metadata": {},
     "output_type": "execute_result"
    }
   ],
   "source": [
    "# Заполним значения Tenure и приведем к int'у\n",
    "df['Tenure'].fillna(0, inplace=True)\n",
    "df['Tenure'] = df['Tenure'].astype('int')\n",
    "\n",
    "# Посмотрим, что получилось\n",
    "df.head()"
   ]
  },
  {
   "cell_type": "markdown",
   "metadata": {},
   "source": [
    "<div class=\"alert alert-warning\">\n",
    "<h2> Комментарий ревьюера</h2>\n",
    "\n",
    "Я бы рекомендовал не использовать атрибут `inplace`, так как в последующих обновлениях библотеки `pandas` он будет удален.\n",
    "    \n",
    "Лучше всего переопределять переменные. \n",
    "    \n",
    "</div>"
   ]
  },
  {
   "cell_type": "markdown",
   "metadata": {},
   "source": [
    "### Разберемся с категориальными признаками"
   ]
  },
  {
   "cell_type": "code",
   "execution_count": 6,
   "metadata": {},
   "outputs": [
    {
     "data": {
      "text/plain": [
       "Male      5457\n",
       "Female    4543\n",
       "Name: Gender, dtype: int64"
      ]
     },
     "execution_count": 6,
     "metadata": {},
     "output_type": "execute_result"
    }
   ],
   "source": [
    "# Проверим, что полов у нас всего два (мало ли)\n",
    "df['Gender'].value_counts()"
   ]
  },
  {
   "cell_type": "code",
   "execution_count": 7,
   "metadata": {},
   "outputs": [
    {
     "data": {
      "text/plain": [
       "France     5014\n",
       "Germany    2509\n",
       "Spain      2477\n",
       "Name: Geography, dtype: int64"
      ]
     },
     "execution_count": 7,
     "metadata": {},
     "output_type": "execute_result"
    }
   ],
   "source": [
    "# Посмотрим сколько у нас стран\n",
    "df['Geography'].value_counts()"
   ]
  },
  {
   "cell_type": "code",
   "execution_count": 8,
   "metadata": {},
   "outputs": [
    {
     "data": {
      "text/html": [
       "<div>\n",
       "<style scoped>\n",
       "    .dataframe tbody tr th:only-of-type {\n",
       "        vertical-align: middle;\n",
       "    }\n",
       "\n",
       "    .dataframe tbody tr th {\n",
       "        vertical-align: top;\n",
       "    }\n",
       "\n",
       "    .dataframe thead th {\n",
       "        text-align: right;\n",
       "    }\n",
       "</style>\n",
       "<table border=\"1\" class=\"dataframe\">\n",
       "  <thead>\n",
       "    <tr style=\"text-align: right;\">\n",
       "      <th></th>\n",
       "      <th>CreditScore</th>\n",
       "      <th>Age</th>\n",
       "      <th>Tenure</th>\n",
       "      <th>Balance</th>\n",
       "      <th>NumOfProducts</th>\n",
       "      <th>HasCrCard</th>\n",
       "      <th>IsActiveMember</th>\n",
       "      <th>EstimatedSalary</th>\n",
       "      <th>Exited</th>\n",
       "      <th>Geography_Germany</th>\n",
       "      <th>Geography_Spain</th>\n",
       "      <th>Gender_Male</th>\n",
       "    </tr>\n",
       "  </thead>\n",
       "  <tbody>\n",
       "    <tr>\n",
       "      <td>0</td>\n",
       "      <td>619</td>\n",
       "      <td>42</td>\n",
       "      <td>2</td>\n",
       "      <td>0.00</td>\n",
       "      <td>1</td>\n",
       "      <td>1</td>\n",
       "      <td>1</td>\n",
       "      <td>101348.88</td>\n",
       "      <td>1</td>\n",
       "      <td>0</td>\n",
       "      <td>0</td>\n",
       "      <td>0</td>\n",
       "    </tr>\n",
       "    <tr>\n",
       "      <td>1</td>\n",
       "      <td>608</td>\n",
       "      <td>41</td>\n",
       "      <td>1</td>\n",
       "      <td>83807.86</td>\n",
       "      <td>1</td>\n",
       "      <td>0</td>\n",
       "      <td>1</td>\n",
       "      <td>112542.58</td>\n",
       "      <td>0</td>\n",
       "      <td>0</td>\n",
       "      <td>1</td>\n",
       "      <td>0</td>\n",
       "    </tr>\n",
       "    <tr>\n",
       "      <td>2</td>\n",
       "      <td>502</td>\n",
       "      <td>42</td>\n",
       "      <td>8</td>\n",
       "      <td>159660.80</td>\n",
       "      <td>3</td>\n",
       "      <td>1</td>\n",
       "      <td>0</td>\n",
       "      <td>113931.57</td>\n",
       "      <td>1</td>\n",
       "      <td>0</td>\n",
       "      <td>0</td>\n",
       "      <td>0</td>\n",
       "    </tr>\n",
       "    <tr>\n",
       "      <td>3</td>\n",
       "      <td>699</td>\n",
       "      <td>39</td>\n",
       "      <td>1</td>\n",
       "      <td>0.00</td>\n",
       "      <td>2</td>\n",
       "      <td>0</td>\n",
       "      <td>0</td>\n",
       "      <td>93826.63</td>\n",
       "      <td>0</td>\n",
       "      <td>0</td>\n",
       "      <td>0</td>\n",
       "      <td>0</td>\n",
       "    </tr>\n",
       "    <tr>\n",
       "      <td>4</td>\n",
       "      <td>850</td>\n",
       "      <td>43</td>\n",
       "      <td>2</td>\n",
       "      <td>125510.82</td>\n",
       "      <td>1</td>\n",
       "      <td>1</td>\n",
       "      <td>1</td>\n",
       "      <td>79084.10</td>\n",
       "      <td>0</td>\n",
       "      <td>0</td>\n",
       "      <td>1</td>\n",
       "      <td>0</td>\n",
       "    </tr>\n",
       "    <tr>\n",
       "      <td>...</td>\n",
       "      <td>...</td>\n",
       "      <td>...</td>\n",
       "      <td>...</td>\n",
       "      <td>...</td>\n",
       "      <td>...</td>\n",
       "      <td>...</td>\n",
       "      <td>...</td>\n",
       "      <td>...</td>\n",
       "      <td>...</td>\n",
       "      <td>...</td>\n",
       "      <td>...</td>\n",
       "      <td>...</td>\n",
       "    </tr>\n",
       "    <tr>\n",
       "      <td>9995</td>\n",
       "      <td>771</td>\n",
       "      <td>39</td>\n",
       "      <td>5</td>\n",
       "      <td>0.00</td>\n",
       "      <td>2</td>\n",
       "      <td>1</td>\n",
       "      <td>0</td>\n",
       "      <td>96270.64</td>\n",
       "      <td>0</td>\n",
       "      <td>0</td>\n",
       "      <td>0</td>\n",
       "      <td>1</td>\n",
       "    </tr>\n",
       "    <tr>\n",
       "      <td>9996</td>\n",
       "      <td>516</td>\n",
       "      <td>35</td>\n",
       "      <td>10</td>\n",
       "      <td>57369.61</td>\n",
       "      <td>1</td>\n",
       "      <td>1</td>\n",
       "      <td>1</td>\n",
       "      <td>101699.77</td>\n",
       "      <td>0</td>\n",
       "      <td>0</td>\n",
       "      <td>0</td>\n",
       "      <td>1</td>\n",
       "    </tr>\n",
       "    <tr>\n",
       "      <td>9997</td>\n",
       "      <td>709</td>\n",
       "      <td>36</td>\n",
       "      <td>7</td>\n",
       "      <td>0.00</td>\n",
       "      <td>1</td>\n",
       "      <td>0</td>\n",
       "      <td>1</td>\n",
       "      <td>42085.58</td>\n",
       "      <td>1</td>\n",
       "      <td>0</td>\n",
       "      <td>0</td>\n",
       "      <td>0</td>\n",
       "    </tr>\n",
       "    <tr>\n",
       "      <td>9998</td>\n",
       "      <td>772</td>\n",
       "      <td>42</td>\n",
       "      <td>3</td>\n",
       "      <td>75075.31</td>\n",
       "      <td>2</td>\n",
       "      <td>1</td>\n",
       "      <td>0</td>\n",
       "      <td>92888.52</td>\n",
       "      <td>1</td>\n",
       "      <td>1</td>\n",
       "      <td>0</td>\n",
       "      <td>1</td>\n",
       "    </tr>\n",
       "    <tr>\n",
       "      <td>9999</td>\n",
       "      <td>792</td>\n",
       "      <td>28</td>\n",
       "      <td>0</td>\n",
       "      <td>130142.79</td>\n",
       "      <td>1</td>\n",
       "      <td>1</td>\n",
       "      <td>0</td>\n",
       "      <td>38190.78</td>\n",
       "      <td>0</td>\n",
       "      <td>0</td>\n",
       "      <td>0</td>\n",
       "      <td>0</td>\n",
       "    </tr>\n",
       "  </tbody>\n",
       "</table>\n",
       "<p>10000 rows × 12 columns</p>\n",
       "</div>"
      ],
      "text/plain": [
       "      CreditScore  Age  Tenure    Balance  NumOfProducts  HasCrCard  \\\n",
       "0             619   42       2       0.00              1          1   \n",
       "1             608   41       1   83807.86              1          0   \n",
       "2             502   42       8  159660.80              3          1   \n",
       "3             699   39       1       0.00              2          0   \n",
       "4             850   43       2  125510.82              1          1   \n",
       "...           ...  ...     ...        ...            ...        ...   \n",
       "9995          771   39       5       0.00              2          1   \n",
       "9996          516   35      10   57369.61              1          1   \n",
       "9997          709   36       7       0.00              1          0   \n",
       "9998          772   42       3   75075.31              2          1   \n",
       "9999          792   28       0  130142.79              1          1   \n",
       "\n",
       "      IsActiveMember  EstimatedSalary  Exited  Geography_Germany  \\\n",
       "0                  1        101348.88       1                  0   \n",
       "1                  1        112542.58       0                  0   \n",
       "2                  0        113931.57       1                  0   \n",
       "3                  0         93826.63       0                  0   \n",
       "4                  1         79084.10       0                  0   \n",
       "...              ...              ...     ...                ...   \n",
       "9995               0         96270.64       0                  0   \n",
       "9996               1        101699.77       0                  0   \n",
       "9997               1         42085.58       1                  0   \n",
       "9998               0         92888.52       1                  1   \n",
       "9999               0         38190.78       0                  0   \n",
       "\n",
       "      Geography_Spain  Gender_Male  \n",
       "0                   0            0  \n",
       "1                   1            0  \n",
       "2                   0            0  \n",
       "3                   0            0  \n",
       "4                   1            0  \n",
       "...               ...          ...  \n",
       "9995                0            1  \n",
       "9996                0            1  \n",
       "9997                0            0  \n",
       "9998                0            1  \n",
       "9999                0            0  \n",
       "\n",
       "[10000 rows x 12 columns]"
      ]
     },
     "execution_count": 8,
     "metadata": {},
     "output_type": "execute_result"
    }
   ],
   "source": [
    "# Т.к. полов всего два, достаточно заменить признак на 1-0,\n",
    "# но в целом OHE при удалении столбца даст тот же эффект, поэтому используем прямое кодирование\n",
    "# также малое количество стран позволяет им обойтись\n",
    "# к тому же OHE подойдет для всех трех моделей, поэтому остановимся на нем\n",
    "\n",
    "df_ohe = pd.get_dummies(df, drop_first=True)\n",
    "df_ohe"
   ]
  },
  {
   "cell_type": "code",
   "execution_count": 9,
   "metadata": {},
   "outputs": [
    {
     "name": "stdout",
     "output_type": "stream",
     "text": [
      "Target test count = 2000, Varget test count = 2000, Train test count = 6000\n"
     ]
    }
   ],
   "source": [
    "# Мы имеем явно большой масштаб числовых признаков, стандартизируем их\n",
    "\n",
    "# Поначалу пробовал делать сразу fit_transform на весь набор, но на консультации сказали, что так лучше не делать\n",
    "# поэтому сперва разобьем нашу выборку на тестовую и валидационную\n",
    "\n",
    "# Для начала отделим целевой признак\n",
    "\n",
    "target = df_ohe['Exited']\n",
    "features = df_ohe.drop('Exited', axis=1)\n",
    "\n",
    "# Определим random_state для всего проекта\n",
    "RANDOM_STATE = 12345\n",
    "\n",
    "# поскольку спрятанной тестовой выборки нет, поделим наш датасет на три в пропорции 60-20-20\n",
    "# сначала отделим набор на котором будем тренировать\n",
    "features_train, df_valid_ant_test_features, target_train, df_valid_ant_test_target = train_test_split(\n",
    "    features, target, test_size=0.4, random_state=RANDOM_STATE)\n",
    "\n",
    "# теперь разделим тестовую выборку от валидационной\n",
    "features_valid, features_test, target_valid, target_test = train_test_split(\n",
    "    df_valid_ant_test_features, df_valid_ant_test_target, test_size=0.5, random_state=RANDOM_STATE)\n",
    "\n",
    "del df_valid_ant_test_features, df_valid_ant_test_target\n",
    "\n",
    "# Проверим, что получилось\n",
    "print('Target test count = {}, Varget test count = {}, Train test count = {}'.format(target_test.count(), target_valid.count(), target_train.count()))"
   ]
  },
  {
   "cell_type": "markdown",
   "metadata": {},
   "source": [
    "<div class=\"alert alert-warning\">\n",
    "<h2> Комментарий ревьюера</h2>\n",
    "\n",
    "Отлично. Выборку поделили корректно. \n",
    "    \n",
    "</div>"
   ]
  },
  {
   "cell_type": "code",
   "execution_count": 10,
   "metadata": {},
   "outputs": [
    {
     "data": {
      "text/html": [
       "<div>\n",
       "<style scoped>\n",
       "    .dataframe tbody tr th:only-of-type {\n",
       "        vertical-align: middle;\n",
       "    }\n",
       "\n",
       "    .dataframe tbody tr th {\n",
       "        vertical-align: top;\n",
       "    }\n",
       "\n",
       "    .dataframe thead th {\n",
       "        text-align: right;\n",
       "    }\n",
       "</style>\n",
       "<table border=\"1\" class=\"dataframe\">\n",
       "  <thead>\n",
       "    <tr style=\"text-align: right;\">\n",
       "      <th></th>\n",
       "      <th>CreditScore</th>\n",
       "      <th>Age</th>\n",
       "      <th>Tenure</th>\n",
       "      <th>Balance</th>\n",
       "      <th>NumOfProducts</th>\n",
       "      <th>HasCrCard</th>\n",
       "      <th>IsActiveMember</th>\n",
       "      <th>EstimatedSalary</th>\n",
       "      <th>Geography_Germany</th>\n",
       "      <th>Geography_Spain</th>\n",
       "      <th>Gender_Male</th>\n",
       "    </tr>\n",
       "  </thead>\n",
       "  <tbody>\n",
       "    <tr>\n",
       "      <td>7479</td>\n",
       "      <td>-0.886751</td>\n",
       "      <td>-0.373192</td>\n",
       "      <td>1.104696</td>\n",
       "      <td>1.232271</td>\n",
       "      <td>-0.891560</td>\n",
       "      <td>1</td>\n",
       "      <td>0</td>\n",
       "      <td>-0.187705</td>\n",
       "      <td>0</td>\n",
       "      <td>1</td>\n",
       "      <td>1</td>\n",
       "    </tr>\n",
       "    <tr>\n",
       "      <td>3411</td>\n",
       "      <td>0.608663</td>\n",
       "      <td>-0.183385</td>\n",
       "      <td>1.104696</td>\n",
       "      <td>0.600563</td>\n",
       "      <td>-0.891560</td>\n",
       "      <td>0</td>\n",
       "      <td>0</td>\n",
       "      <td>-0.333945</td>\n",
       "      <td>0</td>\n",
       "      <td>0</td>\n",
       "      <td>0</td>\n",
       "    </tr>\n",
       "    <tr>\n",
       "      <td>6027</td>\n",
       "      <td>2.052152</td>\n",
       "      <td>0.480939</td>\n",
       "      <td>-0.503694</td>\n",
       "      <td>1.027098</td>\n",
       "      <td>0.830152</td>\n",
       "      <td>0</td>\n",
       "      <td>1</td>\n",
       "      <td>1.503095</td>\n",
       "      <td>1</td>\n",
       "      <td>0</td>\n",
       "      <td>1</td>\n",
       "    </tr>\n",
       "    <tr>\n",
       "      <td>1247</td>\n",
       "      <td>-1.457915</td>\n",
       "      <td>-1.417129</td>\n",
       "      <td>0.461340</td>\n",
       "      <td>-1.233163</td>\n",
       "      <td>0.830152</td>\n",
       "      <td>1</td>\n",
       "      <td>0</td>\n",
       "      <td>-1.071061</td>\n",
       "      <td>0</td>\n",
       "      <td>0</td>\n",
       "      <td>1</td>\n",
       "    </tr>\n",
       "    <tr>\n",
       "      <td>3716</td>\n",
       "      <td>0.130961</td>\n",
       "      <td>-1.132419</td>\n",
       "      <td>-0.825373</td>\n",
       "      <td>1.140475</td>\n",
       "      <td>-0.891560</td>\n",
       "      <td>0</td>\n",
       "      <td>0</td>\n",
       "      <td>1.524268</td>\n",
       "      <td>1</td>\n",
       "      <td>0</td>\n",
       "      <td>0</td>\n",
       "    </tr>\n",
       "    <tr>\n",
       "      <td>...</td>\n",
       "      <td>...</td>\n",
       "      <td>...</td>\n",
       "      <td>...</td>\n",
       "      <td>...</td>\n",
       "      <td>...</td>\n",
       "      <td>...</td>\n",
       "      <td>...</td>\n",
       "      <td>...</td>\n",
       "      <td>...</td>\n",
       "      <td>...</td>\n",
       "      <td>...</td>\n",
       "    </tr>\n",
       "    <tr>\n",
       "      <td>4478</td>\n",
       "      <td>-1.073677</td>\n",
       "      <td>-0.752805</td>\n",
       "      <td>-0.182016</td>\n",
       "      <td>-1.233163</td>\n",
       "      <td>0.830152</td>\n",
       "      <td>0</td>\n",
       "      <td>1</td>\n",
       "      <td>-1.278361</td>\n",
       "      <td>0</td>\n",
       "      <td>0</td>\n",
       "      <td>1</td>\n",
       "    </tr>\n",
       "    <tr>\n",
       "      <td>4094</td>\n",
       "      <td>-1.447531</td>\n",
       "      <td>-0.942612</td>\n",
       "      <td>1.748053</td>\n",
       "      <td>-1.233163</td>\n",
       "      <td>0.830152</td>\n",
       "      <td>0</td>\n",
       "      <td>1</td>\n",
       "      <td>-1.281307</td>\n",
       "      <td>0</td>\n",
       "      <td>0</td>\n",
       "      <td>1</td>\n",
       "    </tr>\n",
       "    <tr>\n",
       "      <td>3492</td>\n",
       "      <td>0.027113</td>\n",
       "      <td>0.575842</td>\n",
       "      <td>-1.468729</td>\n",
       "      <td>-0.310229</td>\n",
       "      <td>-0.891560</td>\n",
       "      <td>0</td>\n",
       "      <td>1</td>\n",
       "      <td>-0.903158</td>\n",
       "      <td>0</td>\n",
       "      <td>0</td>\n",
       "      <td>0</td>\n",
       "    </tr>\n",
       "    <tr>\n",
       "      <td>2177</td>\n",
       "      <td>0.151731</td>\n",
       "      <td>-1.417129</td>\n",
       "      <td>-0.182016</td>\n",
       "      <td>-1.233163</td>\n",
       "      <td>0.830152</td>\n",
       "      <td>0</td>\n",
       "      <td>1</td>\n",
       "      <td>-1.128539</td>\n",
       "      <td>0</td>\n",
       "      <td>0</td>\n",
       "      <td>0</td>\n",
       "    </tr>\n",
       "    <tr>\n",
       "      <td>4578</td>\n",
       "      <td>0.400966</td>\n",
       "      <td>-0.088482</td>\n",
       "      <td>-1.147051</td>\n",
       "      <td>-1.233163</td>\n",
       "      <td>0.830152</td>\n",
       "      <td>0</td>\n",
       "      <td>0</td>\n",
       "      <td>-0.949841</td>\n",
       "      <td>0</td>\n",
       "      <td>0</td>\n",
       "      <td>1</td>\n",
       "    </tr>\n",
       "  </tbody>\n",
       "</table>\n",
       "<p>6000 rows × 11 columns</p>\n",
       "</div>"
      ],
      "text/plain": [
       "      CreditScore       Age    Tenure   Balance  NumOfProducts  HasCrCard  \\\n",
       "7479    -0.886751 -0.373192  1.104696  1.232271      -0.891560          1   \n",
       "3411     0.608663 -0.183385  1.104696  0.600563      -0.891560          0   \n",
       "6027     2.052152  0.480939 -0.503694  1.027098       0.830152          0   \n",
       "1247    -1.457915 -1.417129  0.461340 -1.233163       0.830152          1   \n",
       "3716     0.130961 -1.132419 -0.825373  1.140475      -0.891560          0   \n",
       "...           ...       ...       ...       ...            ...        ...   \n",
       "4478    -1.073677 -0.752805 -0.182016 -1.233163       0.830152          0   \n",
       "4094    -1.447531 -0.942612  1.748053 -1.233163       0.830152          0   \n",
       "3492     0.027113  0.575842 -1.468729 -0.310229      -0.891560          0   \n",
       "2177     0.151731 -1.417129 -0.182016 -1.233163       0.830152          0   \n",
       "4578     0.400966 -0.088482 -1.147051 -1.233163       0.830152          0   \n",
       "\n",
       "      IsActiveMember  EstimatedSalary  Geography_Germany  Geography_Spain  \\\n",
       "7479               0        -0.187705                  0                1   \n",
       "3411               0        -0.333945                  0                0   \n",
       "6027               1         1.503095                  1                0   \n",
       "1247               0        -1.071061                  0                0   \n",
       "3716               0         1.524268                  1                0   \n",
       "...              ...              ...                ...              ...   \n",
       "4478               1        -1.278361                  0                0   \n",
       "4094               1        -1.281307                  0                0   \n",
       "3492               1        -0.903158                  0                0   \n",
       "2177               1        -1.128539                  0                0   \n",
       "4578               0        -0.949841                  0                0   \n",
       "\n",
       "      Gender_Male  \n",
       "7479            1  \n",
       "3411            0  \n",
       "6027            1  \n",
       "1247            1  \n",
       "3716            0  \n",
       "...           ...  \n",
       "4478            1  \n",
       "4094            1  \n",
       "3492            0  \n",
       "2177            0  \n",
       "4578            1  \n",
       "\n",
       "[6000 rows x 11 columns]"
      ]
     },
     "execution_count": 10,
     "metadata": {},
     "output_type": "execute_result"
    }
   ],
   "source": [
    "# Стандартизируем признаки\n",
    "scaler = StandardScaler()\n",
    "numeric = ['CreditScore', 'Age', 'Tenure', 'Balance', 'NumOfProducts', 'EstimatedSalary']\n",
    "\n",
    "scaler.fit(features_train[numeric])\n",
    "\n",
    "pd.set_option('mode.chained_assignment', None)\n",
    "features_train[numeric] = scaler.transform(features_train[numeric])\n",
    "features_valid[numeric] = scaler.transform(features_valid[numeric])\n",
    "features_test[numeric] = scaler.transform(features_test[numeric])\n",
    "\n",
    "# посмотрим на тренировочной выборке что получилось\n",
    "features_train"
   ]
  },
  {
   "cell_type": "markdown",
   "metadata": {},
   "source": [
    "### Промежуточный вывод\n",
    "\n",
    "    - Мы изучили данные, заполнили пропуски, привели типы к соответствующим значениям\n",
    "    - Удалили признаки, которые нам вряд ли бы чем-то помогли\n",
    "    - Посредством One-Hot Encoding преобразовали категориальные признаки в числовые\n",
    "    - Привели числовые признаки к одному масштабу\n",
    "\n",
    "    По итогу, мы подготовили данные для дальнейшего исследования"
   ]
  },
  {
   "cell_type": "markdown",
   "metadata": {},
   "source": [
    "<div class=\"alert alert-success\">\n",
    "<h2> Комментарий ревьюера</h2>\n",
    "\n",
    "Хорошо, что нормализуем наши данные.\n",
    "    \n",
    "---\n",
    "    \n",
    "В том числе я бы рекомендовал построить графики распределения наших данных, чтобы поверхностно понимать с чем мы имеем дело.\n",
    "\n",
    "И посмотреть на матрицу корреляции, ведь у нас могут быть признаки, которые сильно коррелируют с таргет перменной, а это может отрицательно сказаться на нашей моделе. Хотел бы отметить, что так бывает не постоянно и эти способы стоит тестировать.\n",
    "    \n",
    "</div>"
   ]
  },
  {
   "cell_type": "markdown",
   "metadata": {},
   "source": [
    "# 2. Исследование задачи"
   ]
  },
  {
   "cell_type": "code",
   "execution_count": 11,
   "metadata": {},
   "outputs": [
    {
     "data": {
      "text/plain": [
       "<matplotlib.axes._subplots.AxesSubplot at 0x7f9cb7cb5110>"
      ]
     },
     "execution_count": 11,
     "metadata": {},
     "output_type": "execute_result"
    },
    {
     "data": {
      "image/png": "[encoded data removed]",
      "text/plain": [
       "<Figure size 1152x576 with 1 Axes>"
      ]
     },
     "metadata": {
      "needs_background": "light"
     },
     "output_type": "display_data"
    }
   ],
   "source": [
    "# Посмотрим на распределение значений целевого признака\n",
    "fig, ax = plt.subplots(1)\n",
    "ax.set_title('Распределение целевого признака')\n",
    "ax.set_xlabel('Значение признака')\n",
    "ax.set_ylabel('Количество записей с соответствующим значением')\n",
    "target.value_counts().plot(kind='bar', figsize=(16,8), ax=ax)"
   ]
  },
  {
   "cell_type": "markdown",
   "metadata": {},
   "source": [
    "    Очевидно, что имеем существенный перекос в данных в пользу тех, кто еще не прекратил отношения с банком. Для наших моделей это может быть не круто, но пока попробуем поработать с тем, что есть."
   ]
  },
  {
   "cell_type": "markdown",
   "metadata": {},
   "source": [
    "<div class=\"alert alert-success\">\n",
    "<h2> Комментарий ревьюера</h2>\n",
    "\n",
    "Хорошо, что посмотрели на дисбаланс классов.    \n",
    "</div>"
   ]
  },
  {
   "cell_type": "code",
   "execution_count": 12,
   "metadata": {},
   "outputs": [],
   "source": [
    "# Поскольку мы все равно будем исследовать все метрики, а они имеют одинаковую сигнатуру,\n",
    "# имеет смысл объеденить вывод в одну функцию, чтобы сразу получать все интересующие данные\n",
    "\n",
    "def print_full_scrore_info_title():\n",
    "    print('|{: >9}|{: >9}|{: >9}|{: >9}|{: >9}|{: >7}|{: >7}|{: >7}|{: >7}|'.format('Accuracy', 'Recall', 'Precision', 'F1', 'ROC-AUC', 'TP', 'TN', 'FP', 'FN'))\n",
    "\n",
    "def print_full_score_info(target, predicted):\n",
    "    accuracy = accuracy_score(target, predicted)\n",
    "    recall = recall_score(target, predicted)\n",
    "    precision = precision_score(target, predicted)\n",
    "    f1 = f1_score(target, predicted)\n",
    "    roc_auc = roc_auc_score(target, predicted)\n",
    "    \n",
    "    confusion_m = confusion_matrix(target, predicted);\n",
    "    TN = confusion_m[0][0]\n",
    "    TP = confusion_m[1][1]\n",
    "    FN = confusion_m[1][0]\n",
    "    FP = confusion_m[0][1]\n",
    "    \n",
    "    print('|{: >9.7f}|{: >9.7f}|{: >9.7f}|{: >9.7f}|{: >9.7f}|{: >7}|{: >7}|{: >7}|{: >7}|'.format(accuracy, recall, precision, f1, roc_auc, TP, TN, FP, FN))"
   ]
  },
  {
   "cell_type": "markdown",
   "metadata": {},
   "source": [
    "<div class=\"alert alert-success\">\n",
    "<h2> Комментарий ревьюера</h2>\n",
    "\n",
    "Интересные способы 👍\n",
    "    \n",
    "</div>"
   ]
  },
  {
   "cell_type": "code",
   "execution_count": 13,
   "metadata": {},
   "outputs": [],
   "source": [
    "# Изучим модели без учета дисбаланса\n",
    "# Начнем с дерева решений\n",
    "\n",
    "# определим глобальный массив, где будем сохранять наши лучшие результаты\n",
    "best_results = dict()\n",
    "best_results['decision_tree'] = dict()\n",
    "best_results['logistic_regression'] = dict()\n",
    "best_results['random_forest'] = dict()\n",
    "\n",
    "# напишем функцию по выводу информации по нашей модели\n",
    "def check_decision_tree(features_train, target_train, class_weight, train_type):\n",
    "    print('Decision tree')\n",
    "    print('|{: >9}'.format('max_depth'), end='')\n",
    "    print_full_scrore_info_title()\n",
    "    \n",
    "    # будем сразу считать лучшую меру и параметры, чтобы не искать глазами\n",
    "    best_f1 = 0\n",
    "    best_max_depth = 0\n",
    "    for max_depth in range(2, 11, 1):\n",
    "        model = DecisionTreeClassifier(max_depth=max_depth, random_state=RANDOM_STATE, class_weight=class_weight)\n",
    "        model.fit(features_train, target_train)\n",
    "        predicted_valid = model.predict(features_valid)\n",
    "        print('|{: >9}'.format(max_depth), end='')\n",
    "        print_full_score_info(target_valid, predicted_valid)\n",
    "        \n",
    "        current_f1 = f1_score(target_valid, predicted_valid)\n",
    "        if (current_f1 > best_f1):\n",
    "            best_f1 = current_f1\n",
    "            best_max_depth = max_depth\n",
    "    \n",
    "    # воспользуемся тем, что питон будет искать наш словарь глобально\n",
    "    best_results['decision_tree'][train_type] = dict()\n",
    "    best_results['decision_tree'][train_type]['params'] = 'max_depth=' + str(best_max_depth)\n",
    "    best_results['decision_tree'][train_type]['f1'] = best_f1"
   ]
  },
  {
   "cell_type": "markdown",
   "metadata": {},
   "source": [
    "<div class=\"alert alert-success\">\n",
    "<h2> Комментарий ревьюера</h2>\n",
    "\n",
    "Здоров, что создали функцию для проверки нашей модели.   \n",
    "</div>"
   ]
  },
  {
   "cell_type": "code",
   "execution_count": 14,
   "metadata": {
    "scrolled": true
   },
   "outputs": [
    {
     "name": "stdout",
     "output_type": "stream",
     "text": [
      "Decision tree\n",
      "|max_depth| Accuracy|   Recall|Precision|       F1|  ROC-AUC|     TP|     TN|     FP|     FN|\n",
      "|        2|0.8240000|0.4593301|0.6037736|0.5217391|0.6898421|    192|   1456|    126|    226|\n",
      "|        3|0.8380000|0.2846890|0.8263889|0.4234875|0.6344431|    119|   1557|     25|    299|\n",
      "|        4|0.8520000|0.4377990|0.7500000|0.5528701|0.6996201|    183|   1521|     61|    235|\n",
      "|        5|0.8530000|0.4138756|0.7792793|0.5406250|0.6914511|    173|   1533|     49|    245|\n",
      "|        6|0.8580000|0.4497608|0.7768595|0.5696970|0.7078134|    188|   1528|     54|    230|\n",
      "|        7|0.8505000|0.4066986|0.7692308|0.5320814|0.6872304|    170|   1531|     51|    248|\n",
      "|        8|0.8505000|0.4282297|0.7489540|0.5449011|0.6951515|    179|   1522|     60|    239|\n",
      "|        9|0.8500000|0.4928230|0.7006803|0.5786517|0.7185986|    206|   1494|     88|    212|\n",
      "|       10|0.8335000|0.4473684|0.6470588|0.5289958|0.6914465|    187|   1480|    102|    231|\n"
     ]
    }
   ],
   "source": [
    "# исследуем дерево решений\n",
    "\n",
    "check_decision_tree(features_train, target_train, None, 'default')"
   ]
  },
  {
   "cell_type": "markdown",
   "metadata": {},
   "source": [
    "<div class=\"alert alert-success\">\n",
    "<h2> Комментарий ревьюера</h2>\n",
    "\n",
    "Кайф 😊\n",
    "    \n",
    "В том числе эти данные можно было поместить в датафрейм и показать его соответственно. \n",
    "    \n",
    "</div>"
   ]
  },
  {
   "cell_type": "code",
   "execution_count": 15,
   "metadata": {
    "scrolled": true
   },
   "outputs": [
    {
     "name": "stdout",
     "output_type": "stream",
     "text": [
      "Logistic regression\n",
      "| Accuracy|   Recall|Precision|       F1|  ROC-AUC|     TP|     TN|     FP|     FN|\n",
      "|0.8025000|0.2368421|0.5657143|0.3338954|0.5944008|     99|   1506|     76|    319|\n"
     ]
    }
   ],
   "source": [
    "# Посмотрим на регрессию\n",
    "\n",
    "def check_logistic_regression(features_train, target_train, class_weight, train_type):\n",
    "    print('Logistic regression')\n",
    "    print_full_scrore_info_title()\n",
    "    \n",
    "    model = LogisticRegression(solver='liblinear', random_state=RANDOM_STATE, class_weight=class_weight)\n",
    "    model.fit(features_train, target_train)\n",
    "    predicted_valid = model.predict(features_valid)\n",
    "    print_full_score_info(target_valid, predicted_valid)\n",
    "    \n",
    "    # воспользуемся тем, что питон будет искать наш словарь глобально\n",
    "    best_results['logistic_regression'][train_type] = dict()\n",
    "    best_results['logistic_regression'][train_type]['params'] = '-'\n",
    "    best_results['logistic_regression'][train_type]['f1'] = f1_score(target_valid, predicted_valid)\n",
    "    \n",
    "check_logistic_regression(features_train, target_train, None, 'default')"
   ]
  },
  {
   "cell_type": "markdown",
   "metadata": {},
   "source": [
    "<div class=\"alert alert-success\">\n",
    "<h2> Комментарий ревьюера</h2>\n",
    "\n",
    "В том числе можно было попробвать и сравнить параметр `C` у логистической регрессии. \n",
    "        \n",
    "</div>"
   ]
  },
  {
   "cell_type": "code",
   "execution_count": 16,
   "metadata": {
    "scrolled": true
   },
   "outputs": [
    {
     "name": "stdout",
     "output_type": "stream",
     "text": [
      "Decision tree\n",
      "|n_estimators|max_depth|| Accuracy|   Recall|Precision|       F1|  ROC-AUC|     TP|     TN|     FP|     FN|\n",
      "\n",
      "|           5|        5||0.8515000|0.3684211|0.8235294|0.5090909|0.6737807|    154|   1549|     33|    264|\n",
      "|           5|       10||0.8540000|0.4545455|0.7480315|0.5654762|0.7070452|    190|   1518|     64|    228|\n",
      "|           5|       15||0.8445000|0.5143541|0.6656347|0.5802969|0.7230430|    215|   1474|    108|    203|\n",
      "|           5|       20||0.8385000|0.4904306|0.6507937|0.5593452|0.7104492|    205|   1472|    110|    213|\n",
      "|           5|       25||0.8380000|0.4641148|0.6598639|0.5449438|0.7004519|    194|   1482|    100|    224|\n",
      "\n",
      "|          10|        5||0.8450000|0.3325359|0.8176471|0.4727891|0.6564702|    139|   1551|     31|    279|\n",
      "|          10|       10||0.8595000|0.4521531|0.7842324|0.5735964|0.7096417|    189|   1530|     52|    229|\n",
      "|          10|       15||0.8545000|0.4880383|0.7259786|0.5836910|0.7196829|    204|   1505|     77|    214|\n",
      "|          10|       20||0.8490000|0.4306220|0.7377049|0.5438066|0.6950834|    180|   1518|     64|    238|\n",
      "|          10|       25||0.8535000|0.4401914|0.7572016|0.5567322|0.7014484|    184|   1523|     59|    234|\n",
      "\n",
      "|          15|        5||0.8440000|0.3301435|0.8117647|0.4693878|0.6549580|    138|   1550|     32|    280|\n",
      "|          15|       10||0.8605000|0.4641148|0.7791165|0.5817091|0.7146744|    194|   1527|     55|    224|\n",
      "|          15|       15||0.8555000|0.4832536|0.7345455|0.5829726|0.7185547|    202|   1509|     73|    216|\n",
      "|          15|       20||0.8470000|0.4665072|0.7014388|0.5603448|0.7070210|    195|   1499|     83|    223|\n",
      "|          15|       25||0.8560000|0.4808612|0.7389706|0.5826087|0.7179907|    201|   1511|     71|    217|\n",
      "\n",
      "|          20|        5||0.8535000|0.3564593|0.8612717|0.5042301|0.6706443|    149|   1558|     24|    269|\n",
      "|          20|       10||0.8610000|0.4569378|0.7892562|0.5787879|0.7123501|    191|   1531|     51|    227|\n",
      "|          20|       15||0.8580000|0.4736842|0.7557252|0.5823529|0.7166145|    198|   1518|     64|    220|\n",
      "|          20|       20||0.8545000|0.4521531|0.7529880|0.5650224|0.7064811|    189|   1520|     62|    229|\n",
      "|          20|       25||0.8595000|0.4736842|0.7644788|0.5849335|0.7175627|    198|   1521|     61|    220|\n",
      "\n",
      "|          25|        5||0.8480000|0.3468900|0.8238636|0.4882155|0.6636473|    145|   1551|     31|    273|\n",
      "|          25|       10||0.8610000|0.4593301|0.7868852|0.5800604|0.7132302|    192|   1530|     52|    226|\n",
      "|          25|       15||0.8570000|0.4688995|0.7538462|0.5781711|0.7142222|    196|   1518|     64|    222|\n",
      "|          25|       20||0.8520000|0.4641148|0.7293233|0.5672515|0.7093014|    194|   1510|     72|    224|\n",
      "|          25|       25||0.8580000|0.4784689|0.7518797|0.5847953|0.7183748|    200|   1516|     66|    218|\n",
      "\n"
     ]
    }
   ],
   "source": [
    "# исследуем случайный лес\n",
    "\n",
    "def check_random_forest(features_train, target_train, class_weight, train_type):\n",
    "    print('Decision tree')\n",
    "    print('|{: >12}|{: >9}|'.format('n_estimators', 'max_depth'), end='')\n",
    "    print_full_scrore_info_title()\n",
    "    print()\n",
    "    \n",
    "    # будем сразу считать лучшую меру и параметры, чтобы не искать глазами\n",
    "    best_f1 = 0\n",
    "    best_max_depth = 0\n",
    "    best_n_estimators = 0\n",
    "    \n",
    "    for estim in range(5, 26, 5):\n",
    "        for max_depth in range(5, 26, 5):\n",
    "            model = RandomForestClassifier(n_estimators=estim, max_depth=max_depth, random_state=RANDOM_STATE, class_weight=class_weight)\n",
    "            model.fit(features_train, target_train)\n",
    "            predicted_valid = model.predict(features_valid)\n",
    "            print('|{: >12}|{: >9}|'.format(estim, max_depth), end='')\n",
    "            print_full_score_info(target_valid, predicted_valid)\n",
    "            \n",
    "            f1 = f1_score(target_valid, predicted_valid)\n",
    "            if (f1 > best_f1):\n",
    "                best_f1 = f1\n",
    "                best_max_depth = max_depth\n",
    "                best_n_estimators = estim\n",
    "        \n",
    "        print() # для разделения вывода по количеству деревьев\n",
    "    \n",
    "    # воспользуемся тем, что питон будет искать наш словарь глобально\n",
    "    best_results['random_forest'][train_type] = dict()\n",
    "    best_results['random_forest'][train_type]['params'] = 'estim=' + str(best_n_estimators) + '; max_depth=' + str(best_max_depth)\n",
    "    best_results['random_forest'][train_type]['f1'] = best_f1\n",
    "        \n",
    "check_random_forest(features_train, target_train, None, 'default')"
   ]
  },
  {
   "cell_type": "markdown",
   "metadata": {},
   "source": [
    "### Промежуточный вывод\n",
    "\n",
    "    1. В текущем виде нам никак не удастся достигнуть F1-меры выше 0,59\n",
    "    2. Все модели неплохо предсказывают негативные исходы, но ошибаются в половине или более случаев при предсказывании положительного исхода \n",
    "    3. Лучший результат по F1 мере показал случайный лес\n",
    "    4. В целом результат случайного леса сопоставим с деревом решений - имеем относительно высокую точность при полноте ниже среднего\n",
    "    5. Худший результат показала регрессия, результат не был ни точным, ни полным.\n",
    "    6. При этом да, accuracy во всех случаях выглядит очень аппетитно и... бесполезно"
   ]
  },
  {
   "cell_type": "markdown",
   "metadata": {},
   "source": [
    "<div class=\"alert alert-success\">\n",
    "<h2> Комментарий ревьюера</h2>\n",
    "\n",
    "Хорошо, что используем вложенные циклы для перебора гиперпараметров. \n",
    "    \n",
    "---\n",
    "\n",
    "Кстати для автоматического перебора параметров мы можем использовать готовый метод `GreadSearchCV` в библиотеке `sklearn`. \n",
    "    \n",
    "---\n",
    "    \n",
    "Для случайного леса я бы рекомедновал взять количество деревьев до 100 (включительно) это приемлемый гиперпараметр для этой модели. \n",
    "\n",
    "</div>"
   ]
  },
  {
   "cell_type": "markdown",
   "metadata": {},
   "source": [
    "# 3. Борьба с дисбалансом"
   ]
  },
  {
   "cell_type": "markdown",
   "metadata": {},
   "source": [
    "### Взвешивание классов"
   ]
  },
  {
   "cell_type": "code",
   "execution_count": 17,
   "metadata": {},
   "outputs": [
    {
     "name": "stdout",
     "output_type": "stream",
     "text": [
      "Decision tree\n",
      "|max_depth| Accuracy|   Recall|Precision|       F1|  ROC-AUC|     TP|     TN|     FP|     FN|\n",
      "|        2|0.7650000|0.6626794|0.4570957|0.5410156|0.7273574|    277|   1253|    329|    141|\n",
      "|        3|0.7650000|0.6626794|0.4570957|0.5410156|0.7273574|    277|   1253|    329|    141|\n",
      "|        4|0.7110000|0.7727273|0.4007444|0.5277778|0.7337088|    323|   1099|    483|     95|\n",
      "|        5|0.8105000|0.6698565|0.5374280|0.5963791|0.7587588|    280|   1341|    241|    138|\n",
      "|        6|0.7665000|0.7057416|0.4616588|0.5581835|0.7441477|    295|   1238|    344|    123|\n",
      "|        7|0.7780000|0.6650718|0.4776632|0.5560000|0.7364550|    278|   1278|    304|    140|\n",
      "|        8|0.7640000|0.6602871|0.4554455|0.5390625|0.7258452|    276|   1252|    330|    142|\n",
      "|        9|0.7610000|0.6459330|0.4500000|0.5304519|0.7186682|    270|   1252|    330|    148|\n",
      "|       10|0.7500000|0.6363636|0.4332248|0.5155039|0.7081945|    266|   1234|    348|    152|\n"
     ]
    }
   ],
   "source": [
    "# Для начала проверим чего мы сможем добиться путем простого взвешивания классов\n",
    "# Начнем с дерева решений\n",
    "\n",
    "check_decision_tree(features_train, target_train, 'balanced', 'balanced')"
   ]
  },
  {
   "cell_type": "markdown",
   "metadata": {},
   "source": [
    "**Из любопытного**\n",
    "\n",
    "    - Нет просадки на уровне 3, что была до этого\n",
    "    - Лучший F1 получили на 5м уровне (0.5963791) и уже удалось перейти порог\n",
    "    - Мы улучшили F1, модель стала получше искать положительные ответы и нам даже удалось добиться порогового значения"
   ]
  },
  {
   "cell_type": "code",
   "execution_count": 18,
   "metadata": {
    "scrolled": true
   },
   "outputs": [
    {
     "name": "stdout",
     "output_type": "stream",
     "text": [
      "Logistic regression\n",
      "| Accuracy|   Recall|Precision|       F1|  ROC-AUC|     TP|     TN|     FP|     FN|\n",
      "|0.7010000|0.6842105|0.3803191|0.4888889|0.6948233|    286|   1116|    466|    132|\n"
     ]
    }
   ],
   "source": [
    "# Посмотрим, как дела с логистической регрессией\n",
    "\n",
    "check_logistic_regression(features_train, target_train, 'balanced', 'balanced')"
   ]
  },
  {
   "cell_type": "markdown",
   "metadata": {},
   "source": [
    "**Из любопытного**\n",
    "\n",
    "    - Ощутимо улучшилась полнота, но также ощутимо упала точность\n",
    "    - F1 по прежнему имеет плохой результат и далеко от целевого признака"
   ]
  },
  {
   "cell_type": "code",
   "execution_count": 19,
   "metadata": {},
   "outputs": [
    {
     "name": "stdout",
     "output_type": "stream",
     "text": [
      "Decision tree\n",
      "|n_estimators|max_depth|| Accuracy|   Recall|Precision|       F1|  ROC-AUC|     TP|     TN|     FP|     FN|\n",
      "\n",
      "|           5|        5||0.7665000|0.7368421|0.4631579|0.5687904|0.7555892|    308|   1225|    357|    110|\n",
      "|           5|       10||0.8265000|0.6435407|0.5760171|0.6079096|0.7591913|    269|   1384|    198|    149|\n",
      "|           5|       15||0.8345000|0.5000000|0.6314199|0.5580774|0.7114412|    209|   1460|    122|    209|\n",
      "|           5|       20||0.8380000|0.4641148|0.6598639|0.5449438|0.7004519|    194|   1482|    100|    224|\n",
      "|           5|       25||0.8410000|0.4521531|0.6798561|0.5431034|0.6979476|    189|   1493|     89|    229|\n",
      "\n",
      "|          10|        5||0.7965000|0.7248804|0.5092437|0.5982231|0.7701519|    303|   1290|    292|    115|\n",
      "|          10|       10||0.8305000|0.6291866|0.5883669|0.6080925|0.7564391|    263|   1398|    184|    155|\n",
      "|          10|       15||0.8500000|0.4808612|0.7077465|0.5726496|0.7141980|    201|   1499|     83|    217|\n",
      "|          10|       20||0.8490000|0.4186603|0.7478632|0.5368098|0.6906829|    175|   1523|     59|    243|\n",
      "|          10|       25||0.8495000|0.4090909|0.7600000|0.5318818|0.6874785|    171|   1528|     54|    247|\n",
      "\n",
      "|          15|        5||0.7950000|0.7248804|0.5066890|0.5964567|0.7692038|    303|   1287|    295|    115|\n",
      "|          15|       10||0.8300000|0.6172249|0.5890411|0.6028037|0.7517224|    258|   1402|    180|    160|\n",
      "|          15|       15||0.8545000|0.5023923|0.7167235|0.5907173|0.7249636|    210|   1499|     83|    208|\n",
      "|          15|       20||0.8525000|0.4521531|0.7411765|0.5616642|0.7052169|    189|   1516|     66|    229|\n",
      "|          15|       25||0.8530000|0.4617225|0.7366412|0.5676471|0.7090534|    193|   1513|     69|    225|\n",
      "\n",
      "|          20|        5||0.8035000|0.7272727|0.5214408|0.6073926|0.7754568|    304|   1303|    279|    114|\n",
      "|          20|       10||0.8350000|0.6244019|0.6013825|0.6126761|0.7575233|    261|   1409|    173|    157|\n",
      "|          20|       15||0.8595000|0.5000000|0.7437722|0.5979971|0.7272440|    209|   1510|     72|    209|\n",
      "|          20|       20||0.8545000|0.4210526|0.7822222|0.5474339|0.6950396|    176|   1533|     49|    242|\n",
      "|          20|       25||0.8585000|0.4354067|0.7947598|0.5625966|0.7028487|    182|   1535|     47|    236|\n",
      "\n",
      "|          25|        5||0.7995000|0.7224880|0.5144804|0.6009950|0.7711682|    302|   1297|    285|    116|\n",
      "|          25|       10||0.8335000|0.6196172|0.5981524|0.6086957|0.7548149|    259|   1408|    174|    159|\n",
      "|          25|       15||0.8545000|0.4880383|0.7259786|0.5836910|0.7196829|    204|   1505|     77|    214|\n",
      "|          25|       20||0.8555000|0.4497608|0.7611336|0.5654135|0.7062331|    188|   1523|     59|    230|\n",
      "|          25|       25||0.8550000|0.4449761|0.7622951|0.5619335|0.7041568|    186|   1524|     58|    232|\n",
      "\n"
     ]
    }
   ],
   "source": [
    "# Смотрим, как дела обстоят со случайным лесом\n",
    "\n",
    "check_random_forest(features_train, target_train, 'balanced', 'balanced')"
   ]
  },
  {
   "cell_type": "markdown",
   "metadata": {},
   "source": [
    "### Промежуточный вывод по взвешиванию классов\n",
    "\n",
    "    1. Имеем хорошую точность, но посредственную полноту (за редким исключением)\n",
    "    2. Также добились нужного значения F1 меры, при чем, как в дереве решений, так и в случайном лесе. Лес победил\n",
    "    2. Что интересно, увеличение глубины деревьев повышает точность, но снижает полноту\n",
    "    3. В целом сравнительный результат моделей с взвешиванием и без него неизменился - логистическая регрессия также на последнем месте, дерево решений показывает относительно неплохой, но недостаточный результат."
   ]
  },
  {
   "cell_type": "markdown",
   "metadata": {},
   "source": [
    "<div class=\"alert alert-success\">\n",
    "<h2> Комментарий ревьюера</h2>\n",
    "\n",
    "Отлично, случайный лес победил в схватке моделей.     \n",
    "</div>"
   ]
  },
  {
   "cell_type": "markdown",
   "metadata": {},
   "source": [
    "### Upsampling"
   ]
  },
  {
   "cell_type": "code",
   "execution_count": 20,
   "metadata": {
    "scrolled": true
   },
   "outputs": [
    {
     "data": {
      "text/plain": [
       "0.25580811252040686"
      ]
     },
     "execution_count": 20,
     "metadata": {},
     "output_type": "execute_result"
    }
   ],
   "source": [
    "# Не будем останавливаться на достигнутом, попробуем upsampling\n",
    "\n",
    "# поскольку модели лучше учатся при соотношении 50 на 50, для начала вычислим коэффицент\n",
    "# насколько больше у нас отрицательных значений\n",
    "\n",
    "coef = target[target == 1].count() / target[target == 0].count()\n",
    "coef"
   ]
  },
  {
   "cell_type": "markdown",
   "metadata": {},
   "source": [
    "<div class=\"alert alert-success\">\n",
    "<h2> Комментарий ревьюера</h2>\n",
    "\n",
    "Логичный способ, здорово что посчитали долю положительного класса.     \n",
    "</div>"
   ]
  },
  {
   "cell_type": "code",
   "execution_count": 21,
   "metadata": {},
   "outputs": [],
   "source": [
    "# напишем функцию, которая будет увеличивать нашу выборку с учетом коэффицента\n",
    "\n",
    "def upsample(features, target, coef):\n",
    "    if (coef > 1):\n",
    "        print('Положительных значений больше чем отрицательных, увеличение не требуется')\n",
    "        print(coef)\n",
    "        return;\n",
    "    \n",
    "    features_zeros = features[target == 0]\n",
    "    features_ones = features[target == 1]\n",
    "    target_zeros = target[target == 0]\n",
    "    target_ones = target[target == 1]\n",
    "\n",
    "    repeat = round(1 / coef)\n",
    "    features_upsampled = pd.concat([features_zeros] + [features_ones] * repeat)\n",
    "    target_upsampled = pd.concat([target_zeros] + [target_ones] * repeat)\n",
    "    features_upsampled, target_upsampled = shuffle(features_upsampled, target_upsampled, random_state=RANDOM_STATE)\n",
    "    \n",
    "    return features_upsampled, target_upsampled\n",
    "\n",
    "features_upsampled, target_upsampled = upsample(features_train, target_train, coef)"
   ]
  },
  {
   "cell_type": "code",
   "execution_count": 22,
   "metadata": {},
   "outputs": [
    {
     "data": {
      "text/plain": [
       "0    4804\n",
       "1    4784\n",
       "Name: Exited, dtype: int64"
      ]
     },
     "execution_count": 22,
     "metadata": {},
     "output_type": "execute_result"
    }
   ],
   "source": [
    "# Проверим, что выборки поменялись\n",
    "target_upsampled.value_counts()"
   ]
  },
  {
   "cell_type": "code",
   "execution_count": 23,
   "metadata": {},
   "outputs": [
    {
     "name": "stdout",
     "output_type": "stream",
     "text": [
      "Decision tree\n",
      "|max_depth| Accuracy|   Recall|Precision|       F1|  ROC-AUC|     TP|     TN|     FP|     FN|\n",
      "|        2|0.7650000|0.6626794|0.4570957|0.5410156|0.7273574|    277|   1253|    329|    141|\n",
      "|        3|0.7650000|0.6626794|0.4570957|0.5410156|0.7273574|    277|   1253|    329|    141|\n",
      "|        4|0.7110000|0.7727273|0.4007444|0.5277778|0.7337088|    323|   1099|    483|     95|\n",
      "|        5|0.8105000|0.6698565|0.5374280|0.5963791|0.7587588|    280|   1341|    241|    138|\n",
      "|        6|0.7665000|0.7057416|0.4616588|0.5581835|0.7441477|    295|   1238|    344|    123|\n",
      "|        7|0.7790000|0.6650718|0.4793103|0.5571142|0.7370871|    278|   1280|    302|    140|\n",
      "|        8|0.7645000|0.6578947|0.4560531|0.5386876|0.7252811|    275|   1254|    328|    143|\n",
      "|        9|0.7610000|0.6459330|0.4500000|0.5304519|0.7186682|    270|   1252|    330|    148|\n",
      "|       10|0.7540000|0.6435407|0.4395425|0.5223301|0.7133633|    269|   1239|    343|    149|\n"
     ]
    }
   ],
   "source": [
    "# Проверим, что стало с деревом решений\n",
    "\n",
    "check_decision_tree(features_upsampled, target_upsampled, None, 'upsample')"
   ]
  },
  {
   "cell_type": "markdown",
   "metadata": {},
   "source": [
    "Удивительно, но мы получили почти те же результаты, что и при использовании `class_weight='balanced'`"
   ]
  },
  {
   "cell_type": "code",
   "execution_count": 24,
   "metadata": {},
   "outputs": [
    {
     "name": "stdout",
     "output_type": "stream",
     "text": [
      "Logistic regression\n",
      "| Accuracy|   Recall|Precision|       F1|  ROC-AUC|     TP|     TN|     FP|     FN|\n",
      "|0.7010000|0.6842105|0.3803191|0.4888889|0.6948233|    286|   1116|    466|    132|\n"
     ]
    }
   ],
   "source": [
    "# Проверим логистическую регрессию\n",
    "check_logistic_regression(features_upsampled, target_upsampled, None, 'upsample')"
   ]
  },
  {
   "cell_type": "markdown",
   "metadata": {},
   "source": [
    "    Тут очень похожая ситуация - результат получился немногим лучше использования `class_weight='balanced'`"
   ]
  },
  {
   "cell_type": "code",
   "execution_count": 25,
   "metadata": {},
   "outputs": [
    {
     "name": "stdout",
     "output_type": "stream",
     "text": [
      "Decision tree\n",
      "|n_estimators|max_depth|| Accuracy|   Recall|Precision|       F1|  ROC-AUC|     TP|     TN|     FP|     FN|\n",
      "\n",
      "|           5|        5||0.7890000|0.7224880|0.4967105|0.5886940|0.7645310|    302|   1276|    306|    116|\n",
      "|           5|       10||0.8000000|0.6770335|0.5164234|0.5859213|0.7547620|    283|   1317|    265|    135|\n",
      "|           5|       15||0.8210000|0.6052632|0.5672646|0.5856481|0.7416328|    253|   1389|    193|    165|\n",
      "|           5|       20||0.8200000|0.5574163|0.5710784|0.5641646|0.7233984|    233|   1407|    175|    185|\n",
      "|           5|       25||0.8235000|0.5550239|0.5814536|0.5679315|0.7247307|    232|   1415|    167|    186|\n",
      "\n",
      "|          10|        5||0.7965000|0.7392344|0.5090610|0.6029268|0.7754326|    309|   1284|    298|    109|\n",
      "|          10|       10||0.8130000|0.6650718|0.5429688|0.5978495|0.7585789|    278|   1348|    234|    140|\n",
      "|          10|       15||0.8370000|0.5669856|0.6204188|0.5925000|0.7376648|    237|   1437|    145|    181|\n",
      "|          10|       20||0.8475000|0.5215311|0.6749226|0.5883941|0.7275797|    218|   1477|    105|    200|\n",
      "|          10|       25||0.8455000|0.5071770|0.6730159|0.5784447|0.7210348|    212|   1479|    103|    206|\n",
      "\n",
      "|          15|        5||0.7880000|0.7416268|0.4952077|0.5938697|0.7709398|    310|   1266|    316|    108|\n",
      "|          15|       10||0.8155000|0.6650718|0.5483235|0.6010811|0.7601591|    278|   1353|    229|    140|\n",
      "|          15|       15||0.8410000|0.5837321|0.6288660|0.6054591|0.7463540|    244|   1438|    144|    174|\n",
      "|          15|       20||0.8430000|0.5502392|0.6460674|0.5943152|0.7352966|    230|   1456|    126|    188|\n",
      "|          15|       25||0.8485000|0.5526316|0.6657061|0.6039216|0.7396533|    231|   1466|    116|    187|\n",
      "\n",
      "|          20|        5||0.8045000|0.7272727|0.5232358|0.6086086|0.7760890|    304|   1305|    277|    114|\n",
      "|          20|       10||0.8240000|0.6650718|0.5673469|0.6123348|0.7655321|    278|   1370|    212|    140|\n",
      "|          20|       15||0.8465000|0.5693780|0.6520548|0.6079183|0.7445499|    238|   1455|    127|    180|\n",
      "|          20|       20||0.8465000|0.5334928|0.6656716|0.5922975|0.7313482|    223|   1470|    112|    195|\n",
      "|          20|       25||0.8510000|0.5239234|0.6886792|0.5951087|0.7306722|    219|   1483|     99|    199|\n",
      "\n",
      "|          25|        5||0.8020000|0.7368421|0.5185185|0.6086957|0.7780291|    308|   1296|    286|    110|\n",
      "|          25|       10||0.8225000|0.6650718|0.5638945|0.6103183|0.7645839|    278|   1367|    215|    140|\n",
      "|          25|       15||0.8450000|0.5789474|0.6436170|0.6095718|0.7471222|    242|   1448|    134|    176|\n",
      "|          25|       20||0.8460000|0.5454545|0.6589595|0.5968586|0.7354327|    228|   1464|    118|    190|\n",
      "|          25|       25||0.8450000|0.5406699|0.6569767|0.5931759|0.7330404|    226|   1464|    118|    192|\n",
      "\n"
     ]
    }
   ],
   "source": [
    "# Проверим случайный лес\n",
    "\n",
    "check_random_forest(features_upsampled, target_upsampled, None, 'upsample')"
   ]
  },
  {
   "cell_type": "markdown",
   "metadata": {},
   "source": [
    "    А вот для случайного леса результат удалось неплохо улучшить"
   ]
  },
  {
   "cell_type": "markdown",
   "metadata": {},
   "source": [
    "#### Промежуточный вывод\n",
    "\n",
    "    Применение апсемплинга не сказалось существенно на результате работы Дерева решений и логистической регресии.\n",
    "    А вот для случайного леса эффект можно считать ощутимым - на этот раз снизилась точность, но мы имеем весьма неплохое значение полноты.\n",
    "    При чем, если исходить из задачи - полнота для нас является более важным признаком."
   ]
  },
  {
   "cell_type": "markdown",
   "metadata": {},
   "source": [
    "### Downsampling"
   ]
  },
  {
   "cell_type": "code",
   "execution_count": 26,
   "metadata": {},
   "outputs": [
    {
     "data": {
      "text/plain": [
       "0    1229\n",
       "1    1196\n",
       "Name: Exited, dtype: int64"
      ]
     },
     "execution_count": 26,
     "metadata": {},
     "output_type": "execute_result"
    }
   ],
   "source": [
    "# Попробуем downsampling\n",
    "\n",
    "def downsample(features, target, coef):\n",
    "    fraction = coef;\n",
    "    \n",
    "    features_zeros = features[target == 0]\n",
    "    features_ones = features[target == 1]\n",
    "    target_zeros = target[target == 0]\n",
    "    target_ones = target[target == 1]\n",
    "    \n",
    "    features_downsampled = pd.concat(\n",
    "        [features_zeros.sample(frac=fraction, random_state=RANDOM_STATE)] + [features_ones])\n",
    "    target_downsampled = pd.concat(\n",
    "        [target_zeros.sample(frac=fraction, random_state=RANDOM_STATE)] + [target_ones])\n",
    "    \n",
    "    features_downsampled, target_downsampled = shuffle(features_downsampled, target_downsampled, random_state=RANDOM_STATE)\n",
    "    \n",
    "    return features_downsampled, target_downsampled\n",
    "\n",
    "features_downsampled, target_downsampled = downsample(features_train, target_train, coef)\n",
    "\n",
    "# проверим, что выборки примерно совпадают\n",
    "target_downsampled.value_counts()"
   ]
  },
  {
   "cell_type": "code",
   "execution_count": 27,
   "metadata": {},
   "outputs": [
    {
     "name": "stdout",
     "output_type": "stream",
     "text": [
      "Decision tree\n",
      "|max_depth| Accuracy|   Recall|Precision|       F1|  ROC-AUC|     TP|     TN|     FP|     FN|\n",
      "|        2|0.7490000|0.7033493|0.4375000|0.5394495|0.7322056|    294|   1204|    378|    124|\n",
      "|        3|0.7680000|0.6937799|0.4632588|0.5555556|0.7406953|    290|   1246|    336|    128|\n",
      "|        4|0.7205000|0.7727273|0.4104193|0.5360996|0.7397138|    323|   1118|    464|     95|\n",
      "|        5|0.7735000|0.7272727|0.4727838|0.5730443|0.7564935|    304|   1243|    339|    114|\n",
      "|        6|0.7550000|0.7894737|0.4508197|0.5739130|0.7676825|    330|   1180|    402|     88|\n",
      "|        7|0.7435000|0.7248804|0.4322397|0.5415550|0.7366501|    303|   1184|    398|    115|\n",
      "|        8|0.7490000|0.6937799|0.4367470|0.5360444|0.7286851|    290|   1208|    374|    128|\n",
      "|        9|0.7475000|0.6913876|0.4345865|0.5337027|0.7268569|    289|   1206|    376|    129|\n",
      "|       10|0.7270000|0.7009569|0.4103641|0.5176678|0.7174191|    293|   1161|    421|    125|\n"
     ]
    }
   ],
   "source": [
    "# Проверим решающее дерево\n",
    "\n",
    "check_decision_tree(features_downsampled, target_downsampled, None, 'downsample')"
   ]
  },
  {
   "cell_type": "code",
   "execution_count": 28,
   "metadata": {},
   "outputs": [
    {
     "name": "stdout",
     "output_type": "stream",
     "text": [
      "Logistic regression\n",
      "| Accuracy|   Recall|Precision|       F1|  ROC-AUC|     TP|     TN|     FP|     FN|\n",
      "|0.7080000|0.6698565|0.3856749|0.4895105|0.6939674|    280|   1136|    446|    138|\n"
     ]
    }
   ],
   "source": [
    "# Проверим линейную регрессию\n",
    "\n",
    "check_logistic_regression(features_downsampled, target_downsampled, None, 'downsample')"
   ]
  },
  {
   "cell_type": "markdown",
   "metadata": {},
   "source": [
    "    - Логистическая регрессия по прежнему показывает худший результат"
   ]
  },
  {
   "cell_type": "code",
   "execution_count": 29,
   "metadata": {},
   "outputs": [
    {
     "name": "stdout",
     "output_type": "stream",
     "text": [
      "Decision tree\n",
      "|n_estimators|max_depth|| Accuracy|   Recall|Precision|       F1|  ROC-AUC|     TP|     TN|     FP|     FN|\n",
      "\n",
      "|           5|        5||0.7845000|0.7224880|0.4894652|0.5835749|0.7616865|    302|   1267|    315|    116|\n",
      "|           5|       10||0.7535000|0.7248804|0.4449339|0.5514104|0.7429712|    303|   1204|    378|    115|\n",
      "|           5|       15||0.7330000|0.7224880|0.4194444|0.5307557|0.7291328|    302|   1164|    418|    116|\n",
      "|           5|       20||0.7540000|0.7105263|0.4446108|0.5469613|0.7380065|    297|   1211|    371|    121|\n",
      "|           5|       25||0.7450000|0.6937799|0.4315476|0.5321101|0.7261567|    290|   1200|    382|    128|\n",
      "\n",
      "|          10|        5||0.7905000|0.7153110|0.4991653|0.5880039|0.7628388|    299|   1282|    300|    119|\n",
      "|          10|       10||0.7635000|0.7511962|0.4597365|0.5703906|0.7589736|    314|   1213|    369|    104|\n",
      "|          10|       15||0.7775000|0.7009569|0.4779772|0.5683802|0.7493407|    293|   1262|    320|    125|\n",
      "|          10|       20||0.7875000|0.6770335|0.4938918|0.5711403|0.7468606|    283|   1292|    290|    135|\n",
      "|          10|       25||0.7850000|0.6602871|0.4893617|0.5621181|0.7391195|    276|   1294|    288|    142|\n",
      "\n",
      "|          15|        5||0.7800000|0.7440191|0.4829193|0.5856874|0.7667630|    311|   1249|    333|    107|\n",
      "|          15|       10||0.7625000|0.7535885|0.4585153|0.5701357|0.7592216|    315|   1210|    372|    103|\n",
      "|          15|       15||0.7655000|0.7320574|0.4615385|0.5661425|0.7531968|    306|   1225|    357|    112|\n",
      "|          15|       20||0.7690000|0.7200957|0.4659443|0.5657895|0.7510087|    301|   1237|    345|    117|\n",
      "|          15|       25||0.7685000|0.7177033|0.4651163|0.5644403|0.7498125|    300|   1237|    345|    118|\n",
      "\n",
      "|          20|        5||0.7820000|0.7464115|0.4859813|0.5886792|0.7689074|    312|   1252|    330|    106|\n",
      "|          20|       10||0.7715000|0.7416268|0.4704097|0.5756732|0.7605100|    310|   1233|    349|    108|\n",
      "|          20|       15||0.7825000|0.7368421|0.4865719|0.5861085|0.7657030|    308|   1257|    325|    110|\n",
      "|          20|       20||0.7900000|0.7153110|0.4983333|0.5874263|0.7625228|    299|   1281|    301|    119|\n",
      "|          20|       25||0.7890000|0.7200957|0.4966997|0.5878906|0.7636509|    301|   1277|    305|    117|\n",
      "\n",
      "|          25|        5||0.7915000|0.7416268|0.5008078|0.5978785|0.7731522|    310|   1273|    309|    108|\n",
      "|          25|       10||0.7765000|0.7440191|0.4777266|0.5818522|0.7645507|    311|   1242|    340|    107|\n",
      "|          25|       15||0.7820000|0.7440191|0.4859375|0.5879017|0.7680273|    311|   1253|    329|    107|\n",
      "|          25|       20||0.7765000|0.7272727|0.4772370|0.5763033|0.7583898|    304|   1249|    333|    114|\n",
      "|          25|       25||0.7785000|0.7320574|0.4803768|0.5800948|0.7614143|    306|   1251|    331|    112|\n",
      "\n"
     ]
    }
   ],
   "source": [
    "# Проверим случайный лес\n",
    "\n",
    "check_random_forest(features_downsampled, target_downsampled, None, 'downsample')"
   ]
  },
  {
   "cell_type": "markdown",
   "metadata": {},
   "source": [
    "    Для случайного леса upsampling оказался гораздо лучше, хотя в рамках самой группы (среди всех моделей где применялся downsample), случайный лес по прежнему лидирует"
   ]
  },
  {
   "cell_type": "markdown",
   "metadata": {},
   "source": [
    "### Промежуточный вывод\n",
    "\n",
    "- Можно было бы много написать, но результат однозначен. Результаты downsampling'а и upsampling'a вполне сопоставимы, но upsampling показал лучшие результаты.\n",
    "- Хотя именно для дерева решений downsample оказал лучшее влияние"
   ]
  },
  {
   "cell_type": "markdown",
   "metadata": {},
   "source": [
    "### Upsampling + Downsampling\n",
    "\n",
    "    Не сдадимся и попробуем применить комбинированную модель, смысл которой будет в том, чтобы уменьшить в два раза количество нулевых значений и увеличить в два раза количество положительных значений.\n",
    "    Для наших данных подходит именно эта пропорция, т.к. это эксперимент, писать общую функцию через коэффиценты пока не будем."
   ]
  },
  {
   "cell_type": "markdown",
   "metadata": {},
   "source": [
    "<div class=\"alert alert-success\">\n",
    "<h2> Комментарий ревьюера</h2>\n",
    "\n",
    "Интересный способ.     \n",
    "</div>"
   ]
  },
  {
   "cell_type": "code",
   "execution_count": 30,
   "metadata": {},
   "outputs": [
    {
     "data": {
      "text/plain": [
       "0    2402\n",
       "1    2392\n",
       "Name: Exited, dtype: int64"
      ]
     },
     "execution_count": 30,
     "metadata": {},
     "output_type": "execute_result"
    }
   ],
   "source": [
    "# напишем функцию, которая увеличит положительную выборку и уменьшит отрицательную, как нам нужно\n",
    "\n",
    "def upsample_and_downsample_combine(features, target):\n",
    "    features_zeros = features[target == 0]\n",
    "    features_ones = features[target == 1]\n",
    "    target_zeros = target[target == 0]\n",
    "    target_ones = target[target == 1]\n",
    "\n",
    "    repeat = round(1 / coef)\n",
    "    features_combined = pd.concat([features_zeros.sample(frac=0.5, random_state=RANDOM_STATE)] + [features_ones] * 2)\n",
    "    target_combined = pd.concat([target_zeros.sample(frac=0.5, random_state=RANDOM_STATE)] + [target_ones] * 2)\n",
    "    \n",
    "    features_combined, target_combined = shuffle(features_combined, target_combined, random_state=RANDOM_STATE)\n",
    "    \n",
    "    return features_combined, target_combined\n",
    "\n",
    "features_combined, target_combined = upsample_and_downsample_combine(features_train, target_train)\n",
    "\n",
    "# проверим, что данные сопоставимы\n",
    "target_combined.value_counts()"
   ]
  },
  {
   "cell_type": "code",
   "execution_count": 31,
   "metadata": {},
   "outputs": [
    {
     "name": "stdout",
     "output_type": "stream",
     "text": [
      "Decision tree\n",
      "|max_depth| Accuracy|   Recall|Precision|       F1|  ROC-AUC|     TP|     TN|     FP|     FN|\n",
      "|        2|0.7650000|0.6626794|0.4570957|0.5410156|0.7273574|    277|   1253|    329|    141|\n",
      "|        3|0.7840000|0.6531100|0.4875000|0.5582822|0.7358471|    273|   1295|    287|    145|\n",
      "|        4|0.6810000|0.8038278|0.3766816|0.5129771|0.7261869|    336|   1026|    556|     82|\n",
      "|        5|0.7385000|0.7129187|0.4251070|0.5326184|0.7290889|    298|   1179|    403|    120|\n",
      "|        6|0.7880000|0.6985646|0.4949153|0.5793651|0.7550977|    292|   1284|    298|    126|\n",
      "|        7|0.7670000|0.6866029|0.4614148|0.5519231|0.7374228|    287|   1247|    335|    131|\n",
      "|        8|0.7490000|0.7081340|0.4378698|0.5411335|0.7339658|    296|   1202|    380|    122|\n",
      "|        9|0.7305000|0.7105263|0.4153846|0.5242718|0.7231519|    297|   1164|    418|    121|\n",
      "|       10|0.7420000|0.6770335|0.4262048|0.5231054|0.7180996|    283|   1201|    381|    135|\n"
     ]
    }
   ],
   "source": [
    "# проверим дерево решений\n",
    "check_decision_tree(features_combined, target_combined, None, 'combined')"
   ]
  },
  {
   "cell_type": "code",
   "execution_count": 32,
   "metadata": {},
   "outputs": [
    {
     "name": "stdout",
     "output_type": "stream",
     "text": [
      "Logistic regression\n",
      "| Accuracy|   Recall|Precision|       F1|  ROC-AUC|     TP|     TN|     FP|     FN|\n",
      "|0.7015000|0.6842105|0.3808256|0.4893071|0.6951394|    286|   1117|    465|    132|\n"
     ]
    }
   ],
   "source": [
    "# Проверим логистическую регрессию\n",
    "check_logistic_regression(features_combined, target_combined, None, 'combined')"
   ]
  },
  {
   "cell_type": "code",
   "execution_count": 33,
   "metadata": {},
   "outputs": [
    {
     "name": "stdout",
     "output_type": "stream",
     "text": [
      "Decision tree\n",
      "|n_estimators|max_depth|| Accuracy|   Recall|Precision|       F1|  ROC-AUC|     TP|     TN|     FP|     FN|\n",
      "\n",
      "|           5|        5||0.7735000|0.7272727|0.4727838|0.5730443|0.7564935|    304|   1243|    339|    114|\n",
      "|           5|       10||0.7905000|0.6698565|0.4991087|0.5720123|0.7461166|    280|   1301|    281|    138|\n",
      "|           5|       15||0.7785000|0.6363636|0.4775583|0.5456410|0.7262096|    266|   1291|    291|    152|\n",
      "|           5|       20||0.7805000|0.6267943|0.4807339|0.5441329|0.7239534|    262|   1299|    283|    156|\n",
      "|           5|       25||0.7855000|0.6698565|0.4903678|0.5662285|0.7429560|    280|   1291|    291|    138|\n",
      "\n",
      "|          10|        5||0.7940000|0.7200957|0.5050336|0.5936884|0.7668114|    301|   1287|    295|    117|\n",
      "|          10|       10||0.7985000|0.6913876|0.5133215|0.5891947|0.7590945|    289|   1308|    274|    129|\n",
      "|          10|       15||0.7960000|0.6411483|0.5095057|0.5677966|0.7390318|    268|   1324|    258|    150|\n",
      "|          10|       20||0.8140000|0.6004785|0.5504386|0.5743707|0.7354478|    251|   1377|    205|    167|\n",
      "|          10|       25||0.8115000|0.6028708|0.5442765|0.5720772|0.7347477|    252|   1371|    211|    166|\n",
      "\n",
      "|          15|        5||0.7840000|0.7392344|0.4889241|0.5885714|0.7675313|    309|   1259|    323|    109|\n",
      "|          15|       10||0.8075000|0.7057416|0.5296230|0.6051282|0.7700642|    295|   1320|    262|    123|\n",
      "|          15|       15||0.8025000|0.6435407|0.5223301|0.5766345|0.7440207|    269|   1336|    246|    149|\n",
      "|          15|       20||0.8030000|0.6483254|0.5231660|0.5790598|0.7460969|    271|   1335|    247|    147|\n",
      "|          15|       25||0.8055000|0.6578947|0.5278311|0.5857295|0.7511977|    275|   1336|    246|    143|\n",
      "\n",
      "|          20|        5||0.7915000|0.7392344|0.5008104|0.5971014|0.7722721|    309|   1274|    308|    109|\n",
      "|          20|       10||0.8070000|0.7033493|0.5287770|0.6036961|0.7688681|    294|   1320|    262|    124|\n",
      "|          20|       15||0.8100000|0.6459330|0.5378486|0.5869565|0.7496416|    270|   1350|    232|    148|\n",
      "|          20|       20||0.8130000|0.6196172|0.5464135|0.5807175|0.7418567|    259|   1367|    215|    159|\n",
      "|          20|       25||0.8105000|0.6196172|0.5407098|0.5774805|0.7402764|    259|   1362|    220|    159|\n",
      "\n",
      "|          25|        5||0.7940000|0.7344498|0.5049342|0.5984405|0.7720921|    307|   1281|    301|    111|\n",
      "|          25|       10||0.8090000|0.7057416|0.5324910|0.6069959|0.7710124|    295|   1323|    259|    123|\n",
      "|          25|       15||0.8105000|0.6626794|0.5378641|0.5937835|0.7561185|    277|   1344|    238|    141|\n",
      "|          25|       20||0.8105000|0.6626794|0.5378641|0.5937835|0.7561185|    277|   1344|    238|    141|\n",
      "|          25|       25||0.8070000|0.6531100|0.5311284|0.5858369|0.7503856|    273|   1341|    241|    145|\n",
      "\n"
     ]
    }
   ],
   "source": [
    "# Проверим случайный лес\n",
    "check_random_forest(features_combined, target_combined, None, 'combined')"
   ]
  },
  {
   "cell_type": "markdown",
   "metadata": {},
   "source": [
    "### Промежуточный вывод\n",
    "\n",
    "    - Топ моделей по прежнему не меняется\n",
    "    - Комбинированный вариант внезапно лучше отразился на логистической регрессии\n",
    "    - Для дерева решений результат оказался чуть хуже как upsampling'a, так и downsampling'a\n",
    "    - А вот случайный лес показал неплохой результат, но до upsample не дотянул"
   ]
  },
  {
   "cell_type": "markdown",
   "metadata": {},
   "source": [
    "### Ремарка\n",
    "\n",
    "    Изменение порога классификации мы исследовать не будем, т.к. сама по себе F1 мера, к которой мы стремимся, подразумевает сбалансированное значение Recall + Precision. Однако мы помним, что в рамках нашей задачи лучше определить как можно больше потенциальных уходов, чтобы можно было их обработать. Поэтому на итоговой модели мы попробуем немного изменить значение"
   ]
  },
  {
   "cell_type": "code",
   "execution_count": 34,
   "metadata": {},
   "outputs": [
    {
     "name": "stdout",
     "output_type": "stream",
     "text": [
      "|          Model name|     Train type|                   Params|        F1|\n",
      "\n",
      "|       decision_tree|        default|              max_depth=9|   0.57865|\n",
      "|       decision_tree|       balanced|              max_depth=5|   0.59638|\n",
      "|       decision_tree|       upsample|              max_depth=5|   0.59638|\n",
      "|       decision_tree|     downsample|              max_depth=6|   0.57391|\n",
      "|       decision_tree|       combined|              max_depth=6|   0.57937|\n",
      "\n",
      "| logistic_regression|        default|                        -|   0.33390|\n",
      "| logistic_regression|       balanced|                        -|   0.48889|\n",
      "| logistic_regression|       upsample|                        -|   0.48889|\n",
      "| logistic_regression|     downsample|                        -|   0.48951|\n",
      "| logistic_regression|       combined|                        -|   0.48931|\n",
      "\n",
      "|       random_forest|        default|   estim=20; max_depth=25|   0.58493|\n",
      "|       random_forest|       balanced|   estim=20; max_depth=10|   0.61268|\n",
      "|       random_forest|       upsample|   estim=20; max_depth=10|   0.61233|\n",
      "|       random_forest|     downsample|    estim=25; max_depth=5|   0.59788|\n",
      "|       random_forest|       combined|   estim=25; max_depth=10|   0.60700|\n"
     ]
    }
   ],
   "source": [
    "# подведем итоги по полученным результатам\n",
    "\n",
    "print('|{: >20}|{: >15}|{: >25}|{: >10}|'.format('Model name', 'Train type', 'Params', 'F1'))\n",
    "for model_name in best_results:\n",
    "    print()\n",
    "    for train_type in best_results[model_name]:\n",
    "        print('|{: >20}|{: >15}|{: >25}|{: >10.5f}|'.format(\n",
    "            model_name, train_type, \n",
    "            best_results[model_name][train_type]['params'], best_results[model_name][train_type]['f1']))"
   ]
  },
  {
   "cell_type": "markdown",
   "metadata": {},
   "source": [
    "## Вывод\n",
    "\n",
    "    Мы попробовали разные подходы для решения проблемы дисбаланса и получили весьма любопытные результаты\n",
    "\n",
    "    1. Лучший результат среди всех моделей во всех случаях показывает случайный лес\n",
    "    2. Лучше всего на случайный лес влияют upsample и взвешивание классов\n",
    "    3. На логистическую регрессию также оказал наибольшее влияние именно комбинированный подход\n",
    "    4. Сама по себе логистическая регрессия по всех тестах показала худший результат\n",
    "    5. А вот дерево решений показало завидное постоянство - при плюс-минус одинаковой глубине результат всегда был примерно одинаковым для всех ситуаций.\n",
    "    \n",
    "    Лучшей моделью в нашем случае оказался случайный лес с взвешиванием классов, его и будем тестировать"
   ]
  },
  {
   "cell_type": "markdown",
   "metadata": {},
   "source": [
    "<div class=\"alert alert-success\">\n",
    "<h2> Комментарий ревьюера</h2>\n",
    "\n",
    "Хорошие, логичные и структурированные выводы.\n",
    "    \n",
    "Давай же теперь протестируем нашу модель. \n",
    "</div>"
   ]
  },
  {
   "cell_type": "markdown",
   "metadata": {},
   "source": [
    "# 4. Тестирование модели"
   ]
  },
  {
   "cell_type": "code",
   "execution_count": 35,
   "metadata": {},
   "outputs": [
    {
     "name": "stdout",
     "output_type": "stream",
     "text": [
      "| Accuracy|   Recall|Precision|       F1|  ROC-AUC|     TP|     TN|     FP|     FN|\n",
      "|0.8325000|0.5957447|0.6057692|0.6007151|0.7458749|    252|   1413|    164|    171|\n"
     ]
    }
   ],
   "source": [
    "model = RandomForestClassifier(n_estimators=20, max_depth=10, random_state=RANDOM_STATE, class_weight='balanced')\n",
    "model.fit(features_train, target_train)\n",
    "predicted_test = model.predict(features_test)\n",
    "print_full_scrore_info_title()\n",
    "print_full_score_info(target_test, predicted_test)"
   ]
  },
  {
   "cell_type": "code",
   "execution_count": 36,
   "metadata": {
    "scrolled": true
   },
   "outputs": [
    {
     "name": "stdout",
     "output_type": "stream",
     "text": [
      "0.1 - 0.4212136664966854 - 0.9763593380614657\n",
      "0.15 - 0.46304849884526567 - 0.9479905437352246\n",
      "0.2 - 0.4925854287556415 - 0.9030732860520094\n",
      "0.25 - 0.5255579553635709 - 0.8628841607565012\n",
      "0.3 - 0.5508406725380304 - 0.8132387706855791\n",
      "0.35 - 0.579372197309417 - 0.7635933806146572\n",
      "0.4 - 0.6059405940594058 - 0.723404255319149\n",
      "0.45 - 0.6 - 0.6524822695035462\n"
     ]
    }
   ],
   "source": [
    "# Хоть мы и добились неплохой полноты при хорошей точности, попробуем немного подкрутить полноту\n",
    "probabilities_test = model.predict_proba(features_test)\n",
    "probabilities_one_test = probabilities_test[:, 1]\n",
    "\n",
    "for threshold in np.arange(0.1, 0.5, 0.05):\n",
    "    predicted_test = probabilities_one_test > threshold\n",
    "    precision = precision_score(target_test, predicted_test)\n",
    "    recall = recall_score(target_test, predicted_test)\n",
    "    \n",
    "    print(str(round(threshold,2)) + ' - ' + str(f1_score(target_test, predicted_test)) + ' - ' + str(recall_score(target_test, predicted_test)))"
   ]
  },
  {
   "cell_type": "code",
   "execution_count": 37,
   "metadata": {},
   "outputs": [
    {
     "name": "stdout",
     "output_type": "stream",
     "text": [
      "| Accuracy|   Recall|Precision|       F1|  ROC-AUC|     TP|     TN|     FP|     FN|\n",
      "|0.8010000|0.7234043|0.5212947|0.6059406|0.7726089|    306|   1296|    281|    117|\n"
     ]
    }
   ],
   "source": [
    "# Посмотрим на параметры при пороге классификации 0.4\n",
    "predicted_test = probabilities_one_test > 0.4\n",
    "print_full_scrore_info_title()\n",
    "print_full_score_info(target_test, predicted_test)"
   ]
  },
  {
   "cell_type": "code",
   "execution_count": 39,
   "metadata": {},
   "outputs": [
    {
     "data": {
      "image/png": "[encoded data removed]",
      "text/plain": [
       "<Figure size 432x288 with 1 Axes>"
      ]
     },
     "metadata": {
      "needs_background": "light"
     },
     "output_type": "display_data"
    }
   ],
   "source": [
    "# Посмотрим на ROC кривую\n",
    "\n",
    "fpr, tpr, thresholds = roc_curve(target_test, predicted_test)\n",
    "\n",
    "plt.figure()\n",
    "plt.plot(fpr, tpr)\n",
    "plt.plot([0, 1], [0, 1], linestyle='--')\n",
    "plt.xlim([0.0, 1.0])\n",
    "plt.ylim([0.0, 1.0])\n",
    "plt.xlabel('False Positive Rate')\n",
    "plt.ylabel('True Positive Rate')\n",
    "plt.title('ROC-кривая')\n",
    "plt.show()"
   ]
  },
  {
   "cell_type": "markdown",
   "metadata": {},
   "source": [
    "<div class=\"alert alert-success\">\n",
    "<h2> Комментарий ревьюера</h2>\n",
    "\n",
    "Очень здорово, что построили кривую, ведь на графике метрика могла бы себя вести хуже чем сухой расчет.\n",
    "    \n",
    "Можно было бы разбавить график своими промежуточными выводами.\n",
    "    \n",
    "</div>"
   ]
  },
  {
   "cell_type": "markdown",
   "metadata": {},
   "source": [
    "# Общий вывод\n",
    "\n",
    "    1. Мы исследовали наши данные, отбросили лишние признаки и заполнили пропуски\n",
    "    2. Также были обработаны категориальные признаки и стандартизированы числовые\n",
    "    3. Мы исследовали различные модели на имеющемся наборе и столкнулись с проблемой дисбаланса, которая не позволила нам добиться необходимой полноты и точности\n",
    "    4. Для решения проблемы мы попробовали\n",
    "        - Выровнять вес классов\n",
    "        - Добавить данных положительного класса\n",
    "        - Убрать данные отрицательного класса\n",
    "        - Применить комбинированный подход\n",
    "    5. На основании нашего исследования мы выбрали и обучили лучшую модель. Это оказался случайный лес с количеством деревьев 20 и глубиной 10 при сбалансированном взвешивании классов.\n",
    "    6. Нам удалось достичь необходимой F1-меры, она составила - 0.6007151\n",
    "    7. Однако, дополнительно исследовав модель и изменив порог классификации, нам удалось добиться еще более впечатляющих результатов за счет увеличения полноты ценой снижения точности.\n",
    "    \n",
    "    Однако, мы помним, что нашей изначальной целью было именно своевременное прогнозирование оттока клиента и для данной задачи важна именно полнота, чтобы банк имел возможность предотвратить уход клиента, чтобы сэкономить деньги.\n",
    "    \n",
    "    В итоге, наша модель полностью отвечает как формальным, так и бизнес-требованиям."
   ]
  },
  {
   "cell_type": "markdown",
   "metadata": {},
   "source": [
    "<div class=\"alert alert-success\">\n",
    "<h2> Комментарий ревьюера</h2>\n",
    "\n",
    "Выводы понятны и логичны, а самое главное подкреплены выявленными фактами.\n",
    "       \n",
    "В целом сам проект выполнен на хорошем уровне! На протяжении всей работы чувствуется глубина проработки задачи и это безусловный плюс для нас. Было использовано большое количество методов, которые будут помогать тебе в дальнейших проектах.\n",
    "        \n",
    "Успехов тебе в новых проектах! \n",
    "    \n",
    "</div>"
   ]
  },
  {
   "cell_type": "markdown",
   "metadata": {},
   "source": [
    "# Чек-лист готовности проекта"
   ]
  },
  {
   "cell_type": "markdown",
   "metadata": {},
   "source": [
    "Поставьте 'x' в выполненных пунктах. Далее нажмите Shift+Enter."
   ]
  },
  {
   "cell_type": "markdown",
   "metadata": {},
   "source": [
    "- [x]  Jupyter Notebook открыт\n",
    "- [x]  Весь код выполняется без ошибок\n",
    "- [x]  Ячейки с кодом расположены в порядке исполнения\n",
    "- [x]  Выполнен шаг 1: данные подготовлены\n",
    "- [x]  Выполнен шаг 2: задача исследована\n",
    "    - [x]  Исследован баланс классов\n",
    "    - [x]  Изучены модели без учёта дисбаланса\n",
    "    - [x]  Написаны выводы по результатам исследования\n",
    "- [x]  Выполнен шаг 3: учтён дисбаланс\n",
    "    - [x]  Применено несколько способов борьбы с дисбалансом\n",
    "    - [x]  Написаны выводы по результатам исследования\n",
    "- [x]  Выполнен шаг 4: проведено тестирование\n",
    "- [x]  Удалось достичь *F1*-меры не менее 0.59\n",
    "- [x]  Исследована метрика *AUC-ROC*"
   ]
  },
  {
   "cell_type": "code",
   "execution_count": null,
   "metadata": {},
   "outputs": [],
   "source": []
  }
 ],
 "metadata": {
  "kernelspec": {
   "display_name": "Python 3",
   "language": "python",
   "name": "python3"
  },
  "language_info": {
   "codemirror_mode": {
    "name": "ipython",
    "version": 3
   },
   "file_extension": ".py",
   "mimetype": "text/x-python",
   "name": "python",
   "nbconvert_exporter": "python",
   "pygments_lexer": "ipython3",
   "version": "3.7.8"
  },
  "toc": {
   "base_numbering": 1,
   "nav_menu": {},
   "number_sections": true,
   "sideBar": true,
   "skip_h1_title": true,
   "title_cell": "Table of Contents",
   "title_sidebar": "Contents",
   "toc_cell": false,
   "toc_position": {},
   "toc_section_display": true,
   "toc_window_display": false
  }
 },
 "nbformat": 4,
 "nbformat_minor": 2
}
