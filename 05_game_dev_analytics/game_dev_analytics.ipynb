{
 "cells": [
  {
   "cell_type": "markdown",
   "metadata": {},
   "source": [
    "# Откроем файл с данными и изучим общую информацию"
   ]
  },
  {
   "cell_type": "code",
   "execution_count": 1,
   "metadata": {},
   "outputs": [
    {
     "name": "stdout",
     "output_type": "stream",
     "text": [
      "<class 'pandas.core.frame.DataFrame'>\n",
      "RangeIndex: 16715 entries, 0 to 16714\n",
      "Data columns (total 11 columns):\n",
      "Name               16713 non-null object\n",
      "Platform           16715 non-null object\n",
      "Year_of_Release    16446 non-null float64\n",
      "Genre              16713 non-null object\n",
      "NA_sales           16715 non-null float64\n",
      "EU_sales           16715 non-null float64\n",
      "JP_sales           16715 non-null float64\n",
      "Other_sales        16715 non-null float64\n",
      "Critic_Score       8137 non-null float64\n",
      "User_Score         10014 non-null object\n",
      "Rating             9949 non-null object\n",
      "dtypes: float64(6), object(5)\n",
      "memory usage: 1.4+ MB\n"
     ]
    }
   ],
   "source": [
    "import pandas as pd\n",
    "df = pd.read_csv('/datasets/games.csv')\n",
    "\n",
    "# посмотрим общую информацию\n",
    "df.info()"
   ]
  },
  {
   "cell_type": "code",
   "execution_count": 2,
   "metadata": {},
   "outputs": [
    {
     "data": {
      "text/html": [
       "<div>\n",
       "<style scoped>\n",
       "    .dataframe tbody tr th:only-of-type {\n",
       "        vertical-align: middle;\n",
       "    }\n",
       "\n",
       "    .dataframe tbody tr th {\n",
       "        vertical-align: top;\n",
       "    }\n",
       "\n",
       "    .dataframe thead th {\n",
       "        text-align: right;\n",
       "    }\n",
       "</style>\n",
       "<table border=\"1\" class=\"dataframe\">\n",
       "  <thead>\n",
       "    <tr style=\"text-align: right;\">\n",
       "      <th></th>\n",
       "      <th>Name</th>\n",
       "      <th>Platform</th>\n",
       "      <th>Year_of_Release</th>\n",
       "      <th>Genre</th>\n",
       "      <th>NA_sales</th>\n",
       "      <th>EU_sales</th>\n",
       "      <th>JP_sales</th>\n",
       "      <th>Other_sales</th>\n",
       "      <th>Critic_Score</th>\n",
       "      <th>User_Score</th>\n",
       "      <th>Rating</th>\n",
       "    </tr>\n",
       "  </thead>\n",
       "  <tbody>\n",
       "    <tr>\n",
       "      <td>0</td>\n",
       "      <td>Wii Sports</td>\n",
       "      <td>Wii</td>\n",
       "      <td>2006.0</td>\n",
       "      <td>Sports</td>\n",
       "      <td>41.36</td>\n",
       "      <td>28.96</td>\n",
       "      <td>3.77</td>\n",
       "      <td>8.45</td>\n",
       "      <td>76.0</td>\n",
       "      <td>8</td>\n",
       "      <td>E</td>\n",
       "    </tr>\n",
       "    <tr>\n",
       "      <td>1</td>\n",
       "      <td>Super Mario Bros.</td>\n",
       "      <td>NES</td>\n",
       "      <td>1985.0</td>\n",
       "      <td>Platform</td>\n",
       "      <td>29.08</td>\n",
       "      <td>3.58</td>\n",
       "      <td>6.81</td>\n",
       "      <td>0.77</td>\n",
       "      <td>NaN</td>\n",
       "      <td>NaN</td>\n",
       "      <td>NaN</td>\n",
       "    </tr>\n",
       "    <tr>\n",
       "      <td>2</td>\n",
       "      <td>Mario Kart Wii</td>\n",
       "      <td>Wii</td>\n",
       "      <td>2008.0</td>\n",
       "      <td>Racing</td>\n",
       "      <td>15.68</td>\n",
       "      <td>12.76</td>\n",
       "      <td>3.79</td>\n",
       "      <td>3.29</td>\n",
       "      <td>82.0</td>\n",
       "      <td>8.3</td>\n",
       "      <td>E</td>\n",
       "    </tr>\n",
       "    <tr>\n",
       "      <td>3</td>\n",
       "      <td>Wii Sports Resort</td>\n",
       "      <td>Wii</td>\n",
       "      <td>2009.0</td>\n",
       "      <td>Sports</td>\n",
       "      <td>15.61</td>\n",
       "      <td>10.93</td>\n",
       "      <td>3.28</td>\n",
       "      <td>2.95</td>\n",
       "      <td>80.0</td>\n",
       "      <td>8</td>\n",
       "      <td>E</td>\n",
       "    </tr>\n",
       "    <tr>\n",
       "      <td>4</td>\n",
       "      <td>Pokemon Red/Pokemon Blue</td>\n",
       "      <td>GB</td>\n",
       "      <td>1996.0</td>\n",
       "      <td>Role-Playing</td>\n",
       "      <td>11.27</td>\n",
       "      <td>8.89</td>\n",
       "      <td>10.22</td>\n",
       "      <td>1.00</td>\n",
       "      <td>NaN</td>\n",
       "      <td>NaN</td>\n",
       "      <td>NaN</td>\n",
       "    </tr>\n",
       "    <tr>\n",
       "      <td>...</td>\n",
       "      <td>...</td>\n",
       "      <td>...</td>\n",
       "      <td>...</td>\n",
       "      <td>...</td>\n",
       "      <td>...</td>\n",
       "      <td>...</td>\n",
       "      <td>...</td>\n",
       "      <td>...</td>\n",
       "      <td>...</td>\n",
       "      <td>...</td>\n",
       "      <td>...</td>\n",
       "    </tr>\n",
       "    <tr>\n",
       "      <td>16710</td>\n",
       "      <td>Samurai Warriors: Sanada Maru</td>\n",
       "      <td>PS3</td>\n",
       "      <td>2016.0</td>\n",
       "      <td>Action</td>\n",
       "      <td>0.00</td>\n",
       "      <td>0.00</td>\n",
       "      <td>0.01</td>\n",
       "      <td>0.00</td>\n",
       "      <td>NaN</td>\n",
       "      <td>NaN</td>\n",
       "      <td>NaN</td>\n",
       "    </tr>\n",
       "    <tr>\n",
       "      <td>16711</td>\n",
       "      <td>LMA Manager 2007</td>\n",
       "      <td>X360</td>\n",
       "      <td>2006.0</td>\n",
       "      <td>Sports</td>\n",
       "      <td>0.00</td>\n",
       "      <td>0.01</td>\n",
       "      <td>0.00</td>\n",
       "      <td>0.00</td>\n",
       "      <td>NaN</td>\n",
       "      <td>NaN</td>\n",
       "      <td>NaN</td>\n",
       "    </tr>\n",
       "    <tr>\n",
       "      <td>16712</td>\n",
       "      <td>Haitaka no Psychedelica</td>\n",
       "      <td>PSV</td>\n",
       "      <td>2016.0</td>\n",
       "      <td>Adventure</td>\n",
       "      <td>0.00</td>\n",
       "      <td>0.00</td>\n",
       "      <td>0.01</td>\n",
       "      <td>0.00</td>\n",
       "      <td>NaN</td>\n",
       "      <td>NaN</td>\n",
       "      <td>NaN</td>\n",
       "    </tr>\n",
       "    <tr>\n",
       "      <td>16713</td>\n",
       "      <td>Spirits &amp; Spells</td>\n",
       "      <td>GBA</td>\n",
       "      <td>2003.0</td>\n",
       "      <td>Platform</td>\n",
       "      <td>0.01</td>\n",
       "      <td>0.00</td>\n",
       "      <td>0.00</td>\n",
       "      <td>0.00</td>\n",
       "      <td>NaN</td>\n",
       "      <td>NaN</td>\n",
       "      <td>NaN</td>\n",
       "    </tr>\n",
       "    <tr>\n",
       "      <td>16714</td>\n",
       "      <td>Winning Post 8 2016</td>\n",
       "      <td>PSV</td>\n",
       "      <td>2016.0</td>\n",
       "      <td>Simulation</td>\n",
       "      <td>0.00</td>\n",
       "      <td>0.00</td>\n",
       "      <td>0.01</td>\n",
       "      <td>0.00</td>\n",
       "      <td>NaN</td>\n",
       "      <td>NaN</td>\n",
       "      <td>NaN</td>\n",
       "    </tr>\n",
       "  </tbody>\n",
       "</table>\n",
       "<p>16715 rows × 11 columns</p>\n",
       "</div>"
      ],
      "text/plain": [
       "                                Name Platform  Year_of_Release         Genre  \\\n",
       "0                         Wii Sports      Wii           2006.0        Sports   \n",
       "1                  Super Mario Bros.      NES           1985.0      Platform   \n",
       "2                     Mario Kart Wii      Wii           2008.0        Racing   \n",
       "3                  Wii Sports Resort      Wii           2009.0        Sports   \n",
       "4           Pokemon Red/Pokemon Blue       GB           1996.0  Role-Playing   \n",
       "...                              ...      ...              ...           ...   \n",
       "16710  Samurai Warriors: Sanada Maru      PS3           2016.0        Action   \n",
       "16711               LMA Manager 2007     X360           2006.0        Sports   \n",
       "16712        Haitaka no Psychedelica      PSV           2016.0     Adventure   \n",
       "16713               Spirits & Spells      GBA           2003.0      Platform   \n",
       "16714            Winning Post 8 2016      PSV           2016.0    Simulation   \n",
       "\n",
       "       NA_sales  EU_sales  JP_sales  Other_sales  Critic_Score User_Score  \\\n",
       "0         41.36     28.96      3.77         8.45          76.0          8   \n",
       "1         29.08      3.58      6.81         0.77           NaN        NaN   \n",
       "2         15.68     12.76      3.79         3.29          82.0        8.3   \n",
       "3         15.61     10.93      3.28         2.95          80.0          8   \n",
       "4         11.27      8.89     10.22         1.00           NaN        NaN   \n",
       "...         ...       ...       ...          ...           ...        ...   \n",
       "16710      0.00      0.00      0.01         0.00           NaN        NaN   \n",
       "16711      0.00      0.01      0.00         0.00           NaN        NaN   \n",
       "16712      0.00      0.00      0.01         0.00           NaN        NaN   \n",
       "16713      0.01      0.00      0.00         0.00           NaN        NaN   \n",
       "16714      0.00      0.00      0.01         0.00           NaN        NaN   \n",
       "\n",
       "      Rating  \n",
       "0          E  \n",
       "1        NaN  \n",
       "2          E  \n",
       "3          E  \n",
       "4        NaN  \n",
       "...      ...  \n",
       "16710    NaN  \n",
       "16711    NaN  \n",
       "16712    NaN  \n",
       "16713    NaN  \n",
       "16714    NaN  \n",
       "\n",
       "[16715 rows x 11 columns]"
      ]
     },
     "execution_count": 2,
     "metadata": {},
     "output_type": "execute_result"
    }
   ],
   "source": [
    "# Взглянем на данные\n",
    "df"
   ]
  },
  {
   "cell_type": "code",
   "execution_count": 3,
   "metadata": {},
   "outputs": [
    {
     "name": "stdout",
     "output_type": "stream",
     "text": [
      "Index(['Name', 'Platform', 'Year_of_Release', 'Genre', 'NA_sales', 'EU_sales',\n",
      "       'JP_sales', 'Other_sales', 'Critic_Score', 'User_Score', 'Rating'],\n",
      "      dtype='object')\n"
     ]
    }
   ],
   "source": [
    "# Посмотрим список колонок (наличие лишних пробелов и тд)\n",
    "print(df.columns)"
   ]
  },
  {
   "cell_type": "markdown",
   "metadata": {},
   "source": [
    "## Промежуточный вывод\n",
    "\n",
    "- С названиями столбцов какая-то вакханалия, нужно посмотреть есть ли лишние пробелы и привести все к одному регистру\n",
    "- Есть проблемы с типами\n",
    "   1. Year_of_Release (float -> int)\n",
    "   2. Critic_Score (float -> int) т.к. по данным не видно значений после нуля\n",
    "   3. User_Score (string -> float)\n",
    "- Возможно, понадобится выделение отдельных словарей для платформ, рейтинга, жанра\n",
    "   - Для каждой категории нужно не забыть привести все к одному регистру перед поиском дубликатов\n",
    "- Странное значение tbd в User_Score. Скорее всего оно означает to be done, т.е. можно считать, что в этих строках у нас нет данных пользовательского рейтинга\n",
    "- Есть игры с почти нулевыми продажами обратим на них отдельное внимание"
   ]
  },
  {
   "cell_type": "markdown",
   "metadata": {},
   "source": [
    "# Подготовим данные"
   ]
  },
  {
   "cell_type": "code",
   "execution_count": 4,
   "metadata": {},
   "outputs": [
    {
     "data": {
      "text/plain": [
       "Index(['name', 'platform', 'year_of_release', 'genre', 'na_sales', 'eu_sales',\n",
       "       'jp_sales', 'other_sales', 'critic_score', 'user_score', 'rating'],\n",
       "      dtype='object')"
      ]
     },
     "execution_count": 4,
     "metadata": {},
     "output_type": "execute_result"
    }
   ],
   "source": [
    "# названия столбцов в целом нормальные, отражают суть содержащихся данных и не содержат других аномалий,\n",
    "# кроме проблем с регистром, приведем их к одному виду\n",
    "df.columns = [column.lower() for column in df.columns]\n",
    "# проверим, что все ок\n",
    "df.columns"
   ]
  },
  {
   "cell_type": "code",
   "execution_count": 5,
   "metadata": {},
   "outputs": [
    {
     "data": {
      "text/plain": [
       "0"
      ]
     },
     "execution_count": 5,
     "metadata": {},
     "output_type": "execute_result"
    }
   ],
   "source": [
    "# Преобразуем данные в нужные типы\n",
    "\n",
    "# Год не может быть вещественным числом\n",
    "# Но т.к. есть null поля, мы нормально их не можем конвертировать\n",
    "# Удалять эти данные пока не хочется, т.к. они могут пригодится для анализа данных, которые не относятся\n",
    "# непосредственно к году, поэтому пока заполним их числом 0\n",
    "# Для анализа данных по году эти данные в дальнейшем учитывать не будем\n",
    "\n",
    "df['year_of_release'].fillna(0, inplace=True)\n",
    "df['year_of_release'] = df['year_of_release'].astype('int')\n",
    "\n",
    "# Перейдем к critic_score. Для начала убедимся, что нет значений отличных от нуля после запятой\n",
    "# Не использую цикл for, т.к. на одном из вебинаров говорилось, что это не ок, поэтому создадим отдельный столбец\n",
    "import math\n",
    "def get_mantissa(value):\n",
    "    if (math.isnan(value)):\n",
    "        return 0\n",
    "    \n",
    "    return int(value % 1)\n",
    "\n",
    "df['mantissa'] = df['critic_score'].apply(get_mantissa)\n",
    "len(df.query('mantissa != 0'))"
   ]
  },
  {
   "cell_type": "code",
   "execution_count": 6,
   "metadata": {},
   "outputs": [],
   "source": [
    "# т.к. дробной части у critic_score нет, удалим наш столбец\n",
    "del df['mantissa']"
   ]
  },
  {
   "cell_type": "markdown",
   "metadata": {},
   "source": [
    "## Ремарка\n",
    "\n",
    "Прежде чем привести тип к int нам необходимо заполнить пропуски. В ходе исследования данных хорошо заметно, что чем меньше год, тем больше пропусков. Скорее всего отсутствие рейтинга означает либо\n",
    "\n",
    "1. Игра слишком старая\n",
    "2. Игра непопулярна\n",
    "3. Игра еще не успела получить рейтинг в силу новизны\n",
    "4. Прочие причины (не выгрузили и тд)\n",
    "\n",
    "Это касается как рейтинга критиков, так и рейтинга пользователей.\n",
    "\n",
    "Однако, рейтинг вещь крайне субъективная. Несмотря на то, что мода, медиана и среднее находятся в районе 70, есть большая вероятность переоценить плохие игры. Т.к. игры с реальным рейтингом 70+ вряд ли бы остались незамеченными или неоцененными.\n",
    "\n",
    "**В связи с вышесказанным, мы поступим следующим образом.** \n",
    "\n",
    "1. Мы попробуем заполнить пропуски, но ориентируясь на медиану по двум параметрам - жанру и платформе, чтобы данные были более точными.\n",
    "2. Мы создадим дополнительный столбец, в котором будет указано, меняли мы данные или нет (чтобы в дальнейшем при анализе мы могли отобрать только исходные \"чистые\" данные, если обнаружим проблемы, да и просто, чтобы сравнить выборки)\n",
    "\n",
    "Однако, чтобы это сделать, сперва:\n",
    "1. Разберемся с пропусками в жанре\n",
    "2. Разберемся с пропусками в платформе\n",
    "3. Проверим глазами наличие дубликатов и приведем при необходимости все к одному регистру"
   ]
  },
  {
   "cell_type": "code",
   "execution_count": 7,
   "metadata": {},
   "outputs": [
    {
     "data": {
      "text/plain": [
       "array(['Wii', 'NES', 'GB', 'DS', 'X360', 'PS3', 'PS2', 'SNES', 'GBA',\n",
       "       'PS4', '3DS', 'N64', 'PS', 'XB', 'PC', '2600', 'PSP', 'XOne',\n",
       "       'WiiU', 'GC', 'GEN', 'DC', 'PSV', 'SAT', 'SCD', 'WS', 'NG', 'TG16',\n",
       "       '3DO', 'GG', 'PCFX'], dtype=object)"
      ]
     },
     "execution_count": 7,
     "metadata": {},
     "output_type": "execute_result"
    }
   ],
   "source": [
    "# Проверим дубликаты в платформе\n",
    "df['platform'].unique()"
   ]
  },
  {
   "cell_type": "code",
   "execution_count": 8,
   "metadata": {},
   "outputs": [
    {
     "data": {
      "text/plain": [
       "array(['Wii', 'NES', 'GB', 'DS', 'X360', 'PS3', 'PS2', 'SNES', 'GBA',\n",
       "       'PS4', '3DS', 'N64', 'PS', 'XB', 'PC', '2600', 'PSP', 'XOne',\n",
       "       'WiiU', 'GC', 'GEN', 'DC', 'PSV', 'SAT', 'SCD', 'WS', 'NG', 'TG16',\n",
       "       '3DO', 'GG', 'PCFX'], dtype=object)"
      ]
     },
     "execution_count": 8,
     "metadata": {},
     "output_type": "execute_result"
    }
   ],
   "source": [
    "# Проверим дубликаты в жанре\n",
    "df['platform'].unique()"
   ]
  },
  {
   "cell_type": "code",
   "execution_count": 9,
   "metadata": {},
   "outputs": [
    {
     "data": {
      "text/html": [
       "<div>\n",
       "<style scoped>\n",
       "    .dataframe tbody tr th:only-of-type {\n",
       "        vertical-align: middle;\n",
       "    }\n",
       "\n",
       "    .dataframe tbody tr th {\n",
       "        vertical-align: top;\n",
       "    }\n",
       "\n",
       "    .dataframe thead th {\n",
       "        text-align: right;\n",
       "    }\n",
       "</style>\n",
       "<table border=\"1\" class=\"dataframe\">\n",
       "  <thead>\n",
       "    <tr style=\"text-align: right;\">\n",
       "      <th></th>\n",
       "      <th>name</th>\n",
       "      <th>platform</th>\n",
       "      <th>year_of_release</th>\n",
       "      <th>genre</th>\n",
       "      <th>na_sales</th>\n",
       "      <th>eu_sales</th>\n",
       "      <th>jp_sales</th>\n",
       "      <th>other_sales</th>\n",
       "      <th>critic_score</th>\n",
       "      <th>user_score</th>\n",
       "      <th>rating</th>\n",
       "    </tr>\n",
       "  </thead>\n",
       "  <tbody>\n",
       "    <tr>\n",
       "      <td>659</td>\n",
       "      <td>NaN</td>\n",
       "      <td>GEN</td>\n",
       "      <td>1993</td>\n",
       "      <td>NaN</td>\n",
       "      <td>1.78</td>\n",
       "      <td>0.53</td>\n",
       "      <td>0.00</td>\n",
       "      <td>0.08</td>\n",
       "      <td>NaN</td>\n",
       "      <td>NaN</td>\n",
       "      <td>NaN</td>\n",
       "    </tr>\n",
       "    <tr>\n",
       "      <td>14244</td>\n",
       "      <td>NaN</td>\n",
       "      <td>GEN</td>\n",
       "      <td>1993</td>\n",
       "      <td>NaN</td>\n",
       "      <td>0.00</td>\n",
       "      <td>0.00</td>\n",
       "      <td>0.03</td>\n",
       "      <td>0.00</td>\n",
       "      <td>NaN</td>\n",
       "      <td>NaN</td>\n",
       "      <td>NaN</td>\n",
       "    </tr>\n",
       "  </tbody>\n",
       "</table>\n",
       "</div>"
      ],
      "text/plain": [
       "      name platform  year_of_release genre  na_sales  eu_sales  jp_sales  \\\n",
       "659    NaN      GEN             1993   NaN      1.78      0.53      0.00   \n",
       "14244  NaN      GEN             1993   NaN      0.00      0.00      0.03   \n",
       "\n",
       "       other_sales  critic_score user_score rating  \n",
       "659           0.08           NaN        NaN    NaN  \n",
       "14244         0.00           NaN        NaN    NaN  "
      ]
     },
     "execution_count": 9,
     "metadata": {},
     "output_type": "execute_result"
    }
   ],
   "source": [
    "# Т.к. дубликатов нет, вернемся к пропускам. Пропуск у нас есть для жанров, посмотрим их\n",
    "df[df['genre'].isnull()]"
   ]
  },
  {
   "cell_type": "code",
   "execution_count": 10,
   "metadata": {},
   "outputs": [],
   "source": [
    "# Т.к. полезного из этих данных мало, с чистой совестью их удалим\n",
    "# Вместе с тем это решит вопрос с пустыми названиями\n",
    "df.dropna(subset=['genre'], inplace=True)"
   ]
  },
  {
   "cell_type": "markdown",
   "metadata": {},
   "source": [
    "## Избавимся от значений вида TBD\n",
    "\n",
    "TBD, как правило, означает to be determined. Т.е. случай, когда рейтинг как бы есть, но как бы еще не до конца сформирован (возможно, сильно мало проголосовавших или мало времени прошло от начала голосования).\n",
    "\n",
    "Для нас эти значения эквивалентны отсутствию значения для всех столбцов."
   ]
  },
  {
   "cell_type": "code",
   "execution_count": 11,
   "metadata": {},
   "outputs": [
    {
     "name": "stdout",
     "output_type": "stream",
     "text": [
      "<class 'pandas.core.frame.DataFrame'>\n",
      "Int64Index: 16713 entries, 0 to 16714\n",
      "Data columns (total 11 columns):\n",
      "name               16713 non-null object\n",
      "platform           16713 non-null object\n",
      "year_of_release    16713 non-null int64\n",
      "genre              16713 non-null object\n",
      "na_sales           16713 non-null float64\n",
      "eu_sales           16713 non-null float64\n",
      "jp_sales           16713 non-null float64\n",
      "other_sales        16713 non-null float64\n",
      "critic_score       8137 non-null float64\n",
      "user_score         10014 non-null object\n",
      "rating             9949 non-null object\n",
      "dtypes: float64(5), int64(1), object(5)\n",
      "memory usage: 1.5+ MB\n"
     ]
    }
   ],
   "source": [
    "df.info()"
   ]
  },
  {
   "cell_type": "code",
   "execution_count": 12,
   "metadata": {},
   "outputs": [],
   "source": [
    "# уберем elementwise comparison failed; returning scalar instead, but in the future will perform elementwise comparison\n",
    "# т.к. судя по ответу это бага, см. https://stackoverflow.com/questions/40659212/futurewarning-elementwise-comparison-failed-returning-scalar-but-in-the-futur\n",
    "import warnings\n",
    "warnings.simplefilter(action='ignore', category=FutureWarning)\n",
    "\n",
    "# избавимся от значений вида tbd (to be determined)\n",
    "df['user_score'] = df['user_score'].where(df['user_score'] != 'tbd')\n",
    "df['critic_score'] = df['critic_score'].where(df['critic_score'] != 'tbd')\n",
    "df['rating'] = df['rating'].where(df['rating'] != 'tbd')"
   ]
  },
  {
   "cell_type": "code",
   "execution_count": 13,
   "metadata": {},
   "outputs": [],
   "source": [
    "# сохраним в отдельных столбцах исходные данные по рейтингам\n",
    "# напомню, это чтобы мы могли в будущем получить выборку только по исходным данным при необходимости\n",
    "df['critis_score_source'] = df['critic_score']\n",
    "df['user_score_source'] = df['user_score']"
   ]
  },
  {
   "cell_type": "code",
   "execution_count": 14,
   "metadata": {},
   "outputs": [
    {
     "name": "stdout",
     "output_type": "stream",
     "text": [
      "<class 'pandas.core.frame.DataFrame'>\n",
      "Int64Index: 16713 entries, 0 to 16714\n",
      "Data columns (total 13 columns):\n",
      "name                   16713 non-null object\n",
      "platform               16713 non-null object\n",
      "year_of_release        16713 non-null int64\n",
      "genre                  16713 non-null object\n",
      "na_sales               16713 non-null float64\n",
      "eu_sales               16713 non-null float64\n",
      "jp_sales               16713 non-null float64\n",
      "other_sales            16713 non-null float64\n",
      "critic_score           16713 non-null int64\n",
      "user_score             16713 non-null float64\n",
      "rating                 9949 non-null object\n",
      "critis_score_source    8137 non-null float64\n",
      "user_score_source      7590 non-null object\n",
      "dtypes: float64(6), int64(2), object(5)\n",
      "memory usage: 1.8+ MB\n"
     ]
    }
   ],
   "source": [
    "# уберем RuntimeWarning: Mean of empty slice\n",
    "# см. https://stackoverflow.com/questions/29688168/mean-nanmean-and-warning-mean-of-empty-slice\n",
    "warnings.simplefilter(\"ignore\", category=RuntimeWarning)\n",
    "\n",
    "# напишем функцию, что поможет нам считать среднее по нашим параметрам (жанру и платформе)\n",
    "def calc_score_by_genre_and_platform(df, genre, platform, field):\n",
    "    # ориентируемся на оба параметра\n",
    "    median = df[(df['genre'] == genre) & (df['platform'] == platform)][field].median()\n",
    "    # но т.к. возможна уникальная ситуация, где нет совпадения для двух параметров, предусмотрим рассчет по 1му\n",
    "    if math.isnan(median):\n",
    "        median = df[df['genre'] == genre][field].median()\n",
    "        if math.isnan(median):\n",
    "            median = df[df['platform'] == platform][field].median()    \n",
    "    return median\n",
    "\n",
    "unique_genre = df['genre'].unique()\n",
    "unique_platform = df['platform'].unique()\n",
    "score_list = ['critic_score', 'user_score']\n",
    "\n",
    "# идем по всем жанрам и платформам и заполняем для них пропуски (как для рейтинга критиков, так и пользователей)\n",
    "for score_type in score_list:\n",
    "    for genre in unique_genre:\n",
    "        for platform in unique_platform:\n",
    "            median = calc_score_by_genre_and_platform(df, genre, platform, score_type)\n",
    "            searchRow = (df['genre'] == genre) & (df['platform'] == platform) & (df[score_type].isnull())\n",
    "            df.loc[searchRow, score_type] = df.loc[searchRow, score_type].fillna(median)    \n",
    "\n",
    "# изменим типы\n",
    "df['critic_score'] = df['critic_score'].astype('int')\n",
    "df['user_score'] = df['user_score'].astype('float')\n",
    "\n",
    "# проверим, что все получилось\n",
    "df.info()"
   ]
  },
  {
   "cell_type": "markdown",
   "metadata": {},
   "source": [
    "<a id=\"alteration1\">**Разберемся с рейтингом**</a>"
   ]
  },
  {
   "cell_type": "code",
   "execution_count": 15,
   "metadata": {},
   "outputs": [],
   "source": [
    "# Заполним пропущенные значения модой в зависимости от жанра\n",
    "for genre in df['genre'].unique():\n",
    "    mask = df['genre'] == genre\n",
    "    mode = df.loc[mask, 'rating'].mode()[0]\n",
    "    df.loc[mask, 'rating'] = df.loc[mask, 'rating'].fillna(mode)"
   ]
  },
  {
   "cell_type": "code",
   "execution_count": 16,
   "metadata": {},
   "outputs": [
    {
     "data": {
      "text/plain": [
       "0"
      ]
     },
     "execution_count": 16,
     "metadata": {},
     "output_type": "execute_result"
    }
   ],
   "source": [
    "# Проверим наличие дубликатов\n",
    "df.duplicated().sum()"
   ]
  },
  {
   "cell_type": "code",
   "execution_count": 17,
   "metadata": {},
   "outputs": [],
   "source": [
    "# сбросим индекс, т.к. данные мы все же удаляли\n",
    "df = df.reset_index(drop=True)"
   ]
  },
  {
   "cell_type": "code",
   "execution_count": 18,
   "metadata": {},
   "outputs": [
    {
     "data": {
      "text/html": [
       "<div>\n",
       "<style scoped>\n",
       "    .dataframe tbody tr th:only-of-type {\n",
       "        vertical-align: middle;\n",
       "    }\n",
       "\n",
       "    .dataframe tbody tr th {\n",
       "        vertical-align: top;\n",
       "    }\n",
       "\n",
       "    .dataframe thead th {\n",
       "        text-align: right;\n",
       "    }\n",
       "</style>\n",
       "<table border=\"1\" class=\"dataframe\">\n",
       "  <thead>\n",
       "    <tr style=\"text-align: right;\">\n",
       "      <th></th>\n",
       "      <th>name</th>\n",
       "      <th>platform</th>\n",
       "      <th>year_of_release</th>\n",
       "      <th>genre</th>\n",
       "      <th>na_sales</th>\n",
       "      <th>eu_sales</th>\n",
       "      <th>jp_sales</th>\n",
       "      <th>other_sales</th>\n",
       "      <th>critic_score</th>\n",
       "      <th>user_score</th>\n",
       "      <th>rating</th>\n",
       "      <th>critis_score_source</th>\n",
       "      <th>user_score_source</th>\n",
       "      <th>total_sales</th>\n",
       "    </tr>\n",
       "  </thead>\n",
       "  <tbody>\n",
       "    <tr>\n",
       "      <td>0</td>\n",
       "      <td>Wii Sports</td>\n",
       "      <td>Wii</td>\n",
       "      <td>2006</td>\n",
       "      <td>Sports</td>\n",
       "      <td>41.36</td>\n",
       "      <td>28.96</td>\n",
       "      <td>3.77</td>\n",
       "      <td>8.45</td>\n",
       "      <td>76</td>\n",
       "      <td>8.0</td>\n",
       "      <td>E</td>\n",
       "      <td>76.0</td>\n",
       "      <td>8</td>\n",
       "      <td>82.54</td>\n",
       "    </tr>\n",
       "    <tr>\n",
       "      <td>1</td>\n",
       "      <td>Super Mario Bros.</td>\n",
       "      <td>NES</td>\n",
       "      <td>1985</td>\n",
       "      <td>Platform</td>\n",
       "      <td>29.08</td>\n",
       "      <td>3.58</td>\n",
       "      <td>6.81</td>\n",
       "      <td>0.77</td>\n",
       "      <td>69</td>\n",
       "      <td>7.6</td>\n",
       "      <td>E</td>\n",
       "      <td>NaN</td>\n",
       "      <td>NaN</td>\n",
       "      <td>40.24</td>\n",
       "    </tr>\n",
       "    <tr>\n",
       "      <td>2</td>\n",
       "      <td>Mario Kart Wii</td>\n",
       "      <td>Wii</td>\n",
       "      <td>2008</td>\n",
       "      <td>Racing</td>\n",
       "      <td>15.68</td>\n",
       "      <td>12.76</td>\n",
       "      <td>3.79</td>\n",
       "      <td>3.29</td>\n",
       "      <td>82</td>\n",
       "      <td>8.3</td>\n",
       "      <td>E</td>\n",
       "      <td>82.0</td>\n",
       "      <td>8.3</td>\n",
       "      <td>35.52</td>\n",
       "    </tr>\n",
       "    <tr>\n",
       "      <td>3</td>\n",
       "      <td>Wii Sports Resort</td>\n",
       "      <td>Wii</td>\n",
       "      <td>2009</td>\n",
       "      <td>Sports</td>\n",
       "      <td>15.61</td>\n",
       "      <td>10.93</td>\n",
       "      <td>3.28</td>\n",
       "      <td>2.95</td>\n",
       "      <td>80</td>\n",
       "      <td>8.0</td>\n",
       "      <td>E</td>\n",
       "      <td>80.0</td>\n",
       "      <td>8</td>\n",
       "      <td>32.77</td>\n",
       "    </tr>\n",
       "    <tr>\n",
       "      <td>4</td>\n",
       "      <td>Pokemon Red/Pokemon Blue</td>\n",
       "      <td>GB</td>\n",
       "      <td>1996</td>\n",
       "      <td>Role-Playing</td>\n",
       "      <td>11.27</td>\n",
       "      <td>8.89</td>\n",
       "      <td>10.22</td>\n",
       "      <td>1.00</td>\n",
       "      <td>73</td>\n",
       "      <td>7.8</td>\n",
       "      <td>T</td>\n",
       "      <td>NaN</td>\n",
       "      <td>NaN</td>\n",
       "      <td>31.38</td>\n",
       "    </tr>\n",
       "  </tbody>\n",
       "</table>\n",
       "</div>"
      ],
      "text/plain": [
       "                       name platform  year_of_release         genre  na_sales  \\\n",
       "0                Wii Sports      Wii             2006        Sports     41.36   \n",
       "1         Super Mario Bros.      NES             1985      Platform     29.08   \n",
       "2            Mario Kart Wii      Wii             2008        Racing     15.68   \n",
       "3         Wii Sports Resort      Wii             2009        Sports     15.61   \n",
       "4  Pokemon Red/Pokemon Blue       GB             1996  Role-Playing     11.27   \n",
       "\n",
       "   eu_sales  jp_sales  other_sales  critic_score  user_score rating  \\\n",
       "0     28.96      3.77         8.45            76         8.0      E   \n",
       "1      3.58      6.81         0.77            69         7.6      E   \n",
       "2     12.76      3.79         3.29            82         8.3      E   \n",
       "3     10.93      3.28         2.95            80         8.0      E   \n",
       "4      8.89     10.22         1.00            73         7.8      T   \n",
       "\n",
       "   critis_score_source user_score_source  total_sales  \n",
       "0                 76.0                 8        82.54  \n",
       "1                  NaN               NaN        40.24  \n",
       "2                 82.0               8.3        35.52  \n",
       "3                 80.0                 8        32.77  \n",
       "4                  NaN               NaN        31.38  "
      ]
     },
     "execution_count": 18,
     "metadata": {},
     "output_type": "execute_result"
    }
   ],
   "source": [
    "# Посчитаем суммарные продажи во всех регионах\n",
    "df['total_sales'] = df['na_sales'] + df['eu_sales'] + df['jp_sales'] + df['other_sales']\n",
    "# посмотрим что получилось\n",
    "df.head()"
   ]
  },
  {
   "cell_type": "markdown",
   "metadata": {},
   "source": [
    "## Промежуточный вывод\n",
    "\n",
    "- Мы обработали пропуски. В нашем случае, мы исходим из того, что рейтинг исправлять не нужно, но в качестве эксперимента для дальнейшего анализа мы оставили и исходные данные, и посчитанные через жанр и платформу, для большей точности.\n",
    "- Привели типы к нужному виду\n",
    "- Проверили наличие дубликатов\n",
    "- Сразу посчитали общую сумму продаж по каждой игре"
   ]
  },
  {
   "cell_type": "markdown",
   "metadata": {},
   "source": [
    "# Проведем исследовательский анализ данных"
   ]
  },
  {
   "cell_type": "code",
   "execution_count": 19,
   "metadata": {},
   "outputs": [
    {
     "data": {
      "text/plain": [
       "2008    1427\n",
       "2009    1426\n",
       "2010    1255\n",
       "2007    1197\n",
       "2011    1136\n",
       "2006    1006\n",
       "2005     939\n",
       "2002     829\n",
       "2003     775\n",
       "2004     762\n",
       "2012     653\n",
       "2015     606\n",
       "2014     581\n",
       "2013     544\n",
       "2016     502\n",
       "2001     482\n",
       "1998     379\n",
       "2000     350\n",
       "1999     338\n",
       "1997     289\n",
       "0        269\n",
       "1996     263\n",
       "1995     219\n",
       "1994     121\n",
       "1993      60\n",
       "1981      46\n",
       "1992      43\n",
       "1991      41\n",
       "1982      36\n",
       "1986      21\n",
       "1989      17\n",
       "1983      17\n",
       "1990      16\n",
       "1987      16\n",
       "1988      15\n",
       "1985      14\n",
       "1984      14\n",
       "1980       9\n",
       "Name: year_of_release, dtype: int64"
      ]
     },
     "execution_count": 19,
     "metadata": {},
     "output_type": "execute_result"
    }
   ],
   "source": [
    "# Посмотрим сколько игр выпускалось в разные годы\n",
    "df['year_of_release'].value_counts()"
   ]
  },
  {
   "cell_type": "markdown",
   "metadata": {},
   "source": [
    "**По большому счету, уже на данном этапе понятно, что нас будут интересовать данные, как минимум, после 1995 года, т.к. до этого не было существенного количества игр**"
   ]
  },
  {
   "cell_type": "code",
   "execution_count": 20,
   "metadata": {},
   "outputs": [
    {
     "data": {
      "text/plain": [
       "platform\n",
       "PS2     1255.77\n",
       "X360     971.42\n",
       "PS3      939.65\n",
       "Wii      907.51\n",
       "DS       806.12\n",
       "PS       730.86\n",
       "GBA      317.85\n",
       "PS4      314.14\n",
       "PSP      294.05\n",
       "PC       259.52\n",
       "Name: total_sales, dtype: float64"
      ]
     },
     "execution_count": 20,
     "metadata": {},
     "output_type": "execute_result"
    }
   ],
   "source": [
    "# Посмотрим, как менялись продажи по платформам. \n",
    "\n",
    "# Выберем платформы с наибольшими суммарными продажами \n",
    "top_platforms = df.groupby(['platform'])['total_sales'].sum().nlargest(10)\n",
    "top_platforms"
   ]
  },
  {
   "cell_type": "code",
   "execution_count": 21,
   "metadata": {
    "scrolled": false
   },
   "outputs": [
    {
     "data": {
      "text/plain": [
       "<matplotlib.axes._subplots.AxesSubplot at 0x7fc74e824fd0>"
      ]
     },
     "execution_count": 21,
     "metadata": {},
     "output_type": "execute_result"
    },
    {
     "data": {
      "image/png": "[encoded data removed]",
      "text/plain": [
       "<Figure size 1152x360 with 1 Axes>"
      ]
     },
     "metadata": {
      "needs_background": "light"
     },
     "output_type": "display_data"
    }
   ],
   "source": [
    "import matplotlib.pyplot as plt\n",
    "\n",
    "# Построим распределение по годам. \n",
    "def make_bins(start, end, step):\n",
    "    result = []\n",
    "    for bin_elem in range(start, end + 1, step):\n",
    "        result.append(bin_elem)\n",
    "    return result\n",
    "\n",
    "df_top_platforms = df.query('(platform in @top_platforms.index) and (year_of_release >= 1980)')\n",
    "\n",
    "fig, ax = plt.subplots()\n",
    "ax.set_title(\"Распределение выпущенных игр по годам\")\n",
    "ax.set_xlabel('Год выпуска игр')\n",
    "ax.set_ylabel('Количество выпущенных игр')\n",
    "\n",
    "df_top_platforms['year_of_release'].hist(bins=make_bins(1995, 2017, 1), figsize=(16,5), alpha=0.9, ax=ax)"
   ]
  },
  {
   "cell_type": "code",
   "execution_count": 22,
   "metadata": {
    "scrolled": false
   },
   "outputs": [
    {
     "data": {
      "text/plain": [
       "<matplotlib.legend.Legend at 0x7fc74bc8a6d0>"
      ]
     },
     "execution_count": 22,
     "metadata": {},
     "output_type": "execute_result"
    },
    {
     "data": {
      "image/png": "[encoded data removed]",
      "text/plain": [
       "<Figure size 1152x360 with 1 Axes>"
      ]
     },
     "metadata": {
      "needs_background": "light"
     },
     "output_type": "display_data"
    }
   ],
   "source": [
    "# Ответим на вопрос - за какой характерный срок появляются новые и исчезают старые платформы?\n",
    "\n",
    "fig, ax = plt.subplots()\n",
    "ax.set_title('Распределение выпущенных игр по годам (по каждой платформе отдельно)')\n",
    "ax.set_xlabel('Год выпуска игр')\n",
    "ax.set_ylabel('Количество выпущенных игр')\n",
    "\n",
    "# Построим графики и посчитаем время жизни каждой платформы\n",
    "mean_dict = dict()\n",
    "for platform in top_platforms.index.tolist():\n",
    "    df_platform = df_top_platforms.query('platform == @platform')\n",
    "    \n",
    "    min_year = df_platform['year_of_release'].min()\n",
    "    max_year = df_platform['year_of_release'].max()\n",
    "    \n",
    "    mean_dict[platform] = max_year - min_year\n",
    "    \n",
    "    bins = make_bins(min_year, max_year+1, 1)\n",
    "    df_platform['year_of_release'].plot(kind='hist',bins=bins, figsize=(16,5), alpha=0.3, ax=ax, legend=True)\n",
    "    \n",
    "ax.legend(top_platforms.index.tolist())"
   ]
  },
  {
   "cell_type": "code",
   "execution_count": 23,
   "metadata": {},
   "outputs": [
    {
     "data": {
      "text/plain": [
       "{'PS2': 11,\n",
       " 'X360': 11,\n",
       " 'PS3': 10,\n",
       " 'Wii': 10,\n",
       " 'DS': 28,\n",
       " 'PS': 9,\n",
       " 'GBA': 7,\n",
       " 'PS4': 3,\n",
       " 'PSP': 11,\n",
       " 'PC': 31}"
      ]
     },
     "execution_count": 23,
     "metadata": {},
     "output_type": "execute_result"
    }
   ],
   "source": [
    "# Выведем полученные значения\n",
    "mean_dict"
   ]
  },
  {
   "cell_type": "code",
   "execution_count": 24,
   "metadata": {},
   "outputs": [
    {
     "data": {
      "text/plain": [
       "13.1"
      ]
     },
     "execution_count": 24,
     "metadata": {},
     "output_type": "execute_result"
    }
   ],
   "source": [
    "# Хотя у нас есть явные любопытные значения, в виде 3х лет и 31 года, посчитаем среднее вместе с ними\n",
    "mean = sum(mean_dict.values()) / len(mean_dict.values())\n",
    "mean"
   ]
  },
  {
   "cell_type": "code",
   "execution_count": 25,
   "metadata": {},
   "outputs": [
    {
     "data": {
      "text/plain": [
       "9.857142857142858"
      ]
     },
     "execution_count": 25,
     "metadata": {},
     "output_type": "execute_result"
    }
   ],
   "source": [
    "# Посчитаем среднее без nintendo, PC, PS4\n",
    "# PS4 недавно появилось на рынке поэтому будет влиять на общую картину, а DS и PC - старожилы, что никак не умирают\n",
    "# Будем держать это в голове, но по общей картине данные платформы скорее исключение из правил\n",
    "# Чтобы получить среднее по платформам, более приближенное к реальности, посчитаем без них\n",
    "del mean_dict['PC']\n",
    "del mean_dict['DS']\n",
    "del mean_dict['PS4']\n",
    "\n",
    "mean = sum(mean_dict.values()) / len(mean_dict.values())\n",
    "mean"
   ]
  },
  {
   "cell_type": "markdown",
   "metadata": {},
   "source": [
    "**Таким образом, среднее время жизни одной платформы будем считать за 10 лет. Хотя есть нюансы в виде PC, который жил, жив и (вероятно) будет жить.**"
   ]
  },
  {
   "cell_type": "code",
   "execution_count": 26,
   "metadata": {},
   "outputs": [],
   "source": [
    "# Возьмем только актуальные данные и в дальнейшем будем работать только с ними\n",
    "# Актуальными будем считать данные с года выпуска - после 1995 (обрежем по основному датафрэйму)\n",
    "# При этом для основных рассчетов, мы будем использовать срез за последние 10 лет (это самые актуальные данные)\n",
    "df = df.query('(year_of_release >= 1995)')\n",
    "df_actual = df.query('(year_of_release >= 2014)')"
   ]
  },
  {
   "cell_type": "code",
   "execution_count": 27,
   "metadata": {
    "scrolled": false
   },
   "outputs": [
    {
     "data": {
      "image/png": "[encoded data removed]",
      "text/plain": [
       "<Figure size 720x720 with 1 Axes>"
      ]
     },
     "metadata": {},
     "output_type": "display_data"
    }
   ],
   "source": [
    "# попробуем более короткий срез\n",
    "df_actual_1 = df.query('year_of_release >= 2014')\n",
    "df_platform_pivot_1 = df_actual_1.groupby('platform')['total_sales'].agg('sum').sort_values(ascending = True)\n",
    "#df_platform_pivot_1\n",
    "df_platform_pivot_1.plot.pie(figsize=(10, 10), autopct='%1.1f%%',shadow = True)\n",
    "# расположение легенды\n",
    "plt.legend()\n",
    "plt.show()"
   ]
  },
  {
   "cell_type": "markdown",
   "metadata": {},
   "source": [
    "**Небольшая ремарка**\n",
    "\n",
    "Таким образом мы отрезали хвост. Но поскольку платформы живут последние 10 лет, выбирать стоит именно из 10 летнего периода. Но отрезание данных на данном этапе может не позволить нам посмотреть на закономерности в других параметрах (например, жанру)\n",
    "\n",
    "Поэтому держим это в голове, возможно в будущем обратимся к полному срезу."
   ]
  },
  {
   "cell_type": "code",
   "execution_count": 28,
   "metadata": {},
   "outputs": [],
   "source": [
    "# Выберем потенциально прибыльные платформы. Это явно платформы, которые существуют менее 10 лет\n",
    "# и которые показывают рост за последний период, для этого построим график\n",
    "\n",
    "# сгруппируем данные\n",
    "df_platform_pivot = df_actual.pivot_table(index=['platform', 'year_of_release'], values=['total_sales'], aggfunc=['sum'])\n",
    "df_platform_pivot = df_platform_pivot.reset_index(level='year_of_release')\n",
    "df_platform_pivot.columns = ['year', 'total_sales_sum']\n",
    "\n",
    "# переформируем данные, чтобы вывести на одном графике все с красивыми легендами без циклов и тд\n",
    "df_platform_pivot_for_plot = df_platform_pivot.reset_index()\n",
    "df_platform_pivot_for_plot = df_platform_pivot_for_plot.pivot(index='year', columns='platform', values='total_sales_sum')"
   ]
  },
  {
   "cell_type": "markdown",
   "metadata": {},
   "source": [
    "<a id='warning1'>Выведем графики</a>"
   ]
  },
  {
   "cell_type": "code",
   "execution_count": 29,
   "metadata": {},
   "outputs": [
    {
     "data": {
      "text/plain": [
       "Text(0, 0.5, 'Сумма продаж')"
      ]
     },
     "execution_count": 29,
     "metadata": {},
     "output_type": "execute_result"
    },
    {
     "data": {
      "image/png": "[encoded data removed]",
      "text/plain": [
       "<Figure size 1152x576 with 1 Axes>"
      ]
     },
     "metadata": {
      "needs_background": "light"
     },
     "output_type": "display_data"
    }
   ],
   "source": [
    "# выведем графики\n",
    "fig, ax = plt.subplots()\n",
    "df_platform_pivot_for_plot.plot(figsize=(16,8), ax=ax)\n",
    "ax.set_title('Продажи игр на платформах по годам')\n",
    "ax.set_xlabel('Год')\n",
    "ax.set_ylabel('Сумма продаж')"
   ]
  },
  {
   "cell_type": "markdown",
   "metadata": {},
   "source": [
    "#### Промежуточный вывод\n",
    "\n",
    "Большинство платформ к этому времени, увы, умерло. Наибольший интерес представляют три платформы:\n",
    "1. PS4\n",
    "2. XBox One\n",
    "3. PC\n",
    "\n",
    "Т.к. данные за 2016 год неполные, скорее всего дальше они покажут еще больший рост. PS4 лидирует, демонстрируя огромный рост. XBox one также показывает рост (помним, что данные за 2016 м.б. не полными)\n",
    "PC актуален т.к. платформа живет на протяжении 20 лет, хотя и не может похвастаться такими цифрами продаж."
   ]
  },
  {
   "cell_type": "code",
   "execution_count": 30,
   "metadata": {},
   "outputs": [
    {
     "data": {
      "text/plain": [
       "<matplotlib.axes._subplots.AxesSubplot at 0x7fc74b9ba790>"
      ]
     },
     "execution_count": 30,
     "metadata": {},
     "output_type": "execute_result"
    },
    {
     "data": {
      "image/png": "[encoded data removed]",
      "text/plain": [
       "<Figure size 1152x576 with 1 Axes>"
      ]
     },
     "metadata": {
      "needs_background": "light"
     },
     "output_type": "display_data"
    }
   ],
   "source": [
    "# Построим boxplot\n",
    "\n",
    "# Чтобы избавиться от ворнинга, нужно построить отдельные графики или заменить пропущенные значения на 0\n",
    "# примерно так - df_platform_pivot_for_plot.fillna(0, inplace=True)\n",
    "# но это влияет на итоговые выводы, поэтому пока живем с ним\n",
    "\n",
    "# построим график\n",
    "df_platform_pivot_for_plot.fillna(0, inplace=True)\n",
    "\n",
    "fig, ax = plt.subplots(1)\n",
    "ax.set_title('Распределение продаж по платформам')\n",
    "ax.set_xlabel('Платформа')\n",
    "ax.set_ylabel('Продажи')\n",
    "df_platform_pivot_for_plot.plot(kind='box', figsize=(16,8), ax=ax)"
   ]
  },
  {
   "cell_type": "markdown",
   "metadata": {},
   "source": [
    "**Промежуточный вывод**\n",
    "\n",
    "Видно, что платформы сильно отличаются друг от друга. В некотором смысле, чем платформа популярнее, тем больше разброс ее значений. При этом графики действительно сильно разные. Хорошо выделяются консоли PS2, PS3, PS4 и X360.\n",
    "\n",
    "Вместе с этим, Nintendo DS отстает, но не сильно.\n",
    "\n",
    "При этом различия касаются как продаж в целом, так и их средних значений.\n",
    "Непопулярные платформы не сильно далеко ушли от линии нуля. Впрочем, как и новые для нас платформы.\n",
    "\n",
    "Однако, при этом не понятно, как обстоят дела с PC - несмотря на небольшой разброс, за 20 лет, как игровая платформа он обладает завидным постоянством. При этом до показателей консолей ему действительно далеко.\n",
    "\n",
    "**UPD: После смены актуального периода выводы не поменялись, но более явно видно, что XOne и PS4 сильно выделяются на фоне остальных платформ**"
   ]
  },
  {
   "cell_type": "code",
   "execution_count": 31,
   "metadata": {},
   "outputs": [
    {
     "data": {
      "text/plain": [
       "Text(0, 0.5, 'Сумма продаж')"
      ]
     },
     "execution_count": 31,
     "metadata": {},
     "output_type": "execute_result"
    },
    {
     "data": {
      "image/png": "[encoded data removed]",
      "text/plain": [
       "<Figure size 1152x576 with 2 Axes>"
      ]
     },
     "metadata": {
      "needs_background": "light"
     },
     "output_type": "display_data"
    }
   ],
   "source": [
    "# Посмотри на влияние на продажи отзывов пользователей и критиков\n",
    "# Возьмем за основу данные по PS3, как популярной платформы с длинным временем жизни\n",
    "df_ps3 = df_actual.query('platform == \"PS3\"')\n",
    "\n",
    "# Построим диаграмму рассеяния\n",
    "\n",
    "fig, ax = plt.subplots(1, 2)\n",
    "df_ps3.plot(x='user_score', y='total_sales', kind='scatter', ax=ax[0], figsize=(16,8))\n",
    "df_ps3.plot(x='critic_score', y='total_sales', kind='scatter', ax=ax[1], figsize=(16,8))\n",
    "\n",
    "ax[0].set_title('Влияние оценок пользователей на продажи')\n",
    "ax[0].set_xlabel('Оценка пользователей')\n",
    "ax[0].set_ylabel('Сумма продаж')\n",
    "ax[1].set_title('Влияние оценок критиков на продажи')\n",
    "ax[1].set_xlabel('Оценка критиков')\n",
    "ax[1].set_ylabel('Сумма продаж')"
   ]
  },
  {
   "cell_type": "code",
   "execution_count": 32,
   "metadata": {},
   "outputs": [
    {
     "data": {
      "text/html": [
       "<div>\n",
       "<style scoped>\n",
       "    .dataframe tbody tr th:only-of-type {\n",
       "        vertical-align: middle;\n",
       "    }\n",
       "\n",
       "    .dataframe tbody tr th {\n",
       "        vertical-align: top;\n",
       "    }\n",
       "\n",
       "    .dataframe thead th {\n",
       "        text-align: right;\n",
       "    }\n",
       "</style>\n",
       "<table border=\"1\" class=\"dataframe\">\n",
       "  <thead>\n",
       "    <tr style=\"text-align: right;\">\n",
       "      <th></th>\n",
       "      <th>user_score</th>\n",
       "      <th>critic_score</th>\n",
       "      <th>total_sales</th>\n",
       "    </tr>\n",
       "  </thead>\n",
       "  <tbody>\n",
       "    <tr>\n",
       "      <td>user_score</td>\n",
       "      <td>1.000000</td>\n",
       "      <td>0.217795</td>\n",
       "      <td>-0.228347</td>\n",
       "    </tr>\n",
       "    <tr>\n",
       "      <td>critic_score</td>\n",
       "      <td>0.217795</td>\n",
       "      <td>1.000000</td>\n",
       "      <td>0.136931</td>\n",
       "    </tr>\n",
       "    <tr>\n",
       "      <td>total_sales</td>\n",
       "      <td>-0.228347</td>\n",
       "      <td>0.136931</td>\n",
       "      <td>1.000000</td>\n",
       "    </tr>\n",
       "  </tbody>\n",
       "</table>\n",
       "</div>"
      ],
      "text/plain": [
       "              user_score  critic_score  total_sales\n",
       "user_score      1.000000      0.217795    -0.228347\n",
       "critic_score    0.217795      1.000000     0.136931\n",
       "total_sales    -0.228347      0.136931     1.000000"
      ]
     },
     "execution_count": 32,
     "metadata": {},
     "output_type": "execute_result"
    }
   ],
   "source": [
    "# Посчитаем корреляцию между отзывами и продажами\n",
    "df_ps3[['user_score', 'critic_score', 'total_sales']].corr()"
   ]
  },
  {
   "cell_type": "code",
   "execution_count": 33,
   "metadata": {},
   "outputs": [
    {
     "data": {
      "text/html": [
       "<div>\n",
       "<style scoped>\n",
       "    .dataframe tbody tr th:only-of-type {\n",
       "        vertical-align: middle;\n",
       "    }\n",
       "\n",
       "    .dataframe tbody tr th {\n",
       "        vertical-align: top;\n",
       "    }\n",
       "\n",
       "    .dataframe thead th {\n",
       "        text-align: right;\n",
       "    }\n",
       "</style>\n",
       "<table border=\"1\" class=\"dataframe\">\n",
       "  <thead>\n",
       "    <tr style=\"text-align: right;\">\n",
       "      <th></th>\n",
       "      <th>Wii</th>\n",
       "      <th>X360</th>\n",
       "      <th>PS3</th>\n",
       "      <th>PS4</th>\n",
       "      <th>PC</th>\n",
       "      <th>PSP</th>\n",
       "    </tr>\n",
       "  </thead>\n",
       "  <tbody>\n",
       "    <tr>\n",
       "      <td>user_score</td>\n",
       "      <td>0.298655</td>\n",
       "      <td>-0.170145</td>\n",
       "      <td>-0.228347</td>\n",
       "      <td>-0.075062</td>\n",
       "      <td>-0.101989</td>\n",
       "      <td>-0.165326</td>\n",
       "    </tr>\n",
       "    <tr>\n",
       "      <td>critic_score</td>\n",
       "      <td>0.333500</td>\n",
       "      <td>0.252686</td>\n",
       "      <td>0.136931</td>\n",
       "      <td>0.332423</td>\n",
       "      <td>0.154245</td>\n",
       "      <td>0.382990</td>\n",
       "    </tr>\n",
       "  </tbody>\n",
       "</table>\n",
       "</div>"
      ],
      "text/plain": [
       "                   Wii      X360       PS3       PS4        PC       PSP\n",
       "user_score    0.298655 -0.170145 -0.228347 -0.075062 -0.101989 -0.165326\n",
       "critic_score  0.333500  0.252686  0.136931  0.332423  0.154245  0.382990"
      ]
     },
     "execution_count": 33,
     "metadata": {},
     "output_type": "execute_result"
    }
   ],
   "source": [
    "# посмотрим для остальных платформ\n",
    "\n",
    "df_slice = df_actual.query('platform in @top_platforms.index')[['platform', 'user_score', 'critic_score', 'total_sales']]\n",
    "\n",
    "df_result = pd.DataFrame(data=[], index=['user_score', 'critic_score'], columns=[])\n",
    "for platform in df['platform'].unique():\n",
    "    df_slice_platform = df_slice.query('platform == @platform')\n",
    "    user_score_corr = df_slice_platform['user_score'].corr(df_slice_platform['total_sales'])\n",
    "    critic_score_corr = df_slice_platform['critic_score'].corr(df_slice_platform['total_sales'])\n",
    "    df_result[platform] = [user_score_corr, critic_score_corr]\n",
    "\n",
    "df_result.dropna(axis='columns', inplace=True)\n",
    "# посмотрим, что получилось\n",
    "df_result"
   ]
  },
  {
   "cell_type": "code",
   "execution_count": 34,
   "metadata": {},
   "outputs": [
    {
     "data": {
      "text/plain": [
       "<matplotlib.axes._subplots.AxesSubplot at 0x7fc74b7ab690>"
      ]
     },
     "execution_count": 34,
     "metadata": {},
     "output_type": "execute_result"
    },
    {
     "data": {
      "image/png": "[encoded data removed]",
      "text/plain": [
       "<Figure size 1152x576 with 1 Axes>"
      ]
     },
     "metadata": {
      "needs_background": "light"
     },
     "output_type": "display_data"
    }
   ],
   "source": [
    "# Построим график для наглядного сравнения\n",
    "fig, ax = plt.subplots(1)\n",
    "ax.set_title('Влияение оценки критиков и пользователей на продажи')\n",
    "ax.set_xlabel('Оценки')\n",
    "ax.set_ylabel('Величина корреляции')\n",
    "df_result.plot(kind='bar', figsize=(16,8), ax=ax)"
   ]
  },
  {
   "cell_type": "markdown",
   "metadata": {},
   "source": [
    "**Промежуточный вывод**\n",
    "\n",
    "- Рейтинг критиков явно сильнее влияет на продажи, чем рейтинг пользователей\n",
    "- При это рейтинг критиков больше 70 начинает оказывать ощутимое влияние, в диапазоне от 40 до 70 рост не такой большой\n",
    "- Есть игры, которые хорошо продаются, невзирая на пользовательский рейтинг. Вероятно это связано с тем, что пользовательский рейтинг не всегда объективен, т.к. игроки могут начать занижать рейтинг игре по причинам, непосредственно с игрой не связанным (сексизм, феминизм, сказаное лишнее слово в интервью и тд).\n",
    "- Очень любопытная ситуация с GBA, когда, чем хуже оценки, тем выше продажи. Возможно это связано с низким качеством игр и низким качеством ассортимента для этой платформы. Либо несовпадением ожиданий.\n",
    "- В целом, общая тенденция для любой платформы схожа - оценки игроков имеют крайне слабую корреляцию, а вот оценки критиков - более ощутимую. Чем выше оценка - тем больше продажи."
   ]
  },
  {
   "cell_type": "code",
   "execution_count": 35,
   "metadata": {},
   "outputs": [
    {
     "data": {
      "text/plain": [
       "Action          619\n",
       "Role-Playing    221\n",
       "Adventure       185\n",
       "Sports          161\n",
       "Shooter         128\n",
       "Misc            113\n",
       "Racing           69\n",
       "Fighting         60\n",
       "Simulation       44\n",
       "Platform         38\n",
       "Strategy         37\n",
       "Puzzle           14\n",
       "Name: genre, dtype: int64"
      ]
     },
     "execution_count": 35,
     "metadata": {},
     "output_type": "execute_result"
    }
   ],
   "source": [
    "# Посмотрим на распределение игр по жанрам\n",
    "df_actual['genre'].value_counts()"
   ]
  },
  {
   "cell_type": "code",
   "execution_count": 36,
   "metadata": {},
   "outputs": [
    {
     "data": {
      "text/plain": [
       "<matplotlib.axes._subplots.AxesSubplot at 0x7fc74b6ac710>"
      ]
     },
     "execution_count": 36,
     "metadata": {},
     "output_type": "execute_result"
    },
    {
     "data": {
      "image/png": "[encoded data removed]",
      "text/plain": [
       "<Figure size 1152x576 with 1 Axes>"
      ]
     },
     "metadata": {
      "needs_background": "light"
     },
     "output_type": "display_data"
    }
   ],
   "source": [
    "# Построим график для наглядности\n",
    "fig, ax = plt.subplots(1)\n",
    "ax.set_title('Топ количества игр по жанрам')\n",
    "ax.set_xlabel('Жанр игры')\n",
    "ax.set_ylabel('Количество выпущенных игр')\n",
    "df_actual['genre'].value_counts().plot(kind='bar', figsize=(16,8), ax=ax)"
   ]
  },
  {
   "cell_type": "code",
   "execution_count": 37,
   "metadata": {},
   "outputs": [
    {
     "data": {
      "text/plain": [
       "genre\n",
       "Shooter         1.335469\n",
       "Sports          0.680000\n",
       "Platform        0.476053\n",
       "Fighting        0.470333\n",
       "Role-Playing    0.459005\n",
       "Racing          0.398841\n",
       "Misc            0.332301\n",
       "Action          0.322068\n",
       "Simulation      0.298409\n",
       "Puzzle          0.157857\n",
       "Strategy        0.107027\n",
       "Adventure       0.094865\n",
       "Name: total_sales, dtype: float64"
      ]
     },
     "execution_count": 37,
     "metadata": {},
     "output_type": "execute_result"
    }
   ],
   "source": [
    "# посмотрим средние данные по продажам по каждому жанру\n",
    "top_genre_sales = df_actual.groupby('genre')['total_sales'].mean().nlargest(15)\n",
    "top_genre_sales"
   ]
  },
  {
   "cell_type": "code",
   "execution_count": 38,
   "metadata": {},
   "outputs": [
    {
     "data": {
      "text/plain": [
       "genre\n",
       "Shooter         0.869286\n",
       "Sports          0.529394\n",
       "Misc            0.477857\n",
       "Platform        0.253333\n",
       "Role-Playing    0.236786\n",
       "Action          0.235065\n",
       "Simulation      0.195000\n",
       "Fighting        0.170000\n",
       "Racing          0.125000\n",
       "Adventure       0.094286\n",
       "Strategy        0.060000\n",
       "Puzzle          0.040000\n",
       "Name: total_sales, dtype: float64"
      ]
     },
     "execution_count": 38,
     "metadata": {},
     "output_type": "execute_result"
    }
   ],
   "source": [
    "# для сравнения посмотрим данные по продажам для платформы PS3\n",
    "top_ps3_genre_sales = df_ps3.groupby('genre')['total_sales'].mean().nlargest(15)\n",
    "top_ps3_genre_sales"
   ]
  },
  {
   "cell_type": "code",
   "execution_count": 39,
   "metadata": {},
   "outputs": [
    {
     "data": {
      "text/plain": [
       "Text(0, 0.5, 'Сумма продаж')"
      ]
     },
     "execution_count": 39,
     "metadata": {},
     "output_type": "execute_result"
    },
    {
     "data": {
      "image/png": "[encoded data removed]",
      "text/plain": [
       "<Figure size 1152x576 with 1 Axes>"
      ]
     },
     "metadata": {
      "needs_background": "light"
     },
     "output_type": "display_data"
    }
   ],
   "source": [
    "# построим графики\n",
    "\n",
    "df_for_plot = pd.DataFrame({'PS3': top_ps3_genre_sales, 'Все платформы':top_genre_sales})\n",
    "ax = plt.subplot()\n",
    "df_for_plot.plot(kind='bar', figsize=(16,8), ax=ax)\n",
    "ax.set_title('Сравнение продаж игр по жанрам для всех платформ и PS3')\n",
    "ax.set_xlabel('Жанр')\n",
    "ax.set_ylabel('Сумма продаж')"
   ]
  },
  {
   "cell_type": "markdown",
   "metadata": {},
   "source": [
    "**Промежуточный вывод**\n",
    "\n",
    "- Самыми прибыльными жанрами являются шутеры, платформеры, спортивные игры\n",
    "- Несмотря на то, что первое место по количеству игр занимает Action и имеет в целом неплохие показатели продаж, они не занимают лидирующие позиции в этом направлении\n",
    "- Приключенческие игры, которых выпускается много, имеют одни их худших показателей продаж. Скорее всего это связано с тем, что люди ищут что-то более казуальное для отдыха после работы\n",
    "- Ролевые игры занимают золотую середину вместе с играми смешанных жанров, хотя выпускаются в большом количестве"
   ]
  },
  {
   "cell_type": "markdown",
   "metadata": {},
   "source": [
    "# Составим портрет пользователя каждого региона"
   ]
  },
  {
   "cell_type": "code",
   "execution_count": 40,
   "metadata": {},
   "outputs": [
    {
     "data": {
      "text/plain": [
       "Text(0, 0.5, 'Количество игр')"
      ]
     },
     "execution_count": 40,
     "metadata": {},
     "output_type": "execute_result"
    },
    {
     "data": {
      "image/png": "[encoded data removed]",
      "text/plain": [
       "<Figure size 1152x576 with 1 Axes>"
      ]
     },
     "metadata": {
      "needs_background": "light"
     },
     "output_type": "display_data"
    }
   ],
   "source": [
    "# сначала определим df с которыми будем работать\n",
    "df_na = df_actual.query('na_sales > 0')\n",
    "df_jp = df_actual.query('jp_sales > 0')\n",
    "df_eu = df_actual.query('eu_sales > 0')\n",
    "\n",
    "# посчитаем количество игр по каждой платформе\n",
    "df_na_count = df_na.groupby('platform')['name'].count().to_frame()\n",
    "df_na_count.columns = ['na_game_count']\n",
    "df_jp_count = df_jp.groupby('platform')['name'].count().to_frame()\n",
    "df_jp_count.columns = ['jp_game_count']\n",
    "df_eu_count = df_eu.groupby('platform')['name'].count().to_frame()\n",
    "df_eu_count.columns = ['eu_game_count']\n",
    "\n",
    "# составим DF, объеденив данные, чтобы вывести на одном графике\n",
    "df_for_bar = df_na_count.merge(df_jp_count, how='outer', on='platform')\n",
    "df_for_bar = df_for_bar.merge(df_eu_count, how='outer', on='platform')\n",
    "\n",
    "del df_na_count\n",
    "del df_jp_count\n",
    "del df_eu_count\n",
    "\n",
    "# выведем график\n",
    "fig, ax = plt.subplots(1)\n",
    "df_for_bar.plot(kind='bar', figsize=(16,8), ax=ax)\n",
    "ax.set_title('Количество выпускаемых игр по платформам для каждого региона')\n",
    "ax.set_xlabel('Платформа')\n",
    "ax.set_ylabel('Количество игр')"
   ]
  },
  {
   "cell_type": "code",
   "execution_count": 41,
   "metadata": {},
   "outputs": [
    {
     "data": {
      "text/plain": [
       "Text(0, 0.5, 'Сумма продаж')"
      ]
     },
     "execution_count": 41,
     "metadata": {},
     "output_type": "execute_result"
    },
    {
     "data": {
      "image/png": "[encoded data removed]",
      "text/plain": [
       "<Figure size 1152x576 with 1 Axes>"
      ]
     },
     "metadata": {
      "needs_background": "light"
     },
     "output_type": "display_data"
    }
   ],
   "source": [
    "# посмотрим сумму продаж по каждой платформе и возьмем топ-5 платформ\n",
    "\n",
    "# попробуем написать функцию, для создания DF для графика\n",
    "def make_df_for_bar(groupby_value, type_value, func_value, top_count):\n",
    "    regions = ['na', 'jp', 'eu']\n",
    "    for region in regions:\n",
    "        if (type_value == 'sales'):\n",
    "            column_name = region + '_' + type_value\n",
    "        else:\n",
    "            column_name = type_value\n",
    "        \n",
    "        if region == 'na':\n",
    "            df_na_temp = df_na.groupby(groupby_value)[column_name]\n",
    "        elif region == 'jp':\n",
    "            df_jp_temp = df_jp.groupby(groupby_value)[column_name]\n",
    "        else:\n",
    "            df_eu_temp = df_eu.groupby(groupby_value)[column_name]\n",
    "    \n",
    "    if (func_value == 'sum'):\n",
    "        df_na_temp = df_na_temp.sum().nlargest(top_count).to_frame()\n",
    "        df_jp_temp = df_jp_temp.sum().nlargest(top_count).to_frame()\n",
    "        df_eu_temp = df_eu_temp.sum().nlargest(top_count).to_frame()\n",
    "    else:\n",
    "        df_na_temp = df_na_temp.count().nlargest(top_count).to_frame()\n",
    "        df_jp_temp = df_jp_temp.count().nlargest(top_count).to_frame()\n",
    "        df_eu_temp = df_eu_temp.count().nlargest(top_count).to_frame()\n",
    "        \n",
    "    df_na_temp.columns = ['na_' + type_value + '_' + func_value]\n",
    "    df_jp_temp.columns = ['jp_' + type_value + '_' + func_value]\n",
    "    df_eu_temp.columns = ['eu_' + type_value + '_' + func_value]\n",
    "    \n",
    "    result = df_na_temp.merge(df_jp_temp, how='outer', on=groupby_value)\n",
    "    result = result.merge(df_eu_temp, how='outer', on=groupby_value)\n",
    "    \n",
    "    return result\n",
    "\n",
    "df_for_bar = make_df_for_bar('platform', 'sales', 'sum', 5)\n",
    "\n",
    "# выведем график\n",
    "fig, ax = plt.subplots(1)\n",
    "df_for_bar.plot(kind='bar', figsize=(16,8), ax=ax)\n",
    "ax.set_title('Количество продаж игр по ТОП-5 платформам для каждого региона')\n",
    "ax.set_xlabel('Платформа')\n",
    "ax.set_ylabel('Сумма продаж')"
   ]
  },
  {
   "cell_type": "markdown",
   "metadata": {},
   "source": [
    "**Промежуточный вывод**\n",
    "\n",
    "- Северная америка приносит больше всего прибыли, а вот Япония приносит меньше всего денег\n",
    "- В Северной Америке по сумме продаж лидирует X360, в Японии нинтендо, а в Европе PS3\n",
    "- В Японии немного отличается топ продаж от Европы и Америки - они включают 3DS и PSP, которые не находятся в топе остальных регионов\n",
    "- В США попал в топ PS2, несмотря на наличие PS3. Скорее всего есть определенная любовь к играм прошлого\n",
    "- А в Европе - PS4. Можно считать ее более прогрессивной (все же платформа новая) и консервативной (в топе нет каких-то специфичных платформ)\n",
    "- При этом по покупаемым играм во всех регионах лидирует Нинтендо и PS3. Суммируя остальное, PS3 получается наиболее универсальной платформой для всех регионов"
   ]
  },
  {
   "cell_type": "code",
   "execution_count": 42,
   "metadata": {},
   "outputs": [
    {
     "data": {
      "text/plain": [
       "Text(0, 0.5, 'Сумма продаж')"
      ]
     },
     "execution_count": 42,
     "metadata": {},
     "output_type": "execute_result"
    },
    {
     "data": {
      "image/png": "[encoded data removed]",
      "text/plain": [
       "<Figure size 1152x576 with 1 Axes>"
      ]
     },
     "metadata": {
      "needs_background": "light"
     },
     "output_type": "display_data"
    }
   ],
   "source": [
    "# Посмотрим на распределение популярных жанров (топ-5) по деньгам\n",
    "df_for_bar = make_df_for_bar('genre', 'sales', 'sum', 5)\n",
    "\n",
    "fig, ax = plt.subplots(1)\n",
    "df_for_bar.plot(kind='bar', figsize=(16,8), ax=ax)\n",
    "ax.set_title('Количество продаж игр по ТОП-5 жанрам для каждого региона')\n",
    "ax.set_xlabel('Жанр')\n",
    "ax.set_ylabel('Сумма продаж')"
   ]
  },
  {
   "cell_type": "code",
   "execution_count": 43,
   "metadata": {},
   "outputs": [
    {
     "data": {
      "text/plain": [
       "Text(0, 0.5, 'Количество выпущенных игр')"
      ]
     },
     "execution_count": 43,
     "metadata": {},
     "output_type": "execute_result"
    },
    {
     "data": {
      "image/png": "[encoded data removed]",
      "text/plain": [
       "<Figure size 1152x576 with 1 Axes>"
      ]
     },
     "metadata": {
      "needs_background": "light"
     },
     "output_type": "display_data"
    }
   ],
   "source": [
    "# Посмотрим на распределение популярных жанров (топ-5) по количеству продаваемых игр\n",
    "df_for_bar = make_df_for_bar('genre', 'name', 'count', 5)\n",
    "\n",
    "# построим график\n",
    "fig, ax = plt.subplots(1)\n",
    "df_for_bar.plot(kind='bar', figsize=(16,8), ax=ax)\n",
    "ax.set_title('Количество выпущенных игр по ТОП-5 жанрам для каждого региона')\n",
    "ax.set_xlabel('Жанр')\n",
    "ax.set_ylabel('Количество выпущенных игр')"
   ]
  },
  {
   "cell_type": "markdown",
   "metadata": {},
   "source": [
    "**Промежуточный вывод**\n",
    "\n",
    "- В Японии больше всего ценят ролевые игры\n",
    "- Предпочтения в Америке и Европе, в целом, схожи\n",
    "- В целом, самым популярным жанром для любого региона можно считать Action\n",
    "- Спортивные игры и шутеры не отстают, но, что любопытно, Япония опять выделяется - там шутеры ценят не особо. Возможно, это как-то связано с местным законодательством.\n",
    "- И в той же Японии ценят приключенческие игры, которые получили третье место, но не попали в топ Америки и Европы"
   ]
  },
  {
   "cell_type": "code",
   "execution_count": 44,
   "metadata": {},
   "outputs": [],
   "source": [
    "# Посмотрим, влияет ли рейтинг ESRB на продажи в отдельном регионе\n",
    "pd.options.mode.chained_assignment = None\n",
    "\n",
    "def rating_to_number(value):\n",
    "    rating_dict = dict()\n",
    "    rating_dict['EC'] = 0\n",
    "    rating_dict['E'] = 1\n",
    "    rating_dict['E10+'] = 2\n",
    "    rating_dict['T'] = 3\n",
    "    rating_dict['M'] = 4\n",
    "    rating_dict['RP'] = 5\n",
    "    \n",
    "    return rating_dict[value]\n",
    "\n",
    "df_actual.reset_index(inplace=True)\n",
    "df_actual['rating_category'] = df_actual['rating'].apply(rating_to_number)\n",
    "\n",
    "# RP означает \"в ожидании рейтинга\". Такие игры нам не помогут, уберем их\n",
    "df_actual_not_rp = df_actual.query('rating != \"RP\"')\n",
    "df_actual_not_rp = df_actual_not_rp[['na_sales', 'jp_sales', 'eu_sales', 'rating_category']]"
   ]
  },
  {
   "cell_type": "code",
   "execution_count": 45,
   "metadata": {},
   "outputs": [
    {
     "data": {
      "text/html": [
       "<div>\n",
       "<style scoped>\n",
       "    .dataframe tbody tr th:only-of-type {\n",
       "        vertical-align: middle;\n",
       "    }\n",
       "\n",
       "    .dataframe tbody tr th {\n",
       "        vertical-align: top;\n",
       "    }\n",
       "\n",
       "    .dataframe thead th {\n",
       "        text-align: right;\n",
       "    }\n",
       "</style>\n",
       "<table border=\"1\" class=\"dataframe\">\n",
       "  <thead>\n",
       "    <tr style=\"text-align: right;\">\n",
       "      <th></th>\n",
       "      <th>na_sales</th>\n",
       "      <th>jp_sales</th>\n",
       "      <th>eu_sales</th>\n",
       "      <th>rating_category</th>\n",
       "    </tr>\n",
       "  </thead>\n",
       "  <tbody>\n",
       "    <tr>\n",
       "      <td>na_sales</td>\n",
       "      <td>1.000000</td>\n",
       "      <td>0.264362</td>\n",
       "      <td>0.735920</td>\n",
       "      <td>0.132351</td>\n",
       "    </tr>\n",
       "    <tr>\n",
       "      <td>jp_sales</td>\n",
       "      <td>0.264362</td>\n",
       "      <td>1.000000</td>\n",
       "      <td>0.188675</td>\n",
       "      <td>0.037620</td>\n",
       "    </tr>\n",
       "    <tr>\n",
       "      <td>eu_sales</td>\n",
       "      <td>0.735920</td>\n",
       "      <td>0.188675</td>\n",
       "      <td>1.000000</td>\n",
       "      <td>0.091044</td>\n",
       "    </tr>\n",
       "    <tr>\n",
       "      <td>rating_category</td>\n",
       "      <td>0.132351</td>\n",
       "      <td>0.037620</td>\n",
       "      <td>0.091044</td>\n",
       "      <td>1.000000</td>\n",
       "    </tr>\n",
       "  </tbody>\n",
       "</table>\n",
       "</div>"
      ],
      "text/plain": [
       "                 na_sales  jp_sales  eu_sales  rating_category\n",
       "na_sales         1.000000  0.264362  0.735920         0.132351\n",
       "jp_sales         0.264362  1.000000  0.188675         0.037620\n",
       "eu_sales         0.735920  0.188675  1.000000         0.091044\n",
       "rating_category  0.132351  0.037620  0.091044         1.000000"
      ]
     },
     "execution_count": 45,
     "metadata": {},
     "output_type": "execute_result"
    }
   ],
   "source": [
    "# Выведем матрицу корреляции\n",
    "df_actual_not_rp.corr()"
   ]
  },
  {
   "cell_type": "markdown",
   "metadata": {},
   "source": [
    "**Промежуточный вывод**\n",
    "\n",
    "Поскольку мы присваивали числовые значения рейтингу не просто так, а исходили из того, что чем число выше, тем рейтинг старше, то можно сказать следующее:\n",
    "\n",
    "1. Для Северной Америки и Европы чуть лучше продаются игры с более старшим рейтингом. Но эта корреляция не так сильно выражена, как в случае с Японией\n",
    "2. А вот в Японии рейтинг имеет огромное значение и гораздо лучше продаются игры с более \"детским\" рейтингом. Наглядное представление в разнице менталитетов."
   ]
  },
  {
   "cell_type": "markdown",
   "metadata": {},
   "source": [
    "# Проверим гипотезы\n",
    "\n",
    "## Средние пользовательские рейтинги платформ Xbox One и PC одинаковые\n",
    "\n",
    "Для начала сформулируем гипотезы H0 и H1.\n",
    "\n",
    "- **Гипотеза H0**: Средние пользовательские рейтинги платформ Xbox One и PC одинаковые (т.е. игры получает примерно равные оценки)\n",
    "- **Гипотеза H1**: Средние пользовательские рейтинги платформ Xbox One и PC различаются (т.е. игры в среднем получают разные оценки)\n",
    "\n",
    "Сформулируем это в коде"
   ]
  },
  {
   "cell_type": "code",
   "execution_count": 46,
   "metadata": {},
   "outputs": [],
   "source": [
    "from scipy import stats as st\n",
    "\n",
    "# Перенесем гипотезы в код\n",
    "H0 = 'Не можем отвергнуть гипотизу - средние пользовательские рейтинги платформ Xbox One и PC одинаковы'\n",
    "H1 = 'Отвергаем нулевую гипотезу, средние пользовательские рейтинги платформ Xbox One и PC различаются'\n",
    "\n",
    "# Зададим критический уровень статистической значимости в 5%\n",
    "# Почему именно в 5 - как одно из широко применяемых значений, точность в 1% в наших вопросах нам не нужна\n",
    "alpha = 0.05 \n",
    "\n",
    "# Подготовим выборки\n",
    "df_xbox_one = df_actual.query('platform == \"XOne\"')\n",
    "df_pc = df_actual.query('platform == \"PC\"')"
   ]
  },
  {
   "cell_type": "markdown",
   "metadata": {},
   "source": [
    "<a id=\"alteration2\">Убедимся, что мы можем использовать Т-криттерий стьюдента</a>"
   ]
  },
  {
   "cell_type": "code",
   "execution_count": 47,
   "metadata": {},
   "outputs": [
    {
     "data": {
      "text/plain": [
       "<matplotlib.axes._subplots.AxesSubplot at 0x7fc72e1e2a90>"
      ]
     },
     "execution_count": 47,
     "metadata": {},
     "output_type": "execute_result"
    },
    {
     "data": {
      "image/png": "[encoded data removed]",
      "text/plain": [
       "<Figure size 1152x576 with 1 Axes>"
      ]
     },
     "metadata": {
      "needs_background": "light"
     },
     "output_type": "display_data"
    }
   ],
   "source": [
    "# Посмотрим на распределение оценок\n",
    "df_xbox_one['user_score'].hist(bins=17, alpha=0.9, figsize=(16,8))\n",
    "df_pc['user_score'].hist(bins=20, alpha=0.4, figsize=(16,8))"
   ]
  },
  {
   "cell_type": "code",
   "execution_count": 48,
   "metadata": {},
   "outputs": [
    {
     "name": "stdout",
     "output_type": "stream",
     "text": [
      "PC count = 151\n",
      "Xbox count = 228\n"
     ]
    }
   ],
   "source": [
    "# Посмотрим на общее количество данных\n",
    "print('PC count =', df_pc['user_score'].count())\n",
    "print('Xbox count =', df_xbox_one['user_score'].count())"
   ]
  },
  {
   "cell_type": "markdown",
   "metadata": {},
   "source": [
    "<a id=\"notice1\">Ремарка</a>\n",
    "\n",
    "В нашем случае мы имеем количественные данные в двух независимых группах, которые распределены нормально. При этом наши выборки не сверхмалы и не содержат явных выбросов. Поэтому Т-криттерий Стьюдента нам подходит для использования."
   ]
  },
  {
   "cell_type": "code",
   "execution_count": 49,
   "metadata": {},
   "outputs": [
    {
     "name": "stdout",
     "output_type": "stream",
     "text": [
      "Не можем отвергнуть гипотизу - средние пользовательские рейтинги платформ Xbox One и PC одинаковы\n"
     ]
    }
   ],
   "source": [
    "# equal_var = False, т.к. различаются дисперсии выборок\n",
    "results = st.ttest_ind(df_xbox_one['user_score'], df_pc['user_score'], equal_var = False)\n",
    "\n",
    "if results.pvalue < alpha:\n",
    "    print(H1)\n",
    "else:\n",
    "    print(H0)"
   ]
  },
  {
   "cell_type": "code",
   "execution_count": 50,
   "metadata": {},
   "outputs": [
    {
     "name": "stdout",
     "output_type": "stream",
     "text": [
      "XBOX user score mean =  6.6798245614035086\n",
      "PC user score mean =  6.535761589403973\n"
     ]
    }
   ],
   "source": [
    "# Ради интереса посмотрим какие вообще средние оценки\n",
    "print('XBOX user score mean = ', df_xbox_one['user_score'].mean())\n",
    "print('PC user score mean = ', df_pc['user_score'].mean())"
   ]
  },
  {
   "cell_type": "markdown",
   "metadata": {},
   "source": [
    "## Средние пользовательские рейтинги жанров Action и Sports разные\n",
    "\n",
    "Для начала сформулируем гипотезы H0 и H1.\n",
    "\n",
    "- **Гипотеза H0**: Средние пользовательские рейтинги жанров Action и Sports одинаковы (т.е. жанры получают примерно равные оценки)\n",
    "- **Гипотеза H1**: Средние пользовательские рейтинги жанров Action и Sports различаются (т.е. данные жанры в среднем получают разные оценки)"
   ]
  },
  {
   "cell_type": "code",
   "execution_count": 51,
   "metadata": {},
   "outputs": [],
   "source": [
    "# Перенесем гипотезы в код\n",
    "H0 = 'Не можем отвергнуть гипотизу - cредние пользовательские рейтинги жанров Action и Sports одинаковы'\n",
    "H1 = 'Отвергаем нулевую гипотезу, cредние пользовательские рейтинги жанров Action и Sports различаются'\n",
    "\n",
    "# Подготовим выборки\n",
    "df_action = df_actual.query('genre == \"Action\"')\n",
    "df_sports = df_actual.query('genre == \"Sports\"')"
   ]
  },
  {
   "cell_type": "markdown",
   "metadata": {},
   "source": [
    "<a id=\"alteration3\">Также проверим распределение величин</a>"
   ]
  },
  {
   "cell_type": "code",
   "execution_count": 52,
   "metadata": {},
   "outputs": [
    {
     "data": {
      "text/plain": [
       "<matplotlib.axes._subplots.AxesSubplot at 0x7fc74b3bd710>"
      ]
     },
     "execution_count": 52,
     "metadata": {},
     "output_type": "execute_result"
    },
    {
     "data": {
      "image/png": "[encoded data removed]",
      "text/plain": [
       "<Figure size 1152x576 with 1 Axes>"
      ]
     },
     "metadata": {
      "needs_background": "light"
     },
     "output_type": "display_data"
    }
   ],
   "source": [
    "# Посмотрим на распределение оценок\n",
    "df_action['user_score'].hist(bins=20, alpha=0.9, figsize=(16,8))\n",
    "df_sports['user_score'].hist(bins=5, alpha=0.4, figsize=(16,8))"
   ]
  },
  {
   "cell_type": "code",
   "execution_count": 53,
   "metadata": {},
   "outputs": [
    {
     "name": "stdout",
     "output_type": "stream",
     "text": [
      "PC count = 619\n",
      "Xbox count = 161\n"
     ]
    }
   ],
   "source": [
    "# Посмотрим на общее количество данных\n",
    "print('PC count =', df_action['user_score'].count())\n",
    "print('Xbox count =', df_sports['user_score'].count())"
   ]
  },
  {
   "cell_type": "markdown",
   "metadata": {},
   "source": [
    "По <a href=\"#notice1\">аналогичной логике</a>, используем Т-криттерий стьюдента"
   ]
  },
  {
   "cell_type": "code",
   "execution_count": 54,
   "metadata": {},
   "outputs": [
    {
     "name": "stdout",
     "output_type": "stream",
     "text": [
      "Отвергаем нулевую гипотезу, cредние пользовательские рейтинги жанров Action и Sports различаются\n"
     ]
    }
   ],
   "source": [
    "# equal_var = true, т.к. совокупности по параметрам не различаются\n",
    "# критический уровень не переопределяем, оставим также 5 процентов\n",
    "results = st.ttest_ind(df_action['user_score'], df_sports['user_score'], equal_var = False)\n",
    "\n",
    "if results.pvalue < alpha:\n",
    "    print(H1)\n",
    "else:\n",
    "    print(H0)"
   ]
  },
  {
   "cell_type": "code",
   "execution_count": 55,
   "metadata": {
    "scrolled": true
   },
   "outputs": [
    {
     "name": "stdout",
     "output_type": "stream",
     "text": [
      "Action user score mean =  6.969951534733441\n",
      "Sports user score mean =  5.516149068322982\n"
     ]
    }
   ],
   "source": [
    "# Ради интереса посмотрим какие вообще средние оценки\n",
    "print('Action user score mean = ', df_action['user_score'].mean())\n",
    "print('Sports user score mean = ', df_sports['user_score'].mean())"
   ]
  },
  {
   "cell_type": "markdown",
   "metadata": {
    "pycharm": {
     "name": "#%% md\n"
    }
   },
   "source": [
    "# Общий вывод\n",
    "\n",
    "Мы провели хорошую работу, чтобы выявить закономерности, определяющий успех наших игр.\n",
    "\n",
    "**Для этого мы**\n",
    "1. Изучили наши данные. И хочется сказать спасибо человеку, выгружающему данные, в этом проекте набор не содержал каких-то критичных ошибок.\n",
    "2. Провели небольшую их подготовку, заполнили недостающие значения, удалили дубликаты и избавились от ненужных значений (TBD)\n",
    "3. Провели небольшое исследование наших данных\n",
    "   1. Выяснили, что средний срок жизни платформы 10 лет и нас интересуют данные не раньше 2006го года\n",
    "   2. Выделили три платформы, на которые стоит отдельно обратить внимание - PS4, Xbox One, PC\n",
    "   3. Обратили внимание, что в целом за весь период хорошо себя показывают консоли семейста PS (2, 3, 4)\n",
    "   4. Обнаружили, что оценки критиков оказывают более весомое влияние на продажи, чем оценки пользователей\n",
    "   5. Выяснили, что самыми прибыльными жанрами являются шутеры, платформеры, спортивные игры\n",
    "4. Отдельно исследовали предпочтения каждого из трех представленных регионов (Северной Америки, Европы и Японии)\n",
    "   1. Обнаружили, что самым прибыльным регионом является Северная Америка, а Япония приносит меньше всего денег\n",
    "   2. При этом в каждом регионе свои лидеры среди платформ по продажам\n",
    "      - В Северной Америке это X360\n",
    "      - В Японии - Nintendo DS\n",
    "      - В Европе - PS3\n",
    "   3. Самой прогрессивной по отношению к новым платформам можно считать Европу\n",
    "   4. Наиболее универсальной платформой для всех является PS3\n",
    "   5. Также, мы увидели, что предпочтения в самих играх у Европы и Америки, в целом, схожи, а вот в Японии явно выделяется любовь к ролевым и приключенческим играм. \n",
    "   6. И шутеры в Японии ценятся не особо, хотя очень любят в Европе и Америке\n",
    "   7. Общим по популярности жанром для каждого региона можно считать Action\n",
    "   8. Также мы обнаружили, что в Японии более консервативны в выборе игр и предпочитают игры с менее взрослым рейтингом, в то время как в Европе и Америке, чуть больше предпочтения отдается играм со взрослым рейтингом.\n",
    "5. Кроме этого, мы проверили наши гипотезы и выяснили, что\n",
    "   1. Средние пользовательские рейтинги платформ Xbox One и PC различаются\n",
    "   2. Также как и cредние пользовательские рейтинги жанров Action и Sports различаются\n",
    "\n",
    "**Возвращаясь к общему итогу**\n",
    "\n",
    "Целью нашего исследования было выявление закономерностей, определяющих успех игр, что в дальнейшем будет использоваться при планировании рекламных кампаний.\n",
    "\n",
    "Исходя из нашего исследования, стоит сделать ставку на:\n",
    "1. Игры жанра шутеры, платформеры и спортивные игры. Также стоит обратить внимание на жанр Action как наиболее универсальный для всех регионов\n",
    "2. Больше всего денег тратят на игры жители Северной Америке - поэтому в целом, стоит ориентироваться на этот рынок, как наиболее прибыльный. \n",
    "   - Однако стоит не забывать, что общие предпочтения схожи с Европой, поэтому рекламные кампании для этих двух регионов могут быть схожи. Т.е. можно попытаться сразу задействовать оба рынка.\n",
    "3. Япония слишком специфичный рынок, со своими предпочтениями, приносящий мало денег на общем фоне. Возможно, стоит исключить его из рекламных кампаний.\n",
    "4. Если говорить про платформу, на которую делать ставку в ближайшее время, то это явно **PS4**, т.к. она показывает хороший рост и вышла относительно недавно. К тому же, ее предшественники PS2 и PS3 продемонстрировали отличный финансовый результат и лидерство.\n",
    "   - Кроме того, не следует забывать, что в Северной Америке предпочитают X360, а значит потенциально там может чуть лучше выстрелить XOne. Т.е. если ориентироваться именно на рынок Америки, стоит сделать акцент сразу на две платформы - XOne и PS4.\n",
    "   - PC и Nintendo показывают хорошие сроки жизни, но низкую прибыль. Однако за их постоянство, стоит также выделить им определенный рекламный бюджет для страховки (чтобы не класть все яйца в одну корзину)\n",
    "   - Оставшиеся платформы или не приносят столько денег, или уже отживают свой срок жизни\n"
   ]
  }
 ],
 "metadata": {
  "kernelspec": {
   "display_name": "Python 3",
   "language": "python",
   "name": "python3"
  },
  "language_info": {
   "codemirror_mode": {
    "name": "ipython",
    "version": 3
   },
   "file_extension": ".py",
   "mimetype": "text/x-python",
   "name": "python",
   "nbconvert_exporter": "python",
   "pygments_lexer": "ipython3",
   "version": "3.7.8"
  },
  "toc": {
   "base_numbering": 1,
   "nav_menu": {},
   "number_sections": true,
   "sideBar": true,
   "skip_h1_title": true,
   "title_cell": "Table of Contents",
   "title_sidebar": "Contents",
   "toc_cell": false,
   "toc_position": {},
   "toc_section_display": true,
   "toc_window_display": false
  }
 },
 "nbformat": 4,
 "nbformat_minor": 2
}