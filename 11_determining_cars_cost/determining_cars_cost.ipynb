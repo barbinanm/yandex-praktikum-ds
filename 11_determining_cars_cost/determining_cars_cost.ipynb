{
 "cells": [
  {
   "cell_type": "markdown",
   "metadata": {},
   "source": [
    "Сервис по продаже автомобилей с пробегом «Не бит, не крашен» разрабатывает приложение для привлечения новых клиентов. В нём можно быстро узнать рыночную стоимость своего автомобиля. В вашем распоряжении исторические данные: технические характеристики, комплектации и цены автомобилей. Вам нужно построить модель для определения стоимости. \n",
    "\n",
    "Заказчику важны:\n",
    "\n",
    "- качество предсказания;\n",
    "- скорость предсказания;\n",
    "- время обучения."
   ]
  },
  {
   "cell_type": "markdown",
   "metadata": {},
   "source": [
    "# 1. Подготовка данных"
   ]
  },
  {
   "cell_type": "code",
   "execution_count": 1,
   "metadata": {},
   "outputs": [],
   "source": [
    "# Блок импорта\n",
    "import pandas as pd\n",
    "import numpy as np\n",
    "import matplotlib.pyplot as plt\n",
    "import math\n",
    "\n",
    "# Простые модели, на которых будем проверять\n",
    "from sklearn.tree import DecisionTreeRegressor\n",
    "from sklearn.ensemble import RandomForestRegressor\n",
    "from sklearn.linear_model import LinearRegression\n",
    "from sklearn.dummy import DummyRegressor\n",
    "\n",
    "# Возможный бонус\n",
    "from sklearn.linear_model import Ridge\n",
    "\n",
    "# Вспомогательные методы\n",
    "from sklearn.model_selection import train_test_split\n",
    "from sklearn.model_selection import GridSearchCV\n",
    "from sklearn.preprocessing import OneHotEncoder\n",
    "from sklearn.preprocessing import StandardScaler\n",
    "from sklearn.preprocessing import OrdinalEncoder\n",
    "from sklearn.preprocessing import LabelEncoder\n",
    "from sklearn.base import BaseEstimator\n",
    "from sklearn.metrics import mean_squared_error as mse\n",
    "from sklearn.metrics import  make_scorer\n",
    "\n",
    "# буст\n",
    "from catboost import CatBoostRegressor\n",
    "from lightgbm import LGBMRegressor\n",
    "import lightgbm as lgb"
   ]
  },
  {
   "cell_type": "code",
   "execution_count": 2,
   "metadata": {
    "scrolled": true
   },
   "outputs": [
    {
     "data": {
      "text/html": [
       "<div>\n",
       "<style scoped>\n",
       "    .dataframe tbody tr th:only-of-type {\n",
       "        vertical-align: middle;\n",
       "    }\n",
       "\n",
       "    .dataframe tbody tr th {\n",
       "        vertical-align: top;\n",
       "    }\n",
       "\n",
       "    .dataframe thead th {\n",
       "        text-align: right;\n",
       "    }\n",
       "</style>\n",
       "<table border=\"1\" class=\"dataframe\">\n",
       "  <thead>\n",
       "    <tr style=\"text-align: right;\">\n",
       "      <th></th>\n",
       "      <th>DateCrawled</th>\n",
       "      <th>Price</th>\n",
       "      <th>VehicleType</th>\n",
       "      <th>RegistrationYear</th>\n",
       "      <th>Gearbox</th>\n",
       "      <th>Power</th>\n",
       "      <th>Model</th>\n",
       "      <th>Kilometer</th>\n",
       "      <th>RegistrationMonth</th>\n",
       "      <th>FuelType</th>\n",
       "      <th>Brand</th>\n",
       "      <th>NotRepaired</th>\n",
       "      <th>DateCreated</th>\n",
       "      <th>NumberOfPictures</th>\n",
       "      <th>PostalCode</th>\n",
       "      <th>LastSeen</th>\n",
       "    </tr>\n",
       "  </thead>\n",
       "  <tbody>\n",
       "    <tr>\n",
       "      <td>0</td>\n",
       "      <td>2016-03-24 11:52:17</td>\n",
       "      <td>480</td>\n",
       "      <td>NaN</td>\n",
       "      <td>1993</td>\n",
       "      <td>manual</td>\n",
       "      <td>0</td>\n",
       "      <td>golf</td>\n",
       "      <td>150000</td>\n",
       "      <td>0</td>\n",
       "      <td>petrol</td>\n",
       "      <td>volkswagen</td>\n",
       "      <td>NaN</td>\n",
       "      <td>2016-03-24 00:00:00</td>\n",
       "      <td>0</td>\n",
       "      <td>70435</td>\n",
       "      <td>2016-04-07 03:16:57</td>\n",
       "    </tr>\n",
       "    <tr>\n",
       "      <td>1</td>\n",
       "      <td>2016-03-24 10:58:45</td>\n",
       "      <td>18300</td>\n",
       "      <td>coupe</td>\n",
       "      <td>2011</td>\n",
       "      <td>manual</td>\n",
       "      <td>190</td>\n",
       "      <td>NaN</td>\n",
       "      <td>125000</td>\n",
       "      <td>5</td>\n",
       "      <td>gasoline</td>\n",
       "      <td>audi</td>\n",
       "      <td>yes</td>\n",
       "      <td>2016-03-24 00:00:00</td>\n",
       "      <td>0</td>\n",
       "      <td>66954</td>\n",
       "      <td>2016-04-07 01:46:50</td>\n",
       "    </tr>\n",
       "    <tr>\n",
       "      <td>2</td>\n",
       "      <td>2016-03-14 12:52:21</td>\n",
       "      <td>9800</td>\n",
       "      <td>suv</td>\n",
       "      <td>2004</td>\n",
       "      <td>auto</td>\n",
       "      <td>163</td>\n",
       "      <td>grand</td>\n",
       "      <td>125000</td>\n",
       "      <td>8</td>\n",
       "      <td>gasoline</td>\n",
       "      <td>jeep</td>\n",
       "      <td>NaN</td>\n",
       "      <td>2016-03-14 00:00:00</td>\n",
       "      <td>0</td>\n",
       "      <td>90480</td>\n",
       "      <td>2016-04-05 12:47:46</td>\n",
       "    </tr>\n",
       "    <tr>\n",
       "      <td>3</td>\n",
       "      <td>2016-03-17 16:54:04</td>\n",
       "      <td>1500</td>\n",
       "      <td>small</td>\n",
       "      <td>2001</td>\n",
       "      <td>manual</td>\n",
       "      <td>75</td>\n",
       "      <td>golf</td>\n",
       "      <td>150000</td>\n",
       "      <td>6</td>\n",
       "      <td>petrol</td>\n",
       "      <td>volkswagen</td>\n",
       "      <td>no</td>\n",
       "      <td>2016-03-17 00:00:00</td>\n",
       "      <td>0</td>\n",
       "      <td>91074</td>\n",
       "      <td>2016-03-17 17:40:17</td>\n",
       "    </tr>\n",
       "    <tr>\n",
       "      <td>4</td>\n",
       "      <td>2016-03-31 17:25:20</td>\n",
       "      <td>3600</td>\n",
       "      <td>small</td>\n",
       "      <td>2008</td>\n",
       "      <td>manual</td>\n",
       "      <td>69</td>\n",
       "      <td>fabia</td>\n",
       "      <td>90000</td>\n",
       "      <td>7</td>\n",
       "      <td>gasoline</td>\n",
       "      <td>skoda</td>\n",
       "      <td>no</td>\n",
       "      <td>2016-03-31 00:00:00</td>\n",
       "      <td>0</td>\n",
       "      <td>60437</td>\n",
       "      <td>2016-04-06 10:17:21</td>\n",
       "    </tr>\n",
       "  </tbody>\n",
       "</table>\n",
       "</div>"
      ],
      "text/plain": [
       "           DateCrawled  Price VehicleType  RegistrationYear Gearbox  Power  \\\n",
       "0  2016-03-24 11:52:17    480         NaN              1993  manual      0   \n",
       "1  2016-03-24 10:58:45  18300       coupe              2011  manual    190   \n",
       "2  2016-03-14 12:52:21   9800         suv              2004    auto    163   \n",
       "3  2016-03-17 16:54:04   1500       small              2001  manual     75   \n",
       "4  2016-03-31 17:25:20   3600       small              2008  manual     69   \n",
       "\n",
       "   Model  Kilometer  RegistrationMonth  FuelType       Brand NotRepaired  \\\n",
       "0   golf     150000                  0    petrol  volkswagen         NaN   \n",
       "1    NaN     125000                  5  gasoline        audi         yes   \n",
       "2  grand     125000                  8  gasoline        jeep         NaN   \n",
       "3   golf     150000                  6    petrol  volkswagen          no   \n",
       "4  fabia      90000                  7  gasoline       skoda          no   \n",
       "\n",
       "           DateCreated  NumberOfPictures  PostalCode             LastSeen  \n",
       "0  2016-03-24 00:00:00                 0       70435  2016-04-07 03:16:57  \n",
       "1  2016-03-24 00:00:00                 0       66954  2016-04-07 01:46:50  \n",
       "2  2016-03-14 00:00:00                 0       90480  2016-04-05 12:47:46  \n",
       "3  2016-03-17 00:00:00                 0       91074  2016-03-17 17:40:17  \n",
       "4  2016-03-31 00:00:00                 0       60437  2016-04-06 10:17:21  "
      ]
     },
     "execution_count": 2,
     "metadata": {},
     "output_type": "execute_result"
    }
   ],
   "source": [
    "# Загрузим наши данные\n",
    "df = pd.read_csv('/datasets/autos.csv')\n",
    "df.head()"
   ]
  },
  {
   "cell_type": "markdown",
   "metadata": {},
   "source": [
    "    Сразу очевидно, что не все параметры будут нужны для нашей цели (определение стоимости автомобиля). Например, дата выгрузки анкеты или создания объявления. Также наличие фотографий может влиять на скорость продажи машины, но не на ее рыночную стоимость. Удалим их. Сомнительно, что большую роль сыграет месяц регистрации, но пока оставим, как есть."
   ]
  },
  {
   "cell_type": "code",
   "execution_count": 3,
   "metadata": {},
   "outputs": [
    {
     "data": {
      "text/html": [
       "<div>\n",
       "<style scoped>\n",
       "    .dataframe tbody tr th:only-of-type {\n",
       "        vertical-align: middle;\n",
       "    }\n",
       "\n",
       "    .dataframe tbody tr th {\n",
       "        vertical-align: top;\n",
       "    }\n",
       "\n",
       "    .dataframe thead th {\n",
       "        text-align: right;\n",
       "    }\n",
       "</style>\n",
       "<table border=\"1\" class=\"dataframe\">\n",
       "  <thead>\n",
       "    <tr style=\"text-align: right;\">\n",
       "      <th></th>\n",
       "      <th>Price</th>\n",
       "      <th>VehicleType</th>\n",
       "      <th>RegistrationYear</th>\n",
       "      <th>Gearbox</th>\n",
       "      <th>Power</th>\n",
       "      <th>Model</th>\n",
       "      <th>Kilometer</th>\n",
       "      <th>RegistrationMonth</th>\n",
       "      <th>FuelType</th>\n",
       "      <th>Brand</th>\n",
       "      <th>NotRepaired</th>\n",
       "    </tr>\n",
       "  </thead>\n",
       "  <tbody>\n",
       "    <tr>\n",
       "      <td>0</td>\n",
       "      <td>480</td>\n",
       "      <td>NaN</td>\n",
       "      <td>1993</td>\n",
       "      <td>manual</td>\n",
       "      <td>0</td>\n",
       "      <td>golf</td>\n",
       "      <td>150000</td>\n",
       "      <td>0</td>\n",
       "      <td>petrol</td>\n",
       "      <td>volkswagen</td>\n",
       "      <td>NaN</td>\n",
       "    </tr>\n",
       "    <tr>\n",
       "      <td>1</td>\n",
       "      <td>18300</td>\n",
       "      <td>coupe</td>\n",
       "      <td>2011</td>\n",
       "      <td>manual</td>\n",
       "      <td>190</td>\n",
       "      <td>NaN</td>\n",
       "      <td>125000</td>\n",
       "      <td>5</td>\n",
       "      <td>gasoline</td>\n",
       "      <td>audi</td>\n",
       "      <td>yes</td>\n",
       "    </tr>\n",
       "    <tr>\n",
       "      <td>2</td>\n",
       "      <td>9800</td>\n",
       "      <td>suv</td>\n",
       "      <td>2004</td>\n",
       "      <td>auto</td>\n",
       "      <td>163</td>\n",
       "      <td>grand</td>\n",
       "      <td>125000</td>\n",
       "      <td>8</td>\n",
       "      <td>gasoline</td>\n",
       "      <td>jeep</td>\n",
       "      <td>NaN</td>\n",
       "    </tr>\n",
       "    <tr>\n",
       "      <td>3</td>\n",
       "      <td>1500</td>\n",
       "      <td>small</td>\n",
       "      <td>2001</td>\n",
       "      <td>manual</td>\n",
       "      <td>75</td>\n",
       "      <td>golf</td>\n",
       "      <td>150000</td>\n",
       "      <td>6</td>\n",
       "      <td>petrol</td>\n",
       "      <td>volkswagen</td>\n",
       "      <td>no</td>\n",
       "    </tr>\n",
       "    <tr>\n",
       "      <td>4</td>\n",
       "      <td>3600</td>\n",
       "      <td>small</td>\n",
       "      <td>2008</td>\n",
       "      <td>manual</td>\n",
       "      <td>69</td>\n",
       "      <td>fabia</td>\n",
       "      <td>90000</td>\n",
       "      <td>7</td>\n",
       "      <td>gasoline</td>\n",
       "      <td>skoda</td>\n",
       "      <td>no</td>\n",
       "    </tr>\n",
       "  </tbody>\n",
       "</table>\n",
       "</div>"
      ],
      "text/plain": [
       "   Price VehicleType  RegistrationYear Gearbox  Power  Model  Kilometer  \\\n",
       "0    480         NaN              1993  manual      0   golf     150000   \n",
       "1  18300       coupe              2011  manual    190    NaN     125000   \n",
       "2   9800         suv              2004    auto    163  grand     125000   \n",
       "3   1500       small              2001  manual     75   golf     150000   \n",
       "4   3600       small              2008  manual     69  fabia      90000   \n",
       "\n",
       "   RegistrationMonth  FuelType       Brand NotRepaired  \n",
       "0                  0    petrol  volkswagen         NaN  \n",
       "1                  5  gasoline        audi         yes  \n",
       "2                  8  gasoline        jeep         NaN  \n",
       "3                  6    petrol  volkswagen          no  \n",
       "4                  7  gasoline       skoda          no  "
      ]
     },
     "execution_count": 3,
     "metadata": {},
     "output_type": "execute_result"
    }
   ],
   "source": [
    "del df['DateCrawled'], df['DateCreated'], df['NumberOfPictures'], df['PostalCode'], df['LastSeen']\n",
    "df.head()"
   ]
  },
  {
   "cell_type": "code",
   "execution_count": 5,
   "metadata": {},
   "outputs": [
    {
     "name": "stdout",
     "output_type": "stream",
     "text": [
      "<class 'pandas.core.frame.DataFrame'>\n",
      "RangeIndex: 354369 entries, 0 to 354368\n",
      "Data columns (total 11 columns):\n",
      "Price                354369 non-null int64\n",
      "VehicleType          316879 non-null object\n",
      "RegistrationYear     354369 non-null int64\n",
      "Gearbox              334536 non-null object\n",
      "Power                354369 non-null int64\n",
      "Model                334664 non-null object\n",
      "Kilometer            354369 non-null int64\n",
      "RegistrationMonth    354369 non-null int64\n",
      "FuelType             321474 non-null object\n",
      "Brand                354369 non-null object\n",
      "NotRepaired          283215 non-null object\n",
      "dtypes: int64(5), object(6)\n",
      "memory usage: 29.7+ MB\n"
     ]
    }
   ],
   "source": [
    "# Посмотрим инфо по интересующим нас данным\n",
    "df.info()"
   ]
  },
  {
   "cell_type": "code",
   "execution_count": 6,
   "metadata": {},
   "outputs": [
    {
     "data": {
      "text/html": [
       "<div>\n",
       "<style scoped>\n",
       "    .dataframe tbody tr th:only-of-type {\n",
       "        vertical-align: middle;\n",
       "    }\n",
       "\n",
       "    .dataframe tbody tr th {\n",
       "        vertical-align: top;\n",
       "    }\n",
       "\n",
       "    .dataframe thead th {\n",
       "        text-align: right;\n",
       "    }\n",
       "</style>\n",
       "<table border=\"1\" class=\"dataframe\">\n",
       "  <thead>\n",
       "    <tr style=\"text-align: right;\">\n",
       "      <th></th>\n",
       "      <th>Price</th>\n",
       "      <th>RegistrationYear</th>\n",
       "      <th>Power</th>\n",
       "      <th>Kilometer</th>\n",
       "      <th>RegistrationMonth</th>\n",
       "    </tr>\n",
       "  </thead>\n",
       "  <tbody>\n",
       "    <tr>\n",
       "      <td>count</td>\n",
       "      <td>354369.000000</td>\n",
       "      <td>354369.000000</td>\n",
       "      <td>354369.000000</td>\n",
       "      <td>354369.000000</td>\n",
       "      <td>354369.000000</td>\n",
       "    </tr>\n",
       "    <tr>\n",
       "      <td>mean</td>\n",
       "      <td>4416.656776</td>\n",
       "      <td>2004.234448</td>\n",
       "      <td>110.094337</td>\n",
       "      <td>128211.172535</td>\n",
       "      <td>5.714645</td>\n",
       "    </tr>\n",
       "    <tr>\n",
       "      <td>std</td>\n",
       "      <td>4514.158514</td>\n",
       "      <td>90.227958</td>\n",
       "      <td>189.850405</td>\n",
       "      <td>37905.341530</td>\n",
       "      <td>3.726421</td>\n",
       "    </tr>\n",
       "    <tr>\n",
       "      <td>min</td>\n",
       "      <td>0.000000</td>\n",
       "      <td>1000.000000</td>\n",
       "      <td>0.000000</td>\n",
       "      <td>5000.000000</td>\n",
       "      <td>0.000000</td>\n",
       "    </tr>\n",
       "    <tr>\n",
       "      <td>25%</td>\n",
       "      <td>1050.000000</td>\n",
       "      <td>1999.000000</td>\n",
       "      <td>69.000000</td>\n",
       "      <td>125000.000000</td>\n",
       "      <td>3.000000</td>\n",
       "    </tr>\n",
       "    <tr>\n",
       "      <td>50%</td>\n",
       "      <td>2700.000000</td>\n",
       "      <td>2003.000000</td>\n",
       "      <td>105.000000</td>\n",
       "      <td>150000.000000</td>\n",
       "      <td>6.000000</td>\n",
       "    </tr>\n",
       "    <tr>\n",
       "      <td>75%</td>\n",
       "      <td>6400.000000</td>\n",
       "      <td>2008.000000</td>\n",
       "      <td>143.000000</td>\n",
       "      <td>150000.000000</td>\n",
       "      <td>9.000000</td>\n",
       "    </tr>\n",
       "    <tr>\n",
       "      <td>max</td>\n",
       "      <td>20000.000000</td>\n",
       "      <td>9999.000000</td>\n",
       "      <td>20000.000000</td>\n",
       "      <td>150000.000000</td>\n",
       "      <td>12.000000</td>\n",
       "    </tr>\n",
       "  </tbody>\n",
       "</table>\n",
       "</div>"
      ],
      "text/plain": [
       "               Price  RegistrationYear          Power      Kilometer  \\\n",
       "count  354369.000000     354369.000000  354369.000000  354369.000000   \n",
       "mean     4416.656776       2004.234448     110.094337  128211.172535   \n",
       "std      4514.158514         90.227958     189.850405   37905.341530   \n",
       "min         0.000000       1000.000000       0.000000    5000.000000   \n",
       "25%      1050.000000       1999.000000      69.000000  125000.000000   \n",
       "50%      2700.000000       2003.000000     105.000000  150000.000000   \n",
       "75%      6400.000000       2008.000000     143.000000  150000.000000   \n",
       "max     20000.000000       9999.000000   20000.000000  150000.000000   \n",
       "\n",
       "       RegistrationMonth  \n",
       "count      354369.000000  \n",
       "mean            5.714645  \n",
       "std             3.726421  \n",
       "min             0.000000  \n",
       "25%             3.000000  \n",
       "50%             6.000000  \n",
       "75%             9.000000  \n",
       "max            12.000000  "
      ]
     },
     "execution_count": 6,
     "metadata": {},
     "output_type": "execute_result"
    }
   ],
   "source": [
    "# Посмотрим распределения значений\n",
    "df.describe()"
   ]
  },
  {
   "cell_type": "markdown",
   "metadata": {},
   "source": [
    "    Видим, что\n",
    "    1. С типами в целом, всё в порядке\n",
    "    2. Есть много пропущенный значений. И если для CatBoost это не проблема, то для более простых моделей все равно потребуется обработка\n",
    "    3. Есть явные выбросы в обе стороны у лошадинных сил и года регистрации. Также нулевой месяц регистрации вызывает вопросы\n",
    "    \n",
    "    Начнем с обработки выбросов."
   ]
  },
  {
   "cell_type": "code",
   "execution_count": 7,
   "metadata": {},
   "outputs": [
    {
     "data": {
      "text/plain": [
       "0     37352\n",
       "3     34373\n",
       "6     31508\n",
       "4     29270\n",
       "5     29153\n",
       "7     27213\n",
       "10    26099\n",
       "12    24289\n",
       "11    24186\n",
       "9     23813\n",
       "1     23219\n",
       "8     22627\n",
       "2     21267\n",
       "Name: RegistrationMonth, dtype: int64"
      ]
     },
     "execution_count": 7,
     "metadata": {},
     "output_type": "execute_result"
    }
   ],
   "source": [
    "df['RegistrationMonth'].value_counts()"
   ]
  },
  {
   "cell_type": "markdown",
   "metadata": {},
   "source": [
    "    Поскольку у нас целых 37000+ нулевых значений, просто так удалять мы их пока не будем (т.к. это грубо 9% всех данных) будем считать 0 отсутствием данных о месяце."
   ]
  },
  {
   "cell_type": "code",
   "execution_count": 8,
   "metadata": {},
   "outputs": [
    {
     "data": {
      "image/png": "[encoded data removed]",
      "text/plain": [
       "<Figure size 1152x576 with 1 Axes>"
      ]
     },
     "metadata": {
      "needs_background": "light"
     },
     "output_type": "display_data"
    }
   ],
   "source": [
    "fig, ax = plt.subplots(1)\n",
    "ax.set_title('Распределение объявлений по мощности')\n",
    "ax.set_xlabel('Лошадинных сил')\n",
    "ax.set_ylabel('Количество объявлений')\n",
    "_, bp = df['Power'].plot(kind='box', figsize=(16,8), ax=ax, return_type='both')"
   ]
  },
  {
   "cell_type": "code",
   "execution_count": 9,
   "metadata": {},
   "outputs": [
    {
     "data": {
      "text/html": [
       "<div>\n",
       "<style scoped>\n",
       "    .dataframe tbody tr th:only-of-type {\n",
       "        vertical-align: middle;\n",
       "    }\n",
       "\n",
       "    .dataframe tbody tr th {\n",
       "        vertical-align: top;\n",
       "    }\n",
       "\n",
       "    .dataframe thead th {\n",
       "        text-align: right;\n",
       "    }\n",
       "</style>\n",
       "<table border=\"1\" class=\"dataframe\">\n",
       "  <thead>\n",
       "    <tr style=\"text-align: right;\">\n",
       "      <th></th>\n",
       "      <th>Price</th>\n",
       "      <th>VehicleType</th>\n",
       "      <th>RegistrationYear</th>\n",
       "      <th>Gearbox</th>\n",
       "      <th>Power</th>\n",
       "      <th>Model</th>\n",
       "      <th>Kilometer</th>\n",
       "      <th>RegistrationMonth</th>\n",
       "      <th>FuelType</th>\n",
       "      <th>Brand</th>\n",
       "      <th>NotRepaired</th>\n",
       "    </tr>\n",
       "  </thead>\n",
       "  <tbody>\n",
       "    <tr>\n",
       "      <td>7661</td>\n",
       "      <td>1499</td>\n",
       "      <td>small</td>\n",
       "      <td>1999</td>\n",
       "      <td>manual</td>\n",
       "      <td>7515</td>\n",
       "      <td>lupo</td>\n",
       "      <td>150000</td>\n",
       "      <td>4</td>\n",
       "      <td>petrol</td>\n",
       "      <td>volkswagen</td>\n",
       "      <td>NaN</td>\n",
       "    </tr>\n",
       "    <tr>\n",
       "      <td>11039</td>\n",
       "      <td>0</td>\n",
       "      <td>sedan</td>\n",
       "      <td>1998</td>\n",
       "      <td>manual</td>\n",
       "      <td>10317</td>\n",
       "      <td>other</td>\n",
       "      <td>150000</td>\n",
       "      <td>8</td>\n",
       "      <td>petrol</td>\n",
       "      <td>fiat</td>\n",
       "      <td>no</td>\n",
       "    </tr>\n",
       "    <tr>\n",
       "      <td>19092</td>\n",
       "      <td>9750</td>\n",
       "      <td>wagon</td>\n",
       "      <td>2005</td>\n",
       "      <td>auto</td>\n",
       "      <td>2729</td>\n",
       "      <td>5er</td>\n",
       "      <td>150000</td>\n",
       "      <td>7</td>\n",
       "      <td>gasoline</td>\n",
       "      <td>bmw</td>\n",
       "      <td>no</td>\n",
       "    </tr>\n",
       "    <tr>\n",
       "      <td>25232</td>\n",
       "      <td>10900</td>\n",
       "      <td>bus</td>\n",
       "      <td>2009</td>\n",
       "      <td>manual</td>\n",
       "      <td>10520</td>\n",
       "      <td>caddy</td>\n",
       "      <td>150000</td>\n",
       "      <td>6</td>\n",
       "      <td>gasoline</td>\n",
       "      <td>volkswagen</td>\n",
       "      <td>no</td>\n",
       "    </tr>\n",
       "    <tr>\n",
       "      <td>33952</td>\n",
       "      <td>3740</td>\n",
       "      <td>small</td>\n",
       "      <td>2006</td>\n",
       "      <td>manual</td>\n",
       "      <td>6920</td>\n",
       "      <td>aygo</td>\n",
       "      <td>90000</td>\n",
       "      <td>10</td>\n",
       "      <td>NaN</td>\n",
       "      <td>toyota</td>\n",
       "      <td>no</td>\n",
       "    </tr>\n",
       "    <tr>\n",
       "      <td>36206</td>\n",
       "      <td>5400</td>\n",
       "      <td>NaN</td>\n",
       "      <td>2017</td>\n",
       "      <td>manual</td>\n",
       "      <td>2017</td>\n",
       "      <td>transporter</td>\n",
       "      <td>150000</td>\n",
       "      <td>8</td>\n",
       "      <td>gasoline</td>\n",
       "      <td>volkswagen</td>\n",
       "      <td>NaN</td>\n",
       "    </tr>\n",
       "    <tr>\n",
       "      <td>44520</td>\n",
       "      <td>2500</td>\n",
       "      <td>convertible</td>\n",
       "      <td>1998</td>\n",
       "      <td>manual</td>\n",
       "      <td>7512</td>\n",
       "      <td>golf</td>\n",
       "      <td>150000</td>\n",
       "      <td>6</td>\n",
       "      <td>NaN</td>\n",
       "      <td>volkswagen</td>\n",
       "      <td>NaN</td>\n",
       "    </tr>\n",
       "    <tr>\n",
       "      <td>45053</td>\n",
       "      <td>15800</td>\n",
       "      <td>convertible</td>\n",
       "      <td>2014</td>\n",
       "      <td>auto</td>\n",
       "      <td>10218</td>\n",
       "      <td>fortwo</td>\n",
       "      <td>30000</td>\n",
       "      <td>3</td>\n",
       "      <td>petrol</td>\n",
       "      <td>smart</td>\n",
       "      <td>NaN</td>\n",
       "    </tr>\n",
       "    <tr>\n",
       "      <td>45216</td>\n",
       "      <td>1690</td>\n",
       "      <td>sedan</td>\n",
       "      <td>1999</td>\n",
       "      <td>manual</td>\n",
       "      <td>7544</td>\n",
       "      <td>golf</td>\n",
       "      <td>125000</td>\n",
       "      <td>12</td>\n",
       "      <td>petrol</td>\n",
       "      <td>volkswagen</td>\n",
       "      <td>NaN</td>\n",
       "    </tr>\n",
       "    <tr>\n",
       "      <td>53158</td>\n",
       "      <td>1200</td>\n",
       "      <td>small</td>\n",
       "      <td>2001</td>\n",
       "      <td>manual</td>\n",
       "      <td>5411</td>\n",
       "      <td>seicento</td>\n",
       "      <td>150000</td>\n",
       "      <td>2</td>\n",
       "      <td>NaN</td>\n",
       "      <td>fiat</td>\n",
       "      <td>no</td>\n",
       "    </tr>\n",
       "  </tbody>\n",
       "</table>\n",
       "</div>"
      ],
      "text/plain": [
       "       Price  VehicleType  RegistrationYear Gearbox  Power        Model  \\\n",
       "7661    1499        small              1999  manual   7515         lupo   \n",
       "11039      0        sedan              1998  manual  10317        other   \n",
       "19092   9750        wagon              2005    auto   2729          5er   \n",
       "25232  10900          bus              2009  manual  10520        caddy   \n",
       "33952   3740        small              2006  manual   6920         aygo   \n",
       "36206   5400          NaN              2017  manual   2017  transporter   \n",
       "44520   2500  convertible              1998  manual   7512         golf   \n",
       "45053  15800  convertible              2014    auto  10218       fortwo   \n",
       "45216   1690        sedan              1999  manual   7544         golf   \n",
       "53158   1200        small              2001  manual   5411     seicento   \n",
       "\n",
       "       Kilometer  RegistrationMonth  FuelType       Brand NotRepaired  \n",
       "7661      150000                  4    petrol  volkswagen         NaN  \n",
       "11039     150000                  8    petrol        fiat          no  \n",
       "19092     150000                  7  gasoline         bmw          no  \n",
       "25232     150000                  6  gasoline  volkswagen          no  \n",
       "33952      90000                 10       NaN      toyota          no  \n",
       "36206     150000                  8  gasoline  volkswagen         NaN  \n",
       "44520     150000                  6       NaN  volkswagen         NaN  \n",
       "45053      30000                  3    petrol       smart         NaN  \n",
       "45216     125000                 12    petrol  volkswagen         NaN  \n",
       "53158     150000                  2       NaN        fiat          no  "
      ]
     },
     "execution_count": 9,
     "metadata": {},
     "output_type": "execute_result"
    }
   ],
   "source": [
    "# С помощью гугления было выяснено, что самая большая мощность серийного автомобиля - 2000 лошадинных сил\n",
    "# тем не менее, посмотрим, какие у нас тут представлены данные\n",
    "\n",
    "df[df['Power'] > 2000].head(10)"
   ]
  },
  {
   "cell_type": "markdown",
   "metadata": {},
   "source": [
    "    Изучив несколько из представленных машин, я понял, что мощность можно исправить только у fiat seicento (выглядит так, что умножили на 100). Где-то в мощности продублирован год, но в остальном выглядит так, что это какие-то случайные значения, поэтому тут мы ничего исправить не можем ориентируясь на них, но можем ориентируясь на остальные данные.\n",
    "    \n",
    "    Для начала посмотрим наши границы.\n",
    "    \n",
    "    "
   ]
  },
  {
   "cell_type": "code",
   "execution_count": 10,
   "metadata": {},
   "outputs": [
    {
     "data": {
      "text/plain": [
       "254.0"
      ]
     },
     "execution_count": 10,
     "metadata": {},
     "output_type": "execute_result"
    }
   ],
   "source": [
    "whiskers = [whiskers.get_ydata() for whiskers in bp[\"whiskers\"]]\n",
    "whiskers[1][1]"
   ]
  },
  {
   "cell_type": "code",
   "execution_count": 11,
   "metadata": {},
   "outputs": [
    {
     "data": {
      "text/plain": [
       "1534"
      ]
     },
     "execution_count": 11,
     "metadata": {},
     "output_type": "execute_result"
    }
   ],
   "source": [
    "# возьмем за отсечку кайен с его 340 л.с.\n",
    "df[df['Power'] > 340]['Brand'].count()"
   ]
  },
  {
   "cell_type": "code",
   "execution_count": 12,
   "metadata": {},
   "outputs": [
    {
     "data": {
      "text/plain": [
       "0     40225\n",
       "60    15897\n",
       "54     5745\n",
       "50     4627\n",
       "58     3854\n",
       "      ...  \n",
       "21        6\n",
       "9         5\n",
       "28        5\n",
       "32        5\n",
       "22        5\n",
       "Name: Power, Length: 69, dtype: int64"
      ]
     },
     "execution_count": 12,
     "metadata": {},
     "output_type": "execute_result"
    }
   ],
   "source": [
    "# Рассмотрим минимальные значения\n",
    "df[df['Power'] < whiskers[0][0]]['Power'].value_counts()"
   ]
  },
  {
   "cell_type": "markdown",
   "metadata": {},
   "source": [
    "    В данном случае 40к+ нулевых значений дают о себе знать. Судя по всему это 40000 неуказанных мощностей. Однако, мощность зачастую зависит от модели и года выпуска, а значит мы можем попробовать заполнить эти данные по уже имеющимся. И если где-то это не получится, рассмотрим вариант удаления этих значений"
   ]
  },
  {
   "cell_type": "code",
   "execution_count": 13,
   "metadata": {},
   "outputs": [
    {
     "data": {
      "text/plain": [
       "Brand               42667\n",
       "Model               35893\n",
       "RegistrationYear    42667\n",
       "dtype: int64"
      ]
     },
     "execution_count": 13,
     "metadata": {},
     "output_type": "execute_result"
    }
   ],
   "source": [
    "def calculate_power(df, brand, model, year):\n",
    "    df_part = df[(df['RegistrationYear'] == year) & (df['Brand'] == brand) & (df['Model'] == model)]\n",
    "    if (df_part['Power'].count() == 0):\n",
    "        # если не нашли по году, бренду и модели, пробуем только по бренду + модели\n",
    "        df_part = df[(df['Brand'] == brand) & (df['Model'] == model)]\n",
    "    \n",
    "    median_power = df_part['Power'].median()\n",
    "    \n",
    "    if (math.isnan(median_power)):\n",
    "        median_power = 0\n",
    "        \n",
    "    return median_power\n",
    "\n",
    "# Попробуем заполнить мощность для наших плохих данных\n",
    "bad_power_df = df[(df['Power'] < 30) | (df['Power'] > 340)][['Brand', 'Model', 'RegistrationYear']]\n",
    "bad_power_df.count()"
   ]
  },
  {
   "cell_type": "code",
   "execution_count": 14,
   "metadata": {},
   "outputs": [],
   "source": [
    "# Заполним незаполненные модели категорией other\n",
    "bad_power_df['Model'] = bad_power_df['Model'].fillna('other')"
   ]
  },
  {
   "cell_type": "code",
   "execution_count": 15,
   "metadata": {},
   "outputs": [
    {
     "data": {
      "text/plain": [
       "Brand               4758\n",
       "Model               4758\n",
       "RegistrationYear    4758\n",
       "dtype: int64"
      ]
     },
     "execution_count": 15,
     "metadata": {},
     "output_type": "execute_result"
    }
   ],
   "source": [
    "bad_power_df = bad_power_df.drop_duplicates()\n",
    "bad_power_df.count()"
   ]
  },
  {
   "cell_type": "code",
   "execution_count": 16,
   "metadata": {},
   "outputs": [
    {
     "name": "stdout",
     "output_type": "stream",
     "text": [
      "CPU times: user 7min 42s, sys: 272 ms, total: 7min 43s\n",
      "Wall time: 7min 45s\n"
     ]
    }
   ],
   "source": [
    "%%time\n",
    "\n",
    "for row in bad_power_df.itertuples(index=True, name='Pandas'):\n",
    "    year = getattr(row, \"RegistrationYear\")\n",
    "    brand = getattr(row, \"Brand\")\n",
    "    model = getattr(row, \"Model\")\n",
    "    median = calculate_power(df, brand, model, year)\n",
    "    searchRow = ((df['Power'] < 30) | (df['Power'] > 340)) & (df['Brand'] == brand) & (df['Model'] == model) & (df['RegistrationYear'] == year)\n",
    "    df.loc[searchRow, 'Power'] = median"
   ]
  },
  {
   "cell_type": "code",
   "execution_count": 17,
   "metadata": {},
   "outputs": [
    {
     "data": {
      "text/plain": [
       "7755"
      ]
     },
     "execution_count": 17,
     "metadata": {},
     "output_type": "execute_result"
    }
   ],
   "source": [
    "# Посмотрим, сколько нулевых значений осталось\n",
    "df[df['Power'] == 0]['Price'].count()"
   ]
  },
  {
   "cell_type": "code",
   "execution_count": 18,
   "metadata": {},
   "outputs": [],
   "source": [
    "# Остались только какие-то уникальные модели, которые не встретились в остальной выборке, удалим их\n",
    "df = df[df['Power'] != 0]"
   ]
  },
  {
   "cell_type": "code",
   "execution_count": 19,
   "metadata": {},
   "outputs": [
    {
     "data": {
      "image/png": "[encoded data removed]",
      "text/plain": [
       "<Figure size 1152x576 with 1 Axes>"
      ]
     },
     "metadata": {
      "needs_background": "light"
     },
     "output_type": "display_data"
    }
   ],
   "source": [
    "# Разберемся с годами\n",
    "fig, ax = plt.subplots(1)\n",
    "ax.set_title('Распределение объявлений по мощности')\n",
    "ax.set_xlabel('Год регистрации')\n",
    "ax.set_ylabel('Количество объявлений')\n",
    "_, bp = df['RegistrationYear'].plot(kind='box', figsize=(16,8), ax=ax, return_type='both')"
   ]
  },
  {
   "cell_type": "code",
   "execution_count": 20,
   "metadata": {},
   "outputs": [
    {
     "data": {
      "text/plain": [
       "2726"
      ]
     },
     "execution_count": 20,
     "metadata": {},
     "output_type": "execute_result"
    }
   ],
   "source": [
    "# Выберем только значения в диапазоне от 2020 года (остальные вряд ли возможны) \n",
    "# и от 1980 (меньше также вряд ли возможны и нам интересны)\n",
    "\n",
    "df[(df['RegistrationYear'] < 1980) | (df['RegistrationYear'] > 2020)]['Price'].count()"
   ]
  },
  {
   "cell_type": "code",
   "execution_count": 21,
   "metadata": {},
   "outputs": [],
   "source": [
    "# Поскольку восстановить эти данные проблема, удалим их\n",
    "df = df[(df['RegistrationYear'] >= 1980) | (df['RegistrationYear'] <= 2020)]"
   ]
  },
  {
   "cell_type": "code",
   "execution_count": 22,
   "metadata": {},
   "outputs": [
    {
     "data": {
      "image/png": "[encoded data removed]",
      "text/plain": [
       "<Figure size 1152x576 with 1 Axes>"
      ]
     },
     "metadata": {
      "needs_background": "light"
     },
     "output_type": "display_data"
    }
   ],
   "source": [
    "# Посмотрим на boxplot\n",
    "fig, ax = plt.subplots(1)\n",
    "ax.set_title('Распределение объявлений по мощности')\n",
    "ax.set_xlabel('цена')\n",
    "ax.set_ylabel('Количество объявлений')\n",
    "_, bp = df['Price'].plot(kind='box', figsize=(16,8), ax=ax, return_type='both')"
   ]
  },
  {
   "cell_type": "code",
   "execution_count": 23,
   "metadata": {},
   "outputs": [
    {
     "data": {
      "text/plain": [
       "0    9317\n",
       "1     988\n",
       "5      23\n",
       "2       9\n",
       "9       6\n",
       "3       5\n",
       "7       2\n",
       "8       1\n",
       "Name: Price, dtype: int64"
      ]
     },
     "execution_count": 23,
     "metadata": {},
     "output_type": "execute_result"
    }
   ],
   "source": [
    "# Посмотрим, что у нас с ценой (есть нулевые значения)\n",
    "df[df['Price'] < 10]['Price'].value_counts()"
   ]
  },
  {
   "cell_type": "code",
   "execution_count": 24,
   "metadata": {},
   "outputs": [
    {
     "data": {
      "text/plain": [
       "Brand               2379\n",
       "Model               2379\n",
       "RegistrationYear    2379\n",
       "dtype: int64"
      ]
     },
     "execution_count": 24,
     "metadata": {},
     "output_type": "execute_result"
    }
   ],
   "source": [
    "# По верхней границе находятся в основном audi, bmw и т.д.\n",
    "# Есть исключения, но выделять их отдельно проблематично, оставим как есть\n",
    "# А вот нулевые цены представляют реальную проблему, обработаем их по аналогии с мощностью двигателя,\n",
    "# Но возьмем на этот раз не медиану, а среднее\n",
    "\n",
    "def calculate_price(df, brand, model, year):\n",
    "    # в среднем не будем рассчитывать нулевые значения\n",
    "    df_part = df[(df['Price'] >= 10) & (df['RegistrationYear'] == year) & (df['Brand'] == brand) & (df['Model'] == model)]\n",
    "    if (df_part['Price'].count() == 0):\n",
    "        # если не нашли по году, бренду и модели, пробуем только по бренду + модели\n",
    "        df_part = df[(df['Price'] >= 10) & (df['Brand'] == brand) & (df['Model'] == model)]\n",
    "    \n",
    "    mean_price = df_part['Price'].mean()\n",
    "    \n",
    "    if (math.isnan(mean_price)):\n",
    "        mean_price = 0\n",
    "        \n",
    "    return mean_price\n",
    "\n",
    "# Попробуем заполнить мощность для наших плохих данных\n",
    "bad_price_df = df[df['Price'] < 10][['Brand', 'Model', 'RegistrationYear']]\n",
    "bad_price_df['Model'] = bad_price_df['Model'].fillna('other')\n",
    "bad_price_df = bad_price_df.drop_duplicates()\n",
    "bad_price_df.count()"
   ]
  },
  {
   "cell_type": "code",
   "execution_count": 25,
   "metadata": {},
   "outputs": [
    {
     "name": "stdout",
     "output_type": "stream",
     "text": [
      "CPU times: user 3min 48s, sys: 276 ms, total: 3min 48s\n",
      "Wall time: 3min 50s\n"
     ]
    },
    {
     "data": {
      "text/plain": [
       "1003"
      ]
     },
     "execution_count": 25,
     "metadata": {},
     "output_type": "execute_result"
    }
   ],
   "source": [
    "%%time\n",
    "\n",
    "for row in bad_price_df.itertuples(index=True, name='Pandas'):\n",
    "    year = getattr(row, \"RegistrationYear\")\n",
    "    brand = getattr(row, \"Brand\")\n",
    "    model = getattr(row, \"Model\")\n",
    "    mean_price = calculate_price(df, brand, model, year)\n",
    "    searchRow = (df['Price'] < 15) & (df['Brand'] == brand) & (df['Model'] == model) & (df['RegistrationYear'] == year)\n",
    "    df.loc[searchRow, 'Price'] = mean_price\n",
    "    \n",
    "df[df['Price'] < 10]['Price'].count()"
   ]
  },
  {
   "cell_type": "code",
   "execution_count": 26,
   "metadata": {},
   "outputs": [],
   "source": [
    "# Осталось совсем немного кривых данных, удалим их\n",
    "df = df[df['Price'] >= 10]"
   ]
  },
  {
   "cell_type": "markdown",
   "metadata": {},
   "source": [
    "### Промежуточный вывод\n",
    "\n",
    "    1. Мы дозаполнили данные о мощности автомобиля для отсутствующих значений и выбросов\n",
    "    2. Где не получилось этого сделать, мы удалили данные с незаполненным годом регистрации и мощностью автомобиля, т.к. это факторы, которые в любом случае будут влиять на цену\n",
    "    3. Мы заполнили отсутствующие значения для цены, не затрагивая верхнюю границу\n",
    "    \n",
    "    Километраж выглядит похожим на правду, а месяц мы вряд ли сможем как-то спрогнозировать, поэтому оставляем, как есть.\n",
    "    \n",
    "    В остальном, нам необходимо заполнить пропуски в категориальных признаках.\n",
    "    \n",
    "    Важный момент, дубликаты обрабатывать не будем, т.к. в случае продажи машин могут продаваться с разным цветом и объявления просто похожи друг на друга."
   ]
  },
  {
   "cell_type": "code",
   "execution_count": 27,
   "metadata": {},
   "outputs": [
    {
     "name": "stdout",
     "output_type": "stream",
     "text": [
      "<class 'pandas.core.frame.DataFrame'>\n",
      "Int64Index: 345611 entries, 0 to 354368\n",
      "Data columns (total 11 columns):\n",
      "Price                345611 non-null float64\n",
      "VehicleType          313073 non-null object\n",
      "RegistrationYear     345611 non-null int64\n",
      "Gearbox              329835 non-null object\n",
      "Power                345611 non-null float64\n",
      "Model                333203 non-null object\n",
      "Kilometer            345611 non-null int64\n",
      "RegistrationMonth    345611 non-null int64\n",
      "FuelType             317205 non-null object\n",
      "Brand                345611 non-null object\n",
      "NotRepaired          280176 non-null object\n",
      "dtypes: float64(2), int64(3), object(6)\n",
      "memory usage: 31.6+ MB\n"
     ]
    }
   ],
   "source": [
    "# Посмотрим, как обстоят дела с пропуске в обработанном DF\n",
    "df.info()"
   ]
  },
  {
   "cell_type": "markdown",
   "metadata": {},
   "source": [
    "    Итак, по сути у нас остались необработанными следующие признаки:\n",
    "    1. VehicleType\n",
    "    2. Gearbox\n",
    "    3. Model\n",
    "    4. FuelType\n",
    "    5. NotRepaired"
   ]
  },
  {
   "cell_type": "code",
   "execution_count": 28,
   "metadata": {},
   "outputs": [
    {
     "data": {
      "text/plain": [
       "no     245045\n",
       "yes     35131\n",
       "Name: NotRepaired, dtype: int64"
      ]
     },
     "execution_count": 28,
     "metadata": {},
     "output_type": "execute_result"
    }
   ],
   "source": [
    "# Посмотрим, есть ли артифакты в значениях NotRepaired\n",
    "df['NotRepaired'].value_counts()"
   ]
  },
  {
   "cell_type": "code",
   "execution_count": 29,
   "metadata": {},
   "outputs": [
    {
     "data": {
      "text/plain": [
       "0    245045\n",
       "1     65435\n",
       "2     35131\n",
       "Name: NotRepaired, dtype: int64"
      ]
     },
     "execution_count": 29,
     "metadata": {},
     "output_type": "execute_result"
    }
   ],
   "source": [
    "# По сути, мы имеем третью категорию, когда нам неизвестно была ли машина в ремонте. Выгоднее это указывать,\n",
    "# если ремонт все же был, однако нам неизвестен источник данных и, возможно, мы просто не смогли подтянуть соответствующую\n",
    "# информацию, поэтому в данном случае будет правильно переделать признак в числовой для удобства, где\n",
    "# 0 будет отсутствие ремонта, 1 неизвестно и 2 - ремонт был (таким образом определим вес каждой категории)\n",
    "\n",
    "df['NotRepaired'] = df['NotRepaired'].fillna(1)\n",
    "\n",
    "def fill_not_repaired(value):\n",
    "    if value == 'no':\n",
    "        return 0\n",
    "    elif value == 'yes':\n",
    "        return 2\n",
    "    else:\n",
    "        return value\n",
    "\n",
    "df['NotRepaired'] = df['NotRepaired'].apply(fill_not_repaired)\n",
    "df['NotRepaired'].value_counts()"
   ]
  },
  {
   "cell_type": "code",
   "execution_count": 30,
   "metadata": {},
   "outputs": [
    {
     "data": {
      "text/plain": [
       "sedan          90483\n",
       "small          78828\n",
       "wagon          64565\n",
       "bus            28469\n",
       "convertible    19974\n",
       "coupe          15914\n",
       "suv            11798\n",
       "other           3042\n",
       "Name: VehicleType, dtype: int64"
      ]
     },
     "execution_count": 30,
     "metadata": {},
     "output_type": "execute_result"
    }
   ],
   "source": [
    "# Разберемся с VehicleType\n",
    "df['VehicleType'].value_counts()"
   ]
  },
  {
   "cell_type": "code",
   "execution_count": 31,
   "metadata": {},
   "outputs": [],
   "source": [
    "# Тут на самом деле отсутствие значения можно выделить в отдельную категорию\n",
    "df['VehicleType'] = df['VehicleType'].fillna('undefined')"
   ]
  },
  {
   "cell_type": "code",
   "execution_count": 32,
   "metadata": {},
   "outputs": [
    {
     "name": "stdout",
     "output_type": "stream",
     "text": [
      "<class 'pandas.core.frame.DataFrame'>\n",
      "RangeIndex: 345611 entries, 0 to 345610\n",
      "Data columns (total 12 columns):\n",
      "index                345611 non-null int64\n",
      "Price                345611 non-null float64\n",
      "VehicleType          345611 non-null object\n",
      "RegistrationYear     345611 non-null int64\n",
      "Gearbox              345611 non-null object\n",
      "Power                345611 non-null float64\n",
      "Model                345611 non-null object\n",
      "Kilometer            345611 non-null int64\n",
      "RegistrationMonth    345611 non-null int64\n",
      "FuelType             345611 non-null object\n",
      "Brand                345611 non-null object\n",
      "NotRepaired          345611 non-null int64\n",
      "dtypes: float64(2), int64(5), object(5)\n",
      "memory usage: 31.6+ MB\n"
     ]
    }
   ],
   "source": [
    "# Аналогичным образом поступим и для остальных признаков\n",
    "# т.к. их восстановление или проблематично или не имеет решающей роли, в т.ч. т.к. их осталось меньше 10%\n",
    "df['Gearbox'] = df['Gearbox'].fillna('undefined')\n",
    "df['Model'] = df['Model'].fillna('undefined')\n",
    "df['FuelType'] = df['FuelType'].fillna('undefined')\n",
    "df['Brand'] = df['Brand'].fillna('undefined')\n",
    "\n",
    "# сразу сбросим индексы\n",
    "df = df.reset_index()\n",
    "\n",
    "# посмотрим, что получилось\n",
    "df.info()"
   ]
  },
  {
   "cell_type": "code",
   "execution_count": 33,
   "metadata": {},
   "outputs": [],
   "source": [
    "# Удалим уже не нужные DF\n",
    "del bad_price_df, bad_power_df"
   ]
  },
  {
   "cell_type": "markdown",
   "metadata": {},
   "source": [
    "### Вывод\n",
    "\n",
    "    Мы отлично подготовили данные, попытавшись спасти максимум возможного. Не забыли обработать аномальные значения, рассмотрели каждый признак и исключили признаки, не имеющие для нас значения."
   ]
  },
  {
   "cell_type": "markdown",
   "metadata": {},
   "source": [
    "# 2. Обучение моделей"
   ]
  },
  {
   "cell_type": "markdown",
   "metadata": {},
   "source": [
    "    Поступим следующим образом:\n",
    "\n",
    "    1. Сперва отскалируем признаки и подготовим их для обучения  для простых моделей\n",
    "    2. Разобьем выборку на тестовую и валидационную\n",
    "    3. Обучим наши модели на простых моделях (линейная регрессия и случайный лес)\n",
    "    4. Попробуем LGBMRegressor и CatBoostRegressor"
   ]
  },
  {
   "cell_type": "code",
   "execution_count": 34,
   "metadata": {},
   "outputs": [],
   "source": [
    "# Определим random_state\n",
    "RANDOM_STATE=12345"
   ]
  },
  {
   "cell_type": "code",
   "execution_count": 35,
   "metadata": {},
   "outputs": [
    {
     "data": {
      "text/html": [
       "<div>\n",
       "<style scoped>\n",
       "    .dataframe tbody tr th:only-of-type {\n",
       "        vertical-align: middle;\n",
       "    }\n",
       "\n",
       "    .dataframe tbody tr th {\n",
       "        vertical-align: top;\n",
       "    }\n",
       "\n",
       "    .dataframe thead th {\n",
       "        text-align: right;\n",
       "    }\n",
       "</style>\n",
       "<table border=\"1\" class=\"dataframe\">\n",
       "  <thead>\n",
       "    <tr style=\"text-align: right;\">\n",
       "      <th></th>\n",
       "      <th>RegistrationYear</th>\n",
       "      <th>Power</th>\n",
       "      <th>Kilometer</th>\n",
       "      <th>NotRepaired</th>\n",
       "      <th>VehicleType</th>\n",
       "      <th>Gearbox</th>\n",
       "      <th>Brand</th>\n",
       "      <th>Model</th>\n",
       "      <th>FuelType</th>\n",
       "      <th>RegistrationMonth</th>\n",
       "      <th>Price</th>\n",
       "    </tr>\n",
       "  </thead>\n",
       "  <tbody>\n",
       "    <tr>\n",
       "      <td>0</td>\n",
       "      <td>1993</td>\n",
       "      <td>75.0</td>\n",
       "      <td>150000</td>\n",
       "      <td>1</td>\n",
       "      <td>undefined</td>\n",
       "      <td>manual</td>\n",
       "      <td>volkswagen</td>\n",
       "      <td>golf</td>\n",
       "      <td>petrol</td>\n",
       "      <td>0</td>\n",
       "      <td>480.0</td>\n",
       "    </tr>\n",
       "    <tr>\n",
       "      <td>1</td>\n",
       "      <td>2011</td>\n",
       "      <td>190.0</td>\n",
       "      <td>125000</td>\n",
       "      <td>2</td>\n",
       "      <td>coupe</td>\n",
       "      <td>manual</td>\n",
       "      <td>audi</td>\n",
       "      <td>undefined</td>\n",
       "      <td>gasoline</td>\n",
       "      <td>5</td>\n",
       "      <td>18300.0</td>\n",
       "    </tr>\n",
       "    <tr>\n",
       "      <td>2</td>\n",
       "      <td>2004</td>\n",
       "      <td>163.0</td>\n",
       "      <td>125000</td>\n",
       "      <td>1</td>\n",
       "      <td>suv</td>\n",
       "      <td>auto</td>\n",
       "      <td>jeep</td>\n",
       "      <td>grand</td>\n",
       "      <td>gasoline</td>\n",
       "      <td>8</td>\n",
       "      <td>9800.0</td>\n",
       "    </tr>\n",
       "    <tr>\n",
       "      <td>3</td>\n",
       "      <td>2001</td>\n",
       "      <td>75.0</td>\n",
       "      <td>150000</td>\n",
       "      <td>0</td>\n",
       "      <td>small</td>\n",
       "      <td>manual</td>\n",
       "      <td>volkswagen</td>\n",
       "      <td>golf</td>\n",
       "      <td>petrol</td>\n",
       "      <td>6</td>\n",
       "      <td>1500.0</td>\n",
       "    </tr>\n",
       "    <tr>\n",
       "      <td>4</td>\n",
       "      <td>2008</td>\n",
       "      <td>69.0</td>\n",
       "      <td>90000</td>\n",
       "      <td>0</td>\n",
       "      <td>small</td>\n",
       "      <td>manual</td>\n",
       "      <td>skoda</td>\n",
       "      <td>fabia</td>\n",
       "      <td>gasoline</td>\n",
       "      <td>7</td>\n",
       "      <td>3600.0</td>\n",
       "    </tr>\n",
       "  </tbody>\n",
       "</table>\n",
       "</div>"
      ],
      "text/plain": [
       "   RegistrationYear  Power  Kilometer  NotRepaired VehicleType Gearbox  \\\n",
       "0              1993   75.0     150000            1   undefined  manual   \n",
       "1              2011  190.0     125000            2       coupe  manual   \n",
       "2              2004  163.0     125000            1         suv    auto   \n",
       "3              2001   75.0     150000            0       small  manual   \n",
       "4              2008   69.0      90000            0       small  manual   \n",
       "\n",
       "        Brand      Model  FuelType  RegistrationMonth    Price  \n",
       "0  volkswagen       golf    petrol                  0    480.0  \n",
       "1        audi  undefined  gasoline                  5  18300.0  \n",
       "2        jeep      grand  gasoline                  8   9800.0  \n",
       "3  volkswagen       golf    petrol                  6   1500.0  \n",
       "4       skoda      fabia  gasoline                  7   3600.0  "
      ]
     },
     "execution_count": 35,
     "metadata": {},
     "output_type": "execute_result"
    }
   ],
   "source": [
    "# выделим категориальные признаки\n",
    "# не забудем, что хоть речь и о числовом представлении, на самом деле месяц регистрации - это категория\n",
    "# однако т.к. выше мы обработали признак NotRepaired и фактически задали состояниям веса, его сюда не добавляем\n",
    "category_features = ['VehicleType', 'Gearbox', 'Brand', 'Model', 'FuelType', 'RegistrationMonth']\n",
    "\n",
    "# Также определим числовые признаки\n",
    "number_features = ['RegistrationYear', 'Power', 'Kilometer', 'NotRepaired']\n",
    "\n",
    "# Оставим в DF только то, что нужно (с обработкой категориальных признаков)\n",
    "df = df[number_features + category_features + ['Price']];\n",
    "df_simple = df.copy()\n",
    "df_simple.head()"
   ]
  },
  {
   "cell_type": "code",
   "execution_count": 36,
   "metadata": {},
   "outputs": [
    {
     "data": {
      "text/html": [
       "<div>\n",
       "<style scoped>\n",
       "    .dataframe tbody tr th:only-of-type {\n",
       "        vertical-align: middle;\n",
       "    }\n",
       "\n",
       "    .dataframe tbody tr th {\n",
       "        vertical-align: top;\n",
       "    }\n",
       "\n",
       "    .dataframe thead th {\n",
       "        text-align: right;\n",
       "    }\n",
       "</style>\n",
       "<table border=\"1\" class=\"dataframe\">\n",
       "  <thead>\n",
       "    <tr style=\"text-align: right;\">\n",
       "      <th></th>\n",
       "      <th>RegistrationYear</th>\n",
       "      <th>Power</th>\n",
       "      <th>Kilometer</th>\n",
       "      <th>NotRepaired</th>\n",
       "      <th>VehicleType_convertible</th>\n",
       "      <th>VehicleType_coupe</th>\n",
       "      <th>VehicleType_other</th>\n",
       "      <th>VehicleType_sedan</th>\n",
       "      <th>VehicleType_small</th>\n",
       "      <th>VehicleType_suv</th>\n",
       "      <th>...</th>\n",
       "      <th>RegistrationMonth_3</th>\n",
       "      <th>RegistrationMonth_4</th>\n",
       "      <th>RegistrationMonth_5</th>\n",
       "      <th>RegistrationMonth_6</th>\n",
       "      <th>RegistrationMonth_7</th>\n",
       "      <th>RegistrationMonth_8</th>\n",
       "      <th>RegistrationMonth_9</th>\n",
       "      <th>RegistrationMonth_10</th>\n",
       "      <th>RegistrationMonth_11</th>\n",
       "      <th>RegistrationMonth_12</th>\n",
       "    </tr>\n",
       "  </thead>\n",
       "  <tbody>\n",
       "    <tr>\n",
       "      <td>0</td>\n",
       "      <td>1993</td>\n",
       "      <td>75.0</td>\n",
       "      <td>150000</td>\n",
       "      <td>1</td>\n",
       "      <td>0</td>\n",
       "      <td>0</td>\n",
       "      <td>0</td>\n",
       "      <td>0</td>\n",
       "      <td>0</td>\n",
       "      <td>0</td>\n",
       "      <td>...</td>\n",
       "      <td>0</td>\n",
       "      <td>0</td>\n",
       "      <td>0</td>\n",
       "      <td>0</td>\n",
       "      <td>0</td>\n",
       "      <td>0</td>\n",
       "      <td>0</td>\n",
       "      <td>0</td>\n",
       "      <td>0</td>\n",
       "      <td>0</td>\n",
       "    </tr>\n",
       "    <tr>\n",
       "      <td>1</td>\n",
       "      <td>2011</td>\n",
       "      <td>190.0</td>\n",
       "      <td>125000</td>\n",
       "      <td>2</td>\n",
       "      <td>0</td>\n",
       "      <td>1</td>\n",
       "      <td>0</td>\n",
       "      <td>0</td>\n",
       "      <td>0</td>\n",
       "      <td>0</td>\n",
       "      <td>...</td>\n",
       "      <td>0</td>\n",
       "      <td>0</td>\n",
       "      <td>1</td>\n",
       "      <td>0</td>\n",
       "      <td>0</td>\n",
       "      <td>0</td>\n",
       "      <td>0</td>\n",
       "      <td>0</td>\n",
       "      <td>0</td>\n",
       "      <td>0</td>\n",
       "    </tr>\n",
       "    <tr>\n",
       "      <td>2</td>\n",
       "      <td>2004</td>\n",
       "      <td>163.0</td>\n",
       "      <td>125000</td>\n",
       "      <td>1</td>\n",
       "      <td>0</td>\n",
       "      <td>0</td>\n",
       "      <td>0</td>\n",
       "      <td>0</td>\n",
       "      <td>0</td>\n",
       "      <td>1</td>\n",
       "      <td>...</td>\n",
       "      <td>0</td>\n",
       "      <td>0</td>\n",
       "      <td>0</td>\n",
       "      <td>0</td>\n",
       "      <td>0</td>\n",
       "      <td>1</td>\n",
       "      <td>0</td>\n",
       "      <td>0</td>\n",
       "      <td>0</td>\n",
       "      <td>0</td>\n",
       "    </tr>\n",
       "    <tr>\n",
       "      <td>3</td>\n",
       "      <td>2001</td>\n",
       "      <td>75.0</td>\n",
       "      <td>150000</td>\n",
       "      <td>0</td>\n",
       "      <td>0</td>\n",
       "      <td>0</td>\n",
       "      <td>0</td>\n",
       "      <td>0</td>\n",
       "      <td>1</td>\n",
       "      <td>0</td>\n",
       "      <td>...</td>\n",
       "      <td>0</td>\n",
       "      <td>0</td>\n",
       "      <td>0</td>\n",
       "      <td>1</td>\n",
       "      <td>0</td>\n",
       "      <td>0</td>\n",
       "      <td>0</td>\n",
       "      <td>0</td>\n",
       "      <td>0</td>\n",
       "      <td>0</td>\n",
       "    </tr>\n",
       "    <tr>\n",
       "      <td>4</td>\n",
       "      <td>2008</td>\n",
       "      <td>69.0</td>\n",
       "      <td>90000</td>\n",
       "      <td>0</td>\n",
       "      <td>0</td>\n",
       "      <td>0</td>\n",
       "      <td>0</td>\n",
       "      <td>0</td>\n",
       "      <td>1</td>\n",
       "      <td>0</td>\n",
       "      <td>...</td>\n",
       "      <td>0</td>\n",
       "      <td>0</td>\n",
       "      <td>0</td>\n",
       "      <td>0</td>\n",
       "      <td>1</td>\n",
       "      <td>0</td>\n",
       "      <td>0</td>\n",
       "      <td>0</td>\n",
       "      <td>0</td>\n",
       "      <td>0</td>\n",
       "    </tr>\n",
       "  </tbody>\n",
       "</table>\n",
       "<p>5 rows × 321 columns</p>\n",
       "</div>"
      ],
      "text/plain": [
       "   RegistrationYear  Power  Kilometer  NotRepaired  VehicleType_convertible  \\\n",
       "0              1993   75.0     150000            1                        0   \n",
       "1              2011  190.0     125000            2                        0   \n",
       "2              2004  163.0     125000            1                        0   \n",
       "3              2001   75.0     150000            0                        0   \n",
       "4              2008   69.0      90000            0                        0   \n",
       "\n",
       "   VehicleType_coupe  VehicleType_other  VehicleType_sedan  VehicleType_small  \\\n",
       "0                  0                  0                  0                  0   \n",
       "1                  1                  0                  0                  0   \n",
       "2                  0                  0                  0                  0   \n",
       "3                  0                  0                  0                  1   \n",
       "4                  0                  0                  0                  1   \n",
       "\n",
       "   VehicleType_suv  ...  RegistrationMonth_3  RegistrationMonth_4  \\\n",
       "0                0  ...                    0                    0   \n",
       "1                0  ...                    0                    0   \n",
       "2                1  ...                    0                    0   \n",
       "3                0  ...                    0                    0   \n",
       "4                0  ...                    0                    0   \n",
       "\n",
       "   RegistrationMonth_5  RegistrationMonth_6  RegistrationMonth_7  \\\n",
       "0                    0                    0                    0   \n",
       "1                    1                    0                    0   \n",
       "2                    0                    0                    0   \n",
       "3                    0                    1                    0   \n",
       "4                    0                    0                    1   \n",
       "\n",
       "   RegistrationMonth_8  RegistrationMonth_9  RegistrationMonth_10  \\\n",
       "0                    0                    0                     0   \n",
       "1                    0                    0                     0   \n",
       "2                    1                    0                     0   \n",
       "3                    0                    0                     0   \n",
       "4                    0                    0                     0   \n",
       "\n",
       "   RegistrationMonth_11  RegistrationMonth_12  \n",
       "0                     0                     0  \n",
       "1                     0                     0  \n",
       "2                     0                     0  \n",
       "3                     0                     0  \n",
       "4                     0                     0  \n",
       "\n",
       "[5 rows x 321 columns]"
      ]
     },
     "execution_count": 36,
     "metadata": {},
     "output_type": "execute_result"
    }
   ],
   "source": [
    "# Разделим признаки\n",
    "features = df_simple.drop(columns='Price')\n",
    "target = df_simple['Price']\n",
    "\n",
    "# Подготовим наши категориальные признаки, будем использовать технику OHE, как более универсальную\n",
    "features_ohe = pd.get_dummies(features, columns=category_features, drop_first=True)\n",
    "features_ohe.head()"
   ]
  },
  {
   "cell_type": "code",
   "execution_count": 37,
   "metadata": {},
   "outputs": [
    {
     "data": {
      "text/html": [
       "<div>\n",
       "<style scoped>\n",
       "    .dataframe tbody tr th:only-of-type {\n",
       "        vertical-align: middle;\n",
       "    }\n",
       "\n",
       "    .dataframe tbody tr th {\n",
       "        vertical-align: top;\n",
       "    }\n",
       "\n",
       "    .dataframe thead th {\n",
       "        text-align: right;\n",
       "    }\n",
       "</style>\n",
       "<table border=\"1\" class=\"dataframe\">\n",
       "  <thead>\n",
       "    <tr style=\"text-align: right;\">\n",
       "      <th></th>\n",
       "      <th>RegistrationYear</th>\n",
       "      <th>Power</th>\n",
       "      <th>Kilometer</th>\n",
       "      <th>NotRepaired</th>\n",
       "      <th>VehicleType_convertible</th>\n",
       "      <th>VehicleType_coupe</th>\n",
       "      <th>VehicleType_other</th>\n",
       "      <th>VehicleType_sedan</th>\n",
       "      <th>VehicleType_small</th>\n",
       "      <th>VehicleType_suv</th>\n",
       "      <th>...</th>\n",
       "      <th>RegistrationMonth_3</th>\n",
       "      <th>RegistrationMonth_4</th>\n",
       "      <th>RegistrationMonth_5</th>\n",
       "      <th>RegistrationMonth_6</th>\n",
       "      <th>RegistrationMonth_7</th>\n",
       "      <th>RegistrationMonth_8</th>\n",
       "      <th>RegistrationMonth_9</th>\n",
       "      <th>RegistrationMonth_10</th>\n",
       "      <th>RegistrationMonth_11</th>\n",
       "      <th>RegistrationMonth_12</th>\n",
       "    </tr>\n",
       "  </thead>\n",
       "  <tbody>\n",
       "    <tr>\n",
       "      <td>0</td>\n",
       "      <td>-0.302286</td>\n",
       "      <td>-0.552358</td>\n",
       "      <td>0.573469</td>\n",
       "      <td>0.913810</td>\n",
       "      <td>0</td>\n",
       "      <td>0</td>\n",
       "      <td>0</td>\n",
       "      <td>0</td>\n",
       "      <td>0</td>\n",
       "      <td>0</td>\n",
       "      <td>...</td>\n",
       "      <td>0</td>\n",
       "      <td>0</td>\n",
       "      <td>0</td>\n",
       "      <td>0</td>\n",
       "      <td>0</td>\n",
       "      <td>0</td>\n",
       "      <td>0</td>\n",
       "      <td>0</td>\n",
       "      <td>0</td>\n",
       "      <td>0</td>\n",
       "    </tr>\n",
       "    <tr>\n",
       "      <td>1</td>\n",
       "      <td>0.219669</td>\n",
       "      <td>0.921605</td>\n",
       "      <td>-0.099604</td>\n",
       "      <td>2.418345</td>\n",
       "      <td>0</td>\n",
       "      <td>1</td>\n",
       "      <td>0</td>\n",
       "      <td>0</td>\n",
       "      <td>0</td>\n",
       "      <td>0</td>\n",
       "      <td>...</td>\n",
       "      <td>0</td>\n",
       "      <td>0</td>\n",
       "      <td>1</td>\n",
       "      <td>0</td>\n",
       "      <td>0</td>\n",
       "      <td>0</td>\n",
       "      <td>0</td>\n",
       "      <td>0</td>\n",
       "      <td>0</td>\n",
       "      <td>0</td>\n",
       "    </tr>\n",
       "    <tr>\n",
       "      <td>2</td>\n",
       "      <td>0.016686</td>\n",
       "      <td>0.575544</td>\n",
       "      <td>-0.099604</td>\n",
       "      <td>0.913810</td>\n",
       "      <td>0</td>\n",
       "      <td>0</td>\n",
       "      <td>0</td>\n",
       "      <td>0</td>\n",
       "      <td>0</td>\n",
       "      <td>1</td>\n",
       "      <td>...</td>\n",
       "      <td>0</td>\n",
       "      <td>0</td>\n",
       "      <td>0</td>\n",
       "      <td>0</td>\n",
       "      <td>0</td>\n",
       "      <td>1</td>\n",
       "      <td>0</td>\n",
       "      <td>0</td>\n",
       "      <td>0</td>\n",
       "      <td>0</td>\n",
       "    </tr>\n",
       "    <tr>\n",
       "      <td>3</td>\n",
       "      <td>-0.070306</td>\n",
       "      <td>-0.552358</td>\n",
       "      <td>0.573469</td>\n",
       "      <td>-0.590724</td>\n",
       "      <td>0</td>\n",
       "      <td>0</td>\n",
       "      <td>0</td>\n",
       "      <td>0</td>\n",
       "      <td>1</td>\n",
       "      <td>0</td>\n",
       "      <td>...</td>\n",
       "      <td>0</td>\n",
       "      <td>0</td>\n",
       "      <td>0</td>\n",
       "      <td>1</td>\n",
       "      <td>0</td>\n",
       "      <td>0</td>\n",
       "      <td>0</td>\n",
       "      <td>0</td>\n",
       "      <td>0</td>\n",
       "      <td>0</td>\n",
       "    </tr>\n",
       "    <tr>\n",
       "      <td>4</td>\n",
       "      <td>0.132676</td>\n",
       "      <td>-0.629260</td>\n",
       "      <td>-1.041906</td>\n",
       "      <td>-0.590724</td>\n",
       "      <td>0</td>\n",
       "      <td>0</td>\n",
       "      <td>0</td>\n",
       "      <td>0</td>\n",
       "      <td>1</td>\n",
       "      <td>0</td>\n",
       "      <td>...</td>\n",
       "      <td>0</td>\n",
       "      <td>0</td>\n",
       "      <td>0</td>\n",
       "      <td>0</td>\n",
       "      <td>1</td>\n",
       "      <td>0</td>\n",
       "      <td>0</td>\n",
       "      <td>0</td>\n",
       "      <td>0</td>\n",
       "      <td>0</td>\n",
       "    </tr>\n",
       "  </tbody>\n",
       "</table>\n",
       "<p>5 rows × 321 columns</p>\n",
       "</div>"
      ],
      "text/plain": [
       "   RegistrationYear     Power  Kilometer  NotRepaired  \\\n",
       "0         -0.302286 -0.552358   0.573469     0.913810   \n",
       "1          0.219669  0.921605  -0.099604     2.418345   \n",
       "2          0.016686  0.575544  -0.099604     0.913810   \n",
       "3         -0.070306 -0.552358   0.573469    -0.590724   \n",
       "4          0.132676 -0.629260  -1.041906    -0.590724   \n",
       "\n",
       "   VehicleType_convertible  VehicleType_coupe  VehicleType_other  \\\n",
       "0                        0                  0                  0   \n",
       "1                        0                  1                  0   \n",
       "2                        0                  0                  0   \n",
       "3                        0                  0                  0   \n",
       "4                        0                  0                  0   \n",
       "\n",
       "   VehicleType_sedan  VehicleType_small  VehicleType_suv  ...  \\\n",
       "0                  0                  0                0  ...   \n",
       "1                  0                  0                0  ...   \n",
       "2                  0                  0                1  ...   \n",
       "3                  0                  1                0  ...   \n",
       "4                  0                  1                0  ...   \n",
       "\n",
       "   RegistrationMonth_3  RegistrationMonth_4  RegistrationMonth_5  \\\n",
       "0                    0                    0                    0   \n",
       "1                    0                    0                    1   \n",
       "2                    0                    0                    0   \n",
       "3                    0                    0                    0   \n",
       "4                    0                    0                    0   \n",
       "\n",
       "   RegistrationMonth_6  RegistrationMonth_7  RegistrationMonth_8  \\\n",
       "0                    0                    0                    0   \n",
       "1                    0                    0                    0   \n",
       "2                    0                    0                    1   \n",
       "3                    1                    0                    0   \n",
       "4                    0                    1                    0   \n",
       "\n",
       "   RegistrationMonth_9  RegistrationMonth_10  RegistrationMonth_11  \\\n",
       "0                    0                     0                     0   \n",
       "1                    0                     0                     0   \n",
       "2                    0                     0                     0   \n",
       "3                    0                     0                     0   \n",
       "4                    0                     0                     0   \n",
       "\n",
       "   RegistrationMonth_12  \n",
       "0                     0  \n",
       "1                     0  \n",
       "2                     0  \n",
       "3                     0  \n",
       "4                     0  \n",
       "\n",
       "[5 rows x 321 columns]"
      ]
     },
     "execution_count": 37,
     "metadata": {},
     "output_type": "execute_result"
    }
   ],
   "source": [
    "# Проведем скалирование числовых признаков\n",
    "scaler = StandardScaler()\n",
    "\n",
    "scaler.fit(features_ohe[number_features])\n",
    "features_ohe_scaled = features_ohe.copy()\n",
    "features_ohe_scaled[number_features] = scaler.transform(features_ohe_scaled[number_features])\n",
    "features_ohe_scaled.head()"
   ]
  },
  {
   "cell_type": "code",
   "execution_count": 38,
   "metadata": {},
   "outputs": [
    {
     "name": "stdout",
     "output_type": "stream",
     "text": [
      "Target test count = 86403, Train test count = 259208\n"
     ]
    }
   ],
   "source": [
    "# Поделим нашу выборку в пропорции 75-25, т.к. параметры мы будем искать с помощью кросс-валидации через GridSearchCV\n",
    "# Соответственно, валидационная выборка в контексте задачи нам не пригодится\n",
    "# Вторая функция оставлена на всякий случай, т.к. изначально делал 3 выборки в рамках работы \n",
    "# (предполагал, что мы будем перепроверять итоговую модель на тесте, но решил, что это избыточно в рамках нашей задачи)\n",
    "\n",
    "def create_train_valid_and_test_set(features, target):\n",
    "    features_train, df_valid_ant_test_features, target_train, df_valid_ant_test_target = train_test_split(\n",
    "        features, target, test_size=0.4, random_state=RANDOM_STATE)\n",
    "\n",
    "    # теперь разделим тестовую выборку от валидационной\n",
    "    features_valid, features_test, target_valid, target_test = train_test_split(\n",
    "        df_valid_ant_test_features, df_valid_ant_test_target, test_size=0.5, random_state=RANDOM_STATE)\n",
    "\n",
    "    del df_valid_ant_test_features, df_valid_ant_test_target\n",
    "    \n",
    "    # Проверим, что получилось\n",
    "    print('Target test count = {}, Valid count = {}, Train test count = {}'.format(target_test.count(), target_valid.count(), target_train.count()))\n",
    "    \n",
    "    return features_train, target_train, features_valid, target_valid, features_test, target_test\n",
    "\n",
    "def create_train_and_test_set(features, target):\n",
    "    features_train, features_test, target_train, target_test = train_test_split(\n",
    "        features, target, test_size=0.25, random_state=RANDOM_STATE)\n",
    "    \n",
    "    # Проверим, что получилось\n",
    "    print('Target test count = {}, Train test count = {}'.format(target_test.count(), target_train.count()))\n",
    "    \n",
    "    return features_train, target_train, features_test, target_test\n",
    "\n",
    "features_train, target_train, features_test, target_test = create_train_and_test_set(features_ohe_scaled, target)"
   ]
  },
  {
   "cell_type": "code",
   "execution_count": 39,
   "metadata": {},
   "outputs": [],
   "source": [
    "# Определим функцию для подсчета RMSE\n",
    "def rmse(target, predicted):\n",
    "    return mse(target, predicted) ** 0.5"
   ]
  },
  {
   "cell_type": "markdown",
   "metadata": {},
   "source": [
    "## Простые модели\n",
    "\n",
    "    Опробуем линейную регрессию и случайный лес"
   ]
  },
  {
   "cell_type": "markdown",
   "metadata": {},
   "source": [
    "### Случайный лес"
   ]
  },
  {
   "cell_type": "markdown",
   "metadata": {},
   "source": [
    "### Небольшая ремарка \n",
    "\n",
    "Я понимаю, что параметры для случайного леса скорее \"детские\" и стоило бы взять совершенно другие числа. Но проблема в том, что как я не изголялся, в последние дни юпитер зависает и очень долго это все учит (было ждал несколько часов на вполне средних параметрах и не дождался)\n",
    "\n",
    "Как вариант, можно было избавиться от OHE и использовать OrdinalEncoder, но вроде это не сильно хороший вариант для линейных моделей т.к. создает вес категориальных признаков, даже если этого веса быть не должно.\n",
    "\n",
    "В связи с этим было принято решение все же оставить OHE и случайный лес, но попробовать уменьшить параметры."
   ]
  },
  {
   "cell_type": "code",
   "execution_count": 40,
   "metadata": {},
   "outputs": [
    {
     "name": "stdout",
     "output_type": "stream",
     "text": [
      "CPU times: user 11min 34s, sys: 21.9 s, total: 11min 56s\n",
      "Wall time: 11min 59s\n"
     ]
    },
    {
     "data": {
      "text/plain": [
       "{'max_depth': 7,\n",
       " 'min_samples_leaf': 3,\n",
       " 'min_samples_split': 2,\n",
       " 'n_estimators': 10}"
      ]
     },
     "execution_count": 40,
     "metadata": {},
     "output_type": "execute_result"
    }
   ],
   "source": [
    "%%time\n",
    "\n",
    "# Попробуем обучить случайный лес\n",
    "parameters = {'n_estimators': range(5,11,5),'max_depth': range(1,8,3), 'min_samples_leaf': range(1,5,2), 'min_samples_split': range(2,6,2)}\n",
    "\n",
    "model = RandomForestRegressor()\n",
    "grid = GridSearchCV(model, parameters, cv=3, scoring='neg_mean_squared_error')\n",
    "grid.fit(features_train, target_train)\n",
    "\n",
    "grid.best_params_\n",
    "\n",
    "# Чтобы не пересчитывать получившиеся параметры при доработках:\n",
    "# {'max_depth': 7,\n",
    "#  'min_samples_leaf': 3,\n",
    "#  'min_samples_split': 2,\n",
    "#  'n_estimators': 10}"
   ]
  },
  {
   "cell_type": "code",
   "execution_count": 41,
   "metadata": {},
   "outputs": [],
   "source": [
    "# Чтобы не собирать вручную результаты, напишем класс, который будет сохранять время обучения, время предсказания и RMSE\n",
    "\n",
    "import time\n",
    "\n",
    "class ModelHelper:\n",
    "    def __init__(self, name, model):\n",
    "        \"\"\"Constructor\"\"\"\n",
    "        self.name = name\n",
    "        self.model = model\n",
    "    \n",
    "    def fit(self, features, target):\n",
    "        start = time.time()    \n",
    "        self.model.fit(features, target)\n",
    "        end = time.time() - start\n",
    "        self.fitTime = end\n",
    "    \n",
    "    def predict(self, features, target):\n",
    "        start = time.time()  \n",
    "        predicted = self.model.predict(features)\n",
    "        end = time.time() - start\n",
    "        self.predictedTime = end\n",
    "        self.rmse = rmse(target, predicted)\n",
    "    \n",
    "    def getResult(self):\n",
    "        return self.name, self.fitTime, self.predictedTime, self.rmse"
   ]
  },
  {
   "cell_type": "code",
   "execution_count": 42,
   "metadata": {},
   "outputs": [],
   "source": [
    "# Создадим переменную, где будут храниться результаты\n",
    "    \n",
    "result = []"
   ]
  },
  {
   "cell_type": "code",
   "execution_count": 43,
   "metadata": {},
   "outputs": [],
   "source": [
    "# И создадим функцию для вывода по красоте\n",
    "def print_result(result):\n",
    "    print('|{: >20}|{: >18}|{: >18}|{: >12}|'.format('Модель', 'Время обучения', 'Время предсказания', 'RMSE'))\n",
    "    for info in result:\n",
    "        print('|{: >20}|{: >18.5f}|{: >18.5f}|{: >12.5f}|'.format(info[0], info[1], info[2], info[3]))"
   ]
  },
  {
   "cell_type": "code",
   "execution_count": 44,
   "metadata": {},
   "outputs": [],
   "source": [
    "# Проверим наш случайный лес\n",
    "model_forest = RandomForestRegressor(max_depth=7, min_samples_leaf=3, min_samples_split=2, n_estimators=10, random_state=RANDOM_STATE)\n",
    "model_forest_helper = ModelHelper('Random forest', model_forest)\n",
    "model_forest_helper.fit(features_train, target_train)\n",
    "model_forest_helper.predict(features_test, target_test)\n",
    "result.append(model_forest_helper.getResult())"
   ]
  },
  {
   "cell_type": "markdown",
   "metadata": {},
   "source": [
    "### Линейная регрессия"
   ]
  },
  {
   "cell_type": "code",
   "execution_count": 45,
   "metadata": {},
   "outputs": [],
   "source": [
    "# Попробуем линейную регрессию\n",
    "model_lr = LinearRegression()\n",
    "model_lr_helper = ModelHelper('Linear regression', model_lr)\n",
    "model_lr_helper.fit(features_train, target_train)\n",
    "model_lr_helper.predict(features_test, target_test)\n",
    "result.append(model_lr_helper.getResult())"
   ]
  },
  {
   "cell_type": "code",
   "execution_count": 46,
   "metadata": {},
   "outputs": [
    {
     "name": "stdout",
     "output_type": "stream",
     "text": [
      "|              Модель|    Время обучения|Время предсказания|        RMSE|\n",
      "|       Random forest|          32.19294|           0.21924|  2141.50120|\n",
      "|   Linear regression|          27.83889|           0.23438|  3015.38254|\n"
     ]
    }
   ],
   "source": [
    "# Посмотрим на промежуточный результат\n",
    "print_result(result)"
   ]
  },
  {
   "cell_type": "markdown",
   "metadata": {},
   "source": [
    "## Библиотеки для градиентного бустинга"
   ]
  },
  {
   "cell_type": "markdown",
   "metadata": {},
   "source": [
    "### Небольшая ремарка\n",
    "\n",
    "Фактически, CatBoost будет использовать OHE при передаче категориальных признаков. Это означает, что мы могли бы воспользоваться уже имеющимися features и target (т.к. именно так мы их и обработали). Однако, LightGBM использует какой-то другой свой алгоритм, который, в теории, может быть быстрее. Однако, он не переваривает строки в категориальных признаках.\n",
    "\n",
    "Раз уж мы сравниваем две разные библиотеки, будет правильно создать им равные возможности и посмотреть на что они способны без нашей помощи. А значит, мы проведем дополнительную работу и сделаем следующим образом:\n",
    "    1. Возьмем наш итоговый обработанный датасет\n",
    "    2. Отскалируем снова числовые признаки\n",
    "    3. А вот категориальные признаки для LightGBM будем готовить с помощью OrdinalEncoding\n",
    "    4. Для CatBoost ничего готовить не будем и передадим категориальные признаки, как есть\n",
    "И посмотрим, что получится."
   ]
  },
  {
   "cell_type": "code",
   "execution_count": 47,
   "metadata": {},
   "outputs": [
    {
     "name": "stdout",
     "output_type": "stream",
     "text": [
      "Target test count = 86403, Train test count = 259208\n"
     ]
    },
    {
     "data": {
      "text/html": [
       "<div>\n",
       "<style scoped>\n",
       "    .dataframe tbody tr th:only-of-type {\n",
       "        vertical-align: middle;\n",
       "    }\n",
       "\n",
       "    .dataframe tbody tr th {\n",
       "        vertical-align: top;\n",
       "    }\n",
       "\n",
       "    .dataframe thead th {\n",
       "        text-align: right;\n",
       "    }\n",
       "</style>\n",
       "<table border=\"1\" class=\"dataframe\">\n",
       "  <thead>\n",
       "    <tr style=\"text-align: right;\">\n",
       "      <th></th>\n",
       "      <th>RegistrationYear</th>\n",
       "      <th>Power</th>\n",
       "      <th>Kilometer</th>\n",
       "      <th>NotRepaired</th>\n",
       "      <th>VehicleType</th>\n",
       "      <th>Gearbox</th>\n",
       "      <th>Brand</th>\n",
       "      <th>Model</th>\n",
       "      <th>FuelType</th>\n",
       "      <th>RegistrationMonth</th>\n",
       "    </tr>\n",
       "  </thead>\n",
       "  <tbody>\n",
       "    <tr>\n",
       "      <td>123827</td>\n",
       "      <td>0.076771</td>\n",
       "      <td>0.086226</td>\n",
       "      <td>-0.097278</td>\n",
       "      <td>-0.589330</td>\n",
       "      <td>convertible</td>\n",
       "      <td>manual</td>\n",
       "      <td>opel</td>\n",
       "      <td>tigra</td>\n",
       "      <td>petrol</td>\n",
       "      <td>4</td>\n",
       "    </tr>\n",
       "    <tr>\n",
       "      <td>298912</td>\n",
       "      <td>0.106313</td>\n",
       "      <td>0.161521</td>\n",
       "      <td>0.575242</td>\n",
       "      <td>-0.589330</td>\n",
       "      <td>bus</td>\n",
       "      <td>manual</td>\n",
       "      <td>renault</td>\n",
       "      <td>other</td>\n",
       "      <td>gasoline</td>\n",
       "      <td>8</td>\n",
       "    </tr>\n",
       "    <tr>\n",
       "      <td>158804</td>\n",
       "      <td>-0.159572</td>\n",
       "      <td>-0.541236</td>\n",
       "      <td>0.575242</td>\n",
       "      <td>0.916605</td>\n",
       "      <td>convertible</td>\n",
       "      <td>manual</td>\n",
       "      <td>volkswagen</td>\n",
       "      <td>golf</td>\n",
       "      <td>petrol</td>\n",
       "      <td>3</td>\n",
       "    </tr>\n",
       "    <tr>\n",
       "      <td>65006</td>\n",
       "      <td>-0.159572</td>\n",
       "      <td>0.927025</td>\n",
       "      <td>-0.097278</td>\n",
       "      <td>-0.589330</td>\n",
       "      <td>convertible</td>\n",
       "      <td>manual</td>\n",
       "      <td>mercedes_benz</td>\n",
       "      <td>slk</td>\n",
       "      <td>petrol</td>\n",
       "      <td>1</td>\n",
       "    </tr>\n",
       "    <tr>\n",
       "      <td>287084</td>\n",
       "      <td>-0.189115</td>\n",
       "      <td>0.086226</td>\n",
       "      <td>0.575242</td>\n",
       "      <td>-0.589330</td>\n",
       "      <td>coupe</td>\n",
       "      <td>auto</td>\n",
       "      <td>honda</td>\n",
       "      <td>cr_reihe</td>\n",
       "      <td>petrol</td>\n",
       "      <td>7</td>\n",
       "    </tr>\n",
       "  </tbody>\n",
       "</table>\n",
       "</div>"
      ],
      "text/plain": [
       "        RegistrationYear     Power  Kilometer  NotRepaired  VehicleType  \\\n",
       "123827          0.076771  0.086226  -0.097278    -0.589330  convertible   \n",
       "298912          0.106313  0.161521   0.575242    -0.589330          bus   \n",
       "158804         -0.159572 -0.541236   0.575242     0.916605  convertible   \n",
       "65006          -0.159572  0.927025  -0.097278    -0.589330  convertible   \n",
       "287084         -0.189115  0.086226   0.575242    -0.589330        coupe   \n",
       "\n",
       "       Gearbox          Brand     Model  FuelType  RegistrationMonth  \n",
       "123827  manual           opel     tigra    petrol                  4  \n",
       "298912  manual        renault     other  gasoline                  8  \n",
       "158804  manual     volkswagen      golf    petrol                  3  \n",
       "65006   manual  mercedes_benz       slk    petrol                  1  \n",
       "287084    auto          honda  cr_reihe    petrol                  7  "
      ]
     },
     "execution_count": 47,
     "metadata": {},
     "output_type": "execute_result"
    }
   ],
   "source": [
    "pd.options.mode.chained_assignment = None\n",
    "\n",
    "# Подготовим заново признаки для бустинга\n",
    "features = df.drop(columns='Price')\n",
    "target = df['Price']\n",
    "\n",
    "# Разделим выборку на обучающую и тестовую\n",
    "features_train, target_train, features_test, target_test = create_train_and_test_set(features, target)\n",
    "\n",
    "# Проведем скалирование\n",
    "scaler = StandardScaler()\n",
    "scaler.fit(features_train[number_features])\n",
    "features_train[number_features] = scaler.transform(features_train[number_features])\n",
    "features_test[number_features] = scaler.transform(features_test[number_features])\n",
    "\n",
    "features_train.head()"
   ]
  },
  {
   "cell_type": "code",
   "execution_count": 48,
   "metadata": {},
   "outputs": [
    {
     "data": {
      "text/html": [
       "<div>\n",
       "<style scoped>\n",
       "    .dataframe tbody tr th:only-of-type {\n",
       "        vertical-align: middle;\n",
       "    }\n",
       "\n",
       "    .dataframe tbody tr th {\n",
       "        vertical-align: top;\n",
       "    }\n",
       "\n",
       "    .dataframe thead th {\n",
       "        text-align: right;\n",
       "    }\n",
       "</style>\n",
       "<table border=\"1\" class=\"dataframe\">\n",
       "  <thead>\n",
       "    <tr style=\"text-align: right;\">\n",
       "      <th></th>\n",
       "      <th>RegistrationYear</th>\n",
       "      <th>Power</th>\n",
       "      <th>Kilometer</th>\n",
       "      <th>NotRepaired</th>\n",
       "      <th>VehicleType</th>\n",
       "      <th>Gearbox</th>\n",
       "      <th>Brand</th>\n",
       "      <th>Model</th>\n",
       "      <th>FuelType</th>\n",
       "      <th>RegistrationMonth</th>\n",
       "    </tr>\n",
       "  </thead>\n",
       "  <tbody>\n",
       "    <tr>\n",
       "      <td>123827</td>\n",
       "      <td>0.076771</td>\n",
       "      <td>0.086226</td>\n",
       "      <td>-0.097278</td>\n",
       "      <td>-0.589330</td>\n",
       "      <td>1.0</td>\n",
       "      <td>1.0</td>\n",
       "      <td>24.0</td>\n",
       "      <td>217.0</td>\n",
       "      <td>6.0</td>\n",
       "      <td>4</td>\n",
       "    </tr>\n",
       "    <tr>\n",
       "      <td>298912</td>\n",
       "      <td>0.106313</td>\n",
       "      <td>0.161521</td>\n",
       "      <td>0.575242</td>\n",
       "      <td>-0.589330</td>\n",
       "      <td>0.0</td>\n",
       "      <td>1.0</td>\n",
       "      <td>27.0</td>\n",
       "      <td>166.0</td>\n",
       "      <td>2.0</td>\n",
       "      <td>8</td>\n",
       "    </tr>\n",
       "    <tr>\n",
       "      <td>158804</td>\n",
       "      <td>-0.159572</td>\n",
       "      <td>-0.541236</td>\n",
       "      <td>0.575242</td>\n",
       "      <td>0.916605</td>\n",
       "      <td>1.0</td>\n",
       "      <td>1.0</td>\n",
       "      <td>38.0</td>\n",
       "      <td>116.0</td>\n",
       "      <td>6.0</td>\n",
       "      <td>3</td>\n",
       "    </tr>\n",
       "    <tr>\n",
       "      <td>65006</td>\n",
       "      <td>-0.159572</td>\n",
       "      <td>0.927025</td>\n",
       "      <td>-0.097278</td>\n",
       "      <td>-0.589330</td>\n",
       "      <td>1.0</td>\n",
       "      <td>1.0</td>\n",
       "      <td>20.0</td>\n",
       "      <td>207.0</td>\n",
       "      <td>6.0</td>\n",
       "      <td>1</td>\n",
       "    </tr>\n",
       "    <tr>\n",
       "      <td>287084</td>\n",
       "      <td>-0.189115</td>\n",
       "      <td>0.086226</td>\n",
       "      <td>0.575242</td>\n",
       "      <td>-0.589330</td>\n",
       "      <td>2.0</td>\n",
       "      <td>0.0</td>\n",
       "      <td>11.0</td>\n",
       "      <td>84.0</td>\n",
       "      <td>6.0</td>\n",
       "      <td>7</td>\n",
       "    </tr>\n",
       "  </tbody>\n",
       "</table>\n",
       "</div>"
      ],
      "text/plain": [
       "        RegistrationYear     Power  Kilometer  NotRepaired  VehicleType  \\\n",
       "123827          0.076771  0.086226  -0.097278    -0.589330          1.0   \n",
       "298912          0.106313  0.161521   0.575242    -0.589330          0.0   \n",
       "158804         -0.159572 -0.541236   0.575242     0.916605          1.0   \n",
       "65006          -0.159572  0.927025  -0.097278    -0.589330          1.0   \n",
       "287084         -0.189115  0.086226   0.575242    -0.589330          2.0   \n",
       "\n",
       "        Gearbox  Brand  Model  FuelType  RegistrationMonth  \n",
       "123827      1.0   24.0  217.0       6.0                  4  \n",
       "298912      1.0   27.0  166.0       2.0                  8  \n",
       "158804      1.0   38.0  116.0       6.0                  3  \n",
       "65006       1.0   20.0  207.0       6.0                  1  \n",
       "287084      0.0   11.0   84.0       6.0                  7  "
      ]
     },
     "execution_count": 48,
     "metadata": {},
     "output_type": "execute_result"
    }
   ],
   "source": [
    "# Для GBM дополнительно обработаем категориальные признаки\n",
    "\n",
    "features_train_gbm = features_train.copy()\n",
    "features_test_gbm = features_test.copy()\n",
    "# Месяц регистрации преобразовывать не нужно\n",
    "category_features_gbm = ['VehicleType', 'Gearbox', 'Brand', 'Model', 'FuelType']\n",
    "\n",
    "encoder = OrdinalEncoder()\n",
    "encoder.fit(features_train_gbm[category_features_gbm])\n",
    "features_train_gbm[category_features_gbm] = encoder.transform(features_train_gbm[category_features_gbm])\n",
    "features_test_gbm[category_features_gbm] = encoder.transform(features_test_gbm[category_features_gbm])\n",
    "\n",
    "features_train_gbm.head()"
   ]
  },
  {
   "cell_type": "markdown",
   "metadata": {},
   "source": [
    "### LightGBM"
   ]
  },
  {
   "cell_type": "code",
   "execution_count": 49,
   "metadata": {},
   "outputs": [
    {
     "name": "stdout",
     "output_type": "stream",
     "text": [
      "CPU times: user 3min 10s, sys: 1.19 s, total: 3min 11s\n",
      "Wall time: 3min 13s\n"
     ]
    },
    {
     "data": {
      "text/plain": [
       "{'learning_rate': 0.1778279410038923, 'n_estimators': 40, 'num_leaves': 30}"
      ]
     },
     "execution_count": 49,
     "metadata": {},
     "output_type": "execute_result"
    }
   ],
   "source": [
    "%%time\n",
    "\n",
    "gbm = LGBMRegressor(boosting_type='gbdt', verbose=0, seed=RANDOM_STATE)\n",
    "gbm_params = {'learning_rate': np.logspace(-3, 0, 5), 'n_estimators': range(20, 61, 20), 'num_leaves': range(20, 41, 10)}\n",
    "\n",
    "grid_gbm = GridSearchCV(gbm, gbm_params, cv=3, scoring='neg_mean_squared_error')\n",
    "grid_gbm.fit(features_train_gbm, target_train);\n",
    "\n",
    "grid_gbm.best_params_\n",
    "\n",
    "# Для отладки - {'learning_rate': 0.1778279410038923, 'n_estimators': 60, 'num_leaves': 41}"
   ]
  },
  {
   "cell_type": "code",
   "execution_count": 50,
   "metadata": {},
   "outputs": [],
   "source": [
    "# Посмотрим, что получилось в итоге\n",
    "model_gbm = grid_gbm.best_estimator_\n",
    "model_gbm_helper = ModelHelper('LightGBM', model_gbm)\n",
    "model_gbm_helper.fit(features_train_gbm, target_train)\n",
    "model_gbm_helper.predict(features_test_gbm, target_test)\n",
    "result.append(model_gbm_helper.getResult())"
   ]
  },
  {
   "cell_type": "markdown",
   "metadata": {},
   "source": [
    "### CatBoost"
   ]
  },
  {
   "cell_type": "code",
   "execution_count": 51,
   "metadata": {},
   "outputs": [
    {
     "name": "stdout",
     "output_type": "stream",
     "text": [
      "CPU times: user 15min 30s, sys: 1min 17s, total: 16min 48s\n",
      "Wall time: 18min 37s\n"
     ]
    },
    {
     "data": {
      "text/plain": [
       "{'depth': 9, 'iterations': 40, 'learning_rate': 1.0}"
      ]
     },
     "execution_count": 51,
     "metadata": {},
     "output_type": "execute_result"
    }
   ],
   "source": [
    "%%time\n",
    "\n",
    "cbr = CatBoostRegressor(loss_function='RMSE',silent=True, cat_features=category_features, random_seed=RANDOM_STATE)\n",
    "cbr_params = {'learning_rate': np.logspace(-3, 0, 5),'iterations': range(20, 60, 20),'depth': range(5,10,2)}\n",
    "\n",
    "grid_cbr = GridSearchCV(cbr, cbr_params, cv=3, scoring='neg_mean_squared_error')\n",
    "grid_cbr.fit(features_train, target_train);\n",
    "\n",
    "grid_cbr.best_params_\n",
    "\n",
    "#  Для отладки: {'depth': 9, 'iterations': 40, 'learning_rate': 1.0}"
   ]
  },
  {
   "cell_type": "code",
   "execution_count": 52,
   "metadata": {},
   "outputs": [],
   "source": [
    "# Посмотрим, что получилось в итоге\n",
    "model_cbr = grid_cbr.best_estimator_\n",
    "model_cbr_helper = ModelHelper('CatBoost', model_cbr)\n",
    "model_cbr_helper.fit(features_train, target_train)\n",
    "model_cbr_helper.predict(features_test, target_test)\n",
    "result.append(model_cbr_helper.getResult())"
   ]
  },
  {
   "cell_type": "markdown",
   "metadata": {},
   "source": [
    "# 3. Анализ моделей"
   ]
  },
  {
   "cell_type": "code",
   "execution_count": 53,
   "metadata": {},
   "outputs": [
    {
     "name": "stdout",
     "output_type": "stream",
     "text": [
      "|              Модель|    Время обучения|Время предсказания|        RMSE|\n",
      "|       Random forest|          32.19294|           0.21924|  2141.50120|\n",
      "|   Linear regression|          27.83889|           0.23438|  3015.38254|\n",
      "|            LightGBM|           4.19900|           0.49037|  1764.53452|\n",
      "|            CatBoost|          25.56402|           0.27835|  1705.42145|\n"
     ]
    }
   ],
   "source": [
    "# Посмотрим, что в итоге получилось\n",
    "print_result(result)"
   ]
  },
  {
   "cell_type": "markdown",
   "metadata": {
    "pycharm": {
     "name": "#%% md\n"
    }
   },
   "source": [
    "# Общий вывод\n",
    "\n",
    "Подведем итоги. Исходя из условий задачи, заказчику важны:\n",
    "    1. качество предсказания;\n",
    "    2. скорость предсказания;\n",
    "    3. время обучения.\n",
    "\n",
    "Исходя из того, что порядок криттериев также учитывает их приоритет, следует отдать предпочтение CatBoost, т.к. она имеет лучшее качество предсказания (хотя и недалеко ушло от LightGBM). Однако существенно выигрывает в скорости предсказания. LightGBM тем не менее показывет лучшие результаты во времени обучения и почти не отстает в качестве. Поэтому если время обучения все же не менее критично, чем скорость предсказания, стоит отдать предпочтение ей.\n",
    "\n",
    "Линейные же модели обладают лучше скоростью предсказания, но плохим качеством и очень долго учатся, а значит не подходят для нашей задачи.\n",
    "\n",
    "\n",
    "\n"
   ]
  }
 ],
 "metadata": {
  "kernelspec": {
   "display_name": "Python 3",
   "language": "python",
   "name": "python3"
  },
  "language_info": {
   "codemirror_mode": {
    "name": "ipython",
    "version": 3
   },
   "file_extension": ".py",
   "mimetype": "text/x-python",
   "name": "python",
   "nbconvert_exporter": "python",
   "pygments_lexer": "ipython3",
   "version": "3.7.8"
  },
  "toc": {
   "base_numbering": 1,
   "nav_menu": {},
   "number_sections": true,
   "sideBar": true,
   "skip_h1_title": true,
   "title_cell": "Table of Contents",
   "title_sidebar": "Contents",
   "toc_cell": false,
   "toc_position": {},
   "toc_section_display": true,
   "toc_window_display": false
  }
 },
 "nbformat": 4,
 "nbformat_minor": 2
}