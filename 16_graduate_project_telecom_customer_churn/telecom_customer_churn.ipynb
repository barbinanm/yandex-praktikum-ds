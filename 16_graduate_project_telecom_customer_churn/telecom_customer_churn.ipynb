{
 "cells": [
  {
   "cell_type": "markdown",
   "metadata": {},
   "source": [
    "# Задача\n",
    "\n",
    "Оператор связи «Ниединогоразрыва.ком» хочет научиться прогнозировать отток клиентов. Если выяснится, что пользователь планирует уйти, ему будут предложены промокоды и специальные условия. Команда оператора собрала персональные данные о некоторых клиентах, информацию об их тарифах и договорах.\n",
    "\n",
    "### Описание услуг\n",
    "\n",
    "Оператор предоставляет два основных типа услуг: \n",
    "\n",
    "1. Стационарную телефонную связь. Возможно подключение телефонного аппарата к нескольким линиям одновременно.\n",
    "2. Интернет. Подключение может быть двух типов: через телефонную линию (DSL*,* от англ. *digital subscriber line*, «цифровая абонентская линия») или оптоволоконный кабель (*Fiber optic*).  \n",
    "\n",
    "Также доступны такие услуги:\n",
    "\n",
    "- Интернет-безопасность: антивирус (*DeviceProtection*) и блокировка небезопасных сайтов (*OnlineSecurity*);\n",
    "- Выделенная линия технической поддержки (*TechSupport*);\n",
    "- Облачное хранилище файлов для резервного копирования данных (*OnlineBackup*);\n",
    "- Стриминговое телевидение (*StreamingTV*) и каталог фильмов (*StreamingMovies*).\n",
    "\n",
    "За услуги клиенты могут платить каждый месяц или заключить договор на 1–2 года. Доступны различные способы расчёта и возможность получения электронного чека.\n",
    "\n",
    "### Описание данных\n",
    "\n",
    "Данные состоят из файлов, полученных из разных источников:\n",
    "\n",
    "- `contract.csv` — информация о договоре;\n",
    "- `personal.csv` — персональные данные клиента;\n",
    "- `internet.csv` — информация об интернет-услугах;\n",
    "- `phone.csv` — информация об услугах телефонии.\n",
    "\n",
    "Во всех файлах столбец `customerID` содержит код клиента.\n",
    "\n",
    "Информация о договорах актуальна на 1 февраля 2020."
   ]
  },
  {
   "cell_type": "markdown",
   "metadata": {},
   "source": [
    "# План работы\n",
    "\n",
    "1. Провести обзор и общую подготовку данных (проверить типы и содержимое, исправить данные при необходимости, провести работу над пропусками)\n",
    "2. Исследовать данные (посмотреть зависимости, вузализация данных, предварительные выводы)\n",
    "3. Окончательная подготовка данных для моделей (балансировка, исключение признаков, скалирование, OHE)\n",
    "4. Работа с моделями и подбор параметров (в т.ч. оптимизация для лучшего решения)\n",
    "5. Выбор итоговой модели и вывод"
   ]
  },
  {
   "cell_type": "code",
   "execution_count": 1,
   "metadata": {},
   "outputs": [],
   "source": [
    "# блок импорта\n",
    "import pandas as pd\n",
    "import numpy as np\n",
    "import matplotlib.pyplot as plt\n",
    "import math\n",
    "\n",
    "# Подготовка моделей\n",
    "from sklearn.preprocessing import StandardScaler\n",
    "from sklearn.model_selection import train_test_split\n",
    "from sklearn.utils import shuffle\n",
    "\n",
    "# Модели\n",
    "from sklearn.tree import DecisionTreeClassifier\n",
    "from sklearn.linear_model import LogisticRegression\n",
    "from sklearn.ensemble import RandomForestClassifier\n",
    "from sklearn.model_selection import GridSearchCV\n",
    "\n",
    "# Метрики\n",
    "from sklearn.metrics import roc_auc_score\n",
    "from sklearn.metrics import roc_curve\n",
    "\n",
    "# CatBoost\n",
    "from catboost import CatBoostClassifier, Pool, cv\n",
    "\n",
    "RANDOM_STATE = 42"
   ]
  },
  {
   "cell_type": "code",
   "execution_count": 2,
   "metadata": {},
   "outputs": [],
   "source": [
    "import random\n",
    "    \n",
    "def init_random(state):\n",
    "    random.seed(RANDOM_STATE)\n",
    "    np.random.seed(RANDOM_STATE)\n",
    "\n",
    "init_random(RANDOM_STATE)"
   ]
  },
  {
   "cell_type": "markdown",
   "metadata": {},
   "source": [
    "## Обзор данных и их подготовка"
   ]
  },
  {
   "cell_type": "code",
   "execution_count": 3,
   "metadata": {},
   "outputs": [],
   "source": [
    "# Загрузим данные\n",
    "contract = pd.read_csv('data/contract.csv')\n",
    "internet = pd.read_csv('data/internet.csv')\n",
    "personal = pd.read_csv('data/personal.csv')\n",
    "phone = pd.read_csv('data/phone.csv')"
   ]
  },
  {
   "cell_type": "code",
   "execution_count": 4,
   "metadata": {},
   "outputs": [
    {
     "data": {
      "text/html": [
       "<div>\n",
       "<style scoped>\n",
       "    .dataframe tbody tr th:only-of-type {\n",
       "        vertical-align: middle;\n",
       "    }\n",
       "\n",
       "    .dataframe tbody tr th {\n",
       "        vertical-align: top;\n",
       "    }\n",
       "\n",
       "    .dataframe thead th {\n",
       "        text-align: right;\n",
       "    }\n",
       "</style>\n",
       "<table border=\"1\" class=\"dataframe\">\n",
       "  <thead>\n",
       "    <tr style=\"text-align: right;\">\n",
       "      <th></th>\n",
       "      <th>customerID</th>\n",
       "      <th>BeginDate</th>\n",
       "      <th>EndDate</th>\n",
       "      <th>Type</th>\n",
       "      <th>PaperlessBilling</th>\n",
       "      <th>PaymentMethod</th>\n",
       "      <th>MonthlyCharges</th>\n",
       "      <th>TotalCharges</th>\n",
       "    </tr>\n",
       "  </thead>\n",
       "  <tbody>\n",
       "    <tr>\n",
       "      <th>185</th>\n",
       "      <td>1024-GUALD</td>\n",
       "      <td>2019-10-01</td>\n",
       "      <td>2019-11-01 00:00:00</td>\n",
       "      <td>Month-to-month</td>\n",
       "      <td>Yes</td>\n",
       "      <td>Electronic check</td>\n",
       "      <td>24.80</td>\n",
       "      <td>24.8</td>\n",
       "    </tr>\n",
       "    <tr>\n",
       "      <th>2715</th>\n",
       "      <td>0484-JPBRU</td>\n",
       "      <td>2016-09-01</td>\n",
       "      <td>No</td>\n",
       "      <td>Month-to-month</td>\n",
       "      <td>Yes</td>\n",
       "      <td>Bank transfer (automatic)</td>\n",
       "      <td>25.25</td>\n",
       "      <td>996.45</td>\n",
       "    </tr>\n",
       "    <tr>\n",
       "      <th>3825</th>\n",
       "      <td>3620-EHIMZ</td>\n",
       "      <td>2015-10-01</td>\n",
       "      <td>No</td>\n",
       "      <td>Two year</td>\n",
       "      <td>No</td>\n",
       "      <td>Mailed check</td>\n",
       "      <td>19.35</td>\n",
       "      <td>1031.7</td>\n",
       "    </tr>\n",
       "    <tr>\n",
       "      <th>1807</th>\n",
       "      <td>6910-HADCM</td>\n",
       "      <td>2019-09-01</td>\n",
       "      <td>2019-10-01 00:00:00</td>\n",
       "      <td>Month-to-month</td>\n",
       "      <td>No</td>\n",
       "      <td>Electronic check</td>\n",
       "      <td>76.35</td>\n",
       "      <td>76.35</td>\n",
       "    </tr>\n",
       "    <tr>\n",
       "      <th>132</th>\n",
       "      <td>8587-XYZSF</td>\n",
       "      <td>2014-07-01</td>\n",
       "      <td>No</td>\n",
       "      <td>Two year</td>\n",
       "      <td>No</td>\n",
       "      <td>Bank transfer (automatic)</td>\n",
       "      <td>50.55</td>\n",
       "      <td>3260.1</td>\n",
       "    </tr>\n",
       "  </tbody>\n",
       "</table>\n",
       "</div>"
      ],
      "text/plain": [
       "      customerID   BeginDate              EndDate            Type  \\\n",
       "185   1024-GUALD  2019-10-01  2019-11-01 00:00:00  Month-to-month   \n",
       "2715  0484-JPBRU  2016-09-01                   No  Month-to-month   \n",
       "3825  3620-EHIMZ  2015-10-01                   No        Two year   \n",
       "1807  6910-HADCM  2019-09-01  2019-10-01 00:00:00  Month-to-month   \n",
       "132   8587-XYZSF  2014-07-01                   No        Two year   \n",
       "\n",
       "     PaperlessBilling              PaymentMethod  MonthlyCharges TotalCharges  \n",
       "185               Yes           Electronic check           24.80         24.8  \n",
       "2715              Yes  Bank transfer (automatic)           25.25       996.45  \n",
       "3825               No               Mailed check           19.35       1031.7  \n",
       "1807               No           Electronic check           76.35        76.35  \n",
       "132                No  Bank transfer (automatic)           50.55       3260.1  "
      ]
     },
     "execution_count": 4,
     "metadata": {},
     "output_type": "execute_result"
    }
   ],
   "source": [
    "contract.sample(5)"
   ]
  },
  {
   "cell_type": "code",
   "execution_count": 5,
   "metadata": {},
   "outputs": [
    {
     "data": {
      "text/html": [
       "<div>\n",
       "<style scoped>\n",
       "    .dataframe tbody tr th:only-of-type {\n",
       "        vertical-align: middle;\n",
       "    }\n",
       "\n",
       "    .dataframe tbody tr th {\n",
       "        vertical-align: top;\n",
       "    }\n",
       "\n",
       "    .dataframe thead th {\n",
       "        text-align: right;\n",
       "    }\n",
       "</style>\n",
       "<table border=\"1\" class=\"dataframe\">\n",
       "  <thead>\n",
       "    <tr style=\"text-align: right;\">\n",
       "      <th></th>\n",
       "      <th>customerID</th>\n",
       "      <th>InternetService</th>\n",
       "      <th>OnlineSecurity</th>\n",
       "      <th>OnlineBackup</th>\n",
       "      <th>DeviceProtection</th>\n",
       "      <th>TechSupport</th>\n",
       "      <th>StreamingTV</th>\n",
       "      <th>StreamingMovies</th>\n",
       "    </tr>\n",
       "  </thead>\n",
       "  <tbody>\n",
       "    <tr>\n",
       "      <th>811</th>\n",
       "      <td>3748-FVMZZ</td>\n",
       "      <td>DSL</td>\n",
       "      <td>No</td>\n",
       "      <td>No</td>\n",
       "      <td>No</td>\n",
       "      <td>Yes</td>\n",
       "      <td>No</td>\n",
       "      <td>Yes</td>\n",
       "    </tr>\n",
       "    <tr>\n",
       "      <th>2065</th>\n",
       "      <td>5028-GZLDO</td>\n",
       "      <td>Fiber optic</td>\n",
       "      <td>No</td>\n",
       "      <td>No</td>\n",
       "      <td>No</td>\n",
       "      <td>No</td>\n",
       "      <td>No</td>\n",
       "      <td>No</td>\n",
       "    </tr>\n",
       "    <tr>\n",
       "      <th>5030</th>\n",
       "      <td>0254-WWRKD</td>\n",
       "      <td>DSL</td>\n",
       "      <td>No</td>\n",
       "      <td>Yes</td>\n",
       "      <td>No</td>\n",
       "      <td>No</td>\n",
       "      <td>No</td>\n",
       "      <td>No</td>\n",
       "    </tr>\n",
       "    <tr>\n",
       "      <th>4974</th>\n",
       "      <td>2869-ADAWR</td>\n",
       "      <td>Fiber optic</td>\n",
       "      <td>No</td>\n",
       "      <td>Yes</td>\n",
       "      <td>No</td>\n",
       "      <td>No</td>\n",
       "      <td>Yes</td>\n",
       "      <td>No</td>\n",
       "    </tr>\n",
       "    <tr>\n",
       "      <th>4346</th>\n",
       "      <td>9572-MTILT</td>\n",
       "      <td>Fiber optic</td>\n",
       "      <td>Yes</td>\n",
       "      <td>Yes</td>\n",
       "      <td>Yes</td>\n",
       "      <td>Yes</td>\n",
       "      <td>Yes</td>\n",
       "      <td>No</td>\n",
       "    </tr>\n",
       "  </tbody>\n",
       "</table>\n",
       "</div>"
      ],
      "text/plain": [
       "      customerID InternetService OnlineSecurity OnlineBackup DeviceProtection  \\\n",
       "811   3748-FVMZZ             DSL             No           No               No   \n",
       "2065  5028-GZLDO     Fiber optic             No           No               No   \n",
       "5030  0254-WWRKD             DSL             No          Yes               No   \n",
       "4974  2869-ADAWR     Fiber optic             No          Yes               No   \n",
       "4346  9572-MTILT     Fiber optic            Yes          Yes              Yes   \n",
       "\n",
       "     TechSupport StreamingTV StreamingMovies  \n",
       "811          Yes          No             Yes  \n",
       "2065          No          No              No  \n",
       "5030          No          No              No  \n",
       "4974          No         Yes              No  \n",
       "4346         Yes         Yes              No  "
      ]
     },
     "execution_count": 5,
     "metadata": {},
     "output_type": "execute_result"
    }
   ],
   "source": [
    "internet.sample(5)"
   ]
  },
  {
   "cell_type": "code",
   "execution_count": 6,
   "metadata": {},
   "outputs": [
    {
     "data": {
      "text/html": [
       "<div>\n",
       "<style scoped>\n",
       "    .dataframe tbody tr th:only-of-type {\n",
       "        vertical-align: middle;\n",
       "    }\n",
       "\n",
       "    .dataframe tbody tr th {\n",
       "        vertical-align: top;\n",
       "    }\n",
       "\n",
       "    .dataframe thead th {\n",
       "        text-align: right;\n",
       "    }\n",
       "</style>\n",
       "<table border=\"1\" class=\"dataframe\">\n",
       "  <thead>\n",
       "    <tr style=\"text-align: right;\">\n",
       "      <th></th>\n",
       "      <th>customerID</th>\n",
       "      <th>gender</th>\n",
       "      <th>SeniorCitizen</th>\n",
       "      <th>Partner</th>\n",
       "      <th>Dependents</th>\n",
       "    </tr>\n",
       "  </thead>\n",
       "  <tbody>\n",
       "    <tr>\n",
       "      <th>451</th>\n",
       "      <td>5760-WRAHC</td>\n",
       "      <td>Female</td>\n",
       "      <td>1</td>\n",
       "      <td>No</td>\n",
       "      <td>No</td>\n",
       "    </tr>\n",
       "    <tr>\n",
       "      <th>5087</th>\n",
       "      <td>8739-QOTTN</td>\n",
       "      <td>Female</td>\n",
       "      <td>0</td>\n",
       "      <td>Yes</td>\n",
       "      <td>No</td>\n",
       "    </tr>\n",
       "    <tr>\n",
       "      <th>4356</th>\n",
       "      <td>3806-YAZOV</td>\n",
       "      <td>Female</td>\n",
       "      <td>0</td>\n",
       "      <td>No</td>\n",
       "      <td>No</td>\n",
       "    </tr>\n",
       "    <tr>\n",
       "      <th>5282</th>\n",
       "      <td>3049-SOLAY</td>\n",
       "      <td>Female</td>\n",
       "      <td>0</td>\n",
       "      <td>Yes</td>\n",
       "      <td>No</td>\n",
       "    </tr>\n",
       "    <tr>\n",
       "      <th>3547</th>\n",
       "      <td>1568-BEKZM</td>\n",
       "      <td>Male</td>\n",
       "      <td>1</td>\n",
       "      <td>Yes</td>\n",
       "      <td>No</td>\n",
       "    </tr>\n",
       "  </tbody>\n",
       "</table>\n",
       "</div>"
      ],
      "text/plain": [
       "      customerID  gender  SeniorCitizen Partner Dependents\n",
       "451   5760-WRAHC  Female              1      No         No\n",
       "5087  8739-QOTTN  Female              0     Yes         No\n",
       "4356  3806-YAZOV  Female              0      No         No\n",
       "5282  3049-SOLAY  Female              0     Yes         No\n",
       "3547  1568-BEKZM    Male              1     Yes         No"
      ]
     },
     "execution_count": 6,
     "metadata": {},
     "output_type": "execute_result"
    }
   ],
   "source": [
    "personal.sample(5)"
   ]
  },
  {
   "cell_type": "code",
   "execution_count": 7,
   "metadata": {},
   "outputs": [
    {
     "data": {
      "text/html": [
       "<div>\n",
       "<style scoped>\n",
       "    .dataframe tbody tr th:only-of-type {\n",
       "        vertical-align: middle;\n",
       "    }\n",
       "\n",
       "    .dataframe tbody tr th {\n",
       "        vertical-align: top;\n",
       "    }\n",
       "\n",
       "    .dataframe thead th {\n",
       "        text-align: right;\n",
       "    }\n",
       "</style>\n",
       "<table border=\"1\" class=\"dataframe\">\n",
       "  <thead>\n",
       "    <tr style=\"text-align: right;\">\n",
       "      <th></th>\n",
       "      <th>customerID</th>\n",
       "      <th>MultipleLines</th>\n",
       "    </tr>\n",
       "  </thead>\n",
       "  <tbody>\n",
       "    <tr>\n",
       "      <th>2981</th>\n",
       "      <td>1085-LDWAM</td>\n",
       "      <td>No</td>\n",
       "    </tr>\n",
       "    <tr>\n",
       "      <th>5471</th>\n",
       "      <td>6595-YGXIT</td>\n",
       "      <td>Yes</td>\n",
       "    </tr>\n",
       "    <tr>\n",
       "      <th>2214</th>\n",
       "      <td>0142-GVYSN</td>\n",
       "      <td>No</td>\n",
       "    </tr>\n",
       "    <tr>\n",
       "      <th>1392</th>\n",
       "      <td>7107-UBYKY</td>\n",
       "      <td>Yes</td>\n",
       "    </tr>\n",
       "    <tr>\n",
       "      <th>4736</th>\n",
       "      <td>1241-EZFMJ</td>\n",
       "      <td>Yes</td>\n",
       "    </tr>\n",
       "  </tbody>\n",
       "</table>\n",
       "</div>"
      ],
      "text/plain": [
       "      customerID MultipleLines\n",
       "2981  1085-LDWAM            No\n",
       "5471  6595-YGXIT           Yes\n",
       "2214  0142-GVYSN            No\n",
       "1392  7107-UBYKY           Yes\n",
       "4736  1241-EZFMJ           Yes"
      ]
     },
     "execution_count": 7,
     "metadata": {},
     "output_type": "execute_result"
    }
   ],
   "source": [
    "phone.sample(5)"
   ]
  },
  {
   "cell_type": "code",
   "execution_count": 8,
   "metadata": {},
   "outputs": [
    {
     "data": {
      "text/plain": [
       "((7043, 8), (5517, 8), (7043, 5), (6361, 2))"
      ]
     },
     "execution_count": 8,
     "metadata": {},
     "output_type": "execute_result"
    }
   ],
   "source": [
    "# Проверим, все ли данные у нас есть\n",
    "contract.shape, internet.shape, personal.shape, phone.shape"
   ]
  },
  {
   "cell_type": "code",
   "execution_count": 9,
   "metadata": {},
   "outputs": [
    {
     "data": {
      "text/html": [
       "<div>\n",
       "<style scoped>\n",
       "    .dataframe tbody tr th:only-of-type {\n",
       "        vertical-align: middle;\n",
       "    }\n",
       "\n",
       "    .dataframe tbody tr th {\n",
       "        vertical-align: top;\n",
       "    }\n",
       "\n",
       "    .dataframe thead th {\n",
       "        text-align: right;\n",
       "    }\n",
       "</style>\n",
       "<table border=\"1\" class=\"dataframe\">\n",
       "  <thead>\n",
       "    <tr style=\"text-align: right;\">\n",
       "      <th></th>\n",
       "      <th>BeginDate</th>\n",
       "      <th>EndDate</th>\n",
       "      <th>Type</th>\n",
       "      <th>PaperlessBilling</th>\n",
       "      <th>PaymentMethod</th>\n",
       "      <th>MonthlyCharges</th>\n",
       "      <th>TotalCharges</th>\n",
       "      <th>gender</th>\n",
       "      <th>SeniorCitizen</th>\n",
       "      <th>Partner</th>\n",
       "      <th>Dependents</th>\n",
       "      <th>InternetService</th>\n",
       "      <th>OnlineSecurity</th>\n",
       "      <th>OnlineBackup</th>\n",
       "      <th>DeviceProtection</th>\n",
       "      <th>TechSupport</th>\n",
       "      <th>StreamingTV</th>\n",
       "      <th>StreamingMovies</th>\n",
       "      <th>MultipleLines</th>\n",
       "    </tr>\n",
       "    <tr>\n",
       "      <th>customerID</th>\n",
       "      <th></th>\n",
       "      <th></th>\n",
       "      <th></th>\n",
       "      <th></th>\n",
       "      <th></th>\n",
       "      <th></th>\n",
       "      <th></th>\n",
       "      <th></th>\n",
       "      <th></th>\n",
       "      <th></th>\n",
       "      <th></th>\n",
       "      <th></th>\n",
       "      <th></th>\n",
       "      <th></th>\n",
       "      <th></th>\n",
       "      <th></th>\n",
       "      <th></th>\n",
       "      <th></th>\n",
       "      <th></th>\n",
       "    </tr>\n",
       "  </thead>\n",
       "  <tbody>\n",
       "    <tr>\n",
       "      <th>3643-AHCFP</th>\n",
       "      <td>2019-06-01</td>\n",
       "      <td>2020-01-01 00:00:00</td>\n",
       "      <td>Month-to-month</td>\n",
       "      <td>Yes</td>\n",
       "      <td>Bank transfer (automatic)</td>\n",
       "      <td>95.60</td>\n",
       "      <td>644.35</td>\n",
       "      <td>Male</td>\n",
       "      <td>1</td>\n",
       "      <td>Yes</td>\n",
       "      <td>No</td>\n",
       "      <td>Fiber optic</td>\n",
       "      <td>No</td>\n",
       "      <td>No</td>\n",
       "      <td>No</td>\n",
       "      <td>No</td>\n",
       "      <td>Yes</td>\n",
       "      <td>Yes</td>\n",
       "      <td>Yes</td>\n",
       "    </tr>\n",
       "    <tr>\n",
       "      <th>7450-NWRTR</th>\n",
       "      <td>2018-12-01</td>\n",
       "      <td>2019-12-01 00:00:00</td>\n",
       "      <td>Month-to-month</td>\n",
       "      <td>Yes</td>\n",
       "      <td>Electronic check</td>\n",
       "      <td>99.45</td>\n",
       "      <td>1200.15</td>\n",
       "      <td>Male</td>\n",
       "      <td>1</td>\n",
       "      <td>No</td>\n",
       "      <td>No</td>\n",
       "      <td>Fiber optic</td>\n",
       "      <td>No</td>\n",
       "      <td>No</td>\n",
       "      <td>Yes</td>\n",
       "      <td>No</td>\n",
       "      <td>Yes</td>\n",
       "      <td>Yes</td>\n",
       "      <td>Yes</td>\n",
       "    </tr>\n",
       "    <tr>\n",
       "      <th>6691-CCIHA</th>\n",
       "      <td>2014-12-01</td>\n",
       "      <td>No</td>\n",
       "      <td>Two year</td>\n",
       "      <td>Yes</td>\n",
       "      <td>Electronic check</td>\n",
       "      <td>84.95</td>\n",
       "      <td>5150.55</td>\n",
       "      <td>Female</td>\n",
       "      <td>0</td>\n",
       "      <td>Yes</td>\n",
       "      <td>No</td>\n",
       "      <td>DSL</td>\n",
       "      <td>Yes</td>\n",
       "      <td>Yes</td>\n",
       "      <td>No</td>\n",
       "      <td>Yes</td>\n",
       "      <td>Yes</td>\n",
       "      <td>Yes</td>\n",
       "      <td>Yes</td>\n",
       "    </tr>\n",
       "    <tr>\n",
       "      <th>5472-CVMDX</th>\n",
       "      <td>2014-06-01</td>\n",
       "      <td>No</td>\n",
       "      <td>Two year</td>\n",
       "      <td>No</td>\n",
       "      <td>Mailed check</td>\n",
       "      <td>38.90</td>\n",
       "      <td>2719.2</td>\n",
       "      <td>Female</td>\n",
       "      <td>0</td>\n",
       "      <td>No</td>\n",
       "      <td>No</td>\n",
       "      <td>DSL</td>\n",
       "      <td>Yes</td>\n",
       "      <td>No</td>\n",
       "      <td>Yes</td>\n",
       "      <td>Yes</td>\n",
       "      <td>No</td>\n",
       "      <td>No</td>\n",
       "      <td>NaN</td>\n",
       "    </tr>\n",
       "    <tr>\n",
       "      <th>6620-HVDUJ</th>\n",
       "      <td>2018-02-01</td>\n",
       "      <td>No</td>\n",
       "      <td>Month-to-month</td>\n",
       "      <td>No</td>\n",
       "      <td>Bank transfer (automatic)</td>\n",
       "      <td>60.45</td>\n",
       "      <td>1440.75</td>\n",
       "      <td>Male</td>\n",
       "      <td>0</td>\n",
       "      <td>No</td>\n",
       "      <td>No</td>\n",
       "      <td>DSL</td>\n",
       "      <td>Yes</td>\n",
       "      <td>Yes</td>\n",
       "      <td>No</td>\n",
       "      <td>Yes</td>\n",
       "      <td>No</td>\n",
       "      <td>No</td>\n",
       "      <td>No</td>\n",
       "    </tr>\n",
       "  </tbody>\n",
       "</table>\n",
       "</div>"
      ],
      "text/plain": [
       "             BeginDate              EndDate            Type PaperlessBilling  \\\n",
       "customerID                                                                     \n",
       "3643-AHCFP  2019-06-01  2020-01-01 00:00:00  Month-to-month              Yes   \n",
       "7450-NWRTR  2018-12-01  2019-12-01 00:00:00  Month-to-month              Yes   \n",
       "6691-CCIHA  2014-12-01                   No        Two year              Yes   \n",
       "5472-CVMDX  2014-06-01                   No        Two year               No   \n",
       "6620-HVDUJ  2018-02-01                   No  Month-to-month               No   \n",
       "\n",
       "                        PaymentMethod  MonthlyCharges TotalCharges  gender  \\\n",
       "customerID                                                                   \n",
       "3643-AHCFP  Bank transfer (automatic)           95.60       644.35    Male   \n",
       "7450-NWRTR           Electronic check           99.45      1200.15    Male   \n",
       "6691-CCIHA           Electronic check           84.95      5150.55  Female   \n",
       "5472-CVMDX               Mailed check           38.90       2719.2  Female   \n",
       "6620-HVDUJ  Bank transfer (automatic)           60.45      1440.75    Male   \n",
       "\n",
       "            SeniorCitizen Partner Dependents InternetService OnlineSecurity  \\\n",
       "customerID                                                                    \n",
       "3643-AHCFP              1     Yes         No     Fiber optic             No   \n",
       "7450-NWRTR              1      No         No     Fiber optic             No   \n",
       "6691-CCIHA              0     Yes         No             DSL            Yes   \n",
       "5472-CVMDX              0      No         No             DSL            Yes   \n",
       "6620-HVDUJ              0      No         No             DSL            Yes   \n",
       "\n",
       "           OnlineBackup DeviceProtection TechSupport StreamingTV  \\\n",
       "customerID                                                         \n",
       "3643-AHCFP           No               No          No         Yes   \n",
       "7450-NWRTR           No              Yes          No         Yes   \n",
       "6691-CCIHA          Yes               No         Yes         Yes   \n",
       "5472-CVMDX           No              Yes         Yes          No   \n",
       "6620-HVDUJ          Yes               No         Yes          No   \n",
       "\n",
       "           StreamingMovies MultipleLines  \n",
       "customerID                                \n",
       "3643-AHCFP             Yes           Yes  \n",
       "7450-NWRTR             Yes           Yes  \n",
       "6691-CCIHA             Yes           Yes  \n",
       "5472-CVMDX              No           NaN  \n",
       "6620-HVDUJ              No            No  "
      ]
     },
     "execution_count": 9,
     "metadata": {},
     "output_type": "execute_result"
    }
   ],
   "source": [
    "# Нет смысла работать с признаками отдельно, соберём все данные вместе и посмотрим, что получится\n",
    "df = contract.merge(personal, how='left', on='customerID').merge(internet, how='left', on='customerID').merge(phone, how='left', on='customerID')\n",
    "df = df.set_index('customerID')\n",
    "df.sample(5)"
   ]
  },
  {
   "cell_type": "code",
   "execution_count": 10,
   "metadata": {},
   "outputs": [
    {
     "name": "stdout",
     "output_type": "stream",
     "text": [
      "<class 'pandas.core.frame.DataFrame'>\n",
      "Index: 7043 entries, 7590-VHVEG to 3186-AJIEK\n",
      "Data columns (total 19 columns):\n",
      " #   Column            Non-Null Count  Dtype  \n",
      "---  ------            --------------  -----  \n",
      " 0   BeginDate         7043 non-null   object \n",
      " 1   EndDate           7043 non-null   object \n",
      " 2   Type              7043 non-null   object \n",
      " 3   PaperlessBilling  7043 non-null   object \n",
      " 4   PaymentMethod     7043 non-null   object \n",
      " 5   MonthlyCharges    7043 non-null   float64\n",
      " 6   TotalCharges      7043 non-null   object \n",
      " 7   gender            7043 non-null   object \n",
      " 8   SeniorCitizen     7043 non-null   int64  \n",
      " 9   Partner           7043 non-null   object \n",
      " 10  Dependents        7043 non-null   object \n",
      " 11  InternetService   5517 non-null   object \n",
      " 12  OnlineSecurity    5517 non-null   object \n",
      " 13  OnlineBackup      5517 non-null   object \n",
      " 14  DeviceProtection  5517 non-null   object \n",
      " 15  TechSupport       5517 non-null   object \n",
      " 16  StreamingTV       5517 non-null   object \n",
      " 17  StreamingMovies   5517 non-null   object \n",
      " 18  MultipleLines     6361 non-null   object \n",
      "dtypes: float64(1), int64(1), object(17)\n",
      "memory usage: 1.1+ MB\n"
     ]
    }
   ],
   "source": [
    "# Посмотрим базовую информацию\n",
    "df.info()"
   ]
  },
  {
   "cell_type": "markdown",
   "metadata": {},
   "source": [
    "### Обработаем значения"
   ]
  },
  {
   "cell_type": "code",
   "execution_count": 11,
   "metadata": {},
   "outputs": [
    {
     "data": {
      "text/plain": [
       "Fiber optic    3096\n",
       "DSL            2421\n",
       "Name: InternetService, dtype: int64"
      ]
     },
     "execution_count": 11,
     "metadata": {},
     "output_type": "execute_result"
    }
   ],
   "source": [
    "# Пропуски, в нашем случае, скорее всего означают отсутствие услуг (а значит, мы смело можем ставить No)\n",
    "# Проблема только в поле InternetService - тип подключения не может быть задан, посмотрим на вариации\n",
    "df['InternetService'].value_counts()"
   ]
  },
  {
   "cell_type": "code",
   "execution_count": 12,
   "metadata": {},
   "outputs": [
    {
     "data": {
      "text/plain": [
       "Fiber optic    3096\n",
       "DSL            2421\n",
       "Undefined      1526\n",
       "Name: InternetService, dtype: int64"
      ]
     },
     "execution_count": 12,
     "metadata": {},
     "output_type": "execute_result"
    }
   ],
   "source": [
    "# При таком распределении даже заполнение модой не кажется правильным вариантом, поэтому предусмотрим еще одно словарное значение Undefined\n",
    "df['InternetService'] = df['InternetService'].fillna('Undefined')\n",
    "df['InternetService'].value_counts()"
   ]
  },
  {
   "cell_type": "code",
   "execution_count": 13,
   "metadata": {},
   "outputs": [],
   "source": [
    "# Заполним остальные поля как No\n",
    "null_columns = ['OnlineSecurity', 'OnlineBackup', 'DeviceProtection', 'TechSupport', 'StreamingTV', 'StreamingMovies', 'MultipleLines']\n",
    "df[null_columns] = df[null_columns].fillna('No')"
   ]
  },
  {
   "cell_type": "code",
   "execution_count": 14,
   "metadata": {},
   "outputs": [],
   "source": [
    "# Для единообразия переименуем колонку\n",
    "df = df.rename(columns={'gender':'Gender'})"
   ]
  },
  {
   "cell_type": "code",
   "execution_count": 15,
   "metadata": {},
   "outputs": [],
   "source": [
    "# Типы данных особо не имеет смысла менять, т.к. различные Yes-No будут позже певращены в числа\n",
    "# При этом сама дата начала договора нам мало о чём скажет, однако количество месяцев пользования услугами могут оказать влияние\n",
    "# Держим в голове, что No в случае EndDate означает 1 февраля 2020 (исходя из условий задачи)\n",
    "\n",
    "# Сперва сохраним целевой признак перед преобразованием дат\n",
    "df['Result'] = (df['EndDate'] != 'No').astype('int')\n",
    "\n",
    "# Преобразуем типы дат, чтобы получить нужную нам информацию\n",
    "df.loc[(df['EndDate'] == 'No'), 'EndDate'] = '2020-02-01'\n",
    "df['EndDate'] = pd.to_datetime(df['EndDate'])\n",
    "df['BeginDate'] = pd.to_datetime(df['BeginDate'])\n",
    "\n",
    "# Рассчитаем количество месяцев пользования услугами\n",
    "df['UsingServiceDays'] = (pd.to_datetime(df['EndDate']) - pd.to_datetime(df['BeginDate'])).dt.days\n",
    "df['UsingServiceDays'] = df['UsingServiceDays'].astype('int')"
   ]
  },
  {
   "cell_type": "code",
   "execution_count": 16,
   "metadata": {},
   "outputs": [],
   "source": [
    "# Преобразуем все значения вида Yes-No в числа\n",
    "for column in df:\n",
    "    tmp = df[column].unique()\n",
    "    tmp.sort()\n",
    "    if list(tmp) == ['No', 'Yes']:\n",
    "        df[column] = (df[column] == 'Yes').astype('int')\n",
    "        df[column] = df[column].astype('int')"
   ]
  },
  {
   "cell_type": "code",
   "execution_count": 17,
   "metadata": {},
   "outputs": [
    {
     "data": {
      "text/html": [
       "<div>\n",
       "<style scoped>\n",
       "    .dataframe tbody tr th:only-of-type {\n",
       "        vertical-align: middle;\n",
       "    }\n",
       "\n",
       "    .dataframe tbody tr th {\n",
       "        vertical-align: top;\n",
       "    }\n",
       "\n",
       "    .dataframe thead th {\n",
       "        text-align: right;\n",
       "    }\n",
       "</style>\n",
       "<table border=\"1\" class=\"dataframe\">\n",
       "  <thead>\n",
       "    <tr style=\"text-align: right;\">\n",
       "      <th></th>\n",
       "      <th>BeginDate</th>\n",
       "      <th>EndDate</th>\n",
       "      <th>Type</th>\n",
       "      <th>PaperlessBilling</th>\n",
       "      <th>PaymentMethod</th>\n",
       "      <th>MonthlyCharges</th>\n",
       "      <th>TotalCharges</th>\n",
       "      <th>Gender</th>\n",
       "      <th>SeniorCitizen</th>\n",
       "      <th>Partner</th>\n",
       "      <th>...</th>\n",
       "      <th>InternetService</th>\n",
       "      <th>OnlineSecurity</th>\n",
       "      <th>OnlineBackup</th>\n",
       "      <th>DeviceProtection</th>\n",
       "      <th>TechSupport</th>\n",
       "      <th>StreamingTV</th>\n",
       "      <th>StreamingMovies</th>\n",
       "      <th>MultipleLines</th>\n",
       "      <th>Result</th>\n",
       "      <th>UsingServiceDays</th>\n",
       "    </tr>\n",
       "    <tr>\n",
       "      <th>customerID</th>\n",
       "      <th></th>\n",
       "      <th></th>\n",
       "      <th></th>\n",
       "      <th></th>\n",
       "      <th></th>\n",
       "      <th></th>\n",
       "      <th></th>\n",
       "      <th></th>\n",
       "      <th></th>\n",
       "      <th></th>\n",
       "      <th></th>\n",
       "      <th></th>\n",
       "      <th></th>\n",
       "      <th></th>\n",
       "      <th></th>\n",
       "      <th></th>\n",
       "      <th></th>\n",
       "      <th></th>\n",
       "      <th></th>\n",
       "      <th></th>\n",
       "      <th></th>\n",
       "    </tr>\n",
       "  </thead>\n",
       "  <tbody>\n",
       "    <tr>\n",
       "      <th>4472-LVYGI</th>\n",
       "      <td>2020-02-01</td>\n",
       "      <td>2020-02-01</td>\n",
       "      <td>Two year</td>\n",
       "      <td>1</td>\n",
       "      <td>Bank transfer (automatic)</td>\n",
       "      <td>52.55</td>\n",
       "      <td>NaN</td>\n",
       "      <td>Female</td>\n",
       "      <td>0</td>\n",
       "      <td>1</td>\n",
       "      <td>...</td>\n",
       "      <td>DSL</td>\n",
       "      <td>1</td>\n",
       "      <td>0</td>\n",
       "      <td>1</td>\n",
       "      <td>1</td>\n",
       "      <td>1</td>\n",
       "      <td>0</td>\n",
       "      <td>0</td>\n",
       "      <td>0</td>\n",
       "      <td>0</td>\n",
       "    </tr>\n",
       "    <tr>\n",
       "      <th>3115-CZMZD</th>\n",
       "      <td>2020-02-01</td>\n",
       "      <td>2020-02-01</td>\n",
       "      <td>Two year</td>\n",
       "      <td>0</td>\n",
       "      <td>Mailed check</td>\n",
       "      <td>20.25</td>\n",
       "      <td>NaN</td>\n",
       "      <td>Male</td>\n",
       "      <td>0</td>\n",
       "      <td>0</td>\n",
       "      <td>...</td>\n",
       "      <td>Undefined</td>\n",
       "      <td>0</td>\n",
       "      <td>0</td>\n",
       "      <td>0</td>\n",
       "      <td>0</td>\n",
       "      <td>0</td>\n",
       "      <td>0</td>\n",
       "      <td>0</td>\n",
       "      <td>0</td>\n",
       "      <td>0</td>\n",
       "    </tr>\n",
       "    <tr>\n",
       "      <th>5709-LVOEQ</th>\n",
       "      <td>2020-02-01</td>\n",
       "      <td>2020-02-01</td>\n",
       "      <td>Two year</td>\n",
       "      <td>0</td>\n",
       "      <td>Mailed check</td>\n",
       "      <td>80.85</td>\n",
       "      <td>NaN</td>\n",
       "      <td>Female</td>\n",
       "      <td>0</td>\n",
       "      <td>1</td>\n",
       "      <td>...</td>\n",
       "      <td>DSL</td>\n",
       "      <td>1</td>\n",
       "      <td>1</td>\n",
       "      <td>1</td>\n",
       "      <td>0</td>\n",
       "      <td>1</td>\n",
       "      <td>1</td>\n",
       "      <td>0</td>\n",
       "      <td>0</td>\n",
       "      <td>0</td>\n",
       "    </tr>\n",
       "    <tr>\n",
       "      <th>4367-NUYAO</th>\n",
       "      <td>2020-02-01</td>\n",
       "      <td>2020-02-01</td>\n",
       "      <td>Two year</td>\n",
       "      <td>0</td>\n",
       "      <td>Mailed check</td>\n",
       "      <td>25.75</td>\n",
       "      <td>NaN</td>\n",
       "      <td>Male</td>\n",
       "      <td>0</td>\n",
       "      <td>1</td>\n",
       "      <td>...</td>\n",
       "      <td>Undefined</td>\n",
       "      <td>0</td>\n",
       "      <td>0</td>\n",
       "      <td>0</td>\n",
       "      <td>0</td>\n",
       "      <td>0</td>\n",
       "      <td>0</td>\n",
       "      <td>1</td>\n",
       "      <td>0</td>\n",
       "      <td>0</td>\n",
       "    </tr>\n",
       "    <tr>\n",
       "      <th>1371-DWPAZ</th>\n",
       "      <td>2020-02-01</td>\n",
       "      <td>2020-02-01</td>\n",
       "      <td>Two year</td>\n",
       "      <td>0</td>\n",
       "      <td>Credit card (automatic)</td>\n",
       "      <td>56.05</td>\n",
       "      <td>NaN</td>\n",
       "      <td>Female</td>\n",
       "      <td>0</td>\n",
       "      <td>1</td>\n",
       "      <td>...</td>\n",
       "      <td>DSL</td>\n",
       "      <td>1</td>\n",
       "      <td>1</td>\n",
       "      <td>1</td>\n",
       "      <td>1</td>\n",
       "      <td>1</td>\n",
       "      <td>0</td>\n",
       "      <td>0</td>\n",
       "      <td>0</td>\n",
       "      <td>0</td>\n",
       "    </tr>\n",
       "    <tr>\n",
       "      <th>7644-OMVMY</th>\n",
       "      <td>2020-02-01</td>\n",
       "      <td>2020-02-01</td>\n",
       "      <td>Two year</td>\n",
       "      <td>0</td>\n",
       "      <td>Mailed check</td>\n",
       "      <td>19.85</td>\n",
       "      <td>NaN</td>\n",
       "      <td>Male</td>\n",
       "      <td>0</td>\n",
       "      <td>1</td>\n",
       "      <td>...</td>\n",
       "      <td>Undefined</td>\n",
       "      <td>0</td>\n",
       "      <td>0</td>\n",
       "      <td>0</td>\n",
       "      <td>0</td>\n",
       "      <td>0</td>\n",
       "      <td>0</td>\n",
       "      <td>0</td>\n",
       "      <td>0</td>\n",
       "      <td>0</td>\n",
       "    </tr>\n",
       "    <tr>\n",
       "      <th>3213-VVOLG</th>\n",
       "      <td>2020-02-01</td>\n",
       "      <td>2020-02-01</td>\n",
       "      <td>Two year</td>\n",
       "      <td>0</td>\n",
       "      <td>Mailed check</td>\n",
       "      <td>25.35</td>\n",
       "      <td>NaN</td>\n",
       "      <td>Male</td>\n",
       "      <td>0</td>\n",
       "      <td>1</td>\n",
       "      <td>...</td>\n",
       "      <td>Undefined</td>\n",
       "      <td>0</td>\n",
       "      <td>0</td>\n",
       "      <td>0</td>\n",
       "      <td>0</td>\n",
       "      <td>0</td>\n",
       "      <td>0</td>\n",
       "      <td>1</td>\n",
       "      <td>0</td>\n",
       "      <td>0</td>\n",
       "    </tr>\n",
       "    <tr>\n",
       "      <th>2520-SGTTA</th>\n",
       "      <td>2020-02-01</td>\n",
       "      <td>2020-02-01</td>\n",
       "      <td>Two year</td>\n",
       "      <td>0</td>\n",
       "      <td>Mailed check</td>\n",
       "      <td>20.00</td>\n",
       "      <td>NaN</td>\n",
       "      <td>Female</td>\n",
       "      <td>0</td>\n",
       "      <td>1</td>\n",
       "      <td>...</td>\n",
       "      <td>Undefined</td>\n",
       "      <td>0</td>\n",
       "      <td>0</td>\n",
       "      <td>0</td>\n",
       "      <td>0</td>\n",
       "      <td>0</td>\n",
       "      <td>0</td>\n",
       "      <td>0</td>\n",
       "      <td>0</td>\n",
       "      <td>0</td>\n",
       "    </tr>\n",
       "    <tr>\n",
       "      <th>2923-ARZLG</th>\n",
       "      <td>2020-02-01</td>\n",
       "      <td>2020-02-01</td>\n",
       "      <td>One year</td>\n",
       "      <td>1</td>\n",
       "      <td>Mailed check</td>\n",
       "      <td>19.70</td>\n",
       "      <td>NaN</td>\n",
       "      <td>Male</td>\n",
       "      <td>0</td>\n",
       "      <td>1</td>\n",
       "      <td>...</td>\n",
       "      <td>Undefined</td>\n",
       "      <td>0</td>\n",
       "      <td>0</td>\n",
       "      <td>0</td>\n",
       "      <td>0</td>\n",
       "      <td>0</td>\n",
       "      <td>0</td>\n",
       "      <td>0</td>\n",
       "      <td>0</td>\n",
       "      <td>0</td>\n",
       "    </tr>\n",
       "    <tr>\n",
       "      <th>4075-WKNIU</th>\n",
       "      <td>2020-02-01</td>\n",
       "      <td>2020-02-01</td>\n",
       "      <td>Two year</td>\n",
       "      <td>0</td>\n",
       "      <td>Mailed check</td>\n",
       "      <td>73.35</td>\n",
       "      <td>NaN</td>\n",
       "      <td>Female</td>\n",
       "      <td>0</td>\n",
       "      <td>1</td>\n",
       "      <td>...</td>\n",
       "      <td>DSL</td>\n",
       "      <td>0</td>\n",
       "      <td>1</td>\n",
       "      <td>1</td>\n",
       "      <td>1</td>\n",
       "      <td>1</td>\n",
       "      <td>0</td>\n",
       "      <td>1</td>\n",
       "      <td>0</td>\n",
       "      <td>0</td>\n",
       "    </tr>\n",
       "    <tr>\n",
       "      <th>2775-SEFEE</th>\n",
       "      <td>2020-02-01</td>\n",
       "      <td>2020-02-01</td>\n",
       "      <td>Two year</td>\n",
       "      <td>1</td>\n",
       "      <td>Bank transfer (automatic)</td>\n",
       "      <td>61.90</td>\n",
       "      <td>NaN</td>\n",
       "      <td>Male</td>\n",
       "      <td>0</td>\n",
       "      <td>0</td>\n",
       "      <td>...</td>\n",
       "      <td>DSL</td>\n",
       "      <td>1</td>\n",
       "      <td>1</td>\n",
       "      <td>0</td>\n",
       "      <td>1</td>\n",
       "      <td>0</td>\n",
       "      <td>0</td>\n",
       "      <td>1</td>\n",
       "      <td>0</td>\n",
       "      <td>0</td>\n",
       "    </tr>\n",
       "  </tbody>\n",
       "</table>\n",
       "<p>11 rows × 21 columns</p>\n",
       "</div>"
      ],
      "text/plain": [
       "            BeginDate    EndDate      Type  PaperlessBilling  \\\n",
       "customerID                                                     \n",
       "4472-LVYGI 2020-02-01 2020-02-01  Two year                 1   \n",
       "3115-CZMZD 2020-02-01 2020-02-01  Two year                 0   \n",
       "5709-LVOEQ 2020-02-01 2020-02-01  Two year                 0   \n",
       "4367-NUYAO 2020-02-01 2020-02-01  Two year                 0   \n",
       "1371-DWPAZ 2020-02-01 2020-02-01  Two year                 0   \n",
       "7644-OMVMY 2020-02-01 2020-02-01  Two year                 0   \n",
       "3213-VVOLG 2020-02-01 2020-02-01  Two year                 0   \n",
       "2520-SGTTA 2020-02-01 2020-02-01  Two year                 0   \n",
       "2923-ARZLG 2020-02-01 2020-02-01  One year                 1   \n",
       "4075-WKNIU 2020-02-01 2020-02-01  Two year                 0   \n",
       "2775-SEFEE 2020-02-01 2020-02-01  Two year                 1   \n",
       "\n",
       "                        PaymentMethod  MonthlyCharges  TotalCharges  Gender  \\\n",
       "customerID                                                                    \n",
       "4472-LVYGI  Bank transfer (automatic)           52.55           NaN  Female   \n",
       "3115-CZMZD               Mailed check           20.25           NaN    Male   \n",
       "5709-LVOEQ               Mailed check           80.85           NaN  Female   \n",
       "4367-NUYAO               Mailed check           25.75           NaN    Male   \n",
       "1371-DWPAZ    Credit card (automatic)           56.05           NaN  Female   \n",
       "7644-OMVMY               Mailed check           19.85           NaN    Male   \n",
       "3213-VVOLG               Mailed check           25.35           NaN    Male   \n",
       "2520-SGTTA               Mailed check           20.00           NaN  Female   \n",
       "2923-ARZLG               Mailed check           19.70           NaN    Male   \n",
       "4075-WKNIU               Mailed check           73.35           NaN  Female   \n",
       "2775-SEFEE  Bank transfer (automatic)           61.90           NaN    Male   \n",
       "\n",
       "            SeniorCitizen  Partner  ...  InternetService OnlineSecurity  \\\n",
       "customerID                          ...                                   \n",
       "4472-LVYGI              0        1  ...              DSL              1   \n",
       "3115-CZMZD              0        0  ...        Undefined              0   \n",
       "5709-LVOEQ              0        1  ...              DSL              1   \n",
       "4367-NUYAO              0        1  ...        Undefined              0   \n",
       "1371-DWPAZ              0        1  ...              DSL              1   \n",
       "7644-OMVMY              0        1  ...        Undefined              0   \n",
       "3213-VVOLG              0        1  ...        Undefined              0   \n",
       "2520-SGTTA              0        1  ...        Undefined              0   \n",
       "2923-ARZLG              0        1  ...        Undefined              0   \n",
       "4075-WKNIU              0        1  ...              DSL              0   \n",
       "2775-SEFEE              0        0  ...              DSL              1   \n",
       "\n",
       "            OnlineBackup  DeviceProtection  TechSupport  StreamingTV  \\\n",
       "customerID                                                             \n",
       "4472-LVYGI             0                 1            1            1   \n",
       "3115-CZMZD             0                 0            0            0   \n",
       "5709-LVOEQ             1                 1            0            1   \n",
       "4367-NUYAO             0                 0            0            0   \n",
       "1371-DWPAZ             1                 1            1            1   \n",
       "7644-OMVMY             0                 0            0            0   \n",
       "3213-VVOLG             0                 0            0            0   \n",
       "2520-SGTTA             0                 0            0            0   \n",
       "2923-ARZLG             0                 0            0            0   \n",
       "4075-WKNIU             1                 1            1            1   \n",
       "2775-SEFEE             1                 0            1            0   \n",
       "\n",
       "            StreamingMovies  MultipleLines  Result  UsingServiceDays  \n",
       "customerID                                                            \n",
       "4472-LVYGI                0              0       0                 0  \n",
       "3115-CZMZD                0              0       0                 0  \n",
       "5709-LVOEQ                1              0       0                 0  \n",
       "4367-NUYAO                0              1       0                 0  \n",
       "1371-DWPAZ                0              0       0                 0  \n",
       "7644-OMVMY                0              0       0                 0  \n",
       "3213-VVOLG                0              1       0                 0  \n",
       "2520-SGTTA                0              0       0                 0  \n",
       "2923-ARZLG                0              0       0                 0  \n",
       "4075-WKNIU                0              1       0                 0  \n",
       "2775-SEFEE                0              1       0                 0  \n",
       "\n",
       "[11 rows x 21 columns]"
      ]
     },
     "execution_count": 17,
     "metadata": {},
     "output_type": "execute_result"
    }
   ],
   "source": [
    "# Преобразуем TotalCharges во float, в процессе обнаружилась ошибка, посмотрим на данные\n",
    "df['TotalCharges'] = pd.to_numeric(df['TotalCharges'], errors='coerce')\n",
    "# Посмотрим, что вызывало ошибку\n",
    "df[df['TotalCharges'].isnull()]"
   ]
  },
  {
   "cell_type": "markdown",
   "metadata": {},
   "source": [
    "Очевидно, что это клиенты, которые пользуются услугами меньше месяца и еще не успели ничего заплатить, поэтому присвоим им нулевые общие отчисления"
   ]
  },
  {
   "cell_type": "code",
   "execution_count": 18,
   "metadata": {},
   "outputs": [],
   "source": [
    "df['TotalCharges'] = df['TotalCharges'].fillna(0)"
   ]
  },
  {
   "cell_type": "code",
   "execution_count": 19,
   "metadata": {},
   "outputs": [],
   "source": [
    "# Удалим BeginDate и EndDate, они нам больше не понадобятся\n",
    "del df['BeginDate'], df['EndDate']"
   ]
  },
  {
   "cell_type": "code",
   "execution_count": 20,
   "metadata": {},
   "outputs": [
    {
     "data": {
      "text/plain": [
       "Electronic check             2365\n",
       "Mailed check                 1612\n",
       "Bank transfer (automatic)    1544\n",
       "Credit card (automatic)      1522\n",
       "Name: PaymentMethod, dtype: int64"
      ]
     },
     "execution_count": 20,
     "metadata": {},
     "output_type": "execute_result"
    }
   ],
   "source": [
    "# Разберемся с остальными столбцами\n",
    "\n",
    "# Преобразуем признаки пола\n",
    "df['Gender'] = (df['Gender'] == 'Male').astype('int')\n",
    "\n",
    "# Посмотрим остальные словарные значения, чтобы понимать, что к ним применять\n",
    "df['PaymentMethod'].value_counts()"
   ]
  },
  {
   "cell_type": "code",
   "execution_count": 21,
   "metadata": {},
   "outputs": [
    {
     "data": {
      "text/plain": [
       "Fiber optic    3096\n",
       "DSL            2421\n",
       "Undefined      1526\n",
       "Name: InternetService, dtype: int64"
      ]
     },
     "execution_count": 21,
     "metadata": {},
     "output_type": "execute_result"
    }
   ],
   "source": [
    "df['InternetService'].value_counts()"
   ]
  },
  {
   "cell_type": "code",
   "execution_count": 22,
   "metadata": {},
   "outputs": [
    {
     "data": {
      "text/plain": [
       "Month-to-month    3875\n",
       "Two year          1695\n",
       "One year          1473\n",
       "Name: Type, dtype: int64"
      ]
     },
     "execution_count": 22,
     "metadata": {},
     "output_type": "execute_result"
    }
   ],
   "source": [
    "df['Type'].value_counts()"
   ]
  },
  {
   "cell_type": "markdown",
   "metadata": {},
   "source": [
    "    Поскольку признаки не скалируются, а самих признаков внутри не так много, будем использовать OHE, а не label encoder"
   ]
  },
  {
   "cell_type": "code",
   "execution_count": 23,
   "metadata": {},
   "outputs": [
    {
     "data": {
      "text/plain": [
       "(18, 15)"
      ]
     },
     "execution_count": 23,
     "metadata": {},
     "output_type": "execute_result"
    }
   ],
   "source": [
    "# Подготовим наши наборы признаков, для OHE преобразования, скалирования и выделим целевой признак от остальных\n",
    "# Сами преобразования будем делать после исследовательского анализа данных\n",
    "ohe_names = ['PaymentMethod', 'InternetService', 'Type']\n",
    "numeric_names = [\"TotalCharges\", \"MonthlyCharges\", \"UsingServiceDays\"]\n",
    "target_name = 'Result'\n",
    "features_names = list(df.columns)\n",
    "features_names.remove(target_name)\n",
    "categories = [x for x in features_names if x not in numeric_names]\n",
    "\n",
    "len(features_names), len(categories)"
   ]
  },
  {
   "cell_type": "code",
   "execution_count": 24,
   "metadata": {},
   "outputs": [
    {
     "name": "stdout",
     "output_type": "stream",
     "text": [
      "<class 'pandas.core.frame.DataFrame'>\n",
      "Index: 7043 entries, 7590-VHVEG to 3186-AJIEK\n",
      "Data columns (total 19 columns):\n",
      " #   Column            Non-Null Count  Dtype  \n",
      "---  ------            --------------  -----  \n",
      " 0   Type              7043 non-null   object \n",
      " 1   PaperlessBilling  7043 non-null   int32  \n",
      " 2   PaymentMethod     7043 non-null   object \n",
      " 3   MonthlyCharges    7043 non-null   float64\n",
      " 4   TotalCharges      7043 non-null   float64\n",
      " 5   Gender            7043 non-null   int32  \n",
      " 6   SeniorCitizen     7043 non-null   int64  \n",
      " 7   Partner           7043 non-null   int32  \n",
      " 8   Dependents        7043 non-null   int32  \n",
      " 9   InternetService   7043 non-null   object \n",
      " 10  OnlineSecurity    7043 non-null   int32  \n",
      " 11  OnlineBackup      7043 non-null   int32  \n",
      " 12  DeviceProtection  7043 non-null   int32  \n",
      " 13  TechSupport       7043 non-null   int32  \n",
      " 14  StreamingTV       7043 non-null   int32  \n",
      " 15  StreamingMovies   7043 non-null   int32  \n",
      " 16  MultipleLines     7043 non-null   int32  \n",
      " 17  Result            7043 non-null   int32  \n",
      " 18  UsingServiceDays  7043 non-null   int32  \n",
      "dtypes: float64(2), int32(13), int64(1), object(3)\n",
      "memory usage: 742.8+ KB\n"
     ]
    }
   ],
   "source": [
    "# Посмотрим, что у нас в итоге получилось\n",
    "df.info()"
   ]
  },
  {
   "cell_type": "code",
   "execution_count": 25,
   "metadata": {},
   "outputs": [
    {
     "data": {
      "text/html": [
       "<div>\n",
       "<style scoped>\n",
       "    .dataframe tbody tr th:only-of-type {\n",
       "        vertical-align: middle;\n",
       "    }\n",
       "\n",
       "    .dataframe tbody tr th {\n",
       "        vertical-align: top;\n",
       "    }\n",
       "\n",
       "    .dataframe thead th {\n",
       "        text-align: right;\n",
       "    }\n",
       "</style>\n",
       "<table border=\"1\" class=\"dataframe\">\n",
       "  <thead>\n",
       "    <tr style=\"text-align: right;\">\n",
       "      <th></th>\n",
       "      <th>Type</th>\n",
       "      <th>PaperlessBilling</th>\n",
       "      <th>PaymentMethod</th>\n",
       "      <th>MonthlyCharges</th>\n",
       "      <th>TotalCharges</th>\n",
       "      <th>Gender</th>\n",
       "      <th>SeniorCitizen</th>\n",
       "      <th>Partner</th>\n",
       "      <th>Dependents</th>\n",
       "      <th>InternetService</th>\n",
       "      <th>OnlineSecurity</th>\n",
       "      <th>OnlineBackup</th>\n",
       "      <th>DeviceProtection</th>\n",
       "      <th>TechSupport</th>\n",
       "      <th>StreamingTV</th>\n",
       "      <th>StreamingMovies</th>\n",
       "      <th>MultipleLines</th>\n",
       "      <th>Result</th>\n",
       "      <th>UsingServiceDays</th>\n",
       "    </tr>\n",
       "    <tr>\n",
       "      <th>customerID</th>\n",
       "      <th></th>\n",
       "      <th></th>\n",
       "      <th></th>\n",
       "      <th></th>\n",
       "      <th></th>\n",
       "      <th></th>\n",
       "      <th></th>\n",
       "      <th></th>\n",
       "      <th></th>\n",
       "      <th></th>\n",
       "      <th></th>\n",
       "      <th></th>\n",
       "      <th></th>\n",
       "      <th></th>\n",
       "      <th></th>\n",
       "      <th></th>\n",
       "      <th></th>\n",
       "      <th></th>\n",
       "      <th></th>\n",
       "    </tr>\n",
       "  </thead>\n",
       "  <tbody>\n",
       "    <tr>\n",
       "      <th>1452-UZOSF</th>\n",
       "      <td>Two year</td>\n",
       "      <td>1</td>\n",
       "      <td>Credit card (automatic)</td>\n",
       "      <td>106.10</td>\n",
       "      <td>7548.60</td>\n",
       "      <td>1</td>\n",
       "      <td>0</td>\n",
       "      <td>1</td>\n",
       "      <td>1</td>\n",
       "      <td>Fiber optic</td>\n",
       "      <td>1</td>\n",
       "      <td>1</td>\n",
       "      <td>1</td>\n",
       "      <td>1</td>\n",
       "      <td>1</td>\n",
       "      <td>0</td>\n",
       "      <td>1</td>\n",
       "      <td>0</td>\n",
       "      <td>2191</td>\n",
       "    </tr>\n",
       "    <tr>\n",
       "      <th>0923-PNFUB</th>\n",
       "      <td>Month-to-month</td>\n",
       "      <td>0</td>\n",
       "      <td>Electronic check</td>\n",
       "      <td>83.75</td>\n",
       "      <td>247.25</td>\n",
       "      <td>0</td>\n",
       "      <td>0</td>\n",
       "      <td>0</td>\n",
       "      <td>0</td>\n",
       "      <td>Fiber optic</td>\n",
       "      <td>0</td>\n",
       "      <td>1</td>\n",
       "      <td>0</td>\n",
       "      <td>0</td>\n",
       "      <td>1</td>\n",
       "      <td>0</td>\n",
       "      <td>0</td>\n",
       "      <td>1</td>\n",
       "      <td>92</td>\n",
       "    </tr>\n",
       "    <tr>\n",
       "      <th>8267-KFGYD</th>\n",
       "      <td>Month-to-month</td>\n",
       "      <td>1</td>\n",
       "      <td>Mailed check</td>\n",
       "      <td>21.05</td>\n",
       "      <td>21.05</td>\n",
       "      <td>1</td>\n",
       "      <td>0</td>\n",
       "      <td>0</td>\n",
       "      <td>1</td>\n",
       "      <td>Undefined</td>\n",
       "      <td>0</td>\n",
       "      <td>0</td>\n",
       "      <td>0</td>\n",
       "      <td>0</td>\n",
       "      <td>0</td>\n",
       "      <td>0</td>\n",
       "      <td>0</td>\n",
       "      <td>0</td>\n",
       "      <td>31</td>\n",
       "    </tr>\n",
       "  </tbody>\n",
       "</table>\n",
       "</div>"
      ],
      "text/plain": [
       "                      Type  PaperlessBilling            PaymentMethod  \\\n",
       "customerID                                                              \n",
       "1452-UZOSF        Two year                 1  Credit card (automatic)   \n",
       "0923-PNFUB  Month-to-month                 0         Electronic check   \n",
       "8267-KFGYD  Month-to-month                 1             Mailed check   \n",
       "\n",
       "            MonthlyCharges  TotalCharges  Gender  SeniorCitizen  Partner  \\\n",
       "customerID                                                                 \n",
       "1452-UZOSF          106.10       7548.60       1              0        1   \n",
       "0923-PNFUB           83.75        247.25       0              0        0   \n",
       "8267-KFGYD           21.05         21.05       1              0        0   \n",
       "\n",
       "            Dependents InternetService  OnlineSecurity  OnlineBackup  \\\n",
       "customerID                                                             \n",
       "1452-UZOSF           1     Fiber optic               1             1   \n",
       "0923-PNFUB           0     Fiber optic               0             1   \n",
       "8267-KFGYD           1       Undefined               0             0   \n",
       "\n",
       "            DeviceProtection  TechSupport  StreamingTV  StreamingMovies  \\\n",
       "customerID                                                                \n",
       "1452-UZOSF                 1            1            1                0   \n",
       "0923-PNFUB                 0            0            1                0   \n",
       "8267-KFGYD                 0            0            0                0   \n",
       "\n",
       "            MultipleLines  Result  UsingServiceDays  \n",
       "customerID                                           \n",
       "1452-UZOSF              1       0              2191  \n",
       "0923-PNFUB              0       1                92  \n",
       "8267-KFGYD              0       0                31  "
      ]
     },
     "execution_count": 25,
     "metadata": {},
     "output_type": "execute_result"
    }
   ],
   "source": [
    "df.sample(3)"
   ]
  },
  {
   "cell_type": "markdown",
   "metadata": {},
   "source": [
    "# Исследовательский анализ данных"
   ]
  },
  {
   "cell_type": "code",
   "execution_count": 26,
   "metadata": {},
   "outputs": [
    {
     "data": {
      "text/plain": [
       "<AxesSubplot:title={'center':'Распределение целевого признака'}, xlabel='Значение признака', ylabel='Количество записей с соответствующим значением'>"
      ]
     },
     "execution_count": 26,
     "metadata": {},
     "output_type": "execute_result"
    },
    {
     "data": {
      "image/png": "[encoded data removed]",
      "text/plain": [
       "<Figure size 1152x576 with 1 Axes>"
      ]
     },
     "metadata": {
      "needs_background": "light"
     },
     "output_type": "display_data"
    }
   ],
   "source": [
    "# Проверим баланс классов\n",
    "df_target = df[target_name]\n",
    "fig, ax = plt.subplots(1)\n",
    "ax.set_title('Распределение целевого признака')\n",
    "ax.set_xlabel('Значение признака')\n",
    "ax.set_ylabel('Количество записей с соответствующим значением')\n",
    "df_target.value_counts().plot(kind='bar', figsize=(16,8), ax=ax)"
   ]
  },
  {
   "cell_type": "markdown",
   "metadata": {},
   "source": [
    "Имеется очевидный дисбаланс классов, при чем в пользу нужного нам значения. В связи с этим downsampling не кажется хорошим вариантом\n",
    "1. Сперва попробуем upsampling\n",
    "2. Если это не поможет достичь нужной метрики, попробуем балансировку на уровне моделей\n",
    "3. Если и это не поможет, попробуем downsampling"
   ]
  },
  {
   "cell_type": "code",
   "execution_count": 27,
   "metadata": {},
   "outputs": [
    {
     "data": {
      "image/png": "[encoded data removed]",
      "text/plain": [
       "<Figure size 1440x1440 with 18 Axes>"
      ]
     },
     "metadata": {
      "needs_background": "light"
     },
     "output_type": "display_data"
    }
   ],
   "source": [
    "# Посмотрим распределение наших значений\n",
    "\n",
    "ncols = 3\n",
    "nrows = math.ceil(len(features_names) / ncols)\n",
    "\n",
    "plt.figure(figsize=(20, 20))\n",
    "\n",
    "counter = 0\n",
    "for feature in features_names:\n",
    "    counter += 1\n",
    "    plt.subplot(nrows, ncols, counter)\n",
    "    plt.hist(df[feature])\n",
    "    plt.title(feature)"
   ]
  },
  {
   "cell_type": "markdown",
   "metadata": {},
   "source": [
    "Очевидно, дополнительные услуги не пользуются популярностью. И учитывая почти одинаковые графики, если и пользуются, то по большей части у одних и тех же людей.\n",
    "Также любопытно распределение общих расходов и месячных. Скорее всего, выбирающие более дорогие тарифы остаются на более редкий срок.\n",
    "В остальном, распределения я бы назвал довольно равномерными, несмотря на обозначенный выше дисбаланс классов.\n",
    "\n",
    "В связи с этим имеет смысл обратить внимание на выделение наиболее значимых признаков."
   ]
  },
  {
   "cell_type": "code",
   "execution_count": 28,
   "metadata": {},
   "outputs": [
    {
     "data": {
      "image/png": "[encoded data removed]",
      "text/plain": [
       "<Figure size 1440x2160 with 18 Axes>"
      ]
     },
     "metadata": {
      "needs_background": "light"
     },
     "output_type": "display_data"
    }
   ],
   "source": [
    "# Посмотрим на распределение относительно нашего целевого признака\n",
    "plt.figure(figsize=(20, 30))\n",
    "\n",
    "counter = 0\n",
    "for feature in features_names:\n",
    "    counter += 1\n",
    "    feature_values = set(df[feature])\n",
    "    \n",
    "    # У числовых групп может быть вагон значений, возьмем топ-10\n",
    "    if len(feature_values) > 10:\n",
    "        feature_values = df[feature].value_counts().index[:10]\n",
    "    \n",
    "    ax = plt.subplot(nrows, ncols, counter)\n",
    "\n",
    "    df_tmp = df.groupby([feature, target_name])[target_name].count().nlargest(10)\n",
    "    df_tmp = df_tmp.unstack()\n",
    "\n",
    "    for column in df_tmp.T.columns:\n",
    "        ax.bar(df_tmp.T.index, df_tmp.T[column], alpha=0.2, label = column)\n",
    "\n",
    "    plt.xlabel(target_name)\n",
    "    plt.ylabel(feature)\n",
    "    plt.legend()"
   ]
  },
  {
   "cell_type": "markdown",
   "metadata": {},
   "source": [
    "- Любопытно, что среди тех, кто платит помесячно доля отказов примерно равная, а среди оплат сразу за год или за два - минимальная. Хотя это может быть связано с нехваткой данных (условно, если бы у нас были данные еще за 10 лет с такими ребятами, мб количество отказов бы выправилось)\n",
    "- По графику количества дней использования видно, что наибольшие отказы связаны с использованием до двух месяцев, при этом, чем больше время пользования, тем отказов меньше\n",
    "- Дополнительные услуги оказывают малое влияние на целевой показатель (пропорционально отказы почти везде одинаковы, как у тех, кто ими пользуется, так и у тех, кто нет)\n",
    "- Любопытно, что среди тех, кто НЕ пользуется интернетом отказов меньше всего. На втором месте DSL (что может быть связано с тем, что его подключают там, где нет оптики и у людей может просто не быть альтернатив). А вот от оптики отказываются проще всего."
   ]
  },
  {
   "cell_type": "code",
   "execution_count": 29,
   "metadata": {},
   "outputs": [
    {
     "data": {
      "text/html": [
       "<div>\n",
       "<style scoped>\n",
       "    .dataframe tbody tr th:only-of-type {\n",
       "        vertical-align: middle;\n",
       "    }\n",
       "\n",
       "    .dataframe tbody tr th {\n",
       "        vertical-align: top;\n",
       "    }\n",
       "\n",
       "    .dataframe thead th {\n",
       "        text-align: right;\n",
       "    }\n",
       "</style>\n",
       "<table border=\"1\" class=\"dataframe\">\n",
       "  <thead>\n",
       "    <tr style=\"text-align: right;\">\n",
       "      <th></th>\n",
       "      <th>PaperlessBilling</th>\n",
       "      <th>MonthlyCharges</th>\n",
       "      <th>TotalCharges</th>\n",
       "      <th>Gender</th>\n",
       "      <th>SeniorCitizen</th>\n",
       "      <th>Partner</th>\n",
       "      <th>Dependents</th>\n",
       "      <th>OnlineSecurity</th>\n",
       "      <th>OnlineBackup</th>\n",
       "      <th>DeviceProtection</th>\n",
       "      <th>TechSupport</th>\n",
       "      <th>StreamingTV</th>\n",
       "      <th>StreamingMovies</th>\n",
       "      <th>MultipleLines</th>\n",
       "      <th>Result</th>\n",
       "      <th>UsingServiceDays</th>\n",
       "    </tr>\n",
       "  </thead>\n",
       "  <tbody>\n",
       "    <tr>\n",
       "      <th>count</th>\n",
       "      <td>7043.000000</td>\n",
       "      <td>7043.000000</td>\n",
       "      <td>7043.000000</td>\n",
       "      <td>7043.000000</td>\n",
       "      <td>7043.000000</td>\n",
       "      <td>7043.000000</td>\n",
       "      <td>7043.000000</td>\n",
       "      <td>7043.000000</td>\n",
       "      <td>7043.000000</td>\n",
       "      <td>7043.000000</td>\n",
       "      <td>7043.000000</td>\n",
       "      <td>7043.000000</td>\n",
       "      <td>7043.000000</td>\n",
       "      <td>7043.000000</td>\n",
       "      <td>7043.000000</td>\n",
       "      <td>7043.000000</td>\n",
       "    </tr>\n",
       "    <tr>\n",
       "      <th>mean</th>\n",
       "      <td>0.592219</td>\n",
       "      <td>64.761692</td>\n",
       "      <td>2279.734304</td>\n",
       "      <td>0.504756</td>\n",
       "      <td>0.162147</td>\n",
       "      <td>0.483033</td>\n",
       "      <td>0.299588</td>\n",
       "      <td>0.286668</td>\n",
       "      <td>0.344881</td>\n",
       "      <td>0.343888</td>\n",
       "      <td>0.290217</td>\n",
       "      <td>0.384353</td>\n",
       "      <td>0.387903</td>\n",
       "      <td>0.421837</td>\n",
       "      <td>0.265370</td>\n",
       "      <td>985.996166</td>\n",
       "    </tr>\n",
       "    <tr>\n",
       "      <th>std</th>\n",
       "      <td>0.491457</td>\n",
       "      <td>30.090047</td>\n",
       "      <td>2266.794470</td>\n",
       "      <td>0.500013</td>\n",
       "      <td>0.368612</td>\n",
       "      <td>0.499748</td>\n",
       "      <td>0.458110</td>\n",
       "      <td>0.452237</td>\n",
       "      <td>0.475363</td>\n",
       "      <td>0.475038</td>\n",
       "      <td>0.453895</td>\n",
       "      <td>0.486477</td>\n",
       "      <td>0.487307</td>\n",
       "      <td>0.493888</td>\n",
       "      <td>0.441561</td>\n",
       "      <td>747.587844</td>\n",
       "    </tr>\n",
       "    <tr>\n",
       "      <th>min</th>\n",
       "      <td>0.000000</td>\n",
       "      <td>18.250000</td>\n",
       "      <td>0.000000</td>\n",
       "      <td>0.000000</td>\n",
       "      <td>0.000000</td>\n",
       "      <td>0.000000</td>\n",
       "      <td>0.000000</td>\n",
       "      <td>0.000000</td>\n",
       "      <td>0.000000</td>\n",
       "      <td>0.000000</td>\n",
       "      <td>0.000000</td>\n",
       "      <td>0.000000</td>\n",
       "      <td>0.000000</td>\n",
       "      <td>0.000000</td>\n",
       "      <td>0.000000</td>\n",
       "      <td>0.000000</td>\n",
       "    </tr>\n",
       "    <tr>\n",
       "      <th>25%</th>\n",
       "      <td>0.000000</td>\n",
       "      <td>35.500000</td>\n",
       "      <td>398.550000</td>\n",
       "      <td>0.000000</td>\n",
       "      <td>0.000000</td>\n",
       "      <td>0.000000</td>\n",
       "      <td>0.000000</td>\n",
       "      <td>0.000000</td>\n",
       "      <td>0.000000</td>\n",
       "      <td>0.000000</td>\n",
       "      <td>0.000000</td>\n",
       "      <td>0.000000</td>\n",
       "      <td>0.000000</td>\n",
       "      <td>0.000000</td>\n",
       "      <td>0.000000</td>\n",
       "      <td>273.000000</td>\n",
       "    </tr>\n",
       "    <tr>\n",
       "      <th>50%</th>\n",
       "      <td>1.000000</td>\n",
       "      <td>70.350000</td>\n",
       "      <td>1394.550000</td>\n",
       "      <td>1.000000</td>\n",
       "      <td>0.000000</td>\n",
       "      <td>0.000000</td>\n",
       "      <td>0.000000</td>\n",
       "      <td>0.000000</td>\n",
       "      <td>0.000000</td>\n",
       "      <td>0.000000</td>\n",
       "      <td>0.000000</td>\n",
       "      <td>0.000000</td>\n",
       "      <td>0.000000</td>\n",
       "      <td>0.000000</td>\n",
       "      <td>0.000000</td>\n",
       "      <td>883.000000</td>\n",
       "    </tr>\n",
       "    <tr>\n",
       "      <th>75%</th>\n",
       "      <td>1.000000</td>\n",
       "      <td>89.850000</td>\n",
       "      <td>3786.600000</td>\n",
       "      <td>1.000000</td>\n",
       "      <td>0.000000</td>\n",
       "      <td>1.000000</td>\n",
       "      <td>1.000000</td>\n",
       "      <td>1.000000</td>\n",
       "      <td>1.000000</td>\n",
       "      <td>1.000000</td>\n",
       "      <td>1.000000</td>\n",
       "      <td>1.000000</td>\n",
       "      <td>1.000000</td>\n",
       "      <td>1.000000</td>\n",
       "      <td>1.000000</td>\n",
       "      <td>1676.000000</td>\n",
       "    </tr>\n",
       "    <tr>\n",
       "      <th>max</th>\n",
       "      <td>1.000000</td>\n",
       "      <td>118.750000</td>\n",
       "      <td>8684.800000</td>\n",
       "      <td>1.000000</td>\n",
       "      <td>1.000000</td>\n",
       "      <td>1.000000</td>\n",
       "      <td>1.000000</td>\n",
       "      <td>1.000000</td>\n",
       "      <td>1.000000</td>\n",
       "      <td>1.000000</td>\n",
       "      <td>1.000000</td>\n",
       "      <td>1.000000</td>\n",
       "      <td>1.000000</td>\n",
       "      <td>1.000000</td>\n",
       "      <td>1.000000</td>\n",
       "      <td>2191.000000</td>\n",
       "    </tr>\n",
       "  </tbody>\n",
       "</table>\n",
       "</div>"
      ],
      "text/plain": [
       "       PaperlessBilling  MonthlyCharges  TotalCharges       Gender  \\\n",
       "count       7043.000000     7043.000000   7043.000000  7043.000000   \n",
       "mean           0.592219       64.761692   2279.734304     0.504756   \n",
       "std            0.491457       30.090047   2266.794470     0.500013   \n",
       "min            0.000000       18.250000      0.000000     0.000000   \n",
       "25%            0.000000       35.500000    398.550000     0.000000   \n",
       "50%            1.000000       70.350000   1394.550000     1.000000   \n",
       "75%            1.000000       89.850000   3786.600000     1.000000   \n",
       "max            1.000000      118.750000   8684.800000     1.000000   \n",
       "\n",
       "       SeniorCitizen      Partner   Dependents  OnlineSecurity  OnlineBackup  \\\n",
       "count    7043.000000  7043.000000  7043.000000     7043.000000   7043.000000   \n",
       "mean        0.162147     0.483033     0.299588        0.286668      0.344881   \n",
       "std         0.368612     0.499748     0.458110        0.452237      0.475363   \n",
       "min         0.000000     0.000000     0.000000        0.000000      0.000000   \n",
       "25%         0.000000     0.000000     0.000000        0.000000      0.000000   \n",
       "50%         0.000000     0.000000     0.000000        0.000000      0.000000   \n",
       "75%         0.000000     1.000000     1.000000        1.000000      1.000000   \n",
       "max         1.000000     1.000000     1.000000        1.000000      1.000000   \n",
       "\n",
       "       DeviceProtection  TechSupport  StreamingTV  StreamingMovies  \\\n",
       "count       7043.000000  7043.000000  7043.000000      7043.000000   \n",
       "mean           0.343888     0.290217     0.384353         0.387903   \n",
       "std            0.475038     0.453895     0.486477         0.487307   \n",
       "min            0.000000     0.000000     0.000000         0.000000   \n",
       "25%            0.000000     0.000000     0.000000         0.000000   \n",
       "50%            0.000000     0.000000     0.000000         0.000000   \n",
       "75%            1.000000     1.000000     1.000000         1.000000   \n",
       "max            1.000000     1.000000     1.000000         1.000000   \n",
       "\n",
       "       MultipleLines       Result  UsingServiceDays  \n",
       "count    7043.000000  7043.000000       7043.000000  \n",
       "mean        0.421837     0.265370        985.996166  \n",
       "std         0.493888     0.441561        747.587844  \n",
       "min         0.000000     0.000000          0.000000  \n",
       "25%         0.000000     0.000000        273.000000  \n",
       "50%         0.000000     0.000000        883.000000  \n",
       "75%         1.000000     1.000000       1676.000000  \n",
       "max         1.000000     1.000000       2191.000000  "
      ]
     },
     "execution_count": 29,
     "metadata": {},
     "output_type": "execute_result"
    }
   ],
   "source": [
    "# Посмотрим выбросы и диаграмму размаха\n",
    "df.describe()"
   ]
  },
  {
   "cell_type": "code",
   "execution_count": 30,
   "metadata": {},
   "outputs": [
    {
     "data": {
      "image/png": "[encoded data removed]",
      "text/plain": [
       "<Figure size 1440x432 with 3 Axes>"
      ]
     },
     "metadata": {
      "needs_background": "light"
     },
     "output_type": "display_data"
    }
   ],
   "source": [
    "# Посмотрим диаграммы размаха\n",
    "plt.figure(figsize=(20, 6))\n",
    "\n",
    "counter = 0\n",
    "numeric_len = len(numeric_names)\n",
    "for feature in numeric_names:\n",
    "    counter += 1\n",
    "    plt.subplot(1, numeric_len, counter)\n",
    "    plt.boxplot(df[feature])\n",
    "    plt.title(feature)"
   ]
  },
  {
   "cell_type": "markdown",
   "metadata": {},
   "source": [
    "В целом, что радует в этом проекте, данные довольно равномерно распределены и в целом не требуют большой обработки."
   ]
  },
  {
   "cell_type": "markdown",
   "metadata": {},
   "source": [
    "# Подготовка данных для моделей\n",
    "\n",
    "- Посмотрим, какие признаки имеют наибольшее значение, уменьшим размерность\n",
    "- Подготовка признаков (OHE, скалирование)\n",
    "- Проведем балансировку"
   ]
  },
  {
   "cell_type": "markdown",
   "metadata": {},
   "source": [
    "### Оценим значимость признаков"
   ]
  },
  {
   "cell_type": "code",
   "execution_count": 31,
   "metadata": {},
   "outputs": [
    {
     "data": {
      "text/plain": [
       "Result              1.000000\n",
       "MonthlyCharges      0.193356\n",
       "PaperlessBilling    0.191825\n",
       "SeniorCitizen       0.150889\n",
       "StreamingTV         0.063228\n",
       "StreamingMovies     0.061382\n",
       "MultipleLines       0.040102\n",
       "Gender             -0.008612\n",
       "DeviceProtection   -0.066160\n",
       "OnlineBackup       -0.082255\n",
       "Partner            -0.150448\n",
       "Dependents         -0.164221\n",
       "TechSupport        -0.164674\n",
       "OnlineSecurity     -0.171226\n",
       "TotalCharges       -0.198324\n",
       "UsingServiceDays   -0.352673\n",
       "Name: Result, dtype: float64"
      ]
     },
     "execution_count": 31,
     "metadata": {},
     "output_type": "execute_result"
    }
   ],
   "source": [
    "# Посмотрим матрицу корреляции\n",
    "df_corr = df.corr()\n",
    "df_corr['Result'].sort_values(ascending=False)"
   ]
  },
  {
   "cell_type": "markdown",
   "metadata": {},
   "source": [
    "Формально, наиболее значимыми являются количество дней и общее количество потраченных денег. При этом размер ежемесячных платежей имеет отрицательную корреляцию."
   ]
  },
  {
   "cell_type": "code",
   "execution_count": 32,
   "metadata": {},
   "outputs": [
    {
     "data": {
      "text/plain": [
       "2.766042780748663"
      ]
     },
     "execution_count": 32,
     "metadata": {},
     "output_type": "execute_result"
    }
   ],
   "source": [
    "# Воспользуемся методом get_feature_importance у CatBoost, чтобы оценить значение признаков\n",
    "# Для начала подготовим выборки и рассчитаем коэффиценты\n",
    "\n",
    "df_features = df[features_names]\n",
    "df_target = df[target_name]\n",
    "\n",
    "features_train, features_test, target_train, target_test = train_test_split(df_features, df_target, test_size=0.2, random_state=RANDOM_STATE)\n",
    "\n",
    "train_pool = Pool(data=features_train, label=target_train, cat_features=categories, feature_names=features_names)\n",
    "v_counts = target_train.value_counts()\n",
    "scale_pos_weight = v_counts[0] / v_counts[1]\n",
    "\n",
    "scale_pos_weight"
   ]
  },
  {
   "cell_type": "code",
   "execution_count": 33,
   "metadata": {},
   "outputs": [
    {
     "data": {
      "text/plain": [
       "<catboost.core.CatBoostClassifier at 0x2389979ad90>"
      ]
     },
     "execution_count": 33,
     "metadata": {},
     "output_type": "execute_result"
    }
   ],
   "source": [
    "# Обучим нашу модель\n",
    "catboost = CatBoostClassifier(verbose=0, scale_pos_weight=scale_pos_weight, task_type=\"GPU\", random_seed=RANDOM_STATE)\n",
    "catboost.fit(train_pool)"
   ]
  },
  {
   "cell_type": "code",
   "execution_count": 34,
   "metadata": {},
   "outputs": [
    {
     "data": {
      "text/html": [
       "<div>\n",
       "<style scoped>\n",
       "    .dataframe tbody tr th:only-of-type {\n",
       "        vertical-align: middle;\n",
       "    }\n",
       "\n",
       "    .dataframe tbody tr th {\n",
       "        vertical-align: top;\n",
       "    }\n",
       "\n",
       "    .dataframe thead th {\n",
       "        text-align: right;\n",
       "    }\n",
       "</style>\n",
       "<table border=\"1\" class=\"dataframe\">\n",
       "  <thead>\n",
       "    <tr style=\"text-align: right;\">\n",
       "      <th></th>\n",
       "      <th>0</th>\n",
       "      <th>1</th>\n",
       "    </tr>\n",
       "  </thead>\n",
       "  <tbody>\n",
       "    <tr>\n",
       "      <th>17</th>\n",
       "      <td>UsingServiceDays</td>\n",
       "      <td>60.586842</td>\n",
       "    </tr>\n",
       "    <tr>\n",
       "      <th>0</th>\n",
       "      <td>Type</td>\n",
       "      <td>11.187790</td>\n",
       "    </tr>\n",
       "    <tr>\n",
       "      <th>9</th>\n",
       "      <td>InternetService</td>\n",
       "      <td>11.125365</td>\n",
       "    </tr>\n",
       "    <tr>\n",
       "      <th>2</th>\n",
       "      <td>PaymentMethod</td>\n",
       "      <td>8.034020</td>\n",
       "    </tr>\n",
       "    <tr>\n",
       "      <th>1</th>\n",
       "      <td>PaperlessBilling</td>\n",
       "      <td>2.093186</td>\n",
       "    </tr>\n",
       "    <tr>\n",
       "      <th>14</th>\n",
       "      <td>StreamingTV</td>\n",
       "      <td>1.550107</td>\n",
       "    </tr>\n",
       "    <tr>\n",
       "      <th>15</th>\n",
       "      <td>StreamingMovies</td>\n",
       "      <td>1.315548</td>\n",
       "    </tr>\n",
       "    <tr>\n",
       "      <th>3</th>\n",
       "      <td>MonthlyCharges</td>\n",
       "      <td>1.183719</td>\n",
       "    </tr>\n",
       "    <tr>\n",
       "      <th>10</th>\n",
       "      <td>OnlineSecurity</td>\n",
       "      <td>0.934541</td>\n",
       "    </tr>\n",
       "    <tr>\n",
       "      <th>13</th>\n",
       "      <td>TechSupport</td>\n",
       "      <td>0.733398</td>\n",
       "    </tr>\n",
       "    <tr>\n",
       "      <th>4</th>\n",
       "      <td>TotalCharges</td>\n",
       "      <td>0.710642</td>\n",
       "    </tr>\n",
       "    <tr>\n",
       "      <th>6</th>\n",
       "      <td>SeniorCitizen</td>\n",
       "      <td>0.340470</td>\n",
       "    </tr>\n",
       "    <tr>\n",
       "      <th>16</th>\n",
       "      <td>MultipleLines</td>\n",
       "      <td>0.204371</td>\n",
       "    </tr>\n",
       "    <tr>\n",
       "      <th>5</th>\n",
       "      <td>Gender</td>\n",
       "      <td>0.000000</td>\n",
       "    </tr>\n",
       "    <tr>\n",
       "      <th>7</th>\n",
       "      <td>Partner</td>\n",
       "      <td>0.000000</td>\n",
       "    </tr>\n",
       "    <tr>\n",
       "      <th>8</th>\n",
       "      <td>Dependents</td>\n",
       "      <td>0.000000</td>\n",
       "    </tr>\n",
       "    <tr>\n",
       "      <th>11</th>\n",
       "      <td>OnlineBackup</td>\n",
       "      <td>0.000000</td>\n",
       "    </tr>\n",
       "    <tr>\n",
       "      <th>12</th>\n",
       "      <td>DeviceProtection</td>\n",
       "      <td>0.000000</td>\n",
       "    </tr>\n",
       "  </tbody>\n",
       "</table>\n",
       "</div>"
      ],
      "text/plain": [
       "                   0          1\n",
       "17  UsingServiceDays  60.586842\n",
       "0               Type  11.187790\n",
       "9    InternetService  11.125365\n",
       "2      PaymentMethod   8.034020\n",
       "1   PaperlessBilling   2.093186\n",
       "14       StreamingTV   1.550107\n",
       "15   StreamingMovies   1.315548\n",
       "3     MonthlyCharges   1.183719\n",
       "10    OnlineSecurity   0.934541\n",
       "13       TechSupport   0.733398\n",
       "4       TotalCharges   0.710642\n",
       "6      SeniorCitizen   0.340470\n",
       "16     MultipleLines   0.204371\n",
       "5             Gender   0.000000\n",
       "7            Partner   0.000000\n",
       "8         Dependents   0.000000\n",
       "11      OnlineBackup   0.000000\n",
       "12  DeviceProtection   0.000000"
      ]
     },
     "execution_count": 34,
     "metadata": {},
     "output_type": "execute_result"
    }
   ],
   "source": [
    "# Получим значимые признаки\n",
    "features_and_score = list(zip(catboost.feature_names_, catboost.get_feature_importance()))\n",
    "df_score = pd.DataFrame(features_and_score)\n",
    "df_score.sort_values(by=1, ascending=False)"
   ]
  },
  {
   "cell_type": "code",
   "execution_count": 35,
   "metadata": {},
   "outputs": [
    {
     "data": {
      "text/plain": [
       "['Type',\n",
       " 'PaperlessBilling',\n",
       " 'PaymentMethod',\n",
       " 'MonthlyCharges',\n",
       " 'TotalCharges',\n",
       " 'InternetService',\n",
       " 'OnlineSecurity',\n",
       " 'TechSupport',\n",
       " 'StreamingTV',\n",
       " 'StreamingMovies',\n",
       " 'UsingServiceDays']"
      ]
     },
     "execution_count": 35,
     "metadata": {},
     "output_type": "execute_result"
    }
   ],
   "source": [
    "# В целом, как и предполагалось, ряд признаков не влияют на результат, поэтому уменьшение размерности не должно нам помешать\n",
    "# В качестве эксперимента оставим только признаки со скорингом больше 0.6\n",
    "\n",
    "df_score.columns = ['feature_name', 'score']\n",
    "features_choosen = list(df_score.query('score > 0.6')['feature_name'])\n",
    "features_choosen"
   ]
  },
  {
   "cell_type": "markdown",
   "metadata": {},
   "source": [
    "### Проведем балансировку классов и подготовку признаков"
   ]
  },
  {
   "cell_type": "markdown",
   "metadata": {},
   "source": [
    "Разобьём выборку на тестовую и обучающую.\n",
    "\n",
    "НО!\n",
    "\n",
    "Поскольку у нас есть дисбаланс классов, не совсем правильно сразу проводить oversampling. При этом случайное разбиение при дисбалансе не учитывает то, что малое количество целевого класса может попасть (а значит, модели будет сложнее пройти тест на адекватность). Фактически, нам нужно провести стратификацию. Возможно, это помешает достичь лучшего результата с точки зрения оценки, но модель будет точно ближе к реальности.\n",
    "\n",
    "Поэтому правильно подготовить тестовую выборку самостоятельно по принципу:\n",
    "1. Не больше 20% от общей выборки (в связи с малым количеством положительных классов)\n",
    "2. В тестовой выборке должно быть 50% каждого класса"
   ]
  },
  {
   "cell_type": "code",
   "execution_count": 36,
   "metadata": {},
   "outputs": [
    {
     "data": {
      "text/plain": [
       "0    352\n",
       "1    352\n",
       "Name: Result, dtype: int64"
      ]
     },
     "execution_count": 36,
     "metadata": {},
     "output_type": "execute_result"
    }
   ],
   "source": [
    "# Разобьём выборку на тестовую и обучающую согласно принципам обозначенным выше\n",
    "total_len = df.count().iat[0]\n",
    "# Нам нужно по 5% от каждого класса (пробовал больше, но возникает проблема переобучения)\n",
    "part_count = round(0.05 * total_len)\n",
    "\n",
    "columns = features_choosen + [target_name]\n",
    "df_tmp = df[columns]\n",
    "\n",
    "# Сразу применим OHE\n",
    "df_tmp = pd.get_dummies(df_tmp, drop_first=True)\n",
    "\n",
    "# Разделим 1 и 0\n",
    "df_only_1 = df_tmp.query('Result == 1')\n",
    "df_only_0 = df_tmp.query('Result == 0')\n",
    "\n",
    "# Перемешаем выборки\n",
    "df_only_1 = df_only_1.sample(frac=1, random_state=RANDOM_STATE)\n",
    "df_only_0 = df_only_0.sample(frac=1, random_state=RANDOM_STATE)\n",
    "\n",
    "df_test_1, df_train_1 = df_only_1[:part_count], df_only_1[part_count:]\n",
    "df_test_0, df_train_0 = df_only_0[:part_count], df_only_0[part_count:]\n",
    "\n",
    "df_train = pd.concat([df_train_1, df_train_0])\n",
    "df_test = pd.concat([df_test_1, df_test_0])\n",
    "\n",
    "# Проверим, что наша задумка удалась\n",
    "df_test[target_name].value_counts()"
   ]
  },
  {
   "cell_type": "code",
   "execution_count": 37,
   "metadata": {},
   "outputs": [
    {
     "data": {
      "text/plain": [
       "0    4822\n",
       "1    1517\n",
       "Name: Result, dtype: int64"
      ]
     },
     "execution_count": 37,
     "metadata": {},
     "output_type": "execute_result"
    }
   ],
   "source": [
    "df_train[target_name].value_counts()"
   ]
  },
  {
   "cell_type": "code",
   "execution_count": 38,
   "metadata": {},
   "outputs": [
    {
     "data": {
      "text/html": [
       "<div>\n",
       "<style scoped>\n",
       "    .dataframe tbody tr th:only-of-type {\n",
       "        vertical-align: middle;\n",
       "    }\n",
       "\n",
       "    .dataframe tbody tr th {\n",
       "        vertical-align: top;\n",
       "    }\n",
       "\n",
       "    .dataframe thead th {\n",
       "        text-align: right;\n",
       "    }\n",
       "</style>\n",
       "<table border=\"1\" class=\"dataframe\">\n",
       "  <thead>\n",
       "    <tr style=\"text-align: right;\">\n",
       "      <th></th>\n",
       "      <th>TotalCharges</th>\n",
       "      <th>MonthlyCharges</th>\n",
       "      <th>UsingServiceDays</th>\n",
       "    </tr>\n",
       "    <tr>\n",
       "      <th>customerID</th>\n",
       "      <th></th>\n",
       "      <th></th>\n",
       "      <th></th>\n",
       "    </tr>\n",
       "  </thead>\n",
       "  <tbody>\n",
       "    <tr>\n",
       "      <th>0031-PVLZI</th>\n",
       "      <td>-0.984107</td>\n",
       "      <td>-1.460096</td>\n",
       "      <td>-1.181473</td>\n",
       "    </tr>\n",
       "    <tr>\n",
       "      <th>4816-OKWNX</th>\n",
       "      <td>1.289414</td>\n",
       "      <td>1.286358</td>\n",
       "      <td>0.697550</td>\n",
       "    </tr>\n",
       "    <tr>\n",
       "      <th>1465-LNTLJ</th>\n",
       "      <td>-0.761450</td>\n",
       "      <td>-0.003368</td>\n",
       "      <td>-1.016505</td>\n",
       "    </tr>\n",
       "    <tr>\n",
       "      <th>6933-FHBZC</th>\n",
       "      <td>-0.333406</td>\n",
       "      <td>-0.279501</td>\n",
       "      <td>-0.282868</td>\n",
       "    </tr>\n",
       "    <tr>\n",
       "      <th>4178-EGMON</th>\n",
       "      <td>1.619887</td>\n",
       "      <td>0.777082</td>\n",
       "      <td>1.514342</td>\n",
       "    </tr>\n",
       "  </tbody>\n",
       "</table>\n",
       "</div>"
      ],
      "text/plain": [
       "            TotalCharges  MonthlyCharges  UsingServiceDays\n",
       "customerID                                                \n",
       "0031-PVLZI     -0.984107       -1.460096         -1.181473\n",
       "4816-OKWNX      1.289414        1.286358          0.697550\n",
       "1465-LNTLJ     -0.761450       -0.003368         -1.016505\n",
       "6933-FHBZC     -0.333406       -0.279501         -0.282868\n",
       "4178-EGMON      1.619887        0.777082          1.514342"
      ]
     },
     "execution_count": 38,
     "metadata": {},
     "output_type": "execute_result"
    }
   ],
   "source": [
    "# Сразу проведем скалирование числовых признаков\n",
    "scaler = StandardScaler()\n",
    "scaler.fit(df_train[numeric_names])\n",
    "\n",
    "df_train[numeric_names] = scaler.transform(df_train[numeric_names])\n",
    "df_test[numeric_names] = scaler.transform(df_test[numeric_names])\n",
    "\n",
    "df_train[numeric_names].sample(5, random_state=RANDOM_STATE)"
   ]
  },
  {
   "cell_type": "code",
   "execution_count": 39,
   "metadata": {},
   "outputs": [],
   "source": [
    "# Еще раз выделим целевой признак из наших данных\n",
    "last_features_names = list(df_train.columns)\n",
    "last_features_names.remove(target_name)\n",
    "\n",
    "features_train = df_train[last_features_names]\n",
    "target_train = df_train[target_name]\n",
    "\n",
    "features_test = df_test[last_features_names]\n",
    "target_test = df_test[target_name]"
   ]
  },
  {
   "cell_type": "code",
   "execution_count": 40,
   "metadata": {},
   "outputs": [
    {
     "data": {
      "text/plain": [
       "0.31459975114060557"
      ]
     },
     "execution_count": 40,
     "metadata": {},
     "output_type": "execute_result"
    }
   ],
   "source": [
    "# Проведем балансировку\n",
    "# Поскольку модели лучше учатся при соотношении 50 на 50, для начала вычислим коэффицент (насколько больше у нас отрицательных значений)\n",
    "coef = target_train[target_train == 1].count() / target_train[target_train == 0].count()\n",
    "coef"
   ]
  },
  {
   "cell_type": "code",
   "execution_count": 41,
   "metadata": {},
   "outputs": [
    {
     "data": {
      "text/plain": [
       "0    4822\n",
       "1    4551\n",
       "Name: Result, dtype: int64"
      ]
     },
     "execution_count": 41,
     "metadata": {},
     "output_type": "execute_result"
    }
   ],
   "source": [
    "# Проведем апсемплинг\n",
    "def upsample(features, target, coef):\n",
    "    if (coef > 1):\n",
    "        print('Положительных значений больше чем отрицательных, увеличение не требуется, ', coef)\n",
    "        return features, target\n",
    "    \n",
    "    features_zeros = features[target == 0]\n",
    "    features_ones = features[target == 1]\n",
    "    target_zeros = target[target == 0]\n",
    "    target_ones = target[target == 1]\n",
    "\n",
    "    repeat = round(1 / coef)\n",
    "    features_upsampled = pd.concat([features_zeros] + [features_ones] * repeat)\n",
    "    target_upsampled = pd.concat([target_zeros] + [target_ones] * repeat)\n",
    "    features_upsampled, target_upsampled = shuffle(features_upsampled, target_upsampled, random_state=RANDOM_STATE)\n",
    "    \n",
    "    return features_upsampled, target_upsampled\n",
    "\n",
    "features_upsampled, target_upsampled = upsample(features_train, target_train, coef)\n",
    "target_upsampled.value_counts()"
   ]
  },
  {
   "cell_type": "code",
   "execution_count": 42,
   "metadata": {},
   "outputs": [
    {
     "data": {
      "text/plain": [
       "(9373, 9373)"
      ]
     },
     "execution_count": 42,
     "metadata": {},
     "output_type": "execute_result"
    }
   ],
   "source": [
    "# Посмотрим, что в итоге получилось\n",
    "features_upsampled.count().iat[0], target_upsampled.count()"
   ]
  },
  {
   "cell_type": "code",
   "execution_count": 43,
   "metadata": {},
   "outputs": [
    {
     "data": {
      "text/plain": [
       "(704, 704)"
      ]
     },
     "execution_count": 43,
     "metadata": {},
     "output_type": "execute_result"
    }
   ],
   "source": [
    "features_test.count().iat[0], target_test.count()"
   ]
  },
  {
   "cell_type": "code",
   "execution_count": 44,
   "metadata": {},
   "outputs": [
    {
     "data": {
      "text/plain": [
       "0    4822\n",
       "1    4551\n",
       "Name: Result, dtype: int64"
      ]
     },
     "execution_count": 44,
     "metadata": {},
     "output_type": "execute_result"
    }
   ],
   "source": [
    "target_upsampled.value_counts()"
   ]
  },
  {
   "cell_type": "code",
   "execution_count": 45,
   "metadata": {},
   "outputs": [
    {
     "data": {
      "text/plain": [
       "0    352\n",
       "1    352\n",
       "Name: Result, dtype: int64"
      ]
     },
     "execution_count": 45,
     "metadata": {},
     "output_type": "execute_result"
    }
   ],
   "source": [
    "target_test.value_counts()"
   ]
  },
  {
   "cell_type": "markdown",
   "metadata": {},
   "source": [
    "# Обучение моделей"
   ]
  },
  {
   "cell_type": "markdown",
   "metadata": {},
   "source": [
    "### Логистическая регрессия"
   ]
  },
  {
   "cell_type": "code",
   "execution_count": 46,
   "metadata": {},
   "outputs": [
    {
     "data": {
      "text/plain": [
       "{'C': 1000}"
      ]
     },
     "execution_count": 46,
     "metadata": {},
     "output_type": "execute_result"
    }
   ],
   "source": [
    "# Опробуем логистическую регрессию\n",
    "\n",
    "param_grid = {'C': [0.001, 0.01, 0.1, 1, 10, 100, 1000] }\n",
    "model = LogisticRegression(solver='lbfgs', penalty='l2')\n",
    "grid = GridSearchCV(model, param_grid, cv=5, scoring='roc_auc')\n",
    "grid.fit(features_upsampled, target_upsampled)\n",
    "grid.best_params_"
   ]
  },
  {
   "cell_type": "code",
   "execution_count": 47,
   "metadata": {},
   "outputs": [
    {
     "data": {
      "text/plain": [
       "0.8683456547004132"
      ]
     },
     "execution_count": 47,
     "metadata": {},
     "output_type": "execute_result"
    }
   ],
   "source": [
    "model = LogisticRegression(solver='lbfgs', penalty='l2', C=100)\n",
    "model.fit(features_upsampled, target_upsampled)\n",
    "#predicted_test = model.predict(features_test)\n",
    "predict_true_probalities = model.predict_proba(features_test)[:, 1]\n",
    "roc_auc_score(target_test, predict_true_probalities)"
   ]
  },
  {
   "cell_type": "code",
   "execution_count": 48,
   "metadata": {},
   "outputs": [
    {
     "data": {
      "image/png": "[encoded data removed]",
      "text/plain": [
       "<Figure size 432x288 with 1 Axes>"
      ]
     },
     "metadata": {
      "needs_background": "light"
     },
     "output_type": "display_data"
    }
   ],
   "source": [
    "def make_roc_curve(target_test, predicted_test):\n",
    "    fpr, tpr, thresholds = roc_curve(target_test, predicted_test)\n",
    "\n",
    "    plt.figure()\n",
    "    plt.plot(fpr, tpr)\n",
    "    plt.plot([0, 1], [0, 1], linestyle='--')\n",
    "    plt.xlim([0.0, 1.0])\n",
    "    plt.ylim([0.0, 1.0])\n",
    "    plt.xlabel('False Positive Rate')\n",
    "    plt.ylabel('True Positive Rate')\n",
    "    plt.title('ROC-кривая')\n",
    "    plt.show()\n",
    "    \n",
    "make_roc_curve(target_test, predict_true_probalities)"
   ]
  },
  {
   "cell_type": "markdown",
   "metadata": {},
   "source": [
    "Не самый плохой результат, учитывая равномерность и неизвестность тестовой выборки, но далёк от идеала и нужных нам значений."
   ]
  },
  {
   "cell_type": "markdown",
   "metadata": {},
   "source": [
    "### Случайный лес"
   ]
  },
  {
   "cell_type": "code",
   "execution_count": 49,
   "metadata": {},
   "outputs": [
    {
     "name": "stdout",
     "output_type": "stream",
     "text": [
      "Wall time: 0 ns\n"
     ]
    }
   ],
   "source": [
    "%%time\n",
    "\n",
    "param_grid = {\n",
    "    'max_depth': [2, 10, 20, 30, 40],\n",
    "    'min_samples_split': range(2, 11, 2),\n",
    "    'min_samples_leaf': range(2, 11, 2),\n",
    "    'n_estimators': range(50, 101, 10)\n",
    "}\n",
    "\n",
    "model = RandomForestClassifier(random_state=RANDOM_STATE)\n",
    "\n",
    "grid = GridSearchCV(model, param_grid, cv=5, scoring='roc_auc')\n",
    "#grid.fit(features_upsampled, target_upsampled)\n",
    "#grid.best_params_\n",
    "\n",
    "# Т.к. тренажер часто тупит, закомментировал момент подбора\n",
    "# Лучшие найденные параметры:\n",
    "# {'max_depth': 30,\n",
    "# 'min_samples_leaf': 2,\n",
    "# 'min_samples_split': 2,\n",
    "# 'n_estimators': 90}"
   ]
  },
  {
   "cell_type": "code",
   "execution_count": 50,
   "metadata": {},
   "outputs": [
    {
     "data": {
      "text/plain": [
       "0.862853499483471"
      ]
     },
     "execution_count": 50,
     "metadata": {},
     "output_type": "execute_result"
    }
   ],
   "source": [
    "model = RandomForestClassifier(random_state=RANDOM_STATE, max_depth=30, min_samples_leaf=2, n_estimators=90, min_samples_split=2)\n",
    "model.fit(features_upsampled, target_upsampled)\n",
    "#predicted_test = model.predict(features_test)\n",
    "predict_true_probalities = model.predict_proba(features_test)[:, 1]\n",
    "roc_auc_score(target_test, predict_true_probalities)"
   ]
  },
  {
   "cell_type": "code",
   "execution_count": 51,
   "metadata": {},
   "outputs": [
    {
     "data": {
      "image/png": "[encoded data removed]",
      "text/plain": [
       "<Figure size 432x288 with 1 Axes>"
      ]
     },
     "metadata": {
      "needs_background": "light"
     },
     "output_type": "display_data"
    }
   ],
   "source": [
    "make_roc_curve(target_test, predict_true_probalities)"
   ]
  },
  {
   "cell_type": "markdown",
   "metadata": {},
   "source": [
    "Случайному лесу прям не очень на такой разбитой выборке, до целевого показателя ещё очень далеко"
   ]
  },
  {
   "cell_type": "markdown",
   "metadata": {},
   "source": [
    "### Дерево решений"
   ]
  },
  {
   "cell_type": "code",
   "execution_count": 52,
   "metadata": {},
   "outputs": [
    {
     "name": "stdout",
     "output_type": "stream",
     "text": [
      "Wall time: 1 ms\n"
     ]
    }
   ],
   "source": [
    "%%time\n",
    "\n",
    "param_grid = {\n",
    "    \"criterion\":[\"gini\", \"entropy\"],\n",
    "    \"max_depth\": (2, 41, 2),\n",
    "    \"min_samples_split\": range(2, 21, 2),\n",
    "    \"min_samples_leaf\": range(2, 11, 2)\n",
    "}\n",
    "\n",
    "model = DecisionTreeClassifier(random_state=RANDOM_STATE)\n",
    "grid = GridSearchCV(model, param_grid, cv=5, scoring='roc_auc')\n",
    "#grid.fit(features_upsampled, target_upsampled)\n",
    "#grid.best_params_\n",
    "\n",
    "# Т.к. тренажер часто тупит, закомментировал момент подбора\n",
    "# Лучшие найденные параметры:\n",
    "# {'criterion': 'entropy',\n",
    "# 'max_depth': 41,\n",
    "# 'min_samples_leaf': 2,\n",
    "# 'min_samples_split': 2}"
   ]
  },
  {
   "cell_type": "code",
   "execution_count": 53,
   "metadata": {},
   "outputs": [
    {
     "data": {
      "text/plain": [
       "0.7370908122417354"
      ]
     },
     "execution_count": 53,
     "metadata": {},
     "output_type": "execute_result"
    }
   ],
   "source": [
    "model = DecisionTreeClassifier(random_state=RANDOM_STATE, criterion='entropy', max_depth=41, min_samples_split=2, min_samples_leaf=2)\n",
    "model.fit(features_upsampled, target_upsampled)\n",
    "#predicted_test = model.predict(features_test)\n",
    "predict_true_probalities = model.predict_proba(features_test)[:, 1]\n",
    "roc_auc_score(target_test, predict_true_probalities)"
   ]
  },
  {
   "cell_type": "code",
   "execution_count": 54,
   "metadata": {},
   "outputs": [
    {
     "data": {
      "image/png": "[encoded data removed]",
      "text/plain": [
       "<Figure size 432x288 with 1 Axes>"
      ]
     },
     "metadata": {
      "needs_background": "light"
     },
     "output_type": "display_data"
    }
   ],
   "source": [
    "make_roc_curve(target_test, predict_true_probalities)"
   ]
  },
  {
   "cell_type": "markdown",
   "metadata": {},
   "source": [
    "Дерево решений также очень далеко от нужного результата"
   ]
  },
  {
   "cell_type": "markdown",
   "metadata": {},
   "source": [
    "### CatBoost"
   ]
  },
  {
   "cell_type": "code",
   "execution_count": 55,
   "metadata": {},
   "outputs": [
    {
     "name": "stdout",
     "output_type": "stream",
     "text": [
      "Wall time: 27.4 s\n"
     ]
    },
    {
     "data": {
      "text/plain": [
       "0.7370908122417354"
      ]
     },
     "execution_count": 55,
     "metadata": {},
     "output_type": "execute_result"
    }
   ],
   "source": [
    "%%time\n",
    "\n",
    "# Попробуем катбуст с параметрами по умолчанию\n",
    "\n",
    "# Подготовим параметры\n",
    "feature_names = list(features_upsampled.columns)\n",
    "cat_features = list(set(feature_names) - set(numeric_names))\n",
    "\n",
    "train_pool = Pool(data=features_upsampled, label=target_upsampled, cat_features=cat_features, feature_names=feature_names)\n",
    "test_pool = Pool(data=features_test, label=target_test, cat_features=cat_features, feature_names=feature_names)\n",
    "\n",
    "catboost = CatBoostClassifier(verbose=0, task_type=\"GPU\", devices='0:1', random_seed=RANDOM_STATE)\n",
    "catboost.fit(train_pool)\n",
    "\n",
    "#predicted_test = catboost.predict(test_pool)\n",
    "predict_true_probalities = model.predict_proba(features_test)[:, 1]\n",
    "\n",
    "roc_auc_score(target_test, predict_true_probalities)"
   ]
  },
  {
   "cell_type": "code",
   "execution_count": 56,
   "metadata": {},
   "outputs": [
    {
     "data": {
      "image/png": "[encoded data removed]",
      "text/plain": [
       "<Figure size 432x288 with 1 Axes>"
      ]
     },
     "metadata": {
      "needs_background": "light"
     },
     "output_type": "display_data"
    }
   ],
   "source": [
    "make_roc_curve(target_test, predict_true_probalities)"
   ]
  },
  {
   "cell_type": "code",
   "execution_count": 57,
   "metadata": {},
   "outputs": [
    {
     "name": "stdout",
     "output_type": "stream",
     "text": [
      "Wall time: 0 ns\n"
     ]
    }
   ],
   "source": [
    "%%time\n",
    "\n",
    "# Т.к. целевой метрики достичь не удалось, но катбуст показал лучший результат, попробуем его потюнить\n",
    "param_grid = {\n",
    "    'iterations':[100, 1000],\n",
    "    'learning_rate': [0.01, 0.1, 0.3],\n",
    "    'depth': range(6, 11, 2), # рекомендуемые значения, согласно https://catboost.ai/docs/concepts/parameter-tuning.html#trees-number__overfitting-detection-settings\n",
    "    'l2_leaf_reg': range(3, 10, 2),\n",
    "    'border_count':[128], # оставил только рекомендованное значение для GPU\n",
    "}\n",
    "\n",
    "#model = CatBoostClassifier(loss_function='Logloss', eval_metric='AUC', task_type=\"GPU\", devices='0:1', random_seed=RANDOM_STATE, thread_count=-1)\n",
    "#gs_result = model.grid_search(param_grid, train_pool, verbose=0, train_size=0.8, plot=False, partition_random_seed=RANDOM_STATE)\n",
    "#gs_result['params']\n",
    "\n",
    "# Т.к. тренажер часто тупит, закомментировал момент подбора\n",
    "# Лучшие найденные параметры:\n",
    "#{'border_count': 128,\n",
    "# 'depth': 10,\n",
    "# 'l2_leaf_reg': 9,\n",
    "# 'iterations': 1000,\n",
    "# 'learning_rate': 0.3}"
   ]
  },
  {
   "cell_type": "code",
   "execution_count": 58,
   "metadata": {},
   "outputs": [
    {
     "data": {
      "text/plain": [
       "0.9027916774276858"
      ]
     },
     "execution_count": 58,
     "metadata": {},
     "output_type": "execute_result"
    }
   ],
   "source": [
    "# Для истории, неплохой результат с укороченной версией проверки на малых итерациях\n",
    "\n",
    "#  {'depth': 10,\n",
    "# 'l2_leaf_reg': 5,\n",
    "#  'iterations': 100,\n",
    "#  'learning_rate': 0.5}\n",
    "\n",
    "model = CatBoostClassifier(loss_function='Logloss', depth=10, l2_leaf_reg=5, eval_metric='AUC', iterations=100, learning_rate=0.5, task_type=\"GPU\", devices='0:1', random_seed=RANDOM_STATE, thread_count=-1, border_count=128, verbose=0)\n",
    "model.fit(train_pool, eval_set = [(features_test, target_test)], use_best_model=True)\n",
    "#predicted_test = model.predict(test_pool)\n",
    "predicted_proba = model.predict_proba(test_pool)[:, 1]\n",
    "roc_auc_score(target_test, predicted_proba)"
   ]
  },
  {
   "cell_type": "code",
   "execution_count": 59,
   "metadata": {},
   "outputs": [
    {
     "data": {
      "text/plain": [
       "0.9335090069731407"
      ]
     },
     "execution_count": 59,
     "metadata": {},
     "output_type": "execute_result"
    }
   ],
   "source": [
    "# Версия после улучшения\n",
    "\n",
    "#{'border_count': 128,\n",
    "# 'depth': 10,\n",
    "# 'l2_leaf_reg': 9,\n",
    "# 'iterations': 1000,\n",
    "# 'learning_rate': 0.3}\n",
    "model = CatBoostClassifier(loss_function='Logloss', depth=10, l2_leaf_reg=9, eval_metric='AUC', iterations=1000, learning_rate=0.3, task_type=\"GPU\", devices='0:1', random_seed=RANDOM_STATE, thread_count=-1, border_count=128, verbose=0)\n",
    "model.fit(train_pool, eval_set = [(features_test, target_test)], use_best_model=True)\n",
    "#predicted_test = model.predict(test_pool)\n",
    "predicted_proba = model.predict_proba(test_pool)[:, 1]\n",
    "roc_auc_score(target_test, predicted_proba)"
   ]
  },
  {
   "cell_type": "code",
   "execution_count": 60,
   "metadata": {},
   "outputs": [
    {
     "data": {
      "image/png": "[encoded data removed]",
      "text/plain": [
       "<Figure size 432x288 with 1 Axes>"
      ]
     },
     "metadata": {
      "needs_background": "light"
     },
     "output_type": "display_data"
    }
   ],
   "source": [
    "make_roc_curve(target_test, predicted_proba)"
   ]
  },
  {
   "cell_type": "code",
   "execution_count": 61,
   "metadata": {},
   "outputs": [
    {
     "data": {
      "text/plain": [
       "(array([ 0,  1,  2,  3,  4,  5,  6,  7,  8,  9, 10, 11, 12, 13, 14]),\n",
       " [Text(0, 0, 'PaperlessBilling'),\n",
       "  Text(1, 0, 'MonthlyCharges'),\n",
       "  Text(2, 0, 'TotalCharges'),\n",
       "  Text(3, 0, 'OnlineSecurity'),\n",
       "  Text(4, 0, 'TechSupport'),\n",
       "  Text(5, 0, 'StreamingTV'),\n",
       "  Text(6, 0, 'StreamingMovies'),\n",
       "  Text(7, 0, 'UsingServiceDays'),\n",
       "  Text(8, 0, 'Type_One year'),\n",
       "  Text(9, 0, 'Type_Two year'),\n",
       "  Text(10, 0, 'PaymentMethod_Credit card (automatic)'),\n",
       "  Text(11, 0, 'PaymentMethod_Electronic check'),\n",
       "  Text(12, 0, 'PaymentMethod_Mailed check'),\n",
       "  Text(13, 0, 'InternetService_Fiber optic'),\n",
       "  Text(14, 0, 'InternetService_Undefined')])"
      ]
     },
     "execution_count": 61,
     "metadata": {},
     "output_type": "execute_result"
    },
    {
     "data": {
      "image/png": "[encoded data removed]",
      "text/plain": [
       "<Figure size 864x360 with 1 Axes>"
      ]
     },
     "metadata": {
      "needs_background": "light"
     },
     "output_type": "display_data"
    }
   ],
   "source": [
    "# По совету ревьювера добавляю график значимых признаков для демонстрации бизнесу\n",
    "import seaborn as sns\n",
    "\n",
    "fig, ax = plt.subplots(figsize=(12,5))\n",
    "fig.suptitle('График: важность факторов')\n",
    "sns.barplot(y=model.feature_importances_, x=features_train.columns, ax=ax)\n",
    "plt.xticks(rotation=45, horizontalalignment='right', fontweight='light')"
   ]
  },
  {
   "cell_type": "markdown",
   "metadata": {},
   "source": [
    "# Вывод"
   ]
  },
  {
   "cell_type": "markdown",
   "metadata": {},
   "source": [
    "- Мы объединили исходные данные, обработали пропуски и ошибки. Дополнительно выделили количество дней использования услугой. На самом деле, изначально я пробовал выделить месяца, но они показали себя хуже. Вероятно это связано с тем, что признак является ключевым для определения оттока клиентов, а месяца одинаково идентифицируют всех недавних клиентов. Поэтому дни оказались более удачным выбором.\n",
    "- Мы провели исследование и общую подготовку данных. Из любопытного:\n",
    "    - Среди тех, кто платит помесячно доля отказов примерно равная, а среди оплат сразу за год или за два - минимальная\n",
    "    - По графику количества дней использования видно, что наибольшие отказы связаны с использованием до двух месяцев, при этом, чем больше время пользования, тем отказов меньше. Компании явно стоит предусмотреть некоторые акции, которые будут стимулировать пользователя оставаться в течении трех и более месяцев.\n",
    "    - Также, общее количество потраченных денег хорошо влияет на отток, что подтверждает необходимость в том, чтобы сохранить клиента в самом начале (чтобы он успел и больше потратить)\n",
    "    - Дополнительные услуги оказывают малое влияние на целевой показатель (пропорционально отказы почти везде одинаковы, как у тех, кто ими пользуется, так и у тех, кто нет)\n",
    "    - Любопытно, что среди тех, кто НЕ пользуется интернетом отказов меньше всего. На втором месте DSL, что может быть связано с тем, что его подключают там, где нет оптики и у людей может просто не быть альтернатив.\n",
    "    - Дополнительные услуги оказывают наименьшее влияние. Хотя, учитывая, что они также определяют суммарные затраты пользователя, которые влияют на отток, с ними также нужно работать. Однако, имеет смысл держать в голове, что высокие ежемесячные затраты, особенно на начальном этапе, могут стимулировать отток.\n",
    "- Мы обработали и подготовили наши данные для моделей. Для большей честности модели была использована стратифицированная выборка, а также были оставлены только наиболее значимые признаки. К самим данным мы применили скалирование (для числовых признаков), OHE (для категориальных), а также искусственно увеличили количество наших данных.\n",
    "- Мы попробовали и обучили разные модели. Полученные результаты:\n",
    "\n",
    "| Название модели         | ROC_AUC         |\n",
    "|:----------------------- | ---------------:|\n",
    "| Логистическая регрессия | 86,83%          |\n",
    "| Дерево решений          | 73,71%          |\n",
    "| Случайный лес           | 86,29%          |\n",
    "| CatBoost                | 93,35%          |\n",
    "\n",
    "- По итогу, победила модель CatBoost благодаря которой нам удалось преодолеть заданный задачей максимальный порог (88%). И довольно любопытно, что логистическая регрессия оказалась на втором месте."
   ]
  },
  {
   "cell_type": "markdown",
   "metadata": {},
   "source": [
    "# Отчёт по задаче\n",
    "\n",
    "На самом деле, на большинство вопросов уже есть ответ в выводе, тем не менее, уточню ряд моментов.\n",
    "\n",
    "- Все пункты плана были выполнены, ключевые шаги в решении задачи полностью соответствуют ему\n",
    "- В процессе работы были также не самые удачные решения. Например, изначально вместо количества дней, что пользователь пользуется услугами, я выделил месяцы, в результате они показали себя хуже. \n",
    "- Нам удалось достичь показателя 93,35%"
   ]
  },
  {
   "cell_type": "code",
   "execution_count": null,
   "metadata": {},
   "outputs": [],
   "source": []
  }
 ],
 "metadata": {
  "kernelspec": {
   "display_name": "Python 3",
   "language": "python",
   "name": "python3"
  },
  "language_info": {
   "codemirror_mode": {
    "name": "ipython",
    "version": 3
   },
   "file_extension": ".py",
   "mimetype": "text/x-python",
   "name": "python",
   "nbconvert_exporter": "python",
   "pygments_lexer": "ipython3",
   "version": "3.7.8"
  },
  "toc": {
   "base_numbering": 1,
   "nav_menu": {},
   "number_sections": true,
   "sideBar": true,
   "skip_h1_title": true,
   "title_cell": "Table of Contents",
   "title_sidebar": "Contents",
   "toc_cell": false,
   "toc_position": {},
   "toc_section_display": true,
   "toc_window_display": false
  }
 },
 "nbformat": 4,
 "nbformat_minor": 5
}