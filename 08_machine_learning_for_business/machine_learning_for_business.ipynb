{
 "cells": [
  {
   "cell_type": "markdown",
   "metadata": {},
   "source": [
    "# Описание проекта"
   ]
  },
  {
   "cell_type": "markdown",
   "metadata": {},
   "source": [
    "Допустим, вы работаете в добывающей компании «ГлавРосГосНефть». Нужно решить, где бурить новую скважину.\n",
    "\n",
    "Вам предоставлены пробы нефти в трёх регионах: в каждом 10 000 месторождений, где измерили качество нефти и объём её запасов. Постройте модель машинного обучения, которая поможет определить регион, где добыча принесёт наибольшую прибыль. Проанализируйте возможную прибыль и риски техникой *Bootstrap.*\n",
    "\n",
    "Шаги для выбора локации:\n",
    "\n",
    "- В избранном регионе ищут месторождения, для каждого определяют значения признаков;\n",
    "- Строят модель и оценивают объём запасов;\n",
    "- Выбирают месторождения с самым высокими оценками значений. Количество месторождений зависит от бюджета компании и стоимости разработки одной скважины;\n",
    "- Прибыль равна суммарной прибыли отобранных месторождений."
   ]
  },
  {
   "cell_type": "markdown",
   "metadata": {},
   "source": [
    "# 1. Загрузка и подготовка данных"
   ]
  },
  {
   "cell_type": "code",
   "execution_count": 1,
   "metadata": {},
   "outputs": [],
   "source": [
    "# блок импорта\n",
    "import pandas as pd\n",
    "import numpy as np\n",
    "import matplotlib.pyplot as plt\n",
    "\n",
    "# Подготовка моделей\n",
    "from numpy.random import RandomState\n",
    "from sklearn.preprocessing import StandardScaler\n",
    "from sklearn.model_selection import train_test_split\n",
    "from sklearn.utils import shuffle\n",
    "\n",
    "# Модели (в нашем случае актуальна только линейная регрессия)\n",
    "from sklearn.linear_model import LinearRegression\n",
    "\n",
    "# Метрики\n",
    "from sklearn.metrics import r2_score\n",
    "from sklearn.metrics import mean_squared_error\n",
    "from sklearn.metrics import mean_absolute_error\n",
    "from scipy import stats as st"
   ]
  },
  {
   "cell_type": "code",
   "execution_count": 2,
   "metadata": {},
   "outputs": [],
   "source": [
    "# Определим сразу random_state для всего проекта\n",
    "RS = 12345"
   ]
  },
  {
   "cell_type": "code",
   "execution_count": 3,
   "metadata": {},
   "outputs": [],
   "source": [
    "# Создадим датафреймы\n",
    "df1 = pd.read_csv('/datasets/geo_data_0.csv')\n",
    "df2 = pd.read_csv('/datasets/geo_data_1.csv')\n",
    "df3 = pd.read_csv('/datasets/geo_data_2.csv')"
   ]
  },
  {
   "cell_type": "code",
   "execution_count": 4,
   "metadata": {},
   "outputs": [
    {
     "data": {
      "text/html": [
       "<div>\n",
       "<style scoped>\n",
       "    .dataframe tbody tr th:only-of-type {\n",
       "        vertical-align: middle;\n",
       "    }\n",
       "\n",
       "    .dataframe tbody tr th {\n",
       "        vertical-align: top;\n",
       "    }\n",
       "\n",
       "    .dataframe thead th {\n",
       "        text-align: right;\n",
       "    }\n",
       "</style>\n",
       "<table border=\"1\" class=\"dataframe\">\n",
       "  <thead>\n",
       "    <tr style=\"text-align: right;\">\n",
       "      <th></th>\n",
       "      <th>id</th>\n",
       "      <th>f0</th>\n",
       "      <th>f1</th>\n",
       "      <th>f2</th>\n",
       "      <th>product</th>\n",
       "    </tr>\n",
       "  </thead>\n",
       "  <tbody>\n",
       "    <tr>\n",
       "      <td>0</td>\n",
       "      <td>txEyH</td>\n",
       "      <td>0.705745</td>\n",
       "      <td>-0.497823</td>\n",
       "      <td>1.221170</td>\n",
       "      <td>105.280062</td>\n",
       "    </tr>\n",
       "    <tr>\n",
       "      <td>1</td>\n",
       "      <td>2acmU</td>\n",
       "      <td>1.334711</td>\n",
       "      <td>-0.340164</td>\n",
       "      <td>4.365080</td>\n",
       "      <td>73.037750</td>\n",
       "    </tr>\n",
       "    <tr>\n",
       "      <td>2</td>\n",
       "      <td>409Wp</td>\n",
       "      <td>1.022732</td>\n",
       "      <td>0.151990</td>\n",
       "      <td>1.419926</td>\n",
       "      <td>85.265647</td>\n",
       "    </tr>\n",
       "    <tr>\n",
       "      <td>3</td>\n",
       "      <td>iJLyR</td>\n",
       "      <td>-0.032172</td>\n",
       "      <td>0.139033</td>\n",
       "      <td>2.978566</td>\n",
       "      <td>168.620776</td>\n",
       "    </tr>\n",
       "    <tr>\n",
       "      <td>4</td>\n",
       "      <td>Xdl7t</td>\n",
       "      <td>1.988431</td>\n",
       "      <td>0.155413</td>\n",
       "      <td>4.751769</td>\n",
       "      <td>154.036647</td>\n",
       "    </tr>\n",
       "  </tbody>\n",
       "</table>\n",
       "</div>"
      ],
      "text/plain": [
       "      id        f0        f1        f2     product\n",
       "0  txEyH  0.705745 -0.497823  1.221170  105.280062\n",
       "1  2acmU  1.334711 -0.340164  4.365080   73.037750\n",
       "2  409Wp  1.022732  0.151990  1.419926   85.265647\n",
       "3  iJLyR -0.032172  0.139033  2.978566  168.620776\n",
       "4  Xdl7t  1.988431  0.155413  4.751769  154.036647"
      ]
     },
     "execution_count": 4,
     "metadata": {},
     "output_type": "execute_result"
    }
   ],
   "source": [
    "# Посмотрим на данные\n",
    "df1.head()"
   ]
  },
  {
   "cell_type": "code",
   "execution_count": 5,
   "metadata": {},
   "outputs": [
    {
     "data": {
      "text/html": [
       "<div>\n",
       "<style scoped>\n",
       "    .dataframe tbody tr th:only-of-type {\n",
       "        vertical-align: middle;\n",
       "    }\n",
       "\n",
       "    .dataframe tbody tr th {\n",
       "        vertical-align: top;\n",
       "    }\n",
       "\n",
       "    .dataframe thead th {\n",
       "        text-align: right;\n",
       "    }\n",
       "</style>\n",
       "<table border=\"1\" class=\"dataframe\">\n",
       "  <thead>\n",
       "    <tr style=\"text-align: right;\">\n",
       "      <th></th>\n",
       "      <th>id</th>\n",
       "      <th>f0</th>\n",
       "      <th>f1</th>\n",
       "      <th>f2</th>\n",
       "      <th>product</th>\n",
       "    </tr>\n",
       "  </thead>\n",
       "  <tbody>\n",
       "    <tr>\n",
       "      <td>0</td>\n",
       "      <td>kBEdx</td>\n",
       "      <td>-15.001348</td>\n",
       "      <td>-8.276000</td>\n",
       "      <td>-0.005876</td>\n",
       "      <td>3.179103</td>\n",
       "    </tr>\n",
       "    <tr>\n",
       "      <td>1</td>\n",
       "      <td>62mP7</td>\n",
       "      <td>14.272088</td>\n",
       "      <td>-3.475083</td>\n",
       "      <td>0.999183</td>\n",
       "      <td>26.953261</td>\n",
       "    </tr>\n",
       "    <tr>\n",
       "      <td>2</td>\n",
       "      <td>vyE1P</td>\n",
       "      <td>6.263187</td>\n",
       "      <td>-5.948386</td>\n",
       "      <td>5.001160</td>\n",
       "      <td>134.766305</td>\n",
       "    </tr>\n",
       "    <tr>\n",
       "      <td>3</td>\n",
       "      <td>KcrkZ</td>\n",
       "      <td>-13.081196</td>\n",
       "      <td>-11.506057</td>\n",
       "      <td>4.999415</td>\n",
       "      <td>137.945408</td>\n",
       "    </tr>\n",
       "    <tr>\n",
       "      <td>4</td>\n",
       "      <td>AHL4O</td>\n",
       "      <td>12.702195</td>\n",
       "      <td>-8.147433</td>\n",
       "      <td>5.004363</td>\n",
       "      <td>134.766305</td>\n",
       "    </tr>\n",
       "  </tbody>\n",
       "</table>\n",
       "</div>"
      ],
      "text/plain": [
       "      id         f0         f1        f2     product\n",
       "0  kBEdx -15.001348  -8.276000 -0.005876    3.179103\n",
       "1  62mP7  14.272088  -3.475083  0.999183   26.953261\n",
       "2  vyE1P   6.263187  -5.948386  5.001160  134.766305\n",
       "3  KcrkZ -13.081196 -11.506057  4.999415  137.945408\n",
       "4  AHL4O  12.702195  -8.147433  5.004363  134.766305"
      ]
     },
     "execution_count": 5,
     "metadata": {},
     "output_type": "execute_result"
    }
   ],
   "source": [
    "df2.head()"
   ]
  },
  {
   "cell_type": "code",
   "execution_count": 6,
   "metadata": {},
   "outputs": [
    {
     "data": {
      "text/html": [
       "<div>\n",
       "<style scoped>\n",
       "    .dataframe tbody tr th:only-of-type {\n",
       "        vertical-align: middle;\n",
       "    }\n",
       "\n",
       "    .dataframe tbody tr th {\n",
       "        vertical-align: top;\n",
       "    }\n",
       "\n",
       "    .dataframe thead th {\n",
       "        text-align: right;\n",
       "    }\n",
       "</style>\n",
       "<table border=\"1\" class=\"dataframe\">\n",
       "  <thead>\n",
       "    <tr style=\"text-align: right;\">\n",
       "      <th></th>\n",
       "      <th>id</th>\n",
       "      <th>f0</th>\n",
       "      <th>f1</th>\n",
       "      <th>f2</th>\n",
       "      <th>product</th>\n",
       "    </tr>\n",
       "  </thead>\n",
       "  <tbody>\n",
       "    <tr>\n",
       "      <td>0</td>\n",
       "      <td>fwXo0</td>\n",
       "      <td>-1.146987</td>\n",
       "      <td>0.963328</td>\n",
       "      <td>-0.828965</td>\n",
       "      <td>27.758673</td>\n",
       "    </tr>\n",
       "    <tr>\n",
       "      <td>1</td>\n",
       "      <td>WJtFt</td>\n",
       "      <td>0.262778</td>\n",
       "      <td>0.269839</td>\n",
       "      <td>-2.530187</td>\n",
       "      <td>56.069697</td>\n",
       "    </tr>\n",
       "    <tr>\n",
       "      <td>2</td>\n",
       "      <td>ovLUW</td>\n",
       "      <td>0.194587</td>\n",
       "      <td>0.289035</td>\n",
       "      <td>-5.586433</td>\n",
       "      <td>62.871910</td>\n",
       "    </tr>\n",
       "    <tr>\n",
       "      <td>3</td>\n",
       "      <td>q6cA6</td>\n",
       "      <td>2.236060</td>\n",
       "      <td>-0.553760</td>\n",
       "      <td>0.930038</td>\n",
       "      <td>114.572842</td>\n",
       "    </tr>\n",
       "    <tr>\n",
       "      <td>4</td>\n",
       "      <td>WPMUX</td>\n",
       "      <td>-0.515993</td>\n",
       "      <td>1.716266</td>\n",
       "      <td>5.899011</td>\n",
       "      <td>149.600746</td>\n",
       "    </tr>\n",
       "  </tbody>\n",
       "</table>\n",
       "</div>"
      ],
      "text/plain": [
       "      id        f0        f1        f2     product\n",
       "0  fwXo0 -1.146987  0.963328 -0.828965   27.758673\n",
       "1  WJtFt  0.262778  0.269839 -2.530187   56.069697\n",
       "2  ovLUW  0.194587  0.289035 -5.586433   62.871910\n",
       "3  q6cA6  2.236060 -0.553760  0.930038  114.572842\n",
       "4  WPMUX -0.515993  1.716266  5.899011  149.600746"
      ]
     },
     "execution_count": 6,
     "metadata": {},
     "output_type": "execute_result"
    }
   ],
   "source": [
    "df3.head()"
   ]
  },
  {
   "cell_type": "code",
   "execution_count": 7,
   "metadata": {},
   "outputs": [
    {
     "name": "stdout",
     "output_type": "stream",
     "text": [
      "<class 'pandas.core.frame.DataFrame'>\n",
      "RangeIndex: 100000 entries, 0 to 99999\n",
      "Data columns (total 5 columns):\n",
      "id         100000 non-null object\n",
      "f0         100000 non-null float64\n",
      "f1         100000 non-null float64\n",
      "f2         100000 non-null float64\n",
      "product    100000 non-null float64\n",
      "dtypes: float64(4), object(1)\n",
      "memory usage: 3.8+ MB\n"
     ]
    }
   ],
   "source": [
    "# Посмотрим информацию по нашему фрейму\n",
    "df1.info()"
   ]
  },
  {
   "cell_type": "code",
   "execution_count": 8,
   "metadata": {},
   "outputs": [
    {
     "name": "stdout",
     "output_type": "stream",
     "text": [
      "<class 'pandas.core.frame.DataFrame'>\n",
      "RangeIndex: 100000 entries, 0 to 99999\n",
      "Data columns (total 5 columns):\n",
      "id         100000 non-null object\n",
      "f0         100000 non-null float64\n",
      "f1         100000 non-null float64\n",
      "f2         100000 non-null float64\n",
      "product    100000 non-null float64\n",
      "dtypes: float64(4), object(1)\n",
      "memory usage: 3.8+ MB\n"
     ]
    }
   ],
   "source": [
    "df2.info()"
   ]
  },
  {
   "cell_type": "code",
   "execution_count": 9,
   "metadata": {},
   "outputs": [
    {
     "name": "stdout",
     "output_type": "stream",
     "text": [
      "<class 'pandas.core.frame.DataFrame'>\n",
      "RangeIndex: 100000 entries, 0 to 99999\n",
      "Data columns (total 5 columns):\n",
      "id         100000 non-null object\n",
      "f0         100000 non-null float64\n",
      "f1         100000 non-null float64\n",
      "f2         100000 non-null float64\n",
      "product    100000 non-null float64\n",
      "dtypes: float64(4), object(1)\n",
      "memory usage: 3.8+ MB\n"
     ]
    }
   ],
   "source": [
    "df3.info()"
   ]
  },
  {
   "cell_type": "markdown",
   "metadata": {},
   "source": [
    "### Промежуточный вывод\n",
    "\n",
    "    1. Все датафреймы содержат одинаковый объём данных\n",
    "    2. Пропущенных значений или несоответствия типов нигде нет\n",
    "    3. Столбец id для предсказаний нам нужно будет исключить (в целом, можно было бы и удалить, но эти значения могут потом понадобится для анализа другим аналитикам или заинтересованным лицам, чтобы понять, например, значения каких именно скважин мы предсказывали)\n",
    "    4. Адекватность значений признаков мы не можем оценить т.к. контекст нам неизвестен\n",
    "    \n",
    "    Далее нам нужно понять, насколько наши признаки различаются в своих значениях, чтобы один признак не имел большой власти над другим."
   ]
  },
  {
   "cell_type": "code",
   "execution_count": 10,
   "metadata": {},
   "outputs": [
    {
     "data": {
      "image/png": "[encoded data removed]",
      "text/plain": [
       "<Figure size 432x288 with 1 Axes>"
      ]
     },
     "metadata": {
      "needs_background": "light"
     },
     "output_type": "display_data"
    },
    {
     "data": {
      "image/png": "[encoded data removed]",
      "text/plain": [
       "<Figure size 432x288 with 1 Axes>"
      ]
     },
     "metadata": {
      "needs_background": "light"
     },
     "output_type": "display_data"
    },
    {
     "data": {
      "image/png": "[encoded data removed]",
      "text/plain": [
       "<Figure size 432x288 with 1 Axes>"
      ]
     },
     "metadata": {
      "needs_background": "light"
     },
     "output_type": "display_data"
    }
   ],
   "source": [
    "# Посмотрим на примере одного датасета, как сильно различаются параметры\n",
    "fields = ['f0', 'f1', 'f2']\n",
    "\n",
    "for df in [df1, df2, df3]:\n",
    "    df.boxplot(column=fields)\n",
    "    plt.show()"
   ]
  },
  {
   "cell_type": "markdown",
   "metadata": {},
   "source": [
    "### Промежуточный вывод\n",
    "\n",
    "    1. Сами значения внутри фрейма различаются в амплитуде (нужно скалировать)\n",
    "    2. Хоть выбросы и составляют порядка 5%, удалять их страшно, т.к. непонятно, что за признаки. А значит есть вероятность, что это \"не баг, а фича\". Однако при стандартизации они также будут влиять на результат, поэтому все же решил удалить (заодно подровнять вес признаков в дальнейшем)\n",
    "    3. К тому же RMSE чувствительна к отклонениям и об этом тоже следует помнить"
   ]
  },
  {
   "cell_type": "code",
   "execution_count": 11,
   "metadata": {},
   "outputs": [
    {
     "data": {
      "image/png": "[encoded data removed]",
      "text/plain": [
       "<Figure size 432x288 with 1 Axes>"
      ]
     },
     "metadata": {
      "needs_background": "light"
     },
     "output_type": "display_data"
    },
    {
     "data": {
      "image/png": "[encoded data removed]",
      "text/plain": [
       "<Figure size 432x288 with 1 Axes>"
      ]
     },
     "metadata": {
      "needs_background": "light"
     },
     "output_type": "display_data"
    },
    {
     "data": {
      "image/png": "[encoded data removed]",
      "text/plain": [
       "<Figure size 432x288 with 1 Axes>"
      ]
     },
     "metadata": {
      "needs_background": "light"
     },
     "output_type": "display_data"
    }
   ],
   "source": [
    "# Удалим выбросы\n",
    "df1 = df1[(df1['f2'] <= 11) & (df1['f2'] >= -6)]\n",
    "df2 = df2[(df2['f1'] <= 9) & (df2['f1'] >= -18)]\n",
    "df3 = df3[(df3['f0'] <= 4.5) & (df3['f0'] >= -4.5) & (df3['f1'] <= 4.8) & (df3['f1'] >= -4.8) & (df3['f2'] <= 12) & (df3['f2'] >= -6.5)]\n",
    "\n",
    "# Проверим, что все ок\n",
    "for df in [df1, df2, df3]:\n",
    "    df.boxplot(column=fields)\n",
    "    plt.show()"
   ]
  },
  {
   "cell_type": "code",
   "execution_count": 12,
   "metadata": {},
   "outputs": [
    {
     "name": "stdout",
     "output_type": "stream",
     "text": [
      "index      99249\n",
      "id         99249\n",
      "f0         99249\n",
      "f1         99249\n",
      "f2         99249\n",
      "product    99249\n",
      "dtype: int64\n",
      "index      99194\n",
      "id         99194\n",
      "f0         99194\n",
      "f1         99194\n",
      "f2         99194\n",
      "product    99194\n",
      "dtype: int64\n",
      "index      97789\n",
      "id         97789\n",
      "f0         97789\n",
      "f1         97789\n",
      "f2         97789\n",
      "product    97789\n",
      "dtype: int64\n"
     ]
    }
   ],
   "source": [
    "# Проверим, что не удалили много лишнего\n",
    "for df in [df1, df2, df3]:\n",
    "    # сбросим индексы\n",
    "    df.reset_index(inplace=True)\n",
    "    print(df.count())"
   ]
  },
  {
   "cell_type": "markdown",
   "metadata": {},
   "source": [
    "### Вывод\n",
    "\n",
    "- Мы ознакомились с нашими данными\n",
    "- Убедились в отсутствии пропусков\n",
    "- Избавились от выбросов\n",
    "- Определились с тем, что признаки нужно будет стандартизировать"
   ]
  },
  {
   "cell_type": "markdown",
   "metadata": {},
   "source": [
    "# 2. Обучение и проверка модели"
   ]
  },
  {
   "cell_type": "code",
   "execution_count": 13,
   "metadata": {},
   "outputs": [],
   "source": [
    "# Разобьем выборку в пропорции 75-25\n",
    "def split_df(df):\n",
    "    target = df['product']\n",
    "    features = df[['f0', 'f1', 'f2']]\n",
    "\n",
    "    return train_test_split(features, target, test_size=0.25, random_state=RS)\n",
    "\n",
    "features_train_1, features_valid_1, target_train_1, target_valid_1 = split_df(df1)\n",
    "features_train_2, features_valid_2, target_train_2, target_valid_2 = split_df(df2)\n",
    "features_train_3, features_valid_3, target_train_3, target_valid_3 = split_df(df3)"
   ]
  },
  {
   "cell_type": "code",
   "execution_count": 14,
   "metadata": {},
   "outputs": [
    {
     "data": {
      "text/plain": [
       "<matplotlib.axes._subplots.AxesSubplot at 0x7fb9ed695850>"
      ]
     },
     "execution_count": 14,
     "metadata": {},
     "output_type": "execute_result"
    },
    {
     "data": {
      "image/png": "[encoded data removed]",
      "text/plain": [
       "<Figure size 432x288 with 1 Axes>"
      ]
     },
     "metadata": {
      "needs_background": "light"
     },
     "output_type": "display_data"
    }
   ],
   "source": [
    "# Стандартизируем признаки\n",
    "def scale_features(features_train, features_valid):\n",
    "    # У каждого фрейма должен быть свой скалер\n",
    "    scaler = StandardScaler()\n",
    "    numeric = ['f0', 'f1', 'f2']\n",
    "    scaler.fit(features_train[numeric])\n",
    "    pd.set_option('mode.chained_assignment', None)\n",
    "    features_train[numeric] = scaler.transform(features_train[numeric])\n",
    "    features_valid[numeric] = scaler.transform(features_valid[numeric])\n",
    "    \n",
    "    return features_train, features_valid\n",
    "\n",
    "features_train_1, features_valid_1 = scale_features(features_train_1, features_valid_1)\n",
    "features_train_2, features_valid_2 = scale_features(features_train_2, features_valid_2)\n",
    "features_train_3, features_valid_3 = scale_features(features_train_3, features_valid_3)\n",
    "\n",
    "# Проверим, что все ок\n",
    "features_train_1.boxplot(column=['f0', 'f1', 'f2'])"
   ]
  },
  {
   "cell_type": "code",
   "execution_count": 15,
   "metadata": {},
   "outputs": [],
   "source": [
    "# обучим модель и проверим ее на валидационной выборке\n",
    "# в нашем случае по условию задачи это может быть только линейная регрессия, поэтому удобно будет написать функцию\n",
    "# также сразу напишем функцию для рассчета rmse для удобства\n",
    "\n",
    "def rmse(target, predicted):\n",
    "    mse = mean_squared_error(target, predicted)\n",
    "    return mse ** 0.5\n",
    "\n",
    "# для интереса напишем функцию, котора будет выводить все результаты нашей модели (MSE, RMSE, R2)\n",
    "def full_score_info(target, predicted):\n",
    "    mse = mean_squared_error(target, predicted)\n",
    "    rmse_val = rmse(target, predicted)\n",
    "    r2 = r2_score(target, predicted)\n",
    "    mae = mean_absolute_error(target, predicted)\n",
    "    predicted_mean = predicted.mean()\n",
    "    \n",
    "    print('|{: >9}|{: >9}|{: >9}|{: >9}|{: >15}|'.format('RMSE', 'MSE', 'R2', 'MAE', 'Predicted mean'))\n",
    "    print('|{: >9.6f}|{: >9.4f}|{: >9.7f}|{: >9.6f}|{: >15.6f}|'.format(rmse_val, mse, r2, mae, predicted_mean))\n",
    "    \n",
    "    # по условиям задачи дальше нам интересно сохранять средние предсказанные значения и rmse\n",
    "    return rmse, predicted_mean\n",
    "\n",
    "def train_the_model(features_train, target_train, features_valid, target_valid):\n",
    "    model = LinearRegression()\n",
    "    model.fit(features_train, target_train)\n",
    "    predicted_valid = model.predict(features_valid)\n",
    "    predicted_mean, rmse = full_score_info(target_valid, predicted_valid)\n",
    "    \n",
    "    return predicted_mean, rmse, predicted_valid"
   ]
  },
  {
   "cell_type": "code",
   "execution_count": 16,
   "metadata": {},
   "outputs": [
    {
     "name": "stdout",
     "output_type": "stream",
     "text": [
      "Model for region 1\n",
      "|     RMSE|      MSE|       R2|      MAE| Predicted mean|\n",
      "|37.669866|1419.0188|0.2755680|31.083365|      92.485878|\n",
      "Model for region 2\n",
      "|     RMSE|      MSE|       R2|      MAE| Predicted mean|\n",
      "| 0.888268|   0.7890|0.9996214| 0.715224|      69.072767|\n",
      "Model for region 3\n",
      "|     RMSE|      MSE|       R2|      MAE| Predicted mean|\n",
      "|40.184815|1614.8193|0.1914792|32.925614|      95.003775|\n"
     ]
    }
   ],
   "source": [
    "#Выведем информацию по каждой модели, а итоговые предсказания для удобства сразу переведем в Series\n",
    "\n",
    "print('Model for region 1');\n",
    "predicted_mean_1, rmse_1, predicted_valid_1 = train_the_model(features_train_1, target_train_1, features_valid_1, target_valid_1)\n",
    "predicted_valid_df_1 = pd.Series(data=predicted_valid_1, index=target_valid_1.index)\n",
    "print('Model for region 2');\n",
    "predicted_mean_2, rmse_2, predicted_valid_2 = train_the_model(features_train_2, target_train_2, features_valid_2, target_valid_2)\n",
    "predicted_valid_df_2 = pd.Series(data=predicted_valid_2, index=target_valid_2.index)\n",
    "print('Model for region 3');\n",
    "predicted_mean_3, rmse_3, predicted_valid_3 = train_the_model(features_train_3, target_train_3, features_valid_3, target_valid_3)\n",
    "predicted_valid_df_3 = pd.Series(data=predicted_valid_3, index=target_valid_3.index)"
   ]
  },
  {
   "cell_type": "markdown",
   "metadata": {},
   "source": [
    "### Промежуточный вывод\n",
    "\n",
    "    1. Что любопытно, RMSE модели для 1го и 3го региона очень похожи, как и предсказанные значения, однако сами значения имеют довольно приличное отклонение\n",
    "    2. В то же время, для второго региона мы имеем гораздо лучшую точность, но и меньшее предсказание средних запасов"
   ]
  },
  {
   "cell_type": "markdown",
   "metadata": {},
   "source": [
    "# 3. Подготовка к расчёту прибыли"
   ]
  },
  {
   "cell_type": "code",
   "execution_count": 17,
   "metadata": {},
   "outputs": [],
   "source": [
    "# Внесем основные параметры задачи\n",
    "POINTS_TO_EXPLORE_COUNT = 500 # сколько точек исследуют при разведке региона\n",
    "POINTS_FOR_PROFIT_COUNT = 200 # по какому количеству точек считают прибыль (лучшие точки)\n",
    "DEVELOPMENT_BUDGET = 10 * (10 ** 9) # бюджет на разработку (в рублях)\n",
    "BARREL_PROFIT = 450 # стоимость одного барреля (в рублях)\n",
    "PRODUCT_PROFIT = BARREL_PROFIT * 1000 # стоимость единицы продукта (в рублях)\n",
    "LOSS_PROBABILITY_LIMIT = 2.5 # предельная вероятность убытков на регион (в процентах)"
   ]
  },
  {
   "cell_type": "code",
   "execution_count": 18,
   "metadata": {},
   "outputs": [
    {
     "data": {
      "text/plain": [
       "22222.222222222223"
      ]
     },
     "execution_count": 18,
     "metadata": {},
     "output_type": "execute_result"
    }
   ],
   "source": [
    "# Рассчитаем достаточный объём сырья для безубыточной разработки (региона)\n",
    "MIN_PRODUCT_FOR_BREAK_EVEN_DEV_REGION = DEVELOPMENT_BUDGET / PRODUCT_PROFIT\n",
    "MIN_PRODUCT_FOR_BREAK_EVEN_DEV_REGION"
   ]
  },
  {
   "cell_type": "code",
   "execution_count": 19,
   "metadata": {},
   "outputs": [
    {
     "data": {
      "text/plain": [
       "111.11111111111111"
      ]
     },
     "execution_count": 19,
     "metadata": {},
     "output_type": "execute_result"
    }
   ],
   "source": [
    "# Рассчитаем то же самое для скважины\n",
    "MIN_PRODUCT_FOR_BREAK_EVEN_DEV_WELL = MIN_PRODUCT_FOR_BREAK_EVEN_DEV_REGION / POINTS_FOR_PROFIT_COUNT\n",
    "MIN_PRODUCT_FOR_BREAK_EVEN_DEV_WELL"
   ]
  },
  {
   "cell_type": "code",
   "execution_count": 20,
   "metadata": {},
   "outputs": [],
   "source": [
    "# Напишем функцию рассчета прибыли\n",
    "\n",
    "def calculate_profit(target, probabilities):\n",
    "    probs_sorted = probabilities.sort_values(ascending=False)\n",
    "    selected = target[probs_sorted.index][:POINTS_FOR_PROFIT_COUNT]\n",
    "    return selected.sum() * PRODUCT_PROFIT - DEVELOPMENT_BUDGET"
   ]
  },
  {
   "cell_type": "code",
   "execution_count": 21,
   "metadata": {},
   "outputs": [
    {
     "name": "stdout",
     "output_type": "stream",
     "text": [
      "Model for region 1 profit =  3184159270.776703\n",
      "Model for region 2 profit =  2415086696.681511\n",
      "Model for region 3 profit =  2532998980.7103252\n"
     ]
    }
   ],
   "source": [
    "# Посчитаем профит по каждому региону\n",
    "print('Model for region 1 profit = ', calculate_profit(target_valid_1, predicted_valid_df_1));\n",
    "print('Model for region 2 profit = ', calculate_profit(target_valid_2, predicted_valid_df_2));\n",
    "print('Model for region 3 profit = ', calculate_profit(target_valid_3, predicted_valid_df_3));"
   ]
  },
  {
   "cell_type": "markdown",
   "metadata": {},
   "source": [
    "### Промежуточный вывод\n",
    "\n",
    "    1. В нашем случае, для разработки в ноль необходимо чтобы каждая скважина из 200, по которым рассчитывается прибыль, приносила не меньше 111 едниц продукта\n",
    "    2. При этом средние значения, которые мы предсказали для всех регионов меньше данного значения\n",
    "    3. Тем не менее, в каждом регионе мы имеем положительную прибыль от разработки"
   ]
  },
  {
   "cell_type": "markdown",
   "metadata": {},
   "source": [
    "# 4. Расчёт прибыли и рисков "
   ]
  },
  {
   "cell_type": "code",
   "execution_count": 22,
   "metadata": {},
   "outputs": [],
   "source": [
    "# С помощью бутстрапа найдем распределение прибыли\n",
    "\n",
    "# Напишем функцию для наших вычислений\n",
    "def make_bootstrap(target, probabilities):\n",
    "    # для начала определим state (RS нам не подойдет, т.к. всегда будет возвращать одну выборку)\n",
    "    state = np.random.RandomState(12345)\n",
    "\n",
    "    values = []\n",
    "    for i in range(1000):\n",
    "        target_subsample = target.sample(n=POINTS_TO_EXPLORE_COUNT, replace=True, random_state=state)\n",
    "        probs_subsample = probabilities[target_subsample.index]\n",
    "    \n",
    "        values.append(calculate_profit(target_subsample, probs_subsample))\n",
    "\n",
    "    values = pd.Series(values)\n",
    "    \n",
    "    alpha = 0.95\n",
    "    df = values.count() - 1\n",
    "    confidence_interval = st.t.interval(alpha, df, loc=values.mean(), scale=values.sem())\n",
    "    \n",
    "    lower = values.quantile(0.01)\n",
    " \n",
    "    mean = values.mean()\n",
    "    print(\"Средняя прибыль:\", mean)\n",
    "    print(\"95% доверительный интервал (истинное среднее)\", confidence_interval)\n",
    "    confidence_interval = (values.quantile(0.025), values.quantile(0.975))\n",
    "    print(\"95% доверительный интервал (прогноз)\", confidence_interval)\n",
    "    \n",
    "    loss_probability = values[values < 0].count() / values.count()\n",
    "    print('Вероятность убытка = {:.2%}'.format(loss_probability))\n",
    "    \n",
    "    if (loss_probability <= LOSS_PROBABILITY_LIMIT):\n",
    "        print('Регион годится для разработки!')\n",
    "    \n",
    "    print()"
   ]
  },
  {
   "cell_type": "code",
   "execution_count": 23,
   "metadata": {},
   "outputs": [
    {
     "name": "stdout",
     "output_type": "stream",
     "text": [
      "Model for region 1\n",
      "Средняя прибыль: 451304100.1942401\n",
      "95% доверительный интервал (истинное среднее) (433851278.79242986, 468756921.5960503)\n",
      "95% доверительный интервал (прогноз) (-96347137.1578043, 1005300267.3357539)\n",
      "Вероятность убытка = 5.30%\n",
      "Регион годится для разработки!\n",
      "\n",
      "Model for region 2\n",
      "Средняя прибыль: 496670118.2105609\n",
      "95% доверительный интервал (истинное среднее) (483643921.1905301, 509696315.2305917)\n",
      "95% доверительный интервал (прогноз) (73884976.92654037, 888027922.9980291)\n",
      "Вероятность убытка = 1.10%\n",
      "Регион годится для разработки!\n",
      "\n",
      "Model for region 3\n",
      "Средняя прибыль: 340113884.34867555\n",
      "95% доверительный интервал (истинное среднее) (322242625.17314684, 357985143.52420425)\n",
      "95% доверительный интервал (прогноз) (-208651407.0688947, 889734332.7661594)\n",
      "Вероятность убытка = 11.90%\n",
      "Регион годится для разработки!\n",
      "\n"
     ]
    }
   ],
   "source": [
    "print('Model for region 1');\n",
    "make_bootstrap(target_valid_1, predicted_valid_df_1)\n",
    "print('Model for region 2');\n",
    "make_bootstrap(target_valid_2, predicted_valid_df_2)\n",
    "print('Model for region 3');\n",
    "make_bootstrap(target_valid_3, predicted_valid_df_3)"
   ]
  },
  {
   "cell_type": "markdown",
   "metadata": {},
   "source": [
    "### Промежуточный вывод\n",
    "\n",
    "    В нашем случае нам даже не пришлось выбирать, т.к. регион, в котором с 95% вероятностью прибыть превысит 483 миллиона и самой низкой вероятностью убытков - второй. Именно этот регион и следует выбрать для разработки."
   ]
  },
  {
   "cell_type": "markdown",
   "metadata": {
    "pycharm": {
     "name": "#%% md\n"
    }
   },
   "source": [
    "# Общий вывод\n",
    "    1. Мы изучили данные и избавились от выбросов, чтобы более точно обучить нашу модель\n",
    "    2. Мы стандартизировали наши признаки, чтобы они оказывали сопоставимое влияние на обучение нашей модели\n",
    "    3. В дальнейшем мы обучили нашу модель и получили предварительные оценки самой модели и наших трех регионов\n",
    "        1. Из интересного, второй регион показал худший средний результат и отличную точность\n",
    "        2. А вот первый и второй оказались очень похожими друг на друга\n",
    "    4. Мы рассчитали прибыльность каждого региона по предсказанным данным (каждый регион оказался прибыльным)\n",
    "    5. Однако, поскольку для оценки региона этого было недостаточно, мы применили бутстрап, чтобы оценить регион с разных точек и получить средние значения генеральной совокупности\n",
    "    \n",
    "    Изучив эти данные, мы можем однозначно сказать, что разрабатывать имеет смысл именно второй регион, т.к. он одновременно обеспечивает самую высокую среднюю прибыль (выше 483 миллионов) при минимальном риске в 1,1 процент\n",
    "    \n",
    "    ГлавРосГосНефть и её акционеры могут спать спокойно. :)"
   ]
  }
 ],
 "metadata": {
  "kernelspec": {
   "display_name": "Python 3",
   "language": "python",
   "name": "python3"
  },
  "language_info": {
   "codemirror_mode": {
    "name": "ipython",
    "version": 3
   },
   "file_extension": ".py",
   "mimetype": "text/x-python",
   "name": "python",
   "nbconvert_exporter": "python",
   "pygments_lexer": "ipython3",
   "version": "3.7.8"
  },
  "toc": {
   "base_numbering": 1,
   "nav_menu": {},
   "number_sections": true,
   "sideBar": true,
   "skip_h1_title": true,
   "title_cell": "Table of Contents",
   "title_sidebar": "Contents",
   "toc_cell": false,
   "toc_position": {},
   "toc_section_display": true,
   "toc_window_display": false
  }
 },
 "nbformat": 4,
 "nbformat_minor": 2
}