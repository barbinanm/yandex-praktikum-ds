{
  "nbformat": 4,
  "nbformat_minor": 0,
  "metadata": {
    "colab": {
      "name": "Копия блокнота \"Тренировочная задача - Классификация вакансий.ipynb\"",
      "provenance": [],
      "collapsed_sections": [],
      "toc_visible": true,
      "include_colab_link": true
    },
    "kernelspec": {
      "name": "python3",
      "display_name": "Python 3"
    },
    "language_info": {
      "name": "python"
    },
    "accelerator": "GPU",
    "gpuClass": "standard",
    "widgets": {
      "application/vnd.jupyter.widget-state+json": {
        "6c81c380462542e0904ab4096f69184c": {
          "model_module": "@jupyter-widgets/controls",
          "model_name": "HBoxModel",
          "model_module_version": "1.5.0",
          "state": {
            "_dom_classes": [],
            "_model_module": "@jupyter-widgets/controls",
            "_model_module_version": "1.5.0",
            "_model_name": "HBoxModel",
            "_view_count": null,
            "_view_module": "@jupyter-widgets/controls",
            "_view_module_version": "1.5.0",
            "_view_name": "HBoxView",
            "box_style": "",
            "children": [
              "IPY_MODEL_3c2d5373854e4b5c9ec7641a37a4f1ee",
              "IPY_MODEL_91404e023d404c6ab0c5326468625d11",
              "IPY_MODEL_3cc3395c453d40e3a26b5cc90f057ca0"
            ],
            "layout": "IPY_MODEL_deb86d388f9b44b2970c35ee72c37559"
          }
        },
        "3c2d5373854e4b5c9ec7641a37a4f1ee": {
          "model_module": "@jupyter-widgets/controls",
          "model_name": "HTMLModel",
          "model_module_version": "1.5.0",
          "state": {
            "_dom_classes": [],
            "_model_module": "@jupyter-widgets/controls",
            "_model_module_version": "1.5.0",
            "_model_name": "HTMLModel",
            "_view_count": null,
            "_view_module": "@jupyter-widgets/controls",
            "_view_module_version": "1.5.0",
            "_view_name": "HTMLView",
            "description": "",
            "description_tooltip": null,
            "layout": "IPY_MODEL_a4bf0f42a906442dbd4593ceb503832a",
            "placeholder": "​",
            "style": "IPY_MODEL_d55d395113d2473598a5dcc75397d90b",
            "value": "100%"
          }
        },
        "91404e023d404c6ab0c5326468625d11": {
          "model_module": "@jupyter-widgets/controls",
          "model_name": "FloatProgressModel",
          "model_module_version": "1.5.0",
          "state": {
            "_dom_classes": [],
            "_model_module": "@jupyter-widgets/controls",
            "_model_module_version": "1.5.0",
            "_model_name": "FloatProgressModel",
            "_view_count": null,
            "_view_module": "@jupyter-widgets/controls",
            "_view_module_version": "1.5.0",
            "_view_name": "ProgressView",
            "bar_style": "success",
            "description": "",
            "description_tooltip": null,
            "layout": "IPY_MODEL_432f967367b44bfc93e9d06ba85488af",
            "max": 1568,
            "min": 0,
            "orientation": "horizontal",
            "style": "IPY_MODEL_d037afbcadbe4672924bf200aed0501f",
            "value": 1568
          }
        },
        "3cc3395c453d40e3a26b5cc90f057ca0": {
          "model_module": "@jupyter-widgets/controls",
          "model_name": "HTMLModel",
          "model_module_version": "1.5.0",
          "state": {
            "_dom_classes": [],
            "_model_module": "@jupyter-widgets/controls",
            "_model_module_version": "1.5.0",
            "_model_name": "HTMLModel",
            "_view_count": null,
            "_view_module": "@jupyter-widgets/controls",
            "_view_module_version": "1.5.0",
            "_view_name": "HTMLView",
            "description": "",
            "description_tooltip": null,
            "layout": "IPY_MODEL_46a8c12e76db4581be3e7643ea9e9a9b",
            "placeholder": "​",
            "style": "IPY_MODEL_bb9c0aa5f60849568da544ad7df239ef",
            "value": " 1568/1568 [00:06&lt;00:00, 213.46it/s]"
          }
        },
        "deb86d388f9b44b2970c35ee72c37559": {
          "model_module": "@jupyter-widgets/base",
          "model_name": "LayoutModel",
          "model_module_version": "1.2.0",
          "state": {
            "_model_module": "@jupyter-widgets/base",
            "_model_module_version": "1.2.0",
            "_model_name": "LayoutModel",
            "_view_count": null,
            "_view_module": "@jupyter-widgets/base",
            "_view_module_version": "1.2.0",
            "_view_name": "LayoutView",
            "align_content": null,
            "align_items": null,
            "align_self": null,
            "border": null,
            "bottom": null,
            "display": null,
            "flex": null,
            "flex_flow": null,
            "grid_area": null,
            "grid_auto_columns": null,
            "grid_auto_flow": null,
            "grid_auto_rows": null,
            "grid_column": null,
            "grid_gap": null,
            "grid_row": null,
            "grid_template_areas": null,
            "grid_template_columns": null,
            "grid_template_rows": null,
            "height": null,
            "justify_content": null,
            "justify_items": null,
            "left": null,
            "margin": null,
            "max_height": null,
            "max_width": null,
            "min_height": null,
            "min_width": null,
            "object_fit": null,
            "object_position": null,
            "order": null,
            "overflow": null,
            "overflow_x": null,
            "overflow_y": null,
            "padding": null,
            "right": null,
            "top": null,
            "visibility": null,
            "width": null
          }
        },
        "a4bf0f42a906442dbd4593ceb503832a": {
          "model_module": "@jupyter-widgets/base",
          "model_name": "LayoutModel",
          "model_module_version": "1.2.0",
          "state": {
            "_model_module": "@jupyter-widgets/base",
            "_model_module_version": "1.2.0",
            "_model_name": "LayoutModel",
            "_view_count": null,
            "_view_module": "@jupyter-widgets/base",
            "_view_module_version": "1.2.0",
            "_view_name": "LayoutView",
            "align_content": null,
            "align_items": null,
            "align_self": null,
            "border": null,
            "bottom": null,
            "display": null,
            "flex": null,
            "flex_flow": null,
            "grid_area": null,
            "grid_auto_columns": null,
            "grid_auto_flow": null,
            "grid_auto_rows": null,
            "grid_column": null,
            "grid_gap": null,
            "grid_row": null,
            "grid_template_areas": null,
            "grid_template_columns": null,
            "grid_template_rows": null,
            "height": null,
            "justify_content": null,
            "justify_items": null,
            "left": null,
            "margin": null,
            "max_height": null,
            "max_width": null,
            "min_height": null,
            "min_width": null,
            "object_fit": null,
            "object_position": null,
            "order": null,
            "overflow": null,
            "overflow_x": null,
            "overflow_y": null,
            "padding": null,
            "right": null,
            "top": null,
            "visibility": null,
            "width": null
          }
        },
        "d55d395113d2473598a5dcc75397d90b": {
          "model_module": "@jupyter-widgets/controls",
          "model_name": "DescriptionStyleModel",
          "model_module_version": "1.5.0",
          "state": {
            "_model_module": "@jupyter-widgets/controls",
            "_model_module_version": "1.5.0",
            "_model_name": "DescriptionStyleModel",
            "_view_count": null,
            "_view_module": "@jupyter-widgets/base",
            "_view_module_version": "1.2.0",
            "_view_name": "StyleView",
            "description_width": ""
          }
        },
        "432f967367b44bfc93e9d06ba85488af": {
          "model_module": "@jupyter-widgets/base",
          "model_name": "LayoutModel",
          "model_module_version": "1.2.0",
          "state": {
            "_model_module": "@jupyter-widgets/base",
            "_model_module_version": "1.2.0",
            "_model_name": "LayoutModel",
            "_view_count": null,
            "_view_module": "@jupyter-widgets/base",
            "_view_module_version": "1.2.0",
            "_view_name": "LayoutView",
            "align_content": null,
            "align_items": null,
            "align_self": null,
            "border": null,
            "bottom": null,
            "display": null,
            "flex": null,
            "flex_flow": null,
            "grid_area": null,
            "grid_auto_columns": null,
            "grid_auto_flow": null,
            "grid_auto_rows": null,
            "grid_column": null,
            "grid_gap": null,
            "grid_row": null,
            "grid_template_areas": null,
            "grid_template_columns": null,
            "grid_template_rows": null,
            "height": null,
            "justify_content": null,
            "justify_items": null,
            "left": null,
            "margin": null,
            "max_height": null,
            "max_width": null,
            "min_height": null,
            "min_width": null,
            "object_fit": null,
            "object_position": null,
            "order": null,
            "overflow": null,
            "overflow_x": null,
            "overflow_y": null,
            "padding": null,
            "right": null,
            "top": null,
            "visibility": null,
            "width": null
          }
        },
        "d037afbcadbe4672924bf200aed0501f": {
          "model_module": "@jupyter-widgets/controls",
          "model_name": "ProgressStyleModel",
          "model_module_version": "1.5.0",
          "state": {
            "_model_module": "@jupyter-widgets/controls",
            "_model_module_version": "1.5.0",
            "_model_name": "ProgressStyleModel",
            "_view_count": null,
            "_view_module": "@jupyter-widgets/base",
            "_view_module_version": "1.2.0",
            "_view_name": "StyleView",
            "bar_color": null,
            "description_width": ""
          }
        },
        "46a8c12e76db4581be3e7643ea9e9a9b": {
          "model_module": "@jupyter-widgets/base",
          "model_name": "LayoutModel",
          "model_module_version": "1.2.0",
          "state": {
            "_model_module": "@jupyter-widgets/base",
            "_model_module_version": "1.2.0",
            "_model_name": "LayoutModel",
            "_view_count": null,
            "_view_module": "@jupyter-widgets/base",
            "_view_module_version": "1.2.0",
            "_view_name": "LayoutView",
            "align_content": null,
            "align_items": null,
            "align_self": null,
            "border": null,
            "bottom": null,
            "display": null,
            "flex": null,
            "flex_flow": null,
            "grid_area": null,
            "grid_auto_columns": null,
            "grid_auto_flow": null,
            "grid_auto_rows": null,
            "grid_column": null,
            "grid_gap": null,
            "grid_row": null,
            "grid_template_areas": null,
            "grid_template_columns": null,
            "grid_template_rows": null,
            "height": null,
            "justify_content": null,
            "justify_items": null,
            "left": null,
            "margin": null,
            "max_height": null,
            "max_width": null,
            "min_height": null,
            "min_width": null,
            "object_fit": null,
            "object_position": null,
            "order": null,
            "overflow": null,
            "overflow_x": null,
            "overflow_y": null,
            "padding": null,
            "right": null,
            "top": null,
            "visibility": null,
            "width": null
          }
        },
        "bb9c0aa5f60849568da544ad7df239ef": {
          "model_module": "@jupyter-widgets/controls",
          "model_name": "DescriptionStyleModel",
          "model_module_version": "1.5.0",
          "state": {
            "_model_module": "@jupyter-widgets/controls",
            "_model_module_version": "1.5.0",
            "_model_name": "DescriptionStyleModel",
            "_view_count": null,
            "_view_module": "@jupyter-widgets/base",
            "_view_module_version": "1.2.0",
            "_view_name": "StyleView",
            "description_width": ""
          }
        },
        "efa98b581add43b68f84329bdfe3439a": {
          "model_module": "@jupyter-widgets/controls",
          "model_name": "HBoxModel",
          "model_module_version": "1.5.0",
          "state": {
            "_dom_classes": [],
            "_model_module": "@jupyter-widgets/controls",
            "_model_module_version": "1.5.0",
            "_model_name": "HBoxModel",
            "_view_count": null,
            "_view_module": "@jupyter-widgets/controls",
            "_view_module_version": "1.5.0",
            "_view_name": "HBoxView",
            "box_style": "",
            "children": [
              "IPY_MODEL_8d0d480730954fbda34700c8cd9bba7a",
              "IPY_MODEL_43c6eefbee0c473d9be056bc5ce1f46a",
              "IPY_MODEL_ccb35efd1e584f45af68ea06a17e0cc8"
            ],
            "layout": "IPY_MODEL_e3ea3e057b16480ea61549c4a95cc849"
          }
        },
        "8d0d480730954fbda34700c8cd9bba7a": {
          "model_module": "@jupyter-widgets/controls",
          "model_name": "HTMLModel",
          "model_module_version": "1.5.0",
          "state": {
            "_dom_classes": [],
            "_model_module": "@jupyter-widgets/controls",
            "_model_module_version": "1.5.0",
            "_model_name": "HTMLModel",
            "_view_count": null,
            "_view_module": "@jupyter-widgets/controls",
            "_view_module_version": "1.5.0",
            "_view_name": "HTMLView",
            "description": "",
            "description_tooltip": null,
            "layout": "IPY_MODEL_4c2cc329e1764f6e8e604360bee957ab",
            "placeholder": "​",
            "style": "IPY_MODEL_6546b838df0846da850c9421824f4391",
            "value": "100%"
          }
        },
        "43c6eefbee0c473d9be056bc5ce1f46a": {
          "model_module": "@jupyter-widgets/controls",
          "model_name": "FloatProgressModel",
          "model_module_version": "1.5.0",
          "state": {
            "_dom_classes": [],
            "_model_module": "@jupyter-widgets/controls",
            "_model_module_version": "1.5.0",
            "_model_name": "FloatProgressModel",
            "_view_count": null,
            "_view_module": "@jupyter-widgets/controls",
            "_view_module_version": "1.5.0",
            "_view_name": "ProgressView",
            "bar_style": "success",
            "description": "",
            "description_tooltip": null,
            "layout": "IPY_MODEL_4ff24edc3507475982f83ca845e21450",
            "max": 1568,
            "min": 0,
            "orientation": "horizontal",
            "style": "IPY_MODEL_eb66d32ae16c44a99108b39cc7a16909",
            "value": 1568
          }
        },
        "ccb35efd1e584f45af68ea06a17e0cc8": {
          "model_module": "@jupyter-widgets/controls",
          "model_name": "HTMLModel",
          "model_module_version": "1.5.0",
          "state": {
            "_dom_classes": [],
            "_model_module": "@jupyter-widgets/controls",
            "_model_module_version": "1.5.0",
            "_model_name": "HTMLModel",
            "_view_count": null,
            "_view_module": "@jupyter-widgets/controls",
            "_view_module_version": "1.5.0",
            "_view_name": "HTMLView",
            "description": "",
            "description_tooltip": null,
            "layout": "IPY_MODEL_7904b2f3312b458c98a8b30c420de849",
            "placeholder": "​",
            "style": "IPY_MODEL_be8ce578f5cd4ff6a6afed2866e24797",
            "value": " 1568/1568 [00:24&lt;00:00, 67.09it/s]"
          }
        },
        "e3ea3e057b16480ea61549c4a95cc849": {
          "model_module": "@jupyter-widgets/base",
          "model_name": "LayoutModel",
          "model_module_version": "1.2.0",
          "state": {
            "_model_module": "@jupyter-widgets/base",
            "_model_module_version": "1.2.0",
            "_model_name": "LayoutModel",
            "_view_count": null,
            "_view_module": "@jupyter-widgets/base",
            "_view_module_version": "1.2.0",
            "_view_name": "LayoutView",
            "align_content": null,
            "align_items": null,
            "align_self": null,
            "border": null,
            "bottom": null,
            "display": null,
            "flex": null,
            "flex_flow": null,
            "grid_area": null,
            "grid_auto_columns": null,
            "grid_auto_flow": null,
            "grid_auto_rows": null,
            "grid_column": null,
            "grid_gap": null,
            "grid_row": null,
            "grid_template_areas": null,
            "grid_template_columns": null,
            "grid_template_rows": null,
            "height": null,
            "justify_content": null,
            "justify_items": null,
            "left": null,
            "margin": null,
            "max_height": null,
            "max_width": null,
            "min_height": null,
            "min_width": null,
            "object_fit": null,
            "object_position": null,
            "order": null,
            "overflow": null,
            "overflow_x": null,
            "overflow_y": null,
            "padding": null,
            "right": null,
            "top": null,
            "visibility": null,
            "width": null
          }
        },
        "4c2cc329e1764f6e8e604360bee957ab": {
          "model_module": "@jupyter-widgets/base",
          "model_name": "LayoutModel",
          "model_module_version": "1.2.0",
          "state": {
            "_model_module": "@jupyter-widgets/base",
            "_model_module_version": "1.2.0",
            "_model_name": "LayoutModel",
            "_view_count": null,
            "_view_module": "@jupyter-widgets/base",
            "_view_module_version": "1.2.0",
            "_view_name": "LayoutView",
            "align_content": null,
            "align_items": null,
            "align_self": null,
            "border": null,
            "bottom": null,
            "display": null,
            "flex": null,
            "flex_flow": null,
            "grid_area": null,
            "grid_auto_columns": null,
            "grid_auto_flow": null,
            "grid_auto_rows": null,
            "grid_column": null,
            "grid_gap": null,
            "grid_row": null,
            "grid_template_areas": null,
            "grid_template_columns": null,
            "grid_template_rows": null,
            "height": null,
            "justify_content": null,
            "justify_items": null,
            "left": null,
            "margin": null,
            "max_height": null,
            "max_width": null,
            "min_height": null,
            "min_width": null,
            "object_fit": null,
            "object_position": null,
            "order": null,
            "overflow": null,
            "overflow_x": null,
            "overflow_y": null,
            "padding": null,
            "right": null,
            "top": null,
            "visibility": null,
            "width": null
          }
        },
        "6546b838df0846da850c9421824f4391": {
          "model_module": "@jupyter-widgets/controls",
          "model_name": "DescriptionStyleModel",
          "model_module_version": "1.5.0",
          "state": {
            "_model_module": "@jupyter-widgets/controls",
            "_model_module_version": "1.5.0",
            "_model_name": "DescriptionStyleModel",
            "_view_count": null,
            "_view_module": "@jupyter-widgets/base",
            "_view_module_version": "1.2.0",
            "_view_name": "StyleView",
            "description_width": ""
          }
        },
        "4ff24edc3507475982f83ca845e21450": {
          "model_module": "@jupyter-widgets/base",
          "model_name": "LayoutModel",
          "model_module_version": "1.2.0",
          "state": {
            "_model_module": "@jupyter-widgets/base",
            "_model_module_version": "1.2.0",
            "_model_name": "LayoutModel",
            "_view_count": null,
            "_view_module": "@jupyter-widgets/base",
            "_view_module_version": "1.2.0",
            "_view_name": "LayoutView",
            "align_content": null,
            "align_items": null,
            "align_self": null,
            "border": null,
            "bottom": null,
            "display": null,
            "flex": null,
            "flex_flow": null,
            "grid_area": null,
            "grid_auto_columns": null,
            "grid_auto_flow": null,
            "grid_auto_rows": null,
            "grid_column": null,
            "grid_gap": null,
            "grid_row": null,
            "grid_template_areas": null,
            "grid_template_columns": null,
            "grid_template_rows": null,
            "height": null,
            "justify_content": null,
            "justify_items": null,
            "left": null,
            "margin": null,
            "max_height": null,
            "max_width": null,
            "min_height": null,
            "min_width": null,
            "object_fit": null,
            "object_position": null,
            "order": null,
            "overflow": null,
            "overflow_x": null,
            "overflow_y": null,
            "padding": null,
            "right": null,
            "top": null,
            "visibility": null,
            "width": null
          }
        },
        "eb66d32ae16c44a99108b39cc7a16909": {
          "model_module": "@jupyter-widgets/controls",
          "model_name": "ProgressStyleModel",
          "model_module_version": "1.5.0",
          "state": {
            "_model_module": "@jupyter-widgets/controls",
            "_model_module_version": "1.5.0",
            "_model_name": "ProgressStyleModel",
            "_view_count": null,
            "_view_module": "@jupyter-widgets/base",
            "_view_module_version": "1.2.0",
            "_view_name": "StyleView",
            "bar_color": null,
            "description_width": ""
          }
        },
        "7904b2f3312b458c98a8b30c420de849": {
          "model_module": "@jupyter-widgets/base",
          "model_name": "LayoutModel",
          "model_module_version": "1.2.0",
          "state": {
            "_model_module": "@jupyter-widgets/base",
            "_model_module_version": "1.2.0",
            "_model_name": "LayoutModel",
            "_view_count": null,
            "_view_module": "@jupyter-widgets/base",
            "_view_module_version": "1.2.0",
            "_view_name": "LayoutView",
            "align_content": null,
            "align_items": null,
            "align_self": null,
            "border": null,
            "bottom": null,
            "display": null,
            "flex": null,
            "flex_flow": null,
            "grid_area": null,
            "grid_auto_columns": null,
            "grid_auto_flow": null,
            "grid_auto_rows": null,
            "grid_column": null,
            "grid_gap": null,
            "grid_row": null,
            "grid_template_areas": null,
            "grid_template_columns": null,
            "grid_template_rows": null,
            "height": null,
            "justify_content": null,
            "justify_items": null,
            "left": null,
            "margin": null,
            "max_height": null,
            "max_width": null,
            "min_height": null,
            "min_width": null,
            "object_fit": null,
            "object_position": null,
            "order": null,
            "overflow": null,
            "overflow_x": null,
            "overflow_y": null,
            "padding": null,
            "right": null,
            "top": null,
            "visibility": null,
            "width": null
          }
        },
        "be8ce578f5cd4ff6a6afed2866e24797": {
          "model_module": "@jupyter-widgets/controls",
          "model_name": "DescriptionStyleModel",
          "model_module_version": "1.5.0",
          "state": {
            "_model_module": "@jupyter-widgets/controls",
            "_model_module_version": "1.5.0",
            "_model_name": "DescriptionStyleModel",
            "_view_count": null,
            "_view_module": "@jupyter-widgets/base",
            "_view_module_version": "1.2.0",
            "_view_name": "StyleView",
            "description_width": ""
          }
        }
      }
    }
  },
  "cells": [
    {
      "cell_type": "markdown",
      "metadata": {
        "id": "view-in-github",
        "colab_type": "text"
      },
      "source": [
        "<a href=\"https://colab.research.google.com/github/barbinanm/yandex-praktikum-ds/blob/main/%D0%A2%D1%80%D0%B5%D0%BD%D0%B8%D1%80%D0%BE%D0%B2%D0%BE%D1%87%D0%BD%D0%B0%D1%8F_%D0%B7%D0%B0%D0%B4%D0%B0%D1%87%D0%B0_%D0%9A%D0%BB%D0%B0%D1%81%D1%81%D0%B8%D1%84%D0%B8%D0%BA%D0%B0%D1%86%D0%B8%D1%8F_%D0%B2%D0%B0%D0%BA%D0%B0%D0%BD%D1%81%D0%B8%D0%B9_ipynb.ipynb\" target=\"_parent\"><img src=\"https://colab.research.google.com/assets/colab-badge.svg\" alt=\"Open In Colab\"/></a>"
      ]
    },
    {
      "cell_type": "markdown",
      "source": [
        "# Использование машинного обучения для классификации объявлений о вакансиях"
      ],
      "metadata": {
        "id": "tq-OvcRwJSyq"
      }
    },
    {
      "cell_type": "markdown",
      "source": [
        "## Описание задачи\n",
        "\n",
        "Поиск сотрудников большинство компаний и организаций вот уже много лет осуществляют исключительно онлайн, используя сотни площадок и сервисов, позволяющих размещать вакансии в своих обширных базах данных. За одни только сутки на специализированных площадках Рунета, на которых огромное количество соискателей осуществляют поиск работы, ежедневно публикуются сотни тысяч новых вакансий.  \n",
        "\n",
        "Однако наиболее важной задачей типичного онлайн-сервиса по предоставлению информации о текущих вакансиях является не столько публикация полученных от работодателей объявлений о вакансиях, сколько анализ и модерация полученной информации.  \n",
        "\n",
        "Среди отправляемых на такие сайты объявлений наряду с нормальными вакансиями содержится большое количество объявлений, которые не соответствуют правилам площадок, противоречат законам и правовым актам РФ, не являются по сути вакансиями, содержат рекламные сообщения (спам) или даже являются откровенно мошенническими. Многие вакансии публикуются с ошибками (орфографическими и противоречащими структуре вакансий), добавляются в ошибочные категории и разделы каталогов сайтов,  являются дублями уже ранее опубликованных вакансий и т.п.  \n",
        "\n",
        "Это порождает колоссальную нагрузку на отделы модерации сервисов, требует большое количество времени до времени публикации, в течение которого происходит ручная вычитка, исправление и модерация некорректных объявлений сотрудниками сервисов. В связи с этим задача автоматизации анализа, отбора и модерации публикуемых вакансий, выполнение иных работ, связанных с обработкой текста объявлений является весьма критичной для успешности функционирования онлайн-сервисов из категории трудоустройства. Большая часть такого плана работ наиболее эффективно может быть выполнена на основе внедрения методов машинного обучения.    \n",
        "\n",
        "## Цель задачи\n",
        "\n",
        "Используя различные методы машинного обучения и прикладные пакеты обработки текстовой информации разработать и протестировать модели, которые помогут в автоматическом режиме без привлечения человека эффективно провести анализ, предобработку, поиск по определенным критериями, классификацию, модерацию и иные работы с целью увеличения качества и ускорения процесса публикации объявлений о вакансиях, недопущения публикации материалов, противоречащих законодательству РФ и правилам работы онлайн-сервисов."
      ],
      "metadata": {
        "id": "tIP4Ljn6HI8M"
      }
    },
    {
      "cell_type": "markdown",
      "source": [
        "## Леонид Лукин\n",
        "\n",
        "*   Кандидат технических наук, окончил докторантуру ИМАШ РАН\n",
        "\n",
        "*   Первый в России Сертифицированный Интернет Вебмастер по программе CIW (США) в области создания сайтов и электронной коммерции и первый российский Zend Certified PHP Engineer (2003 год). Сертифицированный специалист Microsoft, Google.\n",
        "\n",
        "*   В течение 5 лет работал старшим преподавателем веб-курсов Центра Компьютерного Обучения при МГТУ им. Баумана.\n",
        "\n",
        "*   Богатый опыт проведения корпоративных тренингов и курсов повышения квалификации для веб-разработчиков и интернет-маркетологов (компании Chevron-Texaco, Schlumberger, Halliburton, Schneider Electric и др.).\n",
        "\n",
        "*   Один из авторов и ведущий самого популярного в России (2010-2015 гг, более 10 000 слушателей) курса повышения квалификации в области интернет-маркетинга для специалистов и владельцев бизнеса в УЦ \"Кибермаркетинг\".\n",
        "\n",
        "*   Член Экспертного Совета Премии Рунета. Эксперт проекта и член жюри конкурса интернет-сайтов Рейтинг Рунета.\n",
        "\n",
        "*   В 2015 - 2020 гг - директор по стратегии и развитию бизнеса компании Elvi Digital Inc (США).\n",
        "\n",
        "Email: leolukin@gmail.com\n",
        "\n",
        "Сайт: https://leolukin.ru\n",
        "\n"
      ],
      "metadata": {
        "id": "R-ohpWFoJemI"
      }
    },
    {
      "cell_type": "markdown",
      "source": [
        "## План работы\n",
        "\n",
        "*   Введение в NLP\n",
        "*   Классификация текстовой информации\n",
        "*   Методы машинного обучения для классификации текста \n",
        "*   Постановка проблемы классификации объявлений о вакансиях\n",
        "*   Загрузка и исследование исходного датасета\n",
        "*   Предварительная обработка датасета\n",
        "*   Выбор методов машинного обучения для решения тренировочной задачи \n",
        "*   Решение тренировочной задачи разными способами\n",
        "*   Рекомендации по улучшению результата\n",
        "*   Выводы\n",
        "\n",
        "\n",
        "\n",
        "\n"
      ],
      "metadata": {
        "id": "sT6yfYdcKcNi"
      }
    },
    {
      "cell_type": "markdown",
      "source": [
        "# Обработка текстов на естественном языке (Natural Language Processing, NLP)\n",
        "\n"
      ],
      "metadata": {
        "id": "NJBw9sdNMhLp"
      }
    },
    {
      "cell_type": "markdown",
      "source": [
        "Общее направление искусственного интеллекта и математической лингвистики. Оно изучает проблемы **компьютерного анализа** и **синтеза текстов** на естественных языках. Применительно к искусственному интеллекту анализ означает понимание языка, а синтез — генерацию грамотного текста.\n",
        "\n",
        "Понимание естественного языка иногда считают **AI-полной задачей** (решение которой предполагает создание «сильного AI»), потому как распознавание живого языка требует огромных знаний системы об окружающем мире и возможности с ним взаимодействовать. Само определение смысла слова «понимать» — одна из главных задач искусственного интеллекта.\n",
        "\n",
        "Качество понимания зависит от множества факторов: от языка, от национальной культуры, от самого собеседника и т. д. \n",
        "\n",
        "В русском языке:\n",
        "\n",
        "*   **Сложности с раскрытием анафор** (распознаванием, что имеется в виду при \n",
        "использовании местоимений): предложения «Мы отдали бананы обезьянам, потому что они были голодные» и «Мы отдали бананы обезьянам, потому что они были перезрелые» похожи по синтаксической структуре. В одном из них местоимение они относится к обезьянам, а в другом — к бананам. Правильное понимание зависит от знаний компьютера, какими могут быть бананы и обезьяны.\n",
        "*   **Свободный порядок слов** может привести к совершенно иному толкованию фразы: «Бытие определяет сознание» — что определяет что?\n",
        "*   В русском языке свободный порядок компенсируется *   , служебными словами и знаками препинания, но в большинстве случаев для компьютера это представляет дополнительную проблему.\n",
        "\n",
        "https://ru.wikipedia.org/wiki/%D0%9E%D0%B1%D1%80%D0%B0%D0%B1%D0%BE%D1%82%D0%BA%D0%B0_%D0%B5%D1%81%D1%82%D0%B5%D1%81%D1%82%D0%B2%D0%B5%D0%BD%D0%BD%D0%BE%D0%B3%D0%BE_%D1%8F%D0%B7%D1%8B%D0%BA%D0%B0"
      ],
      "metadata": {
        "id": "AibhLcLAPE_Z"
      }
    },
    {
      "cell_type": "markdown",
      "source": [
        "## Популярные задачи\n",
        "\n",
        "*   Распознавание речи\n",
        "*   Анализ текста\n",
        "*   Извлечение информации\n",
        "*   Информационный поиск\n",
        "*   Классификация / категоризация / кластеризация текстов\n",
        "*   Вопросно-ответные системы (чат-боты)\n",
        "*   Генерирование текста\n",
        "*   Синтез речи\n",
        "*   Машинный перевод\n",
        "*   Автоматическое реферирование, аннотирование или упрощение текста\n"
      ],
      "metadata": {
        "id": "P1ij1AYKPnsD"
      }
    },
    {
      "cell_type": "markdown",
      "source": [
        "# Классификация текстовой информации"
      ],
      "metadata": {
        "id": "sT_a_Bp8Vw6I"
      }
    },
    {
      "cell_type": "markdown",
      "source": [
        "## Типы задач классификации\n",
        "\n",
        "*   Бинарная \n",
        "  *   Определение спама (спам / не спам)\n",
        "  *   Тональность текста (положительные или отрицательные отзывы)\n",
        "*   Многоклассовая \n",
        "  *   Тональность текста (положительные/отрицательные/нейтральные отзывы или с оценкой от 1 до 5)\n",
        "  *   Тематическая классификация\n",
        "  *   Типизация документов\n",
        "  *   Определение языка текста\n",
        "\n",
        "\n",
        "\n",
        "*Кластеризация документов (Метод k-средних)*\n",
        "\n",
        "*Тематическое моделирование - (Латентное размещение Дирихле, LDA)*\n",
        "\n"
      ],
      "metadata": {
        "id": "EsY0N3PCVzVF"
      }
    },
    {
      "cell_type": "markdown",
      "source": [
        "## Типовой рабочий процесс\n",
        "\n",
        "1.   Сбор данных\n",
        "2.   Анализ данных (Exploratory Data Analysis, EDA)\n",
        "3.   **Выбор метода классификации**\n",
        "4.   Подготовка данных\n",
        "5.   Создание, обучение и оценка моделей\n",
        "6.   Настройка параметров моделей\n",
        "7.   Внедрение модели"
      ],
      "metadata": {
        "id": "U_mgUA1mdYLJ"
      }
    },
    {
      "cell_type": "markdown",
      "source": [
        "## Методы машинного обучения для классификации текста "
      ],
      "metadata": {
        "id": "kmY7J08_asH5"
      }
    },
    {
      "cell_type": "markdown",
      "source": [
        "Методы классификации текста разделяют на:\n",
        "\n",
        "*   вероятностные (наивный байесовский классификатор)\n",
        "*   линейные (логистическая регрессия, метод опорных векторов)\n",
        "*   метрические (метод k-ближайших соседей)\n",
        "*   логические (метод деревьев решений)\n",
        "*   методы на основе нейронных сетей. "
      ],
      "metadata": {
        "id": "wVC5RwZo4ECJ"
      }
    },
    {
      "cell_type": "markdown",
      "source": [
        "## Выбор метода\n",
        "\n",
        "Методы машинного обучения для классификации текста разбиваются на 2 большие категории:\n",
        "\n",
        "*   Методы, не использующие последовательность слов (\"мешок слов\", \"н-граммы\")\n",
        "  *   Наивный байесовский классификатор (Naive Bayes Classifier)\n",
        "  *   Логистическая регрессия (Logistic Regression)\n",
        "  *   Метод k-ближайших соседей (kNN, k-nearest neighbors algorithm) \n",
        "  *   Метод опорных векторов (SVM, support vector machine) \n",
        "  *   Дерево принятия решений (Gradient Boosting Decision Tree)\n",
        "  *   Многослойный персептрон (MLPs), полносвязные нейронные сети (Fully-connected Neural Networks)\n",
        "*   Методы, для которых важна последовательность слов (sequence models)\n",
        "  *   (CNNs, Convolutional Neural Networks)\n",
        "  *   (RNNs, Recurrent Neural Networks)\n",
        "  *   другие варианты нейронных сетей\n",
        "\n",
        "**Какой метод выбрать?**\n",
        "\n",
        "*Важно определить соотношение количества строк (объектов) датасета к количеству слов в строке. Если это соотношение мало (< 1500), то использовать первую группу методов, если соотношение велико (>= 1500), то использовать вторую.*\n",
        "\n"
      ],
      "metadata": {
        "id": "FoLhTOQqY4F2"
      }
    },
    {
      "cell_type": "markdown",
      "source": [
        "# Постановка проблемы классификации объявлений о вакансиях\n",
        "\n",
        "Типы объявлений о вакансиях:\n",
        "\n",
        "*   Нормальные\n",
        "*   Спам\n",
        "*   Мошеннические\n",
        "*   Не соответствующие 162-ФЗ\n",
        "\n",
        "*В соответствии с федеральным законом 162-ФЗ любые пожелания к соискателями по возрасту, полу, месту жительства, национальности и иным положениям, не связанным напрямую с деловыми качествами работников, классифицируются как дискриминационные и в объявлениях о вакансиях запрещены.*"
      ],
      "metadata": {
        "id": "x-XNM7LtoHqB"
      }
    },
    {
      "cell_type": "markdown",
      "source": [
        "\n",
        "# Загрузка и исследование исходного набора данных (датасета)"
      ],
      "metadata": {
        "id": "7LgZpC9wJIdn"
      }
    },
    {
      "cell_type": "code",
      "source": [
        "import pandas as pd                 # Pandas — библиотека Python для обработки и анализа структурированных данных\n",
        "import seaborn as sns               # Seaborn — библиотека для создания статистических графиков\n",
        "from tqdm.auto import tqdm, trange  # Tqdm — библиотека для создания индикаторов выполнения"
      ],
      "metadata": {
        "id": "wE04G-DbI-B5"
      },
      "execution_count": null,
      "outputs": []
    },
    {
      "cell_type": "code",
      "execution_count": null,
      "metadata": {
        "id": "GgEHc3ZZHO5A"
      },
      "outputs": [],
      "source": [
        "# Загрузка датасета\n",
        "vacancies = pd.read_csv('vacancies.csv')"
      ]
    },
    {
      "cell_type": "markdown",
      "source": [
        "Ссылка на учебный датасет - [vacancies.csv](https://drive.google.com/file/d/1YuuT4Iohlzcf80o_GEBOgm0u5_-cFHwn/view?usp=sharing)"
      ],
      "metadata": {
        "id": "MMnwq8G0Kgbv"
      }
    },
    {
      "cell_type": "code",
      "source": [
        "vacancies.shape  # Вывод размера"
      ],
      "metadata": {
        "id": "FeodAkgGK8za",
        "colab": {
          "base_uri": "https://localhost:8080/"
        },
        "outputId": "611ecf1f-04cb-45cb-da31-7d1779207513"
      },
      "execution_count": null,
      "outputs": [
        {
          "output_type": "execute_result",
          "data": {
            "text/plain": [
              "(1568, 8)"
            ]
          },
          "metadata": {},
          "execution_count": 74
        }
      ]
    },
    {
      "cell_type": "code",
      "source": [
        "vacancies.head(5)   # Вывод первых 5 строк"
      ],
      "metadata": {
        "colab": {
          "base_uri": "https://localhost:8080/",
          "height": 511
        },
        "id": "sfc0OMP4LBCp",
        "outputId": "96548eb8-b4d0-4f17-c349-db0096055eea"
      },
      "execution_count": null,
      "outputs": [
        {
          "output_type": "execute_result",
          "data": {
            "text/plain": [
              "       ID                                           Название  \\\n",
              "0  241714                    Срочно требуется дефектоскопист   \n",
              "1  364142                           Заместитель руководителя   \n",
              "2  357088                         Помощник по общим вопросам   \n",
              "3  376813                            Помощник администратора   \n",
              "4  160002  Менеджер по продвижению профессиональных натур...   \n",
              "\n",
              "                                    Краткое описание  \\\n",
              "0  Требуется дефектоскопист по магнитному и ультр...   \n",
              "1    Заместитель руководителя  для военных в запасе.   \n",
              "2  В связи с увеличением объема работ требуется п...   \n",
              "3                                    Работа в офисе.   \n",
              "4  Требуется активный и амбициозный менеджер по п...   \n",
              "\n",
              "                              Требования к кандидату  \\\n",
              "0  Наличие требуемой квалификации\\nДействующая ат...   \n",
              "1  Среднее или неоконченное высшее образование\\nН...   \n",
              "2  Быстрая обучаемость; \\nДисциплинированность; \\...   \n",
              "3  Коммуникативные навыки\\nАккуратность\\nВнимател...   \n",
              "4  Умение и желание работать, продвигать продукт\\...   \n",
              "\n",
              "                             Должностные обязанности  \\\n",
              "0  Проведение магнитной дефектоскопии на всех вид...   \n",
              "1  Ведение переговоров,\\nУчастие в совещаниях, \\n...   \n",
              "2  Подготовка документов, \\nОбеспечение жизнедеят...   \n",
              "3  Встреча и регистрация посетителей\\nКонсультаци...   \n",
              "4  Четкое понимание концепции бренда и умение дон...   \n",
              "\n",
              "                                      Условия работы Дополнительные сведения  \\\n",
              "0  График работы 2 через два\\nПолный соц.пакет ра...                     NaN   \n",
              "1  График работы с 9 до 16, 5/2, 3/2, 2/2, \\nРабо...                     NaN   \n",
              "2  График работы: пн - пт, с 9:00 до 18:00\\nПерсп...                     NaN   \n",
              "3  Развитие, получение новых навыков\\nДружный кол...                     NaN   \n",
              "4  Полностью условия сотрудничества обсуждаются п...                     NaN   \n",
              "\n",
              "  Метка  \n",
              "0    ok  \n",
              "1  scam  \n",
              "2  scam  \n",
              "3  scam  \n",
              "4   fix  "
            ],
            "text/html": [
              "\n",
              "  <div id=\"df-3e8b91e9-b90f-4edb-958b-2ceda825c6d4\">\n",
              "    <div class=\"colab-df-container\">\n",
              "      <div>\n",
              "<style scoped>\n",
              "    .dataframe tbody tr th:only-of-type {\n",
              "        vertical-align: middle;\n",
              "    }\n",
              "\n",
              "    .dataframe tbody tr th {\n",
              "        vertical-align: top;\n",
              "    }\n",
              "\n",
              "    .dataframe thead th {\n",
              "        text-align: right;\n",
              "    }\n",
              "</style>\n",
              "<table border=\"1\" class=\"dataframe\">\n",
              "  <thead>\n",
              "    <tr style=\"text-align: right;\">\n",
              "      <th></th>\n",
              "      <th>ID</th>\n",
              "      <th>Название</th>\n",
              "      <th>Краткое описание</th>\n",
              "      <th>Требования к кандидату</th>\n",
              "      <th>Должностные обязанности</th>\n",
              "      <th>Условия работы</th>\n",
              "      <th>Дополнительные сведения</th>\n",
              "      <th>Метка</th>\n",
              "    </tr>\n",
              "  </thead>\n",
              "  <tbody>\n",
              "    <tr>\n",
              "      <th>0</th>\n",
              "      <td>241714</td>\n",
              "      <td>Срочно требуется дефектоскопист</td>\n",
              "      <td>Требуется дефектоскопист по магнитному и ультр...</td>\n",
              "      <td>Наличие требуемой квалификации\\nДействующая ат...</td>\n",
              "      <td>Проведение магнитной дефектоскопии на всех вид...</td>\n",
              "      <td>График работы 2 через два\\nПолный соц.пакет ра...</td>\n",
              "      <td>NaN</td>\n",
              "      <td>ok</td>\n",
              "    </tr>\n",
              "    <tr>\n",
              "      <th>1</th>\n",
              "      <td>364142</td>\n",
              "      <td>Заместитель руководителя</td>\n",
              "      <td>Заместитель руководителя  для военных в запасе.</td>\n",
              "      <td>Среднее или неоконченное высшее образование\\nН...</td>\n",
              "      <td>Ведение переговоров,\\nУчастие в совещаниях, \\n...</td>\n",
              "      <td>График работы с 9 до 16, 5/2, 3/2, 2/2, \\nРабо...</td>\n",
              "      <td>NaN</td>\n",
              "      <td>scam</td>\n",
              "    </tr>\n",
              "    <tr>\n",
              "      <th>2</th>\n",
              "      <td>357088</td>\n",
              "      <td>Помощник по общим вопросам</td>\n",
              "      <td>В связи с увеличением объема работ требуется п...</td>\n",
              "      <td>Быстрая обучаемость; \\nДисциплинированность; \\...</td>\n",
              "      <td>Подготовка документов, \\nОбеспечение жизнедеят...</td>\n",
              "      <td>График работы: пн - пт, с 9:00 до 18:00\\nПерсп...</td>\n",
              "      <td>NaN</td>\n",
              "      <td>scam</td>\n",
              "    </tr>\n",
              "    <tr>\n",
              "      <th>3</th>\n",
              "      <td>376813</td>\n",
              "      <td>Помощник администратора</td>\n",
              "      <td>Работа в офисе.</td>\n",
              "      <td>Коммуникативные навыки\\nАккуратность\\nВнимател...</td>\n",
              "      <td>Встреча и регистрация посетителей\\nКонсультаци...</td>\n",
              "      <td>Развитие, получение новых навыков\\nДружный кол...</td>\n",
              "      <td>NaN</td>\n",
              "      <td>scam</td>\n",
              "    </tr>\n",
              "    <tr>\n",
              "      <th>4</th>\n",
              "      <td>160002</td>\n",
              "      <td>Менеджер по продвижению профессиональных натур...</td>\n",
              "      <td>Требуется активный и амбициозный менеджер по п...</td>\n",
              "      <td>Умение и желание работать, продвигать продукт\\...</td>\n",
              "      <td>Четкое понимание концепции бренда и умение дон...</td>\n",
              "      <td>Полностью условия сотрудничества обсуждаются п...</td>\n",
              "      <td>NaN</td>\n",
              "      <td>fix</td>\n",
              "    </tr>\n",
              "  </tbody>\n",
              "</table>\n",
              "</div>\n",
              "      <button class=\"colab-df-convert\" onclick=\"convertToInteractive('df-3e8b91e9-b90f-4edb-958b-2ceda825c6d4')\"\n",
              "              title=\"Convert this dataframe to an interactive table.\"\n",
              "              style=\"display:none;\">\n",
              "        \n",
              "  <svg xmlns=\"http://www.w3.org/2000/svg\" height=\"24px\"viewBox=\"0 0 24 24\"\n",
              "       width=\"24px\">\n",
              "    <path d=\"M0 0h24v24H0V0z\" fill=\"none\"/>\n",
              "    <path d=\"M18.56 5.44l.94 2.06.94-2.06 2.06-.94-2.06-.94-.94-2.06-.94 2.06-2.06.94zm-11 1L8.5 8.5l.94-2.06 2.06-.94-2.06-.94L8.5 2.5l-.94 2.06-2.06.94zm10 10l.94 2.06.94-2.06 2.06-.94-2.06-.94-.94-2.06-.94 2.06-2.06.94z\"/><path d=\"M17.41 7.96l-1.37-1.37c-.4-.4-.92-.59-1.43-.59-.52 0-1.04.2-1.43.59L10.3 9.45l-7.72 7.72c-.78.78-.78 2.05 0 2.83L4 21.41c.39.39.9.59 1.41.59.51 0 1.02-.2 1.41-.59l7.78-7.78 2.81-2.81c.8-.78.8-2.07 0-2.86zM5.41 20L4 18.59l7.72-7.72 1.47 1.35L5.41 20z\"/>\n",
              "  </svg>\n",
              "      </button>\n",
              "      \n",
              "  <style>\n",
              "    .colab-df-container {\n",
              "      display:flex;\n",
              "      flex-wrap:wrap;\n",
              "      gap: 12px;\n",
              "    }\n",
              "\n",
              "    .colab-df-convert {\n",
              "      background-color: #E8F0FE;\n",
              "      border: none;\n",
              "      border-radius: 50%;\n",
              "      cursor: pointer;\n",
              "      display: none;\n",
              "      fill: #1967D2;\n",
              "      height: 32px;\n",
              "      padding: 0 0 0 0;\n",
              "      width: 32px;\n",
              "    }\n",
              "\n",
              "    .colab-df-convert:hover {\n",
              "      background-color: #E2EBFA;\n",
              "      box-shadow: 0px 1px 2px rgba(60, 64, 67, 0.3), 0px 1px 3px 1px rgba(60, 64, 67, 0.15);\n",
              "      fill: #174EA6;\n",
              "    }\n",
              "\n",
              "    [theme=dark] .colab-df-convert {\n",
              "      background-color: #3B4455;\n",
              "      fill: #D2E3FC;\n",
              "    }\n",
              "\n",
              "    [theme=dark] .colab-df-convert:hover {\n",
              "      background-color: #434B5C;\n",
              "      box-shadow: 0px 1px 3px 1px rgba(0, 0, 0, 0.15);\n",
              "      filter: drop-shadow(0px 1px 2px rgba(0, 0, 0, 0.3));\n",
              "      fill: #FFFFFF;\n",
              "    }\n",
              "  </style>\n",
              "\n",
              "      <script>\n",
              "        const buttonEl =\n",
              "          document.querySelector('#df-3e8b91e9-b90f-4edb-958b-2ceda825c6d4 button.colab-df-convert');\n",
              "        buttonEl.style.display =\n",
              "          google.colab.kernel.accessAllowed ? 'block' : 'none';\n",
              "\n",
              "        async function convertToInteractive(key) {\n",
              "          const element = document.querySelector('#df-3e8b91e9-b90f-4edb-958b-2ceda825c6d4');\n",
              "          const dataTable =\n",
              "            await google.colab.kernel.invokeFunction('convertToInteractive',\n",
              "                                                     [key], {});\n",
              "          if (!dataTable) return;\n",
              "\n",
              "          const docLinkHtml = 'Like what you see? Visit the ' +\n",
              "            '<a target=\"_blank\" href=https://colab.research.google.com/notebooks/data_table.ipynb>data table notebook</a>'\n",
              "            + ' to learn more about interactive tables.';\n",
              "          element.innerHTML = '';\n",
              "          dataTable['output_type'] = 'display_data';\n",
              "          await google.colab.output.renderOutput(dataTable, element);\n",
              "          const docLink = document.createElement('div');\n",
              "          docLink.innerHTML = docLinkHtml;\n",
              "          element.appendChild(docLink);\n",
              "        }\n",
              "      </script>\n",
              "    </div>\n",
              "  </div>\n",
              "  "
            ]
          },
          "metadata": {},
          "execution_count": 75
        }
      ]
    },
    {
      "cell_type": "code",
      "source": [
        "vacancies.describe(include=[object])   # Вывод описательной статистики набора данных"
      ],
      "metadata": {
        "colab": {
          "base_uri": "https://localhost:8080/",
          "height": 271
        },
        "id": "wYsvxf62Re9l",
        "outputId": "cc504653-f238-4376-e528-5a2f865ed9ce"
      },
      "execution_count": null,
      "outputs": [
        {
          "output_type": "execute_result",
          "data": {
            "text/plain": [
              "                     Название Краткое описание  \\\n",
              "count                    1568             1568   \n",
              "unique                   1088             1412   \n",
              "top     Помощник руководителя  Работа в офисе.   \n",
              "freq                       91               36   \n",
              "\n",
              "                                   Требования к кандидату  \\\n",
              "count                                                1492   \n",
              "unique                                               1416   \n",
              "top     Уверенность\\nхорошие навыки коммуникации\\nотве...   \n",
              "freq                                                    6   \n",
              "\n",
              "                Должностные обязанности  \\\n",
              "count                              1417   \n",
              "unique                             1371   \n",
              "top     Согласно должностной инструкции   \n",
              "freq                                 11   \n",
              "\n",
              "                                           Условия работы  \\\n",
              "count                                                1485   \n",
              "unique                                               1433   \n",
              "top     Вахта 60/30.\\nОфициальное трудоустройство по Т...   \n",
              "freq                                                    5   \n",
              "\n",
              "                                  Дополнительные сведения Метка  \n",
              "count                                                 429  1568  \n",
              "unique                                                406     5  \n",
              "top     Cовременные технологии поиска, подбора, оценки...    ok  \n",
              "freq                                                    7   552  "
            ],
            "text/html": [
              "\n",
              "  <div id=\"df-ce6735b9-bae8-48ea-ab48-3958cf941b71\">\n",
              "    <div class=\"colab-df-container\">\n",
              "      <div>\n",
              "<style scoped>\n",
              "    .dataframe tbody tr th:only-of-type {\n",
              "        vertical-align: middle;\n",
              "    }\n",
              "\n",
              "    .dataframe tbody tr th {\n",
              "        vertical-align: top;\n",
              "    }\n",
              "\n",
              "    .dataframe thead th {\n",
              "        text-align: right;\n",
              "    }\n",
              "</style>\n",
              "<table border=\"1\" class=\"dataframe\">\n",
              "  <thead>\n",
              "    <tr style=\"text-align: right;\">\n",
              "      <th></th>\n",
              "      <th>Название</th>\n",
              "      <th>Краткое описание</th>\n",
              "      <th>Требования к кандидату</th>\n",
              "      <th>Должностные обязанности</th>\n",
              "      <th>Условия работы</th>\n",
              "      <th>Дополнительные сведения</th>\n",
              "      <th>Метка</th>\n",
              "    </tr>\n",
              "  </thead>\n",
              "  <tbody>\n",
              "    <tr>\n",
              "      <th>count</th>\n",
              "      <td>1568</td>\n",
              "      <td>1568</td>\n",
              "      <td>1492</td>\n",
              "      <td>1417</td>\n",
              "      <td>1485</td>\n",
              "      <td>429</td>\n",
              "      <td>1568</td>\n",
              "    </tr>\n",
              "    <tr>\n",
              "      <th>unique</th>\n",
              "      <td>1088</td>\n",
              "      <td>1412</td>\n",
              "      <td>1416</td>\n",
              "      <td>1371</td>\n",
              "      <td>1433</td>\n",
              "      <td>406</td>\n",
              "      <td>5</td>\n",
              "    </tr>\n",
              "    <tr>\n",
              "      <th>top</th>\n",
              "      <td>Помощник руководителя</td>\n",
              "      <td>Работа в офисе.</td>\n",
              "      <td>Уверенность\\nхорошие навыки коммуникации\\nотве...</td>\n",
              "      <td>Согласно должностной инструкции</td>\n",
              "      <td>Вахта 60/30.\\nОфициальное трудоустройство по Т...</td>\n",
              "      <td>Cовременные технологии поиска, подбора, оценки...</td>\n",
              "      <td>ok</td>\n",
              "    </tr>\n",
              "    <tr>\n",
              "      <th>freq</th>\n",
              "      <td>91</td>\n",
              "      <td>36</td>\n",
              "      <td>6</td>\n",
              "      <td>11</td>\n",
              "      <td>5</td>\n",
              "      <td>7</td>\n",
              "      <td>552</td>\n",
              "    </tr>\n",
              "  </tbody>\n",
              "</table>\n",
              "</div>\n",
              "      <button class=\"colab-df-convert\" onclick=\"convertToInteractive('df-ce6735b9-bae8-48ea-ab48-3958cf941b71')\"\n",
              "              title=\"Convert this dataframe to an interactive table.\"\n",
              "              style=\"display:none;\">\n",
              "        \n",
              "  <svg xmlns=\"http://www.w3.org/2000/svg\" height=\"24px\"viewBox=\"0 0 24 24\"\n",
              "       width=\"24px\">\n",
              "    <path d=\"M0 0h24v24H0V0z\" fill=\"none\"/>\n",
              "    <path d=\"M18.56 5.44l.94 2.06.94-2.06 2.06-.94-2.06-.94-.94-2.06-.94 2.06-2.06.94zm-11 1L8.5 8.5l.94-2.06 2.06-.94-2.06-.94L8.5 2.5l-.94 2.06-2.06.94zm10 10l.94 2.06.94-2.06 2.06-.94-2.06-.94-.94-2.06-.94 2.06-2.06.94z\"/><path d=\"M17.41 7.96l-1.37-1.37c-.4-.4-.92-.59-1.43-.59-.52 0-1.04.2-1.43.59L10.3 9.45l-7.72 7.72c-.78.78-.78 2.05 0 2.83L4 21.41c.39.39.9.59 1.41.59.51 0 1.02-.2 1.41-.59l7.78-7.78 2.81-2.81c.8-.78.8-2.07 0-2.86zM5.41 20L4 18.59l7.72-7.72 1.47 1.35L5.41 20z\"/>\n",
              "  </svg>\n",
              "      </button>\n",
              "      \n",
              "  <style>\n",
              "    .colab-df-container {\n",
              "      display:flex;\n",
              "      flex-wrap:wrap;\n",
              "      gap: 12px;\n",
              "    }\n",
              "\n",
              "    .colab-df-convert {\n",
              "      background-color: #E8F0FE;\n",
              "      border: none;\n",
              "      border-radius: 50%;\n",
              "      cursor: pointer;\n",
              "      display: none;\n",
              "      fill: #1967D2;\n",
              "      height: 32px;\n",
              "      padding: 0 0 0 0;\n",
              "      width: 32px;\n",
              "    }\n",
              "\n",
              "    .colab-df-convert:hover {\n",
              "      background-color: #E2EBFA;\n",
              "      box-shadow: 0px 1px 2px rgba(60, 64, 67, 0.3), 0px 1px 3px 1px rgba(60, 64, 67, 0.15);\n",
              "      fill: #174EA6;\n",
              "    }\n",
              "\n",
              "    [theme=dark] .colab-df-convert {\n",
              "      background-color: #3B4455;\n",
              "      fill: #D2E3FC;\n",
              "    }\n",
              "\n",
              "    [theme=dark] .colab-df-convert:hover {\n",
              "      background-color: #434B5C;\n",
              "      box-shadow: 0px 1px 3px 1px rgba(0, 0, 0, 0.15);\n",
              "      filter: drop-shadow(0px 1px 2px rgba(0, 0, 0, 0.3));\n",
              "      fill: #FFFFFF;\n",
              "    }\n",
              "  </style>\n",
              "\n",
              "      <script>\n",
              "        const buttonEl =\n",
              "          document.querySelector('#df-ce6735b9-bae8-48ea-ab48-3958cf941b71 button.colab-df-convert');\n",
              "        buttonEl.style.display =\n",
              "          google.colab.kernel.accessAllowed ? 'block' : 'none';\n",
              "\n",
              "        async function convertToInteractive(key) {\n",
              "          const element = document.querySelector('#df-ce6735b9-bae8-48ea-ab48-3958cf941b71');\n",
              "          const dataTable =\n",
              "            await google.colab.kernel.invokeFunction('convertToInteractive',\n",
              "                                                     [key], {});\n",
              "          if (!dataTable) return;\n",
              "\n",
              "          const docLinkHtml = 'Like what you see? Visit the ' +\n",
              "            '<a target=\"_blank\" href=https://colab.research.google.com/notebooks/data_table.ipynb>data table notebook</a>'\n",
              "            + ' to learn more about interactive tables.';\n",
              "          element.innerHTML = '';\n",
              "          dataTable['output_type'] = 'display_data';\n",
              "          await google.colab.output.renderOutput(dataTable, element);\n",
              "          const docLink = document.createElement('div');\n",
              "          docLink.innerHTML = docLinkHtml;\n",
              "          element.appendChild(docLink);\n",
              "        }\n",
              "      </script>\n",
              "    </div>\n",
              "  </div>\n",
              "  "
            ]
          },
          "metadata": {},
          "execution_count": 77
        }
      ]
    },
    {
      "cell_type": "code",
      "source": [
        "print(vacancies['Метка'].unique(), len(vacancies['Метка'].unique()))   # Вывод уникальных значений целевой переменной (меток) и их количества"
      ],
      "metadata": {
        "colab": {
          "base_uri": "https://localhost:8080/"
        },
        "id": "_QJx0_a0OSAa",
        "outputId": "f0beebdd-f0aa-40d6-c40e-68933d3f0239"
      },
      "execution_count": null,
      "outputs": [
        {
          "output_type": "stream",
          "name": "stdout",
          "text": [
            "['ok' 'scam' 'fix' 'check' 'spam'] 5\n"
          ]
        }
      ]
    },
    {
      "cell_type": "markdown",
      "source": [
        "\n",
        "\n",
        "*   ok - нормальная вакансия\n",
        "*   scam - мошенническая вакансия\n",
        "*   fix - требуется корректировка (162-ФЗ, правила)\n",
        "*   check - требуется проверка модератором\n",
        "*   spam - реклама, не вакансия\n",
        "\n"
      ],
      "metadata": {
        "id": "Qwt_ayopdi4_"
      }
    },
    {
      "cell_type": "code",
      "source": [
        "vacancies['Метка'].value_counts()  # Количество объектов каждого класса в размеченном наборе данных"
      ],
      "metadata": {
        "colab": {
          "base_uri": "https://localhost:8080/"
        },
        "id": "vRDG33mxS_Hn",
        "outputId": "fdbe0c78-d3d2-43be-9377-71553c44ec40"
      },
      "execution_count": null,
      "outputs": [
        {
          "output_type": "execute_result",
          "data": {
            "text/plain": [
              "ok       552\n",
              "scam     509\n",
              "fix      405\n",
              "spam      52\n",
              "check     50\n",
              "Name: Метка, dtype: int64"
            ]
          },
          "metadata": {},
          "execution_count": 78
        }
      ]
    },
    {
      "cell_type": "code",
      "source": [
        "sns.histplot(data=vacancies.Метка)  # Построение гистограммы, проверка сбалансированности исходного набора данных"
      ],
      "metadata": {
        "colab": {
          "base_uri": "https://localhost:8080/",
          "height": 297
        },
        "id": "YOOuJM0tUN4a",
        "outputId": "07aa4cf5-114f-4179-88fb-a58ee64e4c59"
      },
      "execution_count": null,
      "outputs": [
        {
          "output_type": "execute_result",
          "data": {
            "text/plain": [
              "<matplotlib.axes._subplots.AxesSubplot at 0x7f42738d5990>"
            ]
          },
          "metadata": {},
          "execution_count": 79
        },
        {
          "output_type": "display_data",
          "data": {
            "text/plain": [
              "<Figure size 432x288 with 1 Axes>"
            ],
            "image/png": "[encoded data removed]"
          },
          "metadata": {
            "needs_background": "light"
          }
        }
      ]
    },
    {
      "cell_type": "code",
      "source": [
        "# Создаем датасет, сливаем текстовые колонки, убираем ненужные колонки\n",
        "data = vacancies.drop(columns=['ID']) # Удаление столбца с ID\n",
        "\n",
        "# Объединение текстовых колонок в одну\n",
        "data[\"text\"] = data['Название'].astype(str) + \" \" + data['Краткое описание'].astype(str) + \" \" + data['Требования к кандидату'].astype(str) + \" \" + data['Должностные обязанности'].astype(str) + \" \" + data['Условия работы'].astype(str) + \" \" + data['Дополнительные сведения'].astype(str)\n",
        "\n",
        "# Удаление лишних колонок\n",
        "data = data.drop(columns=['Название', 'Краткое описание', 'Требования к кандидату', 'Должностные обязанности', 'Условия работы', 'Дополнительные сведения'])\n",
        "data.head()"
      ],
      "metadata": {
        "colab": {
          "base_uri": "https://localhost:8080/",
          "height": 206
        },
        "id": "7XRDuJAibxwL",
        "outputId": "d9db175c-f729-4f52-d947-86a66af82741"
      },
      "execution_count": null,
      "outputs": [
        {
          "output_type": "execute_result",
          "data": {
            "text/plain": [
              "  Метка                                               text\n",
              "0    ok  Срочно требуется дефектоскопист Требуется дефе...\n",
              "1  scam  Заместитель руководителя Заместитель руководит...\n",
              "2  scam  Помощник по общим вопросам В связи с увеличени...\n",
              "3  scam  Помощник администратора Работа в офисе. Коммун...\n",
              "4   fix  Менеджер по продвижению профессиональных натур..."
            ],
            "text/html": [
              "\n",
              "  <div id=\"df-4a6ff431-e431-4d57-9304-88e1a7385004\">\n",
              "    <div class=\"colab-df-container\">\n",
              "      <div>\n",
              "<style scoped>\n",
              "    .dataframe tbody tr th:only-of-type {\n",
              "        vertical-align: middle;\n",
              "    }\n",
              "\n",
              "    .dataframe tbody tr th {\n",
              "        vertical-align: top;\n",
              "    }\n",
              "\n",
              "    .dataframe thead th {\n",
              "        text-align: right;\n",
              "    }\n",
              "</style>\n",
              "<table border=\"1\" class=\"dataframe\">\n",
              "  <thead>\n",
              "    <tr style=\"text-align: right;\">\n",
              "      <th></th>\n",
              "      <th>Метка</th>\n",
              "      <th>text</th>\n",
              "    </tr>\n",
              "  </thead>\n",
              "  <tbody>\n",
              "    <tr>\n",
              "      <th>0</th>\n",
              "      <td>ok</td>\n",
              "      <td>Срочно требуется дефектоскопист Требуется дефе...</td>\n",
              "    </tr>\n",
              "    <tr>\n",
              "      <th>1</th>\n",
              "      <td>scam</td>\n",
              "      <td>Заместитель руководителя Заместитель руководит...</td>\n",
              "    </tr>\n",
              "    <tr>\n",
              "      <th>2</th>\n",
              "      <td>scam</td>\n",
              "      <td>Помощник по общим вопросам В связи с увеличени...</td>\n",
              "    </tr>\n",
              "    <tr>\n",
              "      <th>3</th>\n",
              "      <td>scam</td>\n",
              "      <td>Помощник администратора Работа в офисе. Коммун...</td>\n",
              "    </tr>\n",
              "    <tr>\n",
              "      <th>4</th>\n",
              "      <td>fix</td>\n",
              "      <td>Менеджер по продвижению профессиональных натур...</td>\n",
              "    </tr>\n",
              "  </tbody>\n",
              "</table>\n",
              "</div>\n",
              "      <button class=\"colab-df-convert\" onclick=\"convertToInteractive('df-4a6ff431-e431-4d57-9304-88e1a7385004')\"\n",
              "              title=\"Convert this dataframe to an interactive table.\"\n",
              "              style=\"display:none;\">\n",
              "        \n",
              "  <svg xmlns=\"http://www.w3.org/2000/svg\" height=\"24px\"viewBox=\"0 0 24 24\"\n",
              "       width=\"24px\">\n",
              "    <path d=\"M0 0h24v24H0V0z\" fill=\"none\"/>\n",
              "    <path d=\"M18.56 5.44l.94 2.06.94-2.06 2.06-.94-2.06-.94-.94-2.06-.94 2.06-2.06.94zm-11 1L8.5 8.5l.94-2.06 2.06-.94-2.06-.94L8.5 2.5l-.94 2.06-2.06.94zm10 10l.94 2.06.94-2.06 2.06-.94-2.06-.94-.94-2.06-.94 2.06-2.06.94z\"/><path d=\"M17.41 7.96l-1.37-1.37c-.4-.4-.92-.59-1.43-.59-.52 0-1.04.2-1.43.59L10.3 9.45l-7.72 7.72c-.78.78-.78 2.05 0 2.83L4 21.41c.39.39.9.59 1.41.59.51 0 1.02-.2 1.41-.59l7.78-7.78 2.81-2.81c.8-.78.8-2.07 0-2.86zM5.41 20L4 18.59l7.72-7.72 1.47 1.35L5.41 20z\"/>\n",
              "  </svg>\n",
              "      </button>\n",
              "      \n",
              "  <style>\n",
              "    .colab-df-container {\n",
              "      display:flex;\n",
              "      flex-wrap:wrap;\n",
              "      gap: 12px;\n",
              "    }\n",
              "\n",
              "    .colab-df-convert {\n",
              "      background-color: #E8F0FE;\n",
              "      border: none;\n",
              "      border-radius: 50%;\n",
              "      cursor: pointer;\n",
              "      display: none;\n",
              "      fill: #1967D2;\n",
              "      height: 32px;\n",
              "      padding: 0 0 0 0;\n",
              "      width: 32px;\n",
              "    }\n",
              "\n",
              "    .colab-df-convert:hover {\n",
              "      background-color: #E2EBFA;\n",
              "      box-shadow: 0px 1px 2px rgba(60, 64, 67, 0.3), 0px 1px 3px 1px rgba(60, 64, 67, 0.15);\n",
              "      fill: #174EA6;\n",
              "    }\n",
              "\n",
              "    [theme=dark] .colab-df-convert {\n",
              "      background-color: #3B4455;\n",
              "      fill: #D2E3FC;\n",
              "    }\n",
              "\n",
              "    [theme=dark] .colab-df-convert:hover {\n",
              "      background-color: #434B5C;\n",
              "      box-shadow: 0px 1px 3px 1px rgba(0, 0, 0, 0.15);\n",
              "      filter: drop-shadow(0px 1px 2px rgba(0, 0, 0, 0.3));\n",
              "      fill: #FFFFFF;\n",
              "    }\n",
              "  </style>\n",
              "\n",
              "      <script>\n",
              "        const buttonEl =\n",
              "          document.querySelector('#df-4a6ff431-e431-4d57-9304-88e1a7385004 button.colab-df-convert');\n",
              "        buttonEl.style.display =\n",
              "          google.colab.kernel.accessAllowed ? 'block' : 'none';\n",
              "\n",
              "        async function convertToInteractive(key) {\n",
              "          const element = document.querySelector('#df-4a6ff431-e431-4d57-9304-88e1a7385004');\n",
              "          const dataTable =\n",
              "            await google.colab.kernel.invokeFunction('convertToInteractive',\n",
              "                                                     [key], {});\n",
              "          if (!dataTable) return;\n",
              "\n",
              "          const docLinkHtml = 'Like what you see? Visit the ' +\n",
              "            '<a target=\"_blank\" href=https://colab.research.google.com/notebooks/data_table.ipynb>data table notebook</a>'\n",
              "            + ' to learn more about interactive tables.';\n",
              "          element.innerHTML = '';\n",
              "          dataTable['output_type'] = 'display_data';\n",
              "          await google.colab.output.renderOutput(dataTable, element);\n",
              "          const docLink = document.createElement('div');\n",
              "          docLink.innerHTML = docLinkHtml;\n",
              "          element.appendChild(docLink);\n",
              "        }\n",
              "      </script>\n",
              "    </div>\n",
              "  </div>\n",
              "  "
            ]
          },
          "metadata": {},
          "execution_count": 80
        }
      ]
    },
    {
      "cell_type": "code",
      "source": [
        "# Подсчет соотношения часла строк к число слов в строке\n",
        "number_of_samples = len(data)\n",
        "print(\"Количество строк (объектов)\" , number_of_samples)\n",
        "\n",
        "number_of_words = 0\n",
        "for index, row in data.iterrows():\n",
        "  words = row['text'].split()\n",
        "  number_of_words += len(words)\n",
        "number_of_words_per_sample = number_of_words / len(data)\n",
        "print(\"Количество cлов в строке\" , number_of_words_per_sample)\n",
        "\n",
        "ratio = number_of_samples / number_of_words_per_sample\n",
        "print(\"Соотношение: \" , ratio)\n",
        "\n",
        "# Проводим выбор метода машинного обучения (модели) на основе вычисленного показателя"
      ],
      "metadata": {
        "colab": {
          "base_uri": "https://localhost:8080/"
        },
        "id": "r-tPDzsVbkBP",
        "outputId": "72673646-93fb-433b-da2c-7e3a25300c23"
      },
      "execution_count": null,
      "outputs": [
        {
          "output_type": "stream",
          "name": "stdout",
          "text": [
            "Количество строк (объектов) 1568\n",
            "Количество cлов в строке 77.30484693877551\n",
            "Соотношение:  20.28333360832907\n"
          ]
        }
      ]
    },
    {
      "cell_type": "markdown",
      "source": [
        "*Важно определить соотношение количества строк (объектов) датасета к количеству слов в строке. Если это соотношение мало (< 1500), то использовать группу методов на основе н-грамм (мешок слов), если соотношение велико (>= 1500), то использовать методы, работающие с последовательностью слов.*"
      ],
      "metadata": {
        "id": "1dK11Edmfr31"
      }
    },
    {
      "cell_type": "markdown",
      "source": [
        "# Предварительная обработка текста"
      ],
      "metadata": {
        "id": "MTft4aZ6agad"
      }
    },
    {
      "cell_type": "code",
      "source": [
        "from string import punctuation  # Модуль для работы со строками\n",
        "\n",
        "# Удаление символов пунктуации\n",
        "def remove_punctuation(my_string):\n",
        "    return \"\".join([ch if ch not in punctuation else ' ' for ch in my_string]) # Замена на пробелы!!!\n",
        "\n",
        "# Удаление чисел\n",
        "def remove_numbers(my_string):\n",
        "    return ''.join([i if not i.isdigit() else ' ' for i in my_string])\n",
        "\n",
        "# Замена множественных пробелов на одинарный пробел\n",
        "import re\n",
        "def remove_multiple_spaces(my_string):\n",
        "\treturn re.sub(r'\\s+', ' ', my_string, flags=re.I)\n",
        "\n",
        "# Обработка строк + дополнительно приведение к нижнему регистру\n",
        "preproccessing = lambda text: (remove_multiple_spaces(remove_numbers(remove_punctuation(text.lower())))) \n",
        "\n",
        "# Создаем колонку в датасете для обработанного текста\n",
        "data['text_processed'] = list(map(preproccessing, data['text']))\n",
        "data.head()"
      ],
      "metadata": {
        "colab": {
          "base_uri": "https://localhost:8080/",
          "height": 760
        },
        "id": "vMy98U7Qlz61",
        "outputId": "c456ef93-b250-4104-e12a-8d3ecc96bb01"
      },
      "execution_count": null,
      "outputs": [
        {
          "output_type": "execute_result",
          "data": {
            "text/plain": [
              "  Метка                                               text  \\\n",
              "0    ok  Срочно требуется дефектоскопист Требуется дефе...   \n",
              "1  scam  Заместитель руководителя Заместитель руководит...   \n",
              "2  scam  Помощник по общим вопросам В связи с увеличени...   \n",
              "3  scam  Помощник администратора Работа в офисе. Коммун...   \n",
              "4   fix  Менеджер по продвижению профессиональных натур...   \n",
              "\n",
              "                                      text_processed  \n",
              "0  срочно требуется дефектоскопист требуется дефе...  \n",
              "1  заместитель руководителя заместитель руководит...  \n",
              "2  помощник по общим вопросам в связи с увеличени...  \n",
              "3  помощник администратора работа в офисе коммуни...  \n",
              "4  менеджер по продвижению профессиональных натур...  "
            ],
            "text/html": [
              "\n",
              "  <div id=\"df-0b23860a-f070-417a-815d-bd64dc5a05ae\">\n",
              "    <div class=\"colab-df-container\">\n",
              "      <div>\n",
              "<style scoped>\n",
              "    .dataframe tbody tr th:only-of-type {\n",
              "        vertical-align: middle;\n",
              "    }\n",
              "\n",
              "    .dataframe tbody tr th {\n",
              "        vertical-align: top;\n",
              "    }\n",
              "\n",
              "    .dataframe thead th {\n",
              "        text-align: right;\n",
              "    }\n",
              "</style>\n",
              "<table border=\"1\" class=\"dataframe\">\n",
              "  <thead>\n",
              "    <tr style=\"text-align: right;\">\n",
              "      <th></th>\n",
              "      <th>Метка</th>\n",
              "      <th>text</th>\n",
              "      <th>text_processed</th>\n",
              "    </tr>\n",
              "  </thead>\n",
              "  <tbody>\n",
              "    <tr>\n",
              "      <th>0</th>\n",
              "      <td>ok</td>\n",
              "      <td>Срочно требуется дефектоскопист Требуется дефе...</td>\n",
              "      <td>срочно требуется дефектоскопист требуется дефе...</td>\n",
              "    </tr>\n",
              "    <tr>\n",
              "      <th>1</th>\n",
              "      <td>scam</td>\n",
              "      <td>Заместитель руководителя Заместитель руководит...</td>\n",
              "      <td>заместитель руководителя заместитель руководит...</td>\n",
              "    </tr>\n",
              "    <tr>\n",
              "      <th>2</th>\n",
              "      <td>scam</td>\n",
              "      <td>Помощник по общим вопросам В связи с увеличени...</td>\n",
              "      <td>помощник по общим вопросам в связи с увеличени...</td>\n",
              "    </tr>\n",
              "    <tr>\n",
              "      <th>3</th>\n",
              "      <td>scam</td>\n",
              "      <td>Помощник администратора Работа в офисе. Коммун...</td>\n",
              "      <td>помощник администратора работа в офисе коммуни...</td>\n",
              "    </tr>\n",
              "    <tr>\n",
              "      <th>4</th>\n",
              "      <td>fix</td>\n",
              "      <td>Менеджер по продвижению профессиональных натур...</td>\n",
              "      <td>менеджер по продвижению профессиональных натур...</td>\n",
              "    </tr>\n",
              "  </tbody>\n",
              "</table>\n",
              "</div>\n",
              "      <button class=\"colab-df-convert\" onclick=\"convertToInteractive('df-0b23860a-f070-417a-815d-bd64dc5a05ae')\"\n",
              "              title=\"Convert this dataframe to an interactive table.\"\n",
              "              style=\"display:none;\">\n",
              "        \n",
              "  <svg xmlns=\"http://www.w3.org/2000/svg\" height=\"24px\"viewBox=\"0 0 24 24\"\n",
              "       width=\"24px\">\n",
              "    <path d=\"M0 0h24v24H0V0z\" fill=\"none\"/>\n",
              "    <path d=\"M18.56 5.44l.94 2.06.94-2.06 2.06-.94-2.06-.94-.94-2.06-.94 2.06-2.06.94zm-11 1L8.5 8.5l.94-2.06 2.06-.94-2.06-.94L8.5 2.5l-.94 2.06-2.06.94zm10 10l.94 2.06.94-2.06 2.06-.94-2.06-.94-.94-2.06-.94 2.06-2.06.94z\"/><path d=\"M17.41 7.96l-1.37-1.37c-.4-.4-.92-.59-1.43-.59-.52 0-1.04.2-1.43.59L10.3 9.45l-7.72 7.72c-.78.78-.78 2.05 0 2.83L4 21.41c.39.39.9.59 1.41.59.51 0 1.02-.2 1.41-.59l7.78-7.78 2.81-2.81c.8-.78.8-2.07 0-2.86zM5.41 20L4 18.59l7.72-7.72 1.47 1.35L5.41 20z\"/>\n",
              "  </svg>\n",
              "      </button>\n",
              "      \n",
              "  <style>\n",
              "    .colab-df-container {\n",
              "      display:flex;\n",
              "      flex-wrap:wrap;\n",
              "      gap: 12px;\n",
              "    }\n",
              "\n",
              "    .colab-df-convert {\n",
              "      background-color: #E8F0FE;\n",
              "      border: none;\n",
              "      border-radius: 50%;\n",
              "      cursor: pointer;\n",
              "      display: none;\n",
              "      fill: #1967D2;\n",
              "      height: 32px;\n",
              "      padding: 0 0 0 0;\n",
              "      width: 32px;\n",
              "    }\n",
              "\n",
              "    .colab-df-convert:hover {\n",
              "      background-color: #E2EBFA;\n",
              "      box-shadow: 0px 1px 2px rgba(60, 64, 67, 0.3), 0px 1px 3px 1px rgba(60, 64, 67, 0.15);\n",
              "      fill: #174EA6;\n",
              "    }\n",
              "\n",
              "    [theme=dark] .colab-df-convert {\n",
              "      background-color: #3B4455;\n",
              "      fill: #D2E3FC;\n",
              "    }\n",
              "\n",
              "    [theme=dark] .colab-df-convert:hover {\n",
              "      background-color: #434B5C;\n",
              "      box-shadow: 0px 1px 3px 1px rgba(0, 0, 0, 0.15);\n",
              "      filter: drop-shadow(0px 1px 2px rgba(0, 0, 0, 0.3));\n",
              "      fill: #FFFFFF;\n",
              "    }\n",
              "  </style>\n",
              "\n",
              "      <script>\n",
              "        const buttonEl =\n",
              "          document.querySelector('#df-0b23860a-f070-417a-815d-bd64dc5a05ae button.colab-df-convert');\n",
              "        buttonEl.style.display =\n",
              "          google.colab.kernel.accessAllowed ? 'block' : 'none';\n",
              "\n",
              "        async function convertToInteractive(key) {\n",
              "          const element = document.querySelector('#df-0b23860a-f070-417a-815d-bd64dc5a05ae');\n",
              "          const dataTable =\n",
              "            await google.colab.kernel.invokeFunction('convertToInteractive',\n",
              "                                                     [key], {});\n",
              "          if (!dataTable) return;\n",
              "\n",
              "          const docLinkHtml = 'Like what you see? Visit the ' +\n",
              "            '<a target=\"_blank\" href=https://colab.research.google.com/notebooks/data_table.ipynb>data table notebook</a>'\n",
              "            + ' to learn more about interactive tables.';\n",
              "          element.innerHTML = '';\n",
              "          dataTable['output_type'] = 'display_data';\n",
              "          await google.colab.output.renderOutput(dataTable, element);\n",
              "          const docLink = document.createElement('div');\n",
              "          docLink.innerHTML = docLinkHtml;\n",
              "          element.appendChild(docLink);\n",
              "        }\n",
              "      </script>\n",
              "    </div>\n",
              "  </div>\n",
              "  "
            ]
          },
          "metadata": {},
          "execution_count": 82
        }
      ]
    },
    {
      "cell_type": "markdown",
      "source": [
        "## Стемминг\n",
        "\n",
        "Сте́мминг (англ. stemming — находить происхождение) — это процесс нахождения основы слова для заданного исходного слова. Основа слова не обязательно совпадает с морфологическим корнем слова. Стемминг является частью процесса нормализации текста.\n",
        "\n",
        "Конкретный способ решения задачи поиска основы слов называется алгоритм стемминга, а конкретная реализация — стеммер"
      ],
      "metadata": {
        "id": "xdAEbQ7pbNKr"
      }
    },
    {
      "cell_type": "code",
      "source": [
        "# NLTK - библиотек Python для решения задач обработки естественного языка\n",
        "import nltk\n",
        "\n",
        "from nltk.stem.snowball import SnowballStemmer    # Стеммер Porter2 - новая версия стеммера Портера\n",
        "from nltk.corpus import stopwords                 # Библиотека стоп-слов\n",
        "from nltk import word_tokenize                    # Токенизатор\n",
        "\n",
        "nltk.download('stopwords')                        # Загрузка стоп-слов\n",
        "nltk.download('punkt')                            # Загрузка символов пунктуации\n",
        "stemmer = SnowballStemmer(\"russian\")              # Стеммер для русского языка"
      ],
      "metadata": {
        "colab": {
          "base_uri": "https://localhost:8080/"
        },
        "id": "0AT1nCr8z2MB",
        "outputId": "10cdc1df-c0e4-4dc0-c827-c9f72a2748ee"
      },
      "execution_count": null,
      "outputs": [
        {
          "output_type": "stream",
          "name": "stderr",
          "text": [
            "[nltk_data] Downloading package stopwords to /root/nltk_data...\n",
            "[nltk_data]   Package stopwords is already up-to-date!\n",
            "[nltk_data] Downloading package punkt to /root/nltk_data...\n",
            "[nltk_data]   Package punkt is already up-to-date!\n"
          ]
        }
      ]
    },
    {
      "cell_type": "code",
      "source": [
        "russian_stopwords = stopwords.words(\"russian\")    # Список стоп-слов для русского языка\n",
        "# Расширение списка стоп-слов (см. набор данных)\n",
        "russian_stopwords.extend(['…', '«', '»', '...', 'т.д.', 'т', 'д', 'nan'])"
      ],
      "metadata": {
        "id": "YBkLr5nFz26z"
      },
      "execution_count": null,
      "outputs": []
    },
    {
      "cell_type": "code",
      "source": [
        "# Провердим стемминг и избавляемся от стоп-слов\n",
        "stemmed_text_column = []\n",
        "for text in tqdm(data['text_processed']):\n",
        "    tokens = word_tokenize(text)    \n",
        "    stemmed_tokens = [stemmer.stem(token) for token in tokens if token not in russian_stopwords]\n",
        "    text = \" \".join(stemmed_tokens)\n",
        "    stemmed_text_column.append(text)\n",
        "\n",
        "# Создаем новую колонку в наборе данных\n",
        "data['text_stemmed'] = stemmed_text_column\n",
        "data['text_stemmed'][0]"
      ],
      "metadata": {
        "colab": {
          "base_uri": "https://localhost:8080/",
          "height": 121,
          "referenced_widgets": [
            "6c81c380462542e0904ab4096f69184c",
            "3c2d5373854e4b5c9ec7641a37a4f1ee",
            "91404e023d404c6ab0c5326468625d11",
            "3cc3395c453d40e3a26b5cc90f057ca0",
            "deb86d388f9b44b2970c35ee72c37559",
            "a4bf0f42a906442dbd4593ceb503832a",
            "d55d395113d2473598a5dcc75397d90b",
            "432f967367b44bfc93e9d06ba85488af",
            "d037afbcadbe4672924bf200aed0501f",
            "46a8c12e76db4581be3e7643ea9e9a9b",
            "bb9c0aa5f60849568da544ad7df239ef"
          ]
        },
        "id": "eMPpMSRDDbmI",
        "outputId": "198a7223-0642-423c-d10a-4ceed1bf6190"
      },
      "execution_count": null,
      "outputs": [
        {
          "output_type": "display_data",
          "data": {
            "text/plain": [
              "  0%|          | 0/1568 [00:00<?, ?it/s]"
            ],
            "application/vnd.jupyter.widget-view+json": {
              "version_major": 2,
              "version_minor": 0,
              "model_id": "6c81c380462542e0904ab4096f69184c"
            }
          },
          "metadata": {}
        },
        {
          "output_type": "execute_result",
          "data": {
            "text/plain": [
              "'срочн треб дефектоскопист треб дефектоскопист магнитн ультразвуков контрол вагон участок налич требуем квалификац действующ аттестац средн профессиональн образован проведен магнитн дефектоскоп вид магнитн электромагнитн дефектоскоп работ точн измерительн прибор установк измерен магнитн электрическ параметр материал издел испытан наладк дефектоскоп изготовлен феррозондов датчик определен чувствительн расшифровк информац аппаратур феррозондов датчик определен размер глубин залеган дефект график работ полн соц пакет работник железнодорожн транспорт официальн трудоустройств'"
            ],
            "application/vnd.google.colaboratory.intrinsic+json": {
              "type": "string"
            }
          },
          "metadata": {},
          "execution_count": 85
        }
      ]
    },
    {
      "cell_type": "code",
      "source": [
        "data.head()"
      ],
      "metadata": {
        "colab": {
          "base_uri": "https://localhost:8080/",
          "height": 1024
        },
        "id": "FU9r6lajkoIR",
        "outputId": "c101b5c5-d8d1-46ab-9f7d-ff6fd1cf9b9f"
      },
      "execution_count": null,
      "outputs": [
        {
          "output_type": "execute_result",
          "data": {
            "text/plain": [
              "  Метка                                               text  \\\n",
              "0    ok  Срочно требуется дефектоскопист Требуется дефе...   \n",
              "1  scam  Заместитель руководителя Заместитель руководит...   \n",
              "2  scam  Помощник по общим вопросам В связи с увеличени...   \n",
              "3  scam  Помощник администратора Работа в офисе. Коммун...   \n",
              "4   fix  Менеджер по продвижению профессиональных натур...   \n",
              "\n",
              "                                      text_processed  \\\n",
              "0  срочно требуется дефектоскопист требуется дефе...   \n",
              "1  заместитель руководителя заместитель руководит...   \n",
              "2  помощник по общим вопросам в связи с увеличени...   \n",
              "3  помощник администратора работа в офисе коммуни...   \n",
              "4  менеджер по продвижению профессиональных натур...   \n",
              "\n",
              "                                        text_stemmed  \n",
              "0  срочн треб дефектоскопист треб дефектоскопист ...  \n",
              "1  заместител руководител заместител руководител ...  \n",
              "2  помощник общ вопрос связ увеличен объем работ ...  \n",
              "3  помощник администратор работ офис коммуникатив...  \n",
              "4  менеджер продвижен профессиональн натуральн ко...  "
            ],
            "text/html": [
              "\n",
              "  <div id=\"df-bd28d4bd-9715-4762-a44d-3d326527d299\">\n",
              "    <div class=\"colab-df-container\">\n",
              "      <div>\n",
              "<style scoped>\n",
              "    .dataframe tbody tr th:only-of-type {\n",
              "        vertical-align: middle;\n",
              "    }\n",
              "\n",
              "    .dataframe tbody tr th {\n",
              "        vertical-align: top;\n",
              "    }\n",
              "\n",
              "    .dataframe thead th {\n",
              "        text-align: right;\n",
              "    }\n",
              "</style>\n",
              "<table border=\"1\" class=\"dataframe\">\n",
              "  <thead>\n",
              "    <tr style=\"text-align: right;\">\n",
              "      <th></th>\n",
              "      <th>Метка</th>\n",
              "      <th>text</th>\n",
              "      <th>text_processed</th>\n",
              "      <th>text_stemmed</th>\n",
              "    </tr>\n",
              "  </thead>\n",
              "  <tbody>\n",
              "    <tr>\n",
              "      <th>0</th>\n",
              "      <td>ok</td>\n",
              "      <td>Срочно требуется дефектоскопист Требуется дефе...</td>\n",
              "      <td>срочно требуется дефектоскопист требуется дефе...</td>\n",
              "      <td>срочн треб дефектоскопист треб дефектоскопист ...</td>\n",
              "    </tr>\n",
              "    <tr>\n",
              "      <th>1</th>\n",
              "      <td>scam</td>\n",
              "      <td>Заместитель руководителя Заместитель руководит...</td>\n",
              "      <td>заместитель руководителя заместитель руководит...</td>\n",
              "      <td>заместител руководител заместител руководител ...</td>\n",
              "    </tr>\n",
              "    <tr>\n",
              "      <th>2</th>\n",
              "      <td>scam</td>\n",
              "      <td>Помощник по общим вопросам В связи с увеличени...</td>\n",
              "      <td>помощник по общим вопросам в связи с увеличени...</td>\n",
              "      <td>помощник общ вопрос связ увеличен объем работ ...</td>\n",
              "    </tr>\n",
              "    <tr>\n",
              "      <th>3</th>\n",
              "      <td>scam</td>\n",
              "      <td>Помощник администратора Работа в офисе. Коммун...</td>\n",
              "      <td>помощник администратора работа в офисе коммуни...</td>\n",
              "      <td>помощник администратор работ офис коммуникатив...</td>\n",
              "    </tr>\n",
              "    <tr>\n",
              "      <th>4</th>\n",
              "      <td>fix</td>\n",
              "      <td>Менеджер по продвижению профессиональных натур...</td>\n",
              "      <td>менеджер по продвижению профессиональных натур...</td>\n",
              "      <td>менеджер продвижен профессиональн натуральн ко...</td>\n",
              "    </tr>\n",
              "  </tbody>\n",
              "</table>\n",
              "</div>\n",
              "      <button class=\"colab-df-convert\" onclick=\"convertToInteractive('df-bd28d4bd-9715-4762-a44d-3d326527d299')\"\n",
              "              title=\"Convert this dataframe to an interactive table.\"\n",
              "              style=\"display:none;\">\n",
              "        \n",
              "  <svg xmlns=\"http://www.w3.org/2000/svg\" height=\"24px\"viewBox=\"0 0 24 24\"\n",
              "       width=\"24px\">\n",
              "    <path d=\"M0 0h24v24H0V0z\" fill=\"none\"/>\n",
              "    <path d=\"M18.56 5.44l.94 2.06.94-2.06 2.06-.94-2.06-.94-.94-2.06-.94 2.06-2.06.94zm-11 1L8.5 8.5l.94-2.06 2.06-.94-2.06-.94L8.5 2.5l-.94 2.06-2.06.94zm10 10l.94 2.06.94-2.06 2.06-.94-2.06-.94-.94-2.06-.94 2.06-2.06.94z\"/><path d=\"M17.41 7.96l-1.37-1.37c-.4-.4-.92-.59-1.43-.59-.52 0-1.04.2-1.43.59L10.3 9.45l-7.72 7.72c-.78.78-.78 2.05 0 2.83L4 21.41c.39.39.9.59 1.41.59.51 0 1.02-.2 1.41-.59l7.78-7.78 2.81-2.81c.8-.78.8-2.07 0-2.86zM5.41 20L4 18.59l7.72-7.72 1.47 1.35L5.41 20z\"/>\n",
              "  </svg>\n",
              "      </button>\n",
              "      \n",
              "  <style>\n",
              "    .colab-df-container {\n",
              "      display:flex;\n",
              "      flex-wrap:wrap;\n",
              "      gap: 12px;\n",
              "    }\n",
              "\n",
              "    .colab-df-convert {\n",
              "      background-color: #E8F0FE;\n",
              "      border: none;\n",
              "      border-radius: 50%;\n",
              "      cursor: pointer;\n",
              "      display: none;\n",
              "      fill: #1967D2;\n",
              "      height: 32px;\n",
              "      padding: 0 0 0 0;\n",
              "      width: 32px;\n",
              "    }\n",
              "\n",
              "    .colab-df-convert:hover {\n",
              "      background-color: #E2EBFA;\n",
              "      box-shadow: 0px 1px 2px rgba(60, 64, 67, 0.3), 0px 1px 3px 1px rgba(60, 64, 67, 0.15);\n",
              "      fill: #174EA6;\n",
              "    }\n",
              "\n",
              "    [theme=dark] .colab-df-convert {\n",
              "      background-color: #3B4455;\n",
              "      fill: #D2E3FC;\n",
              "    }\n",
              "\n",
              "    [theme=dark] .colab-df-convert:hover {\n",
              "      background-color: #434B5C;\n",
              "      box-shadow: 0px 1px 3px 1px rgba(0, 0, 0, 0.15);\n",
              "      filter: drop-shadow(0px 1px 2px rgba(0, 0, 0, 0.3));\n",
              "      fill: #FFFFFF;\n",
              "    }\n",
              "  </style>\n",
              "\n",
              "      <script>\n",
              "        const buttonEl =\n",
              "          document.querySelector('#df-bd28d4bd-9715-4762-a44d-3d326527d299 button.colab-df-convert');\n",
              "        buttonEl.style.display =\n",
              "          google.colab.kernel.accessAllowed ? 'block' : 'none';\n",
              "\n",
              "        async function convertToInteractive(key) {\n",
              "          const element = document.querySelector('#df-bd28d4bd-9715-4762-a44d-3d326527d299');\n",
              "          const dataTable =\n",
              "            await google.colab.kernel.invokeFunction('convertToInteractive',\n",
              "                                                     [key], {});\n",
              "          if (!dataTable) return;\n",
              "\n",
              "          const docLinkHtml = 'Like what you see? Visit the ' +\n",
              "            '<a target=\"_blank\" href=https://colab.research.google.com/notebooks/data_table.ipynb>data table notebook</a>'\n",
              "            + ' to learn more about interactive tables.';\n",
              "          element.innerHTML = '';\n",
              "          dataTable['output_type'] = 'display_data';\n",
              "          await google.colab.output.renderOutput(dataTable, element);\n",
              "          const docLink = document.createElement('div');\n",
              "          docLink.innerHTML = docLinkHtml;\n",
              "          element.appendChild(docLink);\n",
              "        }\n",
              "      </script>\n",
              "    </div>\n",
              "  </div>\n",
              "  "
            ]
          },
          "metadata": {},
          "execution_count": 86
        }
      ]
    },
    {
      "cell_type": "markdown",
      "source": [
        "## Лемматизация\n",
        "\n",
        "Лемматиза́ция — процесс приведения словоформы к лемме — её нормальной (словарной) форме."
      ],
      "metadata": {
        "id": "xAOg8p3jbNS6"
      }
    },
    {
      "cell_type": "code",
      "source": [
        "!pip install pymorphy2            # pymorphy2 - морфологический анализатор для русского языка\n",
        "!pip install pymorphy2-dicts      # пакет со словарями\n",
        "!pip install DAWG-Python          \n"
      ],
      "metadata": {
        "colab": {
          "base_uri": "https://localhost:8080/"
        },
        "id": "OqYTikL-LyT3",
        "outputId": "71ede5bf-c5d5-4c23-f129-bd1c5c64e019"
      },
      "execution_count": null,
      "outputs": [
        {
          "output_type": "stream",
          "name": "stdout",
          "text": [
            "Looking in indexes: https://pypi.org/simple, https://us-python.pkg.dev/colab-wheels/public/simple/\n",
            "Requirement already satisfied: pymorphy2 in /usr/local/lib/python3.7/dist-packages (0.9.1)\n",
            "Requirement already satisfied: docopt>=0.6 in /usr/local/lib/python3.7/dist-packages (from pymorphy2) (0.6.2)\n",
            "Requirement already satisfied: pymorphy2-dicts-ru<3.0,>=2.4 in /usr/local/lib/python3.7/dist-packages (from pymorphy2) (2.4.417127.4579844)\n",
            "Requirement already satisfied: dawg-python>=0.7.1 in /usr/local/lib/python3.7/dist-packages (from pymorphy2) (0.7.2)\n",
            "Looking in indexes: https://pypi.org/simple, https://us-python.pkg.dev/colab-wheels/public/simple/\n",
            "Requirement already satisfied: pymorphy2-dicts in /usr/local/lib/python3.7/dist-packages (2.4.393442.3710985)\n",
            "Looking in indexes: https://pypi.org/simple, https://us-python.pkg.dev/colab-wheels/public/simple/\n",
            "Requirement already satisfied: DAWG-Python in /usr/local/lib/python3.7/dist-packages (0.7.2)\n"
          ]
        }
      ]
    },
    {
      "cell_type": "code",
      "source": [
        "import pymorphy2\n",
        "morph = pymorphy2.MorphAnalyzer()"
      ],
      "metadata": {
        "id": "fw1Ix6yKMDzD"
      },
      "execution_count": null,
      "outputs": []
    },
    {
      "cell_type": "code",
      "source": [
        "morph.parse('шел')[0].normal_form  # Получение нулевой формы слова"
      ],
      "metadata": {
        "colab": {
          "base_uri": "https://localhost:8080/",
          "height": 35
        },
        "id": "Z_IfATcDM7hX",
        "outputId": "1f57ff4d-e15f-4877-9efc-2d45ed2db8c1"
      },
      "execution_count": null,
      "outputs": [
        {
          "output_type": "execute_result",
          "data": {
            "text/plain": [
              "'идти'"
            ],
            "application/vnd.google.colaboratory.intrinsic+json": {
              "type": "string"
            }
          },
          "metadata": {},
          "execution_count": 89
        }
      ]
    },
    {
      "cell_type": "code",
      "source": [
        "morph.parse('шел')[0].lexeme  # Все лексемы слова"
      ],
      "metadata": {
        "id": "8WDNyYNOlvY0",
        "colab": {
          "base_uri": "https://localhost:8080/"
        },
        "outputId": "80e980a0-b99a-460b-e1fd-99e132d295a5"
      },
      "execution_count": null,
      "outputs": [
        {
          "output_type": "execute_result",
          "data": {
            "text/plain": [
              "[Parse(word='идти', tag=OpencorporaTag('INFN,impf,intr'), normal_form='идти', score=1.0, methods_stack=((DictionaryAnalyzer(), 'идти', 1696, 0),)),\n",
              " Parse(word='иду', tag=OpencorporaTag('VERB,impf,intr sing,1per,pres,indc'), normal_form='идти', score=1.0, methods_stack=((DictionaryAnalyzer(), 'иду', 1696, 1),)),\n",
              " Parse(word='идём', tag=OpencorporaTag('VERB,impf,intr plur,1per,pres,indc'), normal_form='идти', score=1.0, methods_stack=((DictionaryAnalyzer(), 'идём', 1696, 2),)),\n",
              " Parse(word='идёшь', tag=OpencorporaTag('VERB,impf,intr sing,2per,pres,indc'), normal_form='идти', score=1.0, methods_stack=((DictionaryAnalyzer(), 'идёшь', 1696, 3),)),\n",
              " Parse(word='идёте', tag=OpencorporaTag('VERB,impf,intr plur,2per,pres,indc'), normal_form='идти', score=1.0, methods_stack=((DictionaryAnalyzer(), 'идёте', 1696, 4),)),\n",
              " Parse(word='идёт', tag=OpencorporaTag('VERB,impf,intr sing,3per,pres,indc'), normal_form='идти', score=1.0, methods_stack=((DictionaryAnalyzer(), 'идёт', 1696, 5),)),\n",
              " Parse(word='идут', tag=OpencorporaTag('VERB,impf,intr plur,3per,pres,indc'), normal_form='идти', score=1.0, methods_stack=((DictionaryAnalyzer(), 'идут', 1696, 6),)),\n",
              " Parse(word='шёл', tag=OpencorporaTag('VERB,impf,intr masc,sing,past,indc'), normal_form='идти', score=1.0, methods_stack=((DictionaryAnalyzer(), 'шёл', 1696, 7),)),\n",
              " Parse(word='шла', tag=OpencorporaTag('VERB,impf,intr femn,sing,past,indc'), normal_form='идти', score=1.0, methods_stack=((DictionaryAnalyzer(), 'шла', 1696, 8),)),\n",
              " Parse(word='шло', tag=OpencorporaTag('VERB,impf,intr neut,sing,past,indc'), normal_form='идти', score=1.0, methods_stack=((DictionaryAnalyzer(), 'шло', 1696, 9),)),\n",
              " Parse(word='шли', tag=OpencorporaTag('VERB,impf,intr plur,past,indc'), normal_form='идти', score=1.0, methods_stack=((DictionaryAnalyzer(), 'шли', 1696, 10),)),\n",
              " Parse(word='идём', tag=OpencorporaTag('VERB,impf,intr sing,impr,incl'), normal_form='идти', score=1.0, methods_stack=((DictionaryAnalyzer(), 'идём', 1696, 11),)),\n",
              " Parse(word='идёмте', tag=OpencorporaTag('VERB,impf,intr plur,impr,incl'), normal_form='идти', score=1.0, methods_stack=((DictionaryAnalyzer(), 'идёмте', 1696, 12),)),\n",
              " Parse(word='иди', tag=OpencorporaTag('VERB,impf,intr sing,impr,excl'), normal_form='идти', score=1.0, methods_stack=((DictionaryAnalyzer(), 'иди', 1696, 13),)),\n",
              " Parse(word='идите', tag=OpencorporaTag('VERB,impf,intr plur,impr,excl'), normal_form='идти', score=1.0, methods_stack=((DictionaryAnalyzer(), 'идите', 1696, 14),)),\n",
              " Parse(word='идущий', tag=OpencorporaTag('PRTF,impf,intr,pres,actv masc,sing,nomn'), normal_form='идти', score=1.0, methods_stack=((DictionaryAnalyzer(), 'идущий', 1696, 15),)),\n",
              " Parse(word='идущего', tag=OpencorporaTag('PRTF,impf,intr,pres,actv masc,sing,gent'), normal_form='идти', score=1.0, methods_stack=((DictionaryAnalyzer(), 'идущего', 1696, 16),)),\n",
              " Parse(word='идущему', tag=OpencorporaTag('PRTF,impf,intr,pres,actv masc,sing,datv'), normal_form='идти', score=1.0, methods_stack=((DictionaryAnalyzer(), 'идущему', 1696, 17),)),\n",
              " Parse(word='идущего', tag=OpencorporaTag('PRTF,impf,intr,pres,actv anim,masc,sing,accs'), normal_form='идти', score=1.0, methods_stack=((DictionaryAnalyzer(), 'идущего', 1696, 18),)),\n",
              " Parse(word='идущий', tag=OpencorporaTag('PRTF,impf,intr,pres,actv inan,masc,sing,accs'), normal_form='идти', score=1.0, methods_stack=((DictionaryAnalyzer(), 'идущий', 1696, 19),)),\n",
              " Parse(word='идущим', tag=OpencorporaTag('PRTF,impf,intr,pres,actv masc,sing,ablt'), normal_form='идти', score=1.0, methods_stack=((DictionaryAnalyzer(), 'идущим', 1696, 20),)),\n",
              " Parse(word='идущем', tag=OpencorporaTag('PRTF,impf,intr,pres,actv masc,sing,loct'), normal_form='идти', score=1.0, methods_stack=((DictionaryAnalyzer(), 'идущем', 1696, 21),)),\n",
              " Parse(word='идущая', tag=OpencorporaTag('PRTF,impf,intr,pres,actv femn,sing,nomn'), normal_form='идти', score=1.0, methods_stack=((DictionaryAnalyzer(), 'идущая', 1696, 22),)),\n",
              " Parse(word='идущей', tag=OpencorporaTag('PRTF,impf,intr,pres,actv femn,sing,gent'), normal_form='идти', score=1.0, methods_stack=((DictionaryAnalyzer(), 'идущей', 1696, 23),)),\n",
              " Parse(word='идущей', tag=OpencorporaTag('PRTF,impf,intr,pres,actv femn,sing,datv'), normal_form='идти', score=1.0, methods_stack=((DictionaryAnalyzer(), 'идущей', 1696, 24),)),\n",
              " Parse(word='идущую', tag=OpencorporaTag('PRTF,impf,intr,pres,actv femn,sing,accs'), normal_form='идти', score=1.0, methods_stack=((DictionaryAnalyzer(), 'идущую', 1696, 25),)),\n",
              " Parse(word='идущей', tag=OpencorporaTag('PRTF,impf,intr,pres,actv femn,sing,ablt'), normal_form='идти', score=1.0, methods_stack=((DictionaryAnalyzer(), 'идущей', 1696, 26),)),\n",
              " Parse(word='идущею', tag=OpencorporaTag('PRTF,impf,intr,pres,actv femn,sing,ablt,V-ey'), normal_form='идти', score=1.0, methods_stack=((DictionaryAnalyzer(), 'идущею', 1696, 27),)),\n",
              " Parse(word='идущей', tag=OpencorporaTag('PRTF,impf,intr,pres,actv femn,sing,loct'), normal_form='идти', score=1.0, methods_stack=((DictionaryAnalyzer(), 'идущей', 1696, 28),)),\n",
              " Parse(word='идущее', tag=OpencorporaTag('PRTF,impf,intr,pres,actv neut,sing,nomn'), normal_form='идти', score=1.0, methods_stack=((DictionaryAnalyzer(), 'идущее', 1696, 29),)),\n",
              " Parse(word='идущего', tag=OpencorporaTag('PRTF,impf,intr,pres,actv neut,sing,gent'), normal_form='идти', score=1.0, methods_stack=((DictionaryAnalyzer(), 'идущего', 1696, 30),)),\n",
              " Parse(word='идущему', tag=OpencorporaTag('PRTF,impf,intr,pres,actv neut,sing,datv'), normal_form='идти', score=1.0, methods_stack=((DictionaryAnalyzer(), 'идущему', 1696, 31),)),\n",
              " Parse(word='идущее', tag=OpencorporaTag('PRTF,impf,intr,pres,actv neut,sing,accs'), normal_form='идти', score=1.0, methods_stack=((DictionaryAnalyzer(), 'идущее', 1696, 32),)),\n",
              " Parse(word='идущим', tag=OpencorporaTag('PRTF,impf,intr,pres,actv neut,sing,ablt'), normal_form='идти', score=1.0, methods_stack=((DictionaryAnalyzer(), 'идущим', 1696, 33),)),\n",
              " Parse(word='идущем', tag=OpencorporaTag('PRTF,impf,intr,pres,actv neut,sing,loct'), normal_form='идти', score=1.0, methods_stack=((DictionaryAnalyzer(), 'идущем', 1696, 34),)),\n",
              " Parse(word='идущие', tag=OpencorporaTag('PRTF,impf,intr,pres,actv plur,nomn'), normal_form='идти', score=1.0, methods_stack=((DictionaryAnalyzer(), 'идущие', 1696, 35),)),\n",
              " Parse(word='идущих', tag=OpencorporaTag('PRTF,impf,intr,pres,actv plur,gent'), normal_form='идти', score=1.0, methods_stack=((DictionaryAnalyzer(), 'идущих', 1696, 36),)),\n",
              " Parse(word='идущим', tag=OpencorporaTag('PRTF,impf,intr,pres,actv plur,datv'), normal_form='идти', score=1.0, methods_stack=((DictionaryAnalyzer(), 'идущим', 1696, 37),)),\n",
              " Parse(word='идущих', tag=OpencorporaTag('PRTF,impf,intr,pres,actv anim,plur,accs'), normal_form='идти', score=1.0, methods_stack=((DictionaryAnalyzer(), 'идущих', 1696, 38),)),\n",
              " Parse(word='идущие', tag=OpencorporaTag('PRTF,impf,intr,pres,actv inan,plur,accs'), normal_form='идти', score=1.0, methods_stack=((DictionaryAnalyzer(), 'идущие', 1696, 39),)),\n",
              " Parse(word='идущими', tag=OpencorporaTag('PRTF,impf,intr,pres,actv plur,ablt'), normal_form='идти', score=1.0, methods_stack=((DictionaryAnalyzer(), 'идущими', 1696, 40),)),\n",
              " Parse(word='идущих', tag=OpencorporaTag('PRTF,impf,intr,pres,actv plur,loct'), normal_form='идти', score=1.0, methods_stack=((DictionaryAnalyzer(), 'идущих', 1696, 41),)),\n",
              " Parse(word='шедший', tag=OpencorporaTag('PRTF,impf,intr,past,actv masc,sing,nomn'), normal_form='идти', score=1.0, methods_stack=((DictionaryAnalyzer(), 'шедший', 1696, 42),)),\n",
              " Parse(word='шедшего', tag=OpencorporaTag('PRTF,impf,intr,past,actv masc,sing,gent'), normal_form='идти', score=1.0, methods_stack=((DictionaryAnalyzer(), 'шедшего', 1696, 43),)),\n",
              " Parse(word='шедшему', tag=OpencorporaTag('PRTF,impf,intr,past,actv masc,sing,datv'), normal_form='идти', score=1.0, methods_stack=((DictionaryAnalyzer(), 'шедшему', 1696, 44),)),\n",
              " Parse(word='шедшего', tag=OpencorporaTag('PRTF,impf,intr,past,actv anim,masc,sing,accs'), normal_form='идти', score=1.0, methods_stack=((DictionaryAnalyzer(), 'шедшего', 1696, 45),)),\n",
              " Parse(word='шедший', tag=OpencorporaTag('PRTF,impf,intr,past,actv inan,masc,sing,accs'), normal_form='идти', score=1.0, methods_stack=((DictionaryAnalyzer(), 'шедший', 1696, 46),)),\n",
              " Parse(word='шедшим', tag=OpencorporaTag('PRTF,impf,intr,past,actv masc,sing,ablt'), normal_form='идти', score=1.0, methods_stack=((DictionaryAnalyzer(), 'шедшим', 1696, 47),)),\n",
              " Parse(word='шедшем', tag=OpencorporaTag('PRTF,impf,intr,past,actv masc,sing,loct'), normal_form='идти', score=1.0, methods_stack=((DictionaryAnalyzer(), 'шедшем', 1696, 48),)),\n",
              " Parse(word='шедшая', tag=OpencorporaTag('PRTF,impf,intr,past,actv femn,sing,nomn'), normal_form='идти', score=1.0, methods_stack=((DictionaryAnalyzer(), 'шедшая', 1696, 49),)),\n",
              " Parse(word='шедшей', tag=OpencorporaTag('PRTF,impf,intr,past,actv femn,sing,gent'), normal_form='идти', score=1.0, methods_stack=((DictionaryAnalyzer(), 'шедшей', 1696, 50),)),\n",
              " Parse(word='шедшей', tag=OpencorporaTag('PRTF,impf,intr,past,actv femn,sing,datv'), normal_form='идти', score=1.0, methods_stack=((DictionaryAnalyzer(), 'шедшей', 1696, 51),)),\n",
              " Parse(word='шедшую', tag=OpencorporaTag('PRTF,impf,intr,past,actv femn,sing,accs'), normal_form='идти', score=1.0, methods_stack=((DictionaryAnalyzer(), 'шедшую', 1696, 52),)),\n",
              " Parse(word='шедшей', tag=OpencorporaTag('PRTF,impf,intr,past,actv femn,sing,ablt'), normal_form='идти', score=1.0, methods_stack=((DictionaryAnalyzer(), 'шедшей', 1696, 53),)),\n",
              " Parse(word='шедшею', tag=OpencorporaTag('PRTF,impf,intr,past,actv femn,sing,ablt,V-ey'), normal_form='идти', score=1.0, methods_stack=((DictionaryAnalyzer(), 'шедшею', 1696, 54),)),\n",
              " Parse(word='шедшей', tag=OpencorporaTag('PRTF,impf,intr,past,actv femn,sing,loct'), normal_form='идти', score=1.0, methods_stack=((DictionaryAnalyzer(), 'шедшей', 1696, 55),)),\n",
              " Parse(word='шедшее', tag=OpencorporaTag('PRTF,impf,intr,past,actv neut,sing,nomn'), normal_form='идти', score=1.0, methods_stack=((DictionaryAnalyzer(), 'шедшее', 1696, 56),)),\n",
              " Parse(word='шедшего', tag=OpencorporaTag('PRTF,impf,intr,past,actv neut,sing,gent'), normal_form='идти', score=1.0, methods_stack=((DictionaryAnalyzer(), 'шедшего', 1696, 57),)),\n",
              " Parse(word='шедшему', tag=OpencorporaTag('PRTF,impf,intr,past,actv neut,sing,datv'), normal_form='идти', score=1.0, methods_stack=((DictionaryAnalyzer(), 'шедшему', 1696, 58),)),\n",
              " Parse(word='шедшее', tag=OpencorporaTag('PRTF,impf,intr,past,actv neut,sing,accs'), normal_form='идти', score=1.0, methods_stack=((DictionaryAnalyzer(), 'шедшее', 1696, 59),)),\n",
              " Parse(word='шедшим', tag=OpencorporaTag('PRTF,impf,intr,past,actv neut,sing,ablt'), normal_form='идти', score=1.0, methods_stack=((DictionaryAnalyzer(), 'шедшим', 1696, 60),)),\n",
              " Parse(word='шедшем', tag=OpencorporaTag('PRTF,impf,intr,past,actv neut,sing,loct'), normal_form='идти', score=1.0, methods_stack=((DictionaryAnalyzer(), 'шедшем', 1696, 61),)),\n",
              " Parse(word='шедшие', tag=OpencorporaTag('PRTF,impf,intr,past,actv plur,nomn'), normal_form='идти', score=1.0, methods_stack=((DictionaryAnalyzer(), 'шедшие', 1696, 62),)),\n",
              " Parse(word='шедших', tag=OpencorporaTag('PRTF,impf,intr,past,actv plur,gent'), normal_form='идти', score=1.0, methods_stack=((DictionaryAnalyzer(), 'шедших', 1696, 63),)),\n",
              " Parse(word='шедшим', tag=OpencorporaTag('PRTF,impf,intr,past,actv plur,datv'), normal_form='идти', score=1.0, methods_stack=((DictionaryAnalyzer(), 'шедшим', 1696, 64),)),\n",
              " Parse(word='шедших', tag=OpencorporaTag('PRTF,impf,intr,past,actv anim,plur,accs'), normal_form='идти', score=1.0, methods_stack=((DictionaryAnalyzer(), 'шедших', 1696, 65),)),\n",
              " Parse(word='шедшие', tag=OpencorporaTag('PRTF,impf,intr,past,actv inan,plur,accs'), normal_form='идти', score=1.0, methods_stack=((DictionaryAnalyzer(), 'шедшие', 1696, 66),)),\n",
              " Parse(word='шедшими', tag=OpencorporaTag('PRTF,impf,intr,past,actv plur,ablt'), normal_form='идти', score=1.0, methods_stack=((DictionaryAnalyzer(), 'шедшими', 1696, 67),)),\n",
              " Parse(word='шедших', tag=OpencorporaTag('PRTF,impf,intr,past,actv plur,loct'), normal_form='идти', score=1.0, methods_stack=((DictionaryAnalyzer(), 'шедших', 1696, 68),)),\n",
              " Parse(word='идя', tag=OpencorporaTag('GRND,impf,intr pres'), normal_form='идти', score=1.0, methods_stack=((DictionaryAnalyzer(), 'идя', 1696, 69),)),\n",
              " Parse(word='шедши', tag=OpencorporaTag('GRND,impf,intr past,V-sh'), normal_form='идти', score=1.0, methods_stack=((DictionaryAnalyzer(), 'шедши', 1696, 70),))]"
            ]
          },
          "metadata": {},
          "execution_count": 90
        }
      ]
    },
    {
      "cell_type": "code",
      "source": [
        "# Провердим лемматизацию и избавляемся от стоп-слов\n",
        "lemm_texts_column = []\n",
        "for text in tqdm(data['text_processed']):\n",
        "    tokens = word_tokenize(text)    \n",
        "    lemmed_tokens = [morph.parse(token)[0].normal_form for token in tokens if token not in russian_stopwords]\n",
        "    text = \" \".join(lemmed_tokens)\n",
        "    lemm_texts_column.append(text)\n",
        "    \n",
        "# Создаем новую колонку в наборе данных\n",
        "data['text_lemmed'] = lemm_texts_column\n",
        "\n",
        "data['text_lemmed'][0]"
      ],
      "metadata": {
        "colab": {
          "base_uri": "https://localhost:8080/",
          "height": 121,
          "referenced_widgets": [
            "efa98b581add43b68f84329bdfe3439a",
            "8d0d480730954fbda34700c8cd9bba7a",
            "43c6eefbee0c473d9be056bc5ce1f46a",
            "ccb35efd1e584f45af68ea06a17e0cc8",
            "e3ea3e057b16480ea61549c4a95cc849",
            "4c2cc329e1764f6e8e604360bee957ab",
            "6546b838df0846da850c9421824f4391",
            "4ff24edc3507475982f83ca845e21450",
            "eb66d32ae16c44a99108b39cc7a16909",
            "7904b2f3312b458c98a8b30c420de849",
            "be8ce578f5cd4ff6a6afed2866e24797"
          ]
        },
        "id": "G6CNF0y2HH8T",
        "outputId": "046c87dc-45d0-4ec9-8c42-4b12bcb64b63"
      },
      "execution_count": null,
      "outputs": [
        {
          "output_type": "display_data",
          "data": {
            "text/plain": [
              "  0%|          | 0/1568 [00:00<?, ?it/s]"
            ],
            "application/vnd.jupyter.widget-view+json": {
              "version_major": 2,
              "version_minor": 0,
              "model_id": "efa98b581add43b68f84329bdfe3439a"
            }
          },
          "metadata": {}
        },
        {
          "output_type": "execute_result",
          "data": {
            "text/plain": [
              "'срочно требоваться дефектоскопист требоваться дефектоскопист магнитный ультразвуковой контроль вагонный участок наличие требовать квалификация действовать аттестация средний профессиональный образование проведение магнитная дефектоскопия вид магнитный электромагнитный дефектоскоп работа точный измерительный прибор установка измерение магнитный электрический параметр материал изделие испытание наладка дефектоскоп изготовление феррозондовый датчик определение чувствительность расшифровка информация аппаратура феррозондовый датчик определение размер глубина залегание дефект график работа полный соц пакет работник железнодорожный транспорт официальный трудоустройство'"
            ],
            "application/vnd.google.colaboratory.intrinsic+json": {
              "type": "string"
            }
          },
          "metadata": {},
          "execution_count": 91
        }
      ]
    },
    {
      "cell_type": "code",
      "source": [
        "data.head()"
      ],
      "metadata": {
        "colab": {
          "base_uri": "https://localhost:8080/",
          "height": 1388
        },
        "id": "qil8oSjvnf8M",
        "outputId": "2247b674-69ff-42fd-eee0-baad0a0f8690"
      },
      "execution_count": null,
      "outputs": [
        {
          "output_type": "execute_result",
          "data": {
            "text/plain": [
              "  Метка                                               text  \\\n",
              "0    ok  Срочно требуется дефектоскопист Требуется дефе...   \n",
              "1  scam  Заместитель руководителя Заместитель руководит...   \n",
              "2  scam  Помощник по общим вопросам В связи с увеличени...   \n",
              "3  scam  Помощник администратора Работа в офисе. Коммун...   \n",
              "4   fix  Менеджер по продвижению профессиональных натур...   \n",
              "\n",
              "                                      text_processed  \\\n",
              "0  срочно требуется дефектоскопист требуется дефе...   \n",
              "1  заместитель руководителя заместитель руководит...   \n",
              "2  помощник по общим вопросам в связи с увеличени...   \n",
              "3  помощник администратора работа в офисе коммуни...   \n",
              "4  менеджер по продвижению профессиональных натур...   \n",
              "\n",
              "                                        text_stemmed  \\\n",
              "0  срочн треб дефектоскопист треб дефектоскопист ...   \n",
              "1  заместител руководител заместител руководител ...   \n",
              "2  помощник общ вопрос связ увеличен объем работ ...   \n",
              "3  помощник администратор работ офис коммуникатив...   \n",
              "4  менеджер продвижен профессиональн натуральн ко...   \n",
              "\n",
              "                                         text_lemmed  \n",
              "0  срочно требоваться дефектоскопист требоваться ...  \n",
              "1  заместитель руководитель заместитель руководит...  \n",
              "2  помощник общий вопрос связь увеличение объём р...  \n",
              "3  помощник администратор работа офис коммуникати...  \n",
              "4  менеджер продвижение профессиональный натураль...  "
            ],
            "text/html": [
              "\n",
              "  <div id=\"df-372d43d8-4ff5-43c0-9aab-3ba8391a4990\">\n",
              "    <div class=\"colab-df-container\">\n",
              "      <div>\n",
              "<style scoped>\n",
              "    .dataframe tbody tr th:only-of-type {\n",
              "        vertical-align: middle;\n",
              "    }\n",
              "\n",
              "    .dataframe tbody tr th {\n",
              "        vertical-align: top;\n",
              "    }\n",
              "\n",
              "    .dataframe thead th {\n",
              "        text-align: right;\n",
              "    }\n",
              "</style>\n",
              "<table border=\"1\" class=\"dataframe\">\n",
              "  <thead>\n",
              "    <tr style=\"text-align: right;\">\n",
              "      <th></th>\n",
              "      <th>Метка</th>\n",
              "      <th>text</th>\n",
              "      <th>text_processed</th>\n",
              "      <th>text_stemmed</th>\n",
              "      <th>text_lemmed</th>\n",
              "    </tr>\n",
              "  </thead>\n",
              "  <tbody>\n",
              "    <tr>\n",
              "      <th>0</th>\n",
              "      <td>ok</td>\n",
              "      <td>Срочно требуется дефектоскопист Требуется дефе...</td>\n",
              "      <td>срочно требуется дефектоскопист требуется дефе...</td>\n",
              "      <td>срочн треб дефектоскопист треб дефектоскопист ...</td>\n",
              "      <td>срочно требоваться дефектоскопист требоваться ...</td>\n",
              "    </tr>\n",
              "    <tr>\n",
              "      <th>1</th>\n",
              "      <td>scam</td>\n",
              "      <td>Заместитель руководителя Заместитель руководит...</td>\n",
              "      <td>заместитель руководителя заместитель руководит...</td>\n",
              "      <td>заместител руководител заместител руководител ...</td>\n",
              "      <td>заместитель руководитель заместитель руководит...</td>\n",
              "    </tr>\n",
              "    <tr>\n",
              "      <th>2</th>\n",
              "      <td>scam</td>\n",
              "      <td>Помощник по общим вопросам В связи с увеличени...</td>\n",
              "      <td>помощник по общим вопросам в связи с увеличени...</td>\n",
              "      <td>помощник общ вопрос связ увеличен объем работ ...</td>\n",
              "      <td>помощник общий вопрос связь увеличение объём р...</td>\n",
              "    </tr>\n",
              "    <tr>\n",
              "      <th>3</th>\n",
              "      <td>scam</td>\n",
              "      <td>Помощник администратора Работа в офисе. Коммун...</td>\n",
              "      <td>помощник администратора работа в офисе коммуни...</td>\n",
              "      <td>помощник администратор работ офис коммуникатив...</td>\n",
              "      <td>помощник администратор работа офис коммуникати...</td>\n",
              "    </tr>\n",
              "    <tr>\n",
              "      <th>4</th>\n",
              "      <td>fix</td>\n",
              "      <td>Менеджер по продвижению профессиональных натур...</td>\n",
              "      <td>менеджер по продвижению профессиональных натур...</td>\n",
              "      <td>менеджер продвижен профессиональн натуральн ко...</td>\n",
              "      <td>менеджер продвижение профессиональный натураль...</td>\n",
              "    </tr>\n",
              "  </tbody>\n",
              "</table>\n",
              "</div>\n",
              "      <button class=\"colab-df-convert\" onclick=\"convertToInteractive('df-372d43d8-4ff5-43c0-9aab-3ba8391a4990')\"\n",
              "              title=\"Convert this dataframe to an interactive table.\"\n",
              "              style=\"display:none;\">\n",
              "        \n",
              "  <svg xmlns=\"http://www.w3.org/2000/svg\" height=\"24px\"viewBox=\"0 0 24 24\"\n",
              "       width=\"24px\">\n",
              "    <path d=\"M0 0h24v24H0V0z\" fill=\"none\"/>\n",
              "    <path d=\"M18.56 5.44l.94 2.06.94-2.06 2.06-.94-2.06-.94-.94-2.06-.94 2.06-2.06.94zm-11 1L8.5 8.5l.94-2.06 2.06-.94-2.06-.94L8.5 2.5l-.94 2.06-2.06.94zm10 10l.94 2.06.94-2.06 2.06-.94-2.06-.94-.94-2.06-.94 2.06-2.06.94z\"/><path d=\"M17.41 7.96l-1.37-1.37c-.4-.4-.92-.59-1.43-.59-.52 0-1.04.2-1.43.59L10.3 9.45l-7.72 7.72c-.78.78-.78 2.05 0 2.83L4 21.41c.39.39.9.59 1.41.59.51 0 1.02-.2 1.41-.59l7.78-7.78 2.81-2.81c.8-.78.8-2.07 0-2.86zM5.41 20L4 18.59l7.72-7.72 1.47 1.35L5.41 20z\"/>\n",
              "  </svg>\n",
              "      </button>\n",
              "      \n",
              "  <style>\n",
              "    .colab-df-container {\n",
              "      display:flex;\n",
              "      flex-wrap:wrap;\n",
              "      gap: 12px;\n",
              "    }\n",
              "\n",
              "    .colab-df-convert {\n",
              "      background-color: #E8F0FE;\n",
              "      border: none;\n",
              "      border-radius: 50%;\n",
              "      cursor: pointer;\n",
              "      display: none;\n",
              "      fill: #1967D2;\n",
              "      height: 32px;\n",
              "      padding: 0 0 0 0;\n",
              "      width: 32px;\n",
              "    }\n",
              "\n",
              "    .colab-df-convert:hover {\n",
              "      background-color: #E2EBFA;\n",
              "      box-shadow: 0px 1px 2px rgba(60, 64, 67, 0.3), 0px 1px 3px 1px rgba(60, 64, 67, 0.15);\n",
              "      fill: #174EA6;\n",
              "    }\n",
              "\n",
              "    [theme=dark] .colab-df-convert {\n",
              "      background-color: #3B4455;\n",
              "      fill: #D2E3FC;\n",
              "    }\n",
              "\n",
              "    [theme=dark] .colab-df-convert:hover {\n",
              "      background-color: #434B5C;\n",
              "      box-shadow: 0px 1px 3px 1px rgba(0, 0, 0, 0.15);\n",
              "      filter: drop-shadow(0px 1px 2px rgba(0, 0, 0, 0.3));\n",
              "      fill: #FFFFFF;\n",
              "    }\n",
              "  </style>\n",
              "\n",
              "      <script>\n",
              "        const buttonEl =\n",
              "          document.querySelector('#df-372d43d8-4ff5-43c0-9aab-3ba8391a4990 button.colab-df-convert');\n",
              "        buttonEl.style.display =\n",
              "          google.colab.kernel.accessAllowed ? 'block' : 'none';\n",
              "\n",
              "        async function convertToInteractive(key) {\n",
              "          const element = document.querySelector('#df-372d43d8-4ff5-43c0-9aab-3ba8391a4990');\n",
              "          const dataTable =\n",
              "            await google.colab.kernel.invokeFunction('convertToInteractive',\n",
              "                                                     [key], {});\n",
              "          if (!dataTable) return;\n",
              "\n",
              "          const docLinkHtml = 'Like what you see? Visit the ' +\n",
              "            '<a target=\"_blank\" href=https://colab.research.google.com/notebooks/data_table.ipynb>data table notebook</a>'\n",
              "            + ' to learn more about interactive tables.';\n",
              "          element.innerHTML = '';\n",
              "          dataTable['output_type'] = 'display_data';\n",
              "          await google.colab.output.renderOutput(dataTable, element);\n",
              "          const docLink = document.createElement('div');\n",
              "          docLink.innerHTML = docLinkHtml;\n",
              "          element.appendChild(docLink);\n",
              "        }\n",
              "      </script>\n",
              "    </div>\n",
              "  </div>\n",
              "  "
            ]
          },
          "metadata": {},
          "execution_count": 92
        }
      ]
    },
    {
      "cell_type": "markdown",
      "source": [
        "## Токенизация\n",
        "\n",
        "Токенизация - процесс разделения текста на составляющие (слова, предложения, группы слов)."
      ],
      "metadata": {
        "id": "9Ii6Mv5kYLf-"
      }
    },
    {
      "cell_type": "code",
      "source": [
        "# from nltk import word_tokenize\n",
        "\n",
        "word_tokenize(data['text_lemmed'][0])"
      ],
      "metadata": {
        "colab": {
          "base_uri": "https://localhost:8080/"
        },
        "id": "qmr7yDoSQd0R",
        "outputId": "7d725ee9-81f8-4daa-8857-0256d0666763"
      },
      "execution_count": null,
      "outputs": [
        {
          "output_type": "execute_result",
          "data": {
            "text/plain": [
              "['срочно',\n",
              " 'требоваться',\n",
              " 'дефектоскопист',\n",
              " 'требоваться',\n",
              " 'дефектоскопист',\n",
              " 'магнитный',\n",
              " 'ультразвуковой',\n",
              " 'контроль',\n",
              " 'вагонный',\n",
              " 'участок',\n",
              " 'наличие',\n",
              " 'требовать',\n",
              " 'квалификация',\n",
              " 'действовать',\n",
              " 'аттестация',\n",
              " 'средний',\n",
              " 'профессиональный',\n",
              " 'образование',\n",
              " 'проведение',\n",
              " 'магнитная',\n",
              " 'дефектоскопия',\n",
              " 'вид',\n",
              " 'магнитный',\n",
              " 'электромагнитный',\n",
              " 'дефектоскоп',\n",
              " 'работа',\n",
              " 'точный',\n",
              " 'измерительный',\n",
              " 'прибор',\n",
              " 'установка',\n",
              " 'измерение',\n",
              " 'магнитный',\n",
              " 'электрический',\n",
              " 'параметр',\n",
              " 'материал',\n",
              " 'изделие',\n",
              " 'испытание',\n",
              " 'наладка',\n",
              " 'дефектоскоп',\n",
              " 'изготовление',\n",
              " 'феррозондовый',\n",
              " 'датчик',\n",
              " 'определение',\n",
              " 'чувствительность',\n",
              " 'расшифровка',\n",
              " 'информация',\n",
              " 'аппаратура',\n",
              " 'феррозондовый',\n",
              " 'датчик',\n",
              " 'определение',\n",
              " 'размер',\n",
              " 'глубина',\n",
              " 'залегание',\n",
              " 'дефект',\n",
              " 'график',\n",
              " 'работа',\n",
              " 'полный',\n",
              " 'соц',\n",
              " 'пакет',\n",
              " 'работник',\n",
              " 'железнодорожный',\n",
              " 'транспорт',\n",
              " 'официальный',\n",
              " 'трудоустройство']"
            ]
          },
          "metadata": {},
          "execution_count": 93
        }
      ]
    },
    {
      "cell_type": "markdown",
      "source": [
        "## Мешок слов\n",
        "\n",
        "Мешок слов (bag-of-words) — упрощенное представление текста, которое используется в обработке естественных языков и информационном поиске. В этой модели текст представляется в виде множества его слов без какого-либо учета грамматики и порядка слов, но с сохранением информации об их количестве.\n"
      ],
      "metadata": {
        "id": "R-hzgu9t0FwM"
      }
    },
    {
      "cell_type": "code",
      "source": [
        "# CountVectorizer - класс конвертации текста в матрицу токенов\n",
        "from sklearn.feature_extraction.text import CountVectorizer"
      ],
      "metadata": {
        "id": "K-GmqI2z0TE7"
      },
      "execution_count": null,
      "outputs": []
    },
    {
      "cell_type": "code",
      "source": [
        "# Создание матрицы признаков на основе мешка слов\n",
        "count = CountVectorizer()\n",
        "bag_of_words = count.fit_transform(data['text_lemmed'])\n",
        "bag_of_words.toarray()"
      ],
      "metadata": {
        "colab": {
          "base_uri": "https://localhost:8080/"
        },
        "id": "LizFxe4lsUWg",
        "outputId": "1a106e1c-d6ba-4c2a-aefd-fe6880a69bab"
      },
      "execution_count": null,
      "outputs": [
        {
          "output_type": "execute_result",
          "data": {
            "text/plain": [
              "array([[0, 0, 0, ..., 0, 0, 0],\n",
              "       [0, 0, 0, ..., 0, 0, 0],\n",
              "       [0, 0, 0, ..., 0, 0, 0],\n",
              "       ...,\n",
              "       [0, 0, 0, ..., 0, 0, 0],\n",
              "       [0, 0, 0, ..., 0, 0, 0],\n",
              "       [0, 0, 0, ..., 0, 0, 0]])"
            ]
          },
          "metadata": {},
          "execution_count": 95
        }
      ]
    },
    {
      "cell_type": "code",
      "source": [
        "count.get_feature_names_out()  # Вывод имен признаков"
      ],
      "metadata": {
        "colab": {
          "base_uri": "https://localhost:8080/"
        },
        "id": "yAVLZ0MWsx4R",
        "outputId": "9f3ffcdf-d73c-495f-ba0c-2d32bbc0a598"
      },
      "execution_count": null,
      "outputs": [
        {
          "output_type": "execute_result",
          "data": {
            "text/plain": [
              "array(['abb', 'abigayle', 'acula', ..., 'яхтенный', 'ячейка', 'ёмкость'],\n",
              "      dtype=object)"
            ]
          },
          "metadata": {},
          "execution_count": 96
        }
      ]
    },
    {
      "cell_type": "code",
      "source": [
        "# Создание матрицы признаков для 2-грамм\n",
        "count_2gram = CountVectorizer(ngram_range=(2,2))\n",
        "bag_of_2grams = count_2gram.fit_transform(data['text_lemmed'])\n",
        "bag_of_2grams.toarray()"
      ],
      "metadata": {
        "colab": {
          "base_uri": "https://localhost:8080/"
        },
        "id": "5w2td6AKtgEM",
        "outputId": "5523d6da-7c1e-426c-ecec-a94ca0598f77"
      },
      "execution_count": null,
      "outputs": [
        {
          "output_type": "execute_result",
          "data": {
            "text/plain": [
              "array([[0, 0, 0, ..., 0, 0, 0],\n",
              "       [0, 0, 0, ..., 0, 0, 0],\n",
              "       [0, 0, 0, ..., 0, 0, 0],\n",
              "       ...,\n",
              "       [0, 0, 0, ..., 0, 0, 0],\n",
              "       [0, 0, 0, ..., 0, 0, 0],\n",
              "       [0, 0, 0, ..., 0, 0, 0]])"
            ]
          },
          "metadata": {},
          "execution_count": 97
        }
      ]
    },
    {
      "cell_type": "code",
      "source": [
        "count_2gram.get_feature_names_out()  # Вывод имен признаков"
      ],
      "metadata": {
        "colab": {
          "base_uri": "https://localhost:8080/"
        },
        "id": "-BtKCzT4uA-6",
        "outputId": "a582be15-b1e4-4057-dcd9-8e493c6fb165"
      },
      "execution_count": null,
      "outputs": [
        {
          "output_type": "execute_result",
          "data": {
            "text/plain": [
              "array(['abb danfoss', 'abigayle superfriends', 'acula nanolabs', ...,\n",
              "       'ячейка продукция', 'ячейка теплица', 'ёмкость вагон'],\n",
              "      dtype=object)"
            ]
          },
          "metadata": {},
          "execution_count": 98
        }
      ]
    },
    {
      "cell_type": "markdown",
      "source": [
        "## Взвешивание важности слов - TF-IDF\n",
        "\n",
        "TF-IDF (TF — term frequency, IDF — inverse document frequency) — статистическая мера, используемая для оценки важности слова в контексте документа, являющегося частью коллекции документов или корпуса. Вес некоторого слова (от 0 до 1) пропорционален частоте употребления этого слова в документе и обратно пропорционален частоте употребления слова во всех документах коллекции.\n",
        "\n",
        "Мера TF-IDF часто используется в задачах анализа текстов и информационного поиска, например, как один из критериев релевантности документа поисковому запросу, при расчёте меры близости документов при кластеризации или классификации."
      ],
      "metadata": {
        "id": "rp1B2dvu1cNv"
      }
    },
    {
      "cell_type": "code",
      "source": [
        "# TfidfVectorizer - класс для преобразования текста в частотные векторы слов\n",
        "from sklearn.feature_extraction.text import TfidfVectorizer"
      ],
      "metadata": {
        "id": "xmHnoMDX1g_e"
      },
      "execution_count": null,
      "outputs": []
    },
    {
      "cell_type": "code",
      "source": [
        "# Создание матрицы признаков\n",
        "tfidf = TfidfVectorizer()\n",
        "feature_matrix = tfidf.fit_transform(data['text_lemmed'])\n",
        "feature_matrix.toarray()"
      ],
      "metadata": {
        "colab": {
          "base_uri": "https://localhost:8080/"
        },
        "id": "Us1Ud4T7wjQ_",
        "outputId": "89826020-cdad-4af9-ed5c-88ec80bfab60"
      },
      "execution_count": null,
      "outputs": [
        {
          "output_type": "execute_result",
          "data": {
            "text/plain": [
              "array([[0., 0., 0., ..., 0., 0., 0.],\n",
              "       [0., 0., 0., ..., 0., 0., 0.],\n",
              "       [0., 0., 0., ..., 0., 0., 0.],\n",
              "       ...,\n",
              "       [0., 0., 0., ..., 0., 0., 0.],\n",
              "       [0., 0., 0., ..., 0., 0., 0.],\n",
              "       [0., 0., 0., ..., 0., 0., 0.]])"
            ]
          },
          "metadata": {},
          "execution_count": 100
        }
      ]
    },
    {
      "cell_type": "markdown",
      "source": [
        "## Финальный датасет"
      ],
      "metadata": {
        "id": "sMSc_YbahDGO"
      }
    },
    {
      "cell_type": "code",
      "source": [
        "# Матрица признаков\n",
        "X = data['text_lemmed']\n",
        "\n",
        "# Вектор значений целевых переменных\n",
        "y = data['Метка']\n",
        "\n",
        "labels = data['Метка'].unique() # Массив уникальных меток\n"
      ],
      "metadata": {
        "id": "wvVclcVohH4e"
      },
      "execution_count": null,
      "outputs": []
    },
    {
      "cell_type": "code",
      "source": [
        "# Разбиение на обучающую выборку (70%) и тестовую выборку (30%)\n",
        "from sklearn.model_selection import train_test_split\n",
        "X_train, X_test, y_train, y_test = train_test_split(X, y, test_size=0.3)"
      ],
      "metadata": {
        "id": "tOcXN5oGi-gr"
      },
      "execution_count": null,
      "outputs": []
    },
    {
      "cell_type": "markdown",
      "source": [
        "# Наивный байесовский классификатор (Naive Bayes Classifier)\n",
        "\n",
        "Наивный байесовский классификатор — простой вероятностный классификатор, основанный на применении теоремы Байеса со строгими (наивными) предположениями о независимости. Достоинством наивного байесовского классификатора является малое количество данных, необходимых для обучения, оценки параметров и классификации."
      ],
      "metadata": {
        "id": "-kmF1XixjTI4"
      }
    },
    {
      "cell_type": "code",
      "source": [
        "# Загрузка Naive Bayes Classifier\n",
        "from sklearn.naive_bayes import MultinomialNB\n",
        "from sklearn.pipeline import Pipeline\n",
        "from sklearn.feature_extraction.text import TfidfTransformer\n"
      ],
      "metadata": {
        "id": "2lvAOr1HjVuP"
      },
      "execution_count": null,
      "outputs": []
    },
    {
      "cell_type": "code",
      "source": [
        "# Автоматизация предварительных преобразований данных перед обучением модели \n",
        "nb = Pipeline([('vect', CountVectorizer(ngram_range=(1, 1))),\n",
        "               ('tfidf', TfidfTransformer()),\n",
        "               ('clf', MultinomialNB()), # Классификатор Naive Bayes для мультиномиальных моделей\n",
        "              ])"
      ],
      "metadata": {
        "id": "IYTu7_R0jaSV"
      },
      "execution_count": null,
      "outputs": []
    },
    {
      "cell_type": "code",
      "source": [
        "%%time\n",
        "nb.fit(X_train, y_train)   # Обучение модели"
      ],
      "metadata": {
        "colab": {
          "base_uri": "https://localhost:8080/"
        },
        "id": "K87QflcZjdia",
        "outputId": "43868598-eb1c-4cd5-ffb5-f9dcc09ed1ce"
      },
      "execution_count": null,
      "outputs": [
        {
          "output_type": "stream",
          "name": "stdout",
          "text": [
            "CPU times: user 91.5 ms, sys: 0 ns, total: 91.5 ms\n",
            "Wall time: 93.3 ms\n"
          ]
        },
        {
          "output_type": "execute_result",
          "data": {
            "text/plain": [
              "Pipeline(steps=[('vect', CountVectorizer()), ('tfidf', TfidfTransformer()),\n",
              "                ('clf', MultinomialNB())])"
            ]
          },
          "metadata": {},
          "execution_count": 105
        }
      ]
    },
    {
      "cell_type": "code",
      "source": [
        "%%time\n",
        "from sklearn.metrics import classification_report\n",
        "y_pred = nb.predict(X_test)  # Предсказание на тестовых данных"
      ],
      "metadata": {
        "colab": {
          "base_uri": "https://localhost:8080/"
        },
        "id": "1iPQqhoejsKq",
        "outputId": "c58dfacb-31c3-4d3a-eb97-f7782cd7033c"
      },
      "execution_count": null,
      "outputs": [
        {
          "output_type": "stream",
          "name": "stdout",
          "text": [
            "CPU times: user 33.3 ms, sys: 0 ns, total: 33.3 ms\n",
            "Wall time: 35.5 ms\n"
          ]
        }
      ]
    },
    {
      "cell_type": "code",
      "source": [
        "# Оценка точности классификации\n",
        "from sklearn.metrics import accuracy_score\n",
        "print('accuracy %s' % accuracy_score(y_pred, y_test))"
      ],
      "metadata": {
        "colab": {
          "base_uri": "https://localhost:8080/"
        },
        "id": "vbLiVrurlWE3",
        "outputId": "a802056b-e098-4d20-a79d-0bfe5785a02c"
      },
      "execution_count": null,
      "outputs": [
        {
          "output_type": "stream",
          "name": "stdout",
          "text": [
            "accuracy 0.6900212314225053\n"
          ]
        }
      ]
    },
    {
      "cell_type": "code",
      "source": [
        "print(classification_report(y_test, y_pred, target_names=labels))"
      ],
      "metadata": {
        "colab": {
          "base_uri": "https://localhost:8080/"
        },
        "id": "j7l_upucNY4I",
        "outputId": "0e6a8718-3a8e-46bb-b2ce-e7908bfc0345"
      },
      "execution_count": null,
      "outputs": [
        {
          "output_type": "stream",
          "name": "stdout",
          "text": [
            "              precision    recall  f1-score   support\n",
            "\n",
            "          ok       0.00      0.00      0.00        13\n",
            "        scam       0.76      0.38      0.50       128\n",
            "         fix       0.68      0.77      0.72       162\n",
            "       check       0.67      0.97      0.79       150\n",
            "        spam       1.00      0.39      0.56        18\n",
            "\n",
            "    accuracy                           0.69       471\n",
            "   macro avg       0.62      0.50      0.51       471\n",
            "weighted avg       0.69      0.69      0.66       471\n",
            "\n"
          ]
        },
        {
          "output_type": "stream",
          "name": "stderr",
          "text": [
            "/usr/local/lib/python3.7/dist-packages/sklearn/metrics/_classification.py:1318: UndefinedMetricWarning: Precision and F-score are ill-defined and being set to 0.0 in labels with no predicted samples. Use `zero_division` parameter to control this behavior.\n",
            "  _warn_prf(average, modifier, msg_start, len(result))\n",
            "/usr/local/lib/python3.7/dist-packages/sklearn/metrics/_classification.py:1318: UndefinedMetricWarning: Precision and F-score are ill-defined and being set to 0.0 in labels with no predicted samples. Use `zero_division` parameter to control this behavior.\n",
            "  _warn_prf(average, modifier, msg_start, len(result))\n",
            "/usr/local/lib/python3.7/dist-packages/sklearn/metrics/_classification.py:1318: UndefinedMetricWarning: Precision and F-score are ill-defined and being set to 0.0 in labels with no predicted samples. Use `zero_division` parameter to control this behavior.\n",
            "  _warn_prf(average, modifier, msg_start, len(result))\n"
          ]
        }
      ]
    },
    {
      "cell_type": "markdown",
      "source": [
        "### Метрики точности\n",
        "*   accuracy - доля правильных ответов\n",
        "*   precision - точность (доля объектов, названных классификатором положительными и при этом действительно являющимися положительными)  \n",
        "*   recall - полнота (доля объектов положительного класса из всех объектов положительного класса)\n",
        "*   f1-score - среднее гармоническое precision и recall \n",
        "\n",
        "Recall демонстрирует способность алгоритма обнаруживать данный класс вообще, а precision — способность отличать этот класс от других классов.\n",
        "\n",
        "F1-score - достигает максимума при полноте и точности, равными единице, и близка к нулю, если один из аргументов близок к нулю\n",
        "\n"
      ],
      "metadata": {
        "id": "Rj3mNhFw26fm"
      }
    },
    {
      "cell_type": "markdown",
      "source": [
        "# Логистическая регрессия (Logistic Regression)\n",
        "\n",
        "Cтатистическая модель, используемая для прогнозирования вероятности возникновения некоторого события путём его сравнения с логистической кривой"
      ],
      "metadata": {
        "id": "lGuCMxGcpAag"
      }
    },
    {
      "cell_type": "code",
      "source": [
        "# Загрузка логистической регрессии\n",
        "from sklearn.linear_model import LogisticRegression\n",
        "\n",
        "logreg = Pipeline([('vect', CountVectorizer(ngram_range=(1, 1))),\n",
        "                ('tfidf', TfidfTransformer()),\n",
        "                ('clf', LogisticRegression(n_jobs=1, C=1e5)),\n",
        "               ])"
      ],
      "metadata": {
        "id": "7EQvKHSEpBi4"
      },
      "execution_count": null,
      "outputs": []
    },
    {
      "cell_type": "code",
      "source": [
        "%%time\n",
        "logreg.fit(X_train, y_train) # Обучение модели"
      ],
      "metadata": {
        "colab": {
          "base_uri": "https://localhost:8080/"
        },
        "id": "OUB0a_JepF6U",
        "outputId": "2abfcb78-dea3-4f64-a25c-d4813634ade1"
      },
      "execution_count": null,
      "outputs": [
        {
          "output_type": "stream",
          "name": "stdout",
          "text": [
            "CPU times: user 1.11 s, sys: 1.14 s, total: 2.24 s\n",
            "Wall time: 1.24 s\n"
          ]
        },
        {
          "output_type": "stream",
          "name": "stderr",
          "text": [
            "/usr/local/lib/python3.7/dist-packages/sklearn/linear_model/_logistic.py:818: ConvergenceWarning: lbfgs failed to converge (status=1):\n",
            "STOP: TOTAL NO. of ITERATIONS REACHED LIMIT.\n",
            "\n",
            "Increase the number of iterations (max_iter) or scale the data as shown in:\n",
            "    https://scikit-learn.org/stable/modules/preprocessing.html\n",
            "Please also refer to the documentation for alternative solver options:\n",
            "    https://scikit-learn.org/stable/modules/linear_model.html#logistic-regression\n",
            "  extra_warning_msg=_LOGISTIC_SOLVER_CONVERGENCE_MSG,\n"
          ]
        },
        {
          "output_type": "execute_result",
          "data": {
            "text/plain": [
              "Pipeline(steps=[('vect', CountVectorizer()), ('tfidf', TfidfTransformer()),\n",
              "                ('clf', LogisticRegression(C=100000.0, n_jobs=1))])"
            ]
          },
          "metadata": {},
          "execution_count": 110
        }
      ]
    },
    {
      "cell_type": "code",
      "source": [
        "%%time\n",
        "y_pred = logreg.predict(X_test)   # Предсказание на тестовых данных"
      ],
      "metadata": {
        "colab": {
          "base_uri": "https://localhost:8080/"
        },
        "id": "zTYq-b6lpjfb",
        "outputId": "88a5d9d4-6185-41e3-b8d6-7f1400494be3"
      },
      "execution_count": null,
      "outputs": [
        {
          "output_type": "stream",
          "name": "stdout",
          "text": [
            "CPU times: user 35.6 ms, sys: 791 µs, total: 36.4 ms\n",
            "Wall time: 40.9 ms\n"
          ]
        }
      ]
    },
    {
      "cell_type": "code",
      "source": [
        "# Оценка точности классификации\n",
        "print('accuracy %s' % accuracy_score(y_pred, y_test))\n",
        "print(classification_report(y_test, y_pred, target_names=labels))"
      ],
      "metadata": {
        "colab": {
          "base_uri": "https://localhost:8080/"
        },
        "id": "63DSzU_FqGsj",
        "outputId": "10647b39-305b-4dbe-e4f9-123440891567"
      },
      "execution_count": null,
      "outputs": [
        {
          "output_type": "stream",
          "name": "stdout",
          "text": [
            "accuracy 0.8237791932059448\n",
            "              precision    recall  f1-score   support\n",
            "\n",
            "          ok       1.00      0.23      0.38        13\n",
            "        scam       0.76      0.81      0.79       128\n",
            "         fix       0.80      0.83      0.82       162\n",
            "       check       0.89      0.89      0.89       150\n",
            "        spam       1.00      0.72      0.84        18\n",
            "\n",
            "    accuracy                           0.82       471\n",
            "   macro avg       0.89      0.70      0.74       471\n",
            "weighted avg       0.83      0.82      0.82       471\n",
            "\n"
          ]
        }
      ]
    },
    {
      "cell_type": "markdown",
      "source": [
        "# Метод опорных векторов (SVM)\n",
        "\n",
        "Принадлежит семейству линейных классификаторов и может также рассматриваться как частный случай регуляризации по Тихонову. Особым свойством метода опорных векторов является непрерывное уменьшение эмпирической ошибки классификации и увеличение зазора, поэтому метод также известен как метод классификатора с максимальным зазором.\n",
        "\n",
        "Основная идея метода — перевод исходных векторов в пространство более высокой размерности и поиск разделяющей гиперплоскости с наибольшим зазором в этом пространстве\n"
      ],
      "metadata": {
        "id": "H8Qx722moPxY"
      }
    },
    {
      "cell_type": "code",
      "source": [
        "# Загрузка SVM\n",
        "from sklearn.linear_model import SGDClassifier\n",
        "\n",
        "sgd = Pipeline([('vect', CountVectorizer(ngram_range=(1, 1))),\n",
        "                ('tfidf', TfidfTransformer()),\n",
        "                ('clf', SGDClassifier(loss='hinge', penalty='l2',alpha=1e-3, random_state=0, max_iter=10, tol=None)),\n",
        "               ])"
      ],
      "metadata": {
        "id": "c485p62KoVck"
      },
      "execution_count": null,
      "outputs": []
    },
    {
      "cell_type": "code",
      "source": [
        "%%time\n",
        "sgd.fit(X_train, y_train)  # Обучение модели"
      ],
      "metadata": {
        "colab": {
          "base_uri": "https://localhost:8080/"
        },
        "id": "C3lh50jqodbM",
        "outputId": "b694f181-5237-4b54-d03c-e6839facacb7"
      },
      "execution_count": null,
      "outputs": [
        {
          "output_type": "stream",
          "name": "stdout",
          "text": [
            "CPU times: user 111 ms, sys: 1.02 ms, total: 112 ms\n",
            "Wall time: 115 ms\n"
          ]
        },
        {
          "output_type": "execute_result",
          "data": {
            "text/plain": [
              "Pipeline(steps=[('vect', CountVectorizer()), ('tfidf', TfidfTransformer()),\n",
              "                ('clf',\n",
              "                 SGDClassifier(alpha=0.001, max_iter=10, random_state=0,\n",
              "                               tol=None))])"
            ]
          },
          "metadata": {},
          "execution_count": 114
        }
      ]
    },
    {
      "cell_type": "code",
      "source": [
        "%%time\n",
        "y_pred = sgd.predict(X_test) # Предсказание на тестовых данных"
      ],
      "metadata": {
        "colab": {
          "base_uri": "https://localhost:8080/"
        },
        "id": "czSr4DX3ogDl",
        "outputId": "07b07d7b-7409-4dcb-bb73-cdced4842793"
      },
      "execution_count": null,
      "outputs": [
        {
          "output_type": "stream",
          "name": "stdout",
          "text": [
            "CPU times: user 37.7 ms, sys: 2.96 ms, total: 40.7 ms\n",
            "Wall time: 43.1 ms\n"
          ]
        }
      ]
    },
    {
      "cell_type": "code",
      "source": [
        "# Оценка точности классификации\n",
        "print('accuracy %s' % accuracy_score(y_pred, y_test))\n",
        "print(classification_report(y_test, y_pred, target_names=labels))"
      ],
      "metadata": {
        "colab": {
          "base_uri": "https://localhost:8080/"
        },
        "id": "QD-R1JGqoouE",
        "outputId": "37a5046a-12f7-4e07-c6a8-c304da12a5d8"
      },
      "execution_count": null,
      "outputs": [
        {
          "output_type": "stream",
          "name": "stdout",
          "text": [
            "accuracy 0.8195329087048833\n",
            "              precision    recall  f1-score   support\n",
            "\n",
            "          ok       1.00      0.31      0.47        13\n",
            "        scam       0.76      0.77      0.76       128\n",
            "         fix       0.77      0.83      0.80       162\n",
            "       check       0.91      0.91      0.91       150\n",
            "        spam       1.00      0.72      0.84        18\n",
            "\n",
            "    accuracy                           0.82       471\n",
            "   macro avg       0.89      0.71      0.76       471\n",
            "weighted avg       0.83      0.82      0.82       471\n",
            "\n"
          ]
        }
      ]
    },
    {
      "cell_type": "markdown",
      "source": [
        "# Нейронные сети, применяемые для классификации текста\n",
        "\n",
        "*   CNN (convolutional neural network)— свёрточная нейронная сеть;\n",
        "*   RNN (recurrent neural network) — рекуррентная нейронная сеть;\n",
        "*   LSTM (long short term memory) — долгая краткосрочная память,\n",
        "разновидность архитектуры рекуррентных нейронных сетей."
      ],
      "metadata": {
        "id": "sPcmAHQa4mYB"
      }
    },
    {
      "cell_type": "markdown",
      "source": [
        "## CNN"
      ],
      "metadata": {
        "id": "XMI3zLq7kEg0"
      }
    },
    {
      "cell_type": "markdown",
      "source": [
        "Сверточные нейронные сети очень эффективно используются для решения задачи\n",
        "классификации текста. Результат классификации представляет собой распределение\n",
        "вероятностей принадлежности текста к заранее известным классам.\n",
        "Базовая архитектура сверточной нейронной сети состоит из следующих слоев:\n",
        "1. Сверточный слой, который представляет собой набор карт признаков (матриц), у каждой карты есть ядро свертки, представляющее собой фильтр или окно, которое скользит по всей области карты признаков. Набор фильтров определяет размерность новой матрицы. Алгоритм обратного распространения ошибки для сверточных сетей также является сверткой, но с пространственно перевернутыми фильтрами.\n",
        "2. Cубдискретизирующий слой, который уменьшает размер матрицы, на данном слое чаще всего используется метод максимального элемента (max-pooling)\n",
        "3. Полносвязный слой, в котором каждый нейрон соединен со всеми нейронами на\n",
        "предыдущем уровне, причем каждая связь имеет свой весовой коэффициент.\n",
        "4. **Выходной слой**, который связан со всеми нейронами предыдущего слоя. **Количество\n",
        "нейронов соответствует количеству распознаваемых классов**."
      ],
      "metadata": {
        "id": "CZw0XFkn4aHr"
      }
    },
    {
      "cell_type": "code",
      "source": [
        "%tensorflow_version 2.x\n",
        "from tensorflow.keras.models import Sequential\n",
        "from tensorflow.keras.layers import Dense, Embedding, MaxPooling1D, Conv1D, GlobalMaxPooling1D, Dropout, LSTM, GRU\n",
        "from tensorflow.keras import utils\n",
        "from tensorflow.keras.preprocessing.sequence import pad_sequences\n",
        "from tensorflow.keras.preprocessing.text import Tokenizer\n",
        "from tensorflow.keras.callbacks import ModelCheckpoint\n",
        "from tensorflow.keras import utils\n",
        "import pandas as pd\n",
        "import numpy as np\n",
        "import matplotlib.pyplot as plt\n",
        "%matplotlib inline "
      ],
      "metadata": {
        "id": "gY_c82pvkKLp"
      },
      "execution_count": null,
      "outputs": []
    },
    {
      "cell_type": "code",
      "source": [
        "# Максимальное количество слов \n",
        "num_words = 10000\n",
        "# Максимальная длина текста\n",
        "max_text_len = 100\n",
        "# Количество классов \n",
        "nb_classes = 5"
      ],
      "metadata": {
        "id": "50POtM48k3u5"
      },
      "execution_count": null,
      "outputs": []
    },
    {
      "cell_type": "code",
      "source": [
        "tokenizer = Tokenizer(num_words=num_words, filters='!\"“”‚#$%&amp;()*+,-—./:;&lt;=>?@[\\\\]^_`{|}~\\t\\n\\xa0')"
      ],
      "metadata": {
        "id": "jy0N4L5pma7a"
      },
      "execution_count": null,
      "outputs": []
    },
    {
      "cell_type": "code",
      "source": [
        "tokenizer.fit_on_texts(data['text_processed'])"
      ],
      "metadata": {
        "id": "aB51nFxfmeGH"
      },
      "execution_count": null,
      "outputs": []
    },
    {
      "cell_type": "code",
      "source": [
        "sequences = tokenizer.texts_to_sequences(data['text_processed'])"
      ],
      "metadata": {
        "id": "gOJ8T_-onY-L"
      },
      "execution_count": null,
      "outputs": []
    },
    {
      "cell_type": "code",
      "source": [
        "index = 500\n",
        "print(data['text_processed'][index])\n",
        "print(sequences[index])"
      ],
      "metadata": {
        "colab": {
          "base_uri": "https://localhost:8080/"
        },
        "id": "RX84jlqLnghS",
        "outputId": "a11be81d-2bbf-45ea-ec2f-cfbb2581e4ed"
      },
      "execution_count": null,
      "outputs": [
        {
          "output_type": "stream",
          "name": "stdout",
          "text": [
            "оператор погрузо разгрузочных работ лента одна из крупнейших федеральных розничных сетей россии приглашает на должность оператора погрузо разгрузочных работ тк ул великая а среднее или среднее профессиональное образование опыт управления погрузо разгрузочной техникой электроштабелер электротележка не менее года наличие документа на право управления погрузо разгрузочной техникой права тракториста машиниста разгрузка автотранспорта с использованием погрузо разгрузочной техники или вручную перемещение товара на складе и в торговом зале погрузо разгрузочные работы в торговом зале сбор и вывоз отработанной тары официальное оформление с ого рабочего дня стабильная выплата заработной платы раза в месяц вознаграждение в связи с трудоустройством к часовой ставке за первый месяц работы ежемесячное премирование по результатам работы оформление личной медицинской книжки за счет компании дополнительная скидка для сотрудников в магазинах «лента» система надбавок выслуга лет особые условия труда бесплатная медицинская страховка льготное питание гибкий график работы бесплатная униформа внутрикорпоративное обучение возможность участия в профессиональных и корпоративных конкурсах подарки для сотрудников и для детей на праздники nan\n",
            "[300, 770, 1421, 123, 2073, 2402, 99, 1691, 3166, 2117, 479, 224, 339, 5, 323, 2258, 770, 1421, 123, 37, 182, 4477, 116, 291, 26, 291, 418, 38, 12, 528, 770, 2324, 968, 6375, 6376, 16, 314, 91, 47, 3340, 5, 900, 528, 770, 2324, 968, 925, 2505, 1693, 1151, 2026, 4, 1786, 770, 2324, 363, 26, 2830, 1115, 127, 5, 598, 2, 1, 563, 503, 770, 1024, 6, 1, 563, 503, 356, 2, 3800, 3859, 3079, 36, 19, 4, 3024, 281, 211, 190, 167, 164, 171, 101, 1, 46, 870, 1, 144, 4, 2356, 30, 769, 3168, 14, 814, 46, 6, 2322, 1418, 7, 253, 6, 19, 1706, 294, 180, 14, 100, 21, 1718, 2399, 13, 83, 1, 1148, 3169, 553, 2075, 1547, 20, 2323, 173, 87, 500, 825, 1918, 2537, 63, 122, 10, 6, 500, 855, 2325, 24, 33, 1118, 1, 1191, 2, 1004, 2076, 977, 13, 83, 2, 13, 765, 5, 1661, 3, 3]\n"
          ]
        }
      ]
    },
    {
      "cell_type": "code",
      "source": [
        "X_train = sequences\n"
      ],
      "metadata": {
        "id": "qqcXpLd1nzRi"
      },
      "execution_count": null,
      "outputs": []
    },
    {
      "cell_type": "code",
      "source": [
        "X_train = pad_sequences(sequences, maxlen=max_text_len)\n",
        "X_train"
      ],
      "metadata": {
        "colab": {
          "base_uri": "https://localhost:8080/"
        },
        "id": "xKE6QipVwhvD",
        "outputId": "bd4a46a6-5fcc-4bd1-f3d2-2188084988b6"
      },
      "execution_count": null,
      "outputs": [
        {
          "output_type": "execute_result",
          "data": {
            "text/plain": [
              "array([[  0,   0,   0, ...,  42,   3,   3],\n",
              "       [  0,   0,   0, ...,  23,   3,   3],\n",
              "       [  0,   0,   0, ..., 124,   3,   3],\n",
              "       ...,\n",
              "       [  0,   0,   0, ..., 114,   3,   3],\n",
              "       [  0,   0,   0, ..., 298,   3,   3],\n",
              "       [  0,   0,   0, ...,  74,   3,   3]], dtype=int32)"
            ]
          },
          "metadata": {},
          "execution_count": 124
        }
      ]
    },
    {
      "cell_type": "code",
      "source": [
        "classes = ['ok', 'scam', 'fix', 'check', 'spam']\n",
        "d = dict(zip(classes, range(0,5)))\n",
        "y = data['Метка'].map(d, na_action='ignore')\n"
      ],
      "metadata": {
        "id": "0B-N0iaTpG5s"
      },
      "execution_count": null,
      "outputs": []
    },
    {
      "cell_type": "code",
      "source": [
        "y"
      ],
      "metadata": {
        "colab": {
          "base_uri": "https://localhost:8080/"
        },
        "id": "El3sx43DvVU9",
        "outputId": "824b24a6-b9a1-4a10-c0e3-5c79f235229d"
      },
      "execution_count": null,
      "outputs": [
        {
          "output_type": "execute_result",
          "data": {
            "text/plain": [
              "0       0\n",
              "1       1\n",
              "2       1\n",
              "3       1\n",
              "4       2\n",
              "       ..\n",
              "1563    0\n",
              "1564    2\n",
              "1565    2\n",
              "1566    2\n",
              "1567    2\n",
              "Name: Метка, Length: 1568, dtype: int64"
            ]
          },
          "metadata": {},
          "execution_count": 126
        }
      ]
    },
    {
      "cell_type": "code",
      "source": [
        "y_train = utils.to_categorical(y, 5)\n",
        "y_train[:5]"
      ],
      "metadata": {
        "colab": {
          "base_uri": "https://localhost:8080/"
        },
        "id": "2mPFT5WQu0cb",
        "outputId": "2ba39f68-8100-4cd4-ac6d-2d1b2c9fba98"
      },
      "execution_count": null,
      "outputs": [
        {
          "output_type": "execute_result",
          "data": {
            "text/plain": [
              "array([[1., 0., 0., 0., 0.],\n",
              "       [0., 1., 0., 0., 0.],\n",
              "       [0., 1., 0., 0., 0.],\n",
              "       [0., 1., 0., 0., 0.],\n",
              "       [0., 0., 1., 0., 0.]], dtype=float32)"
            ]
          },
          "metadata": {},
          "execution_count": 127
        }
      ]
    },
    {
      "cell_type": "code",
      "source": [
        "model_cnn = Sequential()\n",
        "model_cnn.add(Embedding(num_words, 32, input_length=max_text_len)) # ?????\n",
        "model_cnn.add(Conv1D(250, 5, padding='valid', activation='relu'))\n",
        "model_cnn.add(GlobalMaxPooling1D())\n",
        "model_cnn.add(Dense(128, activation='relu'))\n",
        "model_cnn.add(Dense(5, activation='softmax'))"
      ],
      "metadata": {
        "id": "IG-tsXr4oDOK"
      },
      "execution_count": null,
      "outputs": []
    },
    {
      "cell_type": "code",
      "source": [
        "model_cnn.compile(optimizer='adam', \n",
        "              loss='categorical_crossentropy', \n",
        "              metrics=['accuracy'])"
      ],
      "metadata": {
        "id": "TWquCekto6kN"
      },
      "execution_count": null,
      "outputs": []
    },
    {
      "cell_type": "code",
      "source": [
        "model_cnn_save_path = 'best_model_cnn.h5'\n",
        "checkpoint_callback_cnn = ModelCheckpoint(model_cnn_save_path, \n",
        "                                      monitor='val_accuracy',\n",
        "                                      save_best_only=True,\n",
        "                                      verbose=1)"
      ],
      "metadata": {
        "id": "M9D95hApoY5R"
      },
      "execution_count": null,
      "outputs": []
    },
    {
      "cell_type": "code",
      "source": [
        "history_cnn = model_cnn.fit(X_train, \n",
        "                            y_train, \n",
        "                            epochs=10,\n",
        "                            batch_size=32,\n",
        "                            validation_split=0.1,\n",
        "                            callbacks=[checkpoint_callback_cnn])"
      ],
      "metadata": {
        "colab": {
          "base_uri": "https://localhost:8080/"
        },
        "id": "L9kR0qpnodFa",
        "outputId": "a54ce04a-9c01-4697-9273-c0c844a3818a"
      },
      "execution_count": null,
      "outputs": [
        {
          "output_type": "stream",
          "name": "stdout",
          "text": [
            "Epoch 1/10\n",
            "43/45 [===========================>..] - ETA: 0s - loss: 1.3571 - accuracy: 0.3663\n",
            "Epoch 1: val_accuracy improved from -inf to 0.36306, saving model to best_model_cnn.h5\n",
            "45/45 [==============================] - 2s 37ms/step - loss: 1.3500 - accuracy: 0.3657 - val_loss: 1.2328 - val_accuracy: 0.3631\n",
            "Epoch 2/10\n",
            "43/45 [===========================>..] - ETA: 0s - loss: 1.0447 - accuracy: 0.6483\n",
            "Epoch 2: val_accuracy improved from 0.36306 to 0.75796, saving model to best_model_cnn.h5\n",
            "45/45 [==============================] - 1s 31ms/step - loss: 1.0340 - accuracy: 0.6534 - val_loss: 0.8063 - val_accuracy: 0.7580\n",
            "Epoch 3/10\n",
            "43/45 [===========================>..] - ETA: 0s - loss: 0.6337 - accuracy: 0.7892\n",
            "Epoch 3: val_accuracy improved from 0.75796 to 0.82166, saving model to best_model_cnn.h5\n",
            "45/45 [==============================] - 1s 32ms/step - loss: 0.6262 - accuracy: 0.7916 - val_loss: 0.5683 - val_accuracy: 0.8217\n",
            "Epoch 4/10\n",
            "43/45 [===========================>..] - ETA: 0s - loss: 0.3626 - accuracy: 0.8743\n",
            "Epoch 4: val_accuracy did not improve from 0.82166\n",
            "45/45 [==============================] - 1s 31ms/step - loss: 0.3558 - accuracy: 0.8774 - val_loss: 0.5108 - val_accuracy: 0.8217\n",
            "Epoch 5/10\n",
            "43/45 [===========================>..] - ETA: 0s - loss: 0.1813 - accuracy: 0.9484\n",
            "Epoch 5: val_accuracy did not improve from 0.82166\n",
            "45/45 [==============================] - 1s 31ms/step - loss: 0.1806 - accuracy: 0.9483 - val_loss: 0.4983 - val_accuracy: 0.8153\n",
            "Epoch 6/10\n",
            "43/45 [===========================>..] - ETA: 0s - loss: 0.0829 - accuracy: 0.9811\n",
            "Epoch 6: val_accuracy did not improve from 0.82166\n",
            "45/45 [==============================] - 1s 30ms/step - loss: 0.0823 - accuracy: 0.9809 - val_loss: 0.5147 - val_accuracy: 0.8153\n",
            "Epoch 7/10\n",
            "43/45 [===========================>..] - ETA: 0s - loss: 0.0448 - accuracy: 0.9935\n",
            "Epoch 7: val_accuracy did not improve from 0.82166\n",
            "45/45 [==============================] - 1s 30ms/step - loss: 0.0439 - accuracy: 0.9936 - val_loss: 0.5652 - val_accuracy: 0.8217\n",
            "Epoch 8/10\n",
            "43/45 [===========================>..] - ETA: 0s - loss: 0.0267 - accuracy: 0.9956\n",
            "Epoch 8: val_accuracy did not improve from 0.82166\n",
            "45/45 [==============================] - 1s 31ms/step - loss: 0.0273 - accuracy: 0.9957 - val_loss: 0.5911 - val_accuracy: 0.8153\n",
            "Epoch 9/10\n",
            "43/45 [===========================>..] - ETA: 0s - loss: 0.0162 - accuracy: 0.9978\n",
            "Epoch 9: val_accuracy did not improve from 0.82166\n",
            "45/45 [==============================] - 1s 31ms/step - loss: 0.0162 - accuracy: 0.9979 - val_loss: 0.6230 - val_accuracy: 0.8153\n",
            "Epoch 10/10\n",
            "43/45 [===========================>..] - ETA: 0s - loss: 0.0121 - accuracy: 0.9985\n",
            "Epoch 10: val_accuracy did not improve from 0.82166\n",
            "45/45 [==============================] - 1s 30ms/step - loss: 0.0119 - accuracy: 0.9986 - val_loss: 0.6635 - val_accuracy: 0.8217\n"
          ]
        }
      ]
    },
    {
      "cell_type": "code",
      "source": [
        "plt.plot(history_cnn.history['accuracy'], \n",
        "         label='Доля верных ответов на обучающем наборе')\n",
        "plt.plot(history_cnn.history['val_accuracy'], \n",
        "         label='Доля верных ответов на проверочном наборе')\n",
        "plt.xlabel('Эпоха обучения')\n",
        "plt.ylabel('Доля верных ответов')\n",
        "plt.legend()\n",
        "plt.show()"
      ],
      "metadata": {
        "colab": {
          "base_uri": "https://localhost:8080/",
          "height": 279
        },
        "id": "tGE5B5HQzBke",
        "outputId": "5dc82a6c-9331-417c-b4d8-90a43c0f6002"
      },
      "execution_count": null,
      "outputs": [
        {
          "output_type": "display_data",
          "data": {
            "text/plain": [
              "<Figure size 432x288 with 1 Axes>"
            ],
            "image/png": "[encoded data removed]"
          },
          "metadata": {
            "needs_background": "light"
          }
        }
      ]
    },
    {
      "cell_type": "markdown",
      "source": [
        "## LSTM\n",
        "\n",
        "Длинная цепь элементов краткосрочной памяти (Long short-term memory, LSTM) — разновидность архитектуры рекуррентных нейронных сетей. Как и большинство рекуррентных нейронных сетей, LSTM-сеть является универсальной, однако хорошо приспособлена к обучению на задачах классификации. Содержит LSTM-модули — это рекуррентный модуль сети, способный запоминать значения как на короткие, так и на длинные промежутки времени. \n"
      ],
      "metadata": {
        "id": "S2TIGAo_2zfF"
      }
    },
    {
      "cell_type": "code",
      "source": [
        "model_lstm = Sequential()\n",
        "model_lstm.add(Embedding(num_words, 32, input_length=max_text_len))\n",
        "model_lstm.add(LSTM(16))\n",
        "model_lstm.add(Dense(5, activation='softmax'))"
      ],
      "metadata": {
        "id": "dFEb59Vh26QF"
      },
      "execution_count": null,
      "outputs": []
    },
    {
      "cell_type": "code",
      "source": [
        "model_lstm.compile(optimizer='adam', \n",
        "              loss='categorical_crossentropy', \n",
        "              metrics=['accuracy'])"
      ],
      "metadata": {
        "id": "kKMZe56B-Vs7"
      },
      "execution_count": null,
      "outputs": []
    },
    {
      "cell_type": "code",
      "source": [
        "model_lstm_save_path = 'best_model_lstm.h5'\n",
        "checkpoint_callback_lstm = ModelCheckpoint(model_lstm_save_path, \n",
        "                                      monitor='val_accuracy',\n",
        "                                      save_best_only=True,\n",
        "                                      verbose=1)"
      ],
      "metadata": {
        "id": "M9ZGjFkT-dMi"
      },
      "execution_count": null,
      "outputs": []
    },
    {
      "cell_type": "code",
      "source": [
        "history_lstm = model_lstm.fit(X_train, \n",
        "                              y_train, \n",
        "                              epochs=10,\n",
        "                              batch_size=32,\n",
        "                              validation_split=0.1,\n",
        "                              callbacks=[checkpoint_callback_lstm])"
      ],
      "metadata": {
        "colab": {
          "base_uri": "https://localhost:8080/"
        },
        "id": "3lutWWPS-ggy",
        "outputId": "68f6b72b-66ff-4efa-b4fe-deb4587e4697"
      },
      "execution_count": null,
      "outputs": [
        {
          "output_type": "stream",
          "name": "stdout",
          "text": [
            "Epoch 1/10\n",
            "45/45 [==============================] - ETA: 0s - loss: 1.5151 - accuracy: 0.3459\n",
            "Epoch 1: val_accuracy improved from -inf to 0.36306, saving model to best_model_lstm.h5\n",
            "45/45 [==============================] - 5s 71ms/step - loss: 1.5151 - accuracy: 0.3459 - val_loss: 1.3257 - val_accuracy: 0.3631\n",
            "Epoch 2/10\n",
            "45/45 [==============================] - ETA: 0s - loss: 1.2005 - accuracy: 0.4600\n",
            "Epoch 2: val_accuracy improved from 0.36306 to 0.59873, saving model to best_model_lstm.h5\n",
            "45/45 [==============================] - 2s 45ms/step - loss: 1.2005 - accuracy: 0.4600 - val_loss: 1.0140 - val_accuracy: 0.5987\n",
            "Epoch 3/10\n",
            "44/45 [============================>.] - ETA: 0s - loss: 0.8619 - accuracy: 0.6861\n",
            "Epoch 3: val_accuracy improved from 0.59873 to 0.69427, saving model to best_model_lstm.h5\n",
            "45/45 [==============================] - 2s 46ms/step - loss: 0.8627 - accuracy: 0.6846 - val_loss: 0.8570 - val_accuracy: 0.6943\n",
            "Epoch 4/10\n",
            "45/45 [==============================] - ETA: 0s - loss: 0.7027 - accuracy: 0.7810\n",
            "Epoch 4: val_accuracy did not improve from 0.69427\n",
            "45/45 [==============================] - 2s 46ms/step - loss: 0.7027 - accuracy: 0.7810 - val_loss: 0.7992 - val_accuracy: 0.6879\n",
            "Epoch 5/10\n",
            "45/45 [==============================] - ETA: 0s - loss: 0.5451 - accuracy: 0.8653\n",
            "Epoch 5: val_accuracy improved from 0.69427 to 0.75159, saving model to best_model_lstm.h5\n",
            "45/45 [==============================] - 2s 46ms/step - loss: 0.5451 - accuracy: 0.8653 - val_loss: 0.7359 - val_accuracy: 0.7516\n",
            "Epoch 6/10\n",
            "45/45 [==============================] - ETA: 0s - loss: 0.3693 - accuracy: 0.9277\n",
            "Epoch 6: val_accuracy improved from 0.75159 to 0.76433, saving model to best_model_lstm.h5\n",
            "45/45 [==============================] - 2s 45ms/step - loss: 0.3693 - accuracy: 0.9277 - val_loss: 0.7426 - val_accuracy: 0.7643\n",
            "Epoch 7/10\n",
            "45/45 [==============================] - ETA: 0s - loss: 0.2712 - accuracy: 0.9468\n",
            "Epoch 7: val_accuracy did not improve from 0.76433\n",
            "45/45 [==============================] - 2s 45ms/step - loss: 0.2712 - accuracy: 0.9468 - val_loss: 0.7578 - val_accuracy: 0.7643\n",
            "Epoch 8/10\n",
            "44/45 [============================>.] - ETA: 0s - loss: 0.2139 - accuracy: 0.9560\n",
            "Epoch 8: val_accuracy did not improve from 0.76433\n",
            "45/45 [==============================] - 2s 45ms/step - loss: 0.2138 - accuracy: 0.9561 - val_loss: 0.7556 - val_accuracy: 0.7452\n",
            "Epoch 9/10\n",
            "45/45 [==============================] - ETA: 0s - loss: 0.2208 - accuracy: 0.9497\n",
            "Epoch 9: val_accuracy did not improve from 0.76433\n",
            "45/45 [==============================] - 2s 46ms/step - loss: 0.2208 - accuracy: 0.9497 - val_loss: 0.7911 - val_accuracy: 0.7452\n",
            "Epoch 10/10\n",
            "44/45 [============================>.] - ETA: 0s - loss: 0.1498 - accuracy: 0.9659\n",
            "Epoch 10: val_accuracy did not improve from 0.76433\n",
            "45/45 [==============================] - 2s 46ms/step - loss: 0.1496 - accuracy: 0.9660 - val_loss: 0.8388 - val_accuracy: 0.7389\n"
          ]
        }
      ]
    },
    {
      "cell_type": "code",
      "source": [
        "plt.plot(history_lstm.history['accuracy'], \n",
        "         label='Доля верных ответов на обучающем наборе')\n",
        "plt.plot(history_lstm.history['val_accuracy'], \n",
        "         label='Доля верных ответов на проверочном наборе')\n",
        "plt.xlabel('Эпоха обучения')\n",
        "plt.ylabel('Доля верных ответов')\n",
        "plt.legend()\n",
        "plt.show()"
      ],
      "metadata": {
        "colab": {
          "base_uri": "https://localhost:8080/",
          "height": 279
        },
        "id": "t8pmhIqt-01S",
        "outputId": "68cdfe7c-6fcf-4198-bca4-b2979fb065a9"
      },
      "execution_count": null,
      "outputs": [
        {
          "output_type": "display_data",
          "data": {
            "text/plain": [
              "<Figure size 432x288 with 1 Axes>"
            ],
            "image/png": "[encoded data removed]"
          },
          "metadata": {
            "needs_background": "light"
          }
        }
      ]
    },
    {
      "cell_type": "markdown",
      "source": [
        "## GRU\n",
        "\n",
        "Управляемый рекуррентный блок (Gated recurrent units; GRU) - механизм управления рекуррентной нейронной сети (Recurrent neural network; RNN)"
      ],
      "metadata": {
        "id": "8u-R5F7tAeDU"
      }
    },
    {
      "cell_type": "code",
      "source": [
        "model_gru = Sequential()\n",
        "model_gru.add(Embedding(num_words, 32, input_length=max_text_len))\n",
        "model_gru.add(GRU(16))\n",
        "model_gru.add(Dense(5, activation='softmax'))"
      ],
      "metadata": {
        "id": "uKDCMRKOAh25"
      },
      "execution_count": null,
      "outputs": []
    },
    {
      "cell_type": "code",
      "source": [
        "model_gru.compile(optimizer='adam', \n",
        "              loss='categorical_crossentropy', \n",
        "              metrics=['accuracy'])"
      ],
      "metadata": {
        "id": "O8J0AlI7AoPJ"
      },
      "execution_count": null,
      "outputs": []
    },
    {
      "cell_type": "code",
      "source": [
        "model_gru_save_path = 'best_model_gru.h5'\n",
        "checkpoint_callback_gru = ModelCheckpoint(model_gru_save_path, \n",
        "                                      monitor='val_accuracy',\n",
        "                                      save_best_only=True,\n",
        "                                      verbose=1)"
      ],
      "metadata": {
        "id": "KaPkHcjGAwoz"
      },
      "execution_count": null,
      "outputs": []
    },
    {
      "cell_type": "code",
      "source": [
        "history_gru = model_gru.fit(X_train, \n",
        "                              y_train, \n",
        "                              epochs=10,\n",
        "                              batch_size=32,\n",
        "                              validation_split=0.1,\n",
        "                              callbacks=[checkpoint_callback_gru])"
      ],
      "metadata": {
        "colab": {
          "base_uri": "https://localhost:8080/"
        },
        "id": "Mg0pUOcMAz6i",
        "outputId": "7c2f3747-cc9c-489b-9f93-2a406f6fca18"
      },
      "execution_count": null,
      "outputs": [
        {
          "output_type": "stream",
          "name": "stdout",
          "text": [
            "Epoch 1/10\n",
            "44/45 [============================>.] - ETA: 0s - loss: 1.4862 - accuracy: 0.3608\n",
            "Epoch 1: val_accuracy improved from -inf to 0.38854, saving model to best_model_gru.h5\n",
            "45/45 [==============================] - 5s 62ms/step - loss: 1.4864 - accuracy: 0.3600 - val_loss: 1.3491 - val_accuracy: 0.3885\n",
            "Epoch 2/10\n",
            "44/45 [============================>.] - ETA: 0s - loss: 1.2766 - accuracy: 0.4645\n",
            "Epoch 2: val_accuracy improved from 0.38854 to 0.49682, saving model to best_model_gru.h5\n",
            "45/45 [==============================] - 2s 49ms/step - loss: 1.2760 - accuracy: 0.4642 - val_loss: 1.2570 - val_accuracy: 0.4968\n",
            "Epoch 3/10\n",
            "44/45 [============================>.] - ETA: 0s - loss: 1.1716 - accuracy: 0.5483\n",
            "Epoch 3: val_accuracy improved from 0.49682 to 0.57962, saving model to best_model_gru.h5\n",
            "45/45 [==============================] - 2s 49ms/step - loss: 1.1717 - accuracy: 0.5478 - val_loss: 1.1920 - val_accuracy: 0.5796\n",
            "Epoch 4/10\n",
            "44/45 [============================>.] - ETA: 0s - loss: 0.9999 - accuracy: 0.6626\n",
            "Epoch 4: val_accuracy improved from 0.57962 to 0.64331, saving model to best_model_gru.h5\n",
            "45/45 [==============================] - 2s 49ms/step - loss: 0.9987 - accuracy: 0.6634 - val_loss: 0.9944 - val_accuracy: 0.6433\n",
            "Epoch 5/10\n",
            "45/45 [==============================] - ETA: 0s - loss: 0.7295 - accuracy: 0.7456\n",
            "Epoch 5: val_accuracy did not improve from 0.64331\n",
            "45/45 [==============================] - 2s 52ms/step - loss: 0.7295 - accuracy: 0.7456 - val_loss: 0.8880 - val_accuracy: 0.6306\n",
            "Epoch 6/10\n",
            "44/45 [============================>.] - ETA: 0s - loss: 0.5986 - accuracy: 0.8047\n",
            "Epoch 6: val_accuracy improved from 0.64331 to 0.71338, saving model to best_model_gru.h5\n",
            "45/45 [==============================] - 2s 49ms/step - loss: 0.5984 - accuracy: 0.8044 - val_loss: 0.8281 - val_accuracy: 0.7134\n",
            "Epoch 7/10\n",
            "44/45 [============================>.] - ETA: 0s - loss: 0.4767 - accuracy: 0.8764\n",
            "Epoch 7: val_accuracy improved from 0.71338 to 0.72611, saving model to best_model_gru.h5\n",
            "45/45 [==============================] - 2s 50ms/step - loss: 0.4768 - accuracy: 0.8760 - val_loss: 0.7939 - val_accuracy: 0.7261\n",
            "Epoch 8/10\n",
            "45/45 [==============================] - ETA: 0s - loss: 0.3726 - accuracy: 0.9029\n",
            "Epoch 8: val_accuracy did not improve from 0.72611\n",
            "45/45 [==============================] - 2s 49ms/step - loss: 0.3726 - accuracy: 0.9029 - val_loss: 0.8246 - val_accuracy: 0.7261\n",
            "Epoch 9/10\n",
            "44/45 [============================>.] - ETA: 0s - loss: 0.2721 - accuracy: 0.9318\n",
            "Epoch 9: val_accuracy improved from 0.72611 to 0.73885, saving model to best_model_gru.h5\n",
            "45/45 [==============================] - 2s 51ms/step - loss: 0.2722 - accuracy: 0.9320 - val_loss: 0.8288 - val_accuracy: 0.7389\n",
            "Epoch 10/10\n",
            "44/45 [============================>.] - ETA: 0s - loss: 0.2064 - accuracy: 0.9496\n",
            "Epoch 10: val_accuracy improved from 0.73885 to 0.74522, saving model to best_model_gru.h5\n",
            "45/45 [==============================] - 2s 50ms/step - loss: 0.2062 - accuracy: 0.9497 - val_loss: 0.8605 - val_accuracy: 0.7452\n"
          ]
        }
      ]
    },
    {
      "cell_type": "code",
      "source": [
        "plt.plot(history_gru.history['accuracy'], \n",
        "         label='Доля верных ответов на обучающем наборе')\n",
        "plt.plot(history_gru.history['val_accuracy'], \n",
        "         label='Доля верных ответов на проверочном наборе')\n",
        "plt.xlabel('Эпоха обучения')\n",
        "plt.ylabel('Доля верных ответов')\n",
        "plt.legend()\n",
        "plt.show()"
      ],
      "metadata": {
        "colab": {
          "base_uri": "https://localhost:8080/",
          "height": 279
        },
        "id": "1l7x8Ei-BAc1",
        "outputId": "2e23891d-aa59-4782-c753-7499da921cff"
      },
      "execution_count": null,
      "outputs": [
        {
          "output_type": "display_data",
          "data": {
            "text/plain": [
              "<Figure size 432x288 with 1 Axes>"
            ],
            "image/png": "[encoded data removed]"
          },
          "metadata": {
            "needs_background": "light"
          }
        }
      ]
    },
    {
      "cell_type": "markdown",
      "source": [
        "# Рекомендации по улучшению результата\n",
        "\n",
        "*   Более объемный датасет\n",
        "*   Сбалансированный датасет (или методы балансировки)\n",
        "*   Добавление признаков\n",
        "*   Создание новых признаков\n",
        "*   Переход от слов, к н-граммам и фразам\n",
        "*   Тестирование различных методов машинного обучения\n",
        "*   Точная настройка моделей машинного обучения\n",
        "\n"
      ],
      "metadata": {
        "id": "vxZJEDl8Crav"
      }
    },
    {
      "cell_type": "markdown",
      "source": [
        ""
      ],
      "metadata": {
        "id": "UolT9P3hC6N7"
      }
    }
  ]
}