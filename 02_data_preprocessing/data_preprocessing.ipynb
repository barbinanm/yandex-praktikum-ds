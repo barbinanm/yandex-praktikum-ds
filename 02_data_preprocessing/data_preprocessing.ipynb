{
 "cells": [
  {
   "cell_type": "markdown",
   "metadata": {},
   "source": [
    "# Исследование надёжности заёмщиков\n",
    "\n",
    "Заказчик — кредитный отдел банка. Нужно разобраться, влияет ли семейное положение и количество детей клиента на факт погашения кредита в срок. Входные данные от банка — статистика о платёжеспособности клиентов.\n",
    "\n",
    "Результаты исследования будут учтены при построении модели **кредитного скоринга** — специальной системы, которая оценивает способность потенциального заёмщика вернуть кредит банку."
   ]
  },
  {
   "cell_type": "markdown",
   "metadata": {},
   "source": [
    "## Шаг 1. Откройте файл с данными и изучите общую информацию. "
   ]
  },
  {
   "cell_type": "code",
   "execution_count": 2,
   "metadata": {
    "scrolled": true
   },
   "outputs": [
    {
     "name": "stdout",
     "output_type": "stream",
     "text": [
      "<class 'pandas.core.frame.DataFrame'>\n",
      "RangeIndex: 21525 entries, 0 to 21524\n",
      "Data columns (total 12 columns):\n",
      "children            21525 non-null int64\n",
      "days_employed       19351 non-null float64\n",
      "dob_years           21525 non-null int64\n",
      "education           21525 non-null object\n",
      "education_id        21525 non-null int64\n",
      "family_status       21525 non-null object\n",
      "family_status_id    21525 non-null int64\n",
      "gender              21525 non-null object\n",
      "income_type         21525 non-null object\n",
      "debt                21525 non-null int64\n",
      "total_income        19351 non-null float64\n",
      "purpose             21525 non-null object\n",
      "dtypes: float64(2), int64(5), object(5)\n",
      "memory usage: 2.0+ MB\n"
     ]
    }
   ],
   "source": [
    "import pandas as pd\n",
    "df = pd.read_csv('/datasets/data.csv')\n",
    "df.info()"
   ]
  },
  {
   "cell_type": "code",
   "execution_count": 3,
   "metadata": {},
   "outputs": [
    {
     "data": {
      "text/html": [
       "<div>\n",
       "<style scoped>\n",
       "    .dataframe tbody tr th:only-of-type {\n",
       "        vertical-align: middle;\n",
       "    }\n",
       "\n",
       "    .dataframe tbody tr th {\n",
       "        vertical-align: top;\n",
       "    }\n",
       "\n",
       "    .dataframe thead th {\n",
       "        text-align: right;\n",
       "    }\n",
       "</style>\n",
       "<table border=\"1\" class=\"dataframe\">\n",
       "  <thead>\n",
       "    <tr style=\"text-align: right;\">\n",
       "      <th></th>\n",
       "      <th>children</th>\n",
       "      <th>days_employed</th>\n",
       "      <th>dob_years</th>\n",
       "      <th>education</th>\n",
       "      <th>education_id</th>\n",
       "      <th>family_status</th>\n",
       "      <th>family_status_id</th>\n",
       "      <th>gender</th>\n",
       "      <th>income_type</th>\n",
       "      <th>debt</th>\n",
       "      <th>total_income</th>\n",
       "      <th>purpose</th>\n",
       "    </tr>\n",
       "  </thead>\n",
       "  <tbody>\n",
       "    <tr>\n",
       "      <td>0</td>\n",
       "      <td>1</td>\n",
       "      <td>-8437.673028</td>\n",
       "      <td>42</td>\n",
       "      <td>высшее</td>\n",
       "      <td>0</td>\n",
       "      <td>женат / замужем</td>\n",
       "      <td>0</td>\n",
       "      <td>F</td>\n",
       "      <td>сотрудник</td>\n",
       "      <td>0</td>\n",
       "      <td>253875.639453</td>\n",
       "      <td>покупка жилья</td>\n",
       "    </tr>\n",
       "    <tr>\n",
       "      <td>1</td>\n",
       "      <td>1</td>\n",
       "      <td>-4024.803754</td>\n",
       "      <td>36</td>\n",
       "      <td>среднее</td>\n",
       "      <td>1</td>\n",
       "      <td>женат / замужем</td>\n",
       "      <td>0</td>\n",
       "      <td>F</td>\n",
       "      <td>сотрудник</td>\n",
       "      <td>0</td>\n",
       "      <td>112080.014102</td>\n",
       "      <td>приобретение автомобиля</td>\n",
       "    </tr>\n",
       "    <tr>\n",
       "      <td>2</td>\n",
       "      <td>0</td>\n",
       "      <td>-5623.422610</td>\n",
       "      <td>33</td>\n",
       "      <td>Среднее</td>\n",
       "      <td>1</td>\n",
       "      <td>женат / замужем</td>\n",
       "      <td>0</td>\n",
       "      <td>M</td>\n",
       "      <td>сотрудник</td>\n",
       "      <td>0</td>\n",
       "      <td>145885.952297</td>\n",
       "      <td>покупка жилья</td>\n",
       "    </tr>\n",
       "    <tr>\n",
       "      <td>3</td>\n",
       "      <td>3</td>\n",
       "      <td>-4124.747207</td>\n",
       "      <td>32</td>\n",
       "      <td>среднее</td>\n",
       "      <td>1</td>\n",
       "      <td>женат / замужем</td>\n",
       "      <td>0</td>\n",
       "      <td>M</td>\n",
       "      <td>сотрудник</td>\n",
       "      <td>0</td>\n",
       "      <td>267628.550329</td>\n",
       "      <td>дополнительное образование</td>\n",
       "    </tr>\n",
       "    <tr>\n",
       "      <td>4</td>\n",
       "      <td>0</td>\n",
       "      <td>340266.072047</td>\n",
       "      <td>53</td>\n",
       "      <td>среднее</td>\n",
       "      <td>1</td>\n",
       "      <td>гражданский брак</td>\n",
       "      <td>1</td>\n",
       "      <td>F</td>\n",
       "      <td>пенсионер</td>\n",
       "      <td>0</td>\n",
       "      <td>158616.077870</td>\n",
       "      <td>сыграть свадьбу</td>\n",
       "    </tr>\n",
       "    <tr>\n",
       "      <td>5</td>\n",
       "      <td>0</td>\n",
       "      <td>-926.185831</td>\n",
       "      <td>27</td>\n",
       "      <td>высшее</td>\n",
       "      <td>0</td>\n",
       "      <td>гражданский брак</td>\n",
       "      <td>1</td>\n",
       "      <td>M</td>\n",
       "      <td>компаньон</td>\n",
       "      <td>0</td>\n",
       "      <td>255763.565419</td>\n",
       "      <td>покупка жилья</td>\n",
       "    </tr>\n",
       "    <tr>\n",
       "      <td>6</td>\n",
       "      <td>0</td>\n",
       "      <td>-2879.202052</td>\n",
       "      <td>43</td>\n",
       "      <td>высшее</td>\n",
       "      <td>0</td>\n",
       "      <td>женат / замужем</td>\n",
       "      <td>0</td>\n",
       "      <td>F</td>\n",
       "      <td>компаньон</td>\n",
       "      <td>0</td>\n",
       "      <td>240525.971920</td>\n",
       "      <td>операции с жильем</td>\n",
       "    </tr>\n",
       "    <tr>\n",
       "      <td>7</td>\n",
       "      <td>0</td>\n",
       "      <td>-152.779569</td>\n",
       "      <td>50</td>\n",
       "      <td>СРЕДНЕЕ</td>\n",
       "      <td>1</td>\n",
       "      <td>женат / замужем</td>\n",
       "      <td>0</td>\n",
       "      <td>M</td>\n",
       "      <td>сотрудник</td>\n",
       "      <td>0</td>\n",
       "      <td>135823.934197</td>\n",
       "      <td>образование</td>\n",
       "    </tr>\n",
       "    <tr>\n",
       "      <td>8</td>\n",
       "      <td>2</td>\n",
       "      <td>-6929.865299</td>\n",
       "      <td>35</td>\n",
       "      <td>ВЫСШЕЕ</td>\n",
       "      <td>0</td>\n",
       "      <td>гражданский брак</td>\n",
       "      <td>1</td>\n",
       "      <td>F</td>\n",
       "      <td>сотрудник</td>\n",
       "      <td>0</td>\n",
       "      <td>95856.832424</td>\n",
       "      <td>на проведение свадьбы</td>\n",
       "    </tr>\n",
       "    <tr>\n",
       "      <td>9</td>\n",
       "      <td>0</td>\n",
       "      <td>-2188.756445</td>\n",
       "      <td>41</td>\n",
       "      <td>среднее</td>\n",
       "      <td>1</td>\n",
       "      <td>женат / замужем</td>\n",
       "      <td>0</td>\n",
       "      <td>M</td>\n",
       "      <td>сотрудник</td>\n",
       "      <td>0</td>\n",
       "      <td>144425.938277</td>\n",
       "      <td>покупка жилья для семьи</td>\n",
       "    </tr>\n",
       "  </tbody>\n",
       "</table>\n",
       "</div>"
      ],
      "text/plain": [
       "   children  days_employed  dob_years education  education_id  \\\n",
       "0         1   -8437.673028         42    высшее             0   \n",
       "1         1   -4024.803754         36   среднее             1   \n",
       "2         0   -5623.422610         33   Среднее             1   \n",
       "3         3   -4124.747207         32   среднее             1   \n",
       "4         0  340266.072047         53   среднее             1   \n",
       "5         0    -926.185831         27    высшее             0   \n",
       "6         0   -2879.202052         43    высшее             0   \n",
       "7         0    -152.779569         50   СРЕДНЕЕ             1   \n",
       "8         2   -6929.865299         35    ВЫСШЕЕ             0   \n",
       "9         0   -2188.756445         41   среднее             1   \n",
       "\n",
       "      family_status  family_status_id gender income_type  debt   total_income  \\\n",
       "0   женат / замужем                 0      F   сотрудник     0  253875.639453   \n",
       "1   женат / замужем                 0      F   сотрудник     0  112080.014102   \n",
       "2   женат / замужем                 0      M   сотрудник     0  145885.952297   \n",
       "3   женат / замужем                 0      M   сотрудник     0  267628.550329   \n",
       "4  гражданский брак                 1      F   пенсионер     0  158616.077870   \n",
       "5  гражданский брак                 1      M   компаньон     0  255763.565419   \n",
       "6   женат / замужем                 0      F   компаньон     0  240525.971920   \n",
       "7   женат / замужем                 0      M   сотрудник     0  135823.934197   \n",
       "8  гражданский брак                 1      F   сотрудник     0   95856.832424   \n",
       "9   женат / замужем                 0      M   сотрудник     0  144425.938277   \n",
       "\n",
       "                      purpose  \n",
       "0               покупка жилья  \n",
       "1     приобретение автомобиля  \n",
       "2               покупка жилья  \n",
       "3  дополнительное образование  \n",
       "4             сыграть свадьбу  \n",
       "5               покупка жилья  \n",
       "6           операции с жильем  \n",
       "7                 образование  \n",
       "8       на проведение свадьбы  \n",
       "9     покупка жилья для семьи  "
      ]
     },
     "execution_count": 3,
     "metadata": {},
     "output_type": "execute_result"
    }
   ],
   "source": [
    "#пробежимся глазами по данным\n",
    "df.head(10)"
   ]
  },
  {
   "cell_type": "markdown",
   "metadata": {},
   "source": [
    "### Вывод"
   ]
  },
  {
   "cell_type": "markdown",
   "metadata": {},
   "source": [
    "Сразу в глаза бросается проблема с колонкой `days_employed`. \n",
    "- Во первых, дни не могут быть вещественным числом\n",
    "- Во-вторых, не могут быть отрицательными. \n",
    "*Тут похоже есть проблема с выгрузкой и про это стоит создать тикет человеку, который эти данные формировал. Но, предварительно, эти данные для анализа нам не нужны.*\n",
    "\n",
    "Имеет смысл переименовать:\n",
    "- `dob_years` в `full_years`\n",
    "- `children` в `children_count`, все же это не бинарный признак\n",
    "- `education` в `education_level`\n",
    "\n",
    "В столбце `education` регистр букв разный, необходимо привести к одному виду перед анализом\n",
    "\n",
    "Доход `total_income` вряд ли интересен с точностью до копейки. Возможно, имеет смысл перевести в int"
   ]
  },
  {
   "cell_type": "markdown",
   "metadata": {},
   "source": [
    "<font color='green'>Данные загружены и подробно изучены, отлично подмечены основные проблемы. Использованы подходящие методы для первичного изучения данных.</font>"
   ]
  },
  {
   "cell_type": "markdown",
   "metadata": {},
   "source": [
    "## Шаг 2. Предобработка данных"
   ]
  },
  {
   "cell_type": "markdown",
   "metadata": {},
   "source": [
    "### Заголовки таблицы"
   ]
  },
  {
   "cell_type": "code",
   "execution_count": 4,
   "metadata": {},
   "outputs": [
    {
     "name": "stdout",
     "output_type": "stream",
     "text": [
      "<class 'pandas.core.frame.DataFrame'>\n",
      "RangeIndex: 21525 entries, 0 to 21524\n",
      "Data columns (total 12 columns):\n",
      "children_count      21525 non-null int64\n",
      "days_employed       19351 non-null float64\n",
      "full_years          21525 non-null int64\n",
      "education_level     21525 non-null object\n",
      "education_id        21525 non-null int64\n",
      "family_status       21525 non-null object\n",
      "family_status_id    21525 non-null int64\n",
      "gender              21525 non-null object\n",
      "income_type         21525 non-null object\n",
      "debt                21525 non-null int64\n",
      "total_income        19351 non-null float64\n",
      "purpose             21525 non-null object\n",
      "dtypes: float64(2), int64(5), object(5)\n",
      "memory usage: 2.0+ MB\n"
     ]
    }
   ],
   "source": [
    "# переименуем ряд заголовков для более удобной работы с ними\n",
    "df.set_axis(['children_count', 'days_employed', 'full_years', 'education_level', 'education_id', 'family_status', 'family_status_id', 'gender', 'income_type', 'debt', 'total_income', 'purpose'], axis = 'columns', inplace = True)\n",
    "df.info()"
   ]
  },
  {
   "cell_type": "markdown",
   "metadata": {},
   "source": [
    "### Один регистр для названий категорий"
   ]
  },
  {
   "cell_type": "code",
   "execution_count": 5,
   "metadata": {},
   "outputs": [
    {
     "data": {
      "text/html": [
       "<div>\n",
       "<style scoped>\n",
       "    .dataframe tbody tr th:only-of-type {\n",
       "        vertical-align: middle;\n",
       "    }\n",
       "\n",
       "    .dataframe tbody tr th {\n",
       "        vertical-align: top;\n",
       "    }\n",
       "\n",
       "    .dataframe thead th {\n",
       "        text-align: right;\n",
       "    }\n",
       "</style>\n",
       "<table border=\"1\" class=\"dataframe\">\n",
       "  <thead>\n",
       "    <tr style=\"text-align: right;\">\n",
       "      <th></th>\n",
       "      <th>children_count</th>\n",
       "      <th>days_employed</th>\n",
       "      <th>full_years</th>\n",
       "      <th>education_level</th>\n",
       "      <th>education_id</th>\n",
       "      <th>family_status</th>\n",
       "      <th>family_status_id</th>\n",
       "      <th>gender</th>\n",
       "      <th>income_type</th>\n",
       "      <th>debt</th>\n",
       "      <th>total_income</th>\n",
       "      <th>purpose</th>\n",
       "    </tr>\n",
       "  </thead>\n",
       "  <tbody>\n",
       "    <tr>\n",
       "      <td>0</td>\n",
       "      <td>1</td>\n",
       "      <td>-8437.673028</td>\n",
       "      <td>42</td>\n",
       "      <td>высшее</td>\n",
       "      <td>0</td>\n",
       "      <td>женат / замужем</td>\n",
       "      <td>0</td>\n",
       "      <td>F</td>\n",
       "      <td>сотрудник</td>\n",
       "      <td>0</td>\n",
       "      <td>253875.639453</td>\n",
       "      <td>покупка жилья</td>\n",
       "    </tr>\n",
       "    <tr>\n",
       "      <td>1</td>\n",
       "      <td>1</td>\n",
       "      <td>-4024.803754</td>\n",
       "      <td>36</td>\n",
       "      <td>среднее</td>\n",
       "      <td>1</td>\n",
       "      <td>женат / замужем</td>\n",
       "      <td>0</td>\n",
       "      <td>F</td>\n",
       "      <td>сотрудник</td>\n",
       "      <td>0</td>\n",
       "      <td>112080.014102</td>\n",
       "      <td>приобретение автомобиля</td>\n",
       "    </tr>\n",
       "    <tr>\n",
       "      <td>2</td>\n",
       "      <td>0</td>\n",
       "      <td>-5623.422610</td>\n",
       "      <td>33</td>\n",
       "      <td>среднее</td>\n",
       "      <td>1</td>\n",
       "      <td>женат / замужем</td>\n",
       "      <td>0</td>\n",
       "      <td>M</td>\n",
       "      <td>сотрудник</td>\n",
       "      <td>0</td>\n",
       "      <td>145885.952297</td>\n",
       "      <td>покупка жилья</td>\n",
       "    </tr>\n",
       "    <tr>\n",
       "      <td>3</td>\n",
       "      <td>3</td>\n",
       "      <td>-4124.747207</td>\n",
       "      <td>32</td>\n",
       "      <td>среднее</td>\n",
       "      <td>1</td>\n",
       "      <td>женат / замужем</td>\n",
       "      <td>0</td>\n",
       "      <td>M</td>\n",
       "      <td>сотрудник</td>\n",
       "      <td>0</td>\n",
       "      <td>267628.550329</td>\n",
       "      <td>дополнительное образование</td>\n",
       "    </tr>\n",
       "    <tr>\n",
       "      <td>4</td>\n",
       "      <td>0</td>\n",
       "      <td>340266.072047</td>\n",
       "      <td>53</td>\n",
       "      <td>среднее</td>\n",
       "      <td>1</td>\n",
       "      <td>гражданский брак</td>\n",
       "      <td>1</td>\n",
       "      <td>F</td>\n",
       "      <td>пенсионер</td>\n",
       "      <td>0</td>\n",
       "      <td>158616.077870</td>\n",
       "      <td>сыграть свадьбу</td>\n",
       "    </tr>\n",
       "  </tbody>\n",
       "</table>\n",
       "</div>"
      ],
      "text/plain": [
       "   children_count  days_employed  full_years education_level  education_id  \\\n",
       "0               1   -8437.673028          42          высшее             0   \n",
       "1               1   -4024.803754          36         среднее             1   \n",
       "2               0   -5623.422610          33         среднее             1   \n",
       "3               3   -4124.747207          32         среднее             1   \n",
       "4               0  340266.072047          53         среднее             1   \n",
       "\n",
       "      family_status  family_status_id gender income_type  debt   total_income  \\\n",
       "0   женат / замужем                 0      F   сотрудник     0  253875.639453   \n",
       "1   женат / замужем                 0      F   сотрудник     0  112080.014102   \n",
       "2   женат / замужем                 0      M   сотрудник     0  145885.952297   \n",
       "3   женат / замужем                 0      M   сотрудник     0  267628.550329   \n",
       "4  гражданский брак                 1      F   пенсионер     0  158616.077870   \n",
       "\n",
       "                      purpose  \n",
       "0               покупка жилья  \n",
       "1     приобретение автомобиля  \n",
       "2               покупка жилья  \n",
       "3  дополнительное образование  \n",
       "4             сыграть свадьбу  "
      ]
     },
     "execution_count": 5,
     "metadata": {},
     "output_type": "execute_result"
    }
   ],
   "source": [
    "# приведем сразу все категории к одному регистру для более удобного анализа\n",
    "df['education_level'] = df['education_level'].str.lower()\n",
    "df['income_type'] = df['income_type'].str.lower()\n",
    "df['family_status'] = df['family_status'].str.lower()\n",
    "df['purpose'] = df['purpose'].str.lower()\n",
    "\n",
    "# вывод, чтобы проверить результат\n",
    "df.head()"
   ]
  },
  {
   "cell_type": "markdown",
   "metadata": {},
   "source": [
    "### Обработка пропусков"
   ]
  },
  {
   "cell_type": "code",
   "execution_count": 6,
   "metadata": {
    "scrolled": true
   },
   "outputs": [
    {
     "data": {
      "text/plain": [
       "children_count         0\n",
       "days_employed       2174\n",
       "full_years             0\n",
       "education_level        0\n",
       "education_id           0\n",
       "family_status          0\n",
       "family_status_id       0\n",
       "gender                 0\n",
       "income_type            0\n",
       "debt                   0\n",
       "total_income        2174\n",
       "purpose                0\n",
       "dtype: int64"
      ]
     },
     "execution_count": 6,
     "metadata": {},
     "output_type": "execute_result"
    }
   ],
   "source": [
    "# для начала поищем пустые значения\n",
    "df.isnull().sum()"
   ]
  },
  {
   "cell_type": "code",
   "execution_count": 7,
   "metadata": {},
   "outputs": [
    {
     "data": {
      "text/html": [
       "<div>\n",
       "<style scoped>\n",
       "    .dataframe tbody tr th:only-of-type {\n",
       "        vertical-align: middle;\n",
       "    }\n",
       "\n",
       "    .dataframe tbody tr th {\n",
       "        vertical-align: top;\n",
       "    }\n",
       "\n",
       "    .dataframe thead th {\n",
       "        text-align: right;\n",
       "    }\n",
       "</style>\n",
       "<table border=\"1\" class=\"dataframe\">\n",
       "  <thead>\n",
       "    <tr style=\"text-align: right;\">\n",
       "      <th></th>\n",
       "      <th>children_count</th>\n",
       "      <th>days_employed</th>\n",
       "      <th>full_years</th>\n",
       "      <th>education_level</th>\n",
       "      <th>education_id</th>\n",
       "      <th>family_status</th>\n",
       "      <th>family_status_id</th>\n",
       "      <th>gender</th>\n",
       "      <th>income_type</th>\n",
       "      <th>debt</th>\n",
       "      <th>total_income</th>\n",
       "      <th>purpose</th>\n",
       "    </tr>\n",
       "  </thead>\n",
       "  <tbody>\n",
       "    <tr>\n",
       "      <td>21489</td>\n",
       "      <td>2</td>\n",
       "      <td>NaN</td>\n",
       "      <td>47</td>\n",
       "      <td>среднее</td>\n",
       "      <td>1</td>\n",
       "      <td>женат / замужем</td>\n",
       "      <td>0</td>\n",
       "      <td>M</td>\n",
       "      <td>компаньон</td>\n",
       "      <td>0</td>\n",
       "      <td>NaN</td>\n",
       "      <td>сделка с автомобилем</td>\n",
       "    </tr>\n",
       "    <tr>\n",
       "      <td>21495</td>\n",
       "      <td>1</td>\n",
       "      <td>NaN</td>\n",
       "      <td>50</td>\n",
       "      <td>среднее</td>\n",
       "      <td>1</td>\n",
       "      <td>гражданский брак</td>\n",
       "      <td>1</td>\n",
       "      <td>F</td>\n",
       "      <td>сотрудник</td>\n",
       "      <td>0</td>\n",
       "      <td>NaN</td>\n",
       "      <td>свадьба</td>\n",
       "    </tr>\n",
       "    <tr>\n",
       "      <td>21497</td>\n",
       "      <td>0</td>\n",
       "      <td>NaN</td>\n",
       "      <td>48</td>\n",
       "      <td>высшее</td>\n",
       "      <td>0</td>\n",
       "      <td>женат / замужем</td>\n",
       "      <td>0</td>\n",
       "      <td>F</td>\n",
       "      <td>компаньон</td>\n",
       "      <td>0</td>\n",
       "      <td>NaN</td>\n",
       "      <td>строительство недвижимости</td>\n",
       "    </tr>\n",
       "    <tr>\n",
       "      <td>21502</td>\n",
       "      <td>1</td>\n",
       "      <td>NaN</td>\n",
       "      <td>42</td>\n",
       "      <td>среднее</td>\n",
       "      <td>1</td>\n",
       "      <td>женат / замужем</td>\n",
       "      <td>0</td>\n",
       "      <td>F</td>\n",
       "      <td>сотрудник</td>\n",
       "      <td>0</td>\n",
       "      <td>NaN</td>\n",
       "      <td>строительство жилой недвижимости</td>\n",
       "    </tr>\n",
       "    <tr>\n",
       "      <td>21510</td>\n",
       "      <td>2</td>\n",
       "      <td>NaN</td>\n",
       "      <td>28</td>\n",
       "      <td>среднее</td>\n",
       "      <td>1</td>\n",
       "      <td>женат / замужем</td>\n",
       "      <td>0</td>\n",
       "      <td>F</td>\n",
       "      <td>сотрудник</td>\n",
       "      <td>0</td>\n",
       "      <td>NaN</td>\n",
       "      <td>приобретение автомобиля</td>\n",
       "    </tr>\n",
       "  </tbody>\n",
       "</table>\n",
       "</div>"
      ],
      "text/plain": [
       "       children_count  days_employed  full_years education_level  \\\n",
       "21489               2            NaN          47         среднее   \n",
       "21495               1            NaN          50         среднее   \n",
       "21497               0            NaN          48          высшее   \n",
       "21502               1            NaN          42         среднее   \n",
       "21510               2            NaN          28         среднее   \n",
       "\n",
       "       education_id     family_status  family_status_id gender income_type  \\\n",
       "21489             1   женат / замужем                 0      M   компаньон   \n",
       "21495             1  гражданский брак                 1      F   сотрудник   \n",
       "21497             0   женат / замужем                 0      F   компаньон   \n",
       "21502             1   женат / замужем                 0      F   сотрудник   \n",
       "21510             1   женат / замужем                 0      F   сотрудник   \n",
       "\n",
       "       debt  total_income                           purpose  \n",
       "21489     0           NaN              сделка с автомобилем  \n",
       "21495     0           NaN                           свадьба  \n",
       "21497     0           NaN        строительство недвижимости  \n",
       "21502     0           NaN  строительство жилой недвижимости  \n",
       "21510     0           NaN           приобретение автомобиля  "
      ]
     },
     "execution_count": 7,
     "metadata": {},
     "output_type": "execute_result"
    }
   ],
   "source": [
    "# посмотрим, что это за пустые значения\n",
    "df[df['total_income'].isnull()].tail()"
   ]
  },
  {
   "cell_type": "code",
   "execution_count": 8,
   "metadata": {},
   "outputs": [
    {
     "data": {
      "text/plain": [
       "children_count      0\n",
       "full_years          0\n",
       "education_level     0\n",
       "education_id        0\n",
       "family_status       0\n",
       "family_status_id    0\n",
       "gender              0\n",
       "income_type         0\n",
       "debt                0\n",
       "total_income        0\n",
       "purpose             0\n",
       "dtype: int64"
      ]
     },
     "execution_count": 8,
     "metadata": {},
     "output_type": "execute_result"
    }
   ],
   "source": [
    "# Заполним возможные данные total_income\n",
    "# Будем использовать медиану, но не будем использовать \"среднюю температуру по всей больнице\"\n",
    "# Чтобы данные были более точны, буду использовать уровень образования и род деятельности \n",
    "\n",
    "import math #нужен для проверки NaN\n",
    "\n",
    "# функция, что будет вычислять медиану для конкретного набора по уровню образования и типа работы\n",
    "# в случае, если среднее не может быть вычислено (не найдется в основных значениях группы параметров)\n",
    "# берем среднее по одному - сперва по уровню образования, потом уже по типу сотрудника\n",
    "def calc_median_by_education_and_income(df, education_level, income_type):\n",
    "    # ориентируемся на оба параметра\n",
    "    median = df[(df['education_level'] == education_level) & (df['income_type'] == income_type)]['total_income'].median()\n",
    "    # но т.к. возможна уникальная ситуация, где нет совпадения для двух параметров, предусмотрим рассчет по 1му\n",
    "    if math.isnan(median):\n",
    "        median = df[df['education_level'] == education_level]['total_income'].median()\n",
    "        if math.isnan(median):\n",
    "            median = df[df['income_type'] == income_type]['total_income'].median()    \n",
    "    return median\n",
    "\n",
    "# идем по всем уровням образования и типам сотрудников, что встречаются только для пустых значений\n",
    "# и проставляем только для них медиану, соответствующую их группе\n",
    "for education_level in df[df['total_income'].isnull()]['education_level'].unique():\n",
    "    for income_type in df[df['total_income'].isnull()]['income_type'].unique():\n",
    "        median = calc_median_by_education_and_income(df, education_level, income_type)\n",
    "        searchRow = (df['education_level'] == education_level) & (df['income_type'] == income_type) & (df['total_income'].isnull())\n",
    "        df.loc[searchRow, 'total_income'] = df.loc[searchRow, 'total_income'].fillna(median)\n",
    "\n",
    "# столбец с днями трудового стажа сожержит заводомо ложную информацию \n",
    "# (даже при переводе ее в дни, получается, что трудовой стаж может быть больше возраста)\n",
    "# к тому же наличие отрицательных значений, с которыми тоже особо ничего не сделаешь\n",
    "# Помимо этого, для наших целей данный столбец не нужен, а значит его можно удалить\n",
    "del df['days_employed']\n",
    "\n",
    "# проверяем, что все прошло хорошо и в income не осталось пустых значений\n",
    "df.isnull().sum()"
   ]
  },
  {
   "cell_type": "markdown",
   "metadata": {},
   "source": [
    "### Вывод"
   ]
  },
  {
   "cell_type": "markdown",
   "metadata": {},
   "source": [
    "Несуществующим значениям дохода мы выставили медиану, но не всей выборки, а только по конкретным категориям, к которым люди относились. Это позволит получить более точную информацию и снизить возможную статистическую погрешность.\n",
    "\n",
    "Пропуски столбца `days_employed` мы не учитываем т.к. они не несут для нас значимой информации.\n",
    "\n",
    "Если говорить о причинах возникновения пропусков, скорее всего они связаны с тем, что у людей нет подтвержденного дохода и стажа (работа в черную и тд). Однако сейчас у нас нет возможности уточнить этот момент у коллег, делающих выгрузку.\n"
   ]
  },
  {
   "cell_type": "markdown",
   "metadata": {},
   "source": [
    "\n",
    "\n",
    "### Замена типа данных"
   ]
  },
  {
   "cell_type": "code",
   "execution_count": 9,
   "metadata": {},
   "outputs": [
    {
     "name": "stdout",
     "output_type": "stream",
     "text": [
      "<class 'pandas.core.frame.DataFrame'>\n",
      "RangeIndex: 21525 entries, 0 to 21524\n",
      "Data columns (total 11 columns):\n",
      "children_count      21525 non-null int64\n",
      "full_years          21525 non-null int64\n",
      "education_level     21525 non-null object\n",
      "education_id        21525 non-null int64\n",
      "family_status       21525 non-null object\n",
      "family_status_id    21525 non-null int64\n",
      "gender              21525 non-null object\n",
      "income_type         21525 non-null object\n",
      "debt                21525 non-null int64\n",
      "total_income        21525 non-null int64\n",
      "purpose             21525 non-null object\n",
      "dtypes: int64(6), object(5)\n",
      "memory usage: 1.8+ MB\n"
     ]
    }
   ],
   "source": [
    "# Заменим тип total_income на int, т.к. точность до копеек нам сейчас также не интересна\n",
    "# поскольку нам нужно конкретный целочисленный тип, а не вещественный, используем именно astype\n",
    "df['total_income'] = df['total_income'].astype('int')\n",
    "\n",
    "# проверим, что все сделали верно\n",
    "df.info()"
   ]
  },
  {
   "cell_type": "markdown",
   "metadata": {},
   "source": [
    "### Вывод"
   ]
  },
  {
   "cell_type": "markdown",
   "metadata": {},
   "source": [
    "Поскольку для наших целей точность до копейки не важна, мы в приводим сумму к целому. \n",
    "К тому же, в данном столбце речь шла даже не о копейках, т.к. были заполнены больше двух знаков после запятой.\n",
    "\n",
    "Приведение к целому числу также позволит нам выделять одних и тех же людей, но с разными целями по кредитам."
   ]
  },
  {
   "cell_type": "markdown",
   "metadata": {},
   "source": [
    "### Обработка дубликатов"
   ]
  },
  {
   "cell_type": "code",
   "execution_count": 10,
   "metadata": {},
   "outputs": [
    {
     "data": {
      "text/plain": [
       "71"
      ]
     },
     "execution_count": 10,
     "metadata": {},
     "output_type": "execute_result"
    }
   ],
   "source": [
    "# проверим, есть ли дубликаты в таблице с помощью метода duplicated\n",
    "# используем именно его, т.к. чтобы проверить через value_counts() нужно будет создавать отдельную Series, \n",
    "# которая в дальнейшем не пригодится\n",
    "df.duplicated().sum()"
   ]
  },
  {
   "cell_type": "code",
   "execution_count": 11,
   "metadata": {},
   "outputs": [
    {
     "data": {
      "text/plain": [
       "0"
      ]
     },
     "execution_count": 11,
     "metadata": {},
     "output_type": "execute_result"
    }
   ],
   "source": [
    "# удалим дубликаты\n",
    "df.drop_duplicates(subset=None, keep=\"first\", inplace=True)\n",
    "# и проверим, что все хорошо\n",
    "df.duplicated().sum()"
   ]
  },
  {
   "cell_type": "markdown",
   "metadata": {},
   "source": [
    "### Вывод"
   ]
  },
  {
   "cell_type": "markdown",
   "metadata": {},
   "source": [
    "Дубликатов оказалось не так много и их удалось быстро удалить.\n",
    "Каких-то злостных нарушителей, т.е. повторения одного и того же не было. Возможно, было две-три одобренных заявки от одного человека либо просто человеческий фактор."
   ]
  },
  {
   "cell_type": "markdown",
   "metadata": {},
   "source": [
    "### Обработка других ошибок в данных"
   ]
  },
  {
   "cell_type": "markdown",
   "metadata": {},
   "source": [
    "Дополнительно поизучав данные на уровне подсчета уникальных значений (`value_counts()`) для каждого столбца, был выявлен еще ряд проблем:\n",
    "- `children_count` содержит значение 20 и -1, хотя отрицательного числа быть не может и 20 сильно выделяется на фоне остальной выборки\n",
    "- `full_years` содержит нулевой возраст\n",
    "- `gender` содержит пол XNA\n",
    "- `purpose` содержит опечатку - ремонт жильЮ\n",
    "\n",
    "Про возможные причины и действия:\n",
    "- значение 20 в количестве детей скорее всего опечатка, когда набирая 2, случайно задели ноль\n",
    "- значение -1 могло означать раннее отсуствие детей либо их наличие, но почеуму-то выгруженное, как отрицательное число. Т.к. по `df[df['children_count'] == -1]['family_status'].value_counts()` можно убедиться, что большая часть этих людей находится или находилась в браке, остановимся на втором варианте.\n",
    "- нулевой возраст быть не может, скорее всего он нам просто неизвестен. Т.к. в нашем случае вопросов касательно возраста нет, ничего не делаем.\n",
    "- поскольку пол XNA только один, а в наших данных большинство женщины - заменим значением по умолчанию - F\n",
    "- учитывая количество строк, ошибка в самой категории на сайте или системе. У себя исправим, ответственных людей предупредим.\n",
    "\n",
    "Исправим эти моменты."
   ]
  },
  {
   "cell_type": "code",
   "execution_count": 12,
   "metadata": {},
   "outputs": [
    {
     "data": {
      "text/plain": [
       "0"
      ]
     },
     "execution_count": 12,
     "metadata": {},
     "output_type": "execute_result"
    }
   ],
   "source": [
    "# исправим опечатку в purpose\n",
    "df.loc[df['purpose'] == 'ремонт жилью', 'purpose'] = 'ремонт жилья'\n",
    "# проверим, что все хорошо\n",
    "df.loc[df['purpose'] == 'ремонт жилью']['purpose'].count()"
   ]
  },
  {
   "cell_type": "code",
   "execution_count": 13,
   "metadata": {},
   "outputs": [
    {
     "data": {
      "text/plain": [
       "0"
      ]
     },
     "execution_count": 13,
     "metadata": {},
     "output_type": "execute_result"
    }
   ],
   "source": [
    "# исправим значение пола\n",
    "df.loc[df['gender'] == 'XNA', 'gender'] = 'F'\n",
    "# проверим, что все хорошо\n",
    "df.loc[df['gender'] == 'XNA']['gender'].count()"
   ]
  },
  {
   "cell_type": "code",
   "execution_count": 14,
   "metadata": {},
   "outputs": [
    {
     "data": {
      "text/plain": [
       "0"
      ]
     },
     "execution_count": 14,
     "metadata": {},
     "output_type": "execute_result"
    }
   ],
   "source": [
    "# исправим значения 20 для возраста согласно нашей гипотезе\n",
    "df.loc[df['children_count'] == 20, 'children_count'] = 2\n",
    "# проверим, что все хорошо\n",
    "df.loc[df['children_count'] == 20]['children_count'].count()"
   ]
  },
  {
   "cell_type": "code",
   "execution_count": 15,
   "metadata": {},
   "outputs": [
    {
     "data": {
      "text/plain": [
       "0"
      ]
     },
     "execution_count": 15,
     "metadata": {},
     "output_type": "execute_result"
    }
   ],
   "source": [
    "# исправим значение -1 для количества детей согласно нашей гипотезы (т.е. заменим на 1)\n",
    "df.loc[df['children_count'] == -1, 'children_count'] = 1\n",
    "# проверим, что все хорошо\n",
    "df.loc[df['children_count'] == -1]['children_count'].count()"
   ]
  },
  {
   "cell_type": "markdown",
   "metadata": {},
   "source": [
    "### Вывод"
   ]
  },
  {
   "cell_type": "markdown",
   "metadata": {},
   "source": [
    "В данных встречаются артефакты и нам стоит об этом предупредить тех, кто делал выгрузку.\n",
    "Однако их количество вряд ли отразится на статических результатах исследования. Тем не менее, для большей точности, ключевые моменты мы исправили."
   ]
  },
  {
   "cell_type": "markdown",
   "metadata": {},
   "source": [
    "### Лемматизация"
   ]
  },
  {
   "cell_type": "code",
   "execution_count": 16,
   "metadata": {},
   "outputs": [
    {
     "name": "stdout",
     "output_type": "stream",
     "text": [
      "покупка 10\n",
      "недвижимость 10\n",
      "автомобиль 9\n",
      "образование 9\n",
      "жилье 7\n",
      "с 5\n",
      "операция 4\n",
      "на 4\n",
      "свой 4\n",
      "свадьба 3\n",
      "строительство 3\n",
      "получение 3\n",
      "высокий 3\n"
     ]
    }
   ],
   "source": [
    "# выделим леммы в значениях столбца с целями получения кредита\n",
    "\n",
    "#подключим PyMystem\n",
    "from pymystem3 import Mystem\n",
    "m = Mystem()\n",
    "\n",
    "# получим леммы для каждой причины, чтобы дальше проанализировать\n",
    "# используем словарь, а не список, чтобы дальше это использовать для категоризации\n",
    "lemmas_dict = dict()\n",
    "for purpose in df['purpose'].unique():\n",
    "    lemmas_dict[purpose] = m.lemmatize(purpose)\n",
    "    \n",
    "# проанализируем леммы - удалим пробелы, выделим самые часто встречаемые слова\n",
    "# отсортируем по частоте встречания слов, чтобы получить словарь основных причин\n",
    "# те слова, что встречаются только один раз, удалим\n",
    "\n",
    "#для начала проанализируем частоту встречания слов по всем причинам кредита\n",
    "lemmas_count = dict()\n",
    "for key, lemmas in lemmas_dict.items():\n",
    "    for lemma in lemmas:\n",
    "        if lemma != ' ' and lemma != '\\n':\n",
    "            if not lemma in lemmas_count:\n",
    "                lemmas_count[lemma] = 1\n",
    "            else:\n",
    "                lemmas_count[lemma] += 1\n",
    "                \n",
    "#выведем топ встречаемых слов                \n",
    "for k in sorted(lemmas_count, key=lemmas_count.get, reverse=True):\n",
    "    if lemmas_count[k] > 2:\n",
    "        print(k, lemmas_count[k])"
   ]
  },
  {
   "cell_type": "markdown",
   "metadata": {},
   "source": [
    "### Вывод"
   ]
  },
  {
   "cell_type": "markdown",
   "metadata": {},
   "source": [
    "По данным видно, что у нас присутствуют в основном 4 типа целей:\n",
    "- Недвижимость (при этом недвижимость может быть представлена как жилье)\n",
    "- Автомобиль\n",
    "- Образование\n",
    "- Свадьба\n",
    "\n",
    "А значит леммы позволят нам поделить все цели кредитов по соответствующим группам."
   ]
  },
  {
   "cell_type": "code",
   "execution_count": 17,
   "metadata": {},
   "outputs": [
    {
     "data": {
      "text/plain": [
       "[' ',\n",
       " '\\n',\n",
       " 'покупка',\n",
       " 'недвижимость',\n",
       " 'автомобиль',\n",
       " 'образование',\n",
       " 'жилье',\n",
       " 'с',\n",
       " 'операция',\n",
       " 'на',\n",
       " 'свой',\n",
       " 'свадьба',\n",
       " 'строительство',\n",
       " 'получение',\n",
       " 'высокий',\n",
       " 'дополнительный',\n",
       " 'для',\n",
       " 'коммерческий',\n",
       " 'жилой',\n",
       " 'заниматься',\n",
       " 'сделка',\n",
       " 'приобретение',\n",
       " 'сыграть',\n",
       " 'проведение',\n",
       " 'семья',\n",
       " 'собственный',\n",
       " 'подержать',\n",
       " 'со',\n",
       " 'подержанный',\n",
       " 'профильный',\n",
       " 'сдача',\n",
       " 'ремонт']"
      ]
     },
     "execution_count": 17,
     "metadata": {},
     "output_type": "execute_result"
    }
   ],
   "source": [
    "# Подсчет через коллекции\n",
    "from collections import Counter \n",
    "lemmas_list = list()\n",
    "for purpose in df['purpose'].unique():\n",
    "    for lemma in m.lemmatize(purpose):\n",
    "        lemmas_list.append(lemma)\n",
    "        \n",
    "cnt = Counter(lemmas_list)\n",
    "cnt = sorted(cnt, key=cnt.get, reverse=True) \n",
    "\n",
    "cnt"
   ]
  },
  {
   "cell_type": "code",
   "execution_count": 43,
   "metadata": {},
   "outputs": [
    {
     "data": {
      "text/plain": [
       "[(' ', 55023),\n",
       " ('недвижимость', 6351),\n",
       " ('покупка', 5897),\n",
       " ('жилье', 4460),\n",
       " ('автомобиль', 4306),\n",
       " ('образование', 4013),\n",
       " ('с', 2918),\n",
       " ('операция', 2604),\n",
       " ('свадьба', 2324),\n",
       " ('свой', 2230),\n",
       " ('на', 2222),\n",
       " ('строительство', 1878),\n",
       " ('высокий', 1374),\n",
       " ('получение', 1314),\n",
       " ('коммерческий', 1311)]"
      ]
     },
     "execution_count": 43,
     "metadata": {},
     "output_type": "execute_result"
    }
   ],
   "source": [
    "#код ревьюера\n",
    "Counter(m.lemmatize(' '.join(df['purpose']))).most_common(15)"
   ]
  },
  {
   "cell_type": "markdown",
   "metadata": {},
   "source": [
    "### Категоризация данных"
   ]
  },
  {
   "cell_type": "code",
   "execution_count": 18,
   "metadata": {
    "scrolled": false
   },
   "outputs": [
    {
     "data": {
      "text/html": [
       "<div>\n",
       "<style scoped>\n",
       "    .dataframe tbody tr th:only-of-type {\n",
       "        vertical-align: middle;\n",
       "    }\n",
       "\n",
       "    .dataframe tbody tr th {\n",
       "        vertical-align: top;\n",
       "    }\n",
       "\n",
       "    .dataframe thead th {\n",
       "        text-align: right;\n",
       "    }\n",
       "</style>\n",
       "<table border=\"1\" class=\"dataframe\">\n",
       "  <thead>\n",
       "    <tr style=\"text-align: right;\">\n",
       "      <th></th>\n",
       "      <th>children_count</th>\n",
       "      <th>full_years</th>\n",
       "      <th>education_level</th>\n",
       "      <th>education_id</th>\n",
       "      <th>family_status</th>\n",
       "      <th>family_status_id</th>\n",
       "      <th>gender</th>\n",
       "      <th>income_type</th>\n",
       "      <th>debt</th>\n",
       "      <th>total_income</th>\n",
       "      <th>purpose</th>\n",
       "      <th>true_purpose</th>\n",
       "    </tr>\n",
       "  </thead>\n",
       "  <tbody>\n",
       "  </tbody>\n",
       "</table>\n",
       "</div>"
      ],
      "text/plain": [
       "Empty DataFrame\n",
       "Columns: [children_count, full_years, education_level, education_id, family_status, family_status_id, gender, income_type, debt, total_income, purpose, true_purpose]\n",
       "Index: []"
      ]
     },
     "execution_count": 18,
     "metadata": {},
     "output_type": "execute_result"
    }
   ],
   "source": [
    "# сделаем столбец с причинами для взятия кредита по категориям, что мы выделили на этапе лемматизации\n",
    "\n",
    "# напишем функцию, по которой заполним столбец\n",
    "def make_true_purpose(table_purpose):\n",
    "    #lemmas_dict мы сохраняли ранее\n",
    "    purpose_lemmas = lemmas_dict[table_purpose]\n",
    "    if 'недвижимость' in purpose_lemmas or 'жилье' in purpose_lemmas:\n",
    "        return 'недвижимость'\n",
    "    \n",
    "    if 'автомобиль' in purpose_lemmas:\n",
    "        return 'автомобиль'\n",
    "    \n",
    "    if 'образование' in purpose_lemmas:\n",
    "        return 'образование'\n",
    "    \n",
    "    if 'свадьба' in purpose_lemmas:\n",
    "        return 'свадьба'\n",
    "    \n",
    "    return ''\n",
    "\n",
    "df['true_purpose'] = df['purpose'].apply(make_true_purpose)\n",
    "    \n",
    "#проверим, что никто не остался без категории\n",
    "df[df['true_purpose'] == '']"
   ]
  },
  {
   "cell_type": "code",
   "execution_count": 19,
   "metadata": {},
   "outputs": [
    {
     "data": {
      "text/plain": [
       "недвижимость    10811\n",
       "автомобиль       4306\n",
       "образование      4013\n",
       "свадьба          2324\n",
       "Name: true_purpose, dtype: int64"
      ]
     },
     "execution_count": 19,
     "metadata": {},
     "output_type": "execute_result"
    }
   ],
   "source": [
    "# посмотрим как распределились цели кредитов\n",
    "df['true_purpose'].value_counts()"
   ]
  },
  {
   "cell_type": "code",
   "execution_count": 20,
   "metadata": {},
   "outputs": [
    {
     "data": {
      "text/plain": [
       "Нет детей      14091\n",
       "1 ребенок       4855\n",
       "2 ребенка       2128\n",
       "Много детей      380\n",
       "Name: children_category, dtype: int64"
      ]
     },
     "execution_count": 20,
     "metadata": {},
     "output_type": "execute_result"
    }
   ],
   "source": [
    "# Поскольку больше двух детей данных в принципе не очень много, имеет смысл объеденить их в одну категорию\n",
    "def make_children_category(children_count):\n",
    "    if children_count == 1:\n",
    "        return '1 ребенок'\n",
    "    if children_count == 2:\n",
    "        return '2 ребенка'\n",
    "    if children_count >= 3:\n",
    "        return 'Много детей'\n",
    "    return 'Нет детей'\n",
    "\n",
    "df['children_category'] = df['children_count'].apply(make_children_category)\n",
    "\n",
    "# проверим, что все ок\n",
    "df['children_category'].value_counts()"
   ]
  },
  {
   "cell_type": "code",
   "execution_count": 21,
   "metadata": {
    "scrolled": true
   },
   "outputs": [
    {
     "data": {
      "text/plain": [
       "От 100 до 150    6971\n",
       "От 200 до 500    5031\n",
       "От 150 до 200    4767\n",
       "От 50 до 100     4091\n",
       "До 50000          372\n",
       "Больше 500        222\n",
       "Name: income_category, dtype: int64"
      ]
     },
     "execution_count": 21,
     "metadata": {},
     "output_type": "execute_result"
    }
   ],
   "source": [
    "# уровень дохода также нужно определять конкретными категориями, иначе никакого анализа не получится\n",
    "# к тому же в нашем случае разброс от 20 тысяч до 2+ миллионов\n",
    "# будем использовать следующие: до 50, от 50 до 100, от 100 до 150, от 150 до 200, от 200 до 500, от 500 и выше\n",
    "\n",
    "def make_income_category(total_income):\n",
    "    if total_income < 50000:\n",
    "        return 'До 50000'\n",
    "    if 50000 <= total_income < 100000:\n",
    "        return 'От 50 до 100'\n",
    "    if 100000 <= total_income < 150000:\n",
    "        return 'От 100 до 150'\n",
    "    if 150000 <= total_income < 200000:\n",
    "        return 'От 150 до 200'\n",
    "    if 200000 <= total_income < 500000:\n",
    "        return 'От 200 до 500'\n",
    "    return 'Больше 500'\n",
    "\n",
    "\n",
    "df['income_category'] = df['total_income'].apply(make_income_category)\n",
    "\n",
    "# проверим, что все ок\n",
    "df['income_category'].value_counts()"
   ]
  },
  {
   "cell_type": "markdown",
   "metadata": {},
   "source": [
    "### Вывод"
   ]
  },
  {
   "cell_type": "markdown",
   "metadata": {},
   "source": [
    "Из любопытного:\n",
    "- Судя по уровню дохода, кредит не особо интересен тем, кто зарабатывает очень много, как и тем, кто зарабатывает мало. А вот остальным (в диапазоне от 50 до 500) он интересен. При чем ближе к середине этих групп наиболее интересен.\n",
    "- Кредит не бояться брать те, у кого нет детей, а чем детей больше - тем меньше желающих\n",
    "- Больше всего интересуют именно кредиты, связанные с недвижимостью"
   ]
  },
  {
   "cell_type": "markdown",
   "metadata": {},
   "source": [
    "### Категоризация данных с помощью квантилей (добавлено после ревью)"
   ]
  },
  {
   "cell_type": "code",
   "execution_count": 22,
   "metadata": {},
   "outputs": [
    {
     "data": {
      "text/plain": [
       "count    2.145400e+04\n",
       "mean     1.654530e+05\n",
       "std      9.828866e+04\n",
       "min      2.066700e+04\n",
       "25%      1.075155e+05\n",
       "50%      1.437075e+05\n",
       "75%      1.983070e+05\n",
       "max      2.265604e+06\n",
       "Name: total_income, dtype: float64"
      ]
     },
     "execution_count": 22,
     "metadata": {},
     "output_type": "execute_result"
    }
   ],
   "source": [
    "# посмотрим отсечки, что предложит нам describe\n",
    "df['total_income'].describe()"
   ]
  },
  {
   "cell_type": "code",
   "execution_count": 23,
   "metadata": {},
   "outputs": [
    {
     "data": {
      "text/plain": [
       "0.25    107515.5\n",
       "0.50    143707.5\n",
       "0.75    198307.0\n",
       "Name: total_income, dtype: float64"
      ]
     },
     "execution_count": 23,
     "metadata": {},
     "output_type": "execute_result"
    }
   ],
   "source": [
    "# в более удобном виде через quantile\n",
    "df['total_income'].quantile([.25, .5, .75])"
   ]
  },
  {
   "cell_type": "code",
   "execution_count": 24,
   "metadata": {},
   "outputs": [
    {
     "data": {
      "text/plain": [
       "До 107515              5364\n",
       "Больше 198307          5364\n",
       "От 107515 до 143707    5363\n",
       "От 143707 до 198307    5363\n",
       "Name: income_quantile_category, dtype: int64"
      ]
     },
     "execution_count": 24,
     "metadata": {},
     "output_type": "execute_result"
    }
   ],
   "source": [
    "def make_income_category_by_quantile(total_income):\n",
    "    if total_income < 107515.5:\n",
    "        return 'До 107515'\n",
    "    if 107515.5 <= total_income < 143707.5:\n",
    "        return 'От 107515 до 143707'\n",
    "    if 143707.5 <= total_income < 198307:\n",
    "        return 'От 143707 до 198307'\n",
    "    return 'Больше 198307'\n",
    "\n",
    "df['income_quantile_category'] = df['total_income'].apply(make_income_category_by_quantile)\n",
    "\n",
    "# проверим, что все ок\n",
    "df['income_quantile_category'].value_counts()"
   ]
  },
  {
   "cell_type": "code",
   "execution_count": 56,
   "metadata": {},
   "outputs": [
    {
     "data": {
      "text/html": [
       "<div>\n",
       "<style scoped>\n",
       "    .dataframe tbody tr th:only-of-type {\n",
       "        vertical-align: middle;\n",
       "    }\n",
       "\n",
       "    .dataframe tbody tr th {\n",
       "        vertical-align: top;\n",
       "    }\n",
       "\n",
       "    .dataframe thead tr th {\n",
       "        text-align: left;\n",
       "    }\n",
       "\n",
       "    .dataframe thead tr:last-of-type th {\n",
       "        text-align: right;\n",
       "    }\n",
       "</style>\n",
       "<table border=\"1\" class=\"dataframe\">\n",
       "  <thead>\n",
       "    <tr>\n",
       "      <th></th>\n",
       "      <th>sum</th>\n",
       "      <th>count</th>\n",
       "      <th>make_proportion</th>\n",
       "    </tr>\n",
       "    <tr>\n",
       "      <th></th>\n",
       "      <th>debt</th>\n",
       "      <th>debt</th>\n",
       "      <th>debt</th>\n",
       "    </tr>\n",
       "    <tr>\n",
       "      <th>income_quantile_category</th>\n",
       "      <th></th>\n",
       "      <th></th>\n",
       "      <th></th>\n",
       "    </tr>\n",
       "  </thead>\n",
       "  <tbody>\n",
       "    <tr>\n",
       "      <td>Больше 198307</td>\n",
       "      <td>373</td>\n",
       "      <td>5364</td>\n",
       "      <td>6.95%</td>\n",
       "    </tr>\n",
       "    <tr>\n",
       "      <td>До 107515</td>\n",
       "      <td>427</td>\n",
       "      <td>5364</td>\n",
       "      <td>7.96%</td>\n",
       "    </tr>\n",
       "    <tr>\n",
       "      <td>От 143707 до 198307</td>\n",
       "      <td>456</td>\n",
       "      <td>5363</td>\n",
       "      <td>8.5%</td>\n",
       "    </tr>\n",
       "    <tr>\n",
       "      <td>От 107515 до 143707</td>\n",
       "      <td>485</td>\n",
       "      <td>5363</td>\n",
       "      <td>9.04%</td>\n",
       "    </tr>\n",
       "  </tbody>\n",
       "</table>\n",
       "</div>"
      ],
      "text/plain": [
       "                          sum count make_proportion\n",
       "                         debt  debt            debt\n",
       "income_quantile_category                           \n",
       "Больше 198307             373  5364           6.95%\n",
       "До 107515                 427  5364           7.96%\n",
       "От 143707 до 198307       456  5363            8.5%\n",
       "От 107515 до 143707       485  5363           9.04%"
      ]
     },
     "execution_count": 56,
     "metadata": {},
     "output_type": "execute_result"
    }
   ],
   "source": [
    "# построим сводную таблицу для ответа на вопрос\n",
    "data_pivot = df.pivot_table(index=['income_quantile_category'], values=[\"debt\"], aggfunc=['sum', 'count', make_proportion])\n",
    "# сортируем, чтобы сразу видеть у кого ситуация лучше\n",
    "data_pivot = data_pivot.sort_values(by=('make_proportion', 'debt'))\n",
    "data_pivot"
   ]
  },
  {
   "cell_type": "markdown",
   "metadata": {},
   "source": [
    "### Вывод"
   ]
  },
  {
   "cell_type": "markdown",
   "metadata": {},
   "source": [
    "На самом деле, распределение по количеству измерений, оказалось\n",
    "- Более репрезентативным (т.к. доверия этим данным больше за счет количества измерений)\n",
    "- Но, возможно, менее показательным\n",
    "\n",
    "Здесь также видно, что чем больше денег и чем меньше, тем меньше возникает просрочек. Однако тот факт, что до 50к просрочек еще меньше и что количество заявок, как при низком доходе, так и при высоком, маленькое - по этим данным не видно.\n",
    "\n",
    "Также разница между конкретно этими группами оказалась не настолько очевидной и не позволяет сделать вывод о силе тенденции.\n",
    "Однако, инструмент очень удобен для старта и общего анализа данных.\n",
    "\n",
    "Эти данные мы используем в итоговом выводе"
   ]
  },
  {
   "cell_type": "markdown",
   "metadata": {},
   "source": [
    "### Выделение словарей"
   ]
  },
  {
   "cell_type": "markdown",
   "metadata": {},
   "source": [
    "По данным у нас напрашиваются два словаря. Более того, у нас уже предусмотрены соответствующие id\n",
    "- `education_level`\n",
    "- `family_status`\n",
    "\n",
    "Помимо этого, можно вынести отдельно `gender` и `purpose`. Но `gender` не занимает много места и не сильно нужен нам для анализа, по сути столбец вовсе можно удалить. А `purpose` не отражает реальных категорий, поэтому мы выделяли типы отдельно, поэтому словарь для него выйдет избыточным.\n",
    "\n",
    "Поэтому остановимся на словарях для `education_level` и `family_status`"
   ]
  },
  {
   "cell_type": "code",
   "execution_count": 47,
   "metadata": {},
   "outputs": [
    {
     "data": {
      "text/html": [
       "<div>\n",
       "<style scoped>\n",
       "    .dataframe tbody tr th:only-of-type {\n",
       "        vertical-align: middle;\n",
       "    }\n",
       "\n",
       "    .dataframe tbody tr th {\n",
       "        vertical-align: top;\n",
       "    }\n",
       "\n",
       "    .dataframe thead th {\n",
       "        text-align: right;\n",
       "    }\n",
       "</style>\n",
       "<table border=\"1\" class=\"dataframe\">\n",
       "  <thead>\n",
       "    <tr style=\"text-align: right;\">\n",
       "      <th></th>\n",
       "      <th>education_id</th>\n",
       "      <th>education_level</th>\n",
       "    </tr>\n",
       "  </thead>\n",
       "  <tbody>\n",
       "    <tr>\n",
       "      <td>0</td>\n",
       "      <td>0</td>\n",
       "      <td>высшее</td>\n",
       "    </tr>\n",
       "    <tr>\n",
       "      <td>1</td>\n",
       "      <td>1</td>\n",
       "      <td>среднее</td>\n",
       "    </tr>\n",
       "    <tr>\n",
       "      <td>2</td>\n",
       "      <td>2</td>\n",
       "      <td>неоконченное высшее</td>\n",
       "    </tr>\n",
       "    <tr>\n",
       "      <td>3</td>\n",
       "      <td>3</td>\n",
       "      <td>начальное</td>\n",
       "    </tr>\n",
       "    <tr>\n",
       "      <td>4</td>\n",
       "      <td>4</td>\n",
       "      <td>ученая степень</td>\n",
       "    </tr>\n",
       "  </tbody>\n",
       "</table>\n",
       "</div>"
      ],
      "text/plain": [
       "   education_id      education_level\n",
       "0             0               высшее\n",
       "1             1              среднее\n",
       "2             2  неоконченное высшее\n",
       "3             3            начальное\n",
       "4             4       ученая степень"
      ]
     },
     "execution_count": 47,
     "metadata": {},
     "output_type": "execute_result"
    }
   ],
   "source": [
    "# выделим словарь для education\n",
    "education_dict = df[['education_id', 'education_level']]\n",
    "# удалим дубликаты из словаря\n",
    "education_dict = education_dict.drop_duplicates().reset_index(drop=True)\n",
    "# проверим содержимое\n",
    "education_dict.head(10)"
   ]
  },
  {
   "cell_type": "code",
   "execution_count": 48,
   "metadata": {},
   "outputs": [
    {
     "data": {
      "text/html": [
       "<div>\n",
       "<style scoped>\n",
       "    .dataframe tbody tr th:only-of-type {\n",
       "        vertical-align: middle;\n",
       "    }\n",
       "\n",
       "    .dataframe tbody tr th {\n",
       "        vertical-align: top;\n",
       "    }\n",
       "\n",
       "    .dataframe thead th {\n",
       "        text-align: right;\n",
       "    }\n",
       "</style>\n",
       "<table border=\"1\" class=\"dataframe\">\n",
       "  <thead>\n",
       "    <tr style=\"text-align: right;\">\n",
       "      <th></th>\n",
       "      <th>family_status_id</th>\n",
       "      <th>family_status</th>\n",
       "    </tr>\n",
       "  </thead>\n",
       "  <tbody>\n",
       "    <tr>\n",
       "      <td>0</td>\n",
       "      <td>0</td>\n",
       "      <td>женат / замужем</td>\n",
       "    </tr>\n",
       "    <tr>\n",
       "      <td>1</td>\n",
       "      <td>1</td>\n",
       "      <td>гражданский брак</td>\n",
       "    </tr>\n",
       "    <tr>\n",
       "      <td>2</td>\n",
       "      <td>2</td>\n",
       "      <td>вдовец / вдова</td>\n",
       "    </tr>\n",
       "    <tr>\n",
       "      <td>3</td>\n",
       "      <td>3</td>\n",
       "      <td>в разводе</td>\n",
       "    </tr>\n",
       "    <tr>\n",
       "      <td>4</td>\n",
       "      <td>4</td>\n",
       "      <td>не женат / не замужем</td>\n",
       "    </tr>\n",
       "  </tbody>\n",
       "</table>\n",
       "</div>"
      ],
      "text/plain": [
       "   family_status_id          family_status\n",
       "0                 0        женат / замужем\n",
       "1                 1       гражданский брак\n",
       "2                 2         вдовец / вдова\n",
       "3                 3              в разводе\n",
       "4                 4  не женат / не замужем"
      ]
     },
     "execution_count": 48,
     "metadata": {},
     "output_type": "execute_result"
    }
   ],
   "source": [
    "# аналогичным образом поступим для family_status\n",
    "\n",
    "# выделим словарь для family_status\n",
    "family_status_dict = df[['family_status_id', 'family_status']]\n",
    "# удалим дубликаты из словаря\n",
    "family_status_dict = family_status_dict.drop_duplicates().reset_index(drop=True)\n",
    "# проверим содержимое\n",
    "family_status_dict.head(10)"
   ]
  },
  {
   "cell_type": "code",
   "execution_count": 49,
   "metadata": {},
   "outputs": [
    {
     "name": "stdout",
     "output_type": "stream",
     "text": [
      "<class 'pandas.core.frame.DataFrame'>\n",
      "Int64Index: 21454 entries, 0 to 21524\n",
      "Data columns (total 13 columns):\n",
      "children_count              21454 non-null int64\n",
      "full_years                  21454 non-null int64\n",
      "education_id                21454 non-null int64\n",
      "family_status_id            21454 non-null int64\n",
      "gender                      21454 non-null object\n",
      "income_type                 21454 non-null object\n",
      "debt                        21454 non-null int64\n",
      "total_income                21454 non-null int64\n",
      "purpose                     21454 non-null object\n",
      "true_purpose                21454 non-null object\n",
      "children_category           21454 non-null object\n",
      "income_category             21454 non-null object\n",
      "income_quantile_category    21454 non-null object\n",
      "dtypes: int64(6), object(7)\n",
      "memory usage: 2.3+ MB\n"
     ]
    }
   ],
   "source": [
    "# т.к. словари мы сохранили, а id проставлены, удалим столбцы education_level и family_status из основной таблицы\n",
    "del df['education_level']\n",
    "del df['family_status']\n",
    "\n",
    "#посмотрим, остались ли столбцы\n",
    "df.info()"
   ]
  },
  {
   "cell_type": "markdown",
   "metadata": {},
   "source": [
    "### Шаг 3. Ответьте на вопросы"
   ]
  },
  {
   "cell_type": "markdown",
   "metadata": {},
   "source": [
    "### Есть ли зависимость между наличием детей и возвратом кредита в срок?"
   ]
  },
  {
   "cell_type": "code",
   "execution_count": 50,
   "metadata": {},
   "outputs": [
    {
     "data": {
      "text/html": [
       "<div>\n",
       "<style scoped>\n",
       "    .dataframe tbody tr th:only-of-type {\n",
       "        vertical-align: middle;\n",
       "    }\n",
       "\n",
       "    .dataframe tbody tr th {\n",
       "        vertical-align: top;\n",
       "    }\n",
       "\n",
       "    .dataframe thead tr th {\n",
       "        text-align: left;\n",
       "    }\n",
       "\n",
       "    .dataframe thead tr:last-of-type th {\n",
       "        text-align: right;\n",
       "    }\n",
       "</style>\n",
       "<table border=\"1\" class=\"dataframe\">\n",
       "  <thead>\n",
       "    <tr>\n",
       "      <th></th>\n",
       "      <th>sum</th>\n",
       "      <th>count</th>\n",
       "      <th>make_proportion</th>\n",
       "    </tr>\n",
       "    <tr>\n",
       "      <th></th>\n",
       "      <th>debt</th>\n",
       "      <th>debt</th>\n",
       "      <th>debt</th>\n",
       "    </tr>\n",
       "    <tr>\n",
       "      <th>children_category</th>\n",
       "      <th></th>\n",
       "      <th></th>\n",
       "      <th></th>\n",
       "    </tr>\n",
       "  </thead>\n",
       "  <tbody>\n",
       "    <tr>\n",
       "      <td>Нет детей</td>\n",
       "      <td>1063</td>\n",
       "      <td>14091</td>\n",
       "      <td>7.54%</td>\n",
       "    </tr>\n",
       "    <tr>\n",
       "      <td>Много детей</td>\n",
       "      <td>31</td>\n",
       "      <td>380</td>\n",
       "      <td>8.16%</td>\n",
       "    </tr>\n",
       "    <tr>\n",
       "      <td>1 ребенок</td>\n",
       "      <td>445</td>\n",
       "      <td>4855</td>\n",
       "      <td>9.17%</td>\n",
       "    </tr>\n",
       "    <tr>\n",
       "      <td>2 ребенка</td>\n",
       "      <td>202</td>\n",
       "      <td>2128</td>\n",
       "      <td>9.49%</td>\n",
       "    </tr>\n",
       "  </tbody>\n",
       "</table>\n",
       "</div>"
      ],
      "text/plain": [
       "                    sum  count make_proportion\n",
       "                   debt   debt            debt\n",
       "children_category                             \n",
       "Нет детей          1063  14091           7.54%\n",
       "Много детей          31    380           8.16%\n",
       "1 ребенок           445   4855           9.17%\n",
       "2 ребенка           202   2128           9.49%"
      ]
     },
     "execution_count": 50,
     "metadata": {},
     "output_type": "execute_result"
    }
   ],
   "source": [
    "# функция, что посчитает нам отношение в процентах, будем использовать для ответов на все вопросы\n",
    "def make_proportion(pdSerises):\n",
    "    return str(round((pdSerises.sum() / pdSerises.count()) * 100, 2)) + '%'\n",
    "\n",
    "# построим сводную таблицу для ответа на вопрос\n",
    "data_pivot = df.pivot_table(index=['children_category'], values=[\"debt\"], aggfunc=['sum', 'count', make_proportion])\n",
    "# сортируем, чтобы сразу видеть у кого ситуация лучше\n",
    "data_pivot = data_pivot.sort_values(by=('make_proportion', 'debt'))\n",
    "data_pivot"
   ]
  },
  {
   "cell_type": "markdown",
   "metadata": {},
   "source": [
    "### Вывод"
   ]
  },
  {
   "cell_type": "markdown",
   "metadata": {},
   "source": [
    "Когда детей нет, вероятность возникновения задолженности чуть ниже, чем если дети есть. Что любопытно, когда детей много, задолженность возникает примерно на том же уровне. В остальных случаях вероятность просрочки выше.\n",
    "\n",
    "Но на самом деле разница не такая большая.\n",
    "Детальные выводы помогла бы сделать медиана по сумме запрошенных кредитов, но этих данных пока нет."
   ]
  },
  {
   "cell_type": "markdown",
   "metadata": {},
   "source": [
    "### Есть ли зависимость между семейным положением и возвратом кредита в срок?"
   ]
  },
  {
   "cell_type": "code",
   "execution_count": 51,
   "metadata": {},
   "outputs": [
    {
     "data": {
      "text/html": [
       "<div>\n",
       "<style scoped>\n",
       "    .dataframe tbody tr th:only-of-type {\n",
       "        vertical-align: middle;\n",
       "    }\n",
       "\n",
       "    .dataframe tbody tr th {\n",
       "        vertical-align: top;\n",
       "    }\n",
       "\n",
       "    .dataframe thead tr th {\n",
       "        text-align: left;\n",
       "    }\n",
       "\n",
       "    .dataframe thead tr:last-of-type th {\n",
       "        text-align: right;\n",
       "    }\n",
       "</style>\n",
       "<table border=\"1\" class=\"dataframe\">\n",
       "  <thead>\n",
       "    <tr>\n",
       "      <th></th>\n",
       "      <th>sum</th>\n",
       "      <th>count</th>\n",
       "      <th>make_proportion</th>\n",
       "    </tr>\n",
       "    <tr>\n",
       "      <th></th>\n",
       "      <th>debt</th>\n",
       "      <th>debt</th>\n",
       "      <th>debt</th>\n",
       "    </tr>\n",
       "    <tr>\n",
       "      <th>family_status</th>\n",
       "      <th></th>\n",
       "      <th></th>\n",
       "      <th></th>\n",
       "    </tr>\n",
       "  </thead>\n",
       "  <tbody>\n",
       "    <tr>\n",
       "      <td>вдовец / вдова</td>\n",
       "      <td>63</td>\n",
       "      <td>959</td>\n",
       "      <td>6.57%</td>\n",
       "    </tr>\n",
       "    <tr>\n",
       "      <td>в разводе</td>\n",
       "      <td>85</td>\n",
       "      <td>1195</td>\n",
       "      <td>7.11%</td>\n",
       "    </tr>\n",
       "    <tr>\n",
       "      <td>женат / замужем</td>\n",
       "      <td>931</td>\n",
       "      <td>12339</td>\n",
       "      <td>7.55%</td>\n",
       "    </tr>\n",
       "    <tr>\n",
       "      <td>гражданский брак</td>\n",
       "      <td>388</td>\n",
       "      <td>4151</td>\n",
       "      <td>9.35%</td>\n",
       "    </tr>\n",
       "    <tr>\n",
       "      <td>не женат / не замужем</td>\n",
       "      <td>274</td>\n",
       "      <td>2810</td>\n",
       "      <td>9.75%</td>\n",
       "    </tr>\n",
       "  </tbody>\n",
       "</table>\n",
       "</div>"
      ],
      "text/plain": [
       "                       sum  count make_proportion\n",
       "                      debt   debt            debt\n",
       "family_status                                    \n",
       "вдовец / вдова          63    959           6.57%\n",
       "в разводе               85   1195           7.11%\n",
       "женат / замужем        931  12339           7.55%\n",
       "гражданский брак       388   4151           9.35%\n",
       "не женат / не замужем  274   2810           9.75%"
      ]
     },
     "execution_count": 51,
     "metadata": {},
     "output_type": "execute_result"
    }
   ],
   "source": [
    "# поскольку мы до этого удаляли из основных данных текстовые значения family_status, тут необходимо их вернуть\n",
    "df_with_family_status = df.merge(family_status_dict, on='family_status_id', how='left')\n",
    "\n",
    "# построим сводную таблицу для ответа на вопрос (по фрейму со значениями из словаря)\n",
    "data_pivot = df_with_family_status.pivot_table(index=['family_status'], values=[\"debt\"], aggfunc=['sum', 'count', make_proportion])\n",
    "# сортируем, чтобы сразу видеть у кого ситуация лучше\n",
    "data_pivot = data_pivot.sort_values(by=('make_proportion', 'debt'))\n",
    "data_pivot"
   ]
  },
  {
   "cell_type": "markdown",
   "metadata": {},
   "source": [
    "### Вывод"
   ]
  },
  {
   "cell_type": "markdown",
   "metadata": {},
   "source": [
    "Интересно, что вдовец/вдова и люди в разводе имеют наименьший риск просрочки. Для меня это даже удивительно.\n",
    "Возможно, это связно с тем, что кредит берется более осознанно.\n",
    "\n",
    "А вот самая \"опасная\" категория - неженатые и состоящие в гражданском браке.\n",
    "Чем серьезней отношения - тем меньше шанс просрочки?"
   ]
  },
  {
   "cell_type": "markdown",
   "metadata": {},
   "source": [
    "### Есть ли зависимость между уровнем дохода и возвратом кредита в срок?"
   ]
  },
  {
   "cell_type": "code",
   "execution_count": 52,
   "metadata": {},
   "outputs": [
    {
     "data": {
      "text/html": [
       "<div>\n",
       "<style scoped>\n",
       "    .dataframe tbody tr th:only-of-type {\n",
       "        vertical-align: middle;\n",
       "    }\n",
       "\n",
       "    .dataframe tbody tr th {\n",
       "        vertical-align: top;\n",
       "    }\n",
       "\n",
       "    .dataframe thead tr th {\n",
       "        text-align: left;\n",
       "    }\n",
       "\n",
       "    .dataframe thead tr:last-of-type th {\n",
       "        text-align: right;\n",
       "    }\n",
       "</style>\n",
       "<table border=\"1\" class=\"dataframe\">\n",
       "  <thead>\n",
       "    <tr>\n",
       "      <th></th>\n",
       "      <th>sum</th>\n",
       "      <th>count</th>\n",
       "      <th>make_proportion</th>\n",
       "    </tr>\n",
       "    <tr>\n",
       "      <th></th>\n",
       "      <th>debt</th>\n",
       "      <th>debt</th>\n",
       "      <th>debt</th>\n",
       "    </tr>\n",
       "    <tr>\n",
       "      <th>income_category</th>\n",
       "      <th></th>\n",
       "      <th></th>\n",
       "      <th></th>\n",
       "    </tr>\n",
       "  </thead>\n",
       "  <tbody>\n",
       "    <tr>\n",
       "      <td>До 50000</td>\n",
       "      <td>23</td>\n",
       "      <td>372</td>\n",
       "      <td>6.18%</td>\n",
       "    </tr>\n",
       "    <tr>\n",
       "      <td>Больше 500</td>\n",
       "      <td>14</td>\n",
       "      <td>222</td>\n",
       "      <td>6.31%</td>\n",
       "    </tr>\n",
       "    <tr>\n",
       "      <td>От 200 до 500</td>\n",
       "      <td>352</td>\n",
       "      <td>5031</td>\n",
       "      <td>7.0%</td>\n",
       "    </tr>\n",
       "    <tr>\n",
       "      <td>От 50 до 100</td>\n",
       "      <td>331</td>\n",
       "      <td>4091</td>\n",
       "      <td>8.09%</td>\n",
       "    </tr>\n",
       "    <tr>\n",
       "      <td>От 150 до 200</td>\n",
       "      <td>405</td>\n",
       "      <td>4767</td>\n",
       "      <td>8.5%</td>\n",
       "    </tr>\n",
       "    <tr>\n",
       "      <td>От 100 до 150</td>\n",
       "      <td>616</td>\n",
       "      <td>6971</td>\n",
       "      <td>8.84%</td>\n",
       "    </tr>\n",
       "  </tbody>\n",
       "</table>\n",
       "</div>"
      ],
      "text/plain": [
       "                 sum count make_proportion\n",
       "                debt  debt            debt\n",
       "income_category                           \n",
       "До 50000          23   372           6.18%\n",
       "Больше 500        14   222           6.31%\n",
       "От 200 до 500    352  5031            7.0%\n",
       "От 50 до 100     331  4091           8.09%\n",
       "От 150 до 200    405  4767            8.5%\n",
       "От 100 до 150    616  6971           8.84%"
      ]
     },
     "execution_count": 52,
     "metadata": {},
     "output_type": "execute_result"
    }
   ],
   "source": [
    "# построим сводную таблицу для ответа на вопрос\n",
    "data_pivot = df.pivot_table(index=['income_category'], values=[\"debt\"], aggfunc=['sum', 'count', make_proportion])\n",
    "# сортируем, чтобы сразу видеть у кого ситуация лучше\n",
    "data_pivot = data_pivot.sort_values(by=('make_proportion', 'debt'))\n",
    "data_pivot"
   ]
  },
  {
   "cell_type": "markdown",
   "metadata": {},
   "source": [
    "### Вывод"
   ]
  },
  {
   "cell_type": "markdown",
   "metadata": {},
   "source": [
    "Тут мы видим, что меньше всего просрочка у самых обеспеченных людей и у тех, у кого денег особо и нет. При чем ни первые, ни вторые не особо любят оформлять заявки на кредит.\n",
    "\n",
    "А вот самыя \"опасная\" группа доходов - у условного среднего класса."
   ]
  },
  {
   "cell_type": "markdown",
   "metadata": {},
   "source": [
    "### Как разные цели кредита влияют на его возврат в срок?"
   ]
  },
  {
   "cell_type": "code",
   "execution_count": 53,
   "metadata": {},
   "outputs": [
    {
     "data": {
      "text/html": [
       "<div>\n",
       "<style scoped>\n",
       "    .dataframe tbody tr th:only-of-type {\n",
       "        vertical-align: middle;\n",
       "    }\n",
       "\n",
       "    .dataframe tbody tr th {\n",
       "        vertical-align: top;\n",
       "    }\n",
       "\n",
       "    .dataframe thead tr th {\n",
       "        text-align: left;\n",
       "    }\n",
       "\n",
       "    .dataframe thead tr:last-of-type th {\n",
       "        text-align: right;\n",
       "    }\n",
       "</style>\n",
       "<table border=\"1\" class=\"dataframe\">\n",
       "  <thead>\n",
       "    <tr>\n",
       "      <th></th>\n",
       "      <th>sum</th>\n",
       "      <th>count</th>\n",
       "      <th>make_proportion</th>\n",
       "    </tr>\n",
       "    <tr>\n",
       "      <th></th>\n",
       "      <th>debt</th>\n",
       "      <th>debt</th>\n",
       "      <th>debt</th>\n",
       "    </tr>\n",
       "    <tr>\n",
       "      <th>true_purpose</th>\n",
       "      <th></th>\n",
       "      <th></th>\n",
       "      <th></th>\n",
       "    </tr>\n",
       "  </thead>\n",
       "  <tbody>\n",
       "    <tr>\n",
       "      <td>недвижимость</td>\n",
       "      <td>782</td>\n",
       "      <td>10811</td>\n",
       "      <td>7.23%</td>\n",
       "    </tr>\n",
       "    <tr>\n",
       "      <td>свадьба</td>\n",
       "      <td>186</td>\n",
       "      <td>2324</td>\n",
       "      <td>8.0%</td>\n",
       "    </tr>\n",
       "    <tr>\n",
       "      <td>образование</td>\n",
       "      <td>370</td>\n",
       "      <td>4013</td>\n",
       "      <td>9.22%</td>\n",
       "    </tr>\n",
       "    <tr>\n",
       "      <td>автомобиль</td>\n",
       "      <td>403</td>\n",
       "      <td>4306</td>\n",
       "      <td>9.36%</td>\n",
       "    </tr>\n",
       "  </tbody>\n",
       "</table>\n",
       "</div>"
      ],
      "text/plain": [
       "              sum  count make_proportion\n",
       "             debt   debt            debt\n",
       "true_purpose                            \n",
       "недвижимость  782  10811           7.23%\n",
       "свадьба       186   2324            8.0%\n",
       "образование   370   4013           9.22%\n",
       "автомобиль    403   4306           9.36%"
      ]
     },
     "execution_count": 53,
     "metadata": {},
     "output_type": "execute_result"
    }
   ],
   "source": [
    "# построим сводную таблицу для ответа на вопрос\n",
    "data_pivot = df.pivot_table(index=['true_purpose'], values=[\"debt\"], aggfunc=['sum', 'count', make_proportion])\n",
    "# сортируем, чтобы сразу видеть у кого ситуация лучше\n",
    "data_pivot = data_pivot.sort_values(by=('make_proportion', 'debt'))\n",
    "data_pivot"
   ]
  },
  {
   "cell_type": "markdown",
   "metadata": {},
   "source": [
    "### Вывод"
   ]
  },
  {
   "cell_type": "markdown",
   "metadata": {},
   "source": [
    "Выгоднее всего давать кредиты на недвижимость, а автомобиль и образование - в зоне риска.\n",
    "Хоть абсолютная разница не такая большая, относительно друг друга она составляет порядка 22%, что уже не мало"
   ]
  },
  {
   "cell_type": "markdown",
   "metadata": {},
   "source": [
    "### Шаг 4. Общий вывод"
   ]
  },
  {
   "cell_type": "markdown",
   "metadata": {},
   "source": [
    "Самый идеальный заемщик - это человек без детей, состоящий или состоявший в официальных отношениях, имеющий уровень дохода выше среднего и берущий деньги на недвижимость.\n",
    "\n",
    "\"Разброс\" просроченных выплат по каждой из категорий примерно одинаковый. В среднем, это диапазоны от 7 до 9 процентов. \n",
    "В остальном разница в абсолютных цифрах не такая большая. Однако в относительных разница составляет в среднем 2 процента, что означает разницу в вероятности просрочки платежа на 20% между более \n",
    "\n",
    "Детально по категориям:\n",
    "- Влияние наличия детей на вероятность просрочки платежа\n",
    " - По наличию детей\n",
    "   1. Нет детей - 7.54%\n",
    "   2. Много детей - 8.16%\n",
    "   3. 1 ребенок - 9.17%\n",
    "   4. 2 ребенка - 9.49%\n",
    " - Абсолютная разница между минимальным и максимальным значением - 1.95%\n",
    " - Относительная разница между минимальным и максимальным значением - 20.54%\n",
    "- Влияние семейного положения на вероятность просрочки платежа\n",
    " - По семейному положению\n",
    "   1. вдовец / вдова - 6.57%\n",
    "   2. в разводе - 7.11%\n",
    "   3. женат / замужем - 7.55%\n",
    "   4. гражданский брак - 9.35%\n",
    "   5. не женат / не замужем - 9.75%\n",
    " - Абсолютная разница между минимальным и максимальным значением - 3.18%\n",
    " - Относительная разница между минимальным и максимальным значением - 32,6%\n",
    "- Влияние уровня дохода на просрочку платежа\n",
    " - По уровню дохода\n",
    "   1. До 50000 - 6.18%\n",
    "   2. Больше 500 - 6.31%\n",
    "   3. От 200 до 500\t- 7.0%\n",
    "   4. От 50 до 100 - 8.09%\n",
    "   5. От 150 до 200 - 8.5%\n",
    "   6. От 100 до 150\t- 8.84%\n",
    " - Абсолютная разница между минимальным и максимальным значением - 2.66%\n",
    " - Относительная разница между минимальным и максимальным значением - 30.09%\n",
    "- Влияние цели кредита на вероятность возврата кредита в срок\n",
    " - По цели кредита\n",
    "   1. недвижимость - 7.23%\n",
    "   2. свадьба - 8.0%\n",
    "   3. образование - 9.22%\n",
    "   4. автомобиль - 9.36%\n",
    " - Абсолютная разница между минимальным и максимальным значением - 2.13%\n",
    " - Относительная разница между минимальным и максимальным значением - 22.76%\n",
    "\n",
    "При этом, нужно отметить, что размер выборки уровня дохода для значений \"до 50000\" и \"больше 500000\" мал. Из этого можно сделать вывод, что люди со сверхдоходами не так часто нуждаются в кредитах, а также и то, что люди с малым количеством дохода также опасаются их брать. Однако же, это означает, что итоговые данные по этим выборкам могут быть статистически неточными.\n",
    "\n",
    "Поэтому, расширим наш вывод. Используя квантили для распределения по группам уровня дохода мы получаем следующие данные:\n",
    "- Влияние уровня дохода по равным квантилям\n",
    " - По уровню дохода\n",
    "   1. Больше 198307 - 6.95%\n",
    "   2. До 107515 - 7.96%\n",
    "   3. От 143707 до 198307 - 8.5%\n",
    "   4. От 107515 до 143707 - 9.04%\n",
    " - Абсолютная разница между минимальным и максимальным значением - 2.09%\n",
    " - Относительная разница между минимальным и максимальным значением - 23.12%\n",
    " \n",
    "Таким образом, несмотря на схожий в процентном отношении разброс значений, наибольшее влияние на вероятность просрочки показывает именно семейное положение. Во вторую очередь, следует обращать внимание на уровень дохода. Наименьшее влияние оказывают цели кредита и наличие детей."
   ]
  },
  {
   "cell_type": "code",
   "execution_count": null,
   "metadata": {},
   "outputs": [],
   "source": []
  }
 ],
 "metadata": {
  "kernelspec": {
   "display_name": "Python 3",
   "language": "python",
   "name": "python3"
  },
  "language_info": {
   "codemirror_mode": {
    "name": "ipython",
    "version": 3
   },
   "file_extension": ".py",
   "mimetype": "text/x-python",
   "name": "python",
   "nbconvert_exporter": "python",
   "pygments_lexer": "ipython3",
   "version": "3.7.8"
  },
  "toc": {
   "base_numbering": 1,
   "nav_menu": {},
   "number_sections": true,
   "sideBar": true,
   "skip_h1_title": true,
   "title_cell": "Table of Contents",
   "title_sidebar": "Contents",
   "toc_cell": false,
   "toc_position": {},
   "toc_section_display": true,
   "toc_window_display": false
  }
 },
 "nbformat": 4,
 "nbformat_minor": 2
}