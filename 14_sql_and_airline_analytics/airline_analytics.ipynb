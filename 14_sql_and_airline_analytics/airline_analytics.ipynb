{
 "cells": [
  {
   "cell_type": "markdown",
   "metadata": {},
   "source": [
    "Вы аналитик российской авиакомпании F9, выполняющей внутренние пассажирские перевозки. Важно понять предпочтения пользователей, покупающих билеты на разные направления.\n",
    "\n",
    "Вам предстоит изучить базу данных и проанализировать спрос пассажиров на рейсы в города, где проходят крупнейшие культурные фестивали."
   ]
  },
  {
   "cell_type": "markdown",
   "metadata": {},
   "source": [
    "**Шаг 1.  Аналитика средствами Python**\n",
    "\n",
    "У вас есть файлы, в которых содержатся результаты запросов из предыдущих заданий.\n",
    "\n",
    "**query_1.csv** — результат первого запроса. В нём содержится такая информация:\n",
    "\n",
    "- *model* — **модель самолета;\n",
    "- *flights_amount* — количество рейсов для каждой модели самолетов *model* в сентябре 2018 года.\n",
    "\n",
    "**query_3.csv** — результат третьего запроса. В нём содержится такая информация:\n",
    "\n",
    "- *city* — город;\n",
    "- *average_flights* — среднее количество рейсов, прибывающих в город (*city*) за день в сентябре 2018 года.\n",
    "\n",
    " Для этих двух наборов данных нужно:\n",
    "\n",
    "- импортировать файлы;\n",
    "- изучить данные в них;\n",
    "- проверить типы данных на корректность;\n",
    "- выбрать топ-10 городов по количеству рейсов;\n",
    "- построить графики: модели самолётов и количество рейсов, города и количество рейсов, топ-10 городов и количество рейсов;\n",
    "- сделать выводы по каждому из графиков, пояснить результат.\n",
    "\n",
    "**Шаг 2.  Проверка гипотезы средствами Python**\n",
    "\n",
    "**query_last.csv** — результат последнего запроса. В нём следующая информация:\n",
    "\n",
    "- *week_number* — **номер недели;\n",
    "- *ticket_amount* — количество проданных билетов за неделю;\n",
    "- *festival_week —* есть ли на этой неделе фестиваль;\n",
    "- *festival_name —* название фестиваля.\n",
    "\n",
    "Проверьте гипотезу: «Средний спрос на билеты во время фестивалей не отличается от среднего спроса на билеты в обычное время».\n",
    "\n",
    "Пороговое значение *alpha* задайте самостоятельно.\n",
    "\n",
    "Поясните:\n",
    "\n",
    "- Как вы формулировали нулевую и альтернативную гипотезы;\n",
    "- Какой критерий использовали для проверки гипотез и почему."
   ]
  },
  {
   "cell_type": "markdown",
   "metadata": {},
   "source": [
    "# 1. Аналитика"
   ]
  },
  {
   "cell_type": "code",
   "execution_count": 1,
   "metadata": {},
   "outputs": [],
   "source": [
    "# блок импорта\n",
    "import pandas as pd\n",
    "import numpy as np\n",
    "import matplotlib.pyplot as plt\n",
    "from scipy import stats as st\n",
    "from scipy.stats import mannwhitneyu"
   ]
  },
  {
   "cell_type": "code",
   "execution_count": 2,
   "metadata": {},
   "outputs": [],
   "source": [
    "# Запросы\n",
    "DATASET_QUERY1 = '/datasets/query_1.csv'\n",
    "DATASET_QUERY3 = '/datasets/query_3.csv'\n",
    "DATASET_QUERY5 = '/datasets/query_last.csv'\n",
    "\n",
    "# Импортированные данные\n",
    "df_query1 = pd.read_csv(DATASET_QUERY1)\n",
    "df_query3 = pd.read_csv(DATASET_QUERY3)\n",
    "df_query5 = pd.read_csv(DATASET_QUERY5)"
   ]
  },
  {
   "cell_type": "code",
   "execution_count": 3,
   "metadata": {},
   "outputs": [
    {
     "data": {
      "text/html": [
       "<div>\n",
       "<style scoped>\n",
       "    .dataframe tbody tr th:only-of-type {\n",
       "        vertical-align: middle;\n",
       "    }\n",
       "\n",
       "    .dataframe tbody tr th {\n",
       "        vertical-align: top;\n",
       "    }\n",
       "\n",
       "    .dataframe thead th {\n",
       "        text-align: right;\n",
       "    }\n",
       "</style>\n",
       "<table border=\"1\" class=\"dataframe\">\n",
       "  <thead>\n",
       "    <tr style=\"text-align: right;\">\n",
       "      <th></th>\n",
       "      <th>model</th>\n",
       "      <th>flights_amount</th>\n",
       "    </tr>\n",
       "  </thead>\n",
       "  <tbody>\n",
       "    <tr>\n",
       "      <td>0</td>\n",
       "      <td>Airbus A319-100</td>\n",
       "      <td>607</td>\n",
       "    </tr>\n",
       "    <tr>\n",
       "      <td>1</td>\n",
       "      <td>Airbus A321-200</td>\n",
       "      <td>960</td>\n",
       "    </tr>\n",
       "    <tr>\n",
       "      <td>2</td>\n",
       "      <td>Boeing 737-300</td>\n",
       "      <td>630</td>\n",
       "    </tr>\n",
       "    <tr>\n",
       "      <td>3</td>\n",
       "      <td>Boeing 767-300</td>\n",
       "      <td>600</td>\n",
       "    </tr>\n",
       "    <tr>\n",
       "      <td>4</td>\n",
       "      <td>Boeing 777-300</td>\n",
       "      <td>300</td>\n",
       "    </tr>\n",
       "    <tr>\n",
       "      <td>5</td>\n",
       "      <td>Bombardier CRJ-200</td>\n",
       "      <td>4446</td>\n",
       "    </tr>\n",
       "    <tr>\n",
       "      <td>6</td>\n",
       "      <td>Cessna 208 Caravan</td>\n",
       "      <td>4557</td>\n",
       "    </tr>\n",
       "    <tr>\n",
       "      <td>7</td>\n",
       "      <td>Sukhoi SuperJet-100</td>\n",
       "      <td>4185</td>\n",
       "    </tr>\n",
       "  </tbody>\n",
       "</table>\n",
       "</div>"
      ],
      "text/plain": [
       "                 model  flights_amount\n",
       "0      Airbus A319-100             607\n",
       "1      Airbus A321-200             960\n",
       "2       Boeing 737-300             630\n",
       "3       Boeing 767-300             600\n",
       "4       Boeing 777-300             300\n",
       "5   Bombardier CRJ-200            4446\n",
       "6   Cessna 208 Caravan            4557\n",
       "7  Sukhoi SuperJet-100            4185"
      ]
     },
     "execution_count": 3,
     "metadata": {},
     "output_type": "execute_result"
    }
   ],
   "source": [
    "# Посмотрим данные первого запроса (на каких самолетах больше всего летали)\n",
    "df_query1"
   ]
  },
  {
   "cell_type": "code",
   "execution_count": 4,
   "metadata": {},
   "outputs": [
    {
     "name": "stdout",
     "output_type": "stream",
     "text": [
      "<class 'pandas.core.frame.DataFrame'>\n",
      "RangeIndex: 8 entries, 0 to 7\n",
      "Data columns (total 2 columns):\n",
      "model             8 non-null object\n",
      "flights_amount    8 non-null int64\n",
      "dtypes: int64(1), object(1)\n",
      "memory usage: 256.0+ bytes\n"
     ]
    }
   ],
   "source": [
    "# Проверим типы\n",
    "df_query1.info()"
   ]
  },
  {
   "cell_type": "code",
   "execution_count": 5,
   "metadata": {},
   "outputs": [
    {
     "data": {
      "text/html": [
       "<div>\n",
       "<style scoped>\n",
       "    .dataframe tbody tr th:only-of-type {\n",
       "        vertical-align: middle;\n",
       "    }\n",
       "\n",
       "    .dataframe tbody tr th {\n",
       "        vertical-align: top;\n",
       "    }\n",
       "\n",
       "    .dataframe thead th {\n",
       "        text-align: right;\n",
       "    }\n",
       "</style>\n",
       "<table border=\"1\" class=\"dataframe\">\n",
       "  <thead>\n",
       "    <tr style=\"text-align: right;\">\n",
       "      <th></th>\n",
       "      <th>city</th>\n",
       "      <th>average_flights</th>\n",
       "    </tr>\n",
       "  </thead>\n",
       "  <tbody>\n",
       "    <tr>\n",
       "      <td>0</td>\n",
       "      <td>Абакан</td>\n",
       "      <td>3.870968</td>\n",
       "    </tr>\n",
       "    <tr>\n",
       "      <td>1</td>\n",
       "      <td>Анадырь</td>\n",
       "      <td>1.000000</td>\n",
       "    </tr>\n",
       "    <tr>\n",
       "      <td>2</td>\n",
       "      <td>Анапа</td>\n",
       "      <td>2.161290</td>\n",
       "    </tr>\n",
       "    <tr>\n",
       "      <td>3</td>\n",
       "      <td>Архангельск</td>\n",
       "      <td>5.354839</td>\n",
       "    </tr>\n",
       "    <tr>\n",
       "      <td>4</td>\n",
       "      <td>Астрахань</td>\n",
       "      <td>2.451613</td>\n",
       "    </tr>\n",
       "    <tr>\n",
       "      <td>...</td>\n",
       "      <td>...</td>\n",
       "      <td>...</td>\n",
       "    </tr>\n",
       "    <tr>\n",
       "      <td>96</td>\n",
       "      <td>Чита</td>\n",
       "      <td>1.580645</td>\n",
       "    </tr>\n",
       "    <tr>\n",
       "      <td>97</td>\n",
       "      <td>Элиста</td>\n",
       "      <td>4.870968</td>\n",
       "    </tr>\n",
       "    <tr>\n",
       "      <td>98</td>\n",
       "      <td>Южно-Сахалинск</td>\n",
       "      <td>4.290323</td>\n",
       "    </tr>\n",
       "    <tr>\n",
       "      <td>99</td>\n",
       "      <td>Якутск</td>\n",
       "      <td>2.741935</td>\n",
       "    </tr>\n",
       "    <tr>\n",
       "      <td>100</td>\n",
       "      <td>Ярославль</td>\n",
       "      <td>1.322581</td>\n",
       "    </tr>\n",
       "  </tbody>\n",
       "</table>\n",
       "<p>101 rows × 2 columns</p>\n",
       "</div>"
      ],
      "text/plain": [
       "               city  average_flights\n",
       "0            Абакан         3.870968\n",
       "1           Анадырь         1.000000\n",
       "2             Анапа         2.161290\n",
       "3       Архангельск         5.354839\n",
       "4         Астрахань         2.451613\n",
       "..              ...              ...\n",
       "96             Чита         1.580645\n",
       "97           Элиста         4.870968\n",
       "98   Южно-Сахалинск         4.290323\n",
       "99           Якутск         2.741935\n",
       "100       Ярославль         1.322581\n",
       "\n",
       "[101 rows x 2 columns]"
      ]
     },
     "execution_count": 5,
     "metadata": {},
     "output_type": "execute_result"
    }
   ],
   "source": [
    "# Посмотрим данные третьего запроса (среднее количество рейсов в город)\n",
    "df_query3"
   ]
  },
  {
   "cell_type": "code",
   "execution_count": 6,
   "metadata": {},
   "outputs": [
    {
     "name": "stdout",
     "output_type": "stream",
     "text": [
      "<class 'pandas.core.frame.DataFrame'>\n",
      "RangeIndex: 101 entries, 0 to 100\n",
      "Data columns (total 2 columns):\n",
      "city               101 non-null object\n",
      "average_flights    101 non-null float64\n",
      "dtypes: float64(1), object(1)\n",
      "memory usage: 1.7+ KB\n"
     ]
    }
   ],
   "source": [
    "# Проверим типы\n",
    "df_query3.info()"
   ]
  },
  {
   "cell_type": "code",
   "execution_count": 7,
   "metadata": {},
   "outputs": [
    {
     "data": {
      "text/html": [
       "<div>\n",
       "<style scoped>\n",
       "    .dataframe tbody tr th:only-of-type {\n",
       "        vertical-align: middle;\n",
       "    }\n",
       "\n",
       "    .dataframe tbody tr th {\n",
       "        vertical-align: top;\n",
       "    }\n",
       "\n",
       "    .dataframe thead th {\n",
       "        text-align: right;\n",
       "    }\n",
       "</style>\n",
       "<table border=\"1\" class=\"dataframe\">\n",
       "  <thead>\n",
       "    <tr style=\"text-align: right;\">\n",
       "      <th></th>\n",
       "      <th>week_number</th>\n",
       "      <th>ticket_amount</th>\n",
       "      <th>festival_week</th>\n",
       "      <th>festival_name</th>\n",
       "    </tr>\n",
       "  </thead>\n",
       "  <tbody>\n",
       "    <tr>\n",
       "      <td>0</td>\n",
       "      <td>30</td>\n",
       "      <td>43568</td>\n",
       "      <td>30.0</td>\n",
       "      <td>Park Live</td>\n",
       "    </tr>\n",
       "    <tr>\n",
       "      <td>1</td>\n",
       "      <td>31</td>\n",
       "      <td>51034</td>\n",
       "      <td>31.0</td>\n",
       "      <td>Пикник Афиши</td>\n",
       "    </tr>\n",
       "    <tr>\n",
       "      <td>2</td>\n",
       "      <td>32</td>\n",
       "      <td>51675</td>\n",
       "      <td>NaN</td>\n",
       "      <td>NaN</td>\n",
       "    </tr>\n",
       "    <tr>\n",
       "      <td>3</td>\n",
       "      <td>33</td>\n",
       "      <td>51378</td>\n",
       "      <td>NaN</td>\n",
       "      <td>NaN</td>\n",
       "    </tr>\n",
       "    <tr>\n",
       "      <td>4</td>\n",
       "      <td>34</td>\n",
       "      <td>51492</td>\n",
       "      <td>NaN</td>\n",
       "      <td>NaN</td>\n",
       "    </tr>\n",
       "    <tr>\n",
       "      <td>5</td>\n",
       "      <td>35</td>\n",
       "      <td>51360</td>\n",
       "      <td>NaN</td>\n",
       "      <td>NaN</td>\n",
       "    </tr>\n",
       "    <tr>\n",
       "      <td>6</td>\n",
       "      <td>36</td>\n",
       "      <td>51386</td>\n",
       "      <td>36.0</td>\n",
       "      <td>Видфест</td>\n",
       "    </tr>\n",
       "    <tr>\n",
       "      <td>7</td>\n",
       "      <td>37</td>\n",
       "      <td>51670</td>\n",
       "      <td>NaN</td>\n",
       "      <td>NaN</td>\n",
       "    </tr>\n",
       "    <tr>\n",
       "      <td>8</td>\n",
       "      <td>38</td>\n",
       "      <td>51518</td>\n",
       "      <td>NaN</td>\n",
       "      <td>NaN</td>\n",
       "    </tr>\n",
       "    <tr>\n",
       "      <td>9</td>\n",
       "      <td>39</td>\n",
       "      <td>51623</td>\n",
       "      <td>NaN</td>\n",
       "      <td>NaN</td>\n",
       "    </tr>\n",
       "  </tbody>\n",
       "</table>\n",
       "</div>"
      ],
      "text/plain": [
       "   week_number  ticket_amount  festival_week festival_name\n",
       "0           30          43568           30.0     Park Live\n",
       "1           31          51034           31.0  Пикник Афиши\n",
       "2           32          51675            NaN           NaN\n",
       "3           33          51378            NaN           NaN\n",
       "4           34          51492            NaN           NaN\n",
       "5           35          51360            NaN           NaN\n",
       "6           36          51386           36.0       Видфест\n",
       "7           37          51670            NaN           NaN\n",
       "8           38          51518            NaN           NaN\n",
       "9           39          51623            NaN           NaN"
      ]
     },
     "execution_count": 7,
     "metadata": {},
     "output_type": "execute_result"
    }
   ],
   "source": [
    "# Посмотрим данные последнего запроса (данные по купленным билетам в города по неделям с учетом того, был фестиваль или нет)\n",
    "df_query5"
   ]
  },
  {
   "cell_type": "code",
   "execution_count": 8,
   "metadata": {},
   "outputs": [
    {
     "name": "stdout",
     "output_type": "stream",
     "text": [
      "<class 'pandas.core.frame.DataFrame'>\n",
      "RangeIndex: 10 entries, 0 to 9\n",
      "Data columns (total 4 columns):\n",
      "week_number      10 non-null int64\n",
      "ticket_amount    10 non-null int64\n",
      "festival_week    3 non-null float64\n",
      "festival_name    3 non-null object\n",
      "dtypes: float64(1), int64(2), object(1)\n",
      "memory usage: 448.0+ bytes\n"
     ]
    }
   ],
   "source": [
    "# Проверим типы\n",
    "df_query5.info()"
   ]
  },
  {
   "cell_type": "code",
   "execution_count": 9,
   "metadata": {},
   "outputs": [
    {
     "name": "stdout",
     "output_type": "stream",
     "text": [
      "<class 'pandas.core.frame.DataFrame'>\n",
      "RangeIndex: 10 entries, 0 to 9\n",
      "Data columns (total 4 columns):\n",
      "week_number      10 non-null int64\n",
      "ticket_amount    10 non-null int64\n",
      "festival_week    3 non-null Int64\n",
      "festival_name    3 non-null object\n",
      "dtypes: Int64(1), int64(2), object(1)\n",
      "memory usage: 458.0+ bytes\n"
     ]
    }
   ],
   "source": [
    "# В последнем запросе неделя фестиваля float вместо int, преобразуем\n",
    "df_query5['festival_week'] = df_query5['festival_week'].astype('Int64')\n",
    "df_query5.info()"
   ]
  },
  {
   "cell_type": "code",
   "execution_count": 10,
   "metadata": {},
   "outputs": [
    {
     "data": {
      "text/html": [
       "<div>\n",
       "<style scoped>\n",
       "    .dataframe tbody tr th:only-of-type {\n",
       "        vertical-align: middle;\n",
       "    }\n",
       "\n",
       "    .dataframe tbody tr th {\n",
       "        vertical-align: top;\n",
       "    }\n",
       "\n",
       "    .dataframe thead th {\n",
       "        text-align: right;\n",
       "    }\n",
       "</style>\n",
       "<table border=\"1\" class=\"dataframe\">\n",
       "  <thead>\n",
       "    <tr style=\"text-align: right;\">\n",
       "      <th></th>\n",
       "      <th>city</th>\n",
       "      <th>average_flights</th>\n",
       "    </tr>\n",
       "  </thead>\n",
       "  <tbody>\n",
       "    <tr>\n",
       "      <td>43</td>\n",
       "      <td>Москва</td>\n",
       "      <td>129.774194</td>\n",
       "    </tr>\n",
       "    <tr>\n",
       "      <td>70</td>\n",
       "      <td>Санкт-Петербург</td>\n",
       "      <td>31.161290</td>\n",
       "    </tr>\n",
       "    <tr>\n",
       "      <td>54</td>\n",
       "      <td>Новосибирск</td>\n",
       "      <td>17.322581</td>\n",
       "    </tr>\n",
       "    <tr>\n",
       "      <td>33</td>\n",
       "      <td>Красноярск</td>\n",
       "      <td>11.580645</td>\n",
       "    </tr>\n",
       "    <tr>\n",
       "      <td>20</td>\n",
       "      <td>Екатеринбург</td>\n",
       "      <td>11.322581</td>\n",
       "    </tr>\n",
       "    <tr>\n",
       "      <td>67</td>\n",
       "      <td>Ростов-на-Дону</td>\n",
       "      <td>10.193548</td>\n",
       "    </tr>\n",
       "    <tr>\n",
       "      <td>63</td>\n",
       "      <td>Пермь</td>\n",
       "      <td>10.129032</td>\n",
       "    </tr>\n",
       "    <tr>\n",
       "      <td>10</td>\n",
       "      <td>Брянск</td>\n",
       "      <td>10.000000</td>\n",
       "    </tr>\n",
       "    <tr>\n",
       "      <td>74</td>\n",
       "      <td>Сочи</td>\n",
       "      <td>9.612903</td>\n",
       "    </tr>\n",
       "    <tr>\n",
       "      <td>84</td>\n",
       "      <td>Ульяновск</td>\n",
       "      <td>9.580645</td>\n",
       "    </tr>\n",
       "  </tbody>\n",
       "</table>\n",
       "</div>"
      ],
      "text/plain": [
       "               city  average_flights\n",
       "43           Москва       129.774194\n",
       "70  Санкт-Петербург        31.161290\n",
       "54      Новосибирск        17.322581\n",
       "33       Красноярск        11.580645\n",
       "20     Екатеринбург        11.322581\n",
       "67   Ростов-на-Дону        10.193548\n",
       "63            Пермь        10.129032\n",
       "10           Брянск        10.000000\n",
       "74             Сочи         9.612903\n",
       "84        Ульяновск         9.580645"
      ]
     },
     "execution_count": 10,
     "metadata": {},
     "output_type": "execute_result"
    }
   ],
   "source": [
    "#Выберем топ-10 городов по количеству рейсов\n",
    "top10_flights = df_query3.sort_values(by='average_flights', ascending=False).head(10)\n",
    "top10_flights"
   ]
  },
  {
   "cell_type": "code",
   "execution_count": 11,
   "metadata": {},
   "outputs": [
    {
     "data": {
      "text/plain": [
       "<matplotlib.axes._subplots.AxesSubplot at 0x7f43744501d0>"
      ]
     },
     "execution_count": 11,
     "metadata": {},
     "output_type": "execute_result"
    },
    {
     "data": {
      "image/png": "[encoded data removed]",
      "text/plain": [
       "<Figure size 1152x576 with 1 Axes>"
      ]
     },
     "metadata": {
      "needs_background": "light"
     },
     "output_type": "display_data"
    }
   ],
   "source": [
    "# Построим график модели самолётов и количество рейсов\n",
    "\n",
    "aircraft_flights = df_query1.sort_values(by='flights_amount', ascending=False).set_index('model')\n",
    "\n",
    "fig, ax = plt.subplots(1)\n",
    "ax.set_title('Распределение количества рейсов по самолетам')\n",
    "ax.set_xlabel('Модели самолетов')\n",
    "ax.set_ylabel('Количество рейсов')\n",
    "aircraft_flights.plot(kind='bar', figsize=(16,8), ax=ax)"
   ]
  },
  {
   "cell_type": "code",
   "execution_count": 12,
   "metadata": {},
   "outputs": [
    {
     "data": {
      "text/plain": [
       "<matplotlib.axes._subplots.AxesSubplot at 0x7f431d45a910>"
      ]
     },
     "execution_count": 12,
     "metadata": {},
     "output_type": "execute_result"
    },
    {
     "data": {
      "image/png": "[encoded data removed]",
      "text/plain": [
       "<Figure size 1152x576 with 1 Axes>"
      ]
     },
     "metadata": {
      "needs_background": "light"
     },
     "output_type": "display_data"
    }
   ],
   "source": [
    "# Построим график зависимости города и количество рейсов\n",
    "all_flights = df_query3.sort_values(by='average_flights', ascending=False).set_index('city')\n",
    "\n",
    "fig, ax = plt.subplots(1)\n",
    "ax.set_title('Распределение количества рейсов по городам')\n",
    "ax.set_xlabel('Город')\n",
    "ax.set_ylabel('Количество рейсов (в среднем)')\n",
    "all_flights.plot(kind='bar', figsize=(16,8), ax=ax)"
   ]
  },
  {
   "cell_type": "code",
   "execution_count": 13,
   "metadata": {},
   "outputs": [
    {
     "data": {
      "text/plain": [
       "<matplotlib.axes._subplots.AxesSubplot at 0x7f431c8ebc10>"
      ]
     },
     "execution_count": 13,
     "metadata": {},
     "output_type": "execute_result"
    },
    {
     "data": {
      "image/png": "[encoded data removed]",
      "text/plain": [
       "<Figure size 1152x576 with 1 Axes>"
      ]
     },
     "metadata": {
      "needs_background": "light"
     },
     "output_type": "display_data"
    }
   ],
   "source": [
    "# Изобразим на графике топ 10\n",
    "top10_flights = top10_flights.set_index('city')\n",
    "\n",
    "fig, ax = plt.subplots(1)\n",
    "ax.set_title('Распределение количества рейсов по городам')\n",
    "ax.set_xlabel('Город')\n",
    "ax.set_ylabel('Количество рейсов (в среднем)')\n",
    "top10_flights.plot(kind='bar', figsize=(16,8), ax=ax)"
   ]
  },
  {
   "cell_type": "markdown",
   "metadata": {},
   "source": [
    "### Промежуточный вывод\n",
    "\n",
    "    1. По графикам видно, что больше полетов у самолетов малой авиации и дальности\n",
    "    2. Больше всего рейсов именно в города-миллионники. Вообще, есть определенная корреляция между размером города и количеством рейсов. При этом Москва - безусловный лидер.\n",
    "    3. Исходя из первого и второго вывода, можно обобщить, что большинство перелетов осуществляется внутри страны, при этом большинство из них сконцентрировано на расстоянии от 1200 до 3000 км (судя по спецификациям самолетов) от Москвы, Санкт-Петербурга и Новосибирска"
   ]
  },
  {
   "cell_type": "markdown",
   "metadata": {},
   "source": [
    "# 2. Проверка гипотезы"
   ]
  },
  {
   "cell_type": "markdown",
   "metadata": {},
   "source": [
    "Проверим гипотезу: «Средний спрос на билеты во время фестивалей не отличается от среднего спроса на билеты в обычное время».\n",
    "\n",
    "Для начала сформулируем гипотезы H0 и H1.\n",
    "\n",
    "Гипотеза H0: Средний спрос на билеты во время фестивалей и в обычное время одинаковый (т.е. в среднем они не отличаются)\n",
    "Гипотеза H1: Средний спрос на билеты во время фестивалей и в обычное время различается (т.е. в среднем есть статистически значимые отличия)\n",
    "\n",
    "Сформулируем это в коде."
   ]
  },
  {
   "cell_type": "code",
   "execution_count": 14,
   "metadata": {},
   "outputs": [],
   "source": [
    "# Перенесем гипотезы в код\n",
    "H0 = 'Не можем отвергнуть гипотизу - средний спрос на билеты во время фестивалей и в обычное время одинаковый'\n",
    "H1 = 'Отвергаем нулевую гипотезу, средний спрос на билеты во время фестивалей и в обычное время различается'\n",
    "\n",
    "# Зададим критический уровень статистической значимости в 5%\n",
    "# Почему именно в 5 - как одно из широко применяемых значений, точность в 1% в наших вопросах нам не нужна\n",
    "alpha = 0.05 \n",
    "\n",
    "# Подготовим выборки\n",
    "df_festival = df_query5[df_query5['festival_week'].isna()]['ticket_amount']\n",
    "df_common = df_query5[df_query5['festival_week'].notna()]['ticket_amount']"
   ]
  },
  {
   "cell_type": "markdown",
   "metadata": {},
   "source": [
    "    Помня о https://drive.google.com/file/d/1SqcimkyF4iGjgT8Yhlmx-tOXV-ejmFev/view мы не можем использовать Т-криттерий стьюдента т.к. выборки сверхмалы и не распределены нормально. Поэтому будем использовать U-тест Манна-Уитни"
   ]
  },
  {
   "cell_type": "code",
   "execution_count": 15,
   "metadata": {},
   "outputs": [
    {
     "name": "stdout",
     "output_type": "stream",
     "text": [
      "Отвергаем нулевую гипотезу, средний спрос на билеты во время фестивалей и в обычное время различается\n"
     ]
    }
   ],
   "source": [
    "stat, p = mannwhitneyu(df_festival, df_common)\n",
    "if p > alpha:\n",
    "    print(H0)\n",
    "else:\n",
    "    print(H1)"
   ]
  },
  {
   "cell_type": "markdown",
   "metadata": {
    "pycharm": {
     "name": "#%% md\n"
    }
   },
   "source": [
    "# Вывод\n",
    "\n",
    "    Любопытно то, что Т-критетрий Стьюдента при equal_var=True гипотезу не отвергает, однако у нас действительно слишком мало данных, как для его использования, так и для проверки гипотез в целом. Поэтому тут боюсь делать какой-то однозначный вывод. В качестве итогового сделаю вывод о том, что для более корректной проверки гипотезы нам нужно больше данных.\n"
   ]
  }
 ],
 "metadata": {
  "kernelspec": {
   "display_name": "Python 3",
   "language": "python",
   "name": "python3"
  },
  "language_info": {
   "codemirror_mode": {
    "name": "ipython",
    "version": 3
   },
   "file_extension": ".py",
   "mimetype": "text/x-python",
   "name": "python",
   "nbconvert_exporter": "python",
   "pygments_lexer": "ipython3",
   "version": "3.7.8"
  },
  "toc": {
   "base_numbering": 1,
   "nav_menu": {},
   "number_sections": true,
   "sideBar": true,
   "skip_h1_title": true,
   "title_cell": "Table of Contents",
   "title_sidebar": "Contents",
   "toc_cell": false,
   "toc_position": {},
   "toc_section_display": true,
   "toc_window_display": false
  }
 },
 "nbformat": 4,
 "nbformat_minor": 2
}